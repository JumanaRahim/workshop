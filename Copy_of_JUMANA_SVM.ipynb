{
  "cells": [
    {
      "cell_type": "markdown",
      "metadata": {
        "id": "view-in-github",
        "colab_type": "text"
      },
      "source": [
        "<a href=\"https://colab.research.google.com/github/JumanaRahim/workshop/blob/master/Copy_of_JUMANA_SVM.ipynb\" target=\"_parent\"><img src=\"https://colab.research.google.com/assets/colab-badge.svg\" alt=\"Open In Colab\"/></a>"
      ]
    },
    {
      "cell_type": "code",
      "execution_count": 14,
      "metadata": {
        "id": "_Pj_FSNAhvBY",
        "colab": {
          "base_uri": "https://localhost:8080/"
        },
        "outputId": "5efb909f-237d-4326-eed9-bb150c819bdb"
      },
      "outputs": [
        {
          "output_type": "stream",
          "name": "stdout",
          "text": [
            "Drive already mounted at /content/drive; to attempt to forcibly remount, call drive.mount(\"/content/drive\", force_remount=True).\n"
          ]
        }
      ],
      "source": [
        "from google.colab import drive\n",
        "drive.mount('/content/drive')"
      ]
    },
    {
      "cell_type": "code",
      "execution_count": 15,
      "metadata": {
        "id": "TaMDzblmbNBT"
      },
      "outputs": [],
      "source": [
        "from sklearn.model_selection import train_test_split\n",
        "import pandas as pd\n",
        "import numpy as np\n",
        "import seaborn as sns\n",
        "from sklearn.preprocessing import LabelEncoder\n",
        "from tensorflow.keras.utils import to_categorical\n",
        "\n",
        "from sklearn.svm import SVC\n",
        "\n",
        "\n",
        "from sklearn.metrics import confusion_matrix, accuracy_score,classification_report\n",
        "import matplotlib.pyplot as plt\n",
        "\n",
        "\n",
        "from sklearn.datasets import make_classification\n",
        "from sklearn import metrics"
      ]
    },
    {
      "cell_type": "code",
      "execution_count": 16,
      "metadata": {
        "id": "Gy8IGOa_bQI9",
        "outputId": "a299facf-41e6-4cf4-f839-96ecb18d4152",
        "colab": {
          "base_uri": "https://localhost:8080/"
        }
      },
      "outputs": [
        {
          "output_type": "stream",
          "name": "stderr",
          "text": [
            "<ipython-input-16-bcd96fe01e14>:1: DtypeWarning: Columns (2048) have mixed types. Specify dtype option on import or set low_memory=False.\n",
            "  data = pd.read_csv(\"/content/drive/MyDrive/csv all/6500-features_bilstm_train (4).csv\")\n"
          ]
        }
      ],
      "source": [
        "data = pd.read_csv(\"/content/drive/MyDrive/csv all/6500-features_bilstm_train (4).csv\")"
      ]
    },
    {
      "cell_type": "code",
      "source": [
        "data = data[:6500]"
      ],
      "metadata": {
        "id": "yZhx-xIo0e5S"
      },
      "execution_count": 17,
      "outputs": []
    },
    {
      "cell_type": "code",
      "execution_count": 18,
      "metadata": {
        "id": "TqpB-6XOcJh6",
        "colab": {
          "base_uri": "https://localhost:8080/",
          "height": 540
        },
        "outputId": "191cfd1f-9396-4923-e131-df284f7f9819"
      },
      "outputs": [
        {
          "output_type": "execute_result",
          "data": {
            "text/plain": [
              "      feature_0  feature_1  feature_2  feature_3  feature_4  feature_5  \\\n",
              "0      1.671635   1.247548  -3.707781   0.854562   0.535234   4.885690   \n",
              "1     -1.659126  -0.243235   1.079076  -0.550394  -0.316553  -1.796846   \n",
              "2     -0.859179  -0.592448  -3.147495   1.428116  -0.894100   2.228792   \n",
              "3      1.187206   0.211070  -0.126817   0.559956   1.134729  -0.137076   \n",
              "4      0.301324  -0.021904  -0.002692  -0.079898   0.793380  -0.041666   \n",
              "...         ...        ...        ...        ...        ...        ...   \n",
              "6495  -1.451256   0.097534   0.462612  -0.769410  -0.652287  -1.309683   \n",
              "6496   1.671635   1.247548  -3.707781   0.854562   0.535234   4.885690   \n",
              "6497  -1.659126  -0.243235   1.079076  -0.550394  -0.316553  -1.796846   \n",
              "6498  -0.859179  -0.592448  -3.147495   1.428116  -0.894100   2.228792   \n",
              "6499   1.187206   0.211070  -0.126817   0.559956   1.134729  -0.137076   \n",
              "\n",
              "      feature_6  feature_7  feature_8  feature_9  ...  feature_2039  \\\n",
              "0      0.814341  -3.763716   0.152432  -0.793640  ...      0.373067   \n",
              "1      0.409488  -1.281389   0.120222  -0.504539  ...     -1.219192   \n",
              "2      1.297718  -0.563693   0.978313   0.271904  ...     -0.389597   \n",
              "3      0.568373  -2.818909   0.727778  -0.631632  ...     -0.093335   \n",
              "4      0.072046  -1.794549   0.296195  -0.400587  ...     -0.965708   \n",
              "...         ...        ...        ...        ...  ...           ...   \n",
              "6495   0.619584  -1.600125   0.097622  -0.565811  ...     -1.529840   \n",
              "6496   0.814341  -3.763716   0.152432  -0.793640  ...      0.373067   \n",
              "6497   0.409488  -1.281389   0.120222  -0.504539  ...     -1.219192   \n",
              "6498   1.297718  -0.563693   0.978313   0.271904  ...     -0.389597   \n",
              "6499   0.568373  -2.818909   0.727778  -0.631632  ...     -0.093335   \n",
              "\n",
              "      feature_2040  feature_2041  feature_2042  feature_2043  feature_2044  \\\n",
              "0         1.364600     -1.304008     -0.337862     -2.229231      2.402244   \n",
              "1        -0.162628     -0.257999     -0.425029      1.063659     -0.332706   \n",
              "2        -0.701721      0.226449     -1.189268     -1.042612      2.030346   \n",
              "3         0.761251     -0.617068     -1.376532     -0.726815      0.872411   \n",
              "4         0.254815     -0.448109     -0.837355     -0.003112      0.502651   \n",
              "...            ...           ...           ...           ...           ...   \n",
              "6495      0.032468     -0.371372     -0.356813      0.929851     -0.117711   \n",
              "6496      1.364600     -1.304008     -0.337862     -2.229231      2.402244   \n",
              "6497     -0.162628     -0.257999     -0.425029      1.063659     -0.332706   \n",
              "6498     -0.701721      0.226449     -1.189268     -1.042612      2.030346   \n",
              "6499      0.761251     -0.617068     -1.376532     -0.726815      0.872411   \n",
              "\n",
              "      feature_2045  feature_2046  feature_2047                label  \n",
              "0         0.958295     -1.005656     -1.726494         Tuberculosis  \n",
              "1         0.884623      0.476737     -1.157819               Normal  \n",
              "2         1.486454      0.612136      0.152113         Tuberculosis  \n",
              "3         0.045450     -0.375882     -1.466358  Bacterial Pneumonia  \n",
              "4         0.120440     -0.384911     -0.918134      Viral Pneumonia  \n",
              "...            ...           ...           ...                  ...  \n",
              "6495      0.818128      0.331770     -1.100549               Normal  \n",
              "6496      0.958295     -1.005656     -1.726494         Tuberculosis  \n",
              "6497      0.884623      0.476737     -1.157819               Normal  \n",
              "6498      1.486454      0.612136      0.152113         Tuberculosis  \n",
              "6499      0.045450     -0.375882     -1.466358  Bacterial Pneumonia  \n",
              "\n",
              "[6500 rows x 2049 columns]"
            ],
            "text/html": [
              "\n",
              "\n",
              "  <div id=\"df-45e7e3b2-fda0-4f88-806c-d8b697a1334d\">\n",
              "    <div class=\"colab-df-container\">\n",
              "      <div>\n",
              "<style scoped>\n",
              "    .dataframe tbody tr th:only-of-type {\n",
              "        vertical-align: middle;\n",
              "    }\n",
              "\n",
              "    .dataframe tbody tr th {\n",
              "        vertical-align: top;\n",
              "    }\n",
              "\n",
              "    .dataframe thead th {\n",
              "        text-align: right;\n",
              "    }\n",
              "</style>\n",
              "<table border=\"1\" class=\"dataframe\">\n",
              "  <thead>\n",
              "    <tr style=\"text-align: right;\">\n",
              "      <th></th>\n",
              "      <th>feature_0</th>\n",
              "      <th>feature_1</th>\n",
              "      <th>feature_2</th>\n",
              "      <th>feature_3</th>\n",
              "      <th>feature_4</th>\n",
              "      <th>feature_5</th>\n",
              "      <th>feature_6</th>\n",
              "      <th>feature_7</th>\n",
              "      <th>feature_8</th>\n",
              "      <th>feature_9</th>\n",
              "      <th>...</th>\n",
              "      <th>feature_2039</th>\n",
              "      <th>feature_2040</th>\n",
              "      <th>feature_2041</th>\n",
              "      <th>feature_2042</th>\n",
              "      <th>feature_2043</th>\n",
              "      <th>feature_2044</th>\n",
              "      <th>feature_2045</th>\n",
              "      <th>feature_2046</th>\n",
              "      <th>feature_2047</th>\n",
              "      <th>label</th>\n",
              "    </tr>\n",
              "  </thead>\n",
              "  <tbody>\n",
              "    <tr>\n",
              "      <th>0</th>\n",
              "      <td>1.671635</td>\n",
              "      <td>1.247548</td>\n",
              "      <td>-3.707781</td>\n",
              "      <td>0.854562</td>\n",
              "      <td>0.535234</td>\n",
              "      <td>4.885690</td>\n",
              "      <td>0.814341</td>\n",
              "      <td>-3.763716</td>\n",
              "      <td>0.152432</td>\n",
              "      <td>-0.793640</td>\n",
              "      <td>...</td>\n",
              "      <td>0.373067</td>\n",
              "      <td>1.364600</td>\n",
              "      <td>-1.304008</td>\n",
              "      <td>-0.337862</td>\n",
              "      <td>-2.229231</td>\n",
              "      <td>2.402244</td>\n",
              "      <td>0.958295</td>\n",
              "      <td>-1.005656</td>\n",
              "      <td>-1.726494</td>\n",
              "      <td>Tuberculosis</td>\n",
              "    </tr>\n",
              "    <tr>\n",
              "      <th>1</th>\n",
              "      <td>-1.659126</td>\n",
              "      <td>-0.243235</td>\n",
              "      <td>1.079076</td>\n",
              "      <td>-0.550394</td>\n",
              "      <td>-0.316553</td>\n",
              "      <td>-1.796846</td>\n",
              "      <td>0.409488</td>\n",
              "      <td>-1.281389</td>\n",
              "      <td>0.120222</td>\n",
              "      <td>-0.504539</td>\n",
              "      <td>...</td>\n",
              "      <td>-1.219192</td>\n",
              "      <td>-0.162628</td>\n",
              "      <td>-0.257999</td>\n",
              "      <td>-0.425029</td>\n",
              "      <td>1.063659</td>\n",
              "      <td>-0.332706</td>\n",
              "      <td>0.884623</td>\n",
              "      <td>0.476737</td>\n",
              "      <td>-1.157819</td>\n",
              "      <td>Normal</td>\n",
              "    </tr>\n",
              "    <tr>\n",
              "      <th>2</th>\n",
              "      <td>-0.859179</td>\n",
              "      <td>-0.592448</td>\n",
              "      <td>-3.147495</td>\n",
              "      <td>1.428116</td>\n",
              "      <td>-0.894100</td>\n",
              "      <td>2.228792</td>\n",
              "      <td>1.297718</td>\n",
              "      <td>-0.563693</td>\n",
              "      <td>0.978313</td>\n",
              "      <td>0.271904</td>\n",
              "      <td>...</td>\n",
              "      <td>-0.389597</td>\n",
              "      <td>-0.701721</td>\n",
              "      <td>0.226449</td>\n",
              "      <td>-1.189268</td>\n",
              "      <td>-1.042612</td>\n",
              "      <td>2.030346</td>\n",
              "      <td>1.486454</td>\n",
              "      <td>0.612136</td>\n",
              "      <td>0.152113</td>\n",
              "      <td>Tuberculosis</td>\n",
              "    </tr>\n",
              "    <tr>\n",
              "      <th>3</th>\n",
              "      <td>1.187206</td>\n",
              "      <td>0.211070</td>\n",
              "      <td>-0.126817</td>\n",
              "      <td>0.559956</td>\n",
              "      <td>1.134729</td>\n",
              "      <td>-0.137076</td>\n",
              "      <td>0.568373</td>\n",
              "      <td>-2.818909</td>\n",
              "      <td>0.727778</td>\n",
              "      <td>-0.631632</td>\n",
              "      <td>...</td>\n",
              "      <td>-0.093335</td>\n",
              "      <td>0.761251</td>\n",
              "      <td>-0.617068</td>\n",
              "      <td>-1.376532</td>\n",
              "      <td>-0.726815</td>\n",
              "      <td>0.872411</td>\n",
              "      <td>0.045450</td>\n",
              "      <td>-0.375882</td>\n",
              "      <td>-1.466358</td>\n",
              "      <td>Bacterial Pneumonia</td>\n",
              "    </tr>\n",
              "    <tr>\n",
              "      <th>4</th>\n",
              "      <td>0.301324</td>\n",
              "      <td>-0.021904</td>\n",
              "      <td>-0.002692</td>\n",
              "      <td>-0.079898</td>\n",
              "      <td>0.793380</td>\n",
              "      <td>-0.041666</td>\n",
              "      <td>0.072046</td>\n",
              "      <td>-1.794549</td>\n",
              "      <td>0.296195</td>\n",
              "      <td>-0.400587</td>\n",
              "      <td>...</td>\n",
              "      <td>-0.965708</td>\n",
              "      <td>0.254815</td>\n",
              "      <td>-0.448109</td>\n",
              "      <td>-0.837355</td>\n",
              "      <td>-0.003112</td>\n",
              "      <td>0.502651</td>\n",
              "      <td>0.120440</td>\n",
              "      <td>-0.384911</td>\n",
              "      <td>-0.918134</td>\n",
              "      <td>Viral Pneumonia</td>\n",
              "    </tr>\n",
              "    <tr>\n",
              "      <th>...</th>\n",
              "      <td>...</td>\n",
              "      <td>...</td>\n",
              "      <td>...</td>\n",
              "      <td>...</td>\n",
              "      <td>...</td>\n",
              "      <td>...</td>\n",
              "      <td>...</td>\n",
              "      <td>...</td>\n",
              "      <td>...</td>\n",
              "      <td>...</td>\n",
              "      <td>...</td>\n",
              "      <td>...</td>\n",
              "      <td>...</td>\n",
              "      <td>...</td>\n",
              "      <td>...</td>\n",
              "      <td>...</td>\n",
              "      <td>...</td>\n",
              "      <td>...</td>\n",
              "      <td>...</td>\n",
              "      <td>...</td>\n",
              "      <td>...</td>\n",
              "    </tr>\n",
              "    <tr>\n",
              "      <th>6495</th>\n",
              "      <td>-1.451256</td>\n",
              "      <td>0.097534</td>\n",
              "      <td>0.462612</td>\n",
              "      <td>-0.769410</td>\n",
              "      <td>-0.652287</td>\n",
              "      <td>-1.309683</td>\n",
              "      <td>0.619584</td>\n",
              "      <td>-1.600125</td>\n",
              "      <td>0.097622</td>\n",
              "      <td>-0.565811</td>\n",
              "      <td>...</td>\n",
              "      <td>-1.529840</td>\n",
              "      <td>0.032468</td>\n",
              "      <td>-0.371372</td>\n",
              "      <td>-0.356813</td>\n",
              "      <td>0.929851</td>\n",
              "      <td>-0.117711</td>\n",
              "      <td>0.818128</td>\n",
              "      <td>0.331770</td>\n",
              "      <td>-1.100549</td>\n",
              "      <td>Normal</td>\n",
              "    </tr>\n",
              "    <tr>\n",
              "      <th>6496</th>\n",
              "      <td>1.671635</td>\n",
              "      <td>1.247548</td>\n",
              "      <td>-3.707781</td>\n",
              "      <td>0.854562</td>\n",
              "      <td>0.535234</td>\n",
              "      <td>4.885690</td>\n",
              "      <td>0.814341</td>\n",
              "      <td>-3.763716</td>\n",
              "      <td>0.152432</td>\n",
              "      <td>-0.793640</td>\n",
              "      <td>...</td>\n",
              "      <td>0.373067</td>\n",
              "      <td>1.364600</td>\n",
              "      <td>-1.304008</td>\n",
              "      <td>-0.337862</td>\n",
              "      <td>-2.229231</td>\n",
              "      <td>2.402244</td>\n",
              "      <td>0.958295</td>\n",
              "      <td>-1.005656</td>\n",
              "      <td>-1.726494</td>\n",
              "      <td>Tuberculosis</td>\n",
              "    </tr>\n",
              "    <tr>\n",
              "      <th>6497</th>\n",
              "      <td>-1.659126</td>\n",
              "      <td>-0.243235</td>\n",
              "      <td>1.079076</td>\n",
              "      <td>-0.550394</td>\n",
              "      <td>-0.316553</td>\n",
              "      <td>-1.796846</td>\n",
              "      <td>0.409488</td>\n",
              "      <td>-1.281389</td>\n",
              "      <td>0.120222</td>\n",
              "      <td>-0.504539</td>\n",
              "      <td>...</td>\n",
              "      <td>-1.219192</td>\n",
              "      <td>-0.162628</td>\n",
              "      <td>-0.257999</td>\n",
              "      <td>-0.425029</td>\n",
              "      <td>1.063659</td>\n",
              "      <td>-0.332706</td>\n",
              "      <td>0.884623</td>\n",
              "      <td>0.476737</td>\n",
              "      <td>-1.157819</td>\n",
              "      <td>Normal</td>\n",
              "    </tr>\n",
              "    <tr>\n",
              "      <th>6498</th>\n",
              "      <td>-0.859179</td>\n",
              "      <td>-0.592448</td>\n",
              "      <td>-3.147495</td>\n",
              "      <td>1.428116</td>\n",
              "      <td>-0.894100</td>\n",
              "      <td>2.228792</td>\n",
              "      <td>1.297718</td>\n",
              "      <td>-0.563693</td>\n",
              "      <td>0.978313</td>\n",
              "      <td>0.271904</td>\n",
              "      <td>...</td>\n",
              "      <td>-0.389597</td>\n",
              "      <td>-0.701721</td>\n",
              "      <td>0.226449</td>\n",
              "      <td>-1.189268</td>\n",
              "      <td>-1.042612</td>\n",
              "      <td>2.030346</td>\n",
              "      <td>1.486454</td>\n",
              "      <td>0.612136</td>\n",
              "      <td>0.152113</td>\n",
              "      <td>Tuberculosis</td>\n",
              "    </tr>\n",
              "    <tr>\n",
              "      <th>6499</th>\n",
              "      <td>1.187206</td>\n",
              "      <td>0.211070</td>\n",
              "      <td>-0.126817</td>\n",
              "      <td>0.559956</td>\n",
              "      <td>1.134729</td>\n",
              "      <td>-0.137076</td>\n",
              "      <td>0.568373</td>\n",
              "      <td>-2.818909</td>\n",
              "      <td>0.727778</td>\n",
              "      <td>-0.631632</td>\n",
              "      <td>...</td>\n",
              "      <td>-0.093335</td>\n",
              "      <td>0.761251</td>\n",
              "      <td>-0.617068</td>\n",
              "      <td>-1.376532</td>\n",
              "      <td>-0.726815</td>\n",
              "      <td>0.872411</td>\n",
              "      <td>0.045450</td>\n",
              "      <td>-0.375882</td>\n",
              "      <td>-1.466358</td>\n",
              "      <td>Bacterial Pneumonia</td>\n",
              "    </tr>\n",
              "  </tbody>\n",
              "</table>\n",
              "<p>6500 rows × 2049 columns</p>\n",
              "</div>\n",
              "      <button class=\"colab-df-convert\" onclick=\"convertToInteractive('df-45e7e3b2-fda0-4f88-806c-d8b697a1334d')\"\n",
              "              title=\"Convert this dataframe to an interactive table.\"\n",
              "              style=\"display:none;\">\n",
              "\n",
              "  <svg xmlns=\"http://www.w3.org/2000/svg\" height=\"24px\"viewBox=\"0 0 24 24\"\n",
              "       width=\"24px\">\n",
              "    <path d=\"M0 0h24v24H0V0z\" fill=\"none\"/>\n",
              "    <path d=\"M18.56 5.44l.94 2.06.94-2.06 2.06-.94-2.06-.94-.94-2.06-.94 2.06-2.06.94zm-11 1L8.5 8.5l.94-2.06 2.06-.94-2.06-.94L8.5 2.5l-.94 2.06-2.06.94zm10 10l.94 2.06.94-2.06 2.06-.94-2.06-.94-.94-2.06-.94 2.06-2.06.94z\"/><path d=\"M17.41 7.96l-1.37-1.37c-.4-.4-.92-.59-1.43-.59-.52 0-1.04.2-1.43.59L10.3 9.45l-7.72 7.72c-.78.78-.78 2.05 0 2.83L4 21.41c.39.39.9.59 1.41.59.51 0 1.02-.2 1.41-.59l7.78-7.78 2.81-2.81c.8-.78.8-2.07 0-2.86zM5.41 20L4 18.59l7.72-7.72 1.47 1.35L5.41 20z\"/>\n",
              "  </svg>\n",
              "      </button>\n",
              "\n",
              "\n",
              "\n",
              "    <div id=\"df-3df88e3e-00f1-4d97-9f2d-8e2f3876d3a2\">\n",
              "      <button class=\"colab-df-quickchart\" onclick=\"quickchart('df-3df88e3e-00f1-4d97-9f2d-8e2f3876d3a2')\"\n",
              "              title=\"Suggest charts.\"\n",
              "              style=\"display:none;\">\n",
              "\n",
              "<svg xmlns=\"http://www.w3.org/2000/svg\" height=\"24px\"viewBox=\"0 0 24 24\"\n",
              "     width=\"24px\">\n",
              "    <g>\n",
              "        <path d=\"M19 3H5c-1.1 0-2 .9-2 2v14c0 1.1.9 2 2 2h14c1.1 0 2-.9 2-2V5c0-1.1-.9-2-2-2zM9 17H7v-7h2v7zm4 0h-2V7h2v10zm4 0h-2v-4h2v4z\"/>\n",
              "    </g>\n",
              "</svg>\n",
              "      </button>\n",
              "    </div>\n",
              "\n",
              "<style>\n",
              "  .colab-df-quickchart {\n",
              "    background-color: #E8F0FE;\n",
              "    border: none;\n",
              "    border-radius: 50%;\n",
              "    cursor: pointer;\n",
              "    display: none;\n",
              "    fill: #1967D2;\n",
              "    height: 32px;\n",
              "    padding: 0 0 0 0;\n",
              "    width: 32px;\n",
              "  }\n",
              "\n",
              "  .colab-df-quickchart:hover {\n",
              "    background-color: #E2EBFA;\n",
              "    box-shadow: 0px 1px 2px rgba(60, 64, 67, 0.3), 0px 1px 3px 1px rgba(60, 64, 67, 0.15);\n",
              "    fill: #174EA6;\n",
              "  }\n",
              "\n",
              "  [theme=dark] .colab-df-quickchart {\n",
              "    background-color: #3B4455;\n",
              "    fill: #D2E3FC;\n",
              "  }\n",
              "\n",
              "  [theme=dark] .colab-df-quickchart:hover {\n",
              "    background-color: #434B5C;\n",
              "    box-shadow: 0px 1px 3px 1px rgba(0, 0, 0, 0.15);\n",
              "    filter: drop-shadow(0px 1px 2px rgba(0, 0, 0, 0.3));\n",
              "    fill: #FFFFFF;\n",
              "  }\n",
              "</style>\n",
              "\n",
              "    <script>\n",
              "      async function quickchart(key) {\n",
              "        const containerElement = document.querySelector('#' + key);\n",
              "        const charts = await google.colab.kernel.invokeFunction(\n",
              "            'suggestCharts', [key], {});\n",
              "      }\n",
              "    </script>\n",
              "\n",
              "      <script>\n",
              "\n",
              "function displayQuickchartButton(domScope) {\n",
              "  let quickchartButtonEl =\n",
              "    domScope.querySelector('#df-3df88e3e-00f1-4d97-9f2d-8e2f3876d3a2 button.colab-df-quickchart');\n",
              "  quickchartButtonEl.style.display =\n",
              "    google.colab.kernel.accessAllowed ? 'block' : 'none';\n",
              "}\n",
              "\n",
              "        displayQuickchartButton(document);\n",
              "      </script>\n",
              "      <style>\n",
              "    .colab-df-container {\n",
              "      display:flex;\n",
              "      flex-wrap:wrap;\n",
              "      gap: 12px;\n",
              "    }\n",
              "\n",
              "    .colab-df-convert {\n",
              "      background-color: #E8F0FE;\n",
              "      border: none;\n",
              "      border-radius: 50%;\n",
              "      cursor: pointer;\n",
              "      display: none;\n",
              "      fill: #1967D2;\n",
              "      height: 32px;\n",
              "      padding: 0 0 0 0;\n",
              "      width: 32px;\n",
              "    }\n",
              "\n",
              "    .colab-df-convert:hover {\n",
              "      background-color: #E2EBFA;\n",
              "      box-shadow: 0px 1px 2px rgba(60, 64, 67, 0.3), 0px 1px 3px 1px rgba(60, 64, 67, 0.15);\n",
              "      fill: #174EA6;\n",
              "    }\n",
              "\n",
              "    [theme=dark] .colab-df-convert {\n",
              "      background-color: #3B4455;\n",
              "      fill: #D2E3FC;\n",
              "    }\n",
              "\n",
              "    [theme=dark] .colab-df-convert:hover {\n",
              "      background-color: #434B5C;\n",
              "      box-shadow: 0px 1px 3px 1px rgba(0, 0, 0, 0.15);\n",
              "      filter: drop-shadow(0px 1px 2px rgba(0, 0, 0, 0.3));\n",
              "      fill: #FFFFFF;\n",
              "    }\n",
              "  </style>\n",
              "\n",
              "      <script>\n",
              "        const buttonEl =\n",
              "          document.querySelector('#df-45e7e3b2-fda0-4f88-806c-d8b697a1334d button.colab-df-convert');\n",
              "        buttonEl.style.display =\n",
              "          google.colab.kernel.accessAllowed ? 'block' : 'none';\n",
              "\n",
              "        async function convertToInteractive(key) {\n",
              "          const element = document.querySelector('#df-45e7e3b2-fda0-4f88-806c-d8b697a1334d');\n",
              "          const dataTable =\n",
              "            await google.colab.kernel.invokeFunction('convertToInteractive',\n",
              "                                                     [key], {});\n",
              "          if (!dataTable) return;\n",
              "\n",
              "          const docLinkHtml = 'Like what you see? Visit the ' +\n",
              "            '<a target=\"_blank\" href=https://colab.research.google.com/notebooks/data_table.ipynb>data table notebook</a>'\n",
              "            + ' to learn more about interactive tables.';\n",
              "          element.innerHTML = '';\n",
              "          dataTable['output_type'] = 'display_data';\n",
              "          await google.colab.output.renderOutput(dataTable, element);\n",
              "          const docLink = document.createElement('div');\n",
              "          docLink.innerHTML = docLinkHtml;\n",
              "          element.appendChild(docLink);\n",
              "        }\n",
              "      </script>\n",
              "    </div>\n",
              "  </div>\n"
            ]
          },
          "metadata": {},
          "execution_count": 18
        }
      ],
      "source": [
        "data"
      ]
    },
    {
      "cell_type": "code",
      "execution_count": 19,
      "metadata": {
        "id": "ocdb1juvcMwB"
      },
      "outputs": [],
      "source": [
        "y = data['label']"
      ]
    },
    {
      "cell_type": "code",
      "execution_count": 20,
      "metadata": {
        "id": "IDX_IWX5cPEn",
        "colab": {
          "base_uri": "https://localhost:8080/"
        },
        "outputId": "a7fac1b6-95e0-4957-c1f8-2be4953b1c37"
      },
      "outputs": [
        {
          "output_type": "execute_result",
          "data": {
            "text/plain": [
              "0              Tuberculosis\n",
              "1                    Normal\n",
              "2              Tuberculosis\n",
              "3       Bacterial Pneumonia\n",
              "4           Viral Pneumonia\n",
              "               ...         \n",
              "6495                 Normal\n",
              "6496           Tuberculosis\n",
              "6497                 Normal\n",
              "6498           Tuberculosis\n",
              "6499    Bacterial Pneumonia\n",
              "Name: label, Length: 6500, dtype: object"
            ]
          },
          "metadata": {},
          "execution_count": 20
        }
      ],
      "source": [
        "y"
      ]
    },
    {
      "cell_type": "code",
      "execution_count": 21,
      "metadata": {
        "id": "Qi8JEr93cQ2T",
        "colab": {
          "base_uri": "https://localhost:8080/"
        },
        "outputId": "9aeb7c33-d234-4e44-95c4-cae0c44751be"
      },
      "outputs": [
        {
          "output_type": "stream",
          "name": "stdout",
          "text": [
            "['Bacterial Pneumonia' 'Corona Virus Disease' 'Normal' 'Tuberculosis'\n",
            " 'Viral Pneumonia']\n"
          ]
        }
      ],
      "source": [
        "print(np.unique(y))"
      ]
    },
    {
      "cell_type": "code",
      "execution_count": 22,
      "metadata": {
        "id": "01LamzzEcUp6"
      },
      "outputs": [],
      "source": [
        "X = data.drop(['label'], axis=1)"
      ]
    },
    {
      "cell_type": "code",
      "execution_count": 23,
      "metadata": {
        "id": "iB87qPMccV_x",
        "colab": {
          "base_uri": "https://localhost:8080/",
          "height": 488
        },
        "outputId": "9ee7d8dc-942f-4e30-c1f4-725a57cdf2ef"
      },
      "outputs": [
        {
          "output_type": "execute_result",
          "data": {
            "text/plain": [
              "      feature_0  feature_1  feature_2  feature_3  feature_4  feature_5  \\\n",
              "0      1.671635   1.247548  -3.707781   0.854562   0.535234   4.885690   \n",
              "1     -1.659126  -0.243235   1.079076  -0.550394  -0.316553  -1.796846   \n",
              "2     -0.859179  -0.592448  -3.147495   1.428116  -0.894100   2.228792   \n",
              "3      1.187206   0.211070  -0.126817   0.559956   1.134729  -0.137076   \n",
              "4      0.301324  -0.021904  -0.002692  -0.079898   0.793380  -0.041666   \n",
              "...         ...        ...        ...        ...        ...        ...   \n",
              "6495  -1.451256   0.097534   0.462612  -0.769410  -0.652287  -1.309683   \n",
              "6496   1.671635   1.247548  -3.707781   0.854562   0.535234   4.885690   \n",
              "6497  -1.659126  -0.243235   1.079076  -0.550394  -0.316553  -1.796846   \n",
              "6498  -0.859179  -0.592448  -3.147495   1.428116  -0.894100   2.228792   \n",
              "6499   1.187206   0.211070  -0.126817   0.559956   1.134729  -0.137076   \n",
              "\n",
              "      feature_6  feature_7  feature_8  feature_9  ...  feature_2038  \\\n",
              "0      0.814341  -3.763716   0.152432  -0.793640  ...     -2.042422   \n",
              "1      0.409488  -1.281389   0.120222  -0.504539  ...     -0.235365   \n",
              "2      1.297718  -0.563693   0.978313   0.271904  ...      0.021831   \n",
              "3      0.568373  -2.818909   0.727778  -0.631632  ...     -0.411535   \n",
              "4      0.072046  -1.794549   0.296195  -0.400587  ...     -0.572141   \n",
              "...         ...        ...        ...        ...  ...           ...   \n",
              "6495   0.619584  -1.600125   0.097622  -0.565811  ...     -0.606055   \n",
              "6496   0.814341  -3.763716   0.152432  -0.793640  ...     -2.042422   \n",
              "6497   0.409488  -1.281389   0.120222  -0.504539  ...     -0.235365   \n",
              "6498   1.297718  -0.563693   0.978313   0.271904  ...      0.021831   \n",
              "6499   0.568373  -2.818909   0.727778  -0.631632  ...     -0.411535   \n",
              "\n",
              "      feature_2039  feature_2040  feature_2041  feature_2042  feature_2043  \\\n",
              "0         0.373067      1.364600     -1.304008     -0.337862     -2.229231   \n",
              "1        -1.219192     -0.162628     -0.257999     -0.425029      1.063659   \n",
              "2        -0.389597     -0.701721      0.226449     -1.189268     -1.042612   \n",
              "3        -0.093335      0.761251     -0.617068     -1.376532     -0.726815   \n",
              "4        -0.965708      0.254815     -0.448109     -0.837355     -0.003112   \n",
              "...            ...           ...           ...           ...           ...   \n",
              "6495     -1.529840      0.032468     -0.371372     -0.356813      0.929851   \n",
              "6496      0.373067      1.364600     -1.304008     -0.337862     -2.229231   \n",
              "6497     -1.219192     -0.162628     -0.257999     -0.425029      1.063659   \n",
              "6498     -0.389597     -0.701721      0.226449     -1.189268     -1.042612   \n",
              "6499     -0.093335      0.761251     -0.617068     -1.376532     -0.726815   \n",
              "\n",
              "      feature_2044  feature_2045  feature_2046  feature_2047  \n",
              "0         2.402244      0.958295     -1.005656     -1.726494  \n",
              "1        -0.332706      0.884623      0.476737     -1.157819  \n",
              "2         2.030346      1.486454      0.612136      0.152113  \n",
              "3         0.872411      0.045450     -0.375882     -1.466358  \n",
              "4         0.502651      0.120440     -0.384911     -0.918134  \n",
              "...            ...           ...           ...           ...  \n",
              "6495     -0.117711      0.818128      0.331770     -1.100549  \n",
              "6496      2.402244      0.958295     -1.005656     -1.726494  \n",
              "6497     -0.332706      0.884623      0.476737     -1.157819  \n",
              "6498      2.030346      1.486454      0.612136      0.152113  \n",
              "6499      0.872411      0.045450     -0.375882     -1.466358  \n",
              "\n",
              "[6500 rows x 2048 columns]"
            ],
            "text/html": [
              "\n",
              "\n",
              "  <div id=\"df-b8821c28-28bc-4349-a01b-f5d22f422bbe\">\n",
              "    <div class=\"colab-df-container\">\n",
              "      <div>\n",
              "<style scoped>\n",
              "    .dataframe tbody tr th:only-of-type {\n",
              "        vertical-align: middle;\n",
              "    }\n",
              "\n",
              "    .dataframe tbody tr th {\n",
              "        vertical-align: top;\n",
              "    }\n",
              "\n",
              "    .dataframe thead th {\n",
              "        text-align: right;\n",
              "    }\n",
              "</style>\n",
              "<table border=\"1\" class=\"dataframe\">\n",
              "  <thead>\n",
              "    <tr style=\"text-align: right;\">\n",
              "      <th></th>\n",
              "      <th>feature_0</th>\n",
              "      <th>feature_1</th>\n",
              "      <th>feature_2</th>\n",
              "      <th>feature_3</th>\n",
              "      <th>feature_4</th>\n",
              "      <th>feature_5</th>\n",
              "      <th>feature_6</th>\n",
              "      <th>feature_7</th>\n",
              "      <th>feature_8</th>\n",
              "      <th>feature_9</th>\n",
              "      <th>...</th>\n",
              "      <th>feature_2038</th>\n",
              "      <th>feature_2039</th>\n",
              "      <th>feature_2040</th>\n",
              "      <th>feature_2041</th>\n",
              "      <th>feature_2042</th>\n",
              "      <th>feature_2043</th>\n",
              "      <th>feature_2044</th>\n",
              "      <th>feature_2045</th>\n",
              "      <th>feature_2046</th>\n",
              "      <th>feature_2047</th>\n",
              "    </tr>\n",
              "  </thead>\n",
              "  <tbody>\n",
              "    <tr>\n",
              "      <th>0</th>\n",
              "      <td>1.671635</td>\n",
              "      <td>1.247548</td>\n",
              "      <td>-3.707781</td>\n",
              "      <td>0.854562</td>\n",
              "      <td>0.535234</td>\n",
              "      <td>4.885690</td>\n",
              "      <td>0.814341</td>\n",
              "      <td>-3.763716</td>\n",
              "      <td>0.152432</td>\n",
              "      <td>-0.793640</td>\n",
              "      <td>...</td>\n",
              "      <td>-2.042422</td>\n",
              "      <td>0.373067</td>\n",
              "      <td>1.364600</td>\n",
              "      <td>-1.304008</td>\n",
              "      <td>-0.337862</td>\n",
              "      <td>-2.229231</td>\n",
              "      <td>2.402244</td>\n",
              "      <td>0.958295</td>\n",
              "      <td>-1.005656</td>\n",
              "      <td>-1.726494</td>\n",
              "    </tr>\n",
              "    <tr>\n",
              "      <th>1</th>\n",
              "      <td>-1.659126</td>\n",
              "      <td>-0.243235</td>\n",
              "      <td>1.079076</td>\n",
              "      <td>-0.550394</td>\n",
              "      <td>-0.316553</td>\n",
              "      <td>-1.796846</td>\n",
              "      <td>0.409488</td>\n",
              "      <td>-1.281389</td>\n",
              "      <td>0.120222</td>\n",
              "      <td>-0.504539</td>\n",
              "      <td>...</td>\n",
              "      <td>-0.235365</td>\n",
              "      <td>-1.219192</td>\n",
              "      <td>-0.162628</td>\n",
              "      <td>-0.257999</td>\n",
              "      <td>-0.425029</td>\n",
              "      <td>1.063659</td>\n",
              "      <td>-0.332706</td>\n",
              "      <td>0.884623</td>\n",
              "      <td>0.476737</td>\n",
              "      <td>-1.157819</td>\n",
              "    </tr>\n",
              "    <tr>\n",
              "      <th>2</th>\n",
              "      <td>-0.859179</td>\n",
              "      <td>-0.592448</td>\n",
              "      <td>-3.147495</td>\n",
              "      <td>1.428116</td>\n",
              "      <td>-0.894100</td>\n",
              "      <td>2.228792</td>\n",
              "      <td>1.297718</td>\n",
              "      <td>-0.563693</td>\n",
              "      <td>0.978313</td>\n",
              "      <td>0.271904</td>\n",
              "      <td>...</td>\n",
              "      <td>0.021831</td>\n",
              "      <td>-0.389597</td>\n",
              "      <td>-0.701721</td>\n",
              "      <td>0.226449</td>\n",
              "      <td>-1.189268</td>\n",
              "      <td>-1.042612</td>\n",
              "      <td>2.030346</td>\n",
              "      <td>1.486454</td>\n",
              "      <td>0.612136</td>\n",
              "      <td>0.152113</td>\n",
              "    </tr>\n",
              "    <tr>\n",
              "      <th>3</th>\n",
              "      <td>1.187206</td>\n",
              "      <td>0.211070</td>\n",
              "      <td>-0.126817</td>\n",
              "      <td>0.559956</td>\n",
              "      <td>1.134729</td>\n",
              "      <td>-0.137076</td>\n",
              "      <td>0.568373</td>\n",
              "      <td>-2.818909</td>\n",
              "      <td>0.727778</td>\n",
              "      <td>-0.631632</td>\n",
              "      <td>...</td>\n",
              "      <td>-0.411535</td>\n",
              "      <td>-0.093335</td>\n",
              "      <td>0.761251</td>\n",
              "      <td>-0.617068</td>\n",
              "      <td>-1.376532</td>\n",
              "      <td>-0.726815</td>\n",
              "      <td>0.872411</td>\n",
              "      <td>0.045450</td>\n",
              "      <td>-0.375882</td>\n",
              "      <td>-1.466358</td>\n",
              "    </tr>\n",
              "    <tr>\n",
              "      <th>4</th>\n",
              "      <td>0.301324</td>\n",
              "      <td>-0.021904</td>\n",
              "      <td>-0.002692</td>\n",
              "      <td>-0.079898</td>\n",
              "      <td>0.793380</td>\n",
              "      <td>-0.041666</td>\n",
              "      <td>0.072046</td>\n",
              "      <td>-1.794549</td>\n",
              "      <td>0.296195</td>\n",
              "      <td>-0.400587</td>\n",
              "      <td>...</td>\n",
              "      <td>-0.572141</td>\n",
              "      <td>-0.965708</td>\n",
              "      <td>0.254815</td>\n",
              "      <td>-0.448109</td>\n",
              "      <td>-0.837355</td>\n",
              "      <td>-0.003112</td>\n",
              "      <td>0.502651</td>\n",
              "      <td>0.120440</td>\n",
              "      <td>-0.384911</td>\n",
              "      <td>-0.918134</td>\n",
              "    </tr>\n",
              "    <tr>\n",
              "      <th>...</th>\n",
              "      <td>...</td>\n",
              "      <td>...</td>\n",
              "      <td>...</td>\n",
              "      <td>...</td>\n",
              "      <td>...</td>\n",
              "      <td>...</td>\n",
              "      <td>...</td>\n",
              "      <td>...</td>\n",
              "      <td>...</td>\n",
              "      <td>...</td>\n",
              "      <td>...</td>\n",
              "      <td>...</td>\n",
              "      <td>...</td>\n",
              "      <td>...</td>\n",
              "      <td>...</td>\n",
              "      <td>...</td>\n",
              "      <td>...</td>\n",
              "      <td>...</td>\n",
              "      <td>...</td>\n",
              "      <td>...</td>\n",
              "      <td>...</td>\n",
              "    </tr>\n",
              "    <tr>\n",
              "      <th>6495</th>\n",
              "      <td>-1.451256</td>\n",
              "      <td>0.097534</td>\n",
              "      <td>0.462612</td>\n",
              "      <td>-0.769410</td>\n",
              "      <td>-0.652287</td>\n",
              "      <td>-1.309683</td>\n",
              "      <td>0.619584</td>\n",
              "      <td>-1.600125</td>\n",
              "      <td>0.097622</td>\n",
              "      <td>-0.565811</td>\n",
              "      <td>...</td>\n",
              "      <td>-0.606055</td>\n",
              "      <td>-1.529840</td>\n",
              "      <td>0.032468</td>\n",
              "      <td>-0.371372</td>\n",
              "      <td>-0.356813</td>\n",
              "      <td>0.929851</td>\n",
              "      <td>-0.117711</td>\n",
              "      <td>0.818128</td>\n",
              "      <td>0.331770</td>\n",
              "      <td>-1.100549</td>\n",
              "    </tr>\n",
              "    <tr>\n",
              "      <th>6496</th>\n",
              "      <td>1.671635</td>\n",
              "      <td>1.247548</td>\n",
              "      <td>-3.707781</td>\n",
              "      <td>0.854562</td>\n",
              "      <td>0.535234</td>\n",
              "      <td>4.885690</td>\n",
              "      <td>0.814341</td>\n",
              "      <td>-3.763716</td>\n",
              "      <td>0.152432</td>\n",
              "      <td>-0.793640</td>\n",
              "      <td>...</td>\n",
              "      <td>-2.042422</td>\n",
              "      <td>0.373067</td>\n",
              "      <td>1.364600</td>\n",
              "      <td>-1.304008</td>\n",
              "      <td>-0.337862</td>\n",
              "      <td>-2.229231</td>\n",
              "      <td>2.402244</td>\n",
              "      <td>0.958295</td>\n",
              "      <td>-1.005656</td>\n",
              "      <td>-1.726494</td>\n",
              "    </tr>\n",
              "    <tr>\n",
              "      <th>6497</th>\n",
              "      <td>-1.659126</td>\n",
              "      <td>-0.243235</td>\n",
              "      <td>1.079076</td>\n",
              "      <td>-0.550394</td>\n",
              "      <td>-0.316553</td>\n",
              "      <td>-1.796846</td>\n",
              "      <td>0.409488</td>\n",
              "      <td>-1.281389</td>\n",
              "      <td>0.120222</td>\n",
              "      <td>-0.504539</td>\n",
              "      <td>...</td>\n",
              "      <td>-0.235365</td>\n",
              "      <td>-1.219192</td>\n",
              "      <td>-0.162628</td>\n",
              "      <td>-0.257999</td>\n",
              "      <td>-0.425029</td>\n",
              "      <td>1.063659</td>\n",
              "      <td>-0.332706</td>\n",
              "      <td>0.884623</td>\n",
              "      <td>0.476737</td>\n",
              "      <td>-1.157819</td>\n",
              "    </tr>\n",
              "    <tr>\n",
              "      <th>6498</th>\n",
              "      <td>-0.859179</td>\n",
              "      <td>-0.592448</td>\n",
              "      <td>-3.147495</td>\n",
              "      <td>1.428116</td>\n",
              "      <td>-0.894100</td>\n",
              "      <td>2.228792</td>\n",
              "      <td>1.297718</td>\n",
              "      <td>-0.563693</td>\n",
              "      <td>0.978313</td>\n",
              "      <td>0.271904</td>\n",
              "      <td>...</td>\n",
              "      <td>0.021831</td>\n",
              "      <td>-0.389597</td>\n",
              "      <td>-0.701721</td>\n",
              "      <td>0.226449</td>\n",
              "      <td>-1.189268</td>\n",
              "      <td>-1.042612</td>\n",
              "      <td>2.030346</td>\n",
              "      <td>1.486454</td>\n",
              "      <td>0.612136</td>\n",
              "      <td>0.152113</td>\n",
              "    </tr>\n",
              "    <tr>\n",
              "      <th>6499</th>\n",
              "      <td>1.187206</td>\n",
              "      <td>0.211070</td>\n",
              "      <td>-0.126817</td>\n",
              "      <td>0.559956</td>\n",
              "      <td>1.134729</td>\n",
              "      <td>-0.137076</td>\n",
              "      <td>0.568373</td>\n",
              "      <td>-2.818909</td>\n",
              "      <td>0.727778</td>\n",
              "      <td>-0.631632</td>\n",
              "      <td>...</td>\n",
              "      <td>-0.411535</td>\n",
              "      <td>-0.093335</td>\n",
              "      <td>0.761251</td>\n",
              "      <td>-0.617068</td>\n",
              "      <td>-1.376532</td>\n",
              "      <td>-0.726815</td>\n",
              "      <td>0.872411</td>\n",
              "      <td>0.045450</td>\n",
              "      <td>-0.375882</td>\n",
              "      <td>-1.466358</td>\n",
              "    </tr>\n",
              "  </tbody>\n",
              "</table>\n",
              "<p>6500 rows × 2048 columns</p>\n",
              "</div>\n",
              "      <button class=\"colab-df-convert\" onclick=\"convertToInteractive('df-b8821c28-28bc-4349-a01b-f5d22f422bbe')\"\n",
              "              title=\"Convert this dataframe to an interactive table.\"\n",
              "              style=\"display:none;\">\n",
              "\n",
              "  <svg xmlns=\"http://www.w3.org/2000/svg\" height=\"24px\"viewBox=\"0 0 24 24\"\n",
              "       width=\"24px\">\n",
              "    <path d=\"M0 0h24v24H0V0z\" fill=\"none\"/>\n",
              "    <path d=\"M18.56 5.44l.94 2.06.94-2.06 2.06-.94-2.06-.94-.94-2.06-.94 2.06-2.06.94zm-11 1L8.5 8.5l.94-2.06 2.06-.94-2.06-.94L8.5 2.5l-.94 2.06-2.06.94zm10 10l.94 2.06.94-2.06 2.06-.94-2.06-.94-.94-2.06-.94 2.06-2.06.94z\"/><path d=\"M17.41 7.96l-1.37-1.37c-.4-.4-.92-.59-1.43-.59-.52 0-1.04.2-1.43.59L10.3 9.45l-7.72 7.72c-.78.78-.78 2.05 0 2.83L4 21.41c.39.39.9.59 1.41.59.51 0 1.02-.2 1.41-.59l7.78-7.78 2.81-2.81c.8-.78.8-2.07 0-2.86zM5.41 20L4 18.59l7.72-7.72 1.47 1.35L5.41 20z\"/>\n",
              "  </svg>\n",
              "      </button>\n",
              "\n",
              "\n",
              "\n",
              "    <div id=\"df-8a9e35e3-5cba-4cd6-88d4-9e8c01fbddf8\">\n",
              "      <button class=\"colab-df-quickchart\" onclick=\"quickchart('df-8a9e35e3-5cba-4cd6-88d4-9e8c01fbddf8')\"\n",
              "              title=\"Suggest charts.\"\n",
              "              style=\"display:none;\">\n",
              "\n",
              "<svg xmlns=\"http://www.w3.org/2000/svg\" height=\"24px\"viewBox=\"0 0 24 24\"\n",
              "     width=\"24px\">\n",
              "    <g>\n",
              "        <path d=\"M19 3H5c-1.1 0-2 .9-2 2v14c0 1.1.9 2 2 2h14c1.1 0 2-.9 2-2V5c0-1.1-.9-2-2-2zM9 17H7v-7h2v7zm4 0h-2V7h2v10zm4 0h-2v-4h2v4z\"/>\n",
              "    </g>\n",
              "</svg>\n",
              "      </button>\n",
              "    </div>\n",
              "\n",
              "<style>\n",
              "  .colab-df-quickchart {\n",
              "    background-color: #E8F0FE;\n",
              "    border: none;\n",
              "    border-radius: 50%;\n",
              "    cursor: pointer;\n",
              "    display: none;\n",
              "    fill: #1967D2;\n",
              "    height: 32px;\n",
              "    padding: 0 0 0 0;\n",
              "    width: 32px;\n",
              "  }\n",
              "\n",
              "  .colab-df-quickchart:hover {\n",
              "    background-color: #E2EBFA;\n",
              "    box-shadow: 0px 1px 2px rgba(60, 64, 67, 0.3), 0px 1px 3px 1px rgba(60, 64, 67, 0.15);\n",
              "    fill: #174EA6;\n",
              "  }\n",
              "\n",
              "  [theme=dark] .colab-df-quickchart {\n",
              "    background-color: #3B4455;\n",
              "    fill: #D2E3FC;\n",
              "  }\n",
              "\n",
              "  [theme=dark] .colab-df-quickchart:hover {\n",
              "    background-color: #434B5C;\n",
              "    box-shadow: 0px 1px 3px 1px rgba(0, 0, 0, 0.15);\n",
              "    filter: drop-shadow(0px 1px 2px rgba(0, 0, 0, 0.3));\n",
              "    fill: #FFFFFF;\n",
              "  }\n",
              "</style>\n",
              "\n",
              "    <script>\n",
              "      async function quickchart(key) {\n",
              "        const containerElement = document.querySelector('#' + key);\n",
              "        const charts = await google.colab.kernel.invokeFunction(\n",
              "            'suggestCharts', [key], {});\n",
              "      }\n",
              "    </script>\n",
              "\n",
              "      <script>\n",
              "\n",
              "function displayQuickchartButton(domScope) {\n",
              "  let quickchartButtonEl =\n",
              "    domScope.querySelector('#df-8a9e35e3-5cba-4cd6-88d4-9e8c01fbddf8 button.colab-df-quickchart');\n",
              "  quickchartButtonEl.style.display =\n",
              "    google.colab.kernel.accessAllowed ? 'block' : 'none';\n",
              "}\n",
              "\n",
              "        displayQuickchartButton(document);\n",
              "      </script>\n",
              "      <style>\n",
              "    .colab-df-container {\n",
              "      display:flex;\n",
              "      flex-wrap:wrap;\n",
              "      gap: 12px;\n",
              "    }\n",
              "\n",
              "    .colab-df-convert {\n",
              "      background-color: #E8F0FE;\n",
              "      border: none;\n",
              "      border-radius: 50%;\n",
              "      cursor: pointer;\n",
              "      display: none;\n",
              "      fill: #1967D2;\n",
              "      height: 32px;\n",
              "      padding: 0 0 0 0;\n",
              "      width: 32px;\n",
              "    }\n",
              "\n",
              "    .colab-df-convert:hover {\n",
              "      background-color: #E2EBFA;\n",
              "      box-shadow: 0px 1px 2px rgba(60, 64, 67, 0.3), 0px 1px 3px 1px rgba(60, 64, 67, 0.15);\n",
              "      fill: #174EA6;\n",
              "    }\n",
              "\n",
              "    [theme=dark] .colab-df-convert {\n",
              "      background-color: #3B4455;\n",
              "      fill: #D2E3FC;\n",
              "    }\n",
              "\n",
              "    [theme=dark] .colab-df-convert:hover {\n",
              "      background-color: #434B5C;\n",
              "      box-shadow: 0px 1px 3px 1px rgba(0, 0, 0, 0.15);\n",
              "      filter: drop-shadow(0px 1px 2px rgba(0, 0, 0, 0.3));\n",
              "      fill: #FFFFFF;\n",
              "    }\n",
              "  </style>\n",
              "\n",
              "      <script>\n",
              "        const buttonEl =\n",
              "          document.querySelector('#df-b8821c28-28bc-4349-a01b-f5d22f422bbe button.colab-df-convert');\n",
              "        buttonEl.style.display =\n",
              "          google.colab.kernel.accessAllowed ? 'block' : 'none';\n",
              "\n",
              "        async function convertToInteractive(key) {\n",
              "          const element = document.querySelector('#df-b8821c28-28bc-4349-a01b-f5d22f422bbe');\n",
              "          const dataTable =\n",
              "            await google.colab.kernel.invokeFunction('convertToInteractive',\n",
              "                                                     [key], {});\n",
              "          if (!dataTable) return;\n",
              "\n",
              "          const docLinkHtml = 'Like what you see? Visit the ' +\n",
              "            '<a target=\"_blank\" href=https://colab.research.google.com/notebooks/data_table.ipynb>data table notebook</a>'\n",
              "            + ' to learn more about interactive tables.';\n",
              "          element.innerHTML = '';\n",
              "          dataTable['output_type'] = 'display_data';\n",
              "          await google.colab.output.renderOutput(dataTable, element);\n",
              "          const docLink = document.createElement('div');\n",
              "          docLink.innerHTML = docLinkHtml;\n",
              "          element.appendChild(docLink);\n",
              "        }\n",
              "      </script>\n",
              "    </div>\n",
              "  </div>\n"
            ]
          },
          "metadata": {},
          "execution_count": 23
        }
      ],
      "source": [
        "X"
      ]
    },
    {
      "cell_type": "code",
      "execution_count": 24,
      "metadata": {
        "id": "WH0FRJYncXMh"
      },
      "outputs": [],
      "source": [
        "X = X.values #.reshape(1, -1)"
      ]
    },
    {
      "cell_type": "code",
      "execution_count": 25,
      "metadata": {
        "id": "mhKpN5pscZ5i",
        "colab": {
          "base_uri": "https://localhost:8080/"
        },
        "outputId": "812672ab-4214-4a58-eb77-1fed5a4b4259"
      },
      "outputs": [
        {
          "output_type": "execute_result",
          "data": {
            "text/plain": [
              "array([[ 1.671635  ,  1.2475476 , -3.7077808 , ...,  0.9582946 ,\n",
              "        -1.0056562 , -1.7264942 ],\n",
              "       [-1.6591263 , -0.24323462,  1.0790759 , ...,  0.88462335,\n",
              "         0.47673738, -1.1578186 ],\n",
              "       [-0.8591794 , -0.5924479 , -3.1474946 , ...,  1.4864539 ,\n",
              "         0.61213577,  0.15211307],\n",
              "       ...,\n",
              "       [-1.6591263 , -0.24323462,  1.0790759 , ...,  0.88462335,\n",
              "         0.47673738, -1.1578186 ],\n",
              "       [-0.8591794 , -0.5924479 , -3.1474946 , ...,  1.4864539 ,\n",
              "         0.61213577,  0.15211307],\n",
              "       [ 1.1872059 ,  0.21106996, -0.12681678, ...,  0.04544979,\n",
              "        -0.3758816 , -1.4663582 ]])"
            ]
          },
          "metadata": {},
          "execution_count": 25
        }
      ],
      "source": [
        "X"
      ]
    },
    {
      "cell_type": "code",
      "execution_count": 26,
      "metadata": {
        "id": "GL4Q6eZrcbKI",
        "colab": {
          "base_uri": "https://localhost:8080/"
        },
        "outputId": "618f4811-14e9-4f23-91d1-cf28554a0bc8"
      },
      "outputs": [
        {
          "output_type": "execute_result",
          "data": {
            "text/plain": [
              "6500"
            ]
          },
          "metadata": {},
          "execution_count": 26
        }
      ],
      "source": [
        "len(X)"
      ]
    },
    {
      "cell_type": "code",
      "execution_count": 27,
      "metadata": {
        "id": "f0qptqFz_arz"
      },
      "outputs": [],
      "source": [
        "# name_labels = { 0: 'Benign', 1: 'DrDoS_DNS', 2: 'DrDoS_LDAP', 3: 'DrDoS_MSSQL', 4:'DrDoS_NTP', 5:'DrDoS_NetBIOS', 6:'DrDoS_SNMP', 7:'DrDoS_UDP', 8:'LDAP', 9:'MSSQL', 10:'NetBIOS', 11:'Portmap', 12:'Syn', 13:'TFTP', 14:'UDP', 15:'UDP-lag', 16:'UDPLag', 17:'WebDDoS'}"
      ]
    },
    {
      "cell_type": "code",
      "source": [
        "name_labels = { 0:'Atelectasis', 1:'Cardiomegaly', 2:'Consolidation', 3:'Edema', 4:'Effusion', 5:'Emphysema', 6:'Fibrosis', 7:'Hernia', 8:'Infiltration', 9:'Mass', 10:'No Finding', 11:'Nodule', 12:'Pleural_Thickening', 13:'Pneumonia ', 14:'Pneumothorax'}"
      ],
      "metadata": {
        "id": "I6ECxGHDJpAA"
      },
      "execution_count": 28,
      "outputs": []
    },
    {
      "cell_type": "code",
      "execution_count": 29,
      "metadata": {
        "id": "WoWZ9Q35_bnj"
      },
      "outputs": [],
      "source": [
        "label_encoder = LabelEncoder()\n",
        "encoded_labels = label_encoder.fit_transform(y)\n",
        "\n",
        "y_one_hot = to_categorical(encoded_labels)"
      ]
    },
    {
      "cell_type": "code",
      "execution_count": 30,
      "metadata": {
        "id": "6mC-cEFi_gGH",
        "colab": {
          "base_uri": "https://localhost:8080/"
        },
        "outputId": "b30cbe17-c396-4565-c760-0c2257013ce9"
      },
      "outputs": [
        {
          "output_type": "execute_result",
          "data": {
            "text/plain": [
              "array([[0., 0., 0., 1., 0.],\n",
              "       [0., 0., 1., 0., 0.],\n",
              "       [0., 0., 0., 1., 0.],\n",
              "       ...,\n",
              "       [0., 0., 1., 0., 0.],\n",
              "       [0., 0., 0., 1., 0.],\n",
              "       [1., 0., 0., 0., 0.]], dtype=float32)"
            ]
          },
          "metadata": {},
          "execution_count": 30
        }
      ],
      "source": [
        "y_one_hot"
      ]
    },
    {
      "cell_type": "code",
      "execution_count": 31,
      "metadata": {
        "id": "ybV0Wjz-CLvh",
        "colab": {
          "base_uri": "https://localhost:8080/"
        },
        "outputId": "674d5874-8e4f-4d2f-8869-50c90936bb5e"
      },
      "outputs": [
        {
          "output_type": "execute_result",
          "data": {
            "text/plain": [
              "array([0., 1.], dtype=float32)"
            ]
          },
          "metadata": {},
          "execution_count": 31
        }
      ],
      "source": [
        "np.unique(y_one_hot)"
      ]
    },
    {
      "cell_type": "code",
      "execution_count": 32,
      "metadata": {
        "id": "23BUYlQfcc8S"
      },
      "outputs": [],
      "source": [
        "X_train, X_val, y_train, y_val = train_test_split(X, y_one_hot, test_size=0.2, random_state=42)"
      ]
    },
    {
      "cell_type": "code",
      "execution_count": 33,
      "metadata": {
        "id": "c7YNxZjHP3cs",
        "colab": {
          "base_uri": "https://localhost:8080/"
        },
        "outputId": "c3c390ad-bc66-4799-fcc9-d4e4fc3f8e0a"
      },
      "outputs": [
        {
          "output_type": "execute_result",
          "data": {
            "text/plain": [
              "array([[1., 0., 0., 0., 0.],\n",
              "       [0., 0., 1., 0., 0.],\n",
              "       [1., 0., 0., 0., 0.],\n",
              "       ...,\n",
              "       [0., 0., 0., 0., 1.],\n",
              "       [0., 1., 0., 0., 0.],\n",
              "       [0., 1., 0., 0., 0.]], dtype=float32)"
            ]
          },
          "metadata": {},
          "execution_count": 33
        }
      ],
      "source": [
        "y_train"
      ]
    },
    {
      "cell_type": "code",
      "execution_count": 34,
      "metadata": {
        "id": "uI1S3ErncegX",
        "colab": {
          "base_uri": "https://localhost:8080/"
        },
        "outputId": "95f5f7ff-5759-4667-8884-1d0e7e3d1746"
      },
      "outputs": [
        {
          "output_type": "execute_result",
          "data": {
            "text/plain": [
              "5200"
            ]
          },
          "metadata": {},
          "execution_count": 34
        }
      ],
      "source": [
        "len(X_train)"
      ]
    },
    {
      "cell_type": "code",
      "execution_count": 35,
      "metadata": {
        "id": "cf20-wZCcfwR",
        "colab": {
          "base_uri": "https://localhost:8080/"
        },
        "outputId": "97c53f43-7ef4-4d15-f4f4-bc84f42e576a"
      },
      "outputs": [
        {
          "output_type": "execute_result",
          "data": {
            "text/plain": [
              "5200"
            ]
          },
          "metadata": {},
          "execution_count": 35
        }
      ],
      "source": [
        "len(y_train)"
      ]
    },
    {
      "cell_type": "code",
      "source": [
        "X_train.shape"
      ],
      "metadata": {
        "id": "79JKHj_KKrGa",
        "colab": {
          "base_uri": "https://localhost:8080/"
        },
        "outputId": "626b821d-d79c-45f1-e552-e323873ad04b"
      },
      "execution_count": 36,
      "outputs": [
        {
          "output_type": "execute_result",
          "data": {
            "text/plain": [
              "(5200, 2048)"
            ]
          },
          "metadata": {},
          "execution_count": 36
        }
      ]
    },
    {
      "cell_type": "code",
      "source": [
        "y_train = np.argmax(y_train, axis=1)"
      ],
      "metadata": {
        "id": "ivM4FOGSMMsa"
      },
      "execution_count": 37,
      "outputs": []
    },
    {
      "cell_type": "code",
      "source": [
        "y_train.shape"
      ],
      "metadata": {
        "id": "hVbc4bz1Kv2t",
        "colab": {
          "base_uri": "https://localhost:8080/"
        },
        "outputId": "781f29b9-695b-4907-9823-a222bcfaab41"
      },
      "execution_count": 38,
      "outputs": [
        {
          "output_type": "execute_result",
          "data": {
            "text/plain": [
              "(5200,)"
            ]
          },
          "metadata": {},
          "execution_count": 38
        }
      ]
    },
    {
      "cell_type": "code",
      "source": [
        "# Building a Support Vector Machine on train data\n",
        "svc_model = SVC(C=.1, kernel='linear', gamma=1,probability= True)\n",
        "svc_model.fit(X_train, y_train)"
      ],
      "metadata": {
        "id": "g3dVt5M3KcEv",
        "colab": {
          "base_uri": "https://localhost:8080/",
          "height": 75
        },
        "outputId": "c8ee9bf2-27b2-42f2-a873-1e1ce0320e85"
      },
      "execution_count": 39,
      "outputs": [
        {
          "output_type": "execute_result",
          "data": {
            "text/plain": [
              "SVC(C=0.1, gamma=1, kernel='linear', probability=True)"
            ],
            "text/html": [
              "<style>#sk-container-id-1 {color: black;background-color: white;}#sk-container-id-1 pre{padding: 0;}#sk-container-id-1 div.sk-toggleable {background-color: white;}#sk-container-id-1 label.sk-toggleable__label {cursor: pointer;display: block;width: 100%;margin-bottom: 0;padding: 0.3em;box-sizing: border-box;text-align: center;}#sk-container-id-1 label.sk-toggleable__label-arrow:before {content: \"▸\";float: left;margin-right: 0.25em;color: #696969;}#sk-container-id-1 label.sk-toggleable__label-arrow:hover:before {color: black;}#sk-container-id-1 div.sk-estimator:hover label.sk-toggleable__label-arrow:before {color: black;}#sk-container-id-1 div.sk-toggleable__content {max-height: 0;max-width: 0;overflow: hidden;text-align: left;background-color: #f0f8ff;}#sk-container-id-1 div.sk-toggleable__content pre {margin: 0.2em;color: black;border-radius: 0.25em;background-color: #f0f8ff;}#sk-container-id-1 input.sk-toggleable__control:checked~div.sk-toggleable__content {max-height: 200px;max-width: 100%;overflow: auto;}#sk-container-id-1 input.sk-toggleable__control:checked~label.sk-toggleable__label-arrow:before {content: \"▾\";}#sk-container-id-1 div.sk-estimator input.sk-toggleable__control:checked~label.sk-toggleable__label {background-color: #d4ebff;}#sk-container-id-1 div.sk-label input.sk-toggleable__control:checked~label.sk-toggleable__label {background-color: #d4ebff;}#sk-container-id-1 input.sk-hidden--visually {border: 0;clip: rect(1px 1px 1px 1px);clip: rect(1px, 1px, 1px, 1px);height: 1px;margin: -1px;overflow: hidden;padding: 0;position: absolute;width: 1px;}#sk-container-id-1 div.sk-estimator {font-family: monospace;background-color: #f0f8ff;border: 1px dotted black;border-radius: 0.25em;box-sizing: border-box;margin-bottom: 0.5em;}#sk-container-id-1 div.sk-estimator:hover {background-color: #d4ebff;}#sk-container-id-1 div.sk-parallel-item::after {content: \"\";width: 100%;border-bottom: 1px solid gray;flex-grow: 1;}#sk-container-id-1 div.sk-label:hover label.sk-toggleable__label {background-color: #d4ebff;}#sk-container-id-1 div.sk-serial::before {content: \"\";position: absolute;border-left: 1px solid gray;box-sizing: border-box;top: 0;bottom: 0;left: 50%;z-index: 0;}#sk-container-id-1 div.sk-serial {display: flex;flex-direction: column;align-items: center;background-color: white;padding-right: 0.2em;padding-left: 0.2em;position: relative;}#sk-container-id-1 div.sk-item {position: relative;z-index: 1;}#sk-container-id-1 div.sk-parallel {display: flex;align-items: stretch;justify-content: center;background-color: white;position: relative;}#sk-container-id-1 div.sk-item::before, #sk-container-id-1 div.sk-parallel-item::before {content: \"\";position: absolute;border-left: 1px solid gray;box-sizing: border-box;top: 0;bottom: 0;left: 50%;z-index: -1;}#sk-container-id-1 div.sk-parallel-item {display: flex;flex-direction: column;z-index: 1;position: relative;background-color: white;}#sk-container-id-1 div.sk-parallel-item:first-child::after {align-self: flex-end;width: 50%;}#sk-container-id-1 div.sk-parallel-item:last-child::after {align-self: flex-start;width: 50%;}#sk-container-id-1 div.sk-parallel-item:only-child::after {width: 0;}#sk-container-id-1 div.sk-dashed-wrapped {border: 1px dashed gray;margin: 0 0.4em 0.5em 0.4em;box-sizing: border-box;padding-bottom: 0.4em;background-color: white;}#sk-container-id-1 div.sk-label label {font-family: monospace;font-weight: bold;display: inline-block;line-height: 1.2em;}#sk-container-id-1 div.sk-label-container {text-align: center;}#sk-container-id-1 div.sk-container {/* jupyter's `normalize.less` sets `[hidden] { display: none; }` but bootstrap.min.css set `[hidden] { display: none !important; }` so we also need the `!important` here to be able to override the default hidden behavior on the sphinx rendered scikit-learn.org. See: https://github.com/scikit-learn/scikit-learn/issues/21755 */display: inline-block !important;position: relative;}#sk-container-id-1 div.sk-text-repr-fallback {display: none;}</style><div id=\"sk-container-id-1\" class=\"sk-top-container\"><div class=\"sk-text-repr-fallback\"><pre>SVC(C=0.1, gamma=1, kernel=&#x27;linear&#x27;, probability=True)</pre><b>In a Jupyter environment, please rerun this cell to show the HTML representation or trust the notebook. <br />On GitHub, the HTML representation is unable to render, please try loading this page with nbviewer.org.</b></div><div class=\"sk-container\" hidden><div class=\"sk-item\"><div class=\"sk-estimator sk-toggleable\"><input class=\"sk-toggleable__control sk-hidden--visually\" id=\"sk-estimator-id-1\" type=\"checkbox\" checked><label for=\"sk-estimator-id-1\" class=\"sk-toggleable__label sk-toggleable__label-arrow\">SVC</label><div class=\"sk-toggleable__content\"><pre>SVC(C=0.1, gamma=1, kernel=&#x27;linear&#x27;, probability=True)</pre></div></div></div></div></div>"
            ]
          },
          "metadata": {},
          "execution_count": 39
        }
      ]
    },
    {
      "cell_type": "code",
      "execution_count": 40,
      "metadata": {
        "id": "1O_q1fdJoUE9"
      },
      "outputs": [],
      "source": [
        "y_val=  np.argmax(y_val, axis=1)"
      ]
    },
    {
      "cell_type": "code",
      "source": [
        "prediction = svc_model .predict(X_val)\n",
        "# check the accuracy on the training set\n",
        "print(svc_model.score(X_train, y_train))\n",
        "print(svc_model.score(X_val, y_val))"
      ],
      "metadata": {
        "id": "WOQCJTwVoUl4",
        "colab": {
          "base_uri": "https://localhost:8080/"
        },
        "outputId": "aab5bae7-af84-41d5-cd14-8c75508dbb54"
      },
      "execution_count": 41,
      "outputs": [
        {
          "output_type": "stream",
          "name": "stdout",
          "text": [
            "1.0\n",
            "1.0\n"
          ]
        }
      ]
    },
    {
      "cell_type": "code",
      "source": [
        "y_val_pred = svc_model.predict(X_val)\n",
        "classification_rep = classification_report(y_val, y_val_pred)\n",
        "print(\"Classification Report:\")\n",
        "print(classification_rep)"
      ],
      "metadata": {
        "id": "AICiCLoFoUi2",
        "colab": {
          "base_uri": "https://localhost:8080/"
        },
        "outputId": "349130f3-754f-41a2-c71e-d90b9750f417"
      },
      "execution_count": 42,
      "outputs": [
        {
          "output_type": "stream",
          "name": "stdout",
          "text": [
            "Classification Report:\n",
            "              precision    recall  f1-score   support\n",
            "\n",
            "           0       1.00      1.00      1.00       310\n",
            "           1       1.00      1.00      1.00       203\n",
            "           2       1.00      1.00      1.00       395\n",
            "           3       1.00      1.00      1.00       248\n",
            "           4       1.00      1.00      1.00       144\n",
            "\n",
            "    accuracy                           1.00      1300\n",
            "   macro avg       1.00      1.00      1.00      1300\n",
            "weighted avg       1.00      1.00      1.00      1300\n",
            "\n"
          ]
        }
      ]
    },
    {
      "cell_type": "code",
      "source": [
        "# Step 5: Create the confusion matrix\n",
        "cm = confusion_matrix(y_val, y_val_pred)\n",
        "print(\"Confusion Matrix:\")\n",
        "print(cm)\n",
        "\n",
        "# Step 6: Plot the confusion matrix\n",
        "class_names = sorted(list(set(y_val)))  # Assuming class labels are strings\n",
        "\n",
        "plt.figure(figsize=(8, 6))\n",
        "sns.heatmap(cm, annot=True, cmap='Blues', fmt='d', xticklabels=class_names, yticklabels=class_names)\n",
        "plt.title('Confusion Matrix')\n",
        "plt.xlabel('Predicted Label')\n",
        "plt.ylabel('True Label')\n",
        "plt.show()"
      ],
      "metadata": {
        "id": "B6fNMxj1oUgC",
        "colab": {
          "base_uri": "https://localhost:8080/",
          "height": 668
        },
        "outputId": "3de2f1ab-46f9-4a79-b7c6-0f11a5cfd834"
      },
      "execution_count": 43,
      "outputs": [
        {
          "output_type": "stream",
          "name": "stdout",
          "text": [
            "Confusion Matrix:\n",
            "[[310   0   0   0   0]\n",
            " [  0 203   0   0   0]\n",
            " [  0   0 395   0   0]\n",
            " [  0   0   0 248   0]\n",
            " [  0   0   0   0 144]]\n"
          ]
        },
        {
          "output_type": "display_data",
          "data": {
            "text/plain": [
              "<Figure size 800x600 with 2 Axes>"
            ],
            "image/png": "[encoded data removed]"
          },
          "metadata": {}
        }
      ]
    },
    {
      "cell_type": "code",
      "source": [
        "from sklearn.metrics import roc_curve, auc\n",
        "from sklearn.preprocessing import label_binarize\n",
        "from itertools import cycle\n",
        "import matplotlib.pyplot as plt\n",
        "import numpy as np"
      ],
      "metadata": {
        "id": "W8WiiH9ZoUdL"
      },
      "execution_count": 44,
      "outputs": []
    },
    {
      "cell_type": "code",
      "source": [
        "# Step 4: Make predictions on the test set\n",
        "y_scores = svc_model.predict_proba(X_val)\n",
        "\n",
        "# Step 5: Convert labels to binary matrix\n",
        "y_test_bin = label_binarize(y_val, classes=np.unique(y))\n",
        "n_classes = y_test_bin.shape[1]\n",
        "\n",
        "# Step 6: Compute ROC curve and AUC for each class\n",
        "fpr = dict()\n",
        "tpr = dict()\n",
        "roc_auc = dict()\n",
        "for i in range(n_classes):\n",
        "    fpr[i], tpr[i], _ = roc_curve(y_test_bin[:, i], y_scores[:, i])\n",
        "    roc_auc[i] = auc(fpr[i], tpr[i])\n",
        "\n",
        "# Step 7: Plot AUC curve for each class\n",
        "plt.figure(figsize=(10, 8))\n",
        "colors = cycle(['blue', 'red', 'green', 'orange', 'purple', 'brown'])  # Customize the colors as per the number of classes\n",
        "\n",
        "for i, color in zip(range(n_classes), colors):\n",
        "    plt.plot(fpr[i], tpr[i], color=color, lw=2,\n",
        "             label='Class {0} (AUC = {1:0.2f})'\n",
        "             ''.format(i, roc_auc[i]))\n",
        "\n",
        "plt.plot([0, 1], [0, 1], 'k--', lw=2)\n",
        "plt.xlim([0.0, 1.0])\n",
        "plt.ylim([0.0, 1.05])\n",
        "plt.xlabel('False Positive Rate')\n",
        "plt.ylabel('True Positive Rate')\n",
        "plt.title('Receiver Operating Characteristic (ROC) Curve')\n",
        "plt.legend(loc=\"lower right\")\n",
        "plt.show()"
      ],
      "metadata": {
        "id": "jVwlhBRfoUZ2",
        "colab": {
          "base_uri": "https://localhost:8080/",
          "height": 892
        },
        "outputId": "37a82ca4-b602-490d-889a-a8a3fdb8ad02"
      },
      "execution_count": 45,
      "outputs": [
        {
          "output_type": "stream",
          "name": "stderr",
          "text": [
            "/usr/local/lib/python3.10/dist-packages/sklearn/metrics/_ranking.py:1029: UndefinedMetricWarning: No positive samples in y_true, true positive value should be meaningless\n",
            "  warnings.warn(\n",
            "/usr/local/lib/python3.10/dist-packages/sklearn/metrics/_ranking.py:1029: UndefinedMetricWarning: No positive samples in y_true, true positive value should be meaningless\n",
            "  warnings.warn(\n",
            "/usr/local/lib/python3.10/dist-packages/sklearn/metrics/_ranking.py:1029: UndefinedMetricWarning: No positive samples in y_true, true positive value should be meaningless\n",
            "  warnings.warn(\n",
            "/usr/local/lib/python3.10/dist-packages/sklearn/metrics/_ranking.py:1029: UndefinedMetricWarning: No positive samples in y_true, true positive value should be meaningless\n",
            "  warnings.warn(\n",
            "/usr/local/lib/python3.10/dist-packages/sklearn/metrics/_ranking.py:1029: UndefinedMetricWarning: No positive samples in y_true, true positive value should be meaningless\n",
            "  warnings.warn(\n"
          ]
        },
        {
          "output_type": "display_data",
          "data": {
            "text/plain": [
              "<Figure size 1000x800 with 1 Axes>"
            ],
            "image/png": "[encoded data removed]"
          },
          "metadata": {}
        }
      ]
    },
    {
      "cell_type": "code",
      "source": [
        "from sklearn.naive_bayes import GaussianNB\n",
        "from sklearn.metrics import classification_report\n",
        "\n",
        "# Create and train the Naive Bayes classifier\n",
        "nb_model = GaussianNB()\n",
        "nb_model.fit(X_train, y_train)\n",
        "\n",
        "# Make predictions on the validation set\n",
        "y_val_pred = nb_model.predict(X_val)\n",
        "\n",
        "# Check the accuracy on the training and validation sets\n",
        "train_accuracy = nb_model.score(X_train, y_train)\n",
        "val_accuracy = nb_model.score(X_val, y_val)\n",
        "print('Training Accuracy: {:.2f}%'.format(train_accuracy * 100))\n",
        "print('Validation Accuracy: {:.2f}%'.format(val_accuracy * 100))\n",
        "\n",
        "# Calculate and print the classification report\n",
        "classification_rep = classification_report(y_val, y_val_pred)\n",
        "print(\"Classification Report:\")\n",
        "print(classification_rep)\n"
      ],
      "metadata": {
        "id": "VyOSON3UoUWr",
        "outputId": "b6a3ddb4-fa5f-4c36-a05f-d016cfd877a3",
        "colab": {
          "base_uri": "https://localhost:8080/"
        }
      },
      "execution_count": 46,
      "outputs": [
        {
          "output_type": "stream",
          "name": "stdout",
          "text": [
            "Training Accuracy: 93.85%\n",
            "Validation Accuracy: 93.38%\n",
            "Classification Report:\n",
            "              precision    recall  f1-score   support\n",
            "\n",
            "           0       1.00      1.00      1.00       310\n",
            "           1       0.70      1.00      0.83       203\n",
            "           2       1.00      1.00      1.00       395\n",
            "           3       1.00      0.65      0.79       248\n",
            "           4       1.00      1.00      1.00       144\n",
            "\n",
            "    accuracy                           0.93      1300\n",
            "   macro avg       0.94      0.93      0.92      1300\n",
            "weighted avg       0.95      0.93      0.93      1300\n",
            "\n"
          ]
        }
      ]
    },
    {
      "cell_type": "code",
      "source": [],
      "metadata": {
        "id": "Kt0QN7UXoUT6"
      },
      "execution_count": 45,
      "outputs": []
    },
    {
      "cell_type": "code",
      "source": [],
      "metadata": {
        "id": "UDdKqX8_oUQx"
      },
      "execution_count": 45,
      "outputs": []
    },
    {
      "cell_type": "code",
      "source": [],
      "metadata": {
        "id": "VHGUSp0GoUOE"
      },
      "execution_count": 45,
      "outputs": []
    },
    {
      "cell_type": "code",
      "source": [],
      "metadata": {
        "id": "6X-DXJpooULN"
      },
      "execution_count": 45,
      "outputs": []
    }
  ],
  "metadata": {
    "accelerator": "GPU",
    "colab": {
      "provenance": [],
      "include_colab_link": true
    },
    "gpuClass": "standard",
    "kernelspec": {
      "display_name": "Python 3",
      "name": "python3"
    },
    "language_info": {
      "name": "python"
    }
  },
  "nbformat": 4,
  "nbformat_minor": 0
}