{
  "nbformat": 4,
  "nbformat_minor": 0,
  "metadata": {
    "colab": {
      "name": "PROJECT..ipynb",
      "provenance": [],
      "mount_file_id": "https://github.com/JumanaRahim/workshop/blob/master/PROJECT_.ipynb",
      "authorship_tag": "ABX9TyPt2S/NH2WRXUri4K5tbw1Q",
      "include_colab_link": true
    },
    "kernelspec": {
      "name": "python3",
      "display_name": "Python 3"
    },
    "language_info": {
      "name": "python"
    }
  },
  "cells": [
    {
      "cell_type": "markdown",
      "metadata": {
        "id": "view-in-github",
        "colab_type": "text"
      },
      "source": [
        "<a href=\"https://colab.research.google.com/github/JumanaRahim/workshop/blob/master/PROJECT_.ipynb\" target=\"_parent\"><img src=\"https://colab.research.google.com/assets/colab-badge.svg\" alt=\"Open In Colab\"/></a>"
      ]
    },
    {
      "cell_type": "code",
      "source": [
        "# import the necessary packages\n",
        "import cv2\n",
        "import os\n",
        "from keras.models import load_model\n",
        "import numpy as np\n",
        "import time"
      ],
      "metadata": {
        "id": "hdkfT8XaXII6"
      },
      "execution_count": 5,
      "outputs": []
    },
    {
      "cell_type": "code",
      "source": [
        "# Detect Face in the Image and Create a Region of Interest (ROI)\n",
        "face = cv2.CascadeClassifier('haar cascade files\\haarcascade_frontalface_alt.xml')\n",
        "lefteye = cv2.CascadeClassifier('haar cascade files\\haarcascade_lefteye_2splits.xml')\n",
        "righteye = cv2.CascadeClassifier('haar cascade files\\haarcascade_righteye_2splits.xml')"
      ],
      "metadata": {
        "id": "OyybPgMSXbwX"
      },
      "execution_count": 3,
      "outputs": []
    },
    {
      "cell_type": "code",
      "source": [
        "lbl=['Close','Open']"
      ],
      "metadata": {
        "id": "SI9X6HvoHHng"
      },
      "execution_count": 4,
      "outputs": []
    },
    {
      "cell_type": "code",
      "source": [
        "model = load_model('/content/cnnCat2.h5')\n",
        "path = os.getcwd()\n",
        "cap = cv2.VideoCapture(0)\n",
        "font = cv2.FONT_HERSHEY_COMPLEX_SMALL\n",
        "count=0\n",
        "score=0\n",
        "thicc=2\n",
        "rpred=[99]\n",
        "lpred=[99]"
      ],
      "metadata": {
        "id": "lxjlbdN7xwUB"
      },
      "execution_count": null,
      "outputs": []
    },
    {
      "cell_type": "code",
      "source": [
        "path = os.getcwd()\n",
        "cap = cv2.VideoCapture(0)\n",
        "font = cv2.FONT_HERSHEY_COMPLEX_SMALL\n",
        "count=0\n",
        "score=0\n",
        "thicc=2\n",
        "rpred=[99]\n",
        "lpred=[99]\n",
        "while(True):\n",
        "    ret, frame = cap.read()\n",
        "    "
      ],
      "metadata": {
        "id": "qDo-fQBKXzQX"
      },
      "execution_count": null,
      "outputs": []
    },
    {
      "cell_type": "code",
      "source": [
        ""
      ],
      "metadata": {
        "id": "KEgC1DDMasWo"
      },
      "execution_count": null,
      "outputs": []
    }
  ]
}