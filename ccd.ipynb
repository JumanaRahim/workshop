{
  "nbformat": 4,
  "nbformat_minor": 0,
  "metadata": {
    "colab": {
      "provenance": [],
      "authorship_tag": "ABX9TyNn5mS7UiuTfq1kGLM+z7s3",
      "include_colab_link": true
    },
    "kernelspec": {
      "name": "python3",
      "display_name": "Python 3"
    },
    "language_info": {
      "name": "python"
    }
  },
  "cells": [
    {
      "cell_type": "markdown",
      "metadata": {
        "id": "view-in-github",
        "colab_type": "text"
      },
      "source": [
        "<a href=\"https://colab.research.google.com/github/JumanaRahim/workshop/blob/master/ccd.ipynb\" target=\"_parent\"><img src=\"https://colab.research.google.com/assets/colab-badge.svg\" alt=\"Open In Colab\"/></a>"
      ]
    },
    {
      "cell_type": "code",
      "execution_count": 1,
      "metadata": {
        "id": "4qwUOoZF9-P2"
      },
      "outputs": [],
      "source": [
        "import pandas as pd\n",
        "import numpy as np\n",
        "import matplotlib.pyplot as plt\n",
        "import seaborn as sns\n",
        "from sklearn import tree\n",
        "from sklearn.model_selection import StratifiedShuffleSplit\n",
        "from sklearn.preprocessing import RobustScaler\n",
        "from sklearn.tree import DecisionTreeClassifier\n",
        "from sklearn.ensemble import RandomForestClassifier\n",
        "from sklearn.linear_model import LogisticRegression\n",
        "from sklearn.feature_selection import mutual_info_classif\n",
        "from sklearn.feature_selection import SelectKBest\n",
        "from sklearn.model_selection import GridSearchCV\n",
        "from sklearn.metrics import confusion_matrix, accuracy_score, precision_score, recall_score, f1_score\n",
        "from sklearn.metrics import roc_auc_score\n",
        "from sklearn.metrics import precision_recall_curve\n",
        "import warnings\n",
        "warnings.filterwarnings('ignore')"
      ]
    },
    {
      "cell_type": "code",
      "source": [
        "data=pd.read_csv(\"/content/creditcard.....csv\")"
      ],
      "metadata": {
        "id": "sgzIM5GI-osz"
      },
      "execution_count": 5,
      "outputs": []
    },
    {
      "cell_type": "code",
      "source": [
        "data_real = data.replace(np.inf, np.nan)"
      ],
      "metadata": {
        "id": "0lm3KRZhA73Q"
      },
      "execution_count": 7,
      "outputs": []
    },
    {
      "cell_type": "code",
      "source": [
        "data_real.isnull().sum().sum()"
      ],
      "metadata": {
        "colab": {
          "base_uri": "https://localhost:8080/"
        },
        "id": "1RmLT7bQA_gp",
        "outputId": "9683b092-ab6e-4603-ca28-6527db48ebb4"
      },
      "execution_count": 8,
      "outputs": [
        {
          "output_type": "execute_result",
          "data": {
            "text/plain": [
              "5"
            ]
          },
          "metadata": {},
          "execution_count": 8
        }
      ]
    },
    {
      "cell_type": "code",
      "source": [
        "data_df = data_real.dropna(axis=0)"
      ],
      "metadata": {
        "id": "Y7KfzpzMBBnD"
      },
      "execution_count": 9,
      "outputs": []
    },
    {
      "cell_type": "code",
      "source": [
        "x = data_df.drop(['Class'], axis = 1)"
      ],
      "metadata": {
        "id": "IL3ewpbUBIlR"
      },
      "execution_count": 11,
      "outputs": []
    },
    {
      "cell_type": "code",
      "source": [
        "y = data_df['Class']"
      ],
      "metadata": {
        "id": "quPweVsjBU0n"
      },
      "execution_count": 12,
      "outputs": []
    },
    {
      "cell_type": "code",
      "source": [
        "from sklearn.model_selection import train_test_split\n",
        "X_train, X_test,y_train, y_test = train_test_split(x,y, train_size = 0.5)"
      ],
      "metadata": {
        "id": "qRKDjrjA_h09"
      },
      "execution_count": 23,
      "outputs": []
    },
    {
      "cell_type": "code",
      "source": [
        "from sklearn.feature_selection import SelectKBest\n",
        "selector = SelectKBest(mutual_info_classif, k=5)\n",
        "selector.fit(X_train, y_train)\n",
        "cols = selector.get_support(indices=True)\n",
        "\n",
        "# new dataframes\n",
        "new_train = X_train.iloc[:,cols]\n",
        "new_test = X_test.iloc[:,cols]"
      ],
      "metadata": {
        "id": "c8uGZlUJBbTH"
      },
      "execution_count": 24,
      "outputs": []
    },
    {
      "cell_type": "code",
      "source": [
        "dt = DecisionTreeClassifier(criterion='entropy', max_depth=None,min_samples_split=2, max_leaf_nodes=None)\n",
        "dt.fit(new_train, y_train)\n",
        "test_pred = dt.predict(new_test)"
      ],
      "metadata": {
        "id": "-fpzBcDVBpph"
      },
      "execution_count": 25,
      "outputs": []
    },
    {
      "cell_type": "code",
      "source": [
        "Y_predicted_dt = dt.predict(new_test)\n",
        "Y_pred_train_dt = dt.predict(new_train)"
      ],
      "metadata": {
        "id": "kO-nDvAUBt6K"
      },
      "execution_count": 26,
      "outputs": []
    },
    {
      "cell_type": "code",
      "source": [
        "print('\\n Confusion Matrix \\n')\n",
        "print(confusion_matrix(Y_predicted_dt, y_test))\n",
        "\n",
        "ac = accuracy_score(y_test, Y_predicted_dt)\n",
        "print('\\n Macro Averaged Accuracy :'+str(ac))\n",
        "\n",
        "pr = precision_score(y_test, Y_predicted_dt, average='macro')\n",
        "print('\\n Macro Averaged Precision :'+str(pr))\n",
        "\n",
        "re = recall_score(y_test, Y_predicted_dt, average='macro')\n",
        "print('\\n Macro Averaged Recall :'+str(re))\n",
        "\n",
        "fm = f1_score(y_test, Y_predicted_dt, average='macro')\n",
        "print('\\n Macro Averaged F1-Score :'+str(fm))\n",
        "\n",
        "fm = f1_score(y_train, Y_pred_train_dt, average='macro')\n",
        "print('\\n Macro Averaged F1-Score on training :'+str(fm))\n",
        "\n",
        "fm = f1_score(y_test, Y_predicted_dt, average='micro')\n",
        "print('\\n Micro Averaged F1-Score:'+str(fm))"
      ],
      "metadata": {
        "colab": {
          "base_uri": "https://localhost:8080/"
        },
        "id": "DaiwXRo3Bw10",
        "outputId": "e921ce17-12a1-4918-c8ee-12b3b36d238c"
      },
      "execution_count": 22,
      "outputs": [
        {
          "output_type": "stream",
          "name": "stdout",
          "text": [
            "\n",
            " Confusion Matrix \n",
            "\n",
            "[[2337    2]\n",
            " [   0    0]]\n",
            "\n",
            " Macro Averaged Accuracy :0.9991449337323642\n",
            "\n",
            " Macro Averaged Precision :0.4995724668661821\n",
            "\n",
            " Macro Averaged Recall :0.5\n",
            "\n",
            " Macro Averaged F1-Score :0.4997861420017109\n",
            "\n",
            " Macro Averaged F1-Score on training :1.0\n",
            "\n",
            " Micro Averaged F1-Score:0.9991449337323642\n"
          ]
        }
      ]
    }
  ]
}