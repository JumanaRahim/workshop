{
  "metadata": {
    "colab": {
      "provenance": [],
      "include_colab_link": true
    },
    "kernelspec": {
      "name": "python3",
      "display_name": "Python 3",
      "language": "python"
    },
    "language_info": {
      "name": "python",
      "version": "3.7.10",
      "mimetype": "text/x-python",
      "codemirror_mode": {
        "name": "ipython",
        "version": 3
      },
      "pygments_lexer": "ipython3",
      "nbconvert_exporter": "python",
      "file_extension": ".py"
    },
    "accelerator": "GPU",
    "gpuClass": "standard",
    "widgets": {
      "application/vnd.jupyter.widget-state+json": {
        "71bf32a45f0c448b872f692eae5af377": {
          "model_module": "@jupyter-widgets/controls",
          "model_name": "HBoxModel",
          "model_module_version": "1.5.0",
          "state": {
            "_dom_classes": [],
            "_model_module": "@jupyter-widgets/controls",
            "_model_module_version": "1.5.0",
            "_model_name": "HBoxModel",
            "_view_count": null,
            "_view_module": "@jupyter-widgets/controls",
            "_view_module_version": "1.5.0",
            "_view_name": "HBoxView",
            "box_style": "",
            "children": [
              "IPY_MODEL_9a5b02695a7b4f93b162ad3720e0bf3a",
              "IPY_MODEL_849c715cae1e425a95d43fda37125543",
              "IPY_MODEL_a7e03da5dd8d41b4b2e0eb778bcc860d"
            ],
            "layout": "IPY_MODEL_f420fef9d4cf4ded9b77c8c1299a196d"
          }
        },
        "9a5b02695a7b4f93b162ad3720e0bf3a": {
          "model_module": "@jupyter-widgets/controls",
          "model_name": "HTMLModel",
          "model_module_version": "1.5.0",
          "state": {
            "_dom_classes": [],
            "_model_module": "@jupyter-widgets/controls",
            "_model_module_version": "1.5.0",
            "_model_name": "HTMLModel",
            "_view_count": null,
            "_view_module": "@jupyter-widgets/controls",
            "_view_module_version": "1.5.0",
            "_view_name": "HTMLView",
            "description": "",
            "description_tooltip": null,
            "layout": "IPY_MODEL_c70cb329407b43f4bab04ed00b6f347b",
            "placeholder": "​",
            "style": "IPY_MODEL_6e6823fe4e114c7ea2759074781d07a1",
            "value": "100%"
          }
        },
        "849c715cae1e425a95d43fda37125543": {
          "model_module": "@jupyter-widgets/controls",
          "model_name": "FloatProgressModel",
          "model_module_version": "1.5.0",
          "state": {
            "_dom_classes": [],
            "_model_module": "@jupyter-widgets/controls",
            "_model_module_version": "1.5.0",
            "_model_name": "FloatProgressModel",
            "_view_count": null,
            "_view_module": "@jupyter-widgets/controls",
            "_view_module_version": "1.5.0",
            "_view_name": "ProgressView",
            "bar_style": "success",
            "description": "",
            "description_tooltip": null,
            "layout": "IPY_MODEL_ca789889195a4f9c8ad203fea4016f99",
            "max": 531456000,
            "min": 0,
            "orientation": "horizontal",
            "style": "IPY_MODEL_582e4862faed400dafc92e9db025ecdc",
            "value": 531456000
          }
        },
        "a7e03da5dd8d41b4b2e0eb778bcc860d": {
          "model_module": "@jupyter-widgets/controls",
          "model_name": "HTMLModel",
          "model_module_version": "1.5.0",
          "state": {
            "_dom_classes": [],
            "_model_module": "@jupyter-widgets/controls",
            "_model_module_version": "1.5.0",
            "_model_name": "HTMLModel",
            "_view_count": null,
            "_view_module": "@jupyter-widgets/controls",
            "_view_module_version": "1.5.0",
            "_view_name": "HTMLView",
            "description": "",
            "description_tooltip": null,
            "layout": "IPY_MODEL_fd28279137e141c08192c045a237cdb9",
            "placeholder": "​",
            "style": "IPY_MODEL_11a93b3d3533475ebae25adfbd403ad4",
            "value": " 507M/507M [00:04&lt;00:00, 102MB/s]"
          }
        },
        "f420fef9d4cf4ded9b77c8c1299a196d": {
          "model_module": "@jupyter-widgets/base",
          "model_name": "LayoutModel",
          "model_module_version": "1.2.0",
          "state": {
            "_model_module": "@jupyter-widgets/base",
            "_model_module_version": "1.2.0",
            "_model_name": "LayoutModel",
            "_view_count": null,
            "_view_module": "@jupyter-widgets/base",
            "_view_module_version": "1.2.0",
            "_view_name": "LayoutView",
            "align_content": null,
            "align_items": null,
            "align_self": null,
            "border": null,
            "bottom": null,
            "display": null,
            "flex": null,
            "flex_flow": null,
            "grid_area": null,
            "grid_auto_columns": null,
            "grid_auto_flow": null,
            "grid_auto_rows": null,
            "grid_column": null,
            "grid_gap": null,
            "grid_row": null,
            "grid_template_areas": null,
            "grid_template_columns": null,
            "grid_template_rows": null,
            "height": null,
            "justify_content": null,
            "justify_items": null,
            "left": null,
            "margin": null,
            "max_height": null,
            "max_width": null,
            "min_height": null,
            "min_width": null,
            "object_fit": null,
            "object_position": null,
            "order": null,
            "overflow": null,
            "overflow_x": null,
            "overflow_y": null,
            "padding": null,
            "right": null,
            "top": null,
            "visibility": null,
            "width": null
          }
        },
        "c70cb329407b43f4bab04ed00b6f347b": {
          "model_module": "@jupyter-widgets/base",
          "model_name": "LayoutModel",
          "model_module_version": "1.2.0",
          "state": {
            "_model_module": "@jupyter-widgets/base",
            "_model_module_version": "1.2.0",
            "_model_name": "LayoutModel",
            "_view_count": null,
            "_view_module": "@jupyter-widgets/base",
            "_view_module_version": "1.2.0",
            "_view_name": "LayoutView",
            "align_content": null,
            "align_items": null,
            "align_self": null,
            "border": null,
            "bottom": null,
            "display": null,
            "flex": null,
            "flex_flow": null,
            "grid_area": null,
            "grid_auto_columns": null,
            "grid_auto_flow": null,
            "grid_auto_rows": null,
            "grid_column": null,
            "grid_gap": null,
            "grid_row": null,
            "grid_template_areas": null,
            "grid_template_columns": null,
            "grid_template_rows": null,
            "height": null,
            "justify_content": null,
            "justify_items": null,
            "left": null,
            "margin": null,
            "max_height": null,
            "max_width": null,
            "min_height": null,
            "min_width": null,
            "object_fit": null,
            "object_position": null,
            "order": null,
            "overflow": null,
            "overflow_x": null,
            "overflow_y": null,
            "padding": null,
            "right": null,
            "top": null,
            "visibility": null,
            "width": null
          }
        },
        "6e6823fe4e114c7ea2759074781d07a1": {
          "model_module": "@jupyter-widgets/controls",
          "model_name": "DescriptionStyleModel",
          "model_module_version": "1.5.0",
          "state": {
            "_model_module": "@jupyter-widgets/controls",
            "_model_module_version": "1.5.0",
            "_model_name": "DescriptionStyleModel",
            "_view_count": null,
            "_view_module": "@jupyter-widgets/base",
            "_view_module_version": "1.2.0",
            "_view_name": "StyleView",
            "description_width": ""
          }
        },
        "ca789889195a4f9c8ad203fea4016f99": {
          "model_module": "@jupyter-widgets/base",
          "model_name": "LayoutModel",
          "model_module_version": "1.2.0",
          "state": {
            "_model_module": "@jupyter-widgets/base",
            "_model_module_version": "1.2.0",
            "_model_name": "LayoutModel",
            "_view_count": null,
            "_view_module": "@jupyter-widgets/base",
            "_view_module_version": "1.2.0",
            "_view_name": "LayoutView",
            "align_content": null,
            "align_items": null,
            "align_self": null,
            "border": null,
            "bottom": null,
            "display": null,
            "flex": null,
            "flex_flow": null,
            "grid_area": null,
            "grid_auto_columns": null,
            "grid_auto_flow": null,
            "grid_auto_rows": null,
            "grid_column": null,
            "grid_gap": null,
            "grid_row": null,
            "grid_template_areas": null,
            "grid_template_columns": null,
            "grid_template_rows": null,
            "height": null,
            "justify_content": null,
            "justify_items": null,
            "left": null,
            "margin": null,
            "max_height": null,
            "max_width": null,
            "min_height": null,
            "min_width": null,
            "object_fit": null,
            "object_position": null,
            "order": null,
            "overflow": null,
            "overflow_x": null,
            "overflow_y": null,
            "padding": null,
            "right": null,
            "top": null,
            "visibility": null,
            "width": null
          }
        },
        "582e4862faed400dafc92e9db025ecdc": {
          "model_module": "@jupyter-widgets/controls",
          "model_name": "ProgressStyleModel",
          "model_module_version": "1.5.0",
          "state": {
            "_model_module": "@jupyter-widgets/controls",
            "_model_module_version": "1.5.0",
            "_model_name": "ProgressStyleModel",
            "_view_count": null,
            "_view_module": "@jupyter-widgets/base",
            "_view_module_version": "1.2.0",
            "_view_name": "StyleView",
            "bar_color": null,
            "description_width": ""
          }
        },
        "fd28279137e141c08192c045a237cdb9": {
          "model_module": "@jupyter-widgets/base",
          "model_name": "LayoutModel",
          "model_module_version": "1.2.0",
          "state": {
            "_model_module": "@jupyter-widgets/base",
            "_model_module_version": "1.2.0",
            "_model_name": "LayoutModel",
            "_view_count": null,
            "_view_module": "@jupyter-widgets/base",
            "_view_module_version": "1.2.0",
            "_view_name": "LayoutView",
            "align_content": null,
            "align_items": null,
            "align_self": null,
            "border": null,
            "bottom": null,
            "display": null,
            "flex": null,
            "flex_flow": null,
            "grid_area": null,
            "grid_auto_columns": null,
            "grid_auto_flow": null,
            "grid_auto_rows": null,
            "grid_column": null,
            "grid_gap": null,
            "grid_row": null,
            "grid_template_areas": null,
            "grid_template_columns": null,
            "grid_template_rows": null,
            "height": null,
            "justify_content": null,
            "justify_items": null,
            "left": null,
            "margin": null,
            "max_height": null,
            "max_width": null,
            "min_height": null,
            "min_width": null,
            "object_fit": null,
            "object_position": null,
            "order": null,
            "overflow": null,
            "overflow_x": null,
            "overflow_y": null,
            "padding": null,
            "right": null,
            "top": null,
            "visibility": null,
            "width": null
          }
        },
        "11a93b3d3533475ebae25adfbd403ad4": {
          "model_module": "@jupyter-widgets/controls",
          "model_name": "DescriptionStyleModel",
          "model_module_version": "1.5.0",
          "state": {
            "_model_module": "@jupyter-widgets/controls",
            "_model_module_version": "1.5.0",
            "_model_name": "DescriptionStyleModel",
            "_view_count": null,
            "_view_module": "@jupyter-widgets/base",
            "_view_module_version": "1.2.0",
            "_view_name": "StyleView",
            "description_width": ""
          }
        }
      }
    }
  },
  "nbformat_minor": 0,
  "nbformat": 4,
  "cells": [
    {
      "cell_type": "markdown",
      "metadata": {
        "id": "view-in-github",
        "colab_type": "text"
      },
      "source": [
        "<a href=\"https://colab.research.google.com/github/JumanaRahim/workshop/blob/master/LUNG_NODULE_DETECTION_vgg11.ipynb\" target=\"_parent\"><img src=\"https://colab.research.google.com/assets/colab-badge.svg\" alt=\"Open In Colab\"/></a>"
      ]
    },
    {
      "cell_type": "code",
      "source": [
        "from google.colab import drive\n",
        "drive.mount('/content/drive')"
      ],
      "metadata": {
        "colab": {
          "base_uri": "https://localhost:8080/"
        },
        "id": "fz9iAW7dXeue",
        "outputId": "de24280d-7409-4ce5-8fcd-13d29a3bbd47"
      },
      "execution_count": null,
      "outputs": [
        {
          "output_type": "stream",
          "name": "stdout",
          "text": [
            "Mounted at /content/drive\n"
          ]
        }
      ]
    },
    {
      "cell_type": "code",
      "source": [
        "!pip install pretrainedmodels\n",
        "!pip install torchsummary\n",
        "!pip install imutils\n",
        "!pip install tqdm"
      ],
      "metadata": {
        "colab": {
          "base_uri": "https://localhost:8080/"
        },
        "id": "5jNtZpgFN2p3",
        "outputId": "43586924-e787-4965-f81b-96735450c117",
        "execution": {
          "iopub.status.busy": "2022-12-24T04:20:40.853322Z",
          "iopub.execute_input": "2022-12-24T04:20:40.853648Z",
          "iopub.status.idle": "2022-12-24T04:21:19.146616Z",
          "shell.execute_reply.started": "2022-12-24T04:20:40.853583Z",
          "shell.execute_reply": "2022-12-24T04:21:19.145623Z"
        },
        "trusted": true
      },
      "execution_count": null,
      "outputs": [
        {
          "output_type": "stream",
          "name": "stdout",
          "text": [
            "Looking in indexes: https://pypi.org/simple, https://us-python.pkg.dev/colab-wheels/public/simple/\n",
            "Collecting pretrainedmodels\n",
            "  Downloading pretrainedmodels-0.7.4.tar.gz (58 kB)\n",
            "\u001b[K     |████████████████████████████████| 58 kB 7.0 MB/s \n",
            "\u001b[?25hRequirement already satisfied: torch in /usr/local/lib/python3.8/dist-packages (from pretrainedmodels) (1.13.0+cu116)\n",
            "Requirement already satisfied: torchvision in /usr/local/lib/python3.8/dist-packages (from pretrainedmodels) (0.14.0+cu116)\n",
            "Collecting munch\n",
            "  Downloading munch-2.5.0-py2.py3-none-any.whl (10 kB)\n",
            "Requirement already satisfied: tqdm in /usr/local/lib/python3.8/dist-packages (from pretrainedmodels) (4.64.1)\n",
            "Requirement already satisfied: six in /usr/local/lib/python3.8/dist-packages (from munch->pretrainedmodels) (1.15.0)\n",
            "Requirement already satisfied: typing-extensions in /usr/local/lib/python3.8/dist-packages (from torch->pretrainedmodels) (4.4.0)\n",
            "Requirement already satisfied: numpy in /usr/local/lib/python3.8/dist-packages (from torchvision->pretrainedmodels) (1.21.6)\n",
            "Requirement already satisfied: requests in /usr/local/lib/python3.8/dist-packages (from torchvision->pretrainedmodels) (2.23.0)\n",
            "Requirement already satisfied: pillow!=8.3.*,>=5.3.0 in /usr/local/lib/python3.8/dist-packages (from torchvision->pretrainedmodels) (7.1.2)\n",
            "Requirement already satisfied: certifi>=2017.4.17 in /usr/local/lib/python3.8/dist-packages (from requests->torchvision->pretrainedmodels) (2022.12.7)\n",
            "Requirement already satisfied: idna<3,>=2.5 in /usr/local/lib/python3.8/dist-packages (from requests->torchvision->pretrainedmodels) (2.10)\n",
            "Requirement already satisfied: chardet<4,>=3.0.2 in /usr/local/lib/python3.8/dist-packages (from requests->torchvision->pretrainedmodels) (3.0.4)\n",
            "Requirement already satisfied: urllib3!=1.25.0,!=1.25.1,<1.26,>=1.21.1 in /usr/local/lib/python3.8/dist-packages (from requests->torchvision->pretrainedmodels) (1.24.3)\n",
            "Building wheels for collected packages: pretrainedmodels\n",
            "  Building wheel for pretrainedmodels (setup.py) ... \u001b[?25l\u001b[?25hdone\n",
            "  Created wheel for pretrainedmodels: filename=pretrainedmodels-0.7.4-py3-none-any.whl size=60966 sha256=66f197e99606dadb3bfa9cd289cb0fa2b749048501b1b4357bea97c0e7b8b3fa\n",
            "  Stored in directory: /root/.cache/pip/wheels/ed/fa/b9/5c82b59d905f95542a192b883c0cc0082407ea2f54beb2f9e6\n",
            "Successfully built pretrainedmodels\n",
            "Installing collected packages: munch, pretrainedmodels\n",
            "Successfully installed munch-2.5.0 pretrainedmodels-0.7.4\n",
            "Looking in indexes: https://pypi.org/simple, https://us-python.pkg.dev/colab-wheels/public/simple/\n",
            "Requirement already satisfied: torchsummary in /usr/local/lib/python3.8/dist-packages (1.5.1)\n",
            "Looking in indexes: https://pypi.org/simple, https://us-python.pkg.dev/colab-wheels/public/simple/\n",
            "Requirement already satisfied: imutils in /usr/local/lib/python3.8/dist-packages (0.5.4)\n",
            "Looking in indexes: https://pypi.org/simple, https://us-python.pkg.dev/colab-wheels/public/simple/\n",
            "Requirement already satisfied: tqdm in /usr/local/lib/python3.8/dist-packages (4.64.1)\n"
          ]
        }
      ]
    },
    {
      "cell_type": "code",
      "source": [
        "import os\n",
        "import torch\n",
        "from torch.utils.data import DataLoader,Dataset\n",
        "from torchvision import transforms\n",
        "from sklearn.preprocessing import LabelEncoder\n",
        "from torchsummary import summary\n",
        "from torch import nn\n",
        "import torch.nn.functional as F\n",
        "from imutils import paths\n",
        "import cv2\n",
        "import numpy as np\n",
        "from sklearn.model_selection import train_test_split\n",
        "import pretrainedmodels\n",
        "import torchvision\n",
        "from tqdm import tqdm\n",
        "import matplotlib.pyplot as plt"
      ],
      "metadata": {
        "id": "tvtdq_wwtt_x",
        "execution": {
          "iopub.status.busy": "2022-12-24T04:21:19.148759Z",
          "iopub.execute_input": "2022-12-24T04:21:19.149075Z",
          "iopub.status.idle": "2022-12-24T04:21:26.361650Z",
          "shell.execute_reply.started": "2022-12-24T04:21:19.149032Z",
          "shell.execute_reply": "2022-12-24T04:21:26.360767Z"
        },
        "trusted": true
      },
      "execution_count": null,
      "outputs": []
    },
    {
      "cell_type": "code",
      "source": [
        "!unzip /content/drive/MyDrive/dataset.zip"
      ],
      "metadata": {
        "colab": {
          "base_uri": "https://localhost:8080/"
        },
        "id": "Kvj7fpmkX4Nx",
        "outputId": "6d83d20b-8fe9-4ae9-851f-f142cd7d0b44"
      },
      "execution_count": null,
      "outputs": [
        {
          "output_type": "stream",
          "name": "stdout",
          "text": [
            "Archive:  /content/drive/MyDrive/dataset.zip\n",
            "   creating: dataset/benign/\n",
            "  inflating: dataset/benign/JPCLN002.png  \n",
            "  inflating: dataset/benign/JPCLN004.png  \n",
            "  inflating: dataset/benign/JPCLN006.png  \n",
            "  inflating: dataset/benign/JPCLN008.png  \n",
            "  inflating: dataset/benign/JPCLN011.png  \n",
            "  inflating: dataset/benign/JPCLN013.png  \n",
            "  inflating: dataset/benign/JPCLN024.png  \n",
            "  inflating: dataset/benign/JPCLN025.png  \n",
            "  inflating: dataset/benign/JPCLN026.png  \n",
            "  inflating: dataset/benign/JPCLN030.png  \n",
            "  inflating: dataset/benign/JPCLN034.png  \n",
            "  inflating: dataset/benign/JPCLN036.png  \n",
            "  inflating: dataset/benign/JPCLN043.png  \n",
            "  inflating: dataset/benign/JPCLN048.png  \n",
            "  inflating: dataset/benign/JPCLN049.png  \n",
            "  inflating: dataset/benign/JPCLN055.png  \n",
            "  inflating: dataset/benign/JPCLN058.png  \n",
            "  inflating: dataset/benign/JPCLN060.png  \n",
            "  inflating: dataset/benign/JPCLN061.png  \n",
            "  inflating: dataset/benign/JPCLN066.png  \n",
            "  inflating: dataset/benign/JPCLN068.png  \n",
            "  inflating: dataset/benign/JPCLN070.png  \n",
            "  inflating: dataset/benign/JPCLN075.png  \n",
            "  inflating: dataset/benign/JPCLN078.png  \n",
            "  inflating: dataset/benign/JPCLN079.png  \n",
            "  inflating: dataset/benign/JPCLN087.png  \n",
            "  inflating: dataset/benign/JPCLN089.png  \n",
            "  inflating: dataset/benign/JPCLN094.png  \n",
            "  inflating: dataset/benign/JPCLN096.png  \n",
            "  inflating: dataset/benign/JPCLN098.png  \n",
            "  inflating: dataset/benign/JPCLN100.png  \n",
            "  inflating: dataset/benign/JPCLN101.png  \n",
            "  inflating: dataset/benign/JPCLN102.png  \n",
            "  inflating: dataset/benign/JPCLN107.png  \n",
            "  inflating: dataset/benign/JPCLN111.png  \n",
            "  inflating: dataset/benign/JPCLN115.png  \n",
            "  inflating: dataset/benign/JPCLN119.png  \n",
            "  inflating: dataset/benign/JPCLN121.png  \n",
            "  inflating: dataset/benign/JPCLN122.png  \n",
            "  inflating: dataset/benign/JPCLN123.png  \n",
            "  inflating: dataset/benign/JPCLN124.png  \n",
            "  inflating: dataset/benign/JPCLN127.png  \n",
            "  inflating: dataset/benign/JPCLN135.png  \n",
            "  inflating: dataset/benign/JPCLN136.png  \n",
            "  inflating: dataset/benign/JPCLN137.png  \n",
            "  inflating: dataset/benign/JPCLN138.png  \n",
            "  inflating: dataset/benign/JPCLN139.png  \n",
            "  inflating: dataset/benign/JPCLN141.png  \n",
            "  inflating: dataset/benign/JPCLN142.png  \n",
            "  inflating: dataset/benign/JPCLN144.png  \n",
            "  inflating: dataset/benign/JPCLN146.png  \n",
            "  inflating: dataset/benign/JPCLN148.png  \n",
            "  inflating: dataset/benign/JPCLN149.png  \n",
            "  inflating: dataset/benign/JPCLN152.png  \n",
            "   creating: dataset/malignant/\n",
            "  inflating: dataset/malignant/JPCLN001.png  \n",
            "  inflating: dataset/malignant/JPCLN003.png  \n",
            "  inflating: dataset/malignant/JPCLN005.png  \n",
            "  inflating: dataset/malignant/JPCLN007.png  \n",
            "  inflating: dataset/malignant/JPCLN009.png  \n",
            "  inflating: dataset/malignant/JPCLN010.png  \n",
            "  inflating: dataset/malignant/JPCLN012.png  \n",
            "  inflating: dataset/malignant/JPCLN014.png  \n",
            "  inflating: dataset/malignant/JPCLN015.png  \n",
            "  inflating: dataset/malignant/JPCLN016.png  \n",
            "  inflating: dataset/malignant/JPCLN017.png  \n",
            "  inflating: dataset/malignant/JPCLN018.png  \n",
            "  inflating: dataset/malignant/JPCLN019.png  \n",
            "  inflating: dataset/malignant/JPCLN020.png  \n",
            "  inflating: dataset/malignant/JPCLN021.png  \n",
            "  inflating: dataset/malignant/JPCLN022.png  \n",
            "  inflating: dataset/malignant/JPCLN023.png  \n",
            "  inflating: dataset/malignant/JPCLN027.png  \n",
            "  inflating: dataset/malignant/JPCLN028.png  \n",
            "  inflating: dataset/malignant/JPCLN029.png  \n",
            "  inflating: dataset/malignant/JPCLN031.png  \n",
            "  inflating: dataset/malignant/JPCLN032.png  \n",
            "  inflating: dataset/malignant/JPCLN033.png  \n",
            "  inflating: dataset/malignant/JPCLN035.png  \n",
            "  inflating: dataset/malignant/JPCLN037.png  \n",
            "  inflating: dataset/malignant/JPCLN038.png  \n",
            "  inflating: dataset/malignant/JPCLN039.png  \n",
            "  inflating: dataset/malignant/JPCLN040.png  \n",
            "  inflating: dataset/malignant/JPCLN041.png  \n",
            "  inflating: dataset/malignant/JPCLN042.png  \n",
            "  inflating: dataset/malignant/JPCLN044.png  \n",
            "  inflating: dataset/malignant/JPCLN045.png  \n",
            "  inflating: dataset/malignant/JPCLN046.png  \n",
            "  inflating: dataset/malignant/JPCLN047.png  \n",
            "  inflating: dataset/malignant/JPCLN050.png  \n",
            "  inflating: dataset/malignant/JPCLN051.png  \n",
            "  inflating: dataset/malignant/JPCLN052.png  \n",
            "  inflating: dataset/malignant/JPCLN053.png  \n",
            "  inflating: dataset/malignant/JPCLN054.png  \n",
            "  inflating: dataset/malignant/JPCLN056.png  \n",
            "  inflating: dataset/malignant/JPCLN057.png  \n",
            "  inflating: dataset/malignant/JPCLN059.png  \n",
            "  inflating: dataset/malignant/JPCLN062.png  \n",
            "  inflating: dataset/malignant/JPCLN063.png  \n",
            "  inflating: dataset/malignant/JPCLN064.png  \n",
            "  inflating: dataset/malignant/JPCLN065.png  \n",
            "  inflating: dataset/malignant/JPCLN067.png  \n",
            "  inflating: dataset/malignant/JPCLN069.png  \n",
            "  inflating: dataset/malignant/JPCLN071.png  \n",
            "  inflating: dataset/malignant/JPCLN072.png  \n",
            "  inflating: dataset/malignant/JPCLN073.png  \n",
            "  inflating: dataset/malignant/JPCLN074.png  \n",
            "  inflating: dataset/malignant/JPCLN076.png  \n",
            "  inflating: dataset/malignant/JPCLN077.png  \n",
            "  inflating: dataset/malignant/JPCLN080.png  \n",
            "  inflating: dataset/malignant/JPCLN081.png  \n",
            "  inflating: dataset/malignant/JPCLN082.png  \n",
            "  inflating: dataset/malignant/JPCLN083.png  \n",
            "  inflating: dataset/malignant/JPCLN084.png  \n",
            "  inflating: dataset/malignant/JPCLN085.png  \n",
            "  inflating: dataset/malignant/JPCLN086.png  \n",
            "  inflating: dataset/malignant/JPCLN088.png  \n",
            "  inflating: dataset/malignant/JPCLN090.png  \n",
            "  inflating: dataset/malignant/JPCLN091.png  \n",
            "  inflating: dataset/malignant/JPCLN092.png  \n",
            "  inflating: dataset/malignant/JPCLN093.png  \n",
            "  inflating: dataset/malignant/JPCLN095.png  \n",
            "  inflating: dataset/malignant/JPCLN097.png  \n",
            "  inflating: dataset/malignant/JPCLN099.png  \n",
            "  inflating: dataset/malignant/JPCLN103.png  \n",
            "  inflating: dataset/malignant/JPCLN104.png  \n",
            "  inflating: dataset/malignant/JPCLN105.png  \n",
            "  inflating: dataset/malignant/JPCLN106.png  \n",
            "  inflating: dataset/malignant/JPCLN108.png  \n",
            "  inflating: dataset/malignant/JPCLN109.png  \n",
            "  inflating: dataset/malignant/JPCLN110.png  \n",
            "  inflating: dataset/malignant/JPCLN112.png  \n",
            "  inflating: dataset/malignant/JPCLN113.png  \n",
            "  inflating: dataset/malignant/JPCLN114.png  \n",
            "  inflating: dataset/malignant/JPCLN116.png  \n",
            "  inflating: dataset/malignant/JPCLN117.png  \n",
            "  inflating: dataset/malignant/JPCLN118.png  \n",
            "  inflating: dataset/malignant/JPCLN120.png  \n",
            "  inflating: dataset/malignant/JPCLN125.png  \n",
            "  inflating: dataset/malignant/JPCLN126.png  \n",
            "  inflating: dataset/malignant/JPCLN128.png  \n",
            "  inflating: dataset/malignant/JPCLN129.png  \n",
            "  inflating: dataset/malignant/JPCLN130.png  \n",
            "  inflating: dataset/malignant/JPCLN131.png  \n",
            "  inflating: dataset/malignant/JPCLN132.png  \n",
            "  inflating: dataset/malignant/JPCLN133.png  \n",
            "  inflating: dataset/malignant/JPCLN134.png  \n",
            "  inflating: dataset/malignant/JPCLN140.png  \n",
            "  inflating: dataset/malignant/JPCLN143.png  \n",
            "  inflating: dataset/malignant/JPCLN145.png  \n",
            "  inflating: dataset/malignant/JPCLN147.png  \n",
            "  inflating: dataset/malignant/JPCLN150.png  \n",
            "  inflating: dataset/malignant/JPCLN151.png  \n",
            "  inflating: dataset/malignant/JPCLN153.png  \n",
            "  inflating: dataset/malignant/JPCLN154.png  \n",
            "   creating: dataset/non-nodule/\n",
            "  inflating: dataset/non-nodule/desktop.ini  \n",
            "  inflating: dataset/non-nodule/JPCNN001.png  \n",
            "  inflating: dataset/non-nodule/JPCNN002.png  \n",
            "  inflating: dataset/non-nodule/JPCNN003.png  \n",
            "  inflating: dataset/non-nodule/JPCNN004.png  \n",
            "  inflating: dataset/non-nodule/JPCNN005.png  \n",
            "  inflating: dataset/non-nodule/JPCNN006.png  \n",
            "  inflating: dataset/non-nodule/JPCNN007.png  \n",
            "  inflating: dataset/non-nodule/JPCNN008.png  \n",
            "  inflating: dataset/non-nodule/JPCNN009.png  \n",
            "  inflating: dataset/non-nodule/JPCNN010.png  \n",
            "  inflating: dataset/non-nodule/JPCNN011.png  \n",
            "  inflating: dataset/non-nodule/JPCNN012.png  \n",
            "  inflating: dataset/non-nodule/JPCNN013.png  \n",
            "  inflating: dataset/non-nodule/JPCNN014.png  \n",
            "  inflating: dataset/non-nodule/JPCNN015.png  \n",
            "  inflating: dataset/non-nodule/JPCNN016.png  \n",
            "  inflating: dataset/non-nodule/JPCNN017.png  \n",
            "  inflating: dataset/non-nodule/JPCNN018.png  \n",
            "  inflating: dataset/non-nodule/JPCNN019.png  \n",
            "  inflating: dataset/non-nodule/JPCNN020.png  \n",
            "  inflating: dataset/non-nodule/JPCNN021.png  \n",
            "  inflating: dataset/non-nodule/JPCNN022.png  \n",
            "  inflating: dataset/non-nodule/JPCNN023.png  \n",
            "  inflating: dataset/non-nodule/JPCNN024.png  \n",
            "  inflating: dataset/non-nodule/JPCNN025.png  \n",
            "  inflating: dataset/non-nodule/JPCNN026.png  \n",
            "  inflating: dataset/non-nodule/JPCNN027.png  \n",
            "  inflating: dataset/non-nodule/JPCNN028.png  \n",
            "  inflating: dataset/non-nodule/JPCNN029.png  \n",
            "  inflating: dataset/non-nodule/JPCNN030.png  \n",
            "  inflating: dataset/non-nodule/JPCNN031.png  \n",
            "  inflating: dataset/non-nodule/JPCNN032.png  \n",
            "  inflating: dataset/non-nodule/JPCNN033.png  \n",
            "  inflating: dataset/non-nodule/JPCNN034.png  \n",
            "  inflating: dataset/non-nodule/JPCNN035.png  \n",
            "  inflating: dataset/non-nodule/JPCNN036.png  \n",
            "  inflating: dataset/non-nodule/JPCNN037.png  \n",
            "  inflating: dataset/non-nodule/JPCNN038.png  \n",
            "  inflating: dataset/non-nodule/JPCNN039.png  \n",
            "  inflating: dataset/non-nodule/JPCNN040.png  \n",
            "  inflating: dataset/non-nodule/JPCNN041.png  \n",
            "  inflating: dataset/non-nodule/JPCNN042.png  \n",
            "  inflating: dataset/non-nodule/JPCNN043.png  \n",
            "  inflating: dataset/non-nodule/JPCNN044.png  \n",
            "  inflating: dataset/non-nodule/JPCNN045.png  \n",
            "  inflating: dataset/non-nodule/JPCNN046.png  \n",
            "  inflating: dataset/non-nodule/JPCNN047.png  \n",
            "  inflating: dataset/non-nodule/JPCNN048.png  \n",
            "  inflating: dataset/non-nodule/JPCNN049.png  \n",
            "  inflating: dataset/non-nodule/JPCNN050.png  \n",
            "  inflating: dataset/non-nodule/JPCNN051.png  \n",
            "  inflating: dataset/non-nodule/JPCNN052.png  \n",
            "  inflating: dataset/non-nodule/JPCNN053.png  \n",
            "  inflating: dataset/non-nodule/JPCNN054.png  \n",
            "  inflating: dataset/non-nodule/JPCNN055.png  \n",
            "  inflating: dataset/non-nodule/JPCNN056.png  \n",
            "  inflating: dataset/non-nodule/JPCNN057.png  \n",
            "  inflating: dataset/non-nodule/JPCNN058.png  \n",
            "  inflating: dataset/non-nodule/JPCNN059.png  \n",
            "  inflating: dataset/non-nodule/JPCNN060.png  \n",
            "  inflating: dataset/non-nodule/JPCNN061.png  \n",
            "  inflating: dataset/non-nodule/JPCNN062.png  \n",
            "  inflating: dataset/non-nodule/JPCNN063.png  \n",
            "  inflating: dataset/non-nodule/JPCNN064.png  \n",
            "  inflating: dataset/non-nodule/JPCNN065.png  \n",
            "  inflating: dataset/non-nodule/JPCNN066.png  \n",
            "  inflating: dataset/non-nodule/JPCNN067.png  \n",
            "  inflating: dataset/non-nodule/JPCNN068.png  \n",
            "  inflating: dataset/non-nodule/JPCNN069.png  \n",
            "  inflating: dataset/non-nodule/JPCNN070.png  \n",
            "  inflating: dataset/non-nodule/JPCNN071.png  \n",
            "  inflating: dataset/non-nodule/JPCNN072.png  \n",
            "  inflating: dataset/non-nodule/JPCNN073.png  \n",
            "  inflating: dataset/non-nodule/JPCNN074.png  \n",
            "  inflating: dataset/non-nodule/JPCNN075.png  \n",
            "  inflating: dataset/non-nodule/JPCNN076.png  \n",
            "  inflating: dataset/non-nodule/JPCNN077.png  \n",
            "  inflating: dataset/non-nodule/JPCNN078.png  \n",
            "  inflating: dataset/non-nodule/JPCNN079.png  \n",
            "  inflating: dataset/non-nodule/JPCNN080.png  \n",
            "  inflating: dataset/non-nodule/JPCNN081.png  \n",
            "  inflating: dataset/non-nodule/JPCNN082.png  \n",
            "  inflating: dataset/non-nodule/JPCNN083.png  \n",
            "  inflating: dataset/non-nodule/JPCNN084.png  \n",
            "  inflating: dataset/non-nodule/JPCNN085.png  \n",
            "  inflating: dataset/non-nodule/JPCNN086.png  \n",
            "  inflating: dataset/non-nodule/JPCNN087.png  \n",
            "  inflating: dataset/non-nodule/JPCNN088.png  \n",
            "  inflating: dataset/non-nodule/JPCNN089.png  \n",
            "  inflating: dataset/non-nodule/JPCNN090.png  \n",
            "  inflating: dataset/non-nodule/JPCNN091.png  \n",
            "  inflating: dataset/non-nodule/JPCNN092.png  \n",
            "  inflating: dataset/non-nodule/JPCNN093.png  \n"
          ]
        }
      ]
    },
    {
      "cell_type": "code",
      "source": [
        "root='/content/dataset'"
      ],
      "metadata": {
        "id": "mZSWxppaMYV-",
        "execution": {
          "iopub.status.busy": "2022-12-24T04:21:26.364086Z",
          "iopub.execute_input": "2022-12-24T04:21:26.364396Z",
          "iopub.status.idle": "2022-12-24T04:21:26.370723Z",
          "shell.execute_reply.started": "2022-12-24T04:21:26.364358Z",
          "shell.execute_reply": "2022-12-24T04:21:26.368716Z"
        },
        "trusted": true
      },
      "execution_count": null,
      "outputs": []
    },
    {
      "cell_type": "code",
      "source": [
        "classes=('benign', 'malignant', 'non-nodule')\n"
      ],
      "metadata": {
        "id": "shYAcU6IFJKu",
        "execution": {
          "iopub.status.busy": "2022-12-24T04:21:26.372402Z",
          "iopub.execute_input": "2022-12-24T04:21:26.372703Z",
          "iopub.status.idle": "2022-12-24T04:21:26.384751Z",
          "shell.execute_reply.started": "2022-12-24T04:21:26.372667Z",
          "shell.execute_reply": "2022-12-24T04:21:26.383926Z"
        },
        "trusted": true
      },
      "execution_count": null,
      "outputs": []
    },
    {
      "cell_type": "code",
      "source": [
        "image_paths = list(paths.list_images('/content/dataset'))\n",
        "\n",
        "data = []\n",
        "labels = []\n",
        "for img_path in image_paths:\n",
        "    label = img_path.split(os.path.sep)[-2]\n",
        "    img = cv2.imread(img_path)\n",
        "    img = cv2.cvtColor(img, cv2.COLOR_BGR2RGB)\n",
        "    \n",
        "    data.append(img)\n",
        "    labels.append(label)\n",
        "    \n",
        "data = np.array(data)\n",
        "labels = np.array(labels)"
      ],
      "metadata": {
        "id": "5WDI6i71ORyn",
        "execution": {
          "iopub.status.busy": "2022-12-24T04:21:26.386102Z",
          "iopub.execute_input": "2022-12-24T04:21:26.386770Z",
          "iopub.status.idle": "2022-12-24T04:21:32.278558Z",
          "shell.execute_reply.started": "2022-12-24T04:21:26.386731Z",
          "shell.execute_reply": "2022-12-24T04:21:32.277781Z"
        },
        "trusted": true
      },
      "execution_count": null,
      "outputs": []
    },
    {
      "cell_type": "code",
      "source": [
        "labels"
      ],
      "metadata": {
        "colab": {
          "base_uri": "https://localhost:8080/"
        },
        "id": "JRiiXyOerNpE",
        "outputId": "8763064b-0fc8-488e-a283-89f1f6ebecb5",
        "execution": {
          "iopub.status.busy": "2022-12-24T04:21:32.279762Z",
          "iopub.execute_input": "2022-12-24T04:21:32.280032Z",
          "iopub.status.idle": "2022-12-24T04:21:32.295243Z",
          "shell.execute_reply.started": "2022-12-24T04:21:32.279999Z",
          "shell.execute_reply": "2022-12-24T04:21:32.294414Z"
        },
        "trusted": true
      },
      "execution_count": null,
      "outputs": [
        {
          "output_type": "execute_result",
          "data": {
            "text/plain": [
              "array(['malignant', 'malignant', 'malignant', 'malignant', 'malignant',\n",
              "       'malignant', 'malignant', 'malignant', 'malignant', 'malignant',\n",
              "       'malignant', 'malignant', 'malignant', 'malignant', 'malignant',\n",
              "       'malignant', 'malignant', 'malignant', 'malignant', 'malignant',\n",
              "       'malignant', 'malignant', 'malignant', 'malignant', 'malignant',\n",
              "       'malignant', 'malignant', 'malignant', 'malignant', 'malignant',\n",
              "       'malignant', 'malignant', 'malignant', 'malignant', 'malignant',\n",
              "       'malignant', 'malignant', 'malignant', 'malignant', 'malignant',\n",
              "       'malignant', 'malignant', 'malignant', 'malignant', 'malignant',\n",
              "       'malignant', 'malignant', 'malignant', 'malignant', 'malignant',\n",
              "       'malignant', 'malignant', 'malignant', 'malignant', 'malignant',\n",
              "       'malignant', 'malignant', 'malignant', 'malignant', 'malignant',\n",
              "       'malignant', 'malignant', 'malignant', 'malignant', 'malignant',\n",
              "       'malignant', 'malignant', 'malignant', 'malignant', 'malignant',\n",
              "       'malignant', 'malignant', 'malignant', 'malignant', 'malignant',\n",
              "       'malignant', 'malignant', 'malignant', 'malignant', 'malignant',\n",
              "       'malignant', 'malignant', 'malignant', 'malignant', 'malignant',\n",
              "       'malignant', 'malignant', 'malignant', 'malignant', 'malignant',\n",
              "       'malignant', 'malignant', 'malignant', 'malignant', 'malignant',\n",
              "       'malignant', 'malignant', 'malignant', 'malignant', 'malignant',\n",
              "       'benign', 'benign', 'benign', 'benign', 'benign', 'benign',\n",
              "       'benign', 'benign', 'benign', 'benign', 'benign', 'benign',\n",
              "       'benign', 'benign', 'benign', 'benign', 'benign', 'benign',\n",
              "       'benign', 'benign', 'benign', 'benign', 'benign', 'benign',\n",
              "       'benign', 'benign', 'benign', 'benign', 'benign', 'benign',\n",
              "       'benign', 'benign', 'benign', 'benign', 'benign', 'benign',\n",
              "       'benign', 'benign', 'benign', 'benign', 'benign', 'benign',\n",
              "       'benign', 'benign', 'benign', 'benign', 'benign', 'benign',\n",
              "       'benign', 'benign', 'benign', 'benign', 'benign', 'benign',\n",
              "       'non-nodule', 'non-nodule', 'non-nodule', 'non-nodule',\n",
              "       'non-nodule', 'non-nodule', 'non-nodule', 'non-nodule',\n",
              "       'non-nodule', 'non-nodule', 'non-nodule', 'non-nodule',\n",
              "       'non-nodule', 'non-nodule', 'non-nodule', 'non-nodule',\n",
              "       'non-nodule', 'non-nodule', 'non-nodule', 'non-nodule',\n",
              "       'non-nodule', 'non-nodule', 'non-nodule', 'non-nodule',\n",
              "       'non-nodule', 'non-nodule', 'non-nodule', 'non-nodule',\n",
              "       'non-nodule', 'non-nodule', 'non-nodule', 'non-nodule',\n",
              "       'non-nodule', 'non-nodule', 'non-nodule', 'non-nodule',\n",
              "       'non-nodule', 'non-nodule', 'non-nodule', 'non-nodule',\n",
              "       'non-nodule', 'non-nodule', 'non-nodule', 'non-nodule',\n",
              "       'non-nodule', 'non-nodule', 'non-nodule', 'non-nodule',\n",
              "       'non-nodule', 'non-nodule', 'non-nodule', 'non-nodule',\n",
              "       'non-nodule', 'non-nodule', 'non-nodule', 'non-nodule',\n",
              "       'non-nodule', 'non-nodule', 'non-nodule', 'non-nodule',\n",
              "       'non-nodule', 'non-nodule', 'non-nodule', 'non-nodule',\n",
              "       'non-nodule', 'non-nodule', 'non-nodule', 'non-nodule',\n",
              "       'non-nodule', 'non-nodule', 'non-nodule', 'non-nodule',\n",
              "       'non-nodule', 'non-nodule', 'non-nodule', 'non-nodule',\n",
              "       'non-nodule', 'non-nodule', 'non-nodule', 'non-nodule',\n",
              "       'non-nodule', 'non-nodule', 'non-nodule', 'non-nodule',\n",
              "       'non-nodule', 'non-nodule', 'non-nodule', 'non-nodule',\n",
              "       'non-nodule', 'non-nodule', 'non-nodule', 'non-nodule',\n",
              "       'non-nodule'], dtype='<U10')"
            ]
          },
          "metadata": {},
          "execution_count": 8
        }
      ]
    },
    {
      "cell_type": "code",
      "source": [
        "lb = LabelEncoder()\n",
        "labels = lb.fit_transform(labels)\n",
        "print(f\"Total Number of Classes: {len(lb.classes_)}\")"
      ],
      "metadata": {
        "colab": {
          "base_uri": "https://localhost:8080/"
        },
        "id": "2TEpv5btiBnH",
        "outputId": "56ef7f05-40a5-41f4-8c62-12022f32a240",
        "execution": {
          "iopub.status.busy": "2022-12-24T04:21:32.297927Z",
          "iopub.execute_input": "2022-12-24T04:21:32.298285Z",
          "iopub.status.idle": "2022-12-24T04:21:32.306243Z",
          "shell.execute_reply.started": "2022-12-24T04:21:32.298247Z",
          "shell.execute_reply": "2022-12-24T04:21:32.305393Z"
        },
        "trusted": true
      },
      "execution_count": null,
      "outputs": [
        {
          "output_type": "stream",
          "name": "stdout",
          "text": [
            "Total Number of Classes: 3\n"
          ]
        }
      ]
    },
    {
      "cell_type": "code",
      "source": [
        "#orginal dataset\n",
        "\n",
        "train_orginal_transforms = transforms.Compose([\n",
        "    transforms.ToPILImage(),\n",
        "    transforms.Resize((224, 224)),\n",
        "    transforms.ToTensor(),\n",
        "])\n",
        "\n",
        "test_orginal_transforms = transforms.Compose([\n",
        "    transforms.ToPILImage(),\n",
        "    transforms.Resize((224, 224)),\n",
        "    transforms.ToTensor(),\n",
        "])    \n",
        "\n",
        "\n",
        "#for data augmentation\n",
        "\n",
        "train_augmentation_transforms = transforms.Compose([\n",
        "    transforms.ToPILImage(),\n",
        "    transforms.Resize((224, 224)),\n",
        "    transforms.ToTensor(),\n",
        "    transforms.RandomHorizontalFlip(p=0.5),\n",
        "    transforms.RandomVerticalFlip(p=0.5),\n",
        "    transforms.Normalize(mean = [0.485,0.456,0.406], std=[0.229,0.224,0.225]),\n",
        "])\n",
        "\n",
        "test_augmentation_transforms = transforms.Compose([\n",
        "    transforms.ToPILImage(),\n",
        "    transforms.Resize((224, 224)),\n",
        "    transforms.ToTensor(),\n",
        "    transforms.RandomHorizontalFlip(p=0.5),\n",
        "    transforms.RandomVerticalFlip(p=0.5),\n",
        "    transforms.Normalize(mean = [0.485,0.456,0.406], std=[0.229,0.224,0.225]),\n",
        "])"
      ],
      "metadata": {
        "id": "W2IX6X3ZiwUp",
        "execution": {
          "iopub.status.busy": "2022-12-24T04:21:32.307810Z",
          "iopub.execute_input": "2022-12-24T04:21:32.308788Z",
          "iopub.status.idle": "2022-12-24T04:21:32.319087Z",
          "shell.execute_reply.started": "2022-12-24T04:21:32.308748Z",
          "shell.execute_reply": "2022-12-24T04:21:32.318221Z"
        },
        "trusted": true
      },
      "execution_count": null,
      "outputs": []
    },
    {
      "cell_type": "code",
      "source": [
        "# divide the data into train, validation, and test set\n",
        "#(X, x_val , Y, y_val) = train_test_split(data, labels, test_size=0.2,  stratify=labels,random_state=42)\n",
        "#(x_train, x_test, y_train, y_test) = train_test_split(X, Y, test_size=0.25, random_state=42)\n",
        "#print(f\"x_train examples: {x_train.shape}\\nx_test examples: {x_test.shape}\\nx_val examples: {x_val.shape}\")\n",
        "\n",
        "(x_train, x_test, y_train, y_test) = train_test_split(data, labels, test_size=0.3,random_state=42)\n",
        "print(f\"x_train examples: {x_train.shape}\\nx_test examples: {x_test.shape}\")"
      ],
      "metadata": {
        "colab": {
          "base_uri": "https://localhost:8080/"
        },
        "id": "Ws76CCyMi6uc",
        "outputId": "22267d88-b056-4b1c-8efc-633c7a1ca855",
        "execution": {
          "iopub.status.busy": "2022-12-24T04:21:32.323026Z",
          "iopub.execute_input": "2022-12-24T04:21:32.323255Z",
          "iopub.status.idle": "2022-12-24T04:21:32.338785Z",
          "shell.execute_reply.started": "2022-12-24T04:21:32.323230Z",
          "shell.execute_reply": "2022-12-24T04:21:32.337840Z"
        },
        "trusted": true
      },
      "execution_count": null,
      "outputs": [
        {
          "output_type": "stream",
          "name": "stdout",
          "text": [
            "x_train examples: (172, 2048, 2048, 3)\n",
            "x_test examples: (75, 2048, 2048, 3)\n"
          ]
        }
      ]
    },
    {
      "cell_type": "code",
      "source": [
        "batch_size=6"
      ],
      "metadata": {
        "id": "1aL4Sp3fFRqi",
        "execution": {
          "iopub.status.busy": "2022-12-24T04:21:32.340434Z",
          "iopub.execute_input": "2022-12-24T04:21:32.340740Z",
          "iopub.status.idle": "2022-12-24T04:21:32.344889Z",
          "shell.execute_reply.started": "2022-12-24T04:21:32.340703Z",
          "shell.execute_reply": "2022-12-24T04:21:32.343892Z"
        },
        "trusted": true
      },
      "execution_count": null,
      "outputs": []
    },
    {
      "cell_type": "code",
      "source": [
        "# custom dataset class\n",
        "class CustomDataset(Dataset):\n",
        "    def __init__(self, images, labels, transforms = None):\n",
        "        self.labels = labels\n",
        "        self.images = images\n",
        "        self.transforms = transforms\n",
        "        \n",
        "    def __len__(self):\n",
        "        return len(self.images)\n",
        "    \n",
        "    def __getitem__(self, index):\n",
        "        data = self.images[index][:]\n",
        "        labels = self.labels[index]\n",
        "        \n",
        "        if self.transforms:\n",
        "            data = self.transforms(data)\n",
        "            \n",
        "            return data,labels\n",
        "\n",
        "        \n",
        "        \n",
        "        \n",
        "        \n",
        "train_orginal_data = CustomDataset(x_train, y_train, train_orginal_transforms)\n",
        "test_orginal_data = CustomDataset(x_test, y_test, test_orginal_transforms)     \n",
        "\n",
        "\n",
        "train_augmentation_data = CustomDataset(x_train, y_train, train_augmentation_transforms )\n",
        "test_augmentation_data = CustomDataset(x_test, y_test, test_augmentation_transforms )  \n",
        "\n",
        "train_data = torch.utils.data.ConcatDataset([train_orginal_data,train_augmentation_data])\n",
        "print(len(train_data))\n",
        "test_data = torch.utils.data.ConcatDataset([test_orginal_data,test_augmentation_data])\n",
        "print(len(test_data))\n",
        "\n",
        "\n",
        "\n",
        "\n",
        "trainLoader = DataLoader(train_data, batch_size=batch_size, shuffle=True, num_workers=4)\n",
        "testLoader = DataLoader(test_data, batch_size=batch_size, shuffle=True, num_workers=4) "
      ],
      "metadata": {
        "colab": {
          "base_uri": "https://localhost:8080/"
        },
        "id": "1JI8d5JGjSRG",
        "outputId": "94a338c8-895d-443f-9795-92f18659ec9a",
        "execution": {
          "iopub.status.busy": "2022-12-24T04:21:32.346439Z",
          "iopub.execute_input": "2022-12-24T04:21:32.346967Z",
          "iopub.status.idle": "2022-12-24T04:21:32.361078Z",
          "shell.execute_reply.started": "2022-12-24T04:21:32.346931Z",
          "shell.execute_reply": "2022-12-24T04:21:32.360308Z"
        },
        "trusted": true
      },
      "execution_count": null,
      "outputs": [
        {
          "output_type": "stream",
          "name": "stdout",
          "text": [
            "344\n",
            "150\n"
          ]
        },
        {
          "output_type": "stream",
          "name": "stderr",
          "text": [
            "/usr/local/lib/python3.8/dist-packages/torch/utils/data/dataloader.py:554: UserWarning: This DataLoader will create 4 worker processes in total. Our suggested max number of worker in current system is 2, which is smaller than what this DataLoader is going to create. Please be aware that excessive worker creation might get DataLoader running slow or even freeze, lower the worker number to avoid potential slowness/freeze if necessary.\n",
            "  warnings.warn(_create_warning_msg(\n"
          ]
        }
      ]
    },
    {
      "cell_type": "code",
      "source": [
        "for X, y in trainLoader:\n",
        "    print(f\"Shape of X [N, C, H, W]: {X.shape}\")\n",
        "    print(f\"Shape of y: {y.shape} {y.dtype}\")\n",
        "    break"
      ],
      "metadata": {
        "colab": {
          "base_uri": "https://localhost:8080/"
        },
        "id": "z47BjF0k7kz7",
        "outputId": "589a38c4-f890-43b1-cfc3-ce4dd76fdbdd",
        "execution": {
          "iopub.status.busy": "2022-12-24T04:21:32.362580Z",
          "iopub.execute_input": "2022-12-24T04:21:32.363236Z",
          "iopub.status.idle": "2022-12-24T04:21:32.873393Z",
          "shell.execute_reply.started": "2022-12-24T04:21:32.363050Z",
          "shell.execute_reply": "2022-12-24T04:21:32.872449Z"
        },
        "trusted": true
      },
      "execution_count": null,
      "outputs": [
        {
          "output_type": "stream",
          "name": "stdout",
          "text": [
            "Shape of X [N, C, H, W]: torch.Size([6, 3, 224, 224])\n",
            "Shape of y: torch.Size([6]) torch.int64\n"
          ]
        }
      ]
    },
    {
      "cell_type": "code",
      "source": [
        "device = \"cuda\" if torch.cuda.is_available() else \"cpu\"\n",
        "print(f\"Using {device} device\")"
      ],
      "metadata": {
        "colab": {
          "base_uri": "https://localhost:8080/"
        },
        "id": "dPofmxO_jssC",
        "outputId": "47c9f0e2-0dac-4301-e74b-5e2dadc9da47",
        "execution": {
          "iopub.status.busy": "2022-12-24T04:21:32.875061Z",
          "iopub.execute_input": "2022-12-24T04:21:32.875323Z",
          "iopub.status.idle": "2022-12-24T04:21:33.009564Z",
          "shell.execute_reply.started": "2022-12-24T04:21:32.875289Z",
          "shell.execute_reply": "2022-12-24T04:21:33.008680Z"
        },
        "trusted": true
      },
      "execution_count": null,
      "outputs": [
        {
          "output_type": "stream",
          "name": "stdout",
          "text": [
            "Using cuda device\n"
          ]
        }
      ]
    },
    {
      "cell_type": "markdown",
      "source": [
        "# **MODEL**"
      ],
      "metadata": {
        "id": "GANw7i72XJH_"
      }
    },
    {
      "cell_type": "code",
      "source": [
        "# the vgg11 model\n",
        "class vgg11(nn.Module):\n",
        "    def __init__(self, pretrained):\n",
        "        super(vgg11, self).__init__()\n",
        "        if pretrained is True:\n",
        "            self.model = pretrainedmodels.__dict__['vgg11'](pretrained='imagenet')\n",
        "        else:\n",
        "            self.model = pretrainedmodels.__dict__['vgg11'](pretrained = None)\n",
        "        # change the classification layer\n",
        "        self.l0= nn.Linear(4096, len(lb.classes_))\n",
        "        self.dropout = nn.Dropout2d(0.4)\n",
        "        \n",
        "    def forward(self, x):\n",
        "        # get the batch size only, ignore(c, h, w)\n",
        "        batch, _, _, _ = x.shape\n",
        "        x = self.model.features(x)\n",
        "        #x = F.adaptive_avg_pool2d(x, 1).reshape(batch, -1)\n",
        "        #x = self.dropout(x)\n",
        "        l0 = self.l0(x)\n",
        "        return l0\n",
        "\n",
        "model = vgg11(pretrained=True).to(device)\n",
        "print(model)"
      ],
      "metadata": {
        "colab": {
          "base_uri": "https://localhost:8080/",
          "height": 798,
          "referenced_widgets": [
            "71bf32a45f0c448b872f692eae5af377",
            "9a5b02695a7b4f93b162ad3720e0bf3a",
            "849c715cae1e425a95d43fda37125543",
            "a7e03da5dd8d41b4b2e0eb778bcc860d",
            "f420fef9d4cf4ded9b77c8c1299a196d",
            "c70cb329407b43f4bab04ed00b6f347b",
            "6e6823fe4e114c7ea2759074781d07a1",
            "ca789889195a4f9c8ad203fea4016f99",
            "582e4862faed400dafc92e9db025ecdc",
            "fd28279137e141c08192c045a237cdb9",
            "11a93b3d3533475ebae25adfbd403ad4"
          ]
        },
        "id": "kOPgxghVja4L",
        "outputId": "42156338-a58d-4b3f-8ffb-b64b4ffbe1bb",
        "execution": {
          "iopub.status.busy": "2022-12-24T04:21:33.011243Z",
          "iopub.execute_input": "2022-12-24T04:21:33.011844Z",
          "iopub.status.idle": "2022-12-24T04:21:48.195368Z",
          "shell.execute_reply.started": "2022-12-24T04:21:33.011803Z",
          "shell.execute_reply": "2022-12-24T04:21:48.194478Z"
        },
        "trusted": true
      },
      "execution_count": null,
      "outputs": [
        {
          "output_type": "stream",
          "name": "stderr",
          "text": [
            "/usr/local/lib/python3.8/dist-packages/torchvision/models/_utils.py:208: UserWarning: The parameter 'pretrained' is deprecated since 0.13 and may be removed in the future, please use 'weights' instead.\n",
            "  warnings.warn(\n",
            "/usr/local/lib/python3.8/dist-packages/torchvision/models/_utils.py:223: UserWarning: Arguments other than a weight enum or `None` for 'weights' are deprecated since 0.13 and may be removed in the future. The current behavior is equivalent to passing `weights=None`.\n",
            "  warnings.warn(msg)\n",
            "Downloading: \"https://download.pytorch.org/models/vgg11-bbd30ac9.pth\" to /root/.cache/torch/hub/checkpoints/vgg11-bbd30ac9.pth\n"
          ]
        },
        {
          "output_type": "display_data",
          "data": {
            "text/plain": [
              "  0%|          | 0.00/507M [00:00<?, ?B/s]"
            ],
            "application/vnd.jupyter.widget-view+json": {
              "version_major": 2,
              "version_minor": 0,
              "model_id": "71bf32a45f0c448b872f692eae5af377"
            }
          },
          "metadata": {}
        },
        {
          "output_type": "stream",
          "name": "stdout",
          "text": [
            "vgg11(\n",
            "  (model): VGG(\n",
            "    (avgpool): AdaptiveAvgPool2d(output_size=(7, 7))\n",
            "    (_features): Sequential(\n",
            "      (0): Conv2d(3, 64, kernel_size=(3, 3), stride=(1, 1), padding=(1, 1))\n",
            "      (1): ReLU(inplace=True)\n",
            "      (2): MaxPool2d(kernel_size=2, stride=2, padding=0, dilation=1, ceil_mode=False)\n",
            "      (3): Conv2d(64, 128, kernel_size=(3, 3), stride=(1, 1), padding=(1, 1))\n",
            "      (4): ReLU(inplace=True)\n",
            "      (5): MaxPool2d(kernel_size=2, stride=2, padding=0, dilation=1, ceil_mode=False)\n",
            "      (6): Conv2d(128, 256, kernel_size=(3, 3), stride=(1, 1), padding=(1, 1))\n",
            "      (7): ReLU(inplace=True)\n",
            "      (8): Conv2d(256, 256, kernel_size=(3, 3), stride=(1, 1), padding=(1, 1))\n",
            "      (9): ReLU(inplace=True)\n",
            "      (10): MaxPool2d(kernel_size=2, stride=2, padding=0, dilation=1, ceil_mode=False)\n",
            "      (11): Conv2d(256, 512, kernel_size=(3, 3), stride=(1, 1), padding=(1, 1))\n",
            "      (12): ReLU(inplace=True)\n",
            "      (13): Conv2d(512, 512, kernel_size=(3, 3), stride=(1, 1), padding=(1, 1))\n",
            "      (14): ReLU(inplace=True)\n",
            "      (15): MaxPool2d(kernel_size=2, stride=2, padding=0, dilation=1, ceil_mode=False)\n",
            "      (16): Conv2d(512, 512, kernel_size=(3, 3), stride=(1, 1), padding=(1, 1))\n",
            "      (17): ReLU(inplace=True)\n",
            "      (18): Conv2d(512, 512, kernel_size=(3, 3), stride=(1, 1), padding=(1, 1))\n",
            "      (19): ReLU(inplace=True)\n",
            "      (20): MaxPool2d(kernel_size=2, stride=2, padding=0, dilation=1, ceil_mode=False)\n",
            "    )\n",
            "    (linear0): Linear(in_features=25088, out_features=4096, bias=True)\n",
            "    (relu0): ReLU(inplace=True)\n",
            "    (dropout0): Dropout(p=0.5, inplace=False)\n",
            "    (linear1): Linear(in_features=4096, out_features=4096, bias=True)\n",
            "    (relu1): ReLU(inplace=True)\n",
            "    (dropout1): Dropout(p=0.5, inplace=False)\n",
            "    (last_linear): Linear(in_features=4096, out_features=1000, bias=True)\n",
            "  )\n",
            "  (l0): Linear(in_features=4096, out_features=3, bias=True)\n",
            "  (dropout): Dropout2d(p=0.4, inplace=False)\n",
            ")\n"
          ]
        }
      ]
    },
    {
      "cell_type": "code",
      "source": [
        "device = \"cuda\" if torch.cuda.is_available() else \"cpu\"\n",
        "\n",
        "model = vgg11(pretrained=True).to(device)\n",
        "\n",
        "#model.load_state_dict(torch.load(\"/kaggle/working/model.pth\", map_location= device))\n",
        "\n",
        "model.to(device)\n",
        "summary(model, (3, 224, 224))"
      ],
      "metadata": {
        "colab": {
          "base_uri": "https://localhost:8080/"
        },
        "id": "iDc10jWaFt9G",
        "outputId": "c01f6930-5f76-4531-967e-51bb1df21f5e",
        "execution": {
          "iopub.status.busy": "2022-12-24T04:21:48.196592Z",
          "iopub.execute_input": "2022-12-24T04:21:48.197297Z",
          "iopub.status.idle": "2022-12-24T04:21:52.386951Z",
          "shell.execute_reply.started": "2022-12-24T04:21:48.197258Z",
          "shell.execute_reply": "2022-12-24T04:21:52.386108Z"
        },
        "trusted": true
      },
      "execution_count": null,
      "outputs": [
        {
          "output_type": "stream",
          "name": "stdout",
          "text": [
            "----------------------------------------------------------------\n",
            "        Layer (type)               Output Shape         Param #\n",
            "================================================================\n",
            "            Conv2d-1         [-1, 64, 224, 224]           1,792\n",
            "              ReLU-2         [-1, 64, 224, 224]               0\n",
            "         MaxPool2d-3         [-1, 64, 112, 112]               0\n",
            "            Conv2d-4        [-1, 128, 112, 112]          73,856\n",
            "              ReLU-5        [-1, 128, 112, 112]               0\n",
            "         MaxPool2d-6          [-1, 128, 56, 56]               0\n",
            "            Conv2d-7          [-1, 256, 56, 56]         295,168\n",
            "              ReLU-8          [-1, 256, 56, 56]               0\n",
            "            Conv2d-9          [-1, 256, 56, 56]         590,080\n",
            "             ReLU-10          [-1, 256, 56, 56]               0\n",
            "        MaxPool2d-11          [-1, 256, 28, 28]               0\n",
            "           Conv2d-12          [-1, 512, 28, 28]       1,180,160\n",
            "             ReLU-13          [-1, 512, 28, 28]               0\n",
            "           Conv2d-14          [-1, 512, 28, 28]       2,359,808\n",
            "             ReLU-15          [-1, 512, 28, 28]               0\n",
            "        MaxPool2d-16          [-1, 512, 14, 14]               0\n",
            "           Conv2d-17          [-1, 512, 14, 14]       2,359,808\n",
            "             ReLU-18          [-1, 512, 14, 14]               0\n",
            "           Conv2d-19          [-1, 512, 14, 14]       2,359,808\n",
            "             ReLU-20          [-1, 512, 14, 14]               0\n",
            "        MaxPool2d-21            [-1, 512, 7, 7]               0\n",
            "           Linear-22                 [-1, 4096]     102,764,544\n",
            "             ReLU-23                 [-1, 4096]               0\n",
            "          Dropout-24                 [-1, 4096]               0\n",
            "           Linear-25                 [-1, 4096]      16,781,312\n",
            "           Linear-26                    [-1, 3]          12,291\n",
            "================================================================\n",
            "Total params: 128,778,627\n",
            "Trainable params: 128,778,627\n",
            "Non-trainable params: 0\n",
            "----------------------------------------------------------------\n",
            "Input size (MB): 0.57\n",
            "Forward/backward pass size (MB): 125.11\n",
            "Params size (MB): 491.25\n",
            "Estimated Total Size (MB): 616.94\n",
            "----------------------------------------------------------------\n"
          ]
        }
      ]
    },
    {
      "cell_type": "markdown",
      "source": [
        "# **OPTIMZER**"
      ],
      "metadata": {
        "id": "gcij3wGEXJIC"
      }
    },
    {
      "cell_type": "code",
      "source": [
        "lr = 0.001\n",
        "\n",
        "WEIGHT_DECAY = 0.0005\n",
        "save_path = \"model.pth\"\n",
        "fine_tune = True\n",
        "#load_path = \"/kaggle/working/model_1.pth\""
      ],
      "metadata": {
        "execution": {
          "iopub.status.busy": "2022-12-24T04:21:52.388336Z",
          "iopub.execute_input": "2022-12-24T04:21:52.388650Z",
          "iopub.status.idle": "2022-12-24T04:21:52.396527Z",
          "shell.execute_reply.started": "2022-12-24T04:21:52.388593Z",
          "shell.execute_reply": "2022-12-24T04:21:52.395691Z"
        },
        "trusted": true,
        "id": "rEnTEaW1XJID"
      },
      "execution_count": null,
      "outputs": []
    },
    {
      "cell_type": "code",
      "source": [
        "# loss function\n",
        "loss_fn = nn.CrossEntropyLoss()\n",
        "#optimizer = torch.optim.Adam(model.parameters(), lr = lr, weight_decay=WEIGHT_DECAY)\n",
        "optimizer= torch.optim.SGD(model.parameters(),lr= lr,momentum=0.9)"
      ],
      "metadata": {
        "id": "DSLEyL1ijuJS",
        "execution": {
          "iopub.status.busy": "2022-12-24T04:21:52.399338Z",
          "iopub.execute_input": "2022-12-24T04:21:52.399694Z",
          "iopub.status.idle": "2022-12-24T04:21:52.407049Z",
          "shell.execute_reply.started": "2022-12-24T04:21:52.399646Z",
          "shell.execute_reply": "2022-12-24T04:21:52.406304Z"
        },
        "trusted": true
      },
      "execution_count": null,
      "outputs": []
    },
    {
      "cell_type": "markdown",
      "source": [
        "# **LOAD MODEL**"
      ],
      "metadata": {
        "id": "z6dqqsYtXJIE"
      }
    },
    {
      "cell_type": "code",
      "source": [
        "#state_dict = torch.load(load_path, map_location=device)\n",
        "#model.load_state_dict(state_dict)"
      ],
      "metadata": {
        "execution": {
          "iopub.status.busy": "2022-12-24T04:21:52.408494Z",
          "iopub.execute_input": "2022-12-24T04:21:52.408814Z",
          "iopub.status.idle": "2022-12-24T04:21:52.416731Z",
          "shell.execute_reply.started": "2022-12-24T04:21:52.408779Z",
          "shell.execute_reply": "2022-12-24T04:21:52.415849Z"
        },
        "trusted": true,
        "id": "L1XJn20NXJIE"
      },
      "execution_count": null,
      "outputs": []
    },
    {
      "cell_type": "markdown",
      "source": [
        "# **TRAINING**"
      ],
      "metadata": {
        "id": "n-_uWtt1XJIF"
      }
    },
    {
      "cell_type": "code",
      "source": [
        "def train(model,dataloader):    \n",
        "    # training function\n",
        "\n",
        "    print('Training')\n",
        "    model.train()\n",
        "    running_loss = 0.0\n",
        "    running_correct = 0\n",
        "    total=0\n",
        "    for batch, (X, y) in enumerate(tqdm(dataloader)):\n",
        "\n",
        "\n",
        "        X, y = X.to(device), y.to(device)\n",
        "\n",
        "        optimizer.zero_grad()\n",
        "        outputs = model(X)\n",
        "        loss = loss_fn(outputs, y)\n",
        "\n",
        "        loss.backward()\n",
        "        optimizer.step()\n",
        "\n",
        "        running_loss += loss.item()\n",
        "        running_correct += (outputs.argmax(1) == y).type(torch.float).sum().item()\n",
        "        total += y.size(0)\n",
        "\n",
        "    loss = running_loss/len(dataloader)\n",
        "    accuracy = 100.*running_correct/total\n",
        "    print('Train Loss: %.3f | Accuracy: %.3f'%(loss, accuracy))\n",
        "\n",
        "\n",
        "    #print(f\"Train Loss: {loss:.4f}, Train Acc: {accuracy:.2f}\")\n",
        "\n",
        "\n",
        "    return loss, accuracy"
      ],
      "metadata": {
        "id": "R0zaRyYBNwf5",
        "execution": {
          "iopub.status.busy": "2022-12-24T04:21:52.417923Z",
          "iopub.execute_input": "2022-12-24T04:21:52.418433Z",
          "iopub.status.idle": "2022-12-24T04:21:52.432799Z",
          "shell.execute_reply.started": "2022-12-24T04:21:52.418395Z",
          "shell.execute_reply": "2022-12-24T04:21:52.431736Z"
        },
        "trusted": true
      },
      "execution_count": null,
      "outputs": []
    },
    {
      "cell_type": "markdown",
      "source": [
        "# **VALIDATION**"
      ],
      "metadata": {
        "id": "yHaT2z3lXJIF"
      }
    },
    {
      "cell_type": "code",
      "source": [
        "#validation function\n",
        "def validate(model, dataloader):\n",
        "    print('Validating')\n",
        "    model.eval()\n",
        "    running_loss = 0.0\n",
        "    running_correct = 0\n",
        "    total=0\n",
        "    with torch.no_grad():\n",
        "        \n",
        "        for batch, (X, y) in enumerate(dataloader):\n",
        "            X, y = X.to(device), y.to(device)\n",
        "\n",
        "            # Compute prediction error\n",
        "            pred = model(X)\n",
        "            loss = loss_fn(pred, y)\n",
        "            running_loss += loss_fn(pred, y).item()        \n",
        "            running_correct += (pred.argmax(1) == y).type(torch.float).sum().item()\n",
        "            total += y.size(0)\n",
        "        \n",
        "    loss = running_loss/len(dataloader)\n",
        "    accuracy = 100.*running_correct/total\n",
        "    #print(f'Val Loss: {loss:.4f}, Val Acc: {accuracy:.2f}')\n",
        "    print('Test Loss: %.3f | Accuracy: %.3f'%(loss, accuracy))\n",
        "\n",
        "\n",
        "    return loss, accuracy"
      ],
      "metadata": {
        "id": "EsQy83QuSjVX",
        "execution": {
          "iopub.status.busy": "2022-12-24T04:21:52.435040Z",
          "iopub.execute_input": "2022-12-24T04:21:52.438271Z",
          "iopub.status.idle": "2022-12-24T04:21:52.452752Z",
          "shell.execute_reply.started": "2022-12-24T04:21:52.438228Z",
          "shell.execute_reply": "2022-12-24T04:21:52.449581Z"
        },
        "trusted": true
      },
      "execution_count": null,
      "outputs": []
    },
    {
      "cell_type": "markdown",
      "source": [
        "# **TRAINING AND VALIDATION IN SINGLE FUNCTION**"
      ],
      "metadata": {
        "id": "27PLocPeXJIG"
      }
    },
    {
      "cell_type": "code",
      "source": [
        "epochs=50\n",
        "\n",
        "\n",
        "train_loss , train_accuracy = [], []\n",
        "val_loss , val_accuracy = [], []\n",
        "print(f\"Training on {len(train_data)} examples, validating on {len(test_data)} examples...\")\n",
        "\n",
        "for epoch in range(epochs):\n",
        "    print(f\"Epoch {epoch+1} of {epochs}\")\n",
        "    train_epoch_loss, train_epoch_accuracy = train(model, trainLoader)\n",
        "    val_epoch_loss, val_epoch_accuracy = validate(model, testLoader)\n",
        "    train_loss.append(train_epoch_loss)\n",
        "    train_accuracy.append(train_epoch_accuracy)\n",
        "    val_loss.append(val_epoch_loss)\n",
        "    val_accuracy.append(val_epoch_accuracy)"
      ],
      "metadata": {
        "colab": {
          "base_uri": "https://localhost:8080/"
        },
        "id": "kxWa3M8tlCFP",
        "outputId": "9f51851a-9f61-4017-f9fb-6061ef79dc55",
        "execution": {
          "iopub.status.busy": "2022-12-24T04:21:52.456114Z",
          "iopub.execute_input": "2022-12-24T04:21:52.457506Z",
          "iopub.status.idle": "2022-12-24T04:38:41.172444Z",
          "shell.execute_reply.started": "2022-12-24T04:21:52.457444Z",
          "shell.execute_reply": "2022-12-24T04:38:41.171501Z"
        },
        "trusted": true
      },
      "execution_count": null,
      "outputs": [
        {
          "output_type": "stream",
          "name": "stdout",
          "text": [
            "Training on 344 examples, validating on 150 examples...\n",
            "Epoch 1 of 50\n",
            "Training\n"
          ]
        },
        {
          "output_type": "stream",
          "name": "stderr",
          "text": [
            "100%|██████████| 58/58 [00:09<00:00,  6.15it/s]"
          ]
        },
        {
          "output_type": "stream",
          "name": "stdout",
          "text": [
            "Train Loss: 1.289 | Accuracy: 38.081\n",
            "Validating\n"
          ]
        },
        {
          "output_type": "stream",
          "name": "stderr",
          "text": [
            "\n"
          ]
        },
        {
          "output_type": "stream",
          "name": "stdout",
          "text": [
            "Test Loss: 1.084 | Accuracy: 37.333\n",
            "Epoch 2 of 50\n",
            "Training\n"
          ]
        },
        {
          "output_type": "stream",
          "name": "stderr",
          "text": [
            "100%|██████████| 58/58 [00:09<00:00,  6.40it/s]"
          ]
        },
        {
          "output_type": "stream",
          "name": "stdout",
          "text": [
            "Train Loss: 1.069 | Accuracy: 41.570\n",
            "Validating\n"
          ]
        },
        {
          "output_type": "stream",
          "name": "stderr",
          "text": [
            "\n"
          ]
        },
        {
          "output_type": "stream",
          "name": "stdout",
          "text": [
            "Test Loss: 1.110 | Accuracy: 36.000\n",
            "Epoch 3 of 50\n",
            "Training\n"
          ]
        },
        {
          "output_type": "stream",
          "name": "stderr",
          "text": [
            "100%|██████████| 58/58 [00:10<00:00,  5.59it/s]"
          ]
        },
        {
          "output_type": "stream",
          "name": "stdout",
          "text": [
            "Train Loss: 1.000 | Accuracy: 50.581\n",
            "Validating\n"
          ]
        },
        {
          "output_type": "stream",
          "name": "stderr",
          "text": [
            "\n"
          ]
        },
        {
          "output_type": "stream",
          "name": "stdout",
          "text": [
            "Test Loss: 1.030 | Accuracy: 41.333\n",
            "Epoch 4 of 50\n",
            "Training\n"
          ]
        },
        {
          "output_type": "stream",
          "name": "stderr",
          "text": [
            "100%|██████████| 58/58 [00:09<00:00,  6.11it/s]"
          ]
        },
        {
          "output_type": "stream",
          "name": "stdout",
          "text": [
            "Train Loss: 0.913 | Accuracy: 61.337\n",
            "Validating\n"
          ]
        },
        {
          "output_type": "stream",
          "name": "stderr",
          "text": [
            "\n"
          ]
        },
        {
          "output_type": "stream",
          "name": "stdout",
          "text": [
            "Test Loss: 1.123 | Accuracy: 44.667\n",
            "Epoch 5 of 50\n",
            "Training\n"
          ]
        },
        {
          "output_type": "stream",
          "name": "stderr",
          "text": [
            "100%|██████████| 58/58 [00:09<00:00,  6.30it/s]"
          ]
        },
        {
          "output_type": "stream",
          "name": "stdout",
          "text": [
            "Train Loss: 0.921 | Accuracy: 53.779\n",
            "Validating\n"
          ]
        },
        {
          "output_type": "stream",
          "name": "stderr",
          "text": [
            "\n"
          ]
        },
        {
          "output_type": "stream",
          "name": "stdout",
          "text": [
            "Test Loss: 1.017 | Accuracy: 48.000\n",
            "Epoch 6 of 50\n",
            "Training\n"
          ]
        },
        {
          "output_type": "stream",
          "name": "stderr",
          "text": [
            "100%|██████████| 58/58 [00:09<00:00,  6.38it/s]"
          ]
        },
        {
          "output_type": "stream",
          "name": "stdout",
          "text": [
            "Train Loss: 0.854 | Accuracy: 61.047\n",
            "Validating\n"
          ]
        },
        {
          "output_type": "stream",
          "name": "stderr",
          "text": [
            "\n"
          ]
        },
        {
          "output_type": "stream",
          "name": "stdout",
          "text": [
            "Test Loss: 1.012 | Accuracy: 48.667\n",
            "Epoch 7 of 50\n",
            "Training\n"
          ]
        },
        {
          "output_type": "stream",
          "name": "stderr",
          "text": [
            "100%|██████████| 58/58 [00:09<00:00,  6.35it/s]"
          ]
        },
        {
          "output_type": "stream",
          "name": "stdout",
          "text": [
            "Train Loss: 0.775 | Accuracy: 65.988\n",
            "Validating\n"
          ]
        },
        {
          "output_type": "stream",
          "name": "stderr",
          "text": [
            "\n"
          ]
        },
        {
          "output_type": "stream",
          "name": "stdout",
          "text": [
            "Test Loss: 1.010 | Accuracy: 49.333\n",
            "Epoch 8 of 50\n",
            "Training\n"
          ]
        },
        {
          "output_type": "stream",
          "name": "stderr",
          "text": [
            "100%|██████████| 58/58 [00:09<00:00,  6.16it/s]"
          ]
        },
        {
          "output_type": "stream",
          "name": "stdout",
          "text": [
            "Train Loss: 0.724 | Accuracy: 68.314\n",
            "Validating\n"
          ]
        },
        {
          "output_type": "stream",
          "name": "stderr",
          "text": [
            "\n"
          ]
        },
        {
          "output_type": "stream",
          "name": "stdout",
          "text": [
            "Test Loss: 0.992 | Accuracy: 52.667\n",
            "Epoch 9 of 50\n",
            "Training\n"
          ]
        },
        {
          "output_type": "stream",
          "name": "stderr",
          "text": [
            "100%|██████████| 58/58 [00:09<00:00,  6.33it/s]"
          ]
        },
        {
          "output_type": "stream",
          "name": "stdout",
          "text": [
            "Train Loss: 0.548 | Accuracy: 76.163\n",
            "Validating\n"
          ]
        },
        {
          "output_type": "stream",
          "name": "stderr",
          "text": [
            "\n"
          ]
        },
        {
          "output_type": "stream",
          "name": "stdout",
          "text": [
            "Test Loss: 1.080 | Accuracy: 55.333\n",
            "Epoch 10 of 50\n",
            "Training\n"
          ]
        },
        {
          "output_type": "stream",
          "name": "stderr",
          "text": [
            "100%|██████████| 58/58 [00:09<00:00,  6.34it/s]"
          ]
        },
        {
          "output_type": "stream",
          "name": "stdout",
          "text": [
            "Train Loss: 0.616 | Accuracy: 74.419\n",
            "Validating\n"
          ]
        },
        {
          "output_type": "stream",
          "name": "stderr",
          "text": [
            "\n"
          ]
        },
        {
          "output_type": "stream",
          "name": "stdout",
          "text": [
            "Test Loss: 1.109 | Accuracy: 49.333\n",
            "Epoch 11 of 50\n",
            "Training\n"
          ]
        },
        {
          "output_type": "stream",
          "name": "stderr",
          "text": [
            "100%|██████████| 58/58 [00:09<00:00,  6.40it/s]"
          ]
        },
        {
          "output_type": "stream",
          "name": "stdout",
          "text": [
            "Train Loss: 0.497 | Accuracy: 77.035\n",
            "Validating\n"
          ]
        },
        {
          "output_type": "stream",
          "name": "stderr",
          "text": [
            "\n"
          ]
        },
        {
          "output_type": "stream",
          "name": "stdout",
          "text": [
            "Test Loss: 1.063 | Accuracy: 58.667\n",
            "Epoch 12 of 50\n",
            "Training\n"
          ]
        },
        {
          "output_type": "stream",
          "name": "stderr",
          "text": [
            "100%|██████████| 58/58 [00:09<00:00,  6.36it/s]"
          ]
        },
        {
          "output_type": "stream",
          "name": "stdout",
          "text": [
            "Train Loss: 0.501 | Accuracy: 79.651\n",
            "Validating\n"
          ]
        },
        {
          "output_type": "stream",
          "name": "stderr",
          "text": [
            "\n"
          ]
        },
        {
          "output_type": "stream",
          "name": "stdout",
          "text": [
            "Test Loss: 1.169 | Accuracy: 58.667\n",
            "Epoch 13 of 50\n",
            "Training\n"
          ]
        },
        {
          "output_type": "stream",
          "name": "stderr",
          "text": [
            "100%|██████████| 58/58 [00:09<00:00,  6.42it/s]"
          ]
        },
        {
          "output_type": "stream",
          "name": "stdout",
          "text": [
            "Train Loss: 0.434 | Accuracy: 81.686\n",
            "Validating\n"
          ]
        },
        {
          "output_type": "stream",
          "name": "stderr",
          "text": [
            "\n"
          ]
        },
        {
          "output_type": "stream",
          "name": "stdout",
          "text": [
            "Test Loss: 1.151 | Accuracy: 56.000\n",
            "Epoch 14 of 50\n",
            "Training\n"
          ]
        },
        {
          "output_type": "stream",
          "name": "stderr",
          "text": [
            "100%|██████████| 58/58 [00:09<00:00,  6.42it/s]"
          ]
        },
        {
          "output_type": "stream",
          "name": "stdout",
          "text": [
            "Train Loss: 0.314 | Accuracy: 86.628\n",
            "Validating\n"
          ]
        },
        {
          "output_type": "stream",
          "name": "stderr",
          "text": [
            "\n"
          ]
        },
        {
          "output_type": "stream",
          "name": "stdout",
          "text": [
            "Test Loss: 1.326 | Accuracy: 48.667\n",
            "Epoch 15 of 50\n",
            "Training\n"
          ]
        },
        {
          "output_type": "stream",
          "name": "stderr",
          "text": [
            "100%|██████████| 58/58 [00:09<00:00,  6.39it/s]"
          ]
        },
        {
          "output_type": "stream",
          "name": "stdout",
          "text": [
            "Train Loss: 0.257 | Accuracy: 90.988\n",
            "Validating\n"
          ]
        },
        {
          "output_type": "stream",
          "name": "stderr",
          "text": [
            "\n"
          ]
        },
        {
          "output_type": "stream",
          "name": "stdout",
          "text": [
            "Test Loss: 1.473 | Accuracy: 54.667\n",
            "Epoch 16 of 50\n",
            "Training\n"
          ]
        },
        {
          "output_type": "stream",
          "name": "stderr",
          "text": [
            "100%|██████████| 58/58 [00:09<00:00,  6.37it/s]"
          ]
        },
        {
          "output_type": "stream",
          "name": "stdout",
          "text": [
            "Train Loss: 0.170 | Accuracy: 93.314\n",
            "Validating\n"
          ]
        },
        {
          "output_type": "stream",
          "name": "stderr",
          "text": [
            "\n"
          ]
        },
        {
          "output_type": "stream",
          "name": "stdout",
          "text": [
            "Test Loss: 1.818 | Accuracy: 56.667\n",
            "Epoch 17 of 50\n",
            "Training\n"
          ]
        },
        {
          "output_type": "stream",
          "name": "stderr",
          "text": [
            "100%|██████████| 58/58 [00:12<00:00,  4.50it/s]"
          ]
        },
        {
          "output_type": "stream",
          "name": "stdout",
          "text": [
            "Train Loss: 0.360 | Accuracy: 86.047\n",
            "Validating\n"
          ]
        },
        {
          "output_type": "stream",
          "name": "stderr",
          "text": [
            "\n"
          ]
        },
        {
          "output_type": "stream",
          "name": "stdout",
          "text": [
            "Test Loss: 1.217 | Accuracy: 48.667\n",
            "Epoch 18 of 50\n",
            "Training\n"
          ]
        },
        {
          "output_type": "stream",
          "name": "stderr",
          "text": [
            "100%|██████████| 58/58 [00:09<00:00,  6.36it/s]"
          ]
        },
        {
          "output_type": "stream",
          "name": "stdout",
          "text": [
            "Train Loss: 0.200 | Accuracy: 93.895\n",
            "Validating\n"
          ]
        },
        {
          "output_type": "stream",
          "name": "stderr",
          "text": [
            "\n"
          ]
        },
        {
          "output_type": "stream",
          "name": "stdout",
          "text": [
            "Test Loss: 1.321 | Accuracy: 55.333\n",
            "Epoch 19 of 50\n",
            "Training\n"
          ]
        },
        {
          "output_type": "stream",
          "name": "stderr",
          "text": [
            "100%|██████████| 58/58 [00:08<00:00,  6.47it/s]"
          ]
        },
        {
          "output_type": "stream",
          "name": "stdout",
          "text": [
            "Train Loss: 0.162 | Accuracy: 95.058\n",
            "Validating\n"
          ]
        },
        {
          "output_type": "stream",
          "name": "stderr",
          "text": [
            "\n"
          ]
        },
        {
          "output_type": "stream",
          "name": "stdout",
          "text": [
            "Test Loss: 1.419 | Accuracy: 59.333\n",
            "Epoch 20 of 50\n",
            "Training\n"
          ]
        },
        {
          "output_type": "stream",
          "name": "stderr",
          "text": [
            "100%|██████████| 58/58 [00:09<00:00,  6.34it/s]"
          ]
        },
        {
          "output_type": "stream",
          "name": "stdout",
          "text": [
            "Train Loss: 0.158 | Accuracy: 93.023\n",
            "Validating\n"
          ]
        },
        {
          "output_type": "stream",
          "name": "stderr",
          "text": [
            "\n"
          ]
        },
        {
          "output_type": "stream",
          "name": "stdout",
          "text": [
            "Test Loss: 1.996 | Accuracy: 48.667\n",
            "Epoch 21 of 50\n",
            "Training\n"
          ]
        },
        {
          "output_type": "stream",
          "name": "stderr",
          "text": [
            "100%|██████████| 58/58 [00:09<00:00,  6.42it/s]"
          ]
        },
        {
          "output_type": "stream",
          "name": "stdout",
          "text": [
            "Train Loss: 0.082 | Accuracy: 97.093\n",
            "Validating\n"
          ]
        },
        {
          "output_type": "stream",
          "name": "stderr",
          "text": [
            "\n"
          ]
        },
        {
          "output_type": "stream",
          "name": "stdout",
          "text": [
            "Test Loss: 1.749 | Accuracy: 60.667\n",
            "Epoch 22 of 50\n",
            "Training\n"
          ]
        },
        {
          "output_type": "stream",
          "name": "stderr",
          "text": [
            "100%|██████████| 58/58 [00:09<00:00,  6.33it/s]"
          ]
        },
        {
          "output_type": "stream",
          "name": "stdout",
          "text": [
            "Train Loss: 0.146 | Accuracy: 94.477\n",
            "Validating\n"
          ]
        },
        {
          "output_type": "stream",
          "name": "stderr",
          "text": [
            "\n"
          ]
        },
        {
          "output_type": "stream",
          "name": "stdout",
          "text": [
            "Test Loss: 1.550 | Accuracy: 55.333\n",
            "Epoch 23 of 50\n",
            "Training\n"
          ]
        },
        {
          "output_type": "stream",
          "name": "stderr",
          "text": [
            "100%|██████████| 58/58 [00:09<00:00,  6.42it/s]"
          ]
        },
        {
          "output_type": "stream",
          "name": "stdout",
          "text": [
            "Train Loss: 0.136 | Accuracy: 95.930\n",
            "Validating\n"
          ]
        },
        {
          "output_type": "stream",
          "name": "stderr",
          "text": [
            "\n"
          ]
        },
        {
          "output_type": "stream",
          "name": "stdout",
          "text": [
            "Test Loss: 2.033 | Accuracy: 54.667\n",
            "Epoch 24 of 50\n",
            "Training\n"
          ]
        },
        {
          "output_type": "stream",
          "name": "stderr",
          "text": [
            "100%|██████████| 58/58 [00:09<00:00,  6.40it/s]"
          ]
        },
        {
          "output_type": "stream",
          "name": "stdout",
          "text": [
            "Train Loss: 0.157 | Accuracy: 93.895\n",
            "Validating\n"
          ]
        },
        {
          "output_type": "stream",
          "name": "stderr",
          "text": [
            "\n"
          ]
        },
        {
          "output_type": "stream",
          "name": "stdout",
          "text": [
            "Test Loss: 1.933 | Accuracy: 56.000\n",
            "Epoch 25 of 50\n",
            "Training\n"
          ]
        },
        {
          "output_type": "stream",
          "name": "stderr",
          "text": [
            "100%|██████████| 58/58 [00:09<00:00,  6.33it/s]"
          ]
        },
        {
          "output_type": "stream",
          "name": "stdout",
          "text": [
            "Train Loss: 0.234 | Accuracy: 91.279\n",
            "Validating\n"
          ]
        },
        {
          "output_type": "stream",
          "name": "stderr",
          "text": [
            "\n"
          ]
        },
        {
          "output_type": "stream",
          "name": "stdout",
          "text": [
            "Test Loss: 1.363 | Accuracy: 57.333\n",
            "Epoch 26 of 50\n",
            "Training\n"
          ]
        },
        {
          "output_type": "stream",
          "name": "stderr",
          "text": [
            "100%|██████████| 58/58 [00:09<00:00,  6.38it/s]"
          ]
        },
        {
          "output_type": "stream",
          "name": "stdout",
          "text": [
            "Train Loss: 0.242 | Accuracy: 89.535\n",
            "Validating\n"
          ]
        },
        {
          "output_type": "stream",
          "name": "stderr",
          "text": [
            "\n"
          ]
        },
        {
          "output_type": "stream",
          "name": "stdout",
          "text": [
            "Test Loss: 1.491 | Accuracy: 49.333\n",
            "Epoch 27 of 50\n",
            "Training\n"
          ]
        },
        {
          "output_type": "stream",
          "name": "stderr",
          "text": [
            "100%|██████████| 58/58 [00:09<00:00,  6.40it/s]"
          ]
        },
        {
          "output_type": "stream",
          "name": "stdout",
          "text": [
            "Train Loss: 0.096 | Accuracy: 96.221\n",
            "Validating\n"
          ]
        },
        {
          "output_type": "stream",
          "name": "stderr",
          "text": [
            "\n"
          ]
        },
        {
          "output_type": "stream",
          "name": "stdout",
          "text": [
            "Test Loss: 1.889 | Accuracy: 58.667\n",
            "Epoch 28 of 50\n",
            "Training\n"
          ]
        },
        {
          "output_type": "stream",
          "name": "stderr",
          "text": [
            "100%|██████████| 58/58 [00:09<00:00,  6.11it/s]"
          ]
        },
        {
          "output_type": "stream",
          "name": "stdout",
          "text": [
            "Train Loss: 0.079 | Accuracy: 97.965\n",
            "Validating\n"
          ]
        },
        {
          "output_type": "stream",
          "name": "stderr",
          "text": [
            "\n"
          ]
        },
        {
          "output_type": "stream",
          "name": "stdout",
          "text": [
            "Test Loss: 2.195 | Accuracy: 52.667\n",
            "Epoch 29 of 50\n",
            "Training\n"
          ]
        },
        {
          "output_type": "stream",
          "name": "stderr",
          "text": [
            "100%|██████████| 58/58 [00:08<00:00,  6.45it/s]"
          ]
        },
        {
          "output_type": "stream",
          "name": "stdout",
          "text": [
            "Train Loss: 0.173 | Accuracy: 93.895\n",
            "Validating\n"
          ]
        },
        {
          "output_type": "stream",
          "name": "stderr",
          "text": [
            "\n"
          ]
        },
        {
          "output_type": "stream",
          "name": "stdout",
          "text": [
            "Test Loss: 1.399 | Accuracy: 64.000\n",
            "Epoch 30 of 50\n",
            "Training\n"
          ]
        },
        {
          "output_type": "stream",
          "name": "stderr",
          "text": [
            "100%|██████████| 58/58 [00:08<00:00,  6.47it/s]"
          ]
        },
        {
          "output_type": "stream",
          "name": "stdout",
          "text": [
            "Train Loss: 0.101 | Accuracy: 97.093\n",
            "Validating\n"
          ]
        },
        {
          "output_type": "stream",
          "name": "stderr",
          "text": [
            "\n"
          ]
        },
        {
          "output_type": "stream",
          "name": "stdout",
          "text": [
            "Test Loss: 1.714 | Accuracy: 59.333\n",
            "Epoch 31 of 50\n",
            "Training\n"
          ]
        },
        {
          "output_type": "stream",
          "name": "stderr",
          "text": [
            "100%|██████████| 58/58 [00:09<00:00,  6.37it/s]"
          ]
        },
        {
          "output_type": "stream",
          "name": "stdout",
          "text": [
            "Train Loss: 0.023 | Accuracy: 99.419\n",
            "Validating\n"
          ]
        },
        {
          "output_type": "stream",
          "name": "stderr",
          "text": [
            "\n"
          ]
        },
        {
          "output_type": "stream",
          "name": "stdout",
          "text": [
            "Test Loss: 1.913 | Accuracy: 56.667\n",
            "Epoch 32 of 50\n",
            "Training\n"
          ]
        },
        {
          "output_type": "stream",
          "name": "stderr",
          "text": [
            "100%|██████████| 58/58 [00:09<00:00,  6.38it/s]"
          ]
        },
        {
          "output_type": "stream",
          "name": "stdout",
          "text": [
            "Train Loss: 0.040 | Accuracy: 98.547\n",
            "Validating\n"
          ]
        },
        {
          "output_type": "stream",
          "name": "stderr",
          "text": [
            "\n"
          ]
        },
        {
          "output_type": "stream",
          "name": "stdout",
          "text": [
            "Test Loss: 2.316 | Accuracy: 58.000\n",
            "Epoch 33 of 50\n",
            "Training\n"
          ]
        },
        {
          "output_type": "stream",
          "name": "stderr",
          "text": [
            "100%|██████████| 58/58 [00:09<00:00,  6.33it/s]"
          ]
        },
        {
          "output_type": "stream",
          "name": "stdout",
          "text": [
            "Train Loss: 0.040 | Accuracy: 98.256\n",
            "Validating\n"
          ]
        },
        {
          "output_type": "stream",
          "name": "stderr",
          "text": [
            "\n"
          ]
        },
        {
          "output_type": "stream",
          "name": "stdout",
          "text": [
            "Test Loss: 2.331 | Accuracy: 59.333\n",
            "Epoch 34 of 50\n",
            "Training\n"
          ]
        },
        {
          "output_type": "stream",
          "name": "stderr",
          "text": [
            "100%|██████████| 58/58 [00:09<00:00,  6.24it/s]"
          ]
        },
        {
          "output_type": "stream",
          "name": "stdout",
          "text": [
            "Train Loss: 0.084 | Accuracy: 97.093\n",
            "Validating\n"
          ]
        },
        {
          "output_type": "stream",
          "name": "stderr",
          "text": [
            "\n"
          ]
        },
        {
          "output_type": "stream",
          "name": "stdout",
          "text": [
            "Test Loss: 2.321 | Accuracy: 51.333\n",
            "Epoch 35 of 50\n",
            "Training\n"
          ]
        },
        {
          "output_type": "stream",
          "name": "stderr",
          "text": [
            "100%|██████████| 58/58 [00:09<00:00,  6.40it/s]"
          ]
        },
        {
          "output_type": "stream",
          "name": "stdout",
          "text": [
            "Train Loss: 0.050 | Accuracy: 98.547\n",
            "Validating\n"
          ]
        },
        {
          "output_type": "stream",
          "name": "stderr",
          "text": [
            "\n"
          ]
        },
        {
          "output_type": "stream",
          "name": "stdout",
          "text": [
            "Test Loss: 2.232 | Accuracy: 55.333\n",
            "Epoch 36 of 50\n",
            "Training\n"
          ]
        },
        {
          "output_type": "stream",
          "name": "stderr",
          "text": [
            "100%|██████████| 58/58 [00:09<00:00,  6.36it/s]"
          ]
        },
        {
          "output_type": "stream",
          "name": "stdout",
          "text": [
            "Train Loss: 0.010 | Accuracy: 100.000\n",
            "Validating\n"
          ]
        },
        {
          "output_type": "stream",
          "name": "stderr",
          "text": [
            "\n"
          ]
        },
        {
          "output_type": "stream",
          "name": "stdout",
          "text": [
            "Test Loss: 2.517 | Accuracy: 53.333\n",
            "Epoch 37 of 50\n",
            "Training\n"
          ]
        },
        {
          "output_type": "stream",
          "name": "stderr",
          "text": [
            "100%|██████████| 58/58 [00:11<00:00,  5.24it/s]"
          ]
        },
        {
          "output_type": "stream",
          "name": "stdout",
          "text": [
            "Train Loss: 0.014 | Accuracy: 99.419\n",
            "Validating\n"
          ]
        },
        {
          "output_type": "stream",
          "name": "stderr",
          "text": [
            "\n"
          ]
        },
        {
          "output_type": "stream",
          "name": "stdout",
          "text": [
            "Test Loss: 2.257 | Accuracy: 56.000\n",
            "Epoch 38 of 50\n",
            "Training\n"
          ]
        },
        {
          "output_type": "stream",
          "name": "stderr",
          "text": [
            "100%|██████████| 58/58 [00:09<00:00,  6.31it/s]"
          ]
        },
        {
          "output_type": "stream",
          "name": "stdout",
          "text": [
            "Train Loss: 0.021 | Accuracy: 99.709\n",
            "Validating\n"
          ]
        },
        {
          "output_type": "stream",
          "name": "stderr",
          "text": [
            "\n"
          ]
        },
        {
          "output_type": "stream",
          "name": "stdout",
          "text": [
            "Test Loss: 2.427 | Accuracy: 56.667\n",
            "Epoch 39 of 50\n",
            "Training\n"
          ]
        },
        {
          "output_type": "stream",
          "name": "stderr",
          "text": [
            "100%|██████████| 58/58 [00:09<00:00,  6.32it/s]"
          ]
        },
        {
          "output_type": "stream",
          "name": "stdout",
          "text": [
            "Train Loss: 0.026 | Accuracy: 99.419\n",
            "Validating\n"
          ]
        },
        {
          "output_type": "stream",
          "name": "stderr",
          "text": [
            "\n"
          ]
        },
        {
          "output_type": "stream",
          "name": "stdout",
          "text": [
            "Test Loss: 2.121 | Accuracy: 59.333\n",
            "Epoch 40 of 50\n",
            "Training\n"
          ]
        },
        {
          "output_type": "stream",
          "name": "stderr",
          "text": [
            "100%|██████████| 58/58 [00:09<00:00,  6.27it/s]"
          ]
        },
        {
          "output_type": "stream",
          "name": "stdout",
          "text": [
            "Train Loss: 0.031 | Accuracy: 99.128\n",
            "Validating\n"
          ]
        },
        {
          "output_type": "stream",
          "name": "stderr",
          "text": [
            "\n"
          ]
        },
        {
          "output_type": "stream",
          "name": "stdout",
          "text": [
            "Test Loss: 2.620 | Accuracy: 59.333\n",
            "Epoch 41 of 50\n",
            "Training\n"
          ]
        },
        {
          "output_type": "stream",
          "name": "stderr",
          "text": [
            "100%|██████████| 58/58 [00:09<00:00,  6.34it/s]"
          ]
        },
        {
          "output_type": "stream",
          "name": "stdout",
          "text": [
            "Train Loss: 0.069 | Accuracy: 97.965\n",
            "Validating\n"
          ]
        },
        {
          "output_type": "stream",
          "name": "stderr",
          "text": [
            "\n"
          ]
        },
        {
          "output_type": "stream",
          "name": "stdout",
          "text": [
            "Test Loss: 2.198 | Accuracy: 56.000\n",
            "Epoch 42 of 50\n",
            "Training\n"
          ]
        },
        {
          "output_type": "stream",
          "name": "stderr",
          "text": [
            "100%|██████████| 58/58 [00:09<00:00,  6.41it/s]"
          ]
        },
        {
          "output_type": "stream",
          "name": "stdout",
          "text": [
            "Train Loss: 0.019 | Accuracy: 99.709\n",
            "Validating\n"
          ]
        },
        {
          "output_type": "stream",
          "name": "stderr",
          "text": [
            "\n"
          ]
        },
        {
          "output_type": "stream",
          "name": "stdout",
          "text": [
            "Test Loss: 2.213 | Accuracy: 59.333\n",
            "Epoch 43 of 50\n",
            "Training\n"
          ]
        },
        {
          "output_type": "stream",
          "name": "stderr",
          "text": [
            "100%|██████████| 58/58 [00:09<00:00,  6.36it/s]"
          ]
        },
        {
          "output_type": "stream",
          "name": "stdout",
          "text": [
            "Train Loss: 0.011 | Accuracy: 99.709\n",
            "Validating\n"
          ]
        },
        {
          "output_type": "stream",
          "name": "stderr",
          "text": [
            "\n"
          ]
        },
        {
          "output_type": "stream",
          "name": "stdout",
          "text": [
            "Test Loss: 2.224 | Accuracy: 62.000\n",
            "Epoch 44 of 50\n",
            "Training\n"
          ]
        },
        {
          "output_type": "stream",
          "name": "stderr",
          "text": [
            "100%|██████████| 58/58 [00:09<00:00,  6.37it/s]"
          ]
        },
        {
          "output_type": "stream",
          "name": "stdout",
          "text": [
            "Train Loss: 0.016 | Accuracy: 99.128\n",
            "Validating\n"
          ]
        },
        {
          "output_type": "stream",
          "name": "stderr",
          "text": [
            "\n"
          ]
        },
        {
          "output_type": "stream",
          "name": "stdout",
          "text": [
            "Test Loss: 2.071 | Accuracy: 66.000\n",
            "Epoch 45 of 50\n",
            "Training\n"
          ]
        },
        {
          "output_type": "stream",
          "name": "stderr",
          "text": [
            "100%|██████████| 58/58 [00:09<00:00,  6.25it/s]"
          ]
        },
        {
          "output_type": "stream",
          "name": "stdout",
          "text": [
            "Train Loss: 0.006 | Accuracy: 100.000\n",
            "Validating\n"
          ]
        },
        {
          "output_type": "stream",
          "name": "stderr",
          "text": [
            "\n"
          ]
        },
        {
          "output_type": "stream",
          "name": "stdout",
          "text": [
            "Test Loss: 2.181 | Accuracy: 60.667\n",
            "Epoch 46 of 50\n",
            "Training\n"
          ]
        },
        {
          "output_type": "stream",
          "name": "stderr",
          "text": [
            "100%|██████████| 58/58 [00:09<00:00,  6.35it/s]"
          ]
        },
        {
          "output_type": "stream",
          "name": "stdout",
          "text": [
            "Train Loss: 0.017 | Accuracy: 99.709\n",
            "Validating\n"
          ]
        },
        {
          "output_type": "stream",
          "name": "stderr",
          "text": [
            "\n"
          ]
        },
        {
          "output_type": "stream",
          "name": "stdout",
          "text": [
            "Test Loss: 2.485 | Accuracy: 58.667\n",
            "Epoch 47 of 50\n",
            "Training\n"
          ]
        },
        {
          "output_type": "stream",
          "name": "stderr",
          "text": [
            "100%|██████████| 58/58 [00:09<00:00,  6.37it/s]"
          ]
        },
        {
          "output_type": "stream",
          "name": "stdout",
          "text": [
            "Train Loss: 0.039 | Accuracy: 98.256\n",
            "Validating\n"
          ]
        },
        {
          "output_type": "stream",
          "name": "stderr",
          "text": [
            "\n"
          ]
        },
        {
          "output_type": "stream",
          "name": "stdout",
          "text": [
            "Test Loss: 2.407 | Accuracy: 58.000\n",
            "Epoch 48 of 50\n",
            "Training\n"
          ]
        },
        {
          "output_type": "stream",
          "name": "stderr",
          "text": [
            "100%|██████████| 58/58 [00:09<00:00,  6.41it/s]"
          ]
        },
        {
          "output_type": "stream",
          "name": "stdout",
          "text": [
            "Train Loss: 0.011 | Accuracy: 99.709\n",
            "Validating\n"
          ]
        },
        {
          "output_type": "stream",
          "name": "stderr",
          "text": [
            "\n"
          ]
        },
        {
          "output_type": "stream",
          "name": "stdout",
          "text": [
            "Test Loss: 2.290 | Accuracy: 57.333\n",
            "Epoch 49 of 50\n",
            "Training\n"
          ]
        },
        {
          "output_type": "stream",
          "name": "stderr",
          "text": [
            "100%|██████████| 58/58 [00:09<00:00,  6.36it/s]"
          ]
        },
        {
          "output_type": "stream",
          "name": "stdout",
          "text": [
            "Train Loss: 0.005 | Accuracy: 100.000\n",
            "Validating\n"
          ]
        },
        {
          "output_type": "stream",
          "name": "stderr",
          "text": [
            "\n"
          ]
        },
        {
          "output_type": "stream",
          "name": "stdout",
          "text": [
            "Test Loss: 2.572 | Accuracy: 56.667\n",
            "Epoch 50 of 50\n",
            "Training\n"
          ]
        },
        {
          "output_type": "stream",
          "name": "stderr",
          "text": [
            "100%|██████████| 58/58 [00:09<00:00,  6.35it/s]"
          ]
        },
        {
          "output_type": "stream",
          "name": "stdout",
          "text": [
            "Train Loss: 0.005 | Accuracy: 100.000\n",
            "Validating\n"
          ]
        },
        {
          "output_type": "stream",
          "name": "stderr",
          "text": [
            "\n"
          ]
        },
        {
          "output_type": "stream",
          "name": "stdout",
          "text": [
            "Test Loss: 2.314 | Accuracy: 58.667\n"
          ]
        }
      ]
    },
    {
      "cell_type": "markdown",
      "source": [
        "# **MODEL SAVING**"
      ],
      "metadata": {
        "id": "tZ_CCHpbXJIG"
      }
    },
    {
      "cell_type": "code",
      "source": [
        "torch.save(model.state_dict(), save_path)\n",
        "print(\"Saved PyTorch Model State to model.pth\")"
      ],
      "metadata": {
        "colab": {
          "base_uri": "https://localhost:8080/"
        },
        "id": "qHDbJaR_GKUF",
        "outputId": "c42b8fc3-8ca6-460a-be11-9d8d4d6385bc",
        "execution": {
          "iopub.status.busy": "2022-12-24T04:38:41.174711Z",
          "iopub.execute_input": "2022-12-24T04:38:41.175047Z",
          "iopub.status.idle": "2022-12-24T04:38:43.730263Z",
          "shell.execute_reply.started": "2022-12-24T04:38:41.175003Z",
          "shell.execute_reply": "2022-12-24T04:38:43.728727Z"
        },
        "trusted": true
      },
      "execution_count": null,
      "outputs": [
        {
          "output_type": "stream",
          "name": "stdout",
          "text": [
            "Saved PyTorch Model State to model.pth\n"
          ]
        }
      ]
    },
    {
      "cell_type": "code",
      "source": [
        "model = vgg11(pretrained=True).to(device)\n",
        "#model.load_state_dict(torch.load(\"model.pth\"))\n",
        "\n",
        "state_dict = torch.load(f\"/content/{save_path}\")\n",
        "model.load_state_dict(state_dict)"
      ],
      "metadata": {
        "colab": {
          "base_uri": "https://localhost:8080/"
        },
        "id": "192GmgndGOpP",
        "outputId": "271b233e-9ab8-460f-9bfd-9ce75209ea55",
        "execution": {
          "iopub.status.busy": "2022-12-24T04:38:43.731619Z",
          "iopub.execute_input": "2022-12-24T04:38:43.731853Z",
          "iopub.status.idle": "2022-12-24T04:38:47.126242Z",
          "shell.execute_reply.started": "2022-12-24T04:38:43.731823Z",
          "shell.execute_reply": "2022-12-24T04:38:47.125464Z"
        },
        "trusted": true
      },
      "execution_count": null,
      "outputs": [
        {
          "output_type": "execute_result",
          "data": {
            "text/plain": [
              "<All keys matched successfully>"
            ]
          },
          "metadata": {},
          "execution_count": 26
        }
      ]
    },
    {
      "cell_type": "markdown",
      "source": [
        "# **VISUALIZE PREDICTING IMAGE**"
      ],
      "metadata": {
        "id": "Db5QqZ-mXJIH"
      }
    },
    {
      "cell_type": "code",
      "source": [
        "import matplotlib.pyplot as plt\n",
        "import numpy as np\n",
        "\n",
        "\n",
        "# Function to show the images\n",
        "def imageshow(img):\n",
        "    img = img / 2 + 0.5     # unnormalize\n",
        "    npimg = img.numpy()\n",
        "    plt.imshow(np.transpose(npimg, (1, 2, 0)))\n",
        "    plt.show()\n",
        "\n",
        "\n",
        "# Function to test the model with a batch of images and show the labels predictions\n",
        "def testBatch():\n",
        "    # get batch of images from the test DataLoader  \n",
        "    images, labels = next(iter(testLoader))\n",
        "\n",
        "    # show all images as one image grid\n",
        "    imageshow(torchvision.utils.make_grid(images))\n",
        "   \n",
        "    # Show the real labels on the screen \n",
        "    print('Real labels: ', ' '.join('%5s' % classes[labels[j]] \n",
        "                               for j in range(batch_size)))\n",
        "  \n",
        "    # Let's see what if the model identifiers the  labels of those example\n",
        "    images=images.to(device)\n",
        "    outputs = model(images)\n",
        "    \n",
        "    # We got the probability for every 10 labels. The highest (max) probability should be correct label\n",
        "    _, predicted = torch.max(outputs, 1)\n",
        "    \n",
        "    # Let's show the predicted labels on the screen to compare with the real ones\n",
        "    print('Predicted: ', ' '.join('%5s' % classes[predicted[j]] \n",
        "                              for j in range(batch_size)))"
      ],
      "metadata": {
        "id": "edCeruLWfJVh",
        "execution": {
          "iopub.status.busy": "2022-12-24T04:38:47.127566Z",
          "iopub.execute_input": "2022-12-24T04:38:47.128760Z",
          "iopub.status.idle": "2022-12-24T04:38:47.137127Z",
          "shell.execute_reply.started": "2022-12-24T04:38:47.128720Z",
          "shell.execute_reply": "2022-12-24T04:38:47.136343Z"
        },
        "trusted": true
      },
      "execution_count": null,
      "outputs": []
    },
    {
      "cell_type": "code",
      "source": [
        "testBatch()"
      ],
      "metadata": {
        "colab": {
          "base_uri": "https://localhost:8080/",
          "height": 180
        },
        "id": "NoBgCKGqGWei",
        "outputId": "4185d432-f823-4f87-981f-c63b6496b485",
        "execution": {
          "iopub.status.busy": "2022-12-24T04:38:47.138861Z",
          "iopub.execute_input": "2022-12-24T04:38:47.139154Z",
          "iopub.status.idle": "2022-12-24T04:38:48.036932Z",
          "shell.execute_reply.started": "2022-12-24T04:38:47.139120Z",
          "shell.execute_reply": "2022-12-24T04:38:48.035947Z"
        },
        "trusted": true
      },
      "execution_count": null,
      "outputs": [
        {
          "output_type": "stream",
          "name": "stderr",
          "text": [
            "WARNING:matplotlib.image:Clipping input data to the valid range for imshow with RGB data ([0..1] for floats or [0..255] for integers).\n"
          ]
        },
        {
          "output_type": "display_data",
          "data": {
            "text/plain": [
              "<Figure size 432x288 with 1 Axes>"
            ],
            "image/png": "[encoded data removed]"
          },
          "metadata": {
            "needs_background": "light"
          }
        },
        {
          "output_type": "stream",
          "name": "stdout",
          "text": [
            "Real labels:  benign benign malignant benign non-nodule benign\n",
            "Predicted:  benign benign malignant malignant benign benign\n"
          ]
        }
      ]
    },
    {
      "cell_type": "markdown",
      "source": [
        "# **PLOT ACCURACY**"
      ],
      "metadata": {
        "id": "eUymMjbxXJII"
      }
    },
    {
      "cell_type": "code",
      "source": [
        "# accuracy plots\n",
        "plt.figure(figsize=(10, 7))\n",
        "plt.subplot(121)\n",
        "plt.plot(train_accuracy, color='green', label='train accuracy')\n",
        "plt.plot(val_accuracy, color='blue', label='validation accuracy')\n",
        "plt.xlabel('Epochs')\n",
        "plt.ylabel('Accuracy')\n",
        "plt.legend()\n",
        "# plt.savefig('../outputs/plots/accuracy.png')\n"
      ],
      "metadata": {
        "colab": {
          "base_uri": "https://localhost:8080/",
          "height": 459
        },
        "id": "8-R8FjQqlFBX",
        "outputId": "b4c2e1fb-6fc7-4637-8bdd-6e4cf0559d38",
        "execution": {
          "iopub.status.busy": "2022-12-24T04:38:48.038894Z",
          "iopub.execute_input": "2022-12-24T04:38:48.039238Z",
          "iopub.status.idle": "2022-12-24T04:38:48.303240Z",
          "shell.execute_reply.started": "2022-12-24T04:38:48.039194Z",
          "shell.execute_reply": "2022-12-24T04:38:48.302472Z"
        },
        "trusted": true
      },
      "execution_count": null,
      "outputs": [
        {
          "output_type": "execute_result",
          "data": {
            "text/plain": [
              "<matplotlib.legend.Legend at 0x7f2bf41abbb0>"
            ]
          },
          "metadata": {},
          "execution_count": 29
        },
        {
          "output_type": "display_data",
          "data": {
            "text/plain": [
              "<Figure size 720x504 with 1 Axes>"
            ],
            "image/png": "[encoded data removed]"
          },
          "metadata": {
            "needs_background": "light"
          }
        }
      ]
    },
    {
      "cell_type": "markdown",
      "source": [
        "# **PLOT LOSS**"
      ],
      "metadata": {
        "id": "3q8eCw27XJII"
      }
    },
    {
      "cell_type": "code",
      "source": [
        "# loss plots\n",
        "plt.figure(figsize=(10, 7))\n",
        "plt.subplot(121)\n",
        "plt.plot(train_loss, color='orange', label='train loss')\n",
        "plt.plot(val_loss, color='red', label='validation loss')\n",
        "plt.xlabel('Epochs')\n",
        "plt.ylabel('Loss')\n",
        "plt.legend()\n",
        "# plt.savefig('../outputs/plots/loss.png')\n",
        "plt.show()"
      ],
      "metadata": {
        "id": "1aeZoTKBOX9C",
        "colab": {
          "base_uri": "https://localhost:8080/",
          "height": 442
        },
        "outputId": "81861bca-d41a-450c-f41e-a4929f755a61",
        "execution": {
          "iopub.status.busy": "2022-12-24T04:38:48.307238Z",
          "iopub.execute_input": "2022-12-24T04:38:48.308120Z",
          "iopub.status.idle": "2022-12-24T04:38:48.542349Z",
          "shell.execute_reply.started": "2022-12-24T04:38:48.308081Z",
          "shell.execute_reply": "2022-12-24T04:38:48.541580Z"
        },
        "trusted": true
      },
      "execution_count": null,
      "outputs": [
        {
          "output_type": "display_data",
          "data": {
            "text/plain": [
              "<Figure size 720x504 with 1 Axes>"
            ],
            "image/png": "[encoded data removed]"
          },
          "metadata": {
            "needs_background": "light"
          }
        }
      ]
    },
    {
      "cell_type": "code",
      "source": [],
      "metadata": {
        "id": "INAD7WTzXJIJ"
      },
      "execution_count": null,
      "outputs": []
    },
    {
      "cell_type": "code",
      "source": [
        "label2class ={ 1 :'benign', 2 :'malignant', 3:'non-nodule'}\n"
      ],
      "metadata": {
        "execution": {
          "iopub.status.busy": "2022-12-24T04:40:58.268861Z",
          "iopub.execute_input": "2022-12-24T04:40:58.269168Z",
          "iopub.status.idle": "2022-12-24T04:40:58.284006Z",
          "shell.execute_reply.started": "2022-12-24T04:40:58.269136Z",
          "shell.execute_reply": "2022-12-24T04:40:58.283115Z"
        },
        "trusted": true,
        "id": "VAOIUDqFXJIJ"
      },
      "execution_count": null,
      "outputs": []
    },
    {
      "cell_type": "code",
      "source": [
        "import seaborn as sns \n",
        "from sklearn.metrics import confusion_matrix, classification_report\n",
        "import pandas as pd\n",
        "\n",
        "y_pred = []\n",
        "y_true = []\n",
        "\n",
        "# iterate over test data\n",
        "for batch,(inputs, labels) in enumerate(testLoader):\n",
        "    \n",
        "    \n",
        "        inputs= inputs.to(device)\n",
        "        labels= labels.to(device)\n",
        "        output = model(inputs) # Feed Network\n",
        "\n",
        "        output = (torch.max(torch.exp(output), 1)[1]).data.cpu().numpy()\n",
        "        y_pred.extend(output) # Save Prediction\n",
        "        \n",
        "        labels = labels.data.cpu().numpy()\n",
        "        y_true.extend(labels) # Save Truth\n",
        "        \n",
        "        \n",
        "\n",
        "report = classification_report(y_true, y_pred)\n",
        "print(report)"
      ],
      "metadata": {
        "execution": {
          "iopub.status.busy": "2022-12-24T04:40:58.859553Z",
          "iopub.execute_input": "2022-12-24T04:40:58.860351Z",
          "iopub.status.idle": "2022-12-24T04:41:01.854241Z",
          "shell.execute_reply.started": "2022-12-24T04:40:58.860316Z",
          "shell.execute_reply": "2022-12-24T04:41:01.853367Z"
        },
        "trusted": true,
        "colab": {
          "base_uri": "https://localhost:8080/"
        },
        "id": "LHkhoOJQXJIJ",
        "outputId": "7748b2e2-ba6c-4806-923e-c046c885902b"
      },
      "execution_count": null,
      "outputs": [
        {
          "output_type": "stream",
          "name": "stderr",
          "text": [
            "/usr/local/lib/python3.8/dist-packages/torch/utils/data/dataloader.py:554: UserWarning: This DataLoader will create 4 worker processes in total. Our suggested max number of worker in current system is 2, which is smaller than what this DataLoader is going to create. Please be aware that excessive worker creation might get DataLoader running slow or even freeze, lower the worker number to avoid potential slowness/freeze if necessary.\n",
            "  warnings.warn(_create_warning_msg(\n"
          ]
        },
        {
          "output_type": "stream",
          "name": "stdout",
          "text": [
            "              precision    recall  f1-score   support\n",
            "\n",
            "           0       0.56      0.59      0.57        34\n",
            "           1       0.57      0.54      0.55        54\n",
            "           2       0.71      0.73      0.72        62\n",
            "\n",
            "    accuracy                           0.63       150\n",
            "   macro avg       0.61      0.62      0.61       150\n",
            "weighted avg       0.63      0.63      0.63       150\n",
            "\n"
          ]
        }
      ]
    },
    {
      "cell_type": "code",
      "source": [
        "nb_classes = 3\n",
        "confusion_matrix = np.zeros((nb_classes, nb_classes))\n",
        "with torch.no_grad():\n",
        "    for i, (inputs, classes) in enumerate(testLoader):\n",
        "        inputs = inputs.to(device)\n",
        "        classes = classes.to(device)\n",
        "        outputs = model(inputs)\n",
        "        _, preds = torch.max(outputs, 1)\n",
        "        for t, p in zip(classes.view(-1), preds.view(-1)):\n",
        "                confusion_matrix[t.long(), p.long()] += 1\n",
        "\n",
        "plt.figure(figsize=(25,25))\n",
        "\n",
        "class_names = list(label2class.values())\n",
        "df_cm = pd.DataFrame(confusion_matrix, index=class_names, columns=class_names).astype(int)\n",
        "heatmap = sns.heatmap(df_cm, annot=True, fmt=\"d\")\n",
        "\n",
        "heatmap.yaxis.set_ticklabels(heatmap.yaxis.get_ticklabels(), rotation=0, ha='right',fontsize=15)\n",
        "heatmap.xaxis.set_ticklabels(heatmap.xaxis.get_ticklabels(), rotation=45, ha='right',fontsize=15)\n",
        "plt.ylabel('True label')\n",
        "plt.xlabel('Predicted label')"
      ],
      "metadata": {
        "execution": {
          "iopub.status.busy": "2022-12-24T04:41:15.197092Z",
          "iopub.execute_input": "2022-12-24T04:41:15.197401Z",
          "iopub.status.idle": "2022-12-24T04:42:52.906993Z",
          "shell.execute_reply.started": "2022-12-24T04:41:15.197365Z",
          "shell.execute_reply": "2022-12-24T04:42:52.905269Z"
        },
        "trusted": true,
        "colab": {
          "base_uri": "https://localhost:8080/",
          "height": 1000
        },
        "id": "YMKYEGuFXJIK",
        "outputId": "cc56eac8-d6a7-407f-a75c-be4b82644c47"
      },
      "execution_count": null,
      "outputs": [
        {
          "output_type": "execute_result",
          "data": {
            "text/plain": [
              "Text(0.5, 204.0, 'Predicted label')"
            ]
          },
          "metadata": {},
          "execution_count": 39
        },
        {
          "output_type": "display_data",
          "data": {
            "text/plain": [
              "<Figure size 1800x1800 with 2 Axes>"
            ],
            "image/png": "[encoded data removed]"
          },
          "metadata": {
            "needs_background": "light"
          }
        }
      ]
    },
    {
      "cell_type": "code",
      "source": [],
      "metadata": {
        "id": "JitFcoTjXJIK"
      },
      "execution_count": null,
      "outputs": []
    },
    {
      "cell_type": "code",
      "source": [],
      "metadata": {
        "id": "BlrBxRlKXJIK"
      },
      "execution_count": null,
      "outputs": []
    },
    {
      "cell_type": "code",
      "source": [],
      "metadata": {
        "id": "VzzuY5MKXJIK"
      },
      "execution_count": null,
      "outputs": []
    },
    {
      "cell_type": "code",
      "source": [],
      "metadata": {
        "id": "B421NWzcXJIK"
      },
      "execution_count": null,
      "outputs": []
    },
    {
      "cell_type": "code",
      "source": [],
      "metadata": {
        "id": "MUMJcep4XJIK"
      },
      "execution_count": null,
      "outputs": []
    },
    {
      "cell_type": "code",
      "source": [],
      "metadata": {
        "id": "fZs6A0HFXJIL"
      },
      "execution_count": null,
      "outputs": []
    }
  ]
}