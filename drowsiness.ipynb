{
  "cells": [
    {
      "cell_type": "markdown",
      "metadata": {
        "id": "view-in-github",
        "colab_type": "text"
      },
      "source": [
        "<a href=\"https://colab.research.google.com/github/JumanaRahim/workshop/blob/master/drowsiness.ipynb\" target=\"_parent\"><img src=\"https://colab.research.google.com/assets/colab-badge.svg\" alt=\"Open In Colab\"/></a>"
      ]
    },
    {
      "cell_type": "code",
      "source": [
        "!unzip /content/dataset_new.zip "
      ],
      "metadata": {
        "colab": {
          "base_uri": "https://localhost:8080/"
        },
        "id": "f5Q5s9Nor3-l",
        "outputId": "fd697d3c-86bb-420c-a22c-c33c01c3445a"
      },
      "id": "f5Q5s9Nor3-l",
      "execution_count": null,
      "outputs": [
        {
          "output_type": "stream",
          "name": "stdout",
          "text": [
            "Archive:  /content/dataset_new.zip\n",
            "   creating: dataset_new/\n",
            "   creating: dataset_new/test/\n",
            "   creating: dataset_new/test/no_yawn/\n",
            "  inflating: dataset_new/test/no_yawn/1004.jpg  \n",
            "  inflating: dataset_new/test/no_yawn/1007.jpg  \n",
            "  inflating: dataset_new/test/no_yawn/1010.jpg  \n",
            "  inflating: dataset_new/test/no_yawn/1033.jpg  \n",
            "  inflating: dataset_new/test/no_yawn/1044.jpg  \n",
            "  inflating: dataset_new/test/no_yawn/1050.jpg  \n",
            "  inflating: dataset_new/test/no_yawn/1063.jpg  \n",
            "  inflating: dataset_new/test/no_yawn/1067.jpg  \n",
            "  inflating: dataset_new/test/no_yawn/1096.jpg  \n",
            "  inflating: dataset_new/test/no_yawn/1114.jpg  \n",
            "  inflating: dataset_new/test/no_yawn/1118.jpg  \n",
            "  inflating: dataset_new/test/no_yawn/1129.jpg  \n",
            "  inflating: dataset_new/test/no_yawn/113.jpg  \n",
            "  inflating: dataset_new/test/no_yawn/1134.jpg  \n",
            "  inflating: dataset_new/test/no_yawn/115.jpg  \n",
            "  inflating: dataset_new/test/no_yawn/1213.jpg  \n",
            "  inflating: dataset_new/test/no_yawn/1267.jpg  \n",
            "  inflating: dataset_new/test/no_yawn/1268.jpg  \n",
            "  inflating: dataset_new/test/no_yawn/1323.jpg  \n",
            "  inflating: dataset_new/test/no_yawn/1367.jpg  \n",
            "  inflating: dataset_new/test/no_yawn/1368.jpg  \n",
            "  inflating: dataset_new/test/no_yawn/1452.jpg  \n",
            "  inflating: dataset_new/test/no_yawn/1459.jpg  \n",
            "  inflating: dataset_new/test/no_yawn/1486.jpg  \n",
            "  inflating: dataset_new/test/no_yawn/1536.jpg  \n",
            "  inflating: dataset_new/test/no_yawn/1543.jpg  \n",
            "  inflating: dataset_new/test/no_yawn/1544.jpg  \n",
            "  inflating: dataset_new/test/no_yawn/1558.jpg  \n",
            "  inflating: dataset_new/test/no_yawn/1566.jpg  \n",
            "  inflating: dataset_new/test/no_yawn/1570.jpg  \n",
            "  inflating: dataset_new/test/no_yawn/1594.jpg  \n",
            "  inflating: dataset_new/test/no_yawn/1596.jpg  \n",
            "  inflating: dataset_new/test/no_yawn/1641.jpg  \n",
            "  inflating: dataset_new/test/no_yawn/1643.jpg  \n",
            "  inflating: dataset_new/test/no_yawn/1771.jpg  \n",
            "  inflating: dataset_new/test/no_yawn/1862.jpg  \n",
            "  inflating: dataset_new/test/no_yawn/1863.jpg  \n",
            "  inflating: dataset_new/test/no_yawn/1897.jpg  \n",
            "  inflating: dataset_new/test/no_yawn/1898.jpg  \n",
            "  inflating: dataset_new/test/no_yawn/1913.jpg  \n",
            "  inflating: dataset_new/test/no_yawn/1942.jpg  \n",
            "  inflating: dataset_new/test/no_yawn/1946.jpg  \n",
            "  inflating: dataset_new/test/no_yawn/1947.jpg  \n",
            "  inflating: dataset_new/test/no_yawn/1950.jpg  \n",
            "  inflating: dataset_new/test/no_yawn/2004.jpg  \n",
            "  inflating: dataset_new/test/no_yawn/2016.jpg  \n",
            "  inflating: dataset_new/test/no_yawn/205.jpg  \n",
            "  inflating: dataset_new/test/no_yawn/2059.jpg  \n",
            "  inflating: dataset_new/test/no_yawn/2090.jpg  \n",
            "  inflating: dataset_new/test/no_yawn/2093.jpg  \n",
            "  inflating: dataset_new/test/no_yawn/2107.jpg  \n",
            "  inflating: dataset_new/test/no_yawn/211.jpg  \n",
            "  inflating: dataset_new/test/no_yawn/2110.jpg  \n",
            "  inflating: dataset_new/test/no_yawn/2197.jpg  \n",
            "  inflating: dataset_new/test/no_yawn/2289.jpg  \n",
            "  inflating: dataset_new/test/no_yawn/2311.jpg  \n",
            "  inflating: dataset_new/test/no_yawn/233.jpg  \n",
            "  inflating: dataset_new/test/no_yawn/2346.jpg  \n",
            "  inflating: dataset_new/test/no_yawn/2351.jpg  \n",
            "  inflating: dataset_new/test/no_yawn/2354.jpg  \n",
            "  inflating: dataset_new/test/no_yawn/237.jpg  \n",
            "  inflating: dataset_new/test/no_yawn/24.jpg  \n",
            "  inflating: dataset_new/test/no_yawn/2406.jpg  \n",
            "  inflating: dataset_new/test/no_yawn/2408.jpg  \n",
            "  inflating: dataset_new/test/no_yawn/2431.jpg  \n",
            "  inflating: dataset_new/test/no_yawn/2482.jpg  \n",
            "  inflating: dataset_new/test/no_yawn/2511.jpg  \n",
            "  inflating: dataset_new/test/no_yawn/2514.jpg  \n",
            "  inflating: dataset_new/test/no_yawn/2541.jpg  \n",
            "  inflating: dataset_new/test/no_yawn/2542.jpg  \n",
            "  inflating: dataset_new/test/no_yawn/2548.jpg  \n",
            "  inflating: dataset_new/test/no_yawn/2577.jpg  \n",
            "  inflating: dataset_new/test/no_yawn/2590.jpg  \n",
            "  inflating: dataset_new/test/no_yawn/26.jpg  \n",
            "  inflating: dataset_new/test/no_yawn/2607.jpg  \n",
            "  inflating: dataset_new/test/no_yawn/2621.jpg  \n",
            "  inflating: dataset_new/test/no_yawn/276.jpg  \n",
            "  inflating: dataset_new/test/no_yawn/29.jpg  \n",
            "  inflating: dataset_new/test/no_yawn/291.jpg  \n",
            "  inflating: dataset_new/test/no_yawn/461.jpg  \n",
            "  inflating: dataset_new/test/no_yawn/470.jpg  \n",
            "  inflating: dataset_new/test/no_yawn/487.jpg  \n",
            "  inflating: dataset_new/test/no_yawn/510.jpg  \n",
            "  inflating: dataset_new/test/no_yawn/526.jpg  \n",
            "  inflating: dataset_new/test/no_yawn/548.jpg  \n",
            "  inflating: dataset_new/test/no_yawn/551.jpg  \n",
            "  inflating: dataset_new/test/no_yawn/555.jpg  \n",
            "  inflating: dataset_new/test/no_yawn/603.jpg  \n",
            "  inflating: dataset_new/test/no_yawn/610.jpg  \n",
            "  inflating: dataset_new/test/no_yawn/616.jpg  \n",
            "  inflating: dataset_new/test/no_yawn/646.jpg  \n",
            "  inflating: dataset_new/test/no_yawn/702.jpg  \n",
            "  inflating: dataset_new/test/no_yawn/71.jpg  \n",
            "  inflating: dataset_new/test/no_yawn/728.jpg  \n",
            "  inflating: dataset_new/test/no_yawn/755.jpg  \n",
            "  inflating: dataset_new/test/no_yawn/756.jpg  \n",
            "  inflating: dataset_new/test/no_yawn/771.jpg  \n",
            "  inflating: dataset_new/test/no_yawn/779.jpg  \n",
            "  inflating: dataset_new/test/no_yawn/830.jpg  \n",
            "  inflating: dataset_new/test/no_yawn/840.jpg  \n",
            "  inflating: dataset_new/test/no_yawn/866.jpg  \n",
            "  inflating: dataset_new/test/no_yawn/896.jpg  \n",
            "  inflating: dataset_new/test/no_yawn/898.jpg  \n",
            "  inflating: dataset_new/test/no_yawn/900.jpg  \n",
            "  inflating: dataset_new/test/no_yawn/91.jpg  \n",
            "  inflating: dataset_new/test/no_yawn/958.jpg  \n",
            "  inflating: dataset_new/test/no_yawn/959.jpg  \n",
            "  inflating: dataset_new/test/no_yawn/963.jpg  \n",
            "  inflating: dataset_new/test/no_yawn/976.jpg  \n",
            "   creating: dataset_new/test/yawn/\n",
            "  inflating: dataset_new/test/yawn/205.jpg  \n",
            "  inflating: dataset_new/test/yawn/100.jpg  \n",
            "  inflating: dataset_new/test/yawn/102.jpg  \n",
            "  inflating: dataset_new/test/yawn/105.jpg  \n",
            "  inflating: dataset_new/test/yawn/111.jpg  \n",
            "  inflating: dataset_new/test/yawn/116.jpg  \n",
            "  inflating: dataset_new/test/yawn/119.jpg  \n",
            "  inflating: dataset_new/test/yawn/121.jpg  \n",
            "  inflating: dataset_new/test/yawn/122.jpg  \n",
            "  inflating: dataset_new/test/yawn/127.jpg  \n",
            "  inflating: dataset_new/test/yawn/131.jpg  \n",
            "  inflating: dataset_new/test/yawn/134.jpg  \n",
            "  inflating: dataset_new/test/yawn/14.jpg  \n",
            "  inflating: dataset_new/test/yawn/140.jpg  \n",
            "  inflating: dataset_new/test/yawn/145.jpg  \n",
            "  inflating: dataset_new/test/yawn/148.jpg  \n",
            "  inflating: dataset_new/test/yawn/160.jpg  \n",
            "  inflating: dataset_new/test/yawn/168.jpg  \n",
            "  inflating: dataset_new/test/yawn/169.jpg  \n",
            "  inflating: dataset_new/test/yawn/177.jpg  \n",
            "  inflating: dataset_new/test/yawn/188.jpg  \n",
            "  inflating: dataset_new/test/yawn/189.jpg  \n",
            "  inflating: dataset_new/test/yawn/206.jpg  \n",
            "  inflating: dataset_new/test/yawn/214.jpg  \n",
            "  inflating: dataset_new/test/yawn/229.jpg  \n",
            "  inflating: dataset_new/test/yawn/233.jpg  \n",
            "  inflating: dataset_new/test/yawn/234.jpg  \n",
            "  inflating: dataset_new/test/yawn/235.jpg  \n",
            "  inflating: dataset_new/test/yawn/239.jpg  \n",
            "  inflating: dataset_new/test/yawn/240.jpg  \n",
            "  inflating: dataset_new/test/yawn/248.jpg  \n",
            "  inflating: dataset_new/test/yawn/249.jpg  \n",
            "  inflating: dataset_new/test/yawn/257.jpg  \n",
            "  inflating: dataset_new/test/yawn/259.jpg  \n",
            "  inflating: dataset_new/test/yawn/286.jpg  \n",
            "  inflating: dataset_new/test/yawn/305.jpg  \n",
            "  inflating: dataset_new/test/yawn/306.jpg  \n",
            "  inflating: dataset_new/test/yawn/318.jpg  \n",
            "  inflating: dataset_new/test/yawn/319.jpg  \n",
            "  inflating: dataset_new/test/yawn/322.jpg  \n",
            "  inflating: dataset_new/test/yawn/331.jpg  \n",
            "  inflating: dataset_new/test/yawn/332.jpg  \n",
            "  inflating: dataset_new/test/yawn/333.jpg  \n",
            "  inflating: dataset_new/test/yawn/336.jpg  \n",
            "  inflating: dataset_new/test/yawn/349.jpg  \n",
            "  inflating: dataset_new/test/yawn/357.jpg  \n",
            "  inflating: dataset_new/test/yawn/362.jpg  \n",
            "  inflating: dataset_new/test/yawn/366.jpg  \n",
            "  inflating: dataset_new/test/yawn/379.jpg  \n",
            "  inflating: dataset_new/test/yawn/381.jpg  \n",
            "  inflating: dataset_new/test/yawn/382.jpg  \n",
            "  inflating: dataset_new/test/yawn/385.jpg  \n",
            "  inflating: dataset_new/test/yawn/386.jpg  \n",
            "  inflating: dataset_new/test/yawn/409.jpg  \n",
            "  inflating: dataset_new/test/yawn/443.jpg  \n",
            "  inflating: dataset_new/test/yawn/451.jpg  \n",
            "  inflating: dataset_new/test/yawn/455.jpg  \n",
            "  inflating: dataset_new/test/yawn/461.jpg  \n",
            "  inflating: dataset_new/test/yawn/465.jpg  \n",
            "  inflating: dataset_new/test/yawn/466.jpg  \n",
            "  inflating: dataset_new/test/yawn/47.jpg  \n",
            "  inflating: dataset_new/test/yawn/477.jpg  \n",
            "  inflating: dataset_new/test/yawn/480.jpg  \n",
            "  inflating: dataset_new/test/yawn/482.jpg  \n",
            "  inflating: dataset_new/test/yawn/49.jpg  \n",
            "  inflating: dataset_new/test/yawn/505.jpg  \n",
            "  inflating: dataset_new/test/yawn/511.jpg  \n",
            "  inflating: dataset_new/test/yawn/513.jpg  \n",
            "  inflating: dataset_new/test/yawn/526.jpg  \n",
            "  inflating: dataset_new/test/yawn/527.jpg  \n",
            "  inflating: dataset_new/test/yawn/529.jpg  \n",
            "  inflating: dataset_new/test/yawn/538.jpg  \n",
            "  inflating: dataset_new/test/yawn/547.jpg  \n",
            "  inflating: dataset_new/test/yawn/548.jpg  \n",
            "  inflating: dataset_new/test/yawn/551.jpg  \n",
            "  inflating: dataset_new/test/yawn/554.jpg  \n",
            "  inflating: dataset_new/test/yawn/559.jpg  \n",
            "  inflating: dataset_new/test/yawn/563.jpg  \n",
            "  inflating: dataset_new/test/yawn/564.jpg  \n",
            "  inflating: dataset_new/test/yawn/602.jpg  \n",
            "  inflating: dataset_new/test/yawn/606.jpg  \n",
            "  inflating: dataset_new/test/yawn/61.jpg  \n",
            "  inflating: dataset_new/test/yawn/619.jpg  \n",
            "  inflating: dataset_new/test/yawn/622.jpg  \n",
            "  inflating: dataset_new/test/yawn/63.jpg  \n",
            "  inflating: dataset_new/test/yawn/630.jpg  \n",
            "  inflating: dataset_new/test/yawn/632.jpg  \n",
            "  inflating: dataset_new/test/yawn/649.jpg  \n",
            "  inflating: dataset_new/test/yawn/652.jpg  \n",
            "  inflating: dataset_new/test/yawn/662.jpg  \n",
            "  inflating: dataset_new/test/yawn/676.jpg  \n",
            "  inflating: dataset_new/test/yawn/678.jpg  \n",
            "  inflating: dataset_new/test/yawn/681.jpg  \n",
            "  inflating: dataset_new/test/yawn/686.jpg  \n",
            "  inflating: dataset_new/test/yawn/707.jpg  \n",
            "  inflating: dataset_new/test/yawn/709.jpg  \n",
            "  inflating: dataset_new/test/yawn/711.jpg  \n",
            "  inflating: dataset_new/test/yawn/715.jpg  \n",
            "  inflating: dataset_new/test/yawn/719.jpg  \n",
            "  inflating: dataset_new/test/yawn/720.jpg  \n",
            "  inflating: dataset_new/test/yawn/721.jpg  \n",
            "  inflating: dataset_new/test/yawn/725.jpg  \n",
            "  inflating: dataset_new/test/yawn/81.jpg  \n",
            "  inflating: dataset_new/test/yawn/84.jpg  \n",
            "  inflating: dataset_new/test/yawn/86.jpg  \n",
            "  inflating: dataset_new/test/yawn/95.jpg  \n",
            "   creating: dataset_new/train/\n",
            "   creating: dataset_new/train/no_yawn/\n",
            "  inflating: dataset_new/train/no_yawn/1.jpg  \n",
            "  inflating: dataset_new/train/no_yawn/1003.jpg  \n",
            "  inflating: dataset_new/train/no_yawn/1006.jpg  \n",
            "  inflating: dataset_new/train/no_yawn/1008.jpg  \n",
            "  inflating: dataset_new/train/no_yawn/1009.jpg  \n",
            "  inflating: dataset_new/train/no_yawn/1021.jpg  \n",
            "  inflating: dataset_new/train/no_yawn/1028.jpg  \n",
            "  inflating: dataset_new/train/no_yawn/1029.jpg  \n",
            "  inflating: dataset_new/train/no_yawn/1030.jpg  \n",
            "  inflating: dataset_new/train/no_yawn/1031.jpg  \n",
            "  inflating: dataset_new/train/no_yawn/1032.jpg  \n",
            "  inflating: dataset_new/train/no_yawn/1034.jpg  \n",
            "  inflating: dataset_new/train/no_yawn/1038.jpg  \n",
            "  inflating: dataset_new/train/no_yawn/1039.jpg  \n",
            "  inflating: dataset_new/train/no_yawn/1042.jpg  \n",
            "  inflating: dataset_new/train/no_yawn/1046.jpg  \n",
            "  inflating: dataset_new/train/no_yawn/1047.jpg  \n",
            "  inflating: dataset_new/train/no_yawn/1061.jpg  \n",
            "  inflating: dataset_new/train/no_yawn/1062.jpg  \n",
            "  inflating: dataset_new/train/no_yawn/1068.jpg  \n",
            "  inflating: dataset_new/train/no_yawn/1069.jpg  \n",
            "  inflating: dataset_new/train/no_yawn/1073.jpg  \n",
            "  inflating: dataset_new/train/no_yawn/1074.jpg  \n",
            "  inflating: dataset_new/train/no_yawn/1097.jpg  \n",
            "  inflating: dataset_new/train/no_yawn/1098.jpg  \n",
            "  inflating: dataset_new/train/no_yawn/111.jpg  \n",
            "  inflating: dataset_new/train/no_yawn/1111.jpg  \n",
            "  inflating: dataset_new/train/no_yawn/1116.jpg  \n",
            "  inflating: dataset_new/train/no_yawn/1117.jpg  \n",
            "  inflating: dataset_new/train/no_yawn/112.jpg  \n",
            "  inflating: dataset_new/train/no_yawn/1120.jpg  \n",
            "  inflating: dataset_new/train/no_yawn/1121.jpg  \n",
            "  inflating: dataset_new/train/no_yawn/1122.jpg  \n",
            "  inflating: dataset_new/train/no_yawn/1128.jpg  \n",
            "  inflating: dataset_new/train/no_yawn/1130.jpg  \n",
            "  inflating: dataset_new/train/no_yawn/1131.jpg  \n",
            "  inflating: dataset_new/train/no_yawn/1132.jpg  \n",
            "  inflating: dataset_new/train/no_yawn/1133.jpg  \n",
            "  inflating: dataset_new/train/no_yawn/1139.jpg  \n",
            "  inflating: dataset_new/train/no_yawn/114.jpg  \n",
            "  inflating: dataset_new/train/no_yawn/117.jpg  \n",
            "  inflating: dataset_new/train/no_yawn/1172.jpg  \n",
            "  inflating: dataset_new/train/no_yawn/1173.jpg  \n",
            "  inflating: dataset_new/train/no_yawn/1174.jpg  \n",
            "  inflating: dataset_new/train/no_yawn/1176.jpg  \n",
            "  inflating: dataset_new/train/no_yawn/1177.jpg  \n",
            "  inflating: dataset_new/train/no_yawn/1178.jpg  \n",
            "  inflating: dataset_new/train/no_yawn/1201.jpg  \n",
            "  inflating: dataset_new/train/no_yawn/1202.jpg  \n",
            "  inflating: dataset_new/train/no_yawn/1203.jpg  \n",
            "  inflating: dataset_new/train/no_yawn/1208.jpg  \n",
            "  inflating: dataset_new/train/no_yawn/1209.jpg  \n",
            "  inflating: dataset_new/train/no_yawn/1210.jpg  \n",
            "  inflating: dataset_new/train/no_yawn/1214.jpg  \n",
            "  inflating: dataset_new/train/no_yawn/1246.jpg  \n",
            "  inflating: dataset_new/train/no_yawn/1247.jpg  \n",
            "  inflating: dataset_new/train/no_yawn/1248.jpg  \n",
            "  inflating: dataset_new/train/no_yawn/1250.jpg  \n",
            "  inflating: dataset_new/train/no_yawn/1261.jpg  \n",
            "  inflating: dataset_new/train/no_yawn/1266.jpg  \n",
            "  inflating: dataset_new/train/no_yawn/1269.jpg  \n",
            "  inflating: dataset_new/train/no_yawn/1270.jpg  \n",
            "  inflating: dataset_new/train/no_yawn/1281.jpg  \n",
            "  inflating: dataset_new/train/no_yawn/1282.jpg  \n",
            "  inflating: dataset_new/train/no_yawn/1318.jpg  \n",
            "  inflating: dataset_new/train/no_yawn/1319.jpg  \n",
            "  inflating: dataset_new/train/no_yawn/1320.jpg  \n",
            "  inflating: dataset_new/train/no_yawn/1322.jpg  \n",
            "  inflating: dataset_new/train/no_yawn/1324.jpg  \n",
            "  inflating: dataset_new/train/no_yawn/1326.jpg  \n",
            "  inflating: dataset_new/train/no_yawn/1327.jpg  \n",
            "  inflating: dataset_new/train/no_yawn/1332.jpg  \n",
            "  inflating: dataset_new/train/no_yawn/1333.jpg  \n",
            "  inflating: dataset_new/train/no_yawn/1334.jpg  \n",
            "  inflating: dataset_new/train/no_yawn/1356.jpg  \n",
            "  inflating: dataset_new/train/no_yawn/1357.jpg  \n",
            "  inflating: dataset_new/train/no_yawn/1359.jpg  \n",
            "  inflating: dataset_new/train/no_yawn/1362.jpg  \n",
            "  inflating: dataset_new/train/no_yawn/1363.jpg  \n",
            "  inflating: dataset_new/train/no_yawn/1369.jpg  \n",
            "  inflating: dataset_new/train/no_yawn/1370.jpg  \n",
            "  inflating: dataset_new/train/no_yawn/1371.jpg  \n",
            "  inflating: dataset_new/train/no_yawn/1374.jpg  \n",
            "  inflating: dataset_new/train/no_yawn/1376.jpg  \n",
            "  inflating: dataset_new/train/no_yawn/1378.jpg  \n",
            "  inflating: dataset_new/train/no_yawn/141.jpg  \n",
            "  inflating: dataset_new/train/no_yawn/1411.jpg  \n",
            "  inflating: dataset_new/train/no_yawn/1412.jpg  \n",
            "  inflating: dataset_new/train/no_yawn/1413.jpg  \n",
            "  inflating: dataset_new/train/no_yawn/142.jpg  \n",
            "  inflating: dataset_new/train/no_yawn/144.jpg  \n",
            "  inflating: dataset_new/train/no_yawn/1447.jpg  \n",
            "  inflating: dataset_new/train/no_yawn/1448.jpg  \n",
            "  inflating: dataset_new/train/no_yawn/1449.jpg  \n",
            "  inflating: dataset_new/train/no_yawn/145.jpg  \n",
            "  inflating: dataset_new/train/no_yawn/1450.jpg  \n",
            "  inflating: dataset_new/train/no_yawn/1451.jpg  \n",
            "  inflating: dataset_new/train/no_yawn/146.jpg  \n",
            "  inflating: dataset_new/train/no_yawn/1460.jpg  \n",
            "  inflating: dataset_new/train/no_yawn/1461.jpg  \n",
            "  inflating: dataset_new/train/no_yawn/1462.jpg  \n",
            "  inflating: dataset_new/train/no_yawn/1463.jpg  \n",
            "  inflating: dataset_new/train/no_yawn/1464.jpg  \n",
            "  inflating: dataset_new/train/no_yawn/147.jpg  \n",
            "  inflating: dataset_new/train/no_yawn/148.jpg  \n",
            "  inflating: dataset_new/train/no_yawn/1487.jpg  \n",
            "  inflating: dataset_new/train/no_yawn/149.jpg  \n",
            "  inflating: dataset_new/train/no_yawn/1492.jpg  \n",
            "  inflating: dataset_new/train/no_yawn/1493.jpg  \n",
            "  inflating: dataset_new/train/no_yawn/1496.jpg  \n",
            "  inflating: dataset_new/train/no_yawn/1497.jpg  \n",
            "  inflating: dataset_new/train/no_yawn/1498.jpg  \n",
            "  inflating: dataset_new/train/no_yawn/1499.jpg  \n",
            "  inflating: dataset_new/train/no_yawn/1500.jpg  \n",
            "  inflating: dataset_new/train/no_yawn/1503.jpg  \n",
            "  inflating: dataset_new/train/no_yawn/1507.jpg  \n",
            "  inflating: dataset_new/train/no_yawn/1508.jpg  \n",
            "  inflating: dataset_new/train/no_yawn/1509.jpg  \n",
            "  inflating: dataset_new/train/no_yawn/1510.jpg  \n",
            "  inflating: dataset_new/train/no_yawn/1532.jpg  \n",
            "  inflating: dataset_new/train/no_yawn/1537.jpg  \n",
            "  inflating: dataset_new/train/no_yawn/1538.jpg  \n",
            "  inflating: dataset_new/train/no_yawn/1541.jpg  \n",
            "  inflating: dataset_new/train/no_yawn/1542.jpg  \n",
            "  inflating: dataset_new/train/no_yawn/1559.jpg  \n",
            "  inflating: dataset_new/train/no_yawn/1561.jpg  \n",
            "  inflating: dataset_new/train/no_yawn/1562.jpg  \n",
            "  inflating: dataset_new/train/no_yawn/1567.jpg  \n",
            "  inflating: dataset_new/train/no_yawn/1571.jpg  \n",
            "  inflating: dataset_new/train/no_yawn/1572.jpg  \n",
            "  inflating: dataset_new/train/no_yawn/1573.jpg  \n",
            "  inflating: dataset_new/train/no_yawn/1574.jpg  \n",
            "  inflating: dataset_new/train/no_yawn/1576.jpg  \n",
            "  inflating: dataset_new/train/no_yawn/1592.jpg  \n",
            "  inflating: dataset_new/train/no_yawn/1593.jpg  \n",
            "  inflating: dataset_new/train/no_yawn/1597.jpg  \n",
            "  inflating: dataset_new/train/no_yawn/1598.jpg  \n",
            "  inflating: dataset_new/train/no_yawn/1599.jpg  \n",
            "  inflating: dataset_new/train/no_yawn/1600.jpg  \n",
            "  inflating: dataset_new/train/no_yawn/1611.jpg  \n",
            "  inflating: dataset_new/train/no_yawn/1627.jpg  \n",
            "  inflating: dataset_new/train/no_yawn/1629.jpg  \n",
            "  inflating: dataset_new/train/no_yawn/1630.jpg  \n",
            "  inflating: dataset_new/train/no_yawn/1642.jpg  \n",
            "  inflating: dataset_new/train/no_yawn/1647.jpg  \n",
            "  inflating: dataset_new/train/no_yawn/1648.jpg  \n",
            "  inflating: dataset_new/train/no_yawn/1651.jpg  \n",
            "  inflating: dataset_new/train/no_yawn/1652.jpg  \n",
            "  inflating: dataset_new/train/no_yawn/1653.jpg  \n",
            "  inflating: dataset_new/train/no_yawn/1686.jpg  \n",
            "  inflating: dataset_new/train/no_yawn/1689.jpg  \n",
            "  inflating: dataset_new/train/no_yawn/1690.jpg  \n",
            "  inflating: dataset_new/train/no_yawn/1701.jpg  \n",
            "  inflating: dataset_new/train/no_yawn/1703.jpg  \n",
            "  inflating: dataset_new/train/no_yawn/1706.jpg  \n",
            "  inflating: dataset_new/train/no_yawn/1707.jpg  \n",
            "  inflating: dataset_new/train/no_yawn/1708.jpg  \n",
            "  inflating: dataset_new/train/no_yawn/1711.jpg  \n",
            "  inflating: dataset_new/train/no_yawn/1712.jpg  \n",
            "  inflating: dataset_new/train/no_yawn/1714.jpg  \n",
            "  inflating: dataset_new/train/no_yawn/1736.jpg  \n",
            "  inflating: dataset_new/train/no_yawn/1738.jpg  \n",
            "  inflating: dataset_new/train/no_yawn/174.jpg  \n",
            "  inflating: dataset_new/train/no_yawn/1740.jpg  \n",
            "  inflating: dataset_new/train/no_yawn/175.jpg  \n",
            "  inflating: dataset_new/train/no_yawn/176.jpg  \n",
            "  inflating: dataset_new/train/no_yawn/1763.jpg  \n",
            "  inflating: dataset_new/train/no_yawn/1764.jpg  \n",
            "  inflating: dataset_new/train/no_yawn/1766.jpg  \n",
            "  inflating: dataset_new/train/no_yawn/1767.jpg  \n",
            "  inflating: dataset_new/train/no_yawn/1768.jpg  \n",
            "  inflating: dataset_new/train/no_yawn/1769.jpg  \n",
            "  inflating: dataset_new/train/no_yawn/177.jpg  \n",
            "  inflating: dataset_new/train/no_yawn/1777.jpg  \n",
            "  inflating: dataset_new/train/no_yawn/1778.jpg  \n",
            "  inflating: dataset_new/train/no_yawn/1779.jpg  \n",
            "  inflating: dataset_new/train/no_yawn/1780.jpg  \n",
            "  inflating: dataset_new/train/no_yawn/1781.jpg  \n",
            "  inflating: dataset_new/train/no_yawn/1782.jpg  \n",
            "  inflating: dataset_new/train/no_yawn/1783.jpg  \n",
            "  inflating: dataset_new/train/no_yawn/1784.jpg  \n",
            "  inflating: dataset_new/train/no_yawn/1788.jpg  \n",
            "  inflating: dataset_new/train/no_yawn/179.jpg  \n",
            "  inflating: dataset_new/train/no_yawn/1802.jpg  \n",
            "  inflating: dataset_new/train/no_yawn/1803.jpg  \n",
            "  inflating: dataset_new/train/no_yawn/1804.jpg  \n",
            "  inflating: dataset_new/train/no_yawn/1816.jpg  \n",
            "  inflating: dataset_new/train/no_yawn/1817.jpg  \n",
            "  inflating: dataset_new/train/no_yawn/1820.jpg  \n",
            "  inflating: dataset_new/train/no_yawn/1851.jpg  \n",
            "  inflating: dataset_new/train/no_yawn/1852.jpg  \n",
            "  inflating: dataset_new/train/no_yawn/1856.jpg  \n",
            "  inflating: dataset_new/train/no_yawn/1857.jpg  \n",
            "  inflating: dataset_new/train/no_yawn/1859.jpg  \n",
            "  inflating: dataset_new/train/no_yawn/1864.jpg  \n",
            "  inflating: dataset_new/train/no_yawn/1866.jpg  \n",
            "  inflating: dataset_new/train/no_yawn/1867.jpg  \n",
            "  inflating: dataset_new/train/no_yawn/1870.jpg  \n",
            "  inflating: dataset_new/train/no_yawn/1871.jpg  \n",
            "  inflating: dataset_new/train/no_yawn/1874.jpg  \n",
            "  inflating: dataset_new/train/no_yawn/1876.jpg  \n",
            "  inflating: dataset_new/train/no_yawn/1878.jpg  \n",
            "  inflating: dataset_new/train/no_yawn/1879.jpg  \n",
            "  inflating: dataset_new/train/no_yawn/1880.jpg  \n",
            "  inflating: dataset_new/train/no_yawn/1891.jpg  \n",
            "  inflating: dataset_new/train/no_yawn/1893.jpg  \n",
            "  inflating: dataset_new/train/no_yawn/1899.jpg  \n",
            "  inflating: dataset_new/train/no_yawn/1900.jpg  \n",
            "  inflating: dataset_new/train/no_yawn/1911.jpg  \n",
            "  inflating: dataset_new/train/no_yawn/1914.jpg  \n",
            "  inflating: dataset_new/train/no_yawn/1916.jpg  \n",
            "  inflating: dataset_new/train/no_yawn/1931.jpg  \n",
            "  inflating: dataset_new/train/no_yawn/1932.jpg  \n",
            "  inflating: dataset_new/train/no_yawn/1933.jpg  \n",
            "  inflating: dataset_new/train/no_yawn/1934.jpg  \n",
            "  inflating: dataset_new/train/no_yawn/1936.jpg  \n",
            "  inflating: dataset_new/train/no_yawn/1937.jpg  \n",
            "  inflating: dataset_new/train/no_yawn/1938.jpg  \n",
            "  inflating: dataset_new/train/no_yawn/1948.jpg  \n",
            "  inflating: dataset_new/train/no_yawn/1949.jpg  \n",
            "  inflating: dataset_new/train/no_yawn/1963.jpg  \n",
            "  inflating: dataset_new/train/no_yawn/1964.jpg  \n",
            "  inflating: dataset_new/train/no_yawn/1966.jpg  \n",
            "  inflating: dataset_new/train/no_yawn/1967.jpg  \n",
            "  inflating: dataset_new/train/no_yawn/1981.jpg  \n",
            "  inflating: dataset_new/train/no_yawn/1982.jpg  \n",
            "  inflating: dataset_new/train/no_yawn/1986.jpg  \n",
            "  inflating: dataset_new/train/no_yawn/1987.jpg  \n",
            "  inflating: dataset_new/train/no_yawn/1988.jpg  \n",
            "  inflating: dataset_new/train/no_yawn/1989.jpg  \n",
            "  inflating: dataset_new/train/no_yawn/1990.jpg  \n",
            "  inflating: dataset_new/train/no_yawn/2.jpg  \n",
            "  inflating: dataset_new/train/no_yawn/2001.jpg  \n",
            "  inflating: dataset_new/train/no_yawn/2008.jpg  \n",
            "  inflating: dataset_new/train/no_yawn/2009.jpg  \n",
            "  inflating: dataset_new/train/no_yawn/201.jpg  \n",
            "  inflating: dataset_new/train/no_yawn/2010.jpg  \n",
            "  inflating: dataset_new/train/no_yawn/2011.jpg  \n",
            "  inflating: dataset_new/train/no_yawn/2012.jpg  \n",
            "  inflating: dataset_new/train/no_yawn/2013.jpg  \n",
            "  inflating: dataset_new/train/no_yawn/2014.jpg  \n",
            "  inflating: dataset_new/train/no_yawn/202.jpg  \n",
            "  inflating: dataset_new/train/no_yawn/2031.jpg  \n",
            "  inflating: dataset_new/train/no_yawn/2032.jpg  \n",
            "  inflating: dataset_new/train/no_yawn/2033.jpg  \n",
            "  inflating: dataset_new/train/no_yawn/2034.jpg  \n",
            "  inflating: dataset_new/train/no_yawn/2056.jpg  \n",
            "  inflating: dataset_new/train/no_yawn/2057.jpg  \n",
            "  inflating: dataset_new/train/no_yawn/2058.jpg  \n",
            "  inflating: dataset_new/train/no_yawn/206.jpg  \n",
            "  inflating: dataset_new/train/no_yawn/2062.jpg  \n",
            "  inflating: dataset_new/train/no_yawn/2066.jpg  \n",
            "  inflating: dataset_new/train/no_yawn/2067.jpg  \n",
            "  inflating: dataset_new/train/no_yawn/2068.jpg  \n",
            "  inflating: dataset_new/train/no_yawn/2069.jpg  \n",
            "  inflating: dataset_new/train/no_yawn/2070.jpg  \n",
            "  inflating: dataset_new/train/no_yawn/2071.jpg  \n",
            "  inflating: dataset_new/train/no_yawn/2074.jpg  \n",
            "  inflating: dataset_new/train/no_yawn/208.jpg  \n",
            "  inflating: dataset_new/train/no_yawn/2086.jpg  \n",
            "  inflating: dataset_new/train/no_yawn/2087.jpg  \n",
            "  inflating: dataset_new/train/no_yawn/209.jpg  \n",
            "  inflating: dataset_new/train/no_yawn/2091.jpg  \n",
            "  inflating: dataset_new/train/no_yawn/2092.jpg  \n",
            "  inflating: dataset_new/train/no_yawn/2108.jpg  \n",
            "  inflating: dataset_new/train/no_yawn/2109.jpg  \n",
            "  inflating: dataset_new/train/no_yawn/212.jpg  \n",
            "  inflating: dataset_new/train/no_yawn/2121.jpg  \n",
            "  inflating: dataset_new/train/no_yawn/2124.jpg  \n",
            "  inflating: dataset_new/train/no_yawn/2126.jpg  \n",
            "  inflating: dataset_new/train/no_yawn/2129.jpg  \n",
            "  inflating: dataset_new/train/no_yawn/213.jpg  \n",
            "  inflating: dataset_new/train/no_yawn/2130.jpg  \n",
            "  inflating: dataset_new/train/no_yawn/2131.jpg  \n",
            "  inflating: dataset_new/train/no_yawn/2132.jpg  \n",
            "  inflating: dataset_new/train/no_yawn/2133.jpg  \n",
            "  inflating: dataset_new/train/no_yawn/2134.jpg  \n",
            "  inflating: dataset_new/train/no_yawn/2136.jpg  \n",
            "  inflating: dataset_new/train/no_yawn/2151.jpg  \n",
            "  inflating: dataset_new/train/no_yawn/2152.jpg  \n",
            "  inflating: dataset_new/train/no_yawn/2153.jpg  \n",
            "  inflating: dataset_new/train/no_yawn/2154.jpg  \n",
            "  inflating: dataset_new/train/no_yawn/2156.jpg  \n",
            "  inflating: dataset_new/train/no_yawn/2157.jpg  \n",
            "  inflating: dataset_new/train/no_yawn/2158.jpg  \n",
            "  inflating: dataset_new/train/no_yawn/2159.jpg  \n",
            "  inflating: dataset_new/train/no_yawn/2160.jpg  \n",
            "  inflating: dataset_new/train/no_yawn/217.jpg  \n",
            "  inflating: dataset_new/train/no_yawn/218.jpg  \n",
            "  inflating: dataset_new/train/no_yawn/219.jpg  \n",
            "  inflating: dataset_new/train/no_yawn/2196.jpg  \n",
            "  inflating: dataset_new/train/no_yawn/2198.jpg  \n",
            "  inflating: dataset_new/train/no_yawn/2199.jpg  \n",
            "  inflating: dataset_new/train/no_yawn/2200.jpg  \n",
            "  inflating: dataset_new/train/no_yawn/2201.jpg  \n",
            "  inflating: dataset_new/train/no_yawn/2202.jpg  \n",
            "  inflating: dataset_new/train/no_yawn/221.jpg  \n",
            "  inflating: dataset_new/train/no_yawn/2216.jpg  \n",
            "  inflating: dataset_new/train/no_yawn/2217.jpg  \n",
            "  inflating: dataset_new/train/no_yawn/2220.jpg  \n",
            "  inflating: dataset_new/train/no_yawn/2221.jpg  \n",
            "  inflating: dataset_new/train/no_yawn/2222.jpg  \n",
            "  inflating: dataset_new/train/no_yawn/2223.jpg  \n",
            "  inflating: dataset_new/train/no_yawn/2224.jpg  \n",
            "  inflating: dataset_new/train/no_yawn/2228.jpg  \n",
            "  inflating: dataset_new/train/no_yawn/2229.jpg  \n",
            "  inflating: dataset_new/train/no_yawn/223.jpg  \n",
            "  inflating: dataset_new/train/no_yawn/2230.jpg  \n",
            "  inflating: dataset_new/train/no_yawn/224.jpg  \n",
            "  inflating: dataset_new/train/no_yawn/2241.jpg  \n",
            "  inflating: dataset_new/train/no_yawn/2244.jpg  \n",
            "  inflating: dataset_new/train/no_yawn/2246.jpg  \n",
            "  inflating: dataset_new/train/no_yawn/2247.jpg  \n",
            "  inflating: dataset_new/train/no_yawn/225.jpg  \n",
            "  inflating: dataset_new/train/no_yawn/2250.jpg  \n",
            "  inflating: dataset_new/train/no_yawn/2251.jpg  \n",
            "  inflating: dataset_new/train/no_yawn/2252.jpg  \n",
            "  inflating: dataset_new/train/no_yawn/2253.jpg  \n",
            "  inflating: dataset_new/train/no_yawn/2254.jpg  \n",
            "  inflating: dataset_new/train/no_yawn/2256.jpg  \n",
            "  inflating: dataset_new/train/no_yawn/2259.jpg  \n",
            "  inflating: dataset_new/train/no_yawn/226.jpg  \n",
            "  inflating: dataset_new/train/no_yawn/2282.jpg  \n",
            "  inflating: dataset_new/train/no_yawn/2283.jpg  \n",
            "  inflating: dataset_new/train/no_yawn/2284.jpg  \n",
            "  inflating: dataset_new/train/no_yawn/2286.jpg  \n",
            "  inflating: dataset_new/train/no_yawn/2287.jpg  \n",
            "  inflating: dataset_new/train/no_yawn/2288.jpg  \n",
            "  inflating: dataset_new/train/no_yawn/229.jpg  \n",
            "  inflating: dataset_new/train/no_yawn/2290.jpg  \n",
            "  inflating: dataset_new/train/no_yawn/2296.jpg  \n",
            "  inflating: dataset_new/train/no_yawn/2297.jpg  \n",
            "  inflating: dataset_new/train/no_yawn/2298.jpg  \n",
            "  inflating: dataset_new/train/no_yawn/2299.jpg  \n",
            "  inflating: dataset_new/train/no_yawn/2300.jpg  \n",
            "  inflating: dataset_new/train/no_yawn/231.jpg  \n",
            "  inflating: dataset_new/train/no_yawn/2312.jpg  \n",
            "  inflating: dataset_new/train/no_yawn/2313.jpg  \n",
            "  inflating: dataset_new/train/no_yawn/2327.jpg  \n",
            "  inflating: dataset_new/train/no_yawn/2330.jpg  \n",
            "  inflating: dataset_new/train/no_yawn/234.jpg  \n",
            "  inflating: dataset_new/train/no_yawn/2341.jpg  \n",
            "  inflating: dataset_new/train/no_yawn/2342.jpg  \n",
            "  inflating: dataset_new/train/no_yawn/2343.jpg  \n",
            "  inflating: dataset_new/train/no_yawn/2344.jpg  \n",
            "  inflating: dataset_new/train/no_yawn/2349.jpg  \n",
            "  inflating: dataset_new/train/no_yawn/235.jpg  \n",
            "  inflating: dataset_new/train/no_yawn/2350.jpg  \n",
            "  inflating: dataset_new/train/no_yawn/2356.jpg  \n",
            "  inflating: dataset_new/train/no_yawn/2357.jpg  \n",
            "  inflating: dataset_new/train/no_yawn/2358.jpg  \n",
            "  inflating: dataset_new/train/no_yawn/2371.jpg  \n",
            "  inflating: dataset_new/train/no_yawn/2372.jpg  \n",
            "  inflating: dataset_new/train/no_yawn/2373.jpg  \n",
            "  inflating: dataset_new/train/no_yawn/2374.jpg  \n",
            "  inflating: dataset_new/train/no_yawn/238.jpg  \n",
            "  inflating: dataset_new/train/no_yawn/2396.jpg  \n",
            "  inflating: dataset_new/train/no_yawn/2399.jpg  \n",
            "  inflating: dataset_new/train/no_yawn/2400.jpg  \n",
            "  inflating: dataset_new/train/no_yawn/2403.jpg  \n",
            "  inflating: dataset_new/train/no_yawn/2404.jpg  \n",
            "  inflating: dataset_new/train/no_yawn/2407.jpg  \n",
            "  inflating: dataset_new/train/no_yawn/2409.jpg  \n",
            "  inflating: dataset_new/train/no_yawn/2410.jpg  \n",
            "  inflating: dataset_new/train/no_yawn/2426.jpg  \n",
            "  inflating: dataset_new/train/no_yawn/2427.jpg  \n",
            "  inflating: dataset_new/train/no_yawn/2428.jpg  \n",
            "  inflating: dataset_new/train/no_yawn/2429.jpg  \n",
            "  inflating: dataset_new/train/no_yawn/2430.jpg  \n",
            "  inflating: dataset_new/train/no_yawn/2432.jpg  \n",
            "  inflating: dataset_new/train/no_yawn/2433.jpg  \n",
            "  inflating: dataset_new/train/no_yawn/2434.jpg  \n",
            "  inflating: dataset_new/train/no_yawn/2440.jpg  \n",
            "  inflating: dataset_new/train/no_yawn/2461.jpg  \n",
            "  inflating: dataset_new/train/no_yawn/2462.jpg  \n",
            "  inflating: dataset_new/train/no_yawn/2463.jpg  \n",
            "  inflating: dataset_new/train/no_yawn/2464.jpg  \n",
            "  inflating: dataset_new/train/no_yawn/2466.jpg  \n",
            "  inflating: dataset_new/train/no_yawn/2467.jpg  \n",
            "  inflating: dataset_new/train/no_yawn/2470.jpg  \n",
            "  inflating: dataset_new/train/no_yawn/2471.jpg  \n",
            "  inflating: dataset_new/train/no_yawn/2474.jpg  \n",
            "  inflating: dataset_new/train/no_yawn/2476.jpg  \n",
            "  inflating: dataset_new/train/no_yawn/2477.jpg  \n",
            "  inflating: dataset_new/train/no_yawn/2478.jpg  \n",
            "  inflating: dataset_new/train/no_yawn/2479.jpg  \n",
            "  inflating: dataset_new/train/no_yawn/2483.jpg  \n",
            "  inflating: dataset_new/train/no_yawn/2484.jpg  \n",
            "  inflating: dataset_new/train/no_yawn/2496.jpg  \n",
            "  inflating: dataset_new/train/no_yawn/2499.jpg  \n",
            "  inflating: dataset_new/train/no_yawn/25.jpg  \n",
            "  inflating: dataset_new/train/no_yawn/2500.jpg  \n",
            "  inflating: dataset_new/train/no_yawn/2513.jpg  \n",
            "  inflating: dataset_new/train/no_yawn/2516.jpg  \n",
            "  inflating: dataset_new/train/no_yawn/2517.jpg  \n",
            "  inflating: dataset_new/train/no_yawn/2518.jpg  \n",
            "  inflating: dataset_new/train/no_yawn/2519.jpg  \n",
            "  inflating: dataset_new/train/no_yawn/253.jpg  \n",
            "  inflating: dataset_new/train/no_yawn/2532.jpg  \n",
            "  inflating: dataset_new/train/no_yawn/2534.jpg  \n",
            "  inflating: dataset_new/train/no_yawn/2536.jpg  \n",
            "  inflating: dataset_new/train/no_yawn/2537.jpg  \n",
            "  inflating: dataset_new/train/no_yawn/2538.jpg  \n",
            "  inflating: dataset_new/train/no_yawn/2539.jpg  \n",
            "  inflating: dataset_new/train/no_yawn/254.jpg  \n",
            "  inflating: dataset_new/train/no_yawn/2540.jpg  \n",
            "  inflating: dataset_new/train/no_yawn/2547.jpg  \n",
            "  inflating: dataset_new/train/no_yawn/2549.jpg  \n",
            "  inflating: dataset_new/train/no_yawn/255.jpg  \n",
            "  inflating: dataset_new/train/no_yawn/2550.jpg  \n",
            "  inflating: dataset_new/train/no_yawn/256.jpg  \n",
            "  inflating: dataset_new/train/no_yawn/257.jpg  \n",
            "  inflating: dataset_new/train/no_yawn/2571.jpg  \n",
            "  inflating: dataset_new/train/no_yawn/2572.jpg  \n",
            "  inflating: dataset_new/train/no_yawn/2573.jpg  \n",
            "  inflating: dataset_new/train/no_yawn/2574.jpg  \n",
            "  inflating: dataset_new/train/no_yawn/2580.jpg  \n",
            "  inflating: dataset_new/train/no_yawn/2581.jpg  \n",
            "  inflating: dataset_new/train/no_yawn/2582.jpg  \n",
            "  inflating: dataset_new/train/no_yawn/2583.jpg  \n",
            "  inflating: dataset_new/train/no_yawn/2584.jpg  \n",
            "  inflating: dataset_new/train/no_yawn/2586.jpg  \n",
            "  inflating: dataset_new/train/no_yawn/2588.jpg  \n",
            "  inflating: dataset_new/train/no_yawn/2589.jpg  \n",
            "  inflating: dataset_new/train/no_yawn/259.jpg  \n",
            "  inflating: dataset_new/train/no_yawn/2603.jpg  \n",
            "  inflating: dataset_new/train/no_yawn/2604.jpg  \n",
            "  inflating: dataset_new/train/no_yawn/2606.jpg  \n",
            "  inflating: dataset_new/train/no_yawn/2609.jpg  \n",
            "  inflating: dataset_new/train/no_yawn/2610.jpg  \n",
            "  inflating: dataset_new/train/no_yawn/2622.jpg  \n",
            "  inflating: dataset_new/train/no_yawn/2623.jpg  \n",
            "  inflating: dataset_new/train/no_yawn/27.jpg  \n",
            "  inflating: dataset_new/train/no_yawn/271.jpg  \n",
            "  inflating: dataset_new/train/no_yawn/277.jpg  \n",
            "  inflating: dataset_new/train/no_yawn/278.jpg  \n",
            "  inflating: dataset_new/train/no_yawn/279.jpg  \n",
            "  inflating: dataset_new/train/no_yawn/28.jpg  \n",
            "  inflating: dataset_new/train/no_yawn/292.jpg  \n",
            "  inflating: dataset_new/train/no_yawn/293.jpg  \n",
            "  inflating: dataset_new/train/no_yawn/295.jpg  \n",
            "  inflating: dataset_new/train/no_yawn/299.jpg  \n",
            "  inflating: dataset_new/train/no_yawn/3.jpg  \n",
            "  inflating: dataset_new/train/no_yawn/312.jpg  \n",
            "  inflating: dataset_new/train/no_yawn/313.jpg  \n",
            "  inflating: dataset_new/train/no_yawn/314.jpg  \n",
            "  inflating: dataset_new/train/no_yawn/315.jpg  \n",
            "  inflating: dataset_new/train/no_yawn/316.jpg  \n",
            "  inflating: dataset_new/train/no_yawn/317.jpg  \n",
            "  inflating: dataset_new/train/no_yawn/318.jpg  \n",
            "  inflating: dataset_new/train/no_yawn/332.jpg  \n",
            "  inflating: dataset_new/train/no_yawn/333.jpg  \n",
            "  inflating: dataset_new/train/no_yawn/336.jpg  \n",
            "  inflating: dataset_new/train/no_yawn/371.jpg  \n",
            "  inflating: dataset_new/train/no_yawn/372.jpg  \n",
            "  inflating: dataset_new/train/no_yawn/373.jpg  \n",
            "  inflating: dataset_new/train/no_yawn/375.jpg  \n",
            "  inflating: dataset_new/train/no_yawn/378.jpg  \n",
            "  inflating: dataset_new/train/no_yawn/379.jpg  \n",
            "  inflating: dataset_new/train/no_yawn/380.jpg  \n",
            "  inflating: dataset_new/train/no_yawn/4.jpg  \n",
            "  inflating: dataset_new/train/no_yawn/411.jpg  \n",
            "  inflating: dataset_new/train/no_yawn/412.jpg  \n",
            "  inflating: dataset_new/train/no_yawn/416.jpg  \n",
            "  inflating: dataset_new/train/no_yawn/417.jpg  \n",
            "  inflating: dataset_new/train/no_yawn/420.jpg  \n",
            "  inflating: dataset_new/train/no_yawn/431.jpg  \n",
            "  inflating: dataset_new/train/no_yawn/432.jpg  \n",
            "  inflating: dataset_new/train/no_yawn/433.jpg  \n",
            "  inflating: dataset_new/train/no_yawn/435.jpg  \n",
            "  inflating: dataset_new/train/no_yawn/436.jpg  \n",
            "  inflating: dataset_new/train/no_yawn/437.jpg  \n",
            "  inflating: dataset_new/train/no_yawn/439.jpg  \n",
            "  inflating: dataset_new/train/no_yawn/443.jpg  \n",
            "  inflating: dataset_new/train/no_yawn/445.jpg  \n",
            "  inflating: dataset_new/train/no_yawn/446.jpg  \n",
            "  inflating: dataset_new/train/no_yawn/447.jpg  \n",
            "  inflating: dataset_new/train/no_yawn/448.jpg  \n",
            "  inflating: dataset_new/train/no_yawn/449.jpg  \n",
            "  inflating: dataset_new/train/no_yawn/450.jpg  \n",
            "  inflating: dataset_new/train/no_yawn/466.jpg  \n",
            "  inflating: dataset_new/train/no_yawn/467.jpg  \n",
            "  inflating: dataset_new/train/no_yawn/469.jpg  \n",
            "  inflating: dataset_new/train/no_yawn/481.jpg  \n",
            "  inflating: dataset_new/train/no_yawn/482.jpg  \n",
            "  inflating: dataset_new/train/no_yawn/483.jpg  \n",
            "  inflating: dataset_new/train/no_yawn/488.jpg  \n",
            "  inflating: dataset_new/train/no_yawn/490.jpg  \n",
            "  inflating: dataset_new/train/no_yawn/5.jpg  \n",
            "  inflating: dataset_new/train/no_yawn/501.jpg  \n",
            "  inflating: dataset_new/train/no_yawn/502.jpg  \n",
            "  inflating: dataset_new/train/no_yawn/505.jpg  \n",
            "  inflating: dataset_new/train/no_yawn/507.jpg  \n",
            "  inflating: dataset_new/train/no_yawn/509.jpg  \n",
            "  inflating: dataset_new/train/no_yawn/51.jpg  \n",
            "  inflating: dataset_new/train/no_yawn/521.jpg  \n",
            "  inflating: dataset_new/train/no_yawn/522.jpg  \n",
            "  inflating: dataset_new/train/no_yawn/525.jpg  \n",
            "  inflating: dataset_new/train/no_yawn/528.jpg  \n",
            "  inflating: dataset_new/train/no_yawn/529.jpg  \n",
            "  inflating: dataset_new/train/no_yawn/54.jpg  \n",
            "  inflating: dataset_new/train/no_yawn/542.jpg  \n",
            "  inflating: dataset_new/train/no_yawn/543.jpg  \n",
            "  inflating: dataset_new/train/no_yawn/546.jpg  \n",
            "  inflating: dataset_new/train/no_yawn/547.jpg  \n",
            "  inflating: dataset_new/train/no_yawn/552.jpg  \n",
            "  inflating: dataset_new/train/no_yawn/557.jpg  \n",
            "  inflating: dataset_new/train/no_yawn/558.jpg  \n",
            "  inflating: dataset_new/train/no_yawn/56.jpg  \n",
            "  inflating: dataset_new/train/no_yawn/560.jpg  \n",
            "  inflating: dataset_new/train/no_yawn/571.jpg  \n",
            "  inflating: dataset_new/train/no_yawn/572.jpg  \n",
            "  inflating: dataset_new/train/no_yawn/573.jpg  \n",
            "  inflating: dataset_new/train/no_yawn/578.jpg  \n",
            "  inflating: dataset_new/train/no_yawn/579.jpg  \n",
            "  inflating: dataset_new/train/no_yawn/58.jpg  \n",
            "  inflating: dataset_new/train/no_yawn/580.jpg  \n",
            "  inflating: dataset_new/train/no_yawn/6.jpg  \n",
            "  inflating: dataset_new/train/no_yawn/601.jpg  \n",
            "  inflating: dataset_new/train/no_yawn/602.jpg  \n",
            "  inflating: dataset_new/train/no_yawn/606.jpg  \n",
            "  inflating: dataset_new/train/no_yawn/607.jpg  \n",
            "  inflating: dataset_new/train/no_yawn/612.jpg  \n",
            "  inflating: dataset_new/train/no_yawn/613.jpg  \n",
            "  inflating: dataset_new/train/no_yawn/615.jpg  \n",
            "  inflating: dataset_new/train/no_yawn/617.jpg  \n",
            "  inflating: dataset_new/train/no_yawn/618.jpg  \n",
            "  inflating: dataset_new/train/no_yawn/619.jpg  \n",
            "  inflating: dataset_new/train/no_yawn/623.jpg  \n",
            "  inflating: dataset_new/train/no_yawn/635.jpg  \n",
            "  inflating: dataset_new/train/no_yawn/638.jpg  \n",
            "  inflating: dataset_new/train/no_yawn/639.jpg  \n",
            "  inflating: dataset_new/train/no_yawn/640.jpg  \n",
            "  inflating: dataset_new/train/no_yawn/641.jpg  \n",
            "  inflating: dataset_new/train/no_yawn/645.jpg  \n",
            "  inflating: dataset_new/train/no_yawn/647.jpg  \n",
            "  inflating: dataset_new/train/no_yawn/648.jpg  \n",
            "  inflating: dataset_new/train/no_yawn/652.jpg  \n",
            "  inflating: dataset_new/train/no_yawn/653.jpg  \n",
            "  inflating: dataset_new/train/no_yawn/657.jpg  \n",
            "  inflating: dataset_new/train/no_yawn/658.jpg  \n",
            "  inflating: dataset_new/train/no_yawn/659.jpg  \n",
            "  inflating: dataset_new/train/no_yawn/660.jpg  \n",
            "  inflating: dataset_new/train/no_yawn/681.jpg  \n",
            "  inflating: dataset_new/train/no_yawn/682.jpg  \n",
            "  inflating: dataset_new/train/no_yawn/683.jpg  \n",
            "  inflating: dataset_new/train/no_yawn/689.jpg  \n",
            "  inflating: dataset_new/train/no_yawn/7.jpg  \n",
            "  inflating: dataset_new/train/no_yawn/701.jpg  \n",
            "  inflating: dataset_new/train/no_yawn/703.jpg  \n",
            "  inflating: dataset_new/train/no_yawn/72.jpg  \n",
            "  inflating: dataset_new/train/no_yawn/725.jpg  \n",
            "  inflating: dataset_new/train/no_yawn/726.jpg  \n",
            "  inflating: dataset_new/train/no_yawn/729.jpg  \n",
            "  inflating: dataset_new/train/no_yawn/73.jpg  \n",
            "  inflating: dataset_new/train/no_yawn/733.jpg  \n",
            "  inflating: dataset_new/train/no_yawn/758.jpg  \n",
            "  inflating: dataset_new/train/no_yawn/76.jpg  \n",
            "  inflating: dataset_new/train/no_yawn/760.jpg  \n",
            "  inflating: dataset_new/train/no_yawn/77.jpg  \n",
            "  inflating: dataset_new/train/no_yawn/773.jpg  \n",
            "  inflating: dataset_new/train/no_yawn/775.jpg  \n",
            "  inflating: dataset_new/train/no_yawn/778.jpg  \n",
            "  inflating: dataset_new/train/no_yawn/78.jpg  \n",
            "  inflating: dataset_new/train/no_yawn/780.jpg  \n",
            "  inflating: dataset_new/train/no_yawn/781.jpg  \n",
            "  inflating: dataset_new/train/no_yawn/782.jpg  \n",
            "  inflating: dataset_new/train/no_yawn/786.jpg  \n",
            "  inflating: dataset_new/train/no_yawn/787.jpg  \n",
            "  inflating: dataset_new/train/no_yawn/788.jpg  \n",
            "  inflating: dataset_new/train/no_yawn/79.jpg  \n",
            "  inflating: dataset_new/train/no_yawn/791.jpg  \n",
            "  inflating: dataset_new/train/no_yawn/792.jpg  \n",
            "  inflating: dataset_new/train/no_yawn/793.jpg  \n",
            "  inflating: dataset_new/train/no_yawn/8.jpg  \n",
            "  inflating: dataset_new/train/no_yawn/828.jpg  \n",
            "  inflating: dataset_new/train/no_yawn/829.jpg  \n",
            "  inflating: dataset_new/train/no_yawn/831.jpg  \n",
            "  inflating: dataset_new/train/no_yawn/833.jpg  \n",
            "  inflating: dataset_new/train/no_yawn/837.jpg  \n",
            "  inflating: dataset_new/train/no_yawn/851.jpg  \n",
            "  inflating: dataset_new/train/no_yawn/852.jpg  \n",
            "  inflating: dataset_new/train/no_yawn/853.jpg  \n",
            "  inflating: dataset_new/train/no_yawn/854.jpg  \n",
            "  inflating: dataset_new/train/no_yawn/867.jpg  \n",
            "  inflating: dataset_new/train/no_yawn/868.jpg  \n",
            "  inflating: dataset_new/train/no_yawn/884.jpg  \n",
            "  inflating: dataset_new/train/no_yawn/897.jpg  \n",
            "  inflating: dataset_new/train/no_yawn/899.jpg  \n",
            "  inflating: dataset_new/train/no_yawn/9.jpg  \n",
            "  inflating: dataset_new/train/no_yawn/911.jpg  \n",
            "  inflating: dataset_new/train/no_yawn/914.jpg  \n",
            "  inflating: dataset_new/train/no_yawn/918.jpg  \n",
            "  inflating: dataset_new/train/no_yawn/919.jpg  \n",
            "  inflating: dataset_new/train/no_yawn/93.jpg  \n",
            "  inflating: dataset_new/train/no_yawn/931.jpg  \n",
            "  inflating: dataset_new/train/no_yawn/932.jpg  \n",
            "  inflating: dataset_new/train/no_yawn/933.jpg  \n",
            "  inflating: dataset_new/train/no_yawn/94.jpg  \n",
            "  inflating: dataset_new/train/no_yawn/957.jpg  \n",
            "  inflating: dataset_new/train/no_yawn/962.jpg  \n",
            "  inflating: dataset_new/train/no_yawn/964.jpg  \n",
            "  inflating: dataset_new/train/no_yawn/98.jpg  \n",
            "  inflating: dataset_new/train/no_yawn/980.jpg  \n",
            "  inflating: dataset_new/train/no_yawn/981.jpg  \n",
            "  inflating: dataset_new/train/no_yawn/982.jpg  \n",
            "  inflating: dataset_new/train/no_yawn/983.jpg  \n",
            "  inflating: dataset_new/train/no_yawn/987.jpg  \n",
            "  inflating: dataset_new/train/no_yawn/988.jpg  \n",
            "  inflating: dataset_new/train/no_yawn/99.jpg  \n",
            "  inflating: dataset_new/train/no_yawn/991.jpg  \n",
            "  inflating: dataset_new/train/no_yawn/992.jpg  \n",
            "  inflating: dataset_new/train/no_yawn/993.jpg  \n",
            "  inflating: dataset_new/train/no_yawn/994.jpg  \n",
            "  inflating: dataset_new/train/no_yawn/997.jpg  \n",
            "  inflating: dataset_new/train/no_yawn/998.jpg  \n",
            "   creating: dataset_new/train/yawn/\n",
            "  inflating: dataset_new/train/yawn/1.jpg  \n",
            "  inflating: dataset_new/train/yawn/10.jpg  \n",
            "  inflating: dataset_new/train/yawn/101.jpg  \n",
            "  inflating: dataset_new/train/yawn/103.jpg  \n",
            "  inflating: dataset_new/train/yawn/104.jpg  \n",
            "  inflating: dataset_new/train/yawn/106.jpg  \n",
            "  inflating: dataset_new/train/yawn/107.jpg  \n",
            "  inflating: dataset_new/train/yawn/108.jpg  \n",
            "  inflating: dataset_new/train/yawn/109.jpg  \n",
            "  inflating: dataset_new/train/yawn/11.jpg  \n",
            "  inflating: dataset_new/train/yawn/110.jpg  \n",
            "  inflating: dataset_new/train/yawn/112.jpg  \n",
            "  inflating: dataset_new/train/yawn/113.jpg  \n",
            "  inflating: dataset_new/train/yawn/114.jpg  \n",
            "  inflating: dataset_new/train/yawn/115.jpg  \n",
            "  inflating: dataset_new/train/yawn/117.jpg  \n",
            "  inflating: dataset_new/train/yawn/118.jpg  \n",
            "  inflating: dataset_new/train/yawn/12.jpg  \n",
            "  inflating: dataset_new/train/yawn/120.jpg  \n",
            "  inflating: dataset_new/train/yawn/123.jpg  \n",
            "  inflating: dataset_new/train/yawn/124.jpg  \n",
            "  inflating: dataset_new/train/yawn/125.jpg  \n",
            "  inflating: dataset_new/train/yawn/126.jpg  \n",
            "  inflating: dataset_new/train/yawn/128.jpg  \n",
            "  inflating: dataset_new/train/yawn/129.jpg  \n",
            "  inflating: dataset_new/train/yawn/13.jpg  \n",
            "  inflating: dataset_new/train/yawn/130.jpg  \n",
            "  inflating: dataset_new/train/yawn/132.jpg  \n",
            "  inflating: dataset_new/train/yawn/133.jpg  \n",
            "  inflating: dataset_new/train/yawn/135.jpg  \n",
            "  inflating: dataset_new/train/yawn/136.jpg  \n",
            "  inflating: dataset_new/train/yawn/137.jpg  \n",
            "  inflating: dataset_new/train/yawn/138.jpg  \n",
            "  inflating: dataset_new/train/yawn/139.jpg  \n",
            "  inflating: dataset_new/train/yawn/141.jpg  \n",
            "  inflating: dataset_new/train/yawn/142.jpg  \n",
            "  inflating: dataset_new/train/yawn/143.jpg  \n",
            "  inflating: dataset_new/train/yawn/144.jpg  \n",
            "  inflating: dataset_new/train/yawn/146.jpg  \n",
            "  inflating: dataset_new/train/yawn/147.jpg  \n",
            "  inflating: dataset_new/train/yawn/149.jpg  \n",
            "  inflating: dataset_new/train/yawn/15.jpg  \n",
            "  inflating: dataset_new/train/yawn/150.jpg  \n",
            "  inflating: dataset_new/train/yawn/151.jpg  \n",
            "  inflating: dataset_new/train/yawn/152.jpg  \n",
            "  inflating: dataset_new/train/yawn/153.jpg  \n",
            "  inflating: dataset_new/train/yawn/154.jpg  \n",
            "  inflating: dataset_new/train/yawn/155.jpg  \n",
            "  inflating: dataset_new/train/yawn/156.jpg  \n",
            "  inflating: dataset_new/train/yawn/157.jpg  \n",
            "  inflating: dataset_new/train/yawn/158.jpg  \n",
            "  inflating: dataset_new/train/yawn/159.jpg  \n",
            "  inflating: dataset_new/train/yawn/16.jpg  \n",
            "  inflating: dataset_new/train/yawn/161.jpg  \n",
            "  inflating: dataset_new/train/yawn/162.jpg  \n",
            "  inflating: dataset_new/train/yawn/163.jpg  \n",
            "  inflating: dataset_new/train/yawn/164.jpg  \n",
            "  inflating: dataset_new/train/yawn/165.jpg  \n",
            "  inflating: dataset_new/train/yawn/166.jpg  \n",
            "  inflating: dataset_new/train/yawn/167.jpg  \n",
            "  inflating: dataset_new/train/yawn/17.jpg  \n",
            "  inflating: dataset_new/train/yawn/170.jpg  \n",
            "  inflating: dataset_new/train/yawn/171.jpg  \n",
            "  inflating: dataset_new/train/yawn/172.jpg  \n",
            "  inflating: dataset_new/train/yawn/173.jpg  \n",
            "  inflating: dataset_new/train/yawn/174.jpg  \n",
            "  inflating: dataset_new/train/yawn/175.jpg  \n",
            "  inflating: dataset_new/train/yawn/176.jpg  \n",
            "  inflating: dataset_new/train/yawn/178.jpg  \n",
            "  inflating: dataset_new/train/yawn/179.jpg  \n",
            "  inflating: dataset_new/train/yawn/18.jpg  \n",
            "  inflating: dataset_new/train/yawn/180.jpg  \n",
            "  inflating: dataset_new/train/yawn/181.jpg  \n",
            "  inflating: dataset_new/train/yawn/182.jpg  \n",
            "  inflating: dataset_new/train/yawn/183.jpg  \n",
            "  inflating: dataset_new/train/yawn/184.jpg  \n",
            "  inflating: dataset_new/train/yawn/185.jpg  \n",
            "  inflating: dataset_new/train/yawn/186.jpg  \n",
            "  inflating: dataset_new/train/yawn/187.jpg  \n",
            "  inflating: dataset_new/train/yawn/19.jpg  \n",
            "  inflating: dataset_new/train/yawn/190.jpg  \n",
            "  inflating: dataset_new/train/yawn/191.jpg  \n",
            "  inflating: dataset_new/train/yawn/192.jpg  \n",
            "  inflating: dataset_new/train/yawn/193.jpg  \n",
            "  inflating: dataset_new/train/yawn/194.jpg  \n",
            "  inflating: dataset_new/train/yawn/195.jpg  \n",
            "  inflating: dataset_new/train/yawn/196.jpg  \n",
            "  inflating: dataset_new/train/yawn/197.jpg  \n",
            "  inflating: dataset_new/train/yawn/198.jpg  \n",
            "  inflating: dataset_new/train/yawn/199.jpg  \n",
            "  inflating: dataset_new/train/yawn/2.jpg  \n",
            "  inflating: dataset_new/train/yawn/20.jpg  \n",
            "  inflating: dataset_new/train/yawn/200.jpg  \n",
            "  inflating: dataset_new/train/yawn/201.jpg  \n",
            "  inflating: dataset_new/train/yawn/202.jpg  \n",
            "  inflating: dataset_new/train/yawn/203.jpg  \n",
            "  inflating: dataset_new/train/yawn/204.jpg  \n",
            "  inflating: dataset_new/train/yawn/207.jpg  \n",
            "  inflating: dataset_new/train/yawn/208.jpg  \n",
            "  inflating: dataset_new/train/yawn/209.jpg  \n",
            "  inflating: dataset_new/train/yawn/21.jpg  \n",
            "  inflating: dataset_new/train/yawn/210.jpg  \n",
            "  inflating: dataset_new/train/yawn/211.jpg  \n",
            "  inflating: dataset_new/train/yawn/212.jpg  \n",
            "  inflating: dataset_new/train/yawn/213.jpg  \n",
            "  inflating: dataset_new/train/yawn/215.jpg  \n",
            "  inflating: dataset_new/train/yawn/216.jpg  \n",
            "  inflating: dataset_new/train/yawn/217.jpg  \n",
            "  inflating: dataset_new/train/yawn/218.jpg  \n",
            "  inflating: dataset_new/train/yawn/219.jpg  \n",
            "  inflating: dataset_new/train/yawn/22.jpg  \n",
            "  inflating: dataset_new/train/yawn/220.jpg  \n",
            "  inflating: dataset_new/train/yawn/221.jpg  \n",
            "  inflating: dataset_new/train/yawn/222.jpg  \n",
            "  inflating: dataset_new/train/yawn/223.jpg  \n",
            "  inflating: dataset_new/train/yawn/224.jpg  \n",
            "  inflating: dataset_new/train/yawn/225.jpg  \n",
            "  inflating: dataset_new/train/yawn/226.jpg  \n",
            "  inflating: dataset_new/train/yawn/227.jpg  \n",
            "  inflating: dataset_new/train/yawn/228.jpg  \n",
            "  inflating: dataset_new/train/yawn/23.jpg  \n",
            "  inflating: dataset_new/train/yawn/230.jpg  \n",
            "  inflating: dataset_new/train/yawn/231.jpg  \n",
            "  inflating: dataset_new/train/yawn/232.jpg  \n",
            "  inflating: dataset_new/train/yawn/236.jpg  \n",
            "  inflating: dataset_new/train/yawn/237.jpg  \n",
            "  inflating: dataset_new/train/yawn/238.jpg  \n",
            "  inflating: dataset_new/train/yawn/24.jpg  \n",
            "  inflating: dataset_new/train/yawn/241.jpg  \n",
            "  inflating: dataset_new/train/yawn/242.jpg  \n",
            "  inflating: dataset_new/train/yawn/243.jpg  \n",
            "  inflating: dataset_new/train/yawn/244.jpg  \n",
            "  inflating: dataset_new/train/yawn/245.jpg  \n",
            "  inflating: dataset_new/train/yawn/246.jpg  \n",
            "  inflating: dataset_new/train/yawn/247.jpg  \n",
            "  inflating: dataset_new/train/yawn/25.jpg  \n",
            "  inflating: dataset_new/train/yawn/250.jpg  \n",
            "  inflating: dataset_new/train/yawn/251.jpg  \n",
            "  inflating: dataset_new/train/yawn/252.jpg  \n",
            "  inflating: dataset_new/train/yawn/253.jpg  \n",
            "  inflating: dataset_new/train/yawn/254.jpg  \n",
            "  inflating: dataset_new/train/yawn/255.jpg  \n",
            "  inflating: dataset_new/train/yawn/256.jpg  \n",
            "  inflating: dataset_new/train/yawn/258.jpg  \n",
            "  inflating: dataset_new/train/yawn/26.jpg  \n",
            "  inflating: dataset_new/train/yawn/260.jpg  \n",
            "  inflating: dataset_new/train/yawn/261.jpg  \n",
            "  inflating: dataset_new/train/yawn/262.jpg  \n",
            "  inflating: dataset_new/train/yawn/263.jpg  \n",
            "  inflating: dataset_new/train/yawn/264.jpg  \n",
            "  inflating: dataset_new/train/yawn/265.jpg  \n",
            "  inflating: dataset_new/train/yawn/266.jpg  \n",
            "  inflating: dataset_new/train/yawn/267.jpg  \n",
            "  inflating: dataset_new/train/yawn/268.jpg  \n",
            "  inflating: dataset_new/train/yawn/269.jpg  \n",
            "  inflating: dataset_new/train/yawn/27.jpg  \n",
            "  inflating: dataset_new/train/yawn/270.jpg  \n",
            "  inflating: dataset_new/train/yawn/271.jpg  \n",
            "  inflating: dataset_new/train/yawn/272.jpg  \n",
            "  inflating: dataset_new/train/yawn/273.jpg  \n",
            "  inflating: dataset_new/train/yawn/274.jpg  \n",
            "  inflating: dataset_new/train/yawn/275.jpg  \n",
            "  inflating: dataset_new/train/yawn/276.jpg  \n",
            "  inflating: dataset_new/train/yawn/277.jpg  \n",
            "  inflating: dataset_new/train/yawn/278.jpg  \n",
            "  inflating: dataset_new/train/yawn/279.jpg  \n",
            "  inflating: dataset_new/train/yawn/28.jpg  \n",
            "  inflating: dataset_new/train/yawn/280.jpg  \n",
            "  inflating: dataset_new/train/yawn/281.jpg  \n",
            "  inflating: dataset_new/train/yawn/282.jpg  \n",
            "  inflating: dataset_new/train/yawn/283.jpg  \n",
            "  inflating: dataset_new/train/yawn/284.jpg  \n",
            "  inflating: dataset_new/train/yawn/285.jpg  \n",
            "  inflating: dataset_new/train/yawn/287.jpg  \n",
            "  inflating: dataset_new/train/yawn/288.jpg  \n",
            "  inflating: dataset_new/train/yawn/289.jpg  \n",
            "  inflating: dataset_new/train/yawn/29.jpg  \n",
            "  inflating: dataset_new/train/yawn/290.jpg  \n",
            "  inflating: dataset_new/train/yawn/291.jpg  \n",
            "  inflating: dataset_new/train/yawn/292.jpg  \n",
            "  inflating: dataset_new/train/yawn/293.jpg  \n",
            "  inflating: dataset_new/train/yawn/294.jpg  \n",
            "  inflating: dataset_new/train/yawn/295.jpg  \n",
            "  inflating: dataset_new/train/yawn/296.jpg  \n",
            "  inflating: dataset_new/train/yawn/297.jpg  \n",
            "  inflating: dataset_new/train/yawn/298.jpg  \n",
            "  inflating: dataset_new/train/yawn/299.jpg  \n",
            "  inflating: dataset_new/train/yawn/3.jpg  \n",
            "  inflating: dataset_new/train/yawn/30.jpg  \n",
            "  inflating: dataset_new/train/yawn/300.jpg  \n",
            "  inflating: dataset_new/train/yawn/301.jpg  \n",
            "  inflating: dataset_new/train/yawn/302.jpg  \n",
            "  inflating: dataset_new/train/yawn/303.jpg  \n",
            "  inflating: dataset_new/train/yawn/304.jpg  \n",
            "  inflating: dataset_new/train/yawn/307.jpg  \n",
            "  inflating: dataset_new/train/yawn/308.jpg  \n",
            "  inflating: dataset_new/train/yawn/309.jpg  \n",
            "  inflating: dataset_new/train/yawn/31.jpg  \n",
            "  inflating: dataset_new/train/yawn/310.jpg  \n",
            "  inflating: dataset_new/train/yawn/311.jpg  \n",
            "  inflating: dataset_new/train/yawn/312.jpg  \n",
            "  inflating: dataset_new/train/yawn/313.jpg  \n",
            "  inflating: dataset_new/train/yawn/314.jpg  \n",
            "  inflating: dataset_new/train/yawn/315.jpg  \n",
            "  inflating: dataset_new/train/yawn/316.jpg  \n",
            "  inflating: dataset_new/train/yawn/317.jpg  \n",
            "  inflating: dataset_new/train/yawn/32.jpg  \n",
            "  inflating: dataset_new/train/yawn/320.jpg  \n",
            "  inflating: dataset_new/train/yawn/321.jpg  \n",
            "  inflating: dataset_new/train/yawn/323.jpg  \n",
            "  inflating: dataset_new/train/yawn/324.jpg  \n",
            "  inflating: dataset_new/train/yawn/325.jpg  \n",
            "  inflating: dataset_new/train/yawn/326.jpg  \n",
            "  inflating: dataset_new/train/yawn/327.jpg  \n",
            "  inflating: dataset_new/train/yawn/328.jpg  \n",
            "  inflating: dataset_new/train/yawn/329.jpg  \n",
            "  inflating: dataset_new/train/yawn/33.jpg  \n",
            "  inflating: dataset_new/train/yawn/330.jpg  \n",
            "  inflating: dataset_new/train/yawn/334.jpg  \n",
            "  inflating: dataset_new/train/yawn/335.jpg  \n",
            "  inflating: dataset_new/train/yawn/337.jpg  \n",
            "  inflating: dataset_new/train/yawn/338.jpg  \n",
            "  inflating: dataset_new/train/yawn/339.jpg  \n",
            "  inflating: dataset_new/train/yawn/34.jpg  \n",
            "  inflating: dataset_new/train/yawn/340.jpg  \n",
            "  inflating: dataset_new/train/yawn/341.jpg  \n",
            "  inflating: dataset_new/train/yawn/342.jpg  \n",
            "  inflating: dataset_new/train/yawn/343.jpg  \n",
            "  inflating: dataset_new/train/yawn/344.jpg  \n",
            "  inflating: dataset_new/train/yawn/345.jpg  \n",
            "  inflating: dataset_new/train/yawn/346.jpg  \n",
            "  inflating: dataset_new/train/yawn/347.jpg  \n",
            "  inflating: dataset_new/train/yawn/348.jpg  \n",
            "  inflating: dataset_new/train/yawn/35.jpg  \n",
            "  inflating: dataset_new/train/yawn/350.jpg  \n",
            "  inflating: dataset_new/train/yawn/351.jpg  \n",
            "  inflating: dataset_new/train/yawn/352.jpg  \n",
            "  inflating: dataset_new/train/yawn/353.jpg  \n",
            "  inflating: dataset_new/train/yawn/354.jpg  \n",
            "  inflating: dataset_new/train/yawn/355.jpg  \n",
            "  inflating: dataset_new/train/yawn/356.jpg  \n",
            "  inflating: dataset_new/train/yawn/358.jpg  \n",
            "  inflating: dataset_new/train/yawn/359.jpg  \n",
            "  inflating: dataset_new/train/yawn/36.jpg  \n",
            "  inflating: dataset_new/train/yawn/360.jpg  \n",
            "  inflating: dataset_new/train/yawn/361.jpg  \n",
            "  inflating: dataset_new/train/yawn/363.jpg  \n",
            "  inflating: dataset_new/train/yawn/364.jpg  \n",
            "  inflating: dataset_new/train/yawn/365.jpg  \n",
            "  inflating: dataset_new/train/yawn/367.jpg  \n",
            "  inflating: dataset_new/train/yawn/368.jpg  \n",
            "  inflating: dataset_new/train/yawn/369.jpg  \n",
            "  inflating: dataset_new/train/yawn/37.jpg  \n",
            "  inflating: dataset_new/train/yawn/370.jpg  \n",
            "  inflating: dataset_new/train/yawn/371.jpg  \n",
            "  inflating: dataset_new/train/yawn/372.jpg  \n",
            "  inflating: dataset_new/train/yawn/373.jpg  \n",
            "  inflating: dataset_new/train/yawn/374.jpg  \n",
            "  inflating: dataset_new/train/yawn/375.jpg  \n",
            "  inflating: dataset_new/train/yawn/376.jpg  \n",
            "  inflating: dataset_new/train/yawn/377.jpg  \n",
            "  inflating: dataset_new/train/yawn/378.jpg  \n",
            "  inflating: dataset_new/train/yawn/38.jpg  \n",
            "  inflating: dataset_new/train/yawn/380.jpg  \n",
            "  inflating: dataset_new/train/yawn/383.jpg  \n",
            "  inflating: dataset_new/train/yawn/384.jpg  \n",
            "  inflating: dataset_new/train/yawn/387.jpg  \n",
            "  inflating: dataset_new/train/yawn/388.jpg  \n",
            "  inflating: dataset_new/train/yawn/389.jpg  \n",
            "  inflating: dataset_new/train/yawn/39.jpg  \n",
            "  inflating: dataset_new/train/yawn/390.jpg  \n",
            "  inflating: dataset_new/train/yawn/391.jpg  \n",
            "  inflating: dataset_new/train/yawn/392.jpg  \n",
            "  inflating: dataset_new/train/yawn/393.jpg  \n",
            "  inflating: dataset_new/train/yawn/394.jpg  \n",
            "  inflating: dataset_new/train/yawn/395.jpg  \n",
            "  inflating: dataset_new/train/yawn/396.jpg  \n",
            "  inflating: dataset_new/train/yawn/397.jpg  \n",
            "  inflating: dataset_new/train/yawn/398.jpg  \n",
            "  inflating: dataset_new/train/yawn/399.jpg  \n",
            "  inflating: dataset_new/train/yawn/4.jpg  \n",
            "  inflating: dataset_new/train/yawn/40.jpg  \n",
            "  inflating: dataset_new/train/yawn/400.jpg  \n",
            "  inflating: dataset_new/train/yawn/401.jpg  \n",
            "  inflating: dataset_new/train/yawn/402.jpg  \n",
            "  inflating: dataset_new/train/yawn/403.jpg  \n",
            "  inflating: dataset_new/train/yawn/404.jpg  \n",
            "  inflating: dataset_new/train/yawn/405.jpg  \n",
            "  inflating: dataset_new/train/yawn/406.jpg  \n",
            "  inflating: dataset_new/train/yawn/407.jpg  \n",
            "  inflating: dataset_new/train/yawn/408.jpg  \n",
            "  inflating: dataset_new/train/yawn/41.jpg  \n",
            "  inflating: dataset_new/train/yawn/410.jpg  \n",
            "  inflating: dataset_new/train/yawn/411.jpg  \n",
            "  inflating: dataset_new/train/yawn/412.jpg  \n",
            "  inflating: dataset_new/train/yawn/413.jpg  \n",
            "  inflating: dataset_new/train/yawn/414.jpg  \n",
            "  inflating: dataset_new/train/yawn/415.jpg  \n",
            "  inflating: dataset_new/train/yawn/416.jpg  \n",
            "  inflating: dataset_new/train/yawn/417.jpg  \n",
            "  inflating: dataset_new/train/yawn/418.jpg  \n",
            "  inflating: dataset_new/train/yawn/419.jpg  \n",
            "  inflating: dataset_new/train/yawn/42.jpg  \n",
            "  inflating: dataset_new/train/yawn/420.jpg  \n",
            "  inflating: dataset_new/train/yawn/421.jpg  \n",
            "  inflating: dataset_new/train/yawn/422.jpg  \n",
            "  inflating: dataset_new/train/yawn/423.jpg  \n",
            "  inflating: dataset_new/train/yawn/424.jpg  \n",
            "  inflating: dataset_new/train/yawn/425.jpg  \n",
            "  inflating: dataset_new/train/yawn/426.jpg  \n",
            "  inflating: dataset_new/train/yawn/427.jpg  \n",
            "  inflating: dataset_new/train/yawn/428.jpg  \n",
            "  inflating: dataset_new/train/yawn/429.jpg  \n",
            "  inflating: dataset_new/train/yawn/43.jpg  \n",
            "  inflating: dataset_new/train/yawn/430.jpg  \n",
            "  inflating: dataset_new/train/yawn/431.jpg  \n",
            "  inflating: dataset_new/train/yawn/432.jpg  \n",
            "  inflating: dataset_new/train/yawn/433.jpg  \n",
            "  inflating: dataset_new/train/yawn/434.jpg  \n",
            "  inflating: dataset_new/train/yawn/435.jpg  \n",
            "  inflating: dataset_new/train/yawn/436.jpg  \n",
            "  inflating: dataset_new/train/yawn/437.jpg  \n",
            "  inflating: dataset_new/train/yawn/438.jpg  \n",
            "  inflating: dataset_new/train/yawn/439.jpg  \n",
            "  inflating: dataset_new/train/yawn/44.jpg  \n",
            "  inflating: dataset_new/train/yawn/440.jpg  \n",
            "  inflating: dataset_new/train/yawn/441.jpg  \n",
            "  inflating: dataset_new/train/yawn/442.jpg  \n",
            "  inflating: dataset_new/train/yawn/444.jpg  \n",
            "  inflating: dataset_new/train/yawn/445.jpg  \n",
            "  inflating: dataset_new/train/yawn/446.jpg  \n",
            "  inflating: dataset_new/train/yawn/447.jpg  \n",
            "  inflating: dataset_new/train/yawn/448.jpg  \n",
            "  inflating: dataset_new/train/yawn/449.jpg  \n",
            "  inflating: dataset_new/train/yawn/45.jpg  \n",
            "  inflating: dataset_new/train/yawn/450.jpg  \n",
            "  inflating: dataset_new/train/yawn/452.jpg  \n",
            "  inflating: dataset_new/train/yawn/453.jpg  \n",
            "  inflating: dataset_new/train/yawn/454.jpg  \n",
            "  inflating: dataset_new/train/yawn/456.jpg  \n",
            "  inflating: dataset_new/train/yawn/457.jpg  \n",
            "  inflating: dataset_new/train/yawn/458.jpg  \n",
            "  inflating: dataset_new/train/yawn/459.jpg  \n",
            "  inflating: dataset_new/train/yawn/46.jpg  \n",
            "  inflating: dataset_new/train/yawn/460.jpg  \n",
            "  inflating: dataset_new/train/yawn/462.jpg  \n",
            "  inflating: dataset_new/train/yawn/463.jpg  \n",
            "  inflating: dataset_new/train/yawn/464.jpg  \n",
            "  inflating: dataset_new/train/yawn/467.jpg  \n",
            "  inflating: dataset_new/train/yawn/468.jpg  \n",
            "  inflating: dataset_new/train/yawn/469.jpg  \n",
            "  inflating: dataset_new/train/yawn/470.jpg  \n",
            "  inflating: dataset_new/train/yawn/471.jpg  \n",
            "  inflating: dataset_new/train/yawn/472.jpg  \n",
            "  inflating: dataset_new/train/yawn/473.jpg  \n",
            "  inflating: dataset_new/train/yawn/474.jpg  \n",
            "  inflating: dataset_new/train/yawn/475.jpg  \n",
            "  inflating: dataset_new/train/yawn/476.jpg  \n",
            "  inflating: dataset_new/train/yawn/478.jpg  \n",
            "  inflating: dataset_new/train/yawn/479.jpg  \n",
            "  inflating: dataset_new/train/yawn/48.jpg  \n",
            "  inflating: dataset_new/train/yawn/481.jpg  \n",
            "  inflating: dataset_new/train/yawn/483.jpg  \n",
            "  inflating: dataset_new/train/yawn/484.jpg  \n",
            "  inflating: dataset_new/train/yawn/485.jpg  \n",
            "  inflating: dataset_new/train/yawn/486.jpg  \n",
            "  inflating: dataset_new/train/yawn/487.jpg  \n",
            "  inflating: dataset_new/train/yawn/488.jpg  \n",
            "  inflating: dataset_new/train/yawn/489.jpg  \n",
            "  inflating: dataset_new/train/yawn/490.jpg  \n",
            "  inflating: dataset_new/train/yawn/491.jpg  \n",
            "  inflating: dataset_new/train/yawn/492.jpg  \n",
            "  inflating: dataset_new/train/yawn/493.jpg  \n",
            "  inflating: dataset_new/train/yawn/494.jpg  \n",
            "  inflating: dataset_new/train/yawn/495.jpg  \n",
            "  inflating: dataset_new/train/yawn/496.jpg  \n",
            "  inflating: dataset_new/train/yawn/497.jpg  \n",
            "  inflating: dataset_new/train/yawn/498.jpg  \n",
            "  inflating: dataset_new/train/yawn/499.jpg  \n",
            "  inflating: dataset_new/train/yawn/5.jpg  \n",
            "  inflating: dataset_new/train/yawn/50.jpg  \n",
            "  inflating: dataset_new/train/yawn/500.jpg  \n",
            "  inflating: dataset_new/train/yawn/501.jpg  \n",
            "  inflating: dataset_new/train/yawn/502.jpg  \n",
            "  inflating: dataset_new/train/yawn/503.jpg  \n",
            "  inflating: dataset_new/train/yawn/504.jpg  \n",
            "  inflating: dataset_new/train/yawn/506.jpg  \n",
            "  inflating: dataset_new/train/yawn/507.jpg  \n",
            "  inflating: dataset_new/train/yawn/508.jpg  \n",
            "  inflating: dataset_new/train/yawn/509.jpg  \n",
            "  inflating: dataset_new/train/yawn/51.jpg  \n",
            "  inflating: dataset_new/train/yawn/510.jpg  \n",
            "  inflating: dataset_new/train/yawn/512.jpg  \n",
            "  inflating: dataset_new/train/yawn/514.jpg  \n",
            "  inflating: dataset_new/train/yawn/515.jpg  \n",
            "  inflating: dataset_new/train/yawn/516.jpg  \n",
            "  inflating: dataset_new/train/yawn/517.jpg  \n",
            "  inflating: dataset_new/train/yawn/518.jpg  \n",
            "  inflating: dataset_new/train/yawn/519.jpg  \n",
            "  inflating: dataset_new/train/yawn/52.jpg  \n",
            "  inflating: dataset_new/train/yawn/520.jpg  \n",
            "  inflating: dataset_new/train/yawn/521.jpg  \n",
            "  inflating: dataset_new/train/yawn/522.jpg  \n",
            "  inflating: dataset_new/train/yawn/523.jpg  \n",
            "  inflating: dataset_new/train/yawn/524.jpg  \n",
            "  inflating: dataset_new/train/yawn/525.jpg  \n",
            "  inflating: dataset_new/train/yawn/528.jpg  \n",
            "  inflating: dataset_new/train/yawn/53.jpg  \n",
            "  inflating: dataset_new/train/yawn/530.jpg  \n",
            "  inflating: dataset_new/train/yawn/531.jpg  \n",
            "  inflating: dataset_new/train/yawn/532.jpg  \n",
            "  inflating: dataset_new/train/yawn/533.jpg  \n",
            "  inflating: dataset_new/train/yawn/534.jpg  \n",
            "  inflating: dataset_new/train/yawn/535.jpg  \n",
            "  inflating: dataset_new/train/yawn/536.jpg  \n",
            "  inflating: dataset_new/train/yawn/537.jpg  \n",
            "  inflating: dataset_new/train/yawn/539.jpg  \n",
            "  inflating: dataset_new/train/yawn/54.jpg  \n",
            "  inflating: dataset_new/train/yawn/540.jpg  \n",
            "  inflating: dataset_new/train/yawn/541.jpg  \n",
            "  inflating: dataset_new/train/yawn/542.jpg  \n",
            "  inflating: dataset_new/train/yawn/543.jpg  \n",
            "  inflating: dataset_new/train/yawn/544.jpg  \n",
            "  inflating: dataset_new/train/yawn/545.jpg  \n",
            "  inflating: dataset_new/train/yawn/546.jpg  \n",
            "  inflating: dataset_new/train/yawn/549.jpg  \n",
            "  inflating: dataset_new/train/yawn/55.jpg  \n",
            "  inflating: dataset_new/train/yawn/550.jpg  \n",
            "  inflating: dataset_new/train/yawn/552.jpg  \n",
            "  inflating: dataset_new/train/yawn/553.jpg  \n",
            "  inflating: dataset_new/train/yawn/555.jpg  \n",
            "  inflating: dataset_new/train/yawn/556.jpg  \n",
            "  inflating: dataset_new/train/yawn/557.jpg  \n",
            "  inflating: dataset_new/train/yawn/558.jpg  \n",
            "  inflating: dataset_new/train/yawn/56.jpg  \n",
            "  inflating: dataset_new/train/yawn/560.jpg  \n",
            "  inflating: dataset_new/train/yawn/561.jpg  \n",
            "  inflating: dataset_new/train/yawn/562.jpg  \n",
            "  inflating: dataset_new/train/yawn/565.jpg  \n",
            "  inflating: dataset_new/train/yawn/566.jpg  \n",
            "  inflating: dataset_new/train/yawn/567.jpg  \n",
            "  inflating: dataset_new/train/yawn/568.jpg  \n",
            "  inflating: dataset_new/train/yawn/569.jpg  \n",
            "  inflating: dataset_new/train/yawn/57.jpg  \n",
            "  inflating: dataset_new/train/yawn/570.jpg  \n",
            "  inflating: dataset_new/train/yawn/571.jpg  \n",
            "  inflating: dataset_new/train/yawn/572.jpg  \n",
            "  inflating: dataset_new/train/yawn/573.jpg  \n",
            "  inflating: dataset_new/train/yawn/574.jpg  \n",
            "  inflating: dataset_new/train/yawn/575.jpg  \n",
            "  inflating: dataset_new/train/yawn/576.jpg  \n",
            "  inflating: dataset_new/train/yawn/577.jpg  \n",
            "  inflating: dataset_new/train/yawn/578.jpg  \n",
            "  inflating: dataset_new/train/yawn/579.jpg  \n",
            "  inflating: dataset_new/train/yawn/58.jpg  \n",
            "  inflating: dataset_new/train/yawn/580.jpg  \n",
            "  inflating: dataset_new/train/yawn/581.jpg  \n",
            "  inflating: dataset_new/train/yawn/582.jpg  \n",
            "  inflating: dataset_new/train/yawn/583.jpg  \n",
            "  inflating: dataset_new/train/yawn/584.jpg  \n",
            "  inflating: dataset_new/train/yawn/585.jpg  \n",
            "  inflating: dataset_new/train/yawn/586.jpg  \n",
            "  inflating: dataset_new/train/yawn/587.jpg  \n",
            "  inflating: dataset_new/train/yawn/588.jpg  \n",
            "  inflating: dataset_new/train/yawn/589.jpg  \n",
            "  inflating: dataset_new/train/yawn/59.jpg  \n",
            "  inflating: dataset_new/train/yawn/590.jpg  \n",
            "  inflating: dataset_new/train/yawn/591.jpg  \n",
            "  inflating: dataset_new/train/yawn/592.jpg  \n",
            "  inflating: dataset_new/train/yawn/593.jpg  \n",
            "  inflating: dataset_new/train/yawn/594.jpg  \n",
            "  inflating: dataset_new/train/yawn/595.jpg  \n",
            "  inflating: dataset_new/train/yawn/596.jpg  \n",
            "  inflating: dataset_new/train/yawn/597.jpg  \n",
            "  inflating: dataset_new/train/yawn/598.jpg  \n",
            "  inflating: dataset_new/train/yawn/599.jpg  \n",
            "  inflating: dataset_new/train/yawn/6.jpg  \n",
            "  inflating: dataset_new/train/yawn/60.jpg  \n",
            "  inflating: dataset_new/train/yawn/600.jpg  \n",
            "  inflating: dataset_new/train/yawn/601.jpg  \n",
            "  inflating: dataset_new/train/yawn/603.jpg  \n",
            "  inflating: dataset_new/train/yawn/604.jpg  \n",
            "  inflating: dataset_new/train/yawn/605.jpg  \n",
            "  inflating: dataset_new/train/yawn/607.jpg  \n",
            "  inflating: dataset_new/train/yawn/608.jpg  \n",
            "  inflating: dataset_new/train/yawn/609.jpg  \n",
            "  inflating: dataset_new/train/yawn/610.jpg  \n",
            "  inflating: dataset_new/train/yawn/611.jpg  \n",
            "  inflating: dataset_new/train/yawn/612.jpg  \n",
            "  inflating: dataset_new/train/yawn/613.jpg  \n",
            "  inflating: dataset_new/train/yawn/614.jpg  \n",
            "  inflating: dataset_new/train/yawn/615.jpg  \n",
            "  inflating: dataset_new/train/yawn/616.jpg  \n",
            "  inflating: dataset_new/train/yawn/617.jpg  \n",
            "  inflating: dataset_new/train/yawn/618.jpg  \n",
            "  inflating: dataset_new/train/yawn/62.jpg  \n",
            "  inflating: dataset_new/train/yawn/620.jpg  \n",
            "  inflating: dataset_new/train/yawn/621.jpg  \n",
            "  inflating: dataset_new/train/yawn/623.jpg  \n",
            "  inflating: dataset_new/train/yawn/624.jpg  \n",
            "  inflating: dataset_new/train/yawn/625.jpg  \n",
            "  inflating: dataset_new/train/yawn/626.jpg  \n",
            "  inflating: dataset_new/train/yawn/627.jpg  \n",
            "  inflating: dataset_new/train/yawn/628.jpg  \n",
            "  inflating: dataset_new/train/yawn/629.jpg  \n",
            "  inflating: dataset_new/train/yawn/631.jpg  \n",
            "  inflating: dataset_new/train/yawn/633.jpg  \n",
            "  inflating: dataset_new/train/yawn/634.jpg  \n",
            "  inflating: dataset_new/train/yawn/635.jpg  \n",
            "  inflating: dataset_new/train/yawn/636.jpg  \n",
            "  inflating: dataset_new/train/yawn/637.jpg  \n",
            "  inflating: dataset_new/train/yawn/638.jpg  \n",
            "  inflating: dataset_new/train/yawn/639.jpg  \n",
            "  inflating: dataset_new/train/yawn/64.jpg  \n",
            "  inflating: dataset_new/train/yawn/640.jpg  \n",
            "  inflating: dataset_new/train/yawn/641.jpg  \n",
            "  inflating: dataset_new/train/yawn/642.jpg  \n",
            "  inflating: dataset_new/train/yawn/643.jpg  \n",
            "  inflating: dataset_new/train/yawn/644.jpg  \n",
            "  inflating: dataset_new/train/yawn/645.jpg  \n",
            "  inflating: dataset_new/train/yawn/647.jpg  \n",
            "  inflating: dataset_new/train/yawn/648.jpg  \n",
            "  inflating: dataset_new/train/yawn/65.jpg  \n",
            "  inflating: dataset_new/train/yawn/650.jpg  \n",
            "  inflating: dataset_new/train/yawn/651.jpg  \n",
            "  inflating: dataset_new/train/yawn/653.jpg  \n",
            "  inflating: dataset_new/train/yawn/654.jpg  \n",
            "  inflating: dataset_new/train/yawn/655.jpg  \n",
            "  inflating: dataset_new/train/yawn/656.jpg  \n",
            "  inflating: dataset_new/train/yawn/657.jpg  \n",
            "  inflating: dataset_new/train/yawn/658.jpg  \n",
            "  inflating: dataset_new/train/yawn/659.jpg  \n",
            "  inflating: dataset_new/train/yawn/66.jpg  \n",
            "  inflating: dataset_new/train/yawn/660.jpg  \n",
            "  inflating: dataset_new/train/yawn/661.jpg  \n",
            "  inflating: dataset_new/train/yawn/663.jpg  \n",
            "  inflating: dataset_new/train/yawn/664.jpg  \n",
            "  inflating: dataset_new/train/yawn/665.jpg  \n",
            "  inflating: dataset_new/train/yawn/666.jpg  \n",
            "  inflating: dataset_new/train/yawn/667.jpg  \n",
            "  inflating: dataset_new/train/yawn/668.jpg  \n",
            "  inflating: dataset_new/train/yawn/669.jpg  \n",
            "  inflating: dataset_new/train/yawn/67.jpg  \n",
            "  inflating: dataset_new/train/yawn/670.jpg  \n",
            "  inflating: dataset_new/train/yawn/671.jpg  \n",
            "  inflating: dataset_new/train/yawn/672.jpg  \n",
            "  inflating: dataset_new/train/yawn/673.jpg  \n",
            "  inflating: dataset_new/train/yawn/674.jpg  \n",
            "  inflating: dataset_new/train/yawn/675.jpg  \n",
            "  inflating: dataset_new/train/yawn/677.jpg  \n",
            "  inflating: dataset_new/train/yawn/679.jpg  \n",
            "  inflating: dataset_new/train/yawn/68.jpg  \n",
            "  inflating: dataset_new/train/yawn/680.jpg  \n",
            "  inflating: dataset_new/train/yawn/682.jpg  \n",
            "  inflating: dataset_new/train/yawn/683.jpg  \n",
            "  inflating: dataset_new/train/yawn/684.jpg  \n",
            "  inflating: dataset_new/train/yawn/685.jpg  \n",
            "  inflating: dataset_new/train/yawn/687.jpg  \n",
            "  inflating: dataset_new/train/yawn/688.jpg  \n",
            "  inflating: dataset_new/train/yawn/689.jpg  \n",
            "  inflating: dataset_new/train/yawn/69.jpg  \n",
            "  inflating: dataset_new/train/yawn/691.jpg  \n",
            "  inflating: dataset_new/train/yawn/692.jpg  \n",
            "  inflating: dataset_new/train/yawn/693.jpg  \n",
            "  inflating: dataset_new/train/yawn/694.jpg  \n",
            "  inflating: dataset_new/train/yawn/696.jpg  \n",
            "  inflating: dataset_new/train/yawn/697.jpg  \n",
            "  inflating: dataset_new/train/yawn/698.jpg  \n",
            "  inflating: dataset_new/train/yawn/699.jpg  \n",
            "  inflating: dataset_new/train/yawn/7.jpg  \n",
            "  inflating: dataset_new/train/yawn/70.jpg  \n",
            "  inflating: dataset_new/train/yawn/700.jpg  \n",
            "  inflating: dataset_new/train/yawn/701.jpg  \n",
            "  inflating: dataset_new/train/yawn/702.jpg  \n",
            "  inflating: dataset_new/train/yawn/703.jpg  \n",
            "  inflating: dataset_new/train/yawn/704.jpg  \n",
            "  inflating: dataset_new/train/yawn/705.jpg  \n",
            "  inflating: dataset_new/train/yawn/706.jpg  \n",
            "  inflating: dataset_new/train/yawn/708.jpg  \n",
            "  inflating: dataset_new/train/yawn/71.jpg  \n",
            "  inflating: dataset_new/train/yawn/710.jpg  \n",
            "  inflating: dataset_new/train/yawn/712.jpg  \n",
            "  inflating: dataset_new/train/yawn/713.jpg  \n",
            "  inflating: dataset_new/train/yawn/714.jpg  \n",
            "  inflating: dataset_new/train/yawn/716.jpg  \n",
            "  inflating: dataset_new/train/yawn/717.jpg  \n",
            "  inflating: dataset_new/train/yawn/718.jpg  \n",
            "  inflating: dataset_new/train/yawn/72.jpg  \n",
            "  inflating: dataset_new/train/yawn/722.jpg  \n",
            "  inflating: dataset_new/train/yawn/723.jpg  \n",
            "  inflating: dataset_new/train/yawn/724.jpg  \n",
            "  inflating: dataset_new/train/yawn/726.jpg  \n",
            "  inflating: dataset_new/train/yawn/73.jpg  \n",
            "  inflating: dataset_new/train/yawn/74.jpg  \n",
            "  inflating: dataset_new/train/yawn/75.jpg  \n",
            "  inflating: dataset_new/train/yawn/76.jpg  \n",
            "  inflating: dataset_new/train/yawn/77.jpg  \n",
            "  inflating: dataset_new/train/yawn/78.jpg  \n",
            "  inflating: dataset_new/train/yawn/79.jpg  \n",
            "  inflating: dataset_new/train/yawn/8.jpg  \n",
            "  inflating: dataset_new/train/yawn/80.jpg  \n",
            "  inflating: dataset_new/train/yawn/82.jpg  \n",
            "  inflating: dataset_new/train/yawn/83.jpg  \n",
            "  inflating: dataset_new/train/yawn/85.jpg  \n",
            "  inflating: dataset_new/train/yawn/87.jpg  \n",
            "  inflating: dataset_new/train/yawn/88.jpg  \n",
            "  inflating: dataset_new/train/yawn/89.jpg  \n",
            "  inflating: dataset_new/train/yawn/9.jpg  \n",
            "  inflating: dataset_new/train/yawn/90.jpg  \n",
            "  inflating: dataset_new/train/yawn/91.jpg  \n",
            "  inflating: dataset_new/train/yawn/92.jpg  \n",
            "  inflating: dataset_new/train/yawn/93.jpg  \n",
            "  inflating: dataset_new/train/yawn/94.jpg  \n",
            "  inflating: dataset_new/train/yawn/96.jpg  \n",
            "  inflating: dataset_new/train/yawn/97.jpg  \n",
            "  inflating: dataset_new/train/yawn/98.jpg  \n",
            "  inflating: dataset_new/train/yawn/99.jpg  \n"
          ]
        }
      ]
    },
    {
      "cell_type": "code",
      "source": [
        "from google.colab import drive\n",
        "drive.mount('/content/drive')"
      ],
      "metadata": {
        "id": "2K0DufhoESUD",
        "outputId": "9164df4c-f49c-430a-dfe1-11b65b68cd66",
        "colab": {
          "base_uri": "https://localhost:8080/"
        }
      },
      "id": "2K0DufhoESUD",
      "execution_count": 9,
      "outputs": [
        {
          "output_type": "stream",
          "name": "stdout",
          "text": [
            "Mounted at /content/drive\n"
          ]
        }
      ]
    },
    {
      "cell_type": "code",
      "source": [
        "!rm -r /content/drive/MyDrive/archive/dataset_new/test/Closed"
      ],
      "metadata": {
        "id": "slZ-ArHHF0Y-",
        "colab": {
          "base_uri": "https://localhost:8080/"
        },
        "outputId": "6c995aaa-69ce-40a5-a7c4-14a602058ca9"
      },
      "id": "slZ-ArHHF0Y-",
      "execution_count": null,
      "outputs": [
        {
          "output_type": "stream",
          "name": "stdout",
          "text": [
            "rm: cannot remove '/content/drive/MyDrive/archive/dataset_new/test/Closed': No such file or directory\n"
          ]
        }
      ]
    },
    {
      "cell_type": "code",
      "source": [
        "!rm -r /content/drive/MyDrive/archive/dataset_new/test/Open"
      ],
      "metadata": {
        "id": "3lLArSQEGFwd",
        "colab": {
          "base_uri": "https://localhost:8080/"
        },
        "outputId": "2736964b-0038-48b3-cd5a-103b49bffeee"
      },
      "id": "3lLArSQEGFwd",
      "execution_count": null,
      "outputs": [
        {
          "output_type": "stream",
          "name": "stdout",
          "text": [
            "rm: cannot remove '/content/drive/MyDrive/archive/dataset_new/test/Open': No such file or directory\n"
          ]
        }
      ]
    },
    {
      "cell_type": "code",
      "source": [
        "!rm -r /content/drive/MyDrive/archive/dataset_new/train/Closed"
      ],
      "metadata": {
        "id": "vmU2iFYEGLAE",
        "colab": {
          "base_uri": "https://localhost:8080/"
        },
        "outputId": "1db79214-dd84-4591-b9f2-8a772da46518"
      },
      "id": "vmU2iFYEGLAE",
      "execution_count": null,
      "outputs": [
        {
          "output_type": "stream",
          "name": "stdout",
          "text": [
            "rm: cannot remove '/content/drive/MyDrive/archive/dataset_new/train/Closed': No such file or directory\n"
          ]
        }
      ]
    },
    {
      "cell_type": "code",
      "source": [
        "!rm -r /content/drive/MyDrive/archive/dataset_new/train/Open"
      ],
      "metadata": {
        "id": "FBUOmNQ1GU9E"
      },
      "id": "FBUOmNQ1GU9E",
      "execution_count": null,
      "outputs": []
    },
    {
      "cell_type": "code",
      "execution_count": 10,
      "id": "0d94c358",
      "metadata": {
        "scrolled": true,
        "id": "0d94c358"
      },
      "outputs": [],
      "source": [
        "import tensorflow as tf\n",
        "import matplotlib.pyplot as plt\n",
        "import cv2"
      ]
    },
    {
      "cell_type": "code",
      "execution_count": 11,
      "id": "a89a009f",
      "metadata": {
        "id": "a89a009f"
      },
      "outputs": [],
      "source": [
        "from keras.preprocessing.image import ImageDataGenerator\n",
        "from tensorflow.keras.utils import to_categorical"
      ]
    },
    {
      "cell_type": "code",
      "source": [
        "!rm -r /content/drowsiness_cropped/test/.ipynb_checkpoints"
      ],
      "metadata": {
        "id": "_2a_k9Ssu1Sq",
        "outputId": "515b1c57-17e7-48f3-a6d2-f3abc634497b",
        "colab": {
          "base_uri": "https://localhost:8080/"
        }
      },
      "id": "_2a_k9Ssu1Sq",
      "execution_count": 12,
      "outputs": [
        {
          "output_type": "stream",
          "name": "stdout",
          "text": [
            "rm: cannot remove '/content/drowsiness_cropped/test/.ipynb_checkpoints': No such file or directory\n"
          ]
        }
      ]
    },
    {
      "cell_type": "code",
      "execution_count": 13,
      "id": "63bd9f1c",
      "metadata": {
        "id": "63bd9f1c",
        "outputId": "4462185c-c67d-44c2-cd79-907ce39144e1",
        "colab": {
          "base_uri": "https://localhost:8080/"
        }
      },
      "outputs": [
        {
          "output_type": "stream",
          "name": "stdout",
          "text": [
            "Found 1310 images belonging to 2 classes.\n"
          ]
        }
      ],
      "source": [
        "train_datagen = ImageDataGenerator(\n",
        "        rescale=1./255,\n",
        "        shear_range=0.2,\n",
        "        zoom_range=0.2,\n",
        "        horizontal_flip=True)\n",
        "train_generator = train_datagen.flow_from_directory(\n",
        "        '/content/drive/MyDrive/drowsiness_cropped (1)/drowsiness_cropped/train',\n",
        "        target_size=(64, 64),\n",
        "        batch_size=32,\n",
        "        class_mode='categorical')"
      ]
    },
    {
      "cell_type": "code",
      "execution_count": 14,
      "id": "e1b752bb",
      "metadata": {
        "id": "e1b752bb",
        "outputId": "aaa91a37-61d8-40a1-a1b9-7a60fca17a0e",
        "colab": {
          "base_uri": "https://localhost:8080/"
        }
      },
      "outputs": [
        {
          "output_type": "stream",
          "name": "stdout",
          "text": [
            "Found 215 images belonging to 2 classes.\n"
          ]
        }
      ],
      "source": [
        "test_datagen = ImageDataGenerator(rescale=1./255)\n",
        "validation_generator = test_datagen.flow_from_directory(\n",
        "        '/content/drive/MyDrive/drowsiness_cropped (1)/drowsiness_cropped/test',\n",
        "        target_size=(64,64),\n",
        "        batch_size=32,\n",
        "        class_mode='categorical')"
      ]
    },
    {
      "cell_type": "code",
      "source": [
        "im=plt.imread(\"/content/drive/MyDrive/archive/dataset_new/train/yawn/11.jpg\")\n"
      ],
      "metadata": {
        "id": "9YYZBy3asKdV"
      },
      "id": "9YYZBy3asKdV",
      "execution_count": 15,
      "outputs": []
    },
    {
      "cell_type": "code",
      "source": [
        "plt.imshow(im[20:350, 200:500, :])"
      ],
      "metadata": {
        "colab": {
          "base_uri": "https://localhost:8080/",
          "height": 286
        },
        "id": "LGTQWYgXs2m_",
        "outputId": "a4daa219-0f5d-491f-8819-b9aab6d55714"
      },
      "id": "LGTQWYgXs2m_",
      "execution_count": 16,
      "outputs": [
        {
          "output_type": "execute_result",
          "data": {
            "text/plain": [
              "<matplotlib.image.AxesImage at 0x7fbc0a181890>"
            ]
          },
          "metadata": {},
          "execution_count": 16
        },
        {
          "output_type": "display_data",
          "data": {
            "text/plain": [
              "<Figure size 432x288 with 1 Axes>"
            ],
            "image/png": "[encoded data removed]"
          },
          "metadata": {
            "needs_background": "light"
          }
        }
      ]
    },
    {
      "cell_type": "code",
      "source": [
        "import os"
      ],
      "metadata": {
        "id": "ohsqptcjvOLl"
      },
      "id": "ohsqptcjvOLl",
      "execution_count": 17,
      "outputs": []
    },
    {
      "cell_type": "code",
      "source": [
        "import glob\n",
        "i=0\n",
        "for img in glob.glob(\"/content/drive/MyDrive/archive/dataset_new/test/no_yawn/*.jpg\"):\n",
        "  i=i+1\n",
        "\n",
        "  n= cv2.imread(img)\n",
        "  im=n[20:350, 200:500, :]\n",
        "  cv2.imwrite(os.path.join(\"/content/drowsiness_cropped/test/no_yawn\" , f'test_images_noyawn{i}.jpg'), im)"
      ],
      "metadata": {
        "id": "mYU8k9vYrVuC"
      },
      "id": "mYU8k9vYrVuC",
      "execution_count": 18,
      "outputs": []
    },
    {
      "cell_type": "code",
      "source": [
        "for img in glob.glob(\"/content/drive/MyDrive/archive/dataset_new/test/yawn/*.jpg\"):\n",
        "  i=i+1\n",
        "\n",
        "  n= cv2.imread(img)\n",
        "  im=n[20:350, 200:500, :]\n",
        "  cv2.imwrite(os.path.join(\"/content/drowsiness_cropped/test/yawn\" , f'test_images_yawn{i}.jpg'), im)"
      ],
      "metadata": {
        "id": "DOQS1k-lv9UZ"
      },
      "id": "DOQS1k-lv9UZ",
      "execution_count": 19,
      "outputs": []
    },
    {
      "cell_type": "code",
      "source": [
        "i=0\n",
        "for img in glob.glob(\"/content/drive/MyDrive/archive/dataset_new/train/no_yawn/*.jpg\"):\n",
        "  i=i+1\n",
        "\n",
        "  n= cv2.imread(img)\n",
        "  im=n[20:350, 200:500, :]\n",
        "  cv2.imwrite(os.path.join(\"/content/drowsiness_cropped/train/no_yawn\" , f'train_images_noyawn{i}.jpg'), im)"
      ],
      "metadata": {
        "id": "_YAeYzL5wU3W"
      },
      "id": "_YAeYzL5wU3W",
      "execution_count": 20,
      "outputs": []
    },
    {
      "cell_type": "code",
      "source": [
        "i=0\n",
        "for img in glob.glob(\"/content/drive/MyDrive/archive/dataset_new/train/yawn/*.jpg\"):\n",
        "  i=i+1\n",
        "\n",
        "  n= cv2.imread(img)\n",
        "  im=n[20:350, 200:500, :]\n",
        "  cv2.imwrite(os.path.join(\"/content/drowsiness_cropped/train/yawn\" , f'train_images_yawn{i}.jpg'), im)"
      ],
      "metadata": {
        "id": "8zVPJ8XLw1UO"
      },
      "id": "8zVPJ8XLw1UO",
      "execution_count": 21,
      "outputs": []
    },
    {
      "cell_type": "code",
      "source": [
        "# Add the image to a batch\n",
        "from keras.preprocessing import image\n",
        "from tensorflow.keras import layers\n",
        "im=tf.keras.preprocessing.image_dataset_from_directory(\"/content/drive/MyDrive/drowsiness_cropped (1)/drowsiness_cropped/test\")\n",
        "\n"
      ],
      "metadata": {
        "colab": {
          "base_uri": "https://localhost:8080/"
        },
        "id": "a9qOJBNJ9RAp",
        "outputId": "24af97ae-0a6a-4da4-f298-3340c6ffac35"
      },
      "id": "a9qOJBNJ9RAp",
      "execution_count": 22,
      "outputs": [
        {
          "output_type": "stream",
          "name": "stdout",
          "text": [
            "Found 215 files belonging to 2 classes.\n"
          ]
        }
      ]
    },
    {
      "cell_type": "code",
      "source": [
        "data_augmentation = tf.keras.Sequential([\n",
        "  layers.RandomFlip(\"horizontal_and_vertical\"),\n",
        "  layers.RandomRotation(0.2),\n",
        "])\n",
        "\n",
        "# Add the image to a batch.\n",
        "image = tf.cast(tf.expand_dims(n, 0), tf.float32)\n",
        "\n",
        "plt.figure(figsize=(10, 10))\n",
        "for i in range(9):\n",
        "  augmented_image = data_augmentation(image)\n",
        "  ax = plt.subplot(3, 3, i + 1)\n",
        "  plt.imshow(augmented_image[0])\n",
        "  plt.axis(\"off\")"
      ],
      "metadata": {
        "id": "DEDRRzkbRptH",
        "outputId": "305f44b9-aff6-4e01-f065-826745193883",
        "colab": {
          "base_uri": "https://localhost:8080/",
          "height": 694
        }
      },
      "id": "DEDRRzkbRptH",
      "execution_count": 23,
      "outputs": [
        {
          "output_type": "stream",
          "name": "stderr",
          "text": [
            "Clipping input data to the valid range for imshow with RGB data ([0..1] for floats or [0..255] for integers).\n",
            "Clipping input data to the valid range for imshow with RGB data ([0..1] for floats or [0..255] for integers).\n",
            "Clipping input data to the valid range for imshow with RGB data ([0..1] for floats or [0..255] for integers).\n",
            "Clipping input data to the valid range for imshow with RGB data ([0..1] for floats or [0..255] for integers).\n",
            "Clipping input data to the valid range for imshow with RGB data ([0..1] for floats or [0..255] for integers).\n",
            "Clipping input data to the valid range for imshow with RGB data ([0..1] for floats or [0..255] for integers).\n",
            "Clipping input data to the valid range for imshow with RGB data ([0..1] for floats or [0..255] for integers).\n",
            "Clipping input data to the valid range for imshow with RGB data ([0..1] for floats or [0..255] for integers).\n",
            "Clipping input data to the valid range for imshow with RGB data ([0..1] for floats or [0..255] for integers).\n"
          ]
        },
        {
          "output_type": "display_data",
          "data": {
            "text/plain": [
              "<Figure size 720x720 with 9 Axes>"
            ],
            "image/png": "[encoded data removed]"
          },
          "metadata": {
            "needs_background": "light"
          }
        }
      ]
    },
    {
      "cell_type": "code",
      "source": [
        "im=tf.keras.preprocessing.image_dataset_from_directory(\"/content/drive/MyDrive/drowsiness_cropped (1)/drowsiness_cropped/train\")"
      ],
      "metadata": {
        "id": "E2aZnVIvP4nL",
        "outputId": "f52f10fa-9c76-45e7-a0db-2ae549d72e60",
        "colab": {
          "base_uri": "https://localhost:8080/"
        }
      },
      "id": "E2aZnVIvP4nL",
      "execution_count": 24,
      "outputs": [
        {
          "output_type": "stream",
          "name": "stdout",
          "text": [
            "Found 1310 files belonging to 2 classes.\n"
          ]
        }
      ]
    },
    {
      "cell_type": "code",
      "source": [
        "data_augmentation = tf.keras.Sequential([\n",
        "  layers.RandomFlip(\"horizontal_and_vertical\"),\n",
        "  layers.RandomRotation(0.2),\n",
        "])\n",
        "\n",
        "# Add the image to a batch.\n",
        "image = tf.cast(tf.expand_dims(n, 0), tf.float32)\n",
        "\n",
        "plt.figure(figsize=(10, 10))\n",
        "for i in range(9):\n",
        "  augmented_image = data_augmentation(image)\n",
        "  ax = plt.subplot(3, 3, i + 1)\n",
        "  plt.imshow(augmented_image[0])\n",
        "  plt.axis(\"off\")"
      ],
      "metadata": {
        "colab": {
          "base_uri": "https://localhost:8080/",
          "height": 694
        },
        "id": "JOoSMICKFt0b",
        "outputId": "ff91a2ed-c669-4c50-99fe-051b00a3a621"
      },
      "id": "JOoSMICKFt0b",
      "execution_count": 25,
      "outputs": [
        {
          "output_type": "stream",
          "name": "stderr",
          "text": [
            "Clipping input data to the valid range for imshow with RGB data ([0..1] for floats or [0..255] for integers).\n",
            "Clipping input data to the valid range for imshow with RGB data ([0..1] for floats or [0..255] for integers).\n",
            "Clipping input data to the valid range for imshow with RGB data ([0..1] for floats or [0..255] for integers).\n",
            "Clipping input data to the valid range for imshow with RGB data ([0..1] for floats or [0..255] for integers).\n",
            "Clipping input data to the valid range for imshow with RGB data ([0..1] for floats or [0..255] for integers).\n",
            "Clipping input data to the valid range for imshow with RGB data ([0..1] for floats or [0..255] for integers).\n",
            "Clipping input data to the valid range for imshow with RGB data ([0..1] for floats or [0..255] for integers).\n",
            "Clipping input data to the valid range for imshow with RGB data ([0..1] for floats or [0..255] for integers).\n",
            "Clipping input data to the valid range for imshow with RGB data ([0..1] for floats or [0..255] for integers).\n"
          ]
        },
        {
          "output_type": "display_data",
          "data": {
            "text/plain": [
              "<Figure size 720x720 with 9 Axes>"
            ],
            "image/png": "[encoded data removed]"
          },
          "metadata": {
            "needs_background": "light"
          }
        }
      ]
    },
    {
      "cell_type": "code",
      "execution_count": 26,
      "id": "faa69274",
      "metadata": {
        "id": "faa69274"
      },
      "outputs": [],
      "source": [
        "#build CNN model\n",
        "#intialize\n",
        "cnn=tf.keras.models.Sequential()"
      ]
    },
    {
      "cell_type": "code",
      "source": [
        "from tensorflow.keras import layers"
      ],
      "metadata": {
        "id": "lmN4ejIJ0FAA"
      },
      "id": "lmN4ejIJ0FAA",
      "execution_count": 27,
      "outputs": []
    },
    {
      "cell_type": "code",
      "execution_count": 28,
      "id": "3dbb7eb7",
      "metadata": {
        "id": "3dbb7eb7"
      },
      "outputs": [],
      "source": [
        "#convolution\n",
        "from keras.regularizers import l2\n",
        "cnn=tf.keras.models.Sequential()\n",
        "cnn.add(tf.keras.layers.Conv2D(filters=32,kernel_size=3,activation='relu',input_shape=[64,64,3],\n",
        "                               kernel_regularizer=l2(0.01), bias_regularizer=l2(0.01)))\n",
        "\n",
        "\n",
        "\n"
      ]
    },
    {
      "cell_type": "code",
      "execution_count": 29,
      "id": "117aee61",
      "metadata": {
        "id": "117aee61"
      },
      "outputs": [],
      "source": [
        "#Pooling\n",
        "cnn.add(tf.keras.layers.MaxPool2D(pool_size=2,strides=2))\n",
        "cnn.add(tf.keras.layers.Dropout(0.3))"
      ]
    },
    {
      "cell_type": "code",
      "execution_count": 30,
      "id": "12fe5b66",
      "metadata": {
        "id": "12fe5b66"
      },
      "outputs": [],
      "source": [
        "#add one more layer\n",
        "cnn.add(tf.keras.layers.Conv2D(filters=32,kernel_size=3,activation='relu',input_shape=[64,64,3],\n",
        "       kernel_regularizer=l2(0.01), bias_regularizer=l2(0.01)))\n",
        "cnn.add(tf.keras.layers.Dropout(0.2))\n",
        "cnn.add(tf.keras.layers.MaxPool2D(pool_size=2,strides=2))\n",
        "cnn.add(tf.keras.layers.Dropout(0.2))"
      ]
    },
    {
      "cell_type": "code",
      "source": [
        "cnn.add(tf.keras.layers.Conv2D(filters=64,kernel_size=3,activation='relu',input_shape=[64,64,3],\n",
        "       kernel_regularizer=l2(0.01), bias_regularizer=l2(0.01)))\n",
        "cnn.add(tf.keras.layers.MaxPool2D(pool_size=2,strides=2))\n"
      ],
      "metadata": {
        "id": "m1zTFHo0z1Fj"
      },
      "id": "m1zTFHo0z1Fj",
      "execution_count": 31,
      "outputs": []
    },
    {
      "cell_type": "code",
      "execution_count": 32,
      "id": "8785d9e5",
      "metadata": {
        "id": "8785d9e5"
      },
      "outputs": [],
      "source": [
        "#Flatten\n",
        "cnn.add(tf.keras.layers.Flatten())"
      ]
    },
    {
      "cell_type": "code",
      "execution_count": 33,
      "id": "be8ddd39",
      "metadata": {
        "id": "be8ddd39"
      },
      "outputs": [],
      "source": [
        "#Full Connection\n",
        "cnn.add(tf.keras.layers.Dense(units=128,activation='relu'))\n",
        "cnn.add(tf.keras.layers.Dropout(0.2))\n",
        "cnn.add(tf.keras.layers.Dense(units=64,activation='relu'))"
      ]
    },
    {
      "cell_type": "code",
      "execution_count": 34,
      "id": "af2008fd",
      "metadata": {
        "id": "af2008fd"
      },
      "outputs": [],
      "source": [
        "#Output layer\n",
        "cnn.add(tf.keras.layers.Dense(units=2,activation='sigmoid'))"
      ]
    },
    {
      "cell_type": "code",
      "execution_count": 35,
      "id": "d96484c3",
      "metadata": {
        "id": "d96484c3"
      },
      "outputs": [],
      "source": [
        "#Compile the model\n",
        "cnn.compile(optimizer='adam',\n",
        "    loss='binary_crossentropy',\n",
        "    metrics=['accuracy'])"
      ]
    },
    {
      "cell_type": "code",
      "execution_count": 36,
      "id": "8bc592d6",
      "metadata": {
        "id": "8bc592d6",
        "outputId": "04454cd6-a463-4c47-cbf3-020b2f0fbea2",
        "colab": {
          "base_uri": "https://localhost:8080/"
        }
      },
      "outputs": [
        {
          "output_type": "stream",
          "name": "stdout",
          "text": [
            "Model: \"sequential_3\"\n",
            "_________________________________________________________________\n",
            " Layer (type)                Output Shape              Param #   \n",
            "=================================================================\n",
            " conv2d (Conv2D)             (None, 62, 62, 32)        896       \n",
            "                                                                 \n",
            " max_pooling2d (MaxPooling2D  (None, 31, 31, 32)       0         \n",
            " )                                                               \n",
            "                                                                 \n",
            " dropout (Dropout)           (None, 31, 31, 32)        0         \n",
            "                                                                 \n",
            " conv2d_1 (Conv2D)           (None, 29, 29, 32)        9248      \n",
            "                                                                 \n",
            " dropout_1 (Dropout)         (None, 29, 29, 32)        0         \n",
            "                                                                 \n",
            " max_pooling2d_1 (MaxPooling  (None, 14, 14, 32)       0         \n",
            " 2D)                                                             \n",
            "                                                                 \n",
            " dropout_2 (Dropout)         (None, 14, 14, 32)        0         \n",
            "                                                                 \n",
            " conv2d_2 (Conv2D)           (None, 12, 12, 64)        18496     \n",
            "                                                                 \n",
            " max_pooling2d_2 (MaxPooling  (None, 6, 6, 64)         0         \n",
            " 2D)                                                             \n",
            "                                                                 \n",
            " flatten (Flatten)           (None, 2304)              0         \n",
            "                                                                 \n",
            " dense (Dense)               (None, 128)               295040    \n",
            "                                                                 \n",
            " dropout_3 (Dropout)         (None, 128)               0         \n",
            "                                                                 \n",
            " dense_1 (Dense)             (None, 64)                8256      \n",
            "                                                                 \n",
            " dense_2 (Dense)             (None, 2)                 130       \n",
            "                                                                 \n",
            "=================================================================\n",
            "Total params: 332,066\n",
            "Trainable params: 332,066\n",
            "Non-trainable params: 0\n",
            "_________________________________________________________________\n"
          ]
        }
      ],
      "source": [
        "cnn.summary()"
      ]
    },
    {
      "cell_type": "code",
      "execution_count": null,
      "id": "afa10b06",
      "metadata": {
        "id": "afa10b06",
        "outputId": "d5e794e3-6460-44b2-ccd4-3b6afc22d0d8",
        "colab": {
          "base_uri": "https://localhost:8080/"
        }
      },
      "outputs": [
        {
          "output_type": "stream",
          "name": "stdout",
          "text": [
            "Epoch 1/50\n",
            "41/41 [==============================] - 6s 156ms/step - loss: 0.1759 - accuracy: 0.9588 - val_loss: 0.1730 - val_accuracy: 0.9488\n",
            "Epoch 2/50\n",
            "41/41 [==============================] - 6s 152ms/step - loss: 0.1839 - accuracy: 0.9504 - val_loss: 0.1624 - val_accuracy: 0.9581\n",
            "Epoch 3/50\n",
            "41/41 [==============================] - 6s 154ms/step - loss: 0.1652 - accuracy: 0.9679 - val_loss: 0.2527 - val_accuracy: 0.9256\n",
            "Epoch 4/50\n",
            "41/41 [==============================] - 6s 155ms/step - loss: 0.2106 - accuracy: 0.9420 - val_loss: 0.1915 - val_accuracy: 0.9535\n",
            "Epoch 5/50\n",
            "41/41 [==============================] - 6s 152ms/step - loss: 0.1903 - accuracy: 0.9595 - val_loss: 0.2108 - val_accuracy: 0.9581\n",
            "Epoch 6/50\n",
            "41/41 [==============================] - 6s 154ms/step - loss: 0.1812 - accuracy: 0.9611 - val_loss: 0.1695 - val_accuracy: 0.9581\n",
            "Epoch 7/50\n",
            "41/41 [==============================] - 6s 152ms/step - loss: 0.1656 - accuracy: 0.9679 - val_loss: 0.1731 - val_accuracy: 0.9581\n",
            "Epoch 8/50\n",
            "41/41 [==============================] - 6s 153ms/step - loss: 0.1863 - accuracy: 0.9550 - val_loss: 0.1719 - val_accuracy: 0.9628\n",
            "Epoch 9/50\n",
            "41/41 [==============================] - 6s 153ms/step - loss: 0.1877 - accuracy: 0.9550 - val_loss: 0.1581 - val_accuracy: 0.9674\n",
            "Epoch 10/50\n",
            "41/41 [==============================] - 6s 153ms/step - loss: 0.1798 - accuracy: 0.9573 - val_loss: 0.2032 - val_accuracy: 0.9581\n",
            "Epoch 11/50\n",
            "41/41 [==============================] - 6s 152ms/step - loss: 0.1918 - accuracy: 0.9458 - val_loss: 0.1899 - val_accuracy: 0.9535\n",
            "Epoch 12/50\n",
            "41/41 [==============================] - 6s 152ms/step - loss: 0.1851 - accuracy: 0.9534 - val_loss: 0.1808 - val_accuracy: 0.9628\n",
            "Epoch 13/50\n",
            "41/41 [==============================] - 6s 153ms/step - loss: 0.1738 - accuracy: 0.9565 - val_loss: 0.1676 - val_accuracy: 0.9628\n",
            "Epoch 14/50\n",
            "41/41 [==============================] - 6s 157ms/step - loss: 0.2151 - accuracy: 0.9466 - val_loss: 0.1879 - val_accuracy: 0.9628\n",
            "Epoch 15/50\n",
            "41/41 [==============================] - 6s 154ms/step - loss: 0.1902 - accuracy: 0.9588 - val_loss: 0.1573 - val_accuracy: 0.9674\n",
            "Epoch 16/50\n",
            "41/41 [==============================] - 6s 154ms/step - loss: 0.1709 - accuracy: 0.9603 - val_loss: 0.1552 - val_accuracy: 0.9721\n",
            "Epoch 17/50\n",
            "41/41 [==============================] - 6s 154ms/step - loss: 0.1602 - accuracy: 0.9641 - val_loss: 0.1471 - val_accuracy: 0.9628\n",
            "Epoch 18/50\n",
            "41/41 [==============================] - 6s 153ms/step - loss: 0.1933 - accuracy: 0.9511 - val_loss: 0.1524 - val_accuracy: 0.9628\n",
            "Epoch 19/50\n",
            "41/41 [==============================] - 6s 153ms/step - loss: 0.2133 - accuracy: 0.9389 - val_loss: 0.1780 - val_accuracy: 0.9535\n",
            "Epoch 20/50\n",
            "41/41 [==============================] - 6s 153ms/step - loss: 0.1616 - accuracy: 0.9664 - val_loss: 0.1455 - val_accuracy: 0.9674\n",
            "Epoch 21/50\n",
            "41/41 [==============================] - 6s 153ms/step - loss: 0.1759 - accuracy: 0.9557 - val_loss: 0.1698 - val_accuracy: 0.9628\n",
            "Epoch 22/50\n",
            "41/41 [==============================] - 6s 153ms/step - loss: 0.1762 - accuracy: 0.9565 - val_loss: 0.1629 - val_accuracy: 0.9581\n",
            "Epoch 23/50\n",
            "41/41 [==============================] - 6s 154ms/step - loss: 0.1819 - accuracy: 0.9557 - val_loss: 0.1511 - val_accuracy: 0.9628\n",
            "Epoch 24/50\n",
            "41/41 [==============================] - 6s 151ms/step - loss: 0.1818 - accuracy: 0.9656 - val_loss: 0.1495 - val_accuracy: 0.9674\n",
            "Epoch 25/50\n",
            "41/41 [==============================] - 6s 152ms/step - loss: 0.1539 - accuracy: 0.9718 - val_loss: 0.1391 - val_accuracy: 0.9674\n",
            "Epoch 26/50\n",
            "41/41 [==============================] - 6s 153ms/step - loss: 0.1696 - accuracy: 0.9595 - val_loss: 0.1719 - val_accuracy: 0.9721\n",
            "Epoch 27/50\n",
            "41/41 [==============================] - 6s 153ms/step - loss: 0.1939 - accuracy: 0.9565 - val_loss: 0.1661 - val_accuracy: 0.9628\n",
            "Epoch 28/50\n",
            "41/41 [==============================] - 6s 153ms/step - loss: 0.1611 - accuracy: 0.9695 - val_loss: 0.1429 - val_accuracy: 0.9721\n",
            "Epoch 29/50\n",
            "41/41 [==============================] - 6s 153ms/step - loss: 0.1772 - accuracy: 0.9634 - val_loss: 0.1539 - val_accuracy: 0.9674\n",
            "Epoch 30/50\n",
            "41/41 [==============================] - 6s 152ms/step - loss: 0.1795 - accuracy: 0.9573 - val_loss: 0.1750 - val_accuracy: 0.9581\n",
            "Epoch 31/50\n",
            "41/41 [==============================] - 6s 153ms/step - loss: 0.1803 - accuracy: 0.9595 - val_loss: 0.1831 - val_accuracy: 0.9581\n",
            "Epoch 32/50\n",
            "41/41 [==============================] - 6s 154ms/step - loss: 0.1620 - accuracy: 0.9618 - val_loss: 0.1544 - val_accuracy: 0.9767\n",
            "Epoch 33/50\n",
            "41/41 [==============================] - 6s 153ms/step - loss: 0.1596 - accuracy: 0.9656 - val_loss: 0.1699 - val_accuracy: 0.9628\n",
            "Epoch 34/50\n",
            "41/41 [==============================] - 6s 152ms/step - loss: 0.1392 - accuracy: 0.9748 - val_loss: 0.1520 - val_accuracy: 0.9674\n",
            "Epoch 35/50\n",
            "41/41 [==============================] - 6s 153ms/step - loss: 0.1711 - accuracy: 0.9580 - val_loss: 0.1753 - val_accuracy: 0.9721\n",
            "Epoch 36/50\n",
            "41/41 [==============================] - 6s 152ms/step - loss: 0.1718 - accuracy: 0.9603 - val_loss: 0.2044 - val_accuracy: 0.9581\n",
            "Epoch 37/50\n",
            "41/41 [==============================] - 6s 151ms/step - loss: 0.1703 - accuracy: 0.9603 - val_loss: 0.1493 - val_accuracy: 0.9581\n",
            "Epoch 38/50\n",
            "41/41 [==============================] - 6s 153ms/step - loss: 0.1860 - accuracy: 0.9504 - val_loss: 0.1575 - val_accuracy: 0.9581\n",
            "Epoch 39/50\n",
            "41/41 [==============================] - 6s 152ms/step - loss: 0.1504 - accuracy: 0.9702 - val_loss: 0.1529 - val_accuracy: 0.9674\n",
            "Epoch 40/50\n",
            "41/41 [==============================] - 6s 158ms/step - loss: 0.1846 - accuracy: 0.9534 - val_loss: 0.1572 - val_accuracy: 0.9721\n",
            "Epoch 41/50\n",
            "41/41 [==============================] - 6s 156ms/step - loss: 0.1556 - accuracy: 0.9702 - val_loss: 0.1528 - val_accuracy: 0.9674\n",
            "Epoch 42/50\n",
            "41/41 [==============================] - 6s 150ms/step - loss: 0.1701 - accuracy: 0.9618 - val_loss: 0.1379 - val_accuracy: 0.9767\n",
            "Epoch 43/50\n",
            "41/41 [==============================] - 6s 151ms/step - loss: 0.1406 - accuracy: 0.9771 - val_loss: 0.1370 - val_accuracy: 0.9674\n",
            "Epoch 44/50\n",
            "41/41 [==============================] - 6s 151ms/step - loss: 0.1655 - accuracy: 0.9656 - val_loss: 0.1337 - val_accuracy: 0.9814\n",
            "Epoch 45/50\n",
            "41/41 [==============================] - 6s 152ms/step - loss: 0.1585 - accuracy: 0.9626 - val_loss: 0.1426 - val_accuracy: 0.9721\n",
            "Epoch 46/50\n",
            "41/41 [==============================] - 7s 161ms/step - loss: 0.1509 - accuracy: 0.9718 - val_loss: 0.1671 - val_accuracy: 0.9628\n",
            "Epoch 47/50\n",
            "41/41 [==============================] - 6s 158ms/step - loss: 0.1598 - accuracy: 0.9649 - val_loss: 0.1404 - val_accuracy: 0.9628\n",
            "Epoch 48/50\n",
            "41/41 [==============================] - 6s 156ms/step - loss: 0.1684 - accuracy: 0.9634 - val_loss: 0.1395 - val_accuracy: 0.9767\n",
            "Epoch 49/50\n",
            "41/41 [==============================] - 8s 197ms/step - loss: 0.1610 - accuracy: 0.9679 - val_loss: 0.1622 - val_accuracy: 0.9628\n",
            "Epoch 50/50\n",
            "41/41 [==============================] - 6s 157ms/step - loss: 0.1595 - accuracy: 0.9664 - val_loss: 0.1457 - val_accuracy: 0.9628\n"
          ]
        }
      ],
      "source": [
        "history=cnn.fit(x=train_generator,validation_data=validation_generator,epochs=50)"
      ]
    },
    {
      "cell_type": "code",
      "source": [
        "import tensorflow as tf\n",
        "from tensorflow import keras\n",
        "model=cnn\n",
        "model.save('/content/drive/MyDrive/camera/cnnmodel.h5')"
      ],
      "metadata": {
        "id": "GmUCUfVsLtqZ"
      },
      "id": "GmUCUfVsLtqZ",
      "execution_count": 37,
      "outputs": []
    },
    {
      "cell_type": "code",
      "source": [
        "from tensorflow import keras\n",
        "model = keras.models.load_model('/content/drive/MyDrive/camera/cnnmodel.h5')"
      ],
      "metadata": {
        "id": "sDNN2be6Mm-F"
      },
      "id": "sDNN2be6Mm-F",
      "execution_count": 38,
      "outputs": []
    },
    {
      "cell_type": "code",
      "source": [
        "Y_pred = model.predict_generator(validation_generator)\n",
        "y_pred = np.argmax(Y_pred, axis=1)\n",
        "print('Confusion Matrix')\n",
        "print(confusion_matrix(validation_generator.classes, y_pred))\n",
        "print('Classification Report')\n",
        "target_names = ['no_yawn','yawn']\n",
        "print(classification_report(validation_generator.classes, y_pred, target_names=target_names))"
      ],
      "metadata": {
        "id": "LygxjvTVPMK0",
        "outputId": "3ac0a8ad-31bb-46d6-9dd6-8dcfc2a3b272",
        "colab": {
          "base_uri": "https://localhost:8080/",
          "height": 307
        }
      },
      "id": "LygxjvTVPMK0",
      "execution_count": 39,
      "outputs": [
        {
          "output_type": "stream",
          "name": "stderr",
          "text": [
            "/usr/local/lib/python3.7/dist-packages/ipykernel_launcher.py:1: UserWarning: `Model.predict_generator` is deprecated and will be removed in a future version. Please use `Model.predict`, which supports generators.\n",
            "  \"\"\"Entry point for launching an IPython kernel.\n"
          ]
        },
        {
          "output_type": "stream",
          "name": "stdout",
          "text": [
            "Confusion Matrix\n"
          ]
        },
        {
          "output_type": "error",
          "ename": "NameError",
          "evalue": "ignored",
          "traceback": [
            "\u001b[0;31m---------------------------------------------------------------------------\u001b[0m",
            "\u001b[0;31mNameError\u001b[0m                                 Traceback (most recent call last)",
            "\u001b[0;32m<ipython-input-39-94ec9c85fccc>\u001b[0m in \u001b[0;36m<module>\u001b[0;34m()\u001b[0m\n\u001b[1;32m      2\u001b[0m \u001b[0my_pred\u001b[0m \u001b[0;34m=\u001b[0m \u001b[0mnp\u001b[0m\u001b[0;34m.\u001b[0m\u001b[0margmax\u001b[0m\u001b[0;34m(\u001b[0m\u001b[0mY_pred\u001b[0m\u001b[0;34m,\u001b[0m \u001b[0maxis\u001b[0m\u001b[0;34m=\u001b[0m\u001b[0;36m1\u001b[0m\u001b[0;34m)\u001b[0m\u001b[0;34m\u001b[0m\u001b[0;34m\u001b[0m\u001b[0m\n\u001b[1;32m      3\u001b[0m \u001b[0mprint\u001b[0m\u001b[0;34m(\u001b[0m\u001b[0;34m'Confusion Matrix'\u001b[0m\u001b[0;34m)\u001b[0m\u001b[0;34m\u001b[0m\u001b[0;34m\u001b[0m\u001b[0m\n\u001b[0;32m----> 4\u001b[0;31m \u001b[0mprint\u001b[0m\u001b[0;34m(\u001b[0m\u001b[0mconfusion_matrix\u001b[0m\u001b[0;34m(\u001b[0m\u001b[0mvalidation_generator\u001b[0m\u001b[0;34m.\u001b[0m\u001b[0mclasses\u001b[0m\u001b[0;34m,\u001b[0m \u001b[0my_pred\u001b[0m\u001b[0;34m)\u001b[0m\u001b[0;34m)\u001b[0m\u001b[0;34m\u001b[0m\u001b[0;34m\u001b[0m\u001b[0m\n\u001b[0m\u001b[1;32m      5\u001b[0m \u001b[0mprint\u001b[0m\u001b[0;34m(\u001b[0m\u001b[0;34m'Classification Report'\u001b[0m\u001b[0;34m)\u001b[0m\u001b[0;34m\u001b[0m\u001b[0;34m\u001b[0m\u001b[0m\n\u001b[1;32m      6\u001b[0m \u001b[0mtarget_names\u001b[0m \u001b[0;34m=\u001b[0m \u001b[0;34m[\u001b[0m\u001b[0;34m'no_yawn'\u001b[0m\u001b[0;34m,\u001b[0m\u001b[0;34m'yawn'\u001b[0m\u001b[0;34m]\u001b[0m\u001b[0;34m\u001b[0m\u001b[0;34m\u001b[0m\u001b[0m\n",
            "\u001b[0;31mNameError\u001b[0m: name 'confusion_matrix' is not defined"
          ]
        }
      ]
    },
    {
      "cell_type": "code",
      "source": [
        "from sklearn.metrics import confusion_matrix, ConfusionMatrixDisplay\n",
        "cm= confusion_matrix(validation_generator.classes, y_pred)"
      ],
      "metadata": {
        "id": "8vwbUGKcQ7ki"
      },
      "id": "8vwbUGKcQ7ki",
      "execution_count": null,
      "outputs": []
    },
    {
      "cell_type": "code",
      "source": [
        "disp = ConfusionMatrixDisplay(confusion_matrix=cm,display_labels=target_names)\n",
        "disp.plot()\n",
        "plt.show()"
      ],
      "metadata": {
        "id": "TkEhJRT0REk5",
        "outputId": "c02784dc-2f91-4b48-c34a-7fa82179642f",
        "colab": {
          "base_uri": "https://localhost:8080/",
          "height": 283
        }
      },
      "id": "TkEhJRT0REk5",
      "execution_count": null,
      "outputs": [
        {
          "output_type": "display_data",
          "data": {
            "text/plain": [
              "<Figure size 432x288 with 2 Axes>"
            ],
            "image/png": "[encoded data removed]"
          },
          "metadata": {
            "needs_background": "light"
          }
        }
      ]
    },
    {
      "cell_type": "code",
      "execution_count": null,
      "id": "76e46d62",
      "metadata": {
        "id": "76e46d62",
        "outputId": "fb6e7c76-a655-40e7-a549-f32adf92b6fb",
        "colab": {
          "base_uri": "https://localhost:8080/",
          "height": 282
        }
      },
      "outputs": [
        {
          "output_type": "stream",
          "name": "stdout",
          "text": [
            "dict_keys(['loss', 'accuracy', 'val_loss', 'val_accuracy'])\n"
          ]
        },
        {
          "output_type": "display_data",
          "data": {
            "text/plain": [
              "<Figure size 432x288 with 1 Axes>"
            ],
            "image/png": "[encoded data removed]"
          },
          "metadata": {
            "needs_background": "light"
          }
        }
      ],
      "source": [
        "import matplotlib.pyplot as plt\n",
        "print(history.history.keys())\n",
        "plt.plot(history.history['accuracy'])\n",
        "plt.plot(history.history['val_accuracy'])\n",
        "\n",
        "plt.show()"
      ]
    },
    {
      "cell_type": "code",
      "source": [
        "plt.plot(history.history['loss'])\n",
        "plt.plot(history.history['val_loss'])"
      ],
      "metadata": {
        "colab": {
          "base_uri": "https://localhost:8080/",
          "height": 282
        },
        "id": "DGmbQ4SGtFvY",
        "outputId": "e503b54e-aa22-496b-de44-450ef0f1413b"
      },
      "id": "DGmbQ4SGtFvY",
      "execution_count": null,
      "outputs": [
        {
          "output_type": "execute_result",
          "data": {
            "text/plain": [
              "[<matplotlib.lines.Line2D at 0x7fb4d88f7610>]"
            ]
          },
          "metadata": {},
          "execution_count": 30
        },
        {
          "output_type": "display_data",
          "data": {
            "text/plain": [
              "<Figure size 432x288 with 1 Axes>"
            ],
            "image/png": "[encoded data removed]"
          },
          "metadata": {
            "needs_background": "light"
          }
        }
      ]
    },
    {
      "cell_type": "code",
      "source": [
        ""
      ],
      "metadata": {
        "id": "Q4hVyb6m3_8p"
      },
      "id": "Q4hVyb6m3_8p",
      "execution_count": null,
      "outputs": []
    },
    {
      "cell_type": "code",
      "execution_count": null,
      "id": "182f9698",
      "metadata": {
        "id": "182f9698"
      },
      "outputs": [],
      "source": [
        "import numpy as np\n",
        "from keras.preprocessing import image\n",
        "test_image=image.load_img('/content/drive/MyDrive/drowsiness_cropped (1)/drowsiness_cropped/test/no_yawn/test_images_noyawn1.jpg',target_size=(64,64))\n",
        "\n",
        "test_image=image.img_to_array(test_image)\n",
        "test_image=np.expand_dims(test_image,axis=0)\n",
        "result=cnn.predict(test_image)\n",
        "train_generator.class_indices\n",
        "if result[0][0]==1:\n",
        "    prediction='yawn'\n",
        "if result[0][1]==1:\n",
        "    prediction='no yawn'"
      ]
    },
    {
      "cell_type": "code",
      "execution_count": null,
      "id": "f84a3583",
      "metadata": {
        "id": "f84a3583",
        "outputId": "b837b0c3-e4f4-4fc8-f6a1-4d4d6d801524",
        "colab": {
          "base_uri": "https://localhost:8080/",
          "height": 36
        }
      },
      "outputs": [
        {
          "output_type": "execute_result",
          "data": {
            "text/plain": [
              "'no yawn'"
            ],
            "application/vnd.google.colaboratory.intrinsic+json": {
              "type": "string"
            }
          },
          "metadata": {},
          "execution_count": 65
        }
      ],
      "source": [
        "prediction"
      ]
    },
    {
      "cell_type": "code",
      "execution_count": null,
      "id": "49fec89e",
      "metadata": {
        "id": "49fec89e",
        "outputId": "7f04eeb8-2778-432f-cc4b-cbda7df25f94",
        "colab": {
          "base_uri": "https://localhost:8080/"
        }
      },
      "outputs": [
        {
          "output_type": "execute_result",
          "data": {
            "text/plain": [
              "{'no_yawn': 0, 'yawn': 1}"
            ]
          },
          "metadata": {},
          "execution_count": 66
        }
      ],
      "source": [
        " train_generator.class_indices\n",
        "    "
      ]
    },
    {
      "cell_type": "code",
      "execution_count": null,
      "id": "6d75b755",
      "metadata": {
        "id": "6d75b755",
        "outputId": "be5ef60f-c56b-4f93-9306-a99e9f125279",
        "colab": {
          "base_uri": "https://localhost:8080/"
        }
      },
      "outputs": [
        {
          "output_type": "execute_result",
          "data": {
            "text/plain": [
              "array([[0., 1.]], dtype=float32)"
            ]
          },
          "metadata": {},
          "execution_count": 67
        }
      ],
      "source": [
        "result\n"
      ]
    },
    {
      "cell_type": "code",
      "source": [
        "from keras.layers import Input, Lambda, Dense, Flatten\n",
        "from keras.models import Model\n",
        "from keras.applications.vgg16 import VGG16\n",
        "from keras.applications.vgg16 import preprocess_input\n",
        "from keras.preprocessing import image\n",
        "from keras.preprocessing.image import ImageDataGenerator\n",
        "from keras.models import Sequential\n",
        "import numpy as np\n",
        "from glob import glob\n",
        "import matplotlib.pyplot as pl"
      ],
      "metadata": {
        "id": "oX9zzUKH6Sfc"
      },
      "id": "oX9zzUKH6Sfc",
      "execution_count": 48,
      "outputs": []
    },
    {
      "cell_type": "code",
      "source": [
        "image_size = [224,224]"
      ],
      "metadata": {
        "id": "E5cIucIsxnyg"
      },
      "id": "E5cIucIsxnyg",
      "execution_count": 49,
      "outputs": []
    },
    {
      "cell_type": "code",
      "source": [
        "train_path = '/content/drive/MyDrive/drowsiness_cropped (1)/drowsiness_cropped/train'\n",
        "valid_path = '/content/drive/MyDrive/drowsiness_cropped (1)/drowsiness_cropped/test'"
      ],
      "metadata": {
        "id": "PYgl96tszdKD"
      },
      "id": "PYgl96tszdKD",
      "execution_count": 50,
      "outputs": []
    },
    {
      "cell_type": "code",
      "source": [
        "# Add the image to a batch\n",
        "from keras.preprocessing import image\n",
        "from tensorflow.keras import layers\n",
        "im=tf.keras.preprocessing.image_dataset_from_directory(\"/content/drive/MyDrive/drowsiness_cropped (1)/drowsiness_cropped/test\")"
      ],
      "metadata": {
        "id": "pUPCaU-q9ylg",
        "outputId": "6bd658ff-7d72-46f0-81e4-d38f131108ee",
        "colab": {
          "base_uri": "https://localhost:8080/"
        }
      },
      "id": "pUPCaU-q9ylg",
      "execution_count": 51,
      "outputs": [
        {
          "output_type": "stream",
          "name": "stdout",
          "text": [
            "Found 215 files belonging to 2 classes.\n"
          ]
        }
      ]
    },
    {
      "cell_type": "code",
      "source": [
        "data_augmentation = tf.keras.Sequential([\n",
        "  layers.RandomFlip(\"horizontal_and_vertical\"),\n",
        "  layers.RandomRotation(0.2),\n",
        "])\n",
        "\n",
        "# Add the image to a batch.\n",
        "image = tf.cast(tf.expand_dims(n, 0), tf.float32)\n",
        "\n",
        "plt.figure(figsize=(10, 10))\n",
        "for i in range(9):\n",
        "  augmented_image = data_augmentation(image)\n",
        "  ax = plt.subplot(3, 3, i + 1)\n",
        "  plt.imshow(augmented_image[0])\n",
        "  plt.axis(\"off\")"
      ],
      "metadata": {
        "id": "MBDmkSCb91ke",
        "outputId": "5b20bd6f-f617-4455-fd78-2d7772f10caf",
        "colab": {
          "base_uri": "https://localhost:8080/",
          "height": 694
        }
      },
      "id": "MBDmkSCb91ke",
      "execution_count": 52,
      "outputs": [
        {
          "output_type": "stream",
          "name": "stderr",
          "text": [
            "Clipping input data to the valid range for imshow with RGB data ([0..1] for floats or [0..255] for integers).\n",
            "Clipping input data to the valid range for imshow with RGB data ([0..1] for floats or [0..255] for integers).\n",
            "Clipping input data to the valid range for imshow with RGB data ([0..1] for floats or [0..255] for integers).\n",
            "Clipping input data to the valid range for imshow with RGB data ([0..1] for floats or [0..255] for integers).\n",
            "Clipping input data to the valid range for imshow with RGB data ([0..1] for floats or [0..255] for integers).\n",
            "Clipping input data to the valid range for imshow with RGB data ([0..1] for floats or [0..255] for integers).\n",
            "Clipping input data to the valid range for imshow with RGB data ([0..1] for floats or [0..255] for integers).\n",
            "Clipping input data to the valid range for imshow with RGB data ([0..1] for floats or [0..255] for integers).\n",
            "Clipping input data to the valid range for imshow with RGB data ([0..1] for floats or [0..255] for integers).\n"
          ]
        },
        {
          "output_type": "display_data",
          "data": {
            "text/plain": [
              "<Figure size 720x720 with 9 Axes>"
            ],
            "image/png": "[encoded data removed]"
          },
          "metadata": {
            "needs_background": "light"
          }
        }
      ]
    },
    {
      "cell_type": "code",
      "source": [
        "im=tf.keras.preprocessing.image_dataset_from_directory(\"/content/drive/MyDrive/drowsiness_cropped (1)/drowsiness_cropped/train\")"
      ],
      "metadata": {
        "id": "mP40CpP77Iel",
        "outputId": "1758af71-a660-4f4a-f62d-3a80d100e57d",
        "colab": {
          "base_uri": "https://localhost:8080/"
        }
      },
      "execution_count": 53,
      "outputs": [
        {
          "output_type": "stream",
          "name": "stdout",
          "text": [
            "Found 1310 files belonging to 2 classes.\n"
          ]
        }
      ],
      "id": "mP40CpP77Iel"
    },
    {
      "cell_type": "code",
      "source": [
        "data_augmentation = tf.keras.Sequential([\n",
        "  layers.RandomFlip(\"horizontal_and_vertical\"),\n",
        "  layers.RandomRotation(0.2),\n",
        "])\n",
        "\n",
        "# Add the image to a batch.\n",
        "image = tf.cast(tf.expand_dims(n, 0), tf.float32)\n",
        "\n",
        "plt.figure(figsize=(10, 10))\n",
        "for i in range(9):\n",
        "  augmented_image = data_augmentation(image)\n",
        "  ax = plt.subplot(3, 3, i + 1)\n",
        "  plt.imshow(augmented_image[0])\n",
        "  plt.axis(\"off\")"
      ],
      "metadata": {
        "id": "bRpCPaiu-kwd",
        "outputId": "eaaa3c70-9a69-42b5-8103-a34c982456d6",
        "colab": {
          "base_uri": "https://localhost:8080/",
          "height": 694
        }
      },
      "id": "bRpCPaiu-kwd",
      "execution_count": 54,
      "outputs": [
        {
          "output_type": "stream",
          "name": "stderr",
          "text": [
            "Clipping input data to the valid range for imshow with RGB data ([0..1] for floats or [0..255] for integers).\n",
            "Clipping input data to the valid range for imshow with RGB data ([0..1] for floats or [0..255] for integers).\n",
            "Clipping input data to the valid range for imshow with RGB data ([0..1] for floats or [0..255] for integers).\n",
            "Clipping input data to the valid range for imshow with RGB data ([0..1] for floats or [0..255] for integers).\n",
            "Clipping input data to the valid range for imshow with RGB data ([0..1] for floats or [0..255] for integers).\n",
            "Clipping input data to the valid range for imshow with RGB data ([0..1] for floats or [0..255] for integers).\n",
            "Clipping input data to the valid range for imshow with RGB data ([0..1] for floats or [0..255] for integers).\n",
            "Clipping input data to the valid range for imshow with RGB data ([0..1] for floats or [0..255] for integers).\n",
            "Clipping input data to the valid range for imshow with RGB data ([0..1] for floats or [0..255] for integers).\n"
          ]
        },
        {
          "output_type": "display_data",
          "data": {
            "text/plain": [
              "<Figure size 720x720 with 9 Axes>"
            ],
            "image/png": "[encoded data removed]"
          },
          "metadata": {
            "needs_background": "light"
          }
        }
      ]
    },
    {
      "cell_type": "code",
      "source": [
        "vgg = VGG16(input_shape=image_size + [3], weights='imagenet', include_top=False)"
      ],
      "metadata": {
        "id": "PF2PK0Ya6exS",
        "outputId": "6180ba1a-0e9e-4ec1-e502-23c0d536c12b",
        "colab": {
          "base_uri": "https://localhost:8080/"
        }
      },
      "id": "PF2PK0Ya6exS",
      "execution_count": 55,
      "outputs": [
        {
          "output_type": "stream",
          "name": "stdout",
          "text": [
            "Downloading data from https://storage.googleapis.com/tensorflow/keras-applications/vgg16/vgg16_weights_tf_dim_ordering_tf_kernels_notop.h5\n",
            "58892288/58889256 [==============================] - 0s 0us/step\n",
            "58900480/58889256 [==============================] - 0s 0us/step\n"
          ]
        }
      ]
    },
    {
      "cell_type": "code",
      "source": [
        " # don't train existing weights\n",
        "for layer in vgg.layers:\n",
        "  layer.trainable = False"
      ],
      "metadata": {
        "id": "zHQezmpxz8PS"
      },
      "id": "zHQezmpxz8PS",
      "execution_count": 56,
      "outputs": []
    },
    {
      "cell_type": "code",
      "source": [
        "# useful for getting number of classes\n",
        "folders = glob(\"/content/drive/MyDrive/drowsiness_cropped (1)/drowsiness_cropped/train/*\")\n",
        "print(len(folders))"
      ],
      "metadata": {
        "id": "aQylmpIb0DEQ",
        "outputId": "ef6baa87-f89f-4a05-f736-660f39ef34bb",
        "colab": {
          "base_uri": "https://localhost:8080/"
        }
      },
      "id": "aQylmpIb0DEQ",
      "execution_count": 57,
      "outputs": [
        {
          "output_type": "stream",
          "name": "stdout",
          "text": [
            "2\n"
          ]
        }
      ]
    },
    {
      "cell_type": "code",
      "source": [
        "folders"
      ],
      "metadata": {
        "id": "DdVjkK2pOHvG",
        "outputId": "f28ba18c-de7d-497c-cb07-42fd2b19ec48",
        "colab": {
          "base_uri": "https://localhost:8080/"
        }
      },
      "id": "DdVjkK2pOHvG",
      "execution_count": 58,
      "outputs": [
        {
          "output_type": "execute_result",
          "data": {
            "text/plain": [
              "['/content/drive/MyDrive/drowsiness_cropped (1)/drowsiness_cropped/train/no_yawn',\n",
              " '/content/drive/MyDrive/drowsiness_cropped (1)/drowsiness_cropped/train/yawn']"
            ]
          },
          "metadata": {},
          "execution_count": 58
        }
      ]
    },
    {
      "cell_type": "code",
      "source": [
        "vgg.input"
      ],
      "metadata": {
        "id": "jmglcD7Y6kyp",
        "outputId": "197fd66b-3580-4dd3-9409-9fc807158830",
        "colab": {
          "base_uri": "https://localhost:8080/"
        }
      },
      "id": "jmglcD7Y6kyp",
      "execution_count": 59,
      "outputs": [
        {
          "output_type": "execute_result",
          "data": {
            "text/plain": [
              "<KerasTensor: shape=(None, 224, 224, 3) dtype=float32 (created by layer 'input_2')>"
            ]
          },
          "metadata": {},
          "execution_count": 59
        }
      ]
    },
    {
      "cell_type": "code",
      "source": [
        "for layer in vgg.layers:\n",
        "  layer.trainable = False"
      ],
      "metadata": {
        "id": "bUvK5W6o61ea"
      },
      "id": "bUvK5W6o61ea",
      "execution_count": 60,
      "outputs": []
    },
    {
      "cell_type": "code",
      "source": [
        "#  layers \n",
        "x = Flatten()(vgg.output)\n",
        "# x = Dense(1000, activation='relu')(x)\n",
        "prediction = Dense(len(folders), activation='softmax')(x)"
      ],
      "metadata": {
        "id": "8-4Dzy807FQR"
      },
      "id": "8-4Dzy807FQR",
      "execution_count": 61,
      "outputs": []
    },
    {
      "cell_type": "code",
      "source": [
        "x = Flatten()(vgg.output)\n",
        "# x = Dense(1000, activation='relu')(x)\n",
        "prediction = Dense(len(folders), activation='softmax')(x)"
      ],
      "metadata": {
        "id": "V6xB-qX44kWx"
      },
      "id": "V6xB-qX44kWx",
      "execution_count": 62,
      "outputs": []
    },
    {
      "cell_type": "code",
      "source": [
        "# create a model object\n",
        "model = Model(inputs=vgg.input, outputs=prediction)"
      ],
      "metadata": {
        "id": "qjR_VEaF0WP1"
      },
      "id": "qjR_VEaF0WP1",
      "execution_count": 63,
      "outputs": []
    },
    {
      "cell_type": "code",
      "source": [
        "# view the structure of the model\n",
        "model.summary()"
      ],
      "metadata": {
        "id": "hYertYv17M_i",
        "outputId": "5bd00f23-fc65-412d-cf89-34e143fa5a42",
        "colab": {
          "base_uri": "https://localhost:8080/"
        }
      },
      "id": "hYertYv17M_i",
      "execution_count": 64,
      "outputs": [
        {
          "output_type": "stream",
          "name": "stdout",
          "text": [
            "Model: \"model\"\n",
            "_________________________________________________________________\n",
            " Layer (type)                Output Shape              Param #   \n",
            "=================================================================\n",
            " input_2 (InputLayer)        [(None, 224, 224, 3)]     0         \n",
            "                                                                 \n",
            " block1_conv1 (Conv2D)       (None, 224, 224, 64)      1792      \n",
            "                                                                 \n",
            " block1_conv2 (Conv2D)       (None, 224, 224, 64)      36928     \n",
            "                                                                 \n",
            " block1_pool (MaxPooling2D)  (None, 112, 112, 64)      0         \n",
            "                                                                 \n",
            " block2_conv1 (Conv2D)       (None, 112, 112, 128)     73856     \n",
            "                                                                 \n",
            " block2_conv2 (Conv2D)       (None, 112, 112, 128)     147584    \n",
            "                                                                 \n",
            " block2_pool (MaxPooling2D)  (None, 56, 56, 128)       0         \n",
            "                                                                 \n",
            " block3_conv1 (Conv2D)       (None, 56, 56, 256)       295168    \n",
            "                                                                 \n",
            " block3_conv2 (Conv2D)       (None, 56, 56, 256)       590080    \n",
            "                                                                 \n",
            " block3_conv3 (Conv2D)       (None, 56, 56, 256)       590080    \n",
            "                                                                 \n",
            " block3_pool (MaxPooling2D)  (None, 28, 28, 256)       0         \n",
            "                                                                 \n",
            " block4_conv1 (Conv2D)       (None, 28, 28, 512)       1180160   \n",
            "                                                                 \n",
            " block4_conv2 (Conv2D)       (None, 28, 28, 512)       2359808   \n",
            "                                                                 \n",
            " block4_conv3 (Conv2D)       (None, 28, 28, 512)       2359808   \n",
            "                                                                 \n",
            " block4_pool (MaxPooling2D)  (None, 14, 14, 512)       0         \n",
            "                                                                 \n",
            " block5_conv1 (Conv2D)       (None, 14, 14, 512)       2359808   \n",
            "                                                                 \n",
            " block5_conv2 (Conv2D)       (None, 14, 14, 512)       2359808   \n",
            "                                                                 \n",
            " block5_conv3 (Conv2D)       (None, 14, 14, 512)       2359808   \n",
            "                                                                 \n",
            " block5_pool (MaxPooling2D)  (None, 7, 7, 512)         0         \n",
            "                                                                 \n",
            " flatten_2 (Flatten)         (None, 25088)             0         \n",
            "                                                                 \n",
            " dense_4 (Dense)             (None, 2)                 50178     \n",
            "                                                                 \n",
            "=================================================================\n",
            "Total params: 14,764,866\n",
            "Trainable params: 50,178\n",
            "Non-trainable params: 14,714,688\n",
            "_________________________________________________________________\n"
          ]
        }
      ]
    },
    {
      "cell_type": "code",
      "source": [
        "# tell the model what cost and optimization method to use\n",
        "model.compile(\n",
        "  loss='binary_crossentropy',\n",
        "  optimizer='adam',\n",
        "  metrics=['accuracy'])"
      ],
      "metadata": {
        "id": "N_2yznjT7X4K"
      },
      "id": "N_2yznjT7X4K",
      "execution_count": 65,
      "outputs": []
    },
    {
      "cell_type": "code",
      "source": [
        "from keras.preprocessing.image import ImageDataGenerator\n",
        "\n",
        "train_datagen = ImageDataGenerator(rescale = 1./255,\n",
        "                                   shear_range = 0.2,\n",
        "                                   zoom_range = 0.2,\n",
        "                                   horizontal_flip = True)"
      ],
      "metadata": {
        "id": "figeTDU17fq5"
      },
      "id": "figeTDU17fq5",
      "execution_count": 66,
      "outputs": []
    },
    {
      "cell_type": "code",
      "source": [
        "test_datagen = ImageDataGenerator(rescale = 1./255)\n",
        "\n",
        "training_set = train_datagen.flow_from_directory('/content/drive/MyDrive/drowsiness_cropped (1)/drowsiness_cropped/train',\n",
        "                                                 target_size = (224, 224),\n",
        "                                                 batch_size = 32,\n",
        "                                                 class_mode = 'binary')\n",
        "\n",
        "test_set = test_datagen.flow_from_directory('/content/drive/MyDrive/drowsiness_cropped (1)/drowsiness_cropped/test',\n",
        "                                            target_size = (224, 224),\n",
        "                                            batch_size = 32,\n",
        "                                            class_mode = 'binary')"
      ],
      "metadata": {
        "id": "J1L7fUpI7p85",
        "outputId": "99eb26e9-641a-4adc-bf15-c0a84fd686ac",
        "colab": {
          "base_uri": "https://localhost:8080/"
        }
      },
      "id": "J1L7fUpI7p85",
      "execution_count": 67,
      "outputs": [
        {
          "output_type": "stream",
          "name": "stdout",
          "text": [
            "Found 1310 images belonging to 2 classes.\n",
            "Found 215 images belonging to 2 classes.\n"
          ]
        }
      ]
    },
    {
      "cell_type": "code",
      "source": [
        "from tensorflow.keras.callbacks import EarlyStopping\n",
        "early_stopping = EarlyStopping(monitor=\"val_loss\", patience=20)"
      ],
      "metadata": {
        "id": "kc0g_-qhidfF"
      },
      "id": "kc0g_-qhidfF",
      "execution_count": 68,
      "outputs": []
    },
    {
      "cell_type": "code",
      "source": [
        "# early stopping\n",
        "\n",
        "history = model.fit_generator(\n",
        "  training_set,\n",
        "  validation_data=test_set,\n",
        "  epochs=25, callbacks=[early_stopping], verbose=2)"
      ],
      "metadata": {
        "id": "2xWlx2WNaznU",
        "outputId": "e37265a9-4613-42d3-e6cb-4b99959a319b",
        "colab": {
          "base_uri": "https://localhost:8080/",
          "height": 817
        }
      },
      "id": "2xWlx2WNaznU",
      "execution_count": 69,
      "outputs": [
        {
          "output_type": "stream",
          "name": "stderr",
          "text": [
            "/usr/local/lib/python3.7/dist-packages/ipykernel_launcher.py:6: UserWarning: `Model.fit_generator` is deprecated and will be removed in a future version. Please use `Model.fit`, which supports generators.\n",
            "  \n"
          ]
        },
        {
          "output_type": "stream",
          "name": "stdout",
          "text": [
            "Epoch 1/25\n"
          ]
        },
        {
          "output_type": "error",
          "ename": "ValueError",
          "evalue": "ignored",
          "traceback": [
            "\u001b[0;31m---------------------------------------------------------------------------\u001b[0m",
            "\u001b[0;31mValueError\u001b[0m                                Traceback (most recent call last)",
            "\u001b[0;32m<ipython-input-69-98c9ea025312>\u001b[0m in \u001b[0;36m<module>\u001b[0;34m()\u001b[0m\n\u001b[1;32m      4\u001b[0m   \u001b[0mtraining_set\u001b[0m\u001b[0;34m,\u001b[0m\u001b[0;34m\u001b[0m\u001b[0;34m\u001b[0m\u001b[0m\n\u001b[1;32m      5\u001b[0m   \u001b[0mvalidation_data\u001b[0m\u001b[0;34m=\u001b[0m\u001b[0mtest_set\u001b[0m\u001b[0;34m,\u001b[0m\u001b[0;34m\u001b[0m\u001b[0;34m\u001b[0m\u001b[0m\n\u001b[0;32m----> 6\u001b[0;31m   epochs=25, callbacks=[early_stopping], verbose=2)\n\u001b[0m",
            "\u001b[0;32m/usr/local/lib/python3.7/dist-packages/keras/engine/training.py\u001b[0m in \u001b[0;36mfit_generator\u001b[0;34m(self, generator, steps_per_epoch, epochs, verbose, callbacks, validation_data, validation_steps, validation_freq, class_weight, max_queue_size, workers, use_multiprocessing, shuffle, initial_epoch)\u001b[0m\n\u001b[1;32m   2221\u001b[0m         \u001b[0muse_multiprocessing\u001b[0m\u001b[0;34m=\u001b[0m\u001b[0muse_multiprocessing\u001b[0m\u001b[0;34m,\u001b[0m\u001b[0;34m\u001b[0m\u001b[0;34m\u001b[0m\u001b[0m\n\u001b[1;32m   2222\u001b[0m         \u001b[0mshuffle\u001b[0m\u001b[0;34m=\u001b[0m\u001b[0mshuffle\u001b[0m\u001b[0;34m,\u001b[0m\u001b[0;34m\u001b[0m\u001b[0;34m\u001b[0m\u001b[0m\n\u001b[0;32m-> 2223\u001b[0;31m         initial_epoch=initial_epoch)\n\u001b[0m\u001b[1;32m   2224\u001b[0m \u001b[0;34m\u001b[0m\u001b[0m\n\u001b[1;32m   2225\u001b[0m   \u001b[0;34m@\u001b[0m\u001b[0mdoc_controls\u001b[0m\u001b[0;34m.\u001b[0m\u001b[0mdo_not_generate_docs\u001b[0m\u001b[0;34m\u001b[0m\u001b[0;34m\u001b[0m\u001b[0m\n",
            "\u001b[0;32m/usr/local/lib/python3.7/dist-packages/keras/utils/traceback_utils.py\u001b[0m in \u001b[0;36merror_handler\u001b[0;34m(*args, **kwargs)\u001b[0m\n\u001b[1;32m     65\u001b[0m     \u001b[0;32mexcept\u001b[0m \u001b[0mException\u001b[0m \u001b[0;32mas\u001b[0m \u001b[0me\u001b[0m\u001b[0;34m:\u001b[0m  \u001b[0;31m# pylint: disable=broad-except\u001b[0m\u001b[0;34m\u001b[0m\u001b[0;34m\u001b[0m\u001b[0m\n\u001b[1;32m     66\u001b[0m       \u001b[0mfiltered_tb\u001b[0m \u001b[0;34m=\u001b[0m \u001b[0m_process_traceback_frames\u001b[0m\u001b[0;34m(\u001b[0m\u001b[0me\u001b[0m\u001b[0;34m.\u001b[0m\u001b[0m__traceback__\u001b[0m\u001b[0;34m)\u001b[0m\u001b[0;34m\u001b[0m\u001b[0;34m\u001b[0m\u001b[0m\n\u001b[0;32m---> 67\u001b[0;31m       \u001b[0;32mraise\u001b[0m \u001b[0me\u001b[0m\u001b[0;34m.\u001b[0m\u001b[0mwith_traceback\u001b[0m\u001b[0;34m(\u001b[0m\u001b[0mfiltered_tb\u001b[0m\u001b[0;34m)\u001b[0m \u001b[0;32mfrom\u001b[0m \u001b[0;32mNone\u001b[0m\u001b[0;34m\u001b[0m\u001b[0;34m\u001b[0m\u001b[0m\n\u001b[0m\u001b[1;32m     68\u001b[0m     \u001b[0;32mfinally\u001b[0m\u001b[0;34m:\u001b[0m\u001b[0;34m\u001b[0m\u001b[0;34m\u001b[0m\u001b[0m\n\u001b[1;32m     69\u001b[0m       \u001b[0;32mdel\u001b[0m \u001b[0mfiltered_tb\u001b[0m\u001b[0;34m\u001b[0m\u001b[0;34m\u001b[0m\u001b[0m\n",
            "\u001b[0;32m/usr/local/lib/python3.7/dist-packages/tensorflow/python/framework/func_graph.py\u001b[0m in \u001b[0;36mautograph_handler\u001b[0;34m(*args, **kwargs)\u001b[0m\n\u001b[1;32m   1145\u001b[0m           \u001b[0;32mexcept\u001b[0m \u001b[0mException\u001b[0m \u001b[0;32mas\u001b[0m \u001b[0me\u001b[0m\u001b[0;34m:\u001b[0m  \u001b[0;31m# pylint:disable=broad-except\u001b[0m\u001b[0;34m\u001b[0m\u001b[0;34m\u001b[0m\u001b[0m\n\u001b[1;32m   1146\u001b[0m             \u001b[0;32mif\u001b[0m \u001b[0mhasattr\u001b[0m\u001b[0;34m(\u001b[0m\u001b[0me\u001b[0m\u001b[0;34m,\u001b[0m \u001b[0;34m\"ag_error_metadata\"\u001b[0m\u001b[0;34m)\u001b[0m\u001b[0;34m:\u001b[0m\u001b[0;34m\u001b[0m\u001b[0;34m\u001b[0m\u001b[0m\n\u001b[0;32m-> 1147\u001b[0;31m               \u001b[0;32mraise\u001b[0m \u001b[0me\u001b[0m\u001b[0;34m.\u001b[0m\u001b[0mag_error_metadata\u001b[0m\u001b[0;34m.\u001b[0m\u001b[0mto_exception\u001b[0m\u001b[0;34m(\u001b[0m\u001b[0me\u001b[0m\u001b[0;34m)\u001b[0m\u001b[0;34m\u001b[0m\u001b[0;34m\u001b[0m\u001b[0m\n\u001b[0m\u001b[1;32m   1148\u001b[0m             \u001b[0;32melse\u001b[0m\u001b[0;34m:\u001b[0m\u001b[0;34m\u001b[0m\u001b[0;34m\u001b[0m\u001b[0m\n\u001b[1;32m   1149\u001b[0m               \u001b[0;32mraise\u001b[0m\u001b[0;34m\u001b[0m\u001b[0;34m\u001b[0m\u001b[0m\n",
            "\u001b[0;31mValueError\u001b[0m: in user code:\n\n    File \"/usr/local/lib/python3.7/dist-packages/keras/engine/training.py\", line 1021, in train_function  *\n        return step_function(self, iterator)\n    File \"/usr/local/lib/python3.7/dist-packages/keras/engine/training.py\", line 1010, in step_function  **\n        outputs = model.distribute_strategy.run(run_step, args=(data,))\n    File \"/usr/local/lib/python3.7/dist-packages/keras/engine/training.py\", line 1000, in run_step  **\n        outputs = model.train_step(data)\n    File \"/usr/local/lib/python3.7/dist-packages/keras/engine/training.py\", line 860, in train_step\n        loss = self.compute_loss(x, y, y_pred, sample_weight)\n    File \"/usr/local/lib/python3.7/dist-packages/keras/engine/training.py\", line 919, in compute_loss\n        y, y_pred, sample_weight, regularization_losses=self.losses)\n    File \"/usr/local/lib/python3.7/dist-packages/keras/engine/compile_utils.py\", line 201, in __call__\n        loss_value = loss_obj(y_t, y_p, sample_weight=sw)\n    File \"/usr/local/lib/python3.7/dist-packages/keras/losses.py\", line 141, in __call__\n        losses = call_fn(y_true, y_pred)\n    File \"/usr/local/lib/python3.7/dist-packages/keras/losses.py\", line 245, in call  **\n        return ag_fn(y_true, y_pred, **self._fn_kwargs)\n    File \"/usr/local/lib/python3.7/dist-packages/keras/losses.py\", line 1932, in binary_crossentropy\n        backend.binary_crossentropy(y_true, y_pred, from_logits=from_logits),\n    File \"/usr/local/lib/python3.7/dist-packages/keras/backend.py\", line 5247, in binary_crossentropy\n        return tf.nn.sigmoid_cross_entropy_with_logits(labels=target, logits=output)\n\n    ValueError: `logits` and `labels` must have the same shape, received ((None, 2) vs (None, 1)).\n"
          ]
        }
      ]
    },
    {
      "cell_type": "code",
      "source": [
        "r = model.fit_generator(\n",
        "  training_set,\n",
        "  validation_data=test_set,\n",
        "  epochs=25)"
      ],
      "metadata": {
        "id": "Vk7EHzlIh01X",
        "outputId": "b16cd8e6-2fa3-4b95-dcb2-841581988a34",
        "colab": {
          "base_uri": "https://localhost:8080/",
          "height": 817
        }
      },
      "id": "Vk7EHzlIh01X",
      "execution_count": 70,
      "outputs": [
        {
          "output_type": "stream",
          "name": "stderr",
          "text": [
            "/usr/local/lib/python3.7/dist-packages/ipykernel_launcher.py:4: UserWarning: `Model.fit_generator` is deprecated and will be removed in a future version. Please use `Model.fit`, which supports generators.\n",
            "  after removing the cwd from sys.path.\n"
          ]
        },
        {
          "output_type": "stream",
          "name": "stdout",
          "text": [
            "Epoch 1/25\n"
          ]
        },
        {
          "output_type": "error",
          "ename": "ValueError",
          "evalue": "ignored",
          "traceback": [
            "\u001b[0;31m---------------------------------------------------------------------------\u001b[0m",
            "\u001b[0;31mValueError\u001b[0m                                Traceback (most recent call last)",
            "\u001b[0;32m<ipython-input-70-6a16f4b81725>\u001b[0m in \u001b[0;36m<module>\u001b[0;34m()\u001b[0m\n\u001b[1;32m      2\u001b[0m   \u001b[0mtraining_set\u001b[0m\u001b[0;34m,\u001b[0m\u001b[0;34m\u001b[0m\u001b[0;34m\u001b[0m\u001b[0m\n\u001b[1;32m      3\u001b[0m   \u001b[0mvalidation_data\u001b[0m\u001b[0;34m=\u001b[0m\u001b[0mtest_set\u001b[0m\u001b[0;34m,\u001b[0m\u001b[0;34m\u001b[0m\u001b[0;34m\u001b[0m\u001b[0m\n\u001b[0;32m----> 4\u001b[0;31m   epochs=25)\n\u001b[0m",
            "\u001b[0;32m/usr/local/lib/python3.7/dist-packages/keras/engine/training.py\u001b[0m in \u001b[0;36mfit_generator\u001b[0;34m(self, generator, steps_per_epoch, epochs, verbose, callbacks, validation_data, validation_steps, validation_freq, class_weight, max_queue_size, workers, use_multiprocessing, shuffle, initial_epoch)\u001b[0m\n\u001b[1;32m   2221\u001b[0m         \u001b[0muse_multiprocessing\u001b[0m\u001b[0;34m=\u001b[0m\u001b[0muse_multiprocessing\u001b[0m\u001b[0;34m,\u001b[0m\u001b[0;34m\u001b[0m\u001b[0;34m\u001b[0m\u001b[0m\n\u001b[1;32m   2222\u001b[0m         \u001b[0mshuffle\u001b[0m\u001b[0;34m=\u001b[0m\u001b[0mshuffle\u001b[0m\u001b[0;34m,\u001b[0m\u001b[0;34m\u001b[0m\u001b[0;34m\u001b[0m\u001b[0m\n\u001b[0;32m-> 2223\u001b[0;31m         initial_epoch=initial_epoch)\n\u001b[0m\u001b[1;32m   2224\u001b[0m \u001b[0;34m\u001b[0m\u001b[0m\n\u001b[1;32m   2225\u001b[0m   \u001b[0;34m@\u001b[0m\u001b[0mdoc_controls\u001b[0m\u001b[0;34m.\u001b[0m\u001b[0mdo_not_generate_docs\u001b[0m\u001b[0;34m\u001b[0m\u001b[0;34m\u001b[0m\u001b[0m\n",
            "\u001b[0;32m/usr/local/lib/python3.7/dist-packages/keras/utils/traceback_utils.py\u001b[0m in \u001b[0;36merror_handler\u001b[0;34m(*args, **kwargs)\u001b[0m\n\u001b[1;32m     65\u001b[0m     \u001b[0;32mexcept\u001b[0m \u001b[0mException\u001b[0m \u001b[0;32mas\u001b[0m \u001b[0me\u001b[0m\u001b[0;34m:\u001b[0m  \u001b[0;31m# pylint: disable=broad-except\u001b[0m\u001b[0;34m\u001b[0m\u001b[0;34m\u001b[0m\u001b[0m\n\u001b[1;32m     66\u001b[0m       \u001b[0mfiltered_tb\u001b[0m \u001b[0;34m=\u001b[0m \u001b[0m_process_traceback_frames\u001b[0m\u001b[0;34m(\u001b[0m\u001b[0me\u001b[0m\u001b[0;34m.\u001b[0m\u001b[0m__traceback__\u001b[0m\u001b[0;34m)\u001b[0m\u001b[0;34m\u001b[0m\u001b[0;34m\u001b[0m\u001b[0m\n\u001b[0;32m---> 67\u001b[0;31m       \u001b[0;32mraise\u001b[0m \u001b[0me\u001b[0m\u001b[0;34m.\u001b[0m\u001b[0mwith_traceback\u001b[0m\u001b[0;34m(\u001b[0m\u001b[0mfiltered_tb\u001b[0m\u001b[0;34m)\u001b[0m \u001b[0;32mfrom\u001b[0m \u001b[0;32mNone\u001b[0m\u001b[0;34m\u001b[0m\u001b[0;34m\u001b[0m\u001b[0m\n\u001b[0m\u001b[1;32m     68\u001b[0m     \u001b[0;32mfinally\u001b[0m\u001b[0;34m:\u001b[0m\u001b[0;34m\u001b[0m\u001b[0;34m\u001b[0m\u001b[0m\n\u001b[1;32m     69\u001b[0m       \u001b[0;32mdel\u001b[0m \u001b[0mfiltered_tb\u001b[0m\u001b[0;34m\u001b[0m\u001b[0;34m\u001b[0m\u001b[0m\n",
            "\u001b[0;32m/usr/local/lib/python3.7/dist-packages/tensorflow/python/framework/func_graph.py\u001b[0m in \u001b[0;36mautograph_handler\u001b[0;34m(*args, **kwargs)\u001b[0m\n\u001b[1;32m   1145\u001b[0m           \u001b[0;32mexcept\u001b[0m \u001b[0mException\u001b[0m \u001b[0;32mas\u001b[0m \u001b[0me\u001b[0m\u001b[0;34m:\u001b[0m  \u001b[0;31m# pylint:disable=broad-except\u001b[0m\u001b[0;34m\u001b[0m\u001b[0;34m\u001b[0m\u001b[0m\n\u001b[1;32m   1146\u001b[0m             \u001b[0;32mif\u001b[0m \u001b[0mhasattr\u001b[0m\u001b[0;34m(\u001b[0m\u001b[0me\u001b[0m\u001b[0;34m,\u001b[0m \u001b[0;34m\"ag_error_metadata\"\u001b[0m\u001b[0;34m)\u001b[0m\u001b[0;34m:\u001b[0m\u001b[0;34m\u001b[0m\u001b[0;34m\u001b[0m\u001b[0m\n\u001b[0;32m-> 1147\u001b[0;31m               \u001b[0;32mraise\u001b[0m \u001b[0me\u001b[0m\u001b[0;34m.\u001b[0m\u001b[0mag_error_metadata\u001b[0m\u001b[0;34m.\u001b[0m\u001b[0mto_exception\u001b[0m\u001b[0;34m(\u001b[0m\u001b[0me\u001b[0m\u001b[0;34m)\u001b[0m\u001b[0;34m\u001b[0m\u001b[0;34m\u001b[0m\u001b[0m\n\u001b[0m\u001b[1;32m   1148\u001b[0m             \u001b[0;32melse\u001b[0m\u001b[0;34m:\u001b[0m\u001b[0;34m\u001b[0m\u001b[0;34m\u001b[0m\u001b[0m\n\u001b[1;32m   1149\u001b[0m               \u001b[0;32mraise\u001b[0m\u001b[0;34m\u001b[0m\u001b[0;34m\u001b[0m\u001b[0m\n",
            "\u001b[0;31mValueError\u001b[0m: in user code:\n\n    File \"/usr/local/lib/python3.7/dist-packages/keras/engine/training.py\", line 1021, in train_function  *\n        return step_function(self, iterator)\n    File \"/usr/local/lib/python3.7/dist-packages/keras/engine/training.py\", line 1010, in step_function  **\n        outputs = model.distribute_strategy.run(run_step, args=(data,))\n    File \"/usr/local/lib/python3.7/dist-packages/keras/engine/training.py\", line 1000, in run_step  **\n        outputs = model.train_step(data)\n    File \"/usr/local/lib/python3.7/dist-packages/keras/engine/training.py\", line 860, in train_step\n        loss = self.compute_loss(x, y, y_pred, sample_weight)\n    File \"/usr/local/lib/python3.7/dist-packages/keras/engine/training.py\", line 919, in compute_loss\n        y, y_pred, sample_weight, regularization_losses=self.losses)\n    File \"/usr/local/lib/python3.7/dist-packages/keras/engine/compile_utils.py\", line 201, in __call__\n        loss_value = loss_obj(y_t, y_p, sample_weight=sw)\n    File \"/usr/local/lib/python3.7/dist-packages/keras/losses.py\", line 141, in __call__\n        losses = call_fn(y_true, y_pred)\n    File \"/usr/local/lib/python3.7/dist-packages/keras/losses.py\", line 245, in call  **\n        return ag_fn(y_true, y_pred, **self._fn_kwargs)\n    File \"/usr/local/lib/python3.7/dist-packages/keras/losses.py\", line 1932, in binary_crossentropy\n        backend.binary_crossentropy(y_true, y_pred, from_logits=from_logits),\n    File \"/usr/local/lib/python3.7/dist-packages/keras/backend.py\", line 5247, in binary_crossentropy\n        return tf.nn.sigmoid_cross_entropy_with_logits(labels=target, logits=output)\n\n    ValueError: `logits` and `labels` must have the same shape, received ((None, 2) vs (None, 1)).\n"
          ]
        }
      ]
    },
    {
      "cell_type": "code",
      "source": [
        "# loss\n",
        "plt.plot(r.history['loss'], label='train loss')\n",
        "plt.plot(r.history['val_loss'], label='val loss')\n",
        "plt.legend()\n",
        "plt.show()\n",
        "plt.savefig('LossVal_loss')"
      ],
      "metadata": {
        "id": "pJ5QnnEZAewZ",
        "outputId": "b6746ce0-e2e7-490a-aad1-b12ea0e79cf3",
        "colab": {
          "base_uri": "https://localhost:8080/",
          "height": 282
        }
      },
      "id": "pJ5QnnEZAewZ",
      "execution_count": null,
      "outputs": [
        {
          "output_type": "display_data",
          "data": {
            "text/plain": [
              "<Figure size 432x288 with 1 Axes>"
            ],
            "image/png": "[encoded data removed]"
          },
          "metadata": {
            "needs_background": "light"
          }
        },
        {
          "output_type": "display_data",
          "data": {
            "text/plain": [
              "<Figure size 432x288 with 0 Axes>"
            ]
          },
          "metadata": {}
        }
      ]
    },
    {
      "cell_type": "code",
      "source": [
        "# accuracies\n",
        "plt.plot(r.history['accuracy'], label='train accuracy')\n",
        "plt.plot(r.history['val_accuracy'], label='val accuracy')\n",
        "plt.legend()\n",
        "plt.show()"
      ],
      "metadata": {
        "id": "OP1J0zWYAUQq",
        "outputId": "dcfe9196-2002-48f6-f82f-00ec978d65e1",
        "colab": {
          "base_uri": "https://localhost:8080/",
          "height": 265
        }
      },
      "id": "OP1J0zWYAUQq",
      "execution_count": null,
      "outputs": [
        {
          "output_type": "display_data",
          "data": {
            "text/plain": [
              "<Figure size 432x288 with 1 Axes>"
            ],
            "image/png": "[encoded data removed]"
          },
          "metadata": {
            "needs_background": "light"
          }
        }
      ]
    },
    {
      "cell_type": "code",
      "source": [
        "import numpy as np\n",
        "from keras.preprocessing.image import image\n",
        "from keras.preprocessing.image import img_to_array\n",
        "from keras.models import Sequential"
      ],
      "metadata": {
        "id": "G-4KH6FHVEi_"
      },
      "id": "G-4KH6FHVEi_",
      "execution_count": 71,
      "outputs": []
    },
    {
      "cell_type": "code",
      "source": [
        "resnet_model = Sequential()\n",
        "\n",
        "pretrained_model= tf.keras.applications.ResNet50(include_top=False,\n",
        "                   input_shape=(64,64,3),\n",
        "                   pooling='avg',classes=2,\n",
        "                   weights='imagenet')\n",
        "for layer in pretrained_model.layers:\n",
        "        layer.trainable=False\n",
        "\n",
        "resnet_model.add(pretrained_model)"
      ],
      "metadata": {
        "id": "tt8A_jPjkhUF"
      },
      "id": "tt8A_jPjkhUF",
      "execution_count": 72,
      "outputs": []
    },
    {
      "cell_type": "code",
      "source": [
        "resnet_model.add(Flatten())\n",
        "resnet_model.add(Dense(512, activation='relu'))\n",
        "resnet_model.add(Dense(1, activation='softmax'))"
      ],
      "metadata": {
        "id": "_g9ac-t1k6A0"
      },
      "id": "_g9ac-t1k6A0",
      "execution_count": 73,
      "outputs": []
    },
    {
      "cell_type": "code",
      "source": [
        "resnet_model.summary()"
      ],
      "metadata": {
        "id": "u_ZUtncflC-r",
        "outputId": "7972e7bd-4df5-4357-c909-0263f1d272d1",
        "colab": {
          "base_uri": "https://localhost:8080/"
        }
      },
      "id": "u_ZUtncflC-r",
      "execution_count": 74,
      "outputs": [
        {
          "output_type": "stream",
          "name": "stdout",
          "text": [
            "Model: \"sequential_7\"\n",
            "_________________________________________________________________\n",
            " Layer (type)                Output Shape              Param #   \n",
            "=================================================================\n",
            " resnet50 (Functional)       (None, 2048)              23587712  \n",
            "                                                                 \n",
            " flatten_3 (Flatten)         (None, 2048)              0         \n",
            "                                                                 \n",
            " dense_5 (Dense)             (None, 512)               1049088   \n",
            "                                                                 \n",
            " dense_6 (Dense)             (None, 1)                 513       \n",
            "                                                                 \n",
            "=================================================================\n",
            "Total params: 24,637,313\n",
            "Trainable params: 1,049,601\n",
            "Non-trainable params: 23,587,712\n",
            "_________________________________________________________________\n"
          ]
        }
      ]
    },
    {
      "cell_type": "code",
      "source": [
        "resnet_model.compile(\n",
        "  loss='binary_crossentropy',\n",
        "  optimizer='SGD',\n",
        "  metrics=['accuracy'])"
      ],
      "metadata": {
        "id": "RdxwBG8klS9Q"
      },
      "id": "RdxwBG8klS9Q",
      "execution_count": 75,
      "outputs": []
    },
    {
      "cell_type": "code",
      "source": [
        "\n",
        "history =resnet_model.fit_generator(\n",
        "  training_set,\n",
        "  validation_data=test_set,\n",
        "  epochs=25, callbacks=[early_stopping], verbose=2)"
      ],
      "metadata": {
        "id": "9pMhMJiQlMA2",
        "outputId": "e26067b9-7f92-44cc-c6f7-d1b5ee6e5a68",
        "colab": {
          "base_uri": "https://localhost:8080/"
        }
      },
      "id": "9pMhMJiQlMA2",
      "execution_count": 76,
      "outputs": [
        {
          "output_type": "stream",
          "name": "stderr",
          "text": [
            "/usr/local/lib/python3.7/dist-packages/ipykernel_launcher.py:5: UserWarning: `Model.fit_generator` is deprecated and will be removed in a future version. Please use `Model.fit`, which supports generators.\n",
            "  \"\"\"\n"
          ]
        },
        {
          "output_type": "stream",
          "name": "stdout",
          "text": [
            "Epoch 1/25\n",
            "41/41 - 183s - loss: 0.8398 - accuracy: 0.5000 - val_loss: 0.6839 - val_accuracy: 0.4930 - 183s/epoch - 4s/step\n",
            "Epoch 2/25\n",
            "41/41 - 19s - loss: 0.7348 - accuracy: 0.5000 - val_loss: 0.6772 - val_accuracy: 0.4930 - 19s/epoch - 456ms/step\n",
            "Epoch 3/25\n",
            "41/41 - 20s - loss: 0.7061 - accuracy: 0.5000 - val_loss: 0.7968 - val_accuracy: 0.4930 - 20s/epoch - 487ms/step\n",
            "Epoch 4/25\n",
            "41/41 - 19s - loss: 0.7359 - accuracy: 0.5000 - val_loss: 0.6696 - val_accuracy: 0.4930 - 19s/epoch - 457ms/step\n",
            "Epoch 5/25\n",
            "41/41 - 19s - loss: 0.6970 - accuracy: 0.5000 - val_loss: 0.7648 - val_accuracy: 0.4930 - 19s/epoch - 470ms/step\n",
            "Epoch 6/25\n",
            "41/41 - 19s - loss: 0.6884 - accuracy: 0.5000 - val_loss: 0.6648 - val_accuracy: 0.4930 - 19s/epoch - 454ms/step\n",
            "Epoch 7/25\n",
            "41/41 - 19s - loss: 0.6815 - accuracy: 0.5000 - val_loss: 0.6681 - val_accuracy: 0.4930 - 19s/epoch - 454ms/step\n",
            "Epoch 8/25\n",
            "41/41 - 19s - loss: 0.6784 - accuracy: 0.5000 - val_loss: 0.6659 - val_accuracy: 0.4930 - 19s/epoch - 453ms/step\n",
            "Epoch 9/25\n",
            "41/41 - 19s - loss: 0.6947 - accuracy: 0.5000 - val_loss: 0.6952 - val_accuracy: 0.4930 - 19s/epoch - 453ms/step\n",
            "Epoch 10/25\n",
            "41/41 - 19s - loss: 0.6622 - accuracy: 0.5000 - val_loss: 0.6612 - val_accuracy: 0.4930 - 19s/epoch - 453ms/step\n",
            "Epoch 11/25\n",
            "41/41 - 19s - loss: 0.6695 - accuracy: 0.5000 - val_loss: 0.6783 - val_accuracy: 0.4930 - 19s/epoch - 453ms/step\n",
            "Epoch 12/25\n",
            "41/41 - 19s - loss: 0.6679 - accuracy: 0.5000 - val_loss: 0.8197 - val_accuracy: 0.4930 - 19s/epoch - 454ms/step\n",
            "Epoch 13/25\n",
            "41/41 - 19s - loss: 0.6671 - accuracy: 0.5000 - val_loss: 0.6933 - val_accuracy: 0.4930 - 19s/epoch - 454ms/step\n",
            "Epoch 14/25\n",
            "41/41 - 19s - loss: 0.6636 - accuracy: 0.5000 - val_loss: 0.6511 - val_accuracy: 0.4930 - 19s/epoch - 454ms/step\n",
            "Epoch 15/25\n",
            "41/41 - 19s - loss: 0.6625 - accuracy: 0.5000 - val_loss: 0.6560 - val_accuracy: 0.4930 - 19s/epoch - 452ms/step\n",
            "Epoch 16/25\n",
            "41/41 - 19s - loss: 0.6531 - accuracy: 0.5000 - val_loss: 0.6651 - val_accuracy: 0.4930 - 19s/epoch - 452ms/step\n",
            "Epoch 17/25\n",
            "41/41 - 19s - loss: 0.6670 - accuracy: 0.5000 - val_loss: 0.6462 - val_accuracy: 0.4930 - 19s/epoch - 453ms/step\n",
            "Epoch 18/25\n",
            "41/41 - 19s - loss: 0.6684 - accuracy: 0.5000 - val_loss: 0.6534 - val_accuracy: 0.4930 - 19s/epoch - 451ms/step\n",
            "Epoch 19/25\n",
            "41/41 - 19s - loss: 0.6684 - accuracy: 0.5000 - val_loss: 0.7040 - val_accuracy: 0.4930 - 19s/epoch - 452ms/step\n",
            "Epoch 20/25\n",
            "41/41 - 20s - loss: 0.6597 - accuracy: 0.5000 - val_loss: 0.6450 - val_accuracy: 0.4930 - 20s/epoch - 486ms/step\n",
            "Epoch 21/25\n",
            "41/41 - 19s - loss: 0.6684 - accuracy: 0.5000 - val_loss: 0.6642 - val_accuracy: 0.4930 - 19s/epoch - 461ms/step\n",
            "Epoch 22/25\n",
            "41/41 - 19s - loss: 0.6594 - accuracy: 0.5000 - val_loss: 0.6429 - val_accuracy: 0.4930 - 19s/epoch - 464ms/step\n",
            "Epoch 23/25\n",
            "41/41 - 19s - loss: 0.6499 - accuracy: 0.5000 - val_loss: 0.6535 - val_accuracy: 0.4930 - 19s/epoch - 453ms/step\n",
            "Epoch 24/25\n",
            "41/41 - 19s - loss: 0.6483 - accuracy: 0.5000 - val_loss: 0.6470 - val_accuracy: 0.4930 - 19s/epoch - 455ms/step\n",
            "Epoch 25/25\n",
            "41/41 - 19s - loss: 0.6549 - accuracy: 0.5000 - val_loss: 0.7035 - val_accuracy: 0.4930 - 19s/epoch - 455ms/step\n"
          ]
        }
      ]
    },
    {
      "cell_type": "code",
      "source": [
        "from tensorflow.keras.applications.inception_v3 import InceptionV3\n"
      ],
      "metadata": {
        "id": "TXQBoBd7k1LH"
      },
      "id": "TXQBoBd7k1LH",
      "execution_count": 2,
      "outputs": []
    },
    {
      "cell_type": "code",
      "source": [
        "pre_trained_model = InceptionV3(input_shape = (150,150,3) ,include_top = False,weights = 'imagenet')"
      ],
      "metadata": {
        "id": "7P7ADVjtk3c4"
      },
      "id": "7P7ADVjtk3c4",
      "execution_count": 3,
      "outputs": []
    },
    {
      "cell_type": "code",
      "source": [
        "for layer in pre_trained_model.layers:\n",
        "  layer.trainable = False"
      ],
      "metadata": {
        "id": "490brUZqlj8M"
      },
      "id": "490brUZqlj8M",
      "execution_count": 4,
      "outputs": []
    },
    {
      "cell_type": "code",
      "source": [
        "class myCallback(tf.keras.callbacks.Callback):\n",
        "  def on_epoch_end(self, epoch, logs={}):\n",
        "    if(logs.get('acc')>0.959):\n",
        "      print(\"\\nReached 99.9% accuracy so cancelling training!\")\n",
        "      self.model.stop_training = True"
      ],
      "metadata": {
        "id": "foe2XY9qlxsJ",
        "outputId": "ede8ffd1-5e44-4321-c13f-55d2007d3e00",
        "colab": {
          "base_uri": "https://localhost:8080/",
          "height": 235
        }
      },
      "id": "foe2XY9qlxsJ",
      "execution_count": 5,
      "outputs": [
        {
          "output_type": "error",
          "ename": "NameError",
          "evalue": "ignored",
          "traceback": [
            "\u001b[0;31m---------------------------------------------------------------------------\u001b[0m",
            "\u001b[0;31mNameError\u001b[0m                                 Traceback (most recent call last)",
            "\u001b[0;32m<ipython-input-5-0ce876b5f204>\u001b[0m in \u001b[0;36m<module>\u001b[0;34m()\u001b[0m\n\u001b[0;32m----> 1\u001b[0;31m \u001b[0;32mclass\u001b[0m \u001b[0mmyCallback\u001b[0m\u001b[0;34m(\u001b[0m\u001b[0mtf\u001b[0m\u001b[0;34m.\u001b[0m\u001b[0mkeras\u001b[0m\u001b[0;34m.\u001b[0m\u001b[0mcallbacks\u001b[0m\u001b[0;34m.\u001b[0m\u001b[0mCallback\u001b[0m\u001b[0;34m)\u001b[0m\u001b[0;34m:\u001b[0m\u001b[0;34m\u001b[0m\u001b[0;34m\u001b[0m\u001b[0m\n\u001b[0m\u001b[1;32m      2\u001b[0m   \u001b[0;32mdef\u001b[0m \u001b[0mon_epoch_end\u001b[0m\u001b[0;34m(\u001b[0m\u001b[0mself\u001b[0m\u001b[0;34m,\u001b[0m \u001b[0mepoch\u001b[0m\u001b[0;34m,\u001b[0m \u001b[0mlogs\u001b[0m\u001b[0;34m=\u001b[0m\u001b[0;34m{\u001b[0m\u001b[0;34m}\u001b[0m\u001b[0;34m)\u001b[0m\u001b[0;34m:\u001b[0m\u001b[0;34m\u001b[0m\u001b[0;34m\u001b[0m\u001b[0m\n\u001b[1;32m      3\u001b[0m     \u001b[0;32mif\u001b[0m\u001b[0;34m(\u001b[0m\u001b[0mlogs\u001b[0m\u001b[0;34m.\u001b[0m\u001b[0mget\u001b[0m\u001b[0;34m(\u001b[0m\u001b[0;34m'acc'\u001b[0m\u001b[0;34m)\u001b[0m\u001b[0;34m>\u001b[0m\u001b[0;36m0.959\u001b[0m\u001b[0;34m)\u001b[0m\u001b[0;34m:\u001b[0m\u001b[0;34m\u001b[0m\u001b[0;34m\u001b[0m\u001b[0m\n\u001b[1;32m      4\u001b[0m       \u001b[0mprint\u001b[0m\u001b[0;34m(\u001b[0m\u001b[0;34m\"\\nReached 99.9% accuracy so cancelling training!\"\u001b[0m\u001b[0;34m)\u001b[0m\u001b[0;34m\u001b[0m\u001b[0;34m\u001b[0m\u001b[0m\n\u001b[1;32m      5\u001b[0m       \u001b[0mself\u001b[0m\u001b[0;34m.\u001b[0m\u001b[0mmodel\u001b[0m\u001b[0;34m.\u001b[0m\u001b[0mstop_training\u001b[0m \u001b[0;34m=\u001b[0m \u001b[0;32mTrue\u001b[0m\u001b[0;34m\u001b[0m\u001b[0;34m\u001b[0m\u001b[0m\n",
            "\u001b[0;31mNameError\u001b[0m: name 'tf' is not defined"
          ]
        }
      ]
    },
    {
      "cell_type": "code",
      "source": [
        "from tensorflow.keras.optimizers import RMSprop\n",
        "\n",
        "# Flatten the output layer to 1 dimension\n",
        "x = layers.Flatten()(pre_trained_model.output)\n",
        "# Add a fully connected layer with 1,024 hidden units and ReLU activation\n",
        "x = layers.Dense(1024, activation='relu')(x)\n",
        "# Add a dropout rate of 0.2\n",
        "x = layers.Dropout(0.2)(x)                  \n",
        "# Add a final sigmoid layer for classification\n",
        "x = layers.Dense  (1, activation='sigmoid')(x)  "
      ],
      "metadata": {
        "id": "VyS50HYrl3Js"
      },
      "id": "VyS50HYrl3Js",
      "execution_count": 84,
      "outputs": []
    },
    {
      "cell_type": "code",
      "source": [
        "model = Model( pre_trained_model.input, x) \n",
        "\n",
        "model.compile(optimizer = RMSprop(lr=0.0001), \n",
        "              loss = 'binary_crossentropy', \n",
        "              metrics = ['acc'])"
      ],
      "metadata": {
        "id": "IIYcHV9QmHZs",
        "outputId": "dce529af-3b47-4539-d3b5-d9c24c85c29c",
        "colab": {
          "base_uri": "https://localhost:8080/"
        }
      },
      "id": "IIYcHV9QmHZs",
      "execution_count": 85,
      "outputs": [
        {
          "output_type": "stream",
          "name": "stderr",
          "text": [
            "/usr/local/lib/python3.7/dist-packages/keras/optimizer_v2/rmsprop.py:130: UserWarning: The `lr` argument is deprecated, use `learning_rate` instead.\n",
            "  super(RMSprop, self).__init__(name, **kwargs)\n"
          ]
        }
      ]
    },
    {
      "cell_type": "code",
      "source": [
        "train_datagen = ImageDataGenerator(rescale = 1./255.,\n",
        "                                   rotation_range = 40,\n",
        "                                   width_shift_range = 0.2,\n",
        "                                   height_shift_range = 0.2,\n",
        "                                   shear_range = 0.2,\n",
        "                                   zoom_range = 0.2,\n",
        "                                   horizontal_flip = True)"
      ],
      "metadata": {
        "id": "7TX9ZPFmmNLa"
      },
      "id": "7TX9ZPFmmNLa",
      "execution_count": 86,
      "outputs": []
    },
    {
      "cell_type": "code",
      "source": [
        "test_datagen = ImageDataGenerator( rescale = 1.0/255. )\n",
        "\n",
        "# Flow training images in batches of 20 using train_datagen generator\n",
        "train_generator = train_datagen.flow_from_directory(\"/content/drive/MyDrive/drowsiness_cropped (1)/drowsiness_cropped/train\",\n",
        "                                                    batch_size = 32,\n",
        "                                                    class_mode = 'binary', \n",
        "                                                    target_size = (150,150))     \n",
        "\n",
        "# Flow validation images in batches of 20 using test_datagen generator\n",
        "validation_generator =  test_datagen.flow_from_directory( \"/content/drive/MyDrive/drowsiness_cropped (1)/drowsiness_cropped/test\",\n",
        "                                                          batch_size  = 32,\n",
        "                                                          class_mode  = 'binary', \n",
        "                                                          target_size = (150,150))"
      ],
      "metadata": {
        "id": "VjZw7owuma3L",
        "outputId": "12268d70-351a-48a9-af15-21d5d27a29ae",
        "colab": {
          "base_uri": "https://localhost:8080/",
          "height": 235
        }
      },
      "id": "VjZw7owuma3L",
      "execution_count": 1,
      "outputs": [
        {
          "output_type": "error",
          "ename": "NameError",
          "evalue": "ignored",
          "traceback": [
            "\u001b[0;31m---------------------------------------------------------------------------\u001b[0m",
            "\u001b[0;31mNameError\u001b[0m                                 Traceback (most recent call last)",
            "\u001b[0;32m<ipython-input-1-95602d4d3ea1>\u001b[0m in \u001b[0;36m<module>\u001b[0;34m()\u001b[0m\n\u001b[0;32m----> 1\u001b[0;31m \u001b[0mtest_datagen\u001b[0m \u001b[0;34m=\u001b[0m \u001b[0mImageDataGenerator\u001b[0m\u001b[0;34m(\u001b[0m \u001b[0mrescale\u001b[0m \u001b[0;34m=\u001b[0m \u001b[0;36m1.0\u001b[0m\u001b[0;34m/\u001b[0m\u001b[0;36m255.\u001b[0m \u001b[0;34m)\u001b[0m\u001b[0;34m\u001b[0m\u001b[0;34m\u001b[0m\u001b[0m\n\u001b[0m\u001b[1;32m      2\u001b[0m \u001b[0;34m\u001b[0m\u001b[0m\n\u001b[1;32m      3\u001b[0m \u001b[0;31m# Flow training images in batches of 20 using train_datagen generator\u001b[0m\u001b[0;34m\u001b[0m\u001b[0;34m\u001b[0m\u001b[0;34m\u001b[0m\u001b[0m\n\u001b[1;32m      4\u001b[0m train_generator = train_datagen.flow_from_directory(\"/content/drive/MyDrive/drowsiness_cropped (1)/drowsiness_cropped/train\",\n\u001b[1;32m      5\u001b[0m                                                     \u001b[0mbatch_size\u001b[0m \u001b[0;34m=\u001b[0m \u001b[0;36m32\u001b[0m\u001b[0;34m,\u001b[0m\u001b[0;34m\u001b[0m\u001b[0;34m\u001b[0m\u001b[0m\n",
            "\u001b[0;31mNameError\u001b[0m: name 'ImageDataGenerator' is not defined"
          ]
        }
      ]
    },
    {
      "cell_type": "code",
      "source": [
        "callbacks = myCallback()\n",
        "history = model.fit_generator(\n",
        "            train_generator,\n",
        "            validation_data = validation_generator,\n",
        "            steps_per_epoch =50,\n",
        "            epochs =50,\n",
        "            validation_steps =25,\n",
        "            verbose = 2,\n",
        "            callbacks=[callbacks])"
      ],
      "metadata": {
        "id": "Dk2KvaLdm7ZU",
        "outputId": "e23d4d50-1af7-4cb5-bfec-aaea0ae6fc66",
        "colab": {
          "base_uri": "https://localhost:8080/"
        }
      },
      "id": "Dk2KvaLdm7ZU",
      "execution_count": null,
      "outputs": [
        {
          "output_type": "stream",
          "name": "stderr",
          "text": [
            "/usr/local/lib/python3.7/dist-packages/ipykernel_launcher.py:9: UserWarning: `Model.fit_generator` is deprecated and will be removed in a future version. Please use `Model.fit`, which supports generators.\n",
            "  if __name__ == '__main__':\n"
          ]
        },
        {
          "output_type": "stream",
          "name": "stdout",
          "text": [
            "Epoch 1/50\n"
          ]
        }
      ]
    }
  ],
  "metadata": {
    "kernelspec": {
      "display_name": "Python 3 (ipykernel)",
      "language": "python",
      "name": "python3"
    },
    "language_info": {
      "codemirror_mode": {
        "name": "ipython",
        "version": 3
      },
      "file_extension": ".py",
      "mimetype": "text/x-python",
      "name": "python",
      "nbconvert_exporter": "python",
      "pygments_lexer": "ipython3",
      "version": "3.9.7"
    },
    "colab": {
      "name": "drowsiness.ipynb",
      "provenance": [],
      "collapsed_sections": [],
      "include_colab_link": true
    },
    "accelerator": "GPU"
  },
  "nbformat": 4,
  "nbformat_minor": 5
}