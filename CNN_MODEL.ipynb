{
  "metadata": {
    "colab": {
      "provenance": [],
      "include_colab_link": true
    },
    "kernelspec": {
      "name": "python3",
      "display_name": "Python 3",
      "language": "python"
    },
    "language_info": {
      "name": "python",
      "version": "3.7.12",
      "mimetype": "text/x-python",
      "codemirror_mode": {
        "name": "ipython",
        "version": 3
      },
      "pygments_lexer": "ipython3",
      "nbconvert_exporter": "python",
      "file_extension": ".py"
    },
    "accelerator": "GPU",
    "gpuClass": "standard"
  },
  "nbformat_minor": 0,
  "nbformat": 4,
  "cells": [
    {
      "cell_type": "markdown",
      "metadata": {
        "id": "view-in-github",
        "colab_type": "text"
      },
      "source": [
        "<a href=\"https://colab.research.google.com/github/JumanaRahim/workshop/blob/master/CNN_MODEL.ipynb\" target=\"_parent\"><img src=\"https://colab.research.google.com/assets/colab-badge.svg\" alt=\"Open In Colab\"/></a>"
      ]
    },
    {
      "cell_type": "code",
      "source": [
        "#from google.colab import drive\n",
        "#drive.mount('/content/drive')"
      ],
      "metadata": {
        "id": "Cp49NJ7Sbpcv",
        "execution": {
          "iopub.status.busy": "2022-12-28T16:35:12.793584Z",
          "iopub.execute_input": "2022-12-28T16:35:12.794720Z",
          "iopub.status.idle": "2022-12-28T16:35:12.838910Z",
          "shell.execute_reply.started": "2022-12-28T16:35:12.794624Z",
          "shell.execute_reply": "2022-12-28T16:35:12.837878Z"
        },
        "trusted": true
      },
      "execution_count": null,
      "outputs": []
    },
    {
      "cell_type": "code",
      "source": [
        "from google.colab import drive\n",
        "drive.mount('/content/drive')"
      ],
      "metadata": {
        "colab": {
          "base_uri": "https://localhost:8080/"
        },
        "id": "W_o3gsyMb1Qu",
        "outputId": "f9b9debf-0263-4b78-df3a-ca3689462474"
      },
      "execution_count": null,
      "outputs": [
        {
          "output_type": "stream",
          "name": "stdout",
          "text": [
            "Drive already mounted at /content/drive; to attempt to forcibly remount, call drive.mount(\"/content/drive\", force_remount=True).\n"
          ]
        }
      ]
    },
    {
      "cell_type": "code",
      "source": [
        "!pip install torchsummary\n",
        "!pip install imutils\n",
        "!pip install tqdm"
      ],
      "metadata": {
        "colab": {
          "base_uri": "https://localhost:8080/"
        },
        "id": "5jNtZpgFN2p3",
        "outputId": "c5e72f4c-c2d3-4265-a0bb-4b817bf8ddcd",
        "execution": {
          "iopub.status.busy": "2022-12-28T16:35:12.842981Z",
          "iopub.execute_input": "2022-12-28T16:35:12.846432Z",
          "iopub.status.idle": "2022-12-28T16:35:48.017421Z",
          "shell.execute_reply.started": "2022-12-28T16:35:12.846391Z",
          "shell.execute_reply": "2022-12-28T16:35:48.016245Z"
        },
        "trusted": true
      },
      "execution_count": null,
      "outputs": [
        {
          "output_type": "stream",
          "name": "stdout",
          "text": [
            "Looking in indexes: https://pypi.org/simple, https://us-python.pkg.dev/colab-wheels/public/simple/\n",
            "Requirement already satisfied: torchsummary in /usr/local/lib/python3.8/dist-packages (1.5.1)\n",
            "Looking in indexes: https://pypi.org/simple, https://us-python.pkg.dev/colab-wheels/public/simple/\n",
            "Requirement already satisfied: imutils in /usr/local/lib/python3.8/dist-packages (0.5.4)\n",
            "Looking in indexes: https://pypi.org/simple, https://us-python.pkg.dev/colab-wheels/public/simple/\n",
            "Requirement already satisfied: tqdm in /usr/local/lib/python3.8/dist-packages (4.64.1)\n"
          ]
        }
      ]
    },
    {
      "cell_type": "code",
      "source": [
        "import os\n",
        "import torch\n",
        "from torch.utils.data import DataLoader,Dataset\n",
        "from torchvision import transforms\n",
        "from sklearn.preprocessing import LabelEncoder\n",
        "from torchsummary import summary\n",
        "from torch import nn\n",
        "import torch.nn.functional as F\n",
        "from imutils import paths\n",
        "import cv2\n",
        "import numpy as np\n",
        "from sklearn.model_selection import train_test_split\n",
        "import torchvision\n",
        "from tqdm import tqdm\n",
        "import matplotlib.pyplot as plt"
      ],
      "metadata": {
        "id": "tvtdq_wwtt_x",
        "execution": {
          "iopub.status.busy": "2022-12-28T16:35:48.019643Z",
          "iopub.execute_input": "2022-12-28T16:35:48.020107Z",
          "iopub.status.idle": "2022-12-28T16:35:52.696760Z",
          "shell.execute_reply.started": "2022-12-28T16:35:48.020068Z",
          "shell.execute_reply": "2022-12-28T16:35:52.695807Z"
        },
        "trusted": true
      },
      "execution_count": null,
      "outputs": []
    },
    {
      "cell_type": "code",
      "source": [
        "root='/kaggle/input/lung-dataset'"
      ],
      "metadata": {
        "id": "mZSWxppaMYV-",
        "execution": {
          "iopub.status.busy": "2022-12-28T16:35:52.699197Z",
          "iopub.execute_input": "2022-12-28T16:35:52.700240Z",
          "iopub.status.idle": "2022-12-28T16:35:52.705187Z",
          "shell.execute_reply.started": "2022-12-28T16:35:52.700188Z",
          "shell.execute_reply": "2022-12-28T16:35:52.704162Z"
        },
        "trusted": true
      },
      "execution_count": null,
      "outputs": []
    },
    {
      "cell_type": "code",
      "source": [
        "classes=('benign', 'malignant', 'non-nodule')"
      ],
      "metadata": {
        "id": "shYAcU6IFJKu",
        "execution": {
          "iopub.status.busy": "2022-12-28T16:35:52.706393Z",
          "iopub.execute_input": "2022-12-28T16:35:52.707163Z",
          "iopub.status.idle": "2022-12-28T16:35:52.718864Z",
          "shell.execute_reply.started": "2022-12-28T16:35:52.707128Z",
          "shell.execute_reply": "2022-12-28T16:35:52.717854Z"
        },
        "trusted": true
      },
      "execution_count": null,
      "outputs": []
    },
    {
      "cell_type": "code",
      "source": [
        "image_paths = list(paths.list_images('/kaggle/input/lung-dataset'))\n",
        "\n",
        "data = []\n",
        "labels = []\n",
        "for img_path in image_paths:\n",
        "    label = img_path.split(os.path.sep)[-2]\n",
        "    img = cv2.imread(img_path)\n",
        "    img = cv2.cvtColor(img, cv2.COLOR_BGR2RGB)\n",
        "    \n",
        "    data.append(img)\n",
        "    labels.append(label)\n",
        "    \n",
        "data = np.array(data)\n",
        "labels = np.array(labels)"
      ],
      "metadata": {
        "id": "5WDI6i71ORyn",
        "execution": {
          "iopub.status.busy": "2022-12-28T16:35:52.720369Z",
          "iopub.execute_input": "2022-12-28T16:35:52.720946Z",
          "iopub.status.idle": "2022-12-28T16:36:11.490621Z",
          "shell.execute_reply.started": "2022-12-28T16:35:52.720912Z",
          "shell.execute_reply": "2022-12-28T16:36:11.489570Z"
        },
        "trusted": true
      },
      "execution_count": null,
      "outputs": []
    },
    {
      "cell_type": "code",
      "source": [
        "labels"
      ],
      "metadata": {
        "colab": {
          "base_uri": "https://localhost:8080/"
        },
        "id": "JRiiXyOerNpE",
        "outputId": "592cbb43-8f8c-4752-f35a-2c56c1548d82",
        "execution": {
          "iopub.status.busy": "2022-12-28T16:36:11.492106Z",
          "iopub.execute_input": "2022-12-28T16:36:11.492660Z",
          "iopub.status.idle": "2022-12-28T16:36:11.505185Z",
          "shell.execute_reply.started": "2022-12-28T16:36:11.492622Z",
          "shell.execute_reply": "2022-12-28T16:36:11.503917Z"
        },
        "trusted": true
      },
      "execution_count": null,
      "outputs": [
        {
          "output_type": "execute_result",
          "data": {
            "text/plain": [
              "array([], dtype=float64)"
            ]
          },
          "metadata": {},
          "execution_count": 8
        }
      ]
    },
    {
      "cell_type": "code",
      "source": [
        "lb = LabelEncoder()\n",
        "labels = lb.fit_transform(labels)\n",
        "print(f\"Total Number of Classes: {len(lb.classes_)}\")"
      ],
      "metadata": {
        "colab": {
          "base_uri": "https://localhost:8080/"
        },
        "id": "2TEpv5btiBnH",
        "outputId": "a8fa53ed-55d0-4156-f541-f889ed98473e",
        "execution": {
          "iopub.status.busy": "2022-12-28T16:36:11.506793Z",
          "iopub.execute_input": "2022-12-28T16:36:11.507192Z",
          "iopub.status.idle": "2022-12-28T16:36:11.522929Z",
          "shell.execute_reply.started": "2022-12-28T16:36:11.507156Z",
          "shell.execute_reply": "2022-12-28T16:36:11.521649Z"
        },
        "trusted": true
      },
      "execution_count": null,
      "outputs": [
        {
          "output_type": "stream",
          "name": "stdout",
          "text": [
            "Total Number of Classes: 0\n"
          ]
        }
      ]
    },
    {
      "cell_type": "code",
      "source": [
        "#orginal dataset\n",
        "\n",
        "train_orginal_transforms = transforms.Compose([\n",
        "    transforms.ToPILImage(),\n",
        "    transforms.Resize((224, 224)),\n",
        "    transforms.ToTensor(),\n",
        "])\n",
        "\n",
        "test_orginal_transforms = transforms.Compose([\n",
        "    transforms.ToPILImage(),\n",
        "    transforms.Resize((224, 224)),\n",
        "    transforms.ToTensor(),\n",
        "])    \n",
        "\n",
        "\n",
        "#for data augmentation\n",
        "\n",
        "train_augmentation_transforms = transforms.Compose([\n",
        "    transforms.ToPILImage(),\n",
        "    transforms.Resize((224, 224)),\n",
        "    transforms.ToTensor(),\n",
        "    transforms.RandomHorizontalFlip(p=0.5),\n",
        "    transforms.RandomVerticalFlip(p=0.5),\n",
        "    transforms.Normalize(mean = [0.485,0.456,0.406], std=[0.229,0.224,0.225]),\n",
        "])\n",
        "\n",
        "test_augmentation_transforms = transforms.Compose([\n",
        "    transforms.ToPILImage(),\n",
        "    transforms.Resize((224, 224)),\n",
        "    transforms.ToTensor(),\n",
        "    transforms.RandomHorizontalFlip(p=0.5),\n",
        "    transforms.RandomVerticalFlip(p=0.5),\n",
        "    transforms.Normalize(mean = [0.485,0.456,0.406], std=[0.229,0.224,0.225]),\n",
        "])"
      ],
      "metadata": {
        "id": "W2IX6X3ZiwUp",
        "execution": {
          "iopub.status.busy": "2022-12-28T16:36:11.527808Z",
          "iopub.execute_input": "2022-12-28T16:36:11.528083Z",
          "iopub.status.idle": "2022-12-28T16:36:11.539098Z",
          "shell.execute_reply.started": "2022-12-28T16:36:11.528057Z",
          "shell.execute_reply": "2022-12-28T16:36:11.538385Z"
        },
        "trusted": true
      },
      "execution_count": null,
      "outputs": []
    },
    {
      "cell_type": "code",
      "source": [
        "# divide the data into train, validation, and test set\n",
        "#(X, x_val , Y, y_val) = train_test_split(data, labels, test_size=0.2,  stratify=labels,random_state=42)\n",
        "#(x_train, x_test, y_train, y_test) = train_test_split(X, Y, test_size=0.25, random_state=42)\n",
        "#print(f\"x_train examples: {x_train.shape}\\nx_test examples: {x_test.shape}\\nx_val examples: {x_val.shape}\")\n",
        "\n",
        "(x_train, x_test, y_train, y_test) = train_test_split(data, labels, test_size=0.3,random_state=42)\n",
        "print(f\"x_train examples: {x_train.shape}\\nx_test examples: {x_test.shape}\")"
      ],
      "metadata": {
        "colab": {
          "base_uri": "https://localhost:8080/"
        },
        "id": "Ws76CCyMi6uc",
        "outputId": "eb26c4e9-8d3a-4309-fd03-b92b04372bcf",
        "execution": {
          "iopub.status.busy": "2022-12-28T16:36:11.540285Z",
          "iopub.execute_input": "2022-12-28T16:36:11.541291Z",
          "iopub.status.idle": "2022-12-28T16:36:12.261677Z",
          "shell.execute_reply.started": "2022-12-28T16:36:11.541255Z",
          "shell.execute_reply": "2022-12-28T16:36:12.260597Z"
        },
        "trusted": true
      },
      "execution_count": null,
      "outputs": [
        {
          "name": "stdout",
          "text": "x_train examples: (172, 2048, 2048, 3)\nx_test examples: (75, 2048, 2048, 3)\n",
          "output_type": "stream"
        }
      ]
    },
    {
      "cell_type": "code",
      "source": [
        "batch_size=6"
      ],
      "metadata": {
        "id": "1aL4Sp3fFRqi",
        "execution": {
          "iopub.status.busy": "2022-12-28T16:36:12.263223Z",
          "iopub.execute_input": "2022-12-28T16:36:12.263877Z",
          "iopub.status.idle": "2022-12-28T16:36:12.268812Z",
          "shell.execute_reply.started": "2022-12-28T16:36:12.263840Z",
          "shell.execute_reply": "2022-12-28T16:36:12.267625Z"
        },
        "trusted": true
      },
      "execution_count": null,
      "outputs": []
    },
    {
      "cell_type": "code",
      "source": [
        "# custom dataset class\n",
        "class CustomDataset(Dataset):\n",
        "    def __init__(self, images, labels, transforms = None):\n",
        "        self.labels = labels\n",
        "        self.images = images\n",
        "        self.transforms = transforms\n",
        "        \n",
        "    def __len__(self):\n",
        "        return len(self.images)\n",
        "    \n",
        "    def __getitem__(self, index):\n",
        "        data = self.images[index][:]\n",
        "        labels = self.labels[index]\n",
        "        \n",
        "        if self.transforms:\n",
        "            data = self.transforms(data)\n",
        "            \n",
        "            return data,labels\n",
        "\n",
        "        \n",
        "        \n",
        "        \n",
        "        \n",
        "train_orginal_data = CustomDataset(x_train, y_train, train_orginal_transforms)\n",
        "test_orginal_data = CustomDataset(x_test, y_test, test_orginal_transforms)     \n",
        "\n",
        "\n",
        "train_augmentation_data = CustomDataset(x_train, y_train, train_augmentation_transforms )\n",
        "test_augmentation_data = CustomDataset(x_test, y_test, test_augmentation_transforms )  \n",
        "\n",
        "train_data = torch.utils.data.ConcatDataset([train_orginal_data,train_augmentation_data])\n",
        "print(len(train_data))\n",
        "test_data = torch.utils.data.ConcatDataset([test_orginal_data,test_augmentation_data])\n",
        "print(len(test_data))\n",
        "\n",
        "\n",
        "\n",
        "\n",
        "trainLoader = DataLoader(train_data, batch_size=batch_size, shuffle=True, num_workers=4)\n",
        "testLoader = DataLoader(test_data, batch_size=batch_size, shuffle=True, num_workers=4) "
      ],
      "metadata": {
        "colab": {
          "base_uri": "https://localhost:8080/"
        },
        "id": "1JI8d5JGjSRG",
        "outputId": "f098e731-65a9-436a-aa1f-353e9cc77d33",
        "execution": {
          "iopub.status.busy": "2022-12-28T16:36:12.270633Z",
          "iopub.execute_input": "2022-12-28T16:36:12.270981Z",
          "iopub.status.idle": "2022-12-28T16:36:12.291811Z",
          "shell.execute_reply.started": "2022-12-28T16:36:12.270947Z",
          "shell.execute_reply": "2022-12-28T16:36:12.290677Z"
        },
        "trusted": true
      },
      "execution_count": null,
      "outputs": [
        {
          "name": "stdout",
          "text": "344\n150\n",
          "output_type": "stream"
        },
        {
          "name": "stderr",
          "text": "/opt/conda/lib/python3.7/site-packages/torch/utils/data/dataloader.py:490: UserWarning: This DataLoader will create 4 worker processes in total. Our suggested max number of worker in current system is 2, which is smaller than what this DataLoader is going to create. Please be aware that excessive worker creation might get DataLoader running slow or even freeze, lower the worker number to avoid potential slowness/freeze if necessary.\n  cpuset_checked))\n",
          "output_type": "stream"
        }
      ]
    },
    {
      "cell_type": "code",
      "source": [
        "for X, y in trainLoader:\n",
        "    print(f\"Shape of X [N, C, H, W]: {X.shape}\")\n",
        "    print(f\"Shape of y: {y.shape} {y.dtype}\")\n",
        "    break"
      ],
      "metadata": {
        "colab": {
          "base_uri": "https://localhost:8080/"
        },
        "id": "z47BjF0k7kz7",
        "outputId": "8b959367-1a74-4f48-8b77-b8a1fa5cc141",
        "execution": {
          "iopub.status.busy": "2022-12-28T16:36:12.294946Z",
          "iopub.execute_input": "2022-12-28T16:36:12.295635Z",
          "iopub.status.idle": "2022-12-28T16:36:13.321486Z",
          "shell.execute_reply.started": "2022-12-28T16:36:12.295609Z",
          "shell.execute_reply": "2022-12-28T16:36:13.320282Z"
        },
        "trusted": true
      },
      "execution_count": null,
      "outputs": [
        {
          "name": "stdout",
          "text": "Shape of X [N, C, H, W]: torch.Size([6, 3, 224, 224])\nShape of y: torch.Size([6]) torch.int64\n",
          "output_type": "stream"
        }
      ]
    },
    {
      "cell_type": "code",
      "source": [
        "device = \"cuda\" if torch.cuda.is_available() else \"cpu\"\n",
        "print(f\"Using {device} device\")"
      ],
      "metadata": {
        "colab": {
          "base_uri": "https://localhost:8080/"
        },
        "id": "dPofmxO_jssC",
        "outputId": "efdc238e-9eb3-4946-ec93-f38ae53f984e",
        "execution": {
          "iopub.status.busy": "2022-12-28T16:36:13.324749Z",
          "iopub.execute_input": "2022-12-28T16:36:13.325553Z",
          "iopub.status.idle": "2022-12-28T16:36:13.443670Z",
          "shell.execute_reply.started": "2022-12-28T16:36:13.325504Z",
          "shell.execute_reply": "2022-12-28T16:36:13.442452Z"
        },
        "trusted": true
      },
      "execution_count": null,
      "outputs": [
        {
          "name": "stdout",
          "text": "Using cuda device\n",
          "output_type": "stream"
        }
      ]
    },
    {
      "cell_type": "markdown",
      "source": [
        "# **MODEL**"
      ],
      "metadata": {
        "id": "VjASoxY4pEEE"
      }
    },
    {
      "cell_type": "code",
      "source": [
        "class CNN(nn.Module):\n",
        "    def __init__(self):\n",
        "        super(CNN, self).__init__()\n",
        "        \n",
        "        self.conv1= nn.Conv2d(in_channels = 3, out_channels = 32, kernel_size = 3, padding = 1)\n",
        "        self.relu1= nn.ReLU()\n",
        "        self.maxpool1= nn.MaxPool2d(kernel_size=2)\n",
        "\n",
        "\n",
        "        self.conv2= nn.Conv2d(in_channels = 32, out_channels = 64, kernel_size = 3, padding = 1)\n",
        "        self.relu2= nn.ReLU()\n",
        "        self.maxpool2= nn.MaxPool2d(kernel_size=2)\n",
        "        \n",
        "        self.conv3= nn.Conv2d(in_channels = 64, out_channels = 64, kernel_size = 3, padding = 1)\n",
        "        self.relu3= nn.ReLU()\n",
        "        self.maxpool3= nn.MaxPool2d(kernel_size=2)\n",
        "        \n",
        "        self.flatten = nn.Flatten()\n",
        "        \n",
        "        \n",
        "        self.linear1= nn.Linear(50176, 512)\n",
        "        self.relu4= nn.ReLU()\n",
        "\n",
        "        self.l0= nn.Linear(512, len(lb.classes_))\n",
        "\n",
        "        \n",
        "    def forward(self, x):\n",
        "        # get the batch size only, ignore(c, h, w)\n",
        "        \n",
        "        x=self.conv1(x)\n",
        "        x=self.relu1(x)\n",
        "        x=self.maxpool1(x)\n",
        "\n",
        "\n",
        "        x=self.conv2(x)\n",
        "        x=self.relu2(x)\n",
        "        x=self.maxpool2(x)\n",
        "        \n",
        "        x=self.conv3(x)\n",
        "        x=self.relu3(x)\n",
        "        x=self.maxpool3(x)\n",
        "        \n",
        "        x=self.flatten(x)\n",
        "        \n",
        "        x=self.linear1(x)\n",
        "        x=self.relu4(x)\n",
        "\n",
        "        x= self.l0(x)\n",
        "        \n",
        "        return x\n",
        "\n",
        "model = CNN().to(device)\n",
        "print(model)"
      ],
      "metadata": {
        "colab": {
          "base_uri": "https://localhost:8080/"
        },
        "id": "kOPgxghVja4L",
        "outputId": "36d8d9a8-0bf9-462d-96a2-468ee756bb06",
        "execution": {
          "iopub.status.busy": "2022-12-28T16:36:13.445713Z",
          "iopub.execute_input": "2022-12-28T16:36:13.446102Z",
          "iopub.status.idle": "2022-12-28T16:36:17.391675Z",
          "shell.execute_reply.started": "2022-12-28T16:36:13.446046Z",
          "shell.execute_reply": "2022-12-28T16:36:17.390566Z"
        },
        "trusted": true
      },
      "execution_count": null,
      "outputs": [
        {
          "name": "stdout",
          "text": "CNN(\n  (conv1): Conv2d(3, 32, kernel_size=(3, 3), stride=(1, 1), padding=(1, 1))\n  (relu1): ReLU()\n  (maxpool1): MaxPool2d(kernel_size=2, stride=2, padding=0, dilation=1, ceil_mode=False)\n  (conv2): Conv2d(32, 64, kernel_size=(3, 3), stride=(1, 1), padding=(1, 1))\n  (relu2): ReLU()\n  (maxpool2): MaxPool2d(kernel_size=2, stride=2, padding=0, dilation=1, ceil_mode=False)\n  (conv3): Conv2d(64, 64, kernel_size=(3, 3), stride=(1, 1), padding=(1, 1))\n  (relu3): ReLU()\n  (maxpool3): MaxPool2d(kernel_size=2, stride=2, padding=0, dilation=1, ceil_mode=False)\n  (flatten): Flatten(start_dim=1, end_dim=-1)\n  (linear1): Linear(in_features=50176, out_features=512, bias=True)\n  (relu4): ReLU()\n  (l0): Linear(in_features=512, out_features=3, bias=True)\n)\n",
          "output_type": "stream"
        }
      ]
    },
    {
      "cell_type": "code",
      "source": [
        "device = \"cuda\" if torch.cuda.is_available() else \"cpu\"\n",
        "\n",
        "model = CNN().to(device)\n",
        "\n",
        "#model.load_state_dict(torch.load(\"/kaggle/working/model.pth\", map_location= device))\n",
        "\n",
        "model.to(device)\n",
        "summary(model, (3, 224, 224))"
      ],
      "metadata": {
        "colab": {
          "base_uri": "https://localhost:8080/"
        },
        "id": "iDc10jWaFt9G",
        "outputId": "15d6a762-2ae1-40d6-cc1c-ce78532bbbfb",
        "execution": {
          "iopub.status.busy": "2022-12-28T16:36:17.393308Z",
          "iopub.execute_input": "2022-12-28T16:36:17.393968Z",
          "iopub.status.idle": "2022-12-28T16:36:28.261972Z",
          "shell.execute_reply.started": "2022-12-28T16:36:17.393929Z",
          "shell.execute_reply": "2022-12-28T16:36:28.260858Z"
        },
        "trusted": true
      },
      "execution_count": null,
      "outputs": [
        {
          "name": "stdout",
          "text": "----------------------------------------------------------------\n        Layer (type)               Output Shape         Param #\n================================================================\n            Conv2d-1         [-1, 32, 224, 224]             896\n              ReLU-2         [-1, 32, 224, 224]               0\n         MaxPool2d-3         [-1, 32, 112, 112]               0\n            Conv2d-4         [-1, 64, 112, 112]          18,496\n              ReLU-5         [-1, 64, 112, 112]               0\n         MaxPool2d-6           [-1, 64, 56, 56]               0\n            Conv2d-7           [-1, 64, 56, 56]          36,928\n              ReLU-8           [-1, 64, 56, 56]               0\n         MaxPool2d-9           [-1, 64, 28, 28]               0\n          Flatten-10                [-1, 50176]               0\n           Linear-11                  [-1, 512]      25,690,624\n             ReLU-12                  [-1, 512]               0\n           Linear-13                    [-1, 3]           1,539\n================================================================\nTotal params: 25,748,483\nTrainable params: 25,748,483\nNon-trainable params: 0\n----------------------------------------------------------------\nInput size (MB): 0.57\nForward/backward pass size (MB): 45.18\nParams size (MB): 98.22\nEstimated Total Size (MB): 143.98\n----------------------------------------------------------------\n",
          "output_type": "stream"
        }
      ]
    },
    {
      "cell_type": "markdown",
      "source": [
        "# **OPTIMZER**"
      ],
      "metadata": {
        "id": "CzqoM6m0pEEM"
      }
    },
    {
      "cell_type": "code",
      "source": [
        "lr = 0.001\n",
        "\n",
        "WEIGHT_DECAY = 0.0005\n",
        "save_path = \"model.pth\"\n",
        "fine_tune = True\n",
        "#load_path = \"/kaggle/working/model_1.pth\""
      ],
      "metadata": {
        "execution": {
          "iopub.status.busy": "2022-12-28T16:36:28.264405Z",
          "iopub.execute_input": "2022-12-28T16:36:28.265648Z",
          "iopub.status.idle": "2022-12-28T16:36:28.270673Z",
          "shell.execute_reply.started": "2022-12-28T16:36:28.265608Z",
          "shell.execute_reply": "2022-12-28T16:36:28.269680Z"
        },
        "trusted": true,
        "id": "GBMTbDJypEEO"
      },
      "execution_count": null,
      "outputs": []
    },
    {
      "cell_type": "code",
      "source": [
        "# loss function\n",
        "loss_fn = nn.CrossEntropyLoss()\n",
        "#optimizer = torch.optim.Adam(model.parameters(), lr = lr, weight_decay=WEIGHT_DECAY)\n",
        "optimizer= torch.optim.SGD(model.parameters(),lr= lr,momentum=0.9)"
      ],
      "metadata": {
        "id": "DSLEyL1ijuJS",
        "execution": {
          "iopub.status.busy": "2022-12-28T16:36:28.272139Z",
          "iopub.execute_input": "2022-12-28T16:36:28.272665Z",
          "iopub.status.idle": "2022-12-28T16:36:28.287123Z",
          "shell.execute_reply.started": "2022-12-28T16:36:28.272613Z",
          "shell.execute_reply": "2022-12-28T16:36:28.286170Z"
        },
        "trusted": true
      },
      "execution_count": null,
      "outputs": []
    },
    {
      "cell_type": "markdown",
      "source": [
        "# **LOAD MODEL**"
      ],
      "metadata": {
        "id": "S8hL2UYwpEEQ"
      }
    },
    {
      "cell_type": "code",
      "source": [
        "#state_dict = torch.load(load_path, map_location=device)\n",
        "#model.load_state_dict(state_dict)"
      ],
      "metadata": {
        "execution": {
          "iopub.status.busy": "2022-12-28T16:36:28.288679Z",
          "iopub.execute_input": "2022-12-28T16:36:28.289182Z",
          "iopub.status.idle": "2022-12-28T16:36:28.298123Z",
          "shell.execute_reply.started": "2022-12-28T16:36:28.289149Z",
          "shell.execute_reply": "2022-12-28T16:36:28.297185Z"
        },
        "trusted": true,
        "id": "SRYZSVFOpEEQ"
      },
      "execution_count": null,
      "outputs": []
    },
    {
      "cell_type": "markdown",
      "source": [
        "# **TRAINING**"
      ],
      "metadata": {
        "id": "PrSBmjUrpEER"
      }
    },
    {
      "cell_type": "code",
      "source": [
        "def train(model,dataloader):    \n",
        "    # training function\n",
        "\n",
        "    print('Training')\n",
        "    model.train()\n",
        "    running_loss = 0.0\n",
        "    running_correct = 0\n",
        "    total=0\n",
        "    for batch, (X, y) in enumerate(tqdm(dataloader)):\n",
        "\n",
        "\n",
        "        X, y = X.to(device), y.to(device)\n",
        "\n",
        "        optimizer.zero_grad()\n",
        "        outputs = model(X)\n",
        "        loss = loss_fn(outputs, y)\n",
        "\n",
        "        loss.backward()\n",
        "        optimizer.step()\n",
        "\n",
        "        running_loss += loss.item()\n",
        "        running_correct += (outputs.argmax(1) == y).type(torch.float).sum().item()\n",
        "        total += y.size(0)\n",
        "\n",
        "    loss = running_loss/len(dataloader)\n",
        "    accuracy = 100.*running_correct/total\n",
        "    print('Train Loss: %.3f | Accuracy: %.3f'%(loss, accuracy))\n",
        "\n",
        "\n",
        "    #print(f\"Train Loss: {loss:.4f}, Train Acc: {accuracy:.2f}\")\n",
        "\n",
        "\n",
        "    return loss, accuracy"
      ],
      "metadata": {
        "id": "R0zaRyYBNwf5",
        "execution": {
          "iopub.status.busy": "2022-12-28T16:36:28.299464Z",
          "iopub.execute_input": "2022-12-28T16:36:28.300491Z",
          "iopub.status.idle": "2022-12-28T16:36:28.310210Z",
          "shell.execute_reply.started": "2022-12-28T16:36:28.300455Z",
          "shell.execute_reply": "2022-12-28T16:36:28.309042Z"
        },
        "trusted": true
      },
      "execution_count": null,
      "outputs": []
    },
    {
      "cell_type": "markdown",
      "source": [
        "# **VALIDATION**"
      ],
      "metadata": {
        "id": "Nf0EyoYIpEES"
      }
    },
    {
      "cell_type": "code",
      "source": [
        "#validation function\n",
        "def validate(model, dataloader):\n",
        "    print('Validating')\n",
        "    model.eval()\n",
        "    running_loss = 0.0\n",
        "    running_correct = 0\n",
        "    total=0\n",
        "    with torch.no_grad():\n",
        "        \n",
        "        for batch, (X, y) in enumerate(dataloader):\n",
        "            X, y = X.to(device), y.to(device)\n",
        "\n",
        "            # Compute prediction error\n",
        "            pred = model(X)\n",
        "            loss = loss_fn(pred, y)\n",
        "            running_loss += loss_fn(pred, y).item()        \n",
        "            running_correct += (pred.argmax(1) == y).type(torch.float).sum().item()\n",
        "            total += y.size(0)\n",
        "        \n",
        "    loss = running_loss/len(dataloader)\n",
        "    accuracy = 100.*running_correct/total\n",
        "    #print(f'Val Loss: {loss:.4f}, Val Acc: {accuracy:.2f}')\n",
        "    print('Test Loss: %.3f | Accuracy: %.3f'%(loss, accuracy))\n",
        "\n",
        "\n",
        "    return loss, accuracy"
      ],
      "metadata": {
        "id": "EsQy83QuSjVX",
        "execution": {
          "iopub.status.busy": "2022-12-28T16:36:28.311679Z",
          "iopub.execute_input": "2022-12-28T16:36:28.312453Z",
          "iopub.status.idle": "2022-12-28T16:36:28.326452Z",
          "shell.execute_reply.started": "2022-12-28T16:36:28.312419Z",
          "shell.execute_reply": "2022-12-28T16:36:28.325579Z"
        },
        "trusted": true
      },
      "execution_count": null,
      "outputs": []
    },
    {
      "cell_type": "markdown",
      "source": [
        "# **TRAINING AND VALIDATION IN SINGLE FUNCTION**"
      ],
      "metadata": {
        "id": "2H1fXQIzpEET"
      }
    },
    {
      "cell_type": "code",
      "source": [
        "epochs=50\n",
        "\n",
        "\n",
        "train_loss , train_accuracy = [], []\n",
        "val_loss , val_accuracy = [], []\n",
        "print(f\"Training on {len(train_data)} examples, validating on {len(test_data)} examples...\")\n",
        "\n",
        "for epoch in range(epochs):\n",
        "    print(f\"Epoch {epoch+1} of {epochs}\")\n",
        "    train_epoch_loss, train_epoch_accuracy = train(model, trainLoader)\n",
        "    val_epoch_loss, val_epoch_accuracy = validate(model, testLoader)\n",
        "    train_loss.append(train_epoch_loss)\n",
        "    train_accuracy.append(train_epoch_accuracy)\n",
        "    val_loss.append(val_epoch_loss)\n",
        "    val_accuracy.append(val_epoch_accuracy)"
      ],
      "metadata": {
        "colab": {
          "base_uri": "https://localhost:8080/"
        },
        "id": "kxWa3M8tlCFP",
        "outputId": "254828b1-a091-4a60-f0f3-ebe5066e2016",
        "execution": {
          "iopub.status.busy": "2022-12-28T16:36:28.327995Z",
          "iopub.execute_input": "2022-12-28T16:36:28.329016Z",
          "iopub.status.idle": "2022-12-28T16:47:08.241734Z",
          "shell.execute_reply.started": "2022-12-28T16:36:28.328983Z",
          "shell.execute_reply": "2022-12-28T16:47:08.240135Z"
        },
        "trusted": true
      },
      "execution_count": null,
      "outputs": [
        {
          "name": "stdout",
          "text": "Training on 344 examples, validating on 150 examples...\nEpoch 1 of 50\nTraining\n",
          "output_type": "stream"
        },
        {
          "name": "stderr",
          "text": "100%|██████████| 58/58 [00:09<00:00,  6.31it/s]\n",
          "output_type": "stream"
        },
        {
          "name": "stdout",
          "text": "Train Loss: 1.083 | Accuracy: 34.302\nValidating\nTest Loss: 1.068 | Accuracy: 44.000\nEpoch 2 of 50\nTraining\n",
          "output_type": "stream"
        },
        {
          "name": "stderr",
          "text": "100%|██████████| 58/58 [00:09<00:00,  6.39it/s]",
          "output_type": "stream"
        },
        {
          "name": "stdout",
          "text": "Train Loss: 1.069 | Accuracy: 40.116\nValidating\n",
          "output_type": "stream"
        },
        {
          "name": "stderr",
          "text": "\n",
          "output_type": "stream"
        },
        {
          "name": "stdout",
          "text": "Test Loss: 1.070 | Accuracy: 49.333\nEpoch 3 of 50\nTraining\n",
          "output_type": "stream"
        },
        {
          "name": "stderr",
          "text": "100%|██████████| 58/58 [00:08<00:00,  6.70it/s]",
          "output_type": "stream"
        },
        {
          "name": "stdout",
          "text": "Train Loss: 1.070 | Accuracy: 41.279\nValidating\n",
          "output_type": "stream"
        },
        {
          "name": "stderr",
          "text": "\n",
          "output_type": "stream"
        },
        {
          "name": "stdout",
          "text": "Test Loss: 1.080 | Accuracy: 32.667\nEpoch 4 of 50\nTraining\n",
          "output_type": "stream"
        },
        {
          "name": "stderr",
          "text": "100%|██████████| 58/58 [00:08<00:00,  6.49it/s]",
          "output_type": "stream"
        },
        {
          "name": "stdout",
          "text": "Train Loss: 1.060 | Accuracy: 43.023\nValidating\n",
          "output_type": "stream"
        },
        {
          "name": "stderr",
          "text": "\n",
          "output_type": "stream"
        },
        {
          "name": "stdout",
          "text": "Test Loss: 1.098 | Accuracy: 37.333\nEpoch 5 of 50\nTraining\n",
          "output_type": "stream"
        },
        {
          "name": "stderr",
          "text": "100%|██████████| 58/58 [00:09<00:00,  6.02it/s]",
          "output_type": "stream"
        },
        {
          "name": "stdout",
          "text": "Train Loss: 1.076 | Accuracy: 37.791\nValidating\n",
          "output_type": "stream"
        },
        {
          "name": "stderr",
          "text": "\n",
          "output_type": "stream"
        },
        {
          "name": "stdout",
          "text": "Test Loss: 1.068 | Accuracy: 46.000\nEpoch 6 of 50\nTraining\n",
          "output_type": "stream"
        },
        {
          "name": "stderr",
          "text": "100%|██████████| 58/58 [00:08<00:00,  6.56it/s]",
          "output_type": "stream"
        },
        {
          "name": "stdout",
          "text": "Train Loss: 1.062 | Accuracy: 40.116\nValidating\n",
          "output_type": "stream"
        },
        {
          "name": "stderr",
          "text": "\n",
          "output_type": "stream"
        },
        {
          "name": "stdout",
          "text": "Test Loss: 1.067 | Accuracy: 44.667\nEpoch 7 of 50\nTraining\n",
          "output_type": "stream"
        },
        {
          "name": "stderr",
          "text": "100%|██████████| 58/58 [00:09<00:00,  6.09it/s]",
          "output_type": "stream"
        },
        {
          "name": "stdout",
          "text": "Train Loss: 1.054 | Accuracy: 43.895\nValidating\n",
          "output_type": "stream"
        },
        {
          "name": "stderr",
          "text": "\n",
          "output_type": "stream"
        },
        {
          "name": "stdout",
          "text": "Test Loss: 1.061 | Accuracy: 44.000\nEpoch 8 of 50\nTraining\n",
          "output_type": "stream"
        },
        {
          "name": "stderr",
          "text": "100%|██████████| 58/58 [00:08<00:00,  6.77it/s]",
          "output_type": "stream"
        },
        {
          "name": "stdout",
          "text": "Train Loss: 1.058 | Accuracy: 39.535\nValidating\n",
          "output_type": "stream"
        },
        {
          "name": "stderr",
          "text": "\n",
          "output_type": "stream"
        },
        {
          "name": "stdout",
          "text": "Test Loss: 1.068 | Accuracy: 52.000\nEpoch 9 of 50\nTraining\n",
          "output_type": "stream"
        },
        {
          "name": "stderr",
          "text": "100%|██████████| 58/58 [00:08<00:00,  6.85it/s]",
          "output_type": "stream"
        },
        {
          "name": "stdout",
          "text": "Train Loss: 1.048 | Accuracy: 40.988\nValidating\n",
          "output_type": "stream"
        },
        {
          "name": "stderr",
          "text": "\n",
          "output_type": "stream"
        },
        {
          "name": "stdout",
          "text": "Test Loss: 1.060 | Accuracy: 48.667\nEpoch 10 of 50\nTraining\n",
          "output_type": "stream"
        },
        {
          "name": "stderr",
          "text": "100%|██████████| 58/58 [00:09<00:00,  6.09it/s]",
          "output_type": "stream"
        },
        {
          "name": "stdout",
          "text": "Train Loss: 1.043 | Accuracy: 44.186\nValidating\n",
          "output_type": "stream"
        },
        {
          "name": "stderr",
          "text": "\n",
          "output_type": "stream"
        },
        {
          "name": "stdout",
          "text": "Test Loss: 1.077 | Accuracy: 34.667\nEpoch 11 of 50\nTraining\n",
          "output_type": "stream"
        },
        {
          "name": "stderr",
          "text": "100%|██████████| 58/58 [00:08<00:00,  6.52it/s]",
          "output_type": "stream"
        },
        {
          "name": "stdout",
          "text": "Train Loss: 1.032 | Accuracy: 44.767\nValidating\n",
          "output_type": "stream"
        },
        {
          "name": "stderr",
          "text": "\n",
          "output_type": "stream"
        },
        {
          "name": "stdout",
          "text": "Test Loss: 1.051 | Accuracy: 52.667\nEpoch 12 of 50\nTraining\n",
          "output_type": "stream"
        },
        {
          "name": "stderr",
          "text": "100%|██████████| 58/58 [00:09<00:00,  6.09it/s]",
          "output_type": "stream"
        },
        {
          "name": "stdout",
          "text": "Train Loss: 1.036 | Accuracy: 41.860\nValidating\n",
          "output_type": "stream"
        },
        {
          "name": "stderr",
          "text": "\n",
          "output_type": "stream"
        },
        {
          "name": "stdout",
          "text": "Test Loss: 1.070 | Accuracy: 42.667\nEpoch 13 of 50\nTraining\n",
          "output_type": "stream"
        },
        {
          "name": "stderr",
          "text": "100%|██████████| 58/58 [00:08<00:00,  6.61it/s]",
          "output_type": "stream"
        },
        {
          "name": "stdout",
          "text": "Train Loss: 1.017 | Accuracy: 44.186\nValidating\n",
          "output_type": "stream"
        },
        {
          "name": "stderr",
          "text": "\n",
          "output_type": "stream"
        },
        {
          "name": "stdout",
          "text": "Test Loss: 1.062 | Accuracy: 45.333\nEpoch 14 of 50\nTraining\n",
          "output_type": "stream"
        },
        {
          "name": "stderr",
          "text": "100%|██████████| 58/58 [00:08<00:00,  6.80it/s]",
          "output_type": "stream"
        },
        {
          "name": "stdout",
          "text": "Train Loss: 1.018 | Accuracy: 44.767\nValidating\n",
          "output_type": "stream"
        },
        {
          "name": "stderr",
          "text": "\n",
          "output_type": "stream"
        },
        {
          "name": "stdout",
          "text": "Test Loss: 1.081 | Accuracy: 35.333\nEpoch 15 of 50\nTraining\n",
          "output_type": "stream"
        },
        {
          "name": "stderr",
          "text": "100%|██████████| 58/58 [00:09<00:00,  6.39it/s]",
          "output_type": "stream"
        },
        {
          "name": "stdout",
          "text": "Train Loss: 1.035 | Accuracy: 45.349\nValidating\n",
          "output_type": "stream"
        },
        {
          "name": "stderr",
          "text": "\n",
          "output_type": "stream"
        },
        {
          "name": "stdout",
          "text": "Test Loss: 1.063 | Accuracy: 40.667\nEpoch 16 of 50\nTraining\n",
          "output_type": "stream"
        },
        {
          "name": "stderr",
          "text": "100%|██████████| 58/58 [00:08<00:00,  6.64it/s]",
          "output_type": "stream"
        },
        {
          "name": "stdout",
          "text": "Train Loss: 0.997 | Accuracy: 48.547\nValidating\n",
          "output_type": "stream"
        },
        {
          "name": "stderr",
          "text": "\n",
          "output_type": "stream"
        },
        {
          "name": "stdout",
          "text": "Test Loss: 1.107 | Accuracy: 33.333\nEpoch 17 of 50\nTraining\n",
          "output_type": "stream"
        },
        {
          "name": "stderr",
          "text": "100%|██████████| 58/58 [00:09<00:00,  6.03it/s]",
          "output_type": "stream"
        },
        {
          "name": "stdout",
          "text": "Train Loss: 0.988 | Accuracy: 49.419\nValidating\n",
          "output_type": "stream"
        },
        {
          "name": "stderr",
          "text": "\n",
          "output_type": "stream"
        },
        {
          "name": "stdout",
          "text": "Test Loss: 1.059 | Accuracy: 49.333\nEpoch 18 of 50\nTraining\n",
          "output_type": "stream"
        },
        {
          "name": "stderr",
          "text": "100%|██████████| 58/58 [00:08<00:00,  6.45it/s]",
          "output_type": "stream"
        },
        {
          "name": "stdout",
          "text": "Train Loss: 0.995 | Accuracy: 50.291\nValidating\n",
          "output_type": "stream"
        },
        {
          "name": "stderr",
          "text": "\n",
          "output_type": "stream"
        },
        {
          "name": "stdout",
          "text": "Test Loss: 1.126 | Accuracy: 34.667\nEpoch 19 of 50\nTraining\n",
          "output_type": "stream"
        },
        {
          "name": "stderr",
          "text": "100%|██████████| 58/58 [00:08<00:00,  6.92it/s]",
          "output_type": "stream"
        },
        {
          "name": "stdout",
          "text": "Train Loss: 0.967 | Accuracy: 54.070\nValidating\n",
          "output_type": "stream"
        },
        {
          "name": "stderr",
          "text": "\n",
          "output_type": "stream"
        },
        {
          "name": "stdout",
          "text": "Test Loss: 1.074 | Accuracy: 48.000\nEpoch 20 of 50\nTraining\n",
          "output_type": "stream"
        },
        {
          "name": "stderr",
          "text": "100%|██████████| 58/58 [00:08<00:00,  7.03it/s]",
          "output_type": "stream"
        },
        {
          "name": "stdout",
          "text": "Train Loss: 0.969 | Accuracy: 51.453\nValidating\n",
          "output_type": "stream"
        },
        {
          "name": "stderr",
          "text": "\n",
          "output_type": "stream"
        },
        {
          "name": "stdout",
          "text": "Test Loss: 1.107 | Accuracy: 46.667\nEpoch 21 of 50\nTraining\n",
          "output_type": "stream"
        },
        {
          "name": "stderr",
          "text": "100%|██████████| 58/58 [00:08<00:00,  6.77it/s]",
          "output_type": "stream"
        },
        {
          "name": "stdout",
          "text": "Train Loss: 0.946 | Accuracy: 55.523\nValidating\n",
          "output_type": "stream"
        },
        {
          "name": "stderr",
          "text": "\n",
          "output_type": "stream"
        },
        {
          "name": "stdout",
          "text": "Test Loss: 1.143 | Accuracy: 45.333\nEpoch 22 of 50\nTraining\n",
          "output_type": "stream"
        },
        {
          "name": "stderr",
          "text": "100%|██████████| 58/58 [00:09<00:00,  6.03it/s]",
          "output_type": "stream"
        },
        {
          "name": "stdout",
          "text": "Train Loss: 0.950 | Accuracy: 52.616\nValidating\n",
          "output_type": "stream"
        },
        {
          "name": "stderr",
          "text": "\n",
          "output_type": "stream"
        },
        {
          "name": "stdout",
          "text": "Test Loss: 1.091 | Accuracy: 46.000\nEpoch 23 of 50\nTraining\n",
          "output_type": "stream"
        },
        {
          "name": "stderr",
          "text": "100%|██████████| 58/58 [00:08<00:00,  6.74it/s]",
          "output_type": "stream"
        },
        {
          "name": "stdout",
          "text": "Train Loss: 0.952 | Accuracy: 52.035\nValidating\n",
          "output_type": "stream"
        },
        {
          "name": "stderr",
          "text": "\n",
          "output_type": "stream"
        },
        {
          "name": "stdout",
          "text": "Test Loss: 1.103 | Accuracy: 38.000\nEpoch 24 of 50\nTraining\n",
          "output_type": "stream"
        },
        {
          "name": "stderr",
          "text": "100%|██████████| 58/58 [00:08<00:00,  6.59it/s]",
          "output_type": "stream"
        },
        {
          "name": "stdout",
          "text": "Train Loss: 0.936 | Accuracy: 52.616\nValidating\n",
          "output_type": "stream"
        },
        {
          "name": "stderr",
          "text": "\n",
          "output_type": "stream"
        },
        {
          "name": "stdout",
          "text": "Test Loss: 1.161 | Accuracy: 45.333\nEpoch 25 of 50\nTraining\n",
          "output_type": "stream"
        },
        {
          "name": "stderr",
          "text": "100%|██████████| 58/58 [00:08<00:00,  6.75it/s]",
          "output_type": "stream"
        },
        {
          "name": "stdout",
          "text": "Train Loss: 0.946 | Accuracy: 53.779\nValidating\n",
          "output_type": "stream"
        },
        {
          "name": "stderr",
          "text": "\n",
          "output_type": "stream"
        },
        {
          "name": "stdout",
          "text": "Test Loss: 1.115 | Accuracy: 44.000\nEpoch 26 of 50\nTraining\n",
          "output_type": "stream"
        },
        {
          "name": "stderr",
          "text": "100%|██████████| 58/58 [00:08<00:00,  7.05it/s]",
          "output_type": "stream"
        },
        {
          "name": "stdout",
          "text": "Train Loss: 0.946 | Accuracy: 53.488\nValidating\n",
          "output_type": "stream"
        },
        {
          "name": "stderr",
          "text": "\n",
          "output_type": "stream"
        },
        {
          "name": "stdout",
          "text": "Test Loss: 1.105 | Accuracy: 44.000\nEpoch 27 of 50\nTraining\n",
          "output_type": "stream"
        },
        {
          "name": "stderr",
          "text": "100%|██████████| 58/58 [00:09<00:00,  6.18it/s]",
          "output_type": "stream"
        },
        {
          "name": "stdout",
          "text": "Train Loss: 0.917 | Accuracy: 56.395\nValidating\n",
          "output_type": "stream"
        },
        {
          "name": "stderr",
          "text": "\n",
          "output_type": "stream"
        },
        {
          "name": "stdout",
          "text": "Test Loss: 1.202 | Accuracy: 35.333\nEpoch 28 of 50\nTraining\n",
          "output_type": "stream"
        },
        {
          "name": "stderr",
          "text": "100%|██████████| 58/58 [00:08<00:00,  6.66it/s]",
          "output_type": "stream"
        },
        {
          "name": "stdout",
          "text": "Train Loss: 0.914 | Accuracy: 57.558\nValidating\n",
          "output_type": "stream"
        },
        {
          "name": "stderr",
          "text": "\n",
          "output_type": "stream"
        },
        {
          "name": "stdout",
          "text": "Test Loss: 1.132 | Accuracy: 45.333\nEpoch 29 of 50\nTraining\n",
          "output_type": "stream"
        },
        {
          "name": "stderr",
          "text": "100%|██████████| 58/58 [00:08<00:00,  6.65it/s]",
          "output_type": "stream"
        },
        {
          "name": "stdout",
          "text": "Train Loss: 0.904 | Accuracy: 58.721\nValidating\n",
          "output_type": "stream"
        },
        {
          "name": "stderr",
          "text": "\n",
          "output_type": "stream"
        },
        {
          "name": "stdout",
          "text": "Test Loss: 1.156 | Accuracy: 43.333\nEpoch 30 of 50\nTraining\n",
          "output_type": "stream"
        },
        {
          "name": "stderr",
          "text": "100%|██████████| 58/58 [00:08<00:00,  6.67it/s]",
          "output_type": "stream"
        },
        {
          "name": "stdout",
          "text": "Train Loss: 0.879 | Accuracy: 56.105\nValidating\n",
          "output_type": "stream"
        },
        {
          "name": "stderr",
          "text": "\n",
          "output_type": "stream"
        },
        {
          "name": "stdout",
          "text": "Test Loss: 1.243 | Accuracy: 44.000\nEpoch 31 of 50\nTraining\n",
          "output_type": "stream"
        },
        {
          "name": "stderr",
          "text": "100%|██████████| 58/58 [00:08<00:00,  6.69it/s]",
          "output_type": "stream"
        },
        {
          "name": "stdout",
          "text": "Train Loss: 0.889 | Accuracy: 55.233\nValidating\n",
          "output_type": "stream"
        },
        {
          "name": "stderr",
          "text": "\n",
          "output_type": "stream"
        },
        {
          "name": "stdout",
          "text": "Test Loss: 1.161 | Accuracy: 42.667\nEpoch 32 of 50\nTraining\n",
          "output_type": "stream"
        },
        {
          "name": "stderr",
          "text": "100%|██████████| 58/58 [00:09<00:00,  6.39it/s]",
          "output_type": "stream"
        },
        {
          "name": "stdout",
          "text": "Train Loss: 0.870 | Accuracy: 57.267\nValidating\n",
          "output_type": "stream"
        },
        {
          "name": "stderr",
          "text": "\n",
          "output_type": "stream"
        },
        {
          "name": "stdout",
          "text": "Test Loss: 1.105 | Accuracy: 36.667\nEpoch 33 of 50\nTraining\n",
          "output_type": "stream"
        },
        {
          "name": "stderr",
          "text": "100%|██████████| 58/58 [00:08<00:00,  6.95it/s]",
          "output_type": "stream"
        },
        {
          "name": "stdout",
          "text": "Train Loss: 0.880 | Accuracy: 61.919\nValidating\n",
          "output_type": "stream"
        },
        {
          "name": "stderr",
          "text": "\n",
          "output_type": "stream"
        },
        {
          "name": "stdout",
          "text": "Test Loss: 1.150 | Accuracy: 43.333\nEpoch 34 of 50\nTraining\n",
          "output_type": "stream"
        },
        {
          "name": "stderr",
          "text": "100%|██████████| 58/58 [00:08<00:00,  6.74it/s]",
          "output_type": "stream"
        },
        {
          "name": "stdout",
          "text": "Train Loss: 0.832 | Accuracy: 59.884\nValidating\n",
          "output_type": "stream"
        },
        {
          "name": "stderr",
          "text": "\n",
          "output_type": "stream"
        },
        {
          "name": "stdout",
          "text": "Test Loss: 1.235 | Accuracy: 46.000\nEpoch 35 of 50\nTraining\n",
          "output_type": "stream"
        },
        {
          "name": "stderr",
          "text": "100%|██████████| 58/58 [00:08<00:00,  6.62it/s]",
          "output_type": "stream"
        },
        {
          "name": "stdout",
          "text": "Train Loss: 0.817 | Accuracy: 62.791\nValidating\n",
          "output_type": "stream"
        },
        {
          "name": "stderr",
          "text": "\n",
          "output_type": "stream"
        },
        {
          "name": "stdout",
          "text": "Test Loss: 1.323 | Accuracy: 30.667\nEpoch 36 of 50\nTraining\n",
          "output_type": "stream"
        },
        {
          "name": "stderr",
          "text": "100%|██████████| 58/58 [00:08<00:00,  6.61it/s]",
          "output_type": "stream"
        },
        {
          "name": "stdout",
          "text": "Train Loss: 0.834 | Accuracy: 62.791\nValidating\n",
          "output_type": "stream"
        },
        {
          "name": "stderr",
          "text": "\n",
          "output_type": "stream"
        },
        {
          "name": "stdout",
          "text": "Test Loss: 1.283 | Accuracy: 52.667\nEpoch 37 of 50\nTraining\n",
          "output_type": "stream"
        },
        {
          "name": "stderr",
          "text": "100%|██████████| 58/58 [00:09<00:00,  6.25it/s]",
          "output_type": "stream"
        },
        {
          "name": "stdout",
          "text": "Train Loss: 0.818 | Accuracy: 62.500\nValidating\n",
          "output_type": "stream"
        },
        {
          "name": "stderr",
          "text": "\n",
          "output_type": "stream"
        },
        {
          "name": "stdout",
          "text": "Test Loss: 1.110 | Accuracy: 50.667\nEpoch 38 of 50\nTraining\n",
          "output_type": "stream"
        },
        {
          "name": "stderr",
          "text": "100%|██████████| 58/58 [00:08<00:00,  6.71it/s]",
          "output_type": "stream"
        },
        {
          "name": "stdout",
          "text": "Train Loss: 0.792 | Accuracy: 66.570\nValidating\n",
          "output_type": "stream"
        },
        {
          "name": "stderr",
          "text": "\n",
          "output_type": "stream"
        },
        {
          "name": "stdout",
          "text": "Test Loss: 1.236 | Accuracy: 50.667\nEpoch 39 of 50\nTraining\n",
          "output_type": "stream"
        },
        {
          "name": "stderr",
          "text": "100%|██████████| 58/58 [00:08<00:00,  6.85it/s]",
          "output_type": "stream"
        },
        {
          "name": "stdout",
          "text": "Train Loss: 0.754 | Accuracy: 66.570\nValidating\n",
          "output_type": "stream"
        },
        {
          "name": "stderr",
          "text": "\n",
          "output_type": "stream"
        },
        {
          "name": "stdout",
          "text": "Test Loss: 1.319 | Accuracy: 48.000\nEpoch 40 of 50\nTraining\n",
          "output_type": "stream"
        },
        {
          "name": "stderr",
          "text": "100%|██████████| 58/58 [00:08<00:00,  6.76it/s]",
          "output_type": "stream"
        },
        {
          "name": "stdout",
          "text": "Train Loss: 0.828 | Accuracy: 63.372\nValidating\n",
          "output_type": "stream"
        },
        {
          "name": "stderr",
          "text": "\n",
          "output_type": "stream"
        },
        {
          "name": "stdout",
          "text": "Test Loss: 1.280 | Accuracy: 42.000\nEpoch 41 of 50\nTraining\n",
          "output_type": "stream"
        },
        {
          "name": "stderr",
          "text": "100%|██████████| 58/58 [00:08<00:00,  6.69it/s]",
          "output_type": "stream"
        },
        {
          "name": "stdout",
          "text": "Train Loss: 0.757 | Accuracy: 68.895\nValidating\n",
          "output_type": "stream"
        },
        {
          "name": "stderr",
          "text": "\n",
          "output_type": "stream"
        },
        {
          "name": "stdout",
          "text": "Test Loss: 1.103 | Accuracy: 54.000\nEpoch 42 of 50\nTraining\n",
          "output_type": "stream"
        },
        {
          "name": "stderr",
          "text": "100%|██████████| 58/58 [00:09<00:00,  6.26it/s]",
          "output_type": "stream"
        },
        {
          "name": "stdout",
          "text": "Train Loss: 0.775 | Accuracy: 66.279\nValidating\n",
          "output_type": "stream"
        },
        {
          "name": "stderr",
          "text": "\n",
          "output_type": "stream"
        },
        {
          "name": "stdout",
          "text": "Test Loss: 1.377 | Accuracy: 54.667\nEpoch 43 of 50\nTraining\n",
          "output_type": "stream"
        },
        {
          "name": "stderr",
          "text": "100%|██████████| 58/58 [00:08<00:00,  6.69it/s]",
          "output_type": "stream"
        },
        {
          "name": "stdout",
          "text": "Train Loss: 0.706 | Accuracy: 68.314\nValidating\n",
          "output_type": "stream"
        },
        {
          "name": "stderr",
          "text": "\n",
          "output_type": "stream"
        },
        {
          "name": "stdout",
          "text": "Test Loss: 1.182 | Accuracy: 52.000\nEpoch 44 of 50\nTraining\n",
          "output_type": "stream"
        },
        {
          "name": "stderr",
          "text": "100%|██████████| 58/58 [00:08<00:00,  6.51it/s]",
          "output_type": "stream"
        },
        {
          "name": "stdout",
          "text": "Train Loss: 0.666 | Accuracy: 75.000\nValidating\n",
          "output_type": "stream"
        },
        {
          "name": "stderr",
          "text": "\n",
          "output_type": "stream"
        },
        {
          "name": "stdout",
          "text": "Test Loss: 1.282 | Accuracy: 47.333\nEpoch 45 of 50\nTraining\n",
          "output_type": "stream"
        },
        {
          "name": "stderr",
          "text": "100%|██████████| 58/58 [00:08<00:00,  6.98it/s]",
          "output_type": "stream"
        },
        {
          "name": "stdout",
          "text": "Train Loss: 0.687 | Accuracy: 71.221\nValidating\n",
          "output_type": "stream"
        },
        {
          "name": "stderr",
          "text": "\n",
          "output_type": "stream"
        },
        {
          "name": "stdout",
          "text": "Test Loss: 1.281 | Accuracy: 49.333\nEpoch 46 of 50\nTraining\n",
          "output_type": "stream"
        },
        {
          "name": "stderr",
          "text": "100%|██████████| 58/58 [00:08<00:00,  6.98it/s]",
          "output_type": "stream"
        },
        {
          "name": "stdout",
          "text": "Train Loss: 0.613 | Accuracy: 72.093\nValidating\n",
          "output_type": "stream"
        },
        {
          "name": "stderr",
          "text": "\n",
          "output_type": "stream"
        },
        {
          "name": "stdout",
          "text": "Test Loss: 1.185 | Accuracy: 46.667\nEpoch 47 of 50\nTraining\n",
          "output_type": "stream"
        },
        {
          "name": "stderr",
          "text": "100%|██████████| 58/58 [00:09<00:00,  6.20it/s]",
          "output_type": "stream"
        },
        {
          "name": "stdout",
          "text": "Train Loss: 0.601 | Accuracy: 76.744\nValidating\n",
          "output_type": "stream"
        },
        {
          "name": "stderr",
          "text": "\n",
          "output_type": "stream"
        },
        {
          "name": "stdout",
          "text": "Test Loss: 1.758 | Accuracy: 46.667\nEpoch 48 of 50\nTraining\n",
          "output_type": "stream"
        },
        {
          "name": "stderr",
          "text": "100%|██████████| 58/58 [00:08<00:00,  6.61it/s]",
          "output_type": "stream"
        },
        {
          "name": "stdout",
          "text": "Train Loss: 0.648 | Accuracy: 74.128\nValidating\n",
          "output_type": "stream"
        },
        {
          "name": "stderr",
          "text": "\n",
          "output_type": "stream"
        },
        {
          "name": "stdout",
          "text": "Test Loss: 1.226 | Accuracy: 50.000\nEpoch 49 of 50\nTraining\n",
          "output_type": "stream"
        },
        {
          "name": "stderr",
          "text": "100%|██████████| 58/58 [00:09<00:00,  6.44it/s]",
          "output_type": "stream"
        },
        {
          "name": "stdout",
          "text": "Train Loss: 0.600 | Accuracy: 75.581\nValidating\n",
          "output_type": "stream"
        },
        {
          "name": "stderr",
          "text": "\n",
          "output_type": "stream"
        },
        {
          "name": "stdout",
          "text": "Test Loss: 1.094 | Accuracy: 47.333\nEpoch 50 of 50\nTraining\n",
          "output_type": "stream"
        },
        {
          "name": "stderr",
          "text": "100%|██████████| 58/58 [00:08<00:00,  6.72it/s]",
          "output_type": "stream"
        },
        {
          "name": "stdout",
          "text": "Train Loss: 0.563 | Accuracy: 76.453\nValidating\n",
          "output_type": "stream"
        },
        {
          "name": "stderr",
          "text": "\n",
          "output_type": "stream"
        },
        {
          "name": "stdout",
          "text": "Test Loss: 1.316 | Accuracy: 50.000\n",
          "output_type": "stream"
        }
      ]
    },
    {
      "cell_type": "markdown",
      "source": [
        "# **MODEL SAVING**"
      ],
      "metadata": {
        "id": "3VyXEl4OpEEV"
      }
    },
    {
      "cell_type": "code",
      "source": [
        "torch.save(model.state_dict(), save_path)\n",
        "print(\"Saved PyTorch Model State to model.pth\")"
      ],
      "metadata": {
        "colab": {
          "base_uri": "https://localhost:8080/"
        },
        "id": "qHDbJaR_GKUF",
        "outputId": "7dd3185b-b4a4-4389-ca31-a24afc0fae04",
        "execution": {
          "iopub.status.busy": "2022-12-28T16:47:08.243872Z",
          "iopub.execute_input": "2022-12-28T16:47:08.244743Z",
          "iopub.status.idle": "2022-12-28T16:47:08.555011Z",
          "shell.execute_reply.started": "2022-12-28T16:47:08.244685Z",
          "shell.execute_reply": "2022-12-28T16:47:08.553921Z"
        },
        "trusted": true
      },
      "execution_count": null,
      "outputs": [
        {
          "name": "stdout",
          "text": "Saved PyTorch Model State to model.pth\n",
          "output_type": "stream"
        }
      ]
    },
    {
      "cell_type": "code",
      "source": [
        "model = CNN().to(device)\n",
        "#model.load_state_dict(torch.load(\"model.pth\"))\n",
        "\n",
        "state_dict = torch.load(f\"/kaggle/working/{save_path}\")\n",
        "model.load_state_dict(state_dict)"
      ],
      "metadata": {
        "colab": {
          "base_uri": "https://localhost:8080/"
        },
        "id": "192GmgndGOpP",
        "outputId": "9e973171-88bd-4503-867f-b1655626230d",
        "execution": {
          "iopub.status.busy": "2022-12-28T16:47:08.560077Z",
          "iopub.execute_input": "2022-12-28T16:47:08.560406Z",
          "iopub.status.idle": "2022-12-28T16:47:08.926108Z",
          "shell.execute_reply.started": "2022-12-28T16:47:08.560362Z",
          "shell.execute_reply": "2022-12-28T16:47:08.925217Z"
        },
        "trusted": true
      },
      "execution_count": null,
      "outputs": [
        {
          "execution_count": 24,
          "output_type": "execute_result",
          "data": {
            "text/plain": "<All keys matched successfully>"
          },
          "metadata": {}
        }
      ]
    },
    {
      "cell_type": "markdown",
      "source": [
        "# **VISUALIZE PREDICTING IMAGE**"
      ],
      "metadata": {
        "id": "EJ51SlnNpEEX"
      }
    },
    {
      "cell_type": "code",
      "source": [
        "import matplotlib.pyplot as plt\n",
        "import numpy as np\n",
        "\n",
        "\n",
        "# Function to show the images\n",
        "def imageshow(img):\n",
        "    img = img / 2 + 0.5     # unnormalize\n",
        "    npimg = img.numpy()\n",
        "    plt.imshow(np.transpose(npimg, (1, 2, 0)))\n",
        "    plt.show()\n",
        "\n",
        "\n",
        "# Function to test the model with a batch of images and show the labels predictions\n",
        "def testBatch():\n",
        "    # get batch of images from the test DataLoader  \n",
        "    images, labels = next(iter(testLoader))\n",
        "\n",
        "    # show all images as one image grid\n",
        "    imageshow(torchvision.utils.make_grid(images))\n",
        "   \n",
        "    # Show the real labels on the screen \n",
        "    print('Real labels: ', ' '.join('%5s' % classes[labels[j]] \n",
        "                               for j in range(batch_size)))\n",
        "  \n",
        "    # Let's see what if the model identifiers the  labels of those example\n",
        "    images=images.to(device)\n",
        "    outputs = model(images)\n",
        "    \n",
        "    # We got the probability for every 10 labels. The highest (max) probability should be correct label\n",
        "    _, predicted = torch.max(outputs, 1)\n",
        "    \n",
        "    # Let's show the predicted labels on the screen to compare with the real ones\n",
        "    print('Predicted: ', ' '.join('%5s' % classes[predicted[j]] \n",
        "                              for j in range(batch_size)))"
      ],
      "metadata": {
        "id": "edCeruLWfJVh",
        "execution": {
          "iopub.status.busy": "2022-12-28T16:47:08.927377Z",
          "iopub.execute_input": "2022-12-28T16:47:08.927757Z",
          "iopub.status.idle": "2022-12-28T16:47:08.936672Z",
          "shell.execute_reply.started": "2022-12-28T16:47:08.927705Z",
          "shell.execute_reply": "2022-12-28T16:47:08.935669Z"
        },
        "trusted": true
      },
      "execution_count": null,
      "outputs": []
    },
    {
      "cell_type": "code",
      "source": [
        "testBatch()"
      ],
      "metadata": {
        "colab": {
          "base_uri": "https://localhost:8080/",
          "height": 304
        },
        "id": "NoBgCKGqGWei",
        "outputId": "4ca0d54d-d4d7-434b-bedb-8ebb7ec9c249",
        "execution": {
          "iopub.status.busy": "2022-12-28T16:47:08.938060Z",
          "iopub.execute_input": "2022-12-28T16:47:08.939077Z",
          "iopub.status.idle": "2022-12-28T16:47:10.665780Z",
          "shell.execute_reply.started": "2022-12-28T16:47:08.939041Z",
          "shell.execute_reply": "2022-12-28T16:47:10.664618Z"
        },
        "trusted": true
      },
      "execution_count": null,
      "outputs": [
        {
          "output_type": "display_data",
          "data": {
            "text/plain": "<Figure size 432x288 with 1 Axes>",
            "image/png": "[encoded data removed]"
          },
          "metadata": {
            "needs_background": "light"
          }
        },
        {
          "name": "stdout",
          "text": "Real labels:  malignant malignant benign malignant non-nodule malignant\nPredicted:  malignant non-nodule malignant malignant non-nodule malignant\n",
          "output_type": "stream"
        }
      ]
    },
    {
      "cell_type": "markdown",
      "source": [
        "# **PLOT ACCURACY**"
      ],
      "metadata": {
        "id": "CEK3MdR6pEEZ"
      }
    },
    {
      "cell_type": "code",
      "source": [
        "# accuracy plots\n",
        "plt.figure(figsize=(10, 7))\n",
        "plt.subplot(121)\n",
        "plt.plot(train_accuracy, color='green', label='train accuracy')\n",
        "plt.plot(val_accuracy, color='blue', label='validation accuracy')\n",
        "plt.xlabel('Epochs')\n",
        "plt.ylabel('Accuracy')\n",
        "plt.legend()\n",
        "# plt.savefig('../outputs/plots/accuracy.png')\n"
      ],
      "metadata": {
        "colab": {
          "base_uri": "https://localhost:8080/",
          "height": 459
        },
        "id": "8-R8FjQqlFBX",
        "outputId": "19a2fd50-c8ed-46bc-87e1-7d4ac0ce7af6",
        "execution": {
          "iopub.status.busy": "2022-12-28T16:47:10.667646Z",
          "iopub.execute_input": "2022-12-28T16:47:10.668044Z",
          "iopub.status.idle": "2022-12-28T16:47:11.041638Z",
          "shell.execute_reply.started": "2022-12-28T16:47:10.668008Z",
          "shell.execute_reply": "2022-12-28T16:47:11.040723Z"
        },
        "trusted": true
      },
      "execution_count": null,
      "outputs": [
        {
          "execution_count": 27,
          "output_type": "execute_result",
          "data": {
            "text/plain": "<matplotlib.legend.Legend at 0x7f20e43fdcd0>"
          },
          "metadata": {}
        },
        {
          "output_type": "display_data",
          "data": {
            "text/plain": "<Figure size 720x504 with 1 Axes>",
            "image/png": "[encoded data removed]"
          },
          "metadata": {
            "needs_background": "light"
          }
        }
      ]
    },
    {
      "cell_type": "markdown",
      "source": [
        "# **PLOT LOSS**"
      ],
      "metadata": {
        "id": "-N23XdAjpEEa"
      }
    },
    {
      "cell_type": "code",
      "source": [
        "# loss plots\n",
        "plt.figure(figsize=(10, 7))\n",
        "plt.subplot(121)\n",
        "plt.plot(train_loss, color='orange', label='train loss')\n",
        "plt.plot(val_loss, color='red', label='validation loss')\n",
        "plt.xlabel('Epochs')\n",
        "plt.ylabel('Loss')\n",
        "plt.legend()\n",
        "# plt.savefig('../outputs/plots/loss.png')\n",
        "plt.show()"
      ],
      "metadata": {
        "id": "1aeZoTKBOX9C",
        "colab": {
          "base_uri": "https://localhost:8080/",
          "height": 443
        },
        "outputId": "4b19291f-76ff-497d-b317-f1fcbf4666e9",
        "execution": {
          "iopub.status.busy": "2022-12-28T16:47:11.043330Z",
          "iopub.execute_input": "2022-12-28T16:47:11.043953Z",
          "iopub.status.idle": "2022-12-28T16:47:11.250255Z",
          "shell.execute_reply.started": "2022-12-28T16:47:11.043914Z",
          "shell.execute_reply": "2022-12-28T16:47:11.249246Z"
        },
        "trusted": true
      },
      "execution_count": null,
      "outputs": [
        {
          "output_type": "display_data",
          "data": {
            "text/plain": "<Figure size 720x504 with 1 Axes>",
            "image/png": "[encoded data removed]"
          },
          "metadata": {
            "needs_background": "light"
          }
        }
      ]
    },
    {
      "cell_type": "code",
      "source": [],
      "metadata": {
        "id": "Cg-w1nFypEEc"
      },
      "execution_count": null,
      "outputs": []
    },
    {
      "cell_type": "code",
      "source": [
        "label2class ={ 1 :'benign', 2 :'malignant', 3:'non-nodule'}"
      ],
      "metadata": {
        "execution": {
          "iopub.status.busy": "2022-12-28T16:47:11.251732Z",
          "iopub.execute_input": "2022-12-28T16:47:11.252104Z",
          "iopub.status.idle": "2022-12-28T16:47:11.257394Z",
          "shell.execute_reply.started": "2022-12-28T16:47:11.252065Z",
          "shell.execute_reply": "2022-12-28T16:47:11.256504Z"
        },
        "trusted": true,
        "id": "cy8pcKB0pEEd"
      },
      "execution_count": null,
      "outputs": []
    },
    {
      "cell_type": "code",
      "source": [
        "import seaborn as sns \n",
        "from sklearn.metrics import confusion_matrix, classification_report\n",
        "import pandas as pd\n",
        "\n",
        "y_pred = []\n",
        "y_true = []\n",
        "\n",
        "# iterate over test data\n",
        "for batch,(inputs, labels) in enumerate(testLoader):\n",
        "    \n",
        "    \n",
        "        inputs= inputs.to(device)\n",
        "        labels= labels.to(device)\n",
        "        output = model(inputs) # Feed Network\n",
        "\n",
        "        output = (torch.max(torch.exp(output), 1)[1]).data.cpu().numpy()\n",
        "        y_pred.extend(output) # Save Prediction\n",
        "        \n",
        "        labels = labels.data.cpu().numpy()\n",
        "        y_true.extend(labels) # Save Truth\n",
        "        \n",
        "        \n",
        "\n",
        "report = classification_report(y_true, y_pred)\n",
        "print(report)"
      ],
      "metadata": {
        "execution": {
          "iopub.status.busy": "2022-12-28T16:47:11.258778Z",
          "iopub.execute_input": "2022-12-28T16:47:11.259473Z",
          "iopub.status.idle": "2022-12-28T16:47:15.136252Z",
          "shell.execute_reply.started": "2022-12-28T16:47:11.259438Z",
          "shell.execute_reply": "2022-12-28T16:47:15.135050Z"
        },
        "trusted": true,
        "id": "0ne8XEyepEEe",
        "outputId": "e478eedf-de6f-4f5c-aedd-7f49e30082a1"
      },
      "execution_count": null,
      "outputs": [
        {
          "name": "stderr",
          "text": "/opt/conda/lib/python3.7/site-packages/torch/utils/data/dataloader.py:490: UserWarning: This DataLoader will create 4 worker processes in total. Our suggested max number of worker in current system is 2, which is smaller than what this DataLoader is going to create. Please be aware that excessive worker creation might get DataLoader running slow or even freeze, lower the worker number to avoid potential slowness/freeze if necessary.\n  cpuset_checked))\n",
          "output_type": "stream"
        },
        {
          "name": "stdout",
          "text": "              precision    recall  f1-score   support\n\n           0       0.21      0.12      0.15        34\n           1       0.57      0.77      0.65        66\n           2       0.49      0.40      0.44        50\n\n    accuracy                           0.50       150\n   macro avg       0.42      0.43      0.41       150\nweighted avg       0.46      0.50      0.47       150\n\n",
          "output_type": "stream"
        }
      ]
    },
    {
      "cell_type": "code",
      "source": [
        "nb_classes = 3\n",
        "confusion_matrix = np.zeros((nb_classes, nb_classes))\n",
        "with torch.no_grad():\n",
        "    for i, (inputs, classes) in enumerate(testLoader):\n",
        "        inputs = inputs.to(device)\n",
        "        classes = classes.to(device)\n",
        "        outputs = model(inputs)\n",
        "        _, preds = torch.max(outputs, 1)\n",
        "        for t, p in zip(classes.view(-1), preds.view(-1)):\n",
        "                confusion_matrix[t.long(), p.long()] += 1\n",
        "\n",
        "plt.figure(figsize=(12,7))\n",
        "\n",
        "class_names = list(label2class.values())\n",
        "df_cm = pd.DataFrame(confusion_matrix, index=class_names, columns=class_names).astype(int)\n",
        "heatmap = sns.heatmap(df_cm, annot=True, fmt=\"d\")\n",
        "\n",
        "heatmap.yaxis.set_ticklabels(heatmap.yaxis.get_ticklabels(), rotation=0, ha='right',fontsize=15)\n",
        "heatmap.xaxis.set_ticklabels(heatmap.xaxis.get_ticklabels(), rotation=45, ha='right',fontsize=15)\n",
        "plt.ylabel('True label')\n",
        "plt.xlabel('Predicted label')"
      ],
      "metadata": {
        "execution": {
          "iopub.status.busy": "2022-12-28T16:47:15.138234Z",
          "iopub.execute_input": "2022-12-28T16:47:15.138670Z",
          "iopub.status.idle": "2022-12-28T16:47:19.219302Z",
          "shell.execute_reply.started": "2022-12-28T16:47:15.138623Z",
          "shell.execute_reply": "2022-12-28T16:47:19.218251Z"
        },
        "trusted": true,
        "id": "DwZ6_Y1ppEEg",
        "outputId": "fedba3ae-f315-4854-a851-ee33c3454c2f"
      },
      "execution_count": null,
      "outputs": [
        {
          "name": "stderr",
          "text": "/opt/conda/lib/python3.7/site-packages/torch/utils/data/dataloader.py:490: UserWarning: This DataLoader will create 4 worker processes in total. Our suggested max number of worker in current system is 2, which is smaller than what this DataLoader is going to create. Please be aware that excessive worker creation might get DataLoader running slow or even freeze, lower the worker number to avoid potential slowness/freeze if necessary.\n  cpuset_checked))\n",
          "output_type": "stream"
        },
        {
          "execution_count": 31,
          "output_type": "execute_result",
          "data": {
            "text/plain": "Text(0.5, 42.0, 'Predicted label')"
          },
          "metadata": {}
        },
        {
          "output_type": "display_data",
          "data": {
            "text/plain": "<Figure size 864x504 with 2 Axes>",
            "image/png": "[encoded data removed]"
          },
          "metadata": {
            "needs_background": "light"
          }
        }
      ]
    },
    {
      "cell_type": "code",
      "source": [],
      "metadata": {
        "id": "nQ9By2-dpEEg"
      },
      "execution_count": null,
      "outputs": []
    },
    {
      "cell_type": "code",
      "source": [],
      "metadata": {
        "id": "-BwdtIVSpEEh"
      },
      "execution_count": null,
      "outputs": []
    },
    {
      "cell_type": "code",
      "source": [],
      "metadata": {
        "id": "UCm828vTpEEh"
      },
      "execution_count": null,
      "outputs": []
    },
    {
      "cell_type": "code",
      "source": [],
      "metadata": {
        "id": "eD7pal-YpEEh"
      },
      "execution_count": null,
      "outputs": []
    },
    {
      "cell_type": "code",
      "source": [],
      "metadata": {
        "id": "Hv0vPNJipEEi"
      },
      "execution_count": null,
      "outputs": []
    },
    {
      "cell_type": "code",
      "source": [],
      "metadata": {
        "id": "c4g1Sk07pEEi"
      },
      "execution_count": null,
      "outputs": []
    }
  ]
}