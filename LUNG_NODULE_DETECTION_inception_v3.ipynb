{
  "metadata": {
    "colab": {
      "provenance": [],
      "include_colab_link": true
    },
    "kernelspec": {
      "name": "python3",
      "display_name": "Python 3",
      "language": "python"
    },
    "language_info": {
      "name": "python",
      "version": "3.7.12",
      "mimetype": "text/x-python",
      "codemirror_mode": {
        "name": "ipython",
        "version": 3
      },
      "pygments_lexer": "ipython3",
      "nbconvert_exporter": "python",
      "file_extension": ".py"
    },
    "accelerator": "GPU",
    "gpuClass": "standard"
  },
  "nbformat_minor": 0,
  "nbformat": 4,
  "cells": [
    {
      "cell_type": "markdown",
      "metadata": {
        "id": "view-in-github",
        "colab_type": "text"
      },
      "source": [
        "<a href=\"https://colab.research.google.com/github/JumanaRahim/workshop/blob/master/LUNG_NODULE_DETECTION_inception_v3.ipynb\" target=\"_parent\"><img src=\"https://colab.research.google.com/assets/colab-badge.svg\" alt=\"Open In Colab\"/></a>"
      ]
    },
    {
      "cell_type": "code",
      "source": [
        "#from google.colab import drive\n",
        "#drive.mount('/content/drive')"
      ],
      "metadata": {
        "id": "Cp49NJ7Sbpcv",
        "execution": {
          "iopub.status.busy": "2022-12-28T07:46:57.165871Z",
          "iopub.execute_input": "2022-12-28T07:46:57.166259Z",
          "iopub.status.idle": "2022-12-28T07:46:57.212327Z",
          "shell.execute_reply.started": "2022-12-28T07:46:57.166182Z",
          "shell.execute_reply": "2022-12-28T07:46:57.211486Z"
        },
        "trusted": true
      },
      "execution_count": null,
      "outputs": []
    },
    {
      "cell_type": "code",
      "source": [
        "!pip install pretrainedmodels\n",
        "!pip install torchsummary\n",
        "!pip install imutils\n",
        "!pip install tqdm"
      ],
      "metadata": {
        "colab": {
          "base_uri": "https://localhost:8080/"
        },
        "id": "5jNtZpgFN2p3",
        "outputId": "82b299e9-1949-4f8e-db1c-b4166fa57f40",
        "execution": {
          "iopub.status.busy": "2022-12-28T07:46:57.215976Z",
          "iopub.execute_input": "2022-12-28T07:46:57.216634Z",
          "iopub.status.idle": "2022-12-28T07:47:41.719558Z",
          "shell.execute_reply.started": "2022-12-28T07:46:57.216579Z",
          "shell.execute_reply": "2022-12-28T07:47:41.718388Z"
        },
        "trusted": true
      },
      "execution_count": null,
      "outputs": [
        {
          "name": "stdout",
          "text": "Collecting pretrainedmodels\n  Downloading pretrainedmodels-0.7.4.tar.gz (58 kB)\n\u001b[2K     \u001b[90m━━━━━━━━━━━━━━━━━━━━━━━━━━━━━━━━━━━━━━━━\u001b[0m \u001b[32m58.8/58.8 kB\u001b[0m \u001b[31m1.3 MB/s\u001b[0m eta \u001b[36m0:00:00\u001b[0ma \u001b[36m0:00:01\u001b[0m\n\u001b[?25h  Preparing metadata (setup.py) ... \u001b[?25ldone\n\u001b[?25hRequirement already satisfied: torch in /opt/conda/lib/python3.7/site-packages (from pretrainedmodels) (1.11.0)\nRequirement already satisfied: torchvision in /opt/conda/lib/python3.7/site-packages (from pretrainedmodels) (0.12.0)\nRequirement already satisfied: munch in /opt/conda/lib/python3.7/site-packages (from pretrainedmodels) (2.5.0)\nRequirement already satisfied: tqdm in /opt/conda/lib/python3.7/site-packages (from pretrainedmodels) (4.64.0)\nRequirement already satisfied: six in /opt/conda/lib/python3.7/site-packages (from munch->pretrainedmodels) (1.15.0)\nRequirement already satisfied: typing-extensions in /opt/conda/lib/python3.7/site-packages (from torch->pretrainedmodels) (4.1.1)\nRequirement already satisfied: numpy in /opt/conda/lib/python3.7/site-packages (from torchvision->pretrainedmodels) (1.21.6)\nRequirement already satisfied: requests in /opt/conda/lib/python3.7/site-packages (from torchvision->pretrainedmodels) (2.28.1)\nRequirement already satisfied: pillow!=8.3.*,>=5.3.0 in /opt/conda/lib/python3.7/site-packages (from torchvision->pretrainedmodels) (9.1.1)\nRequirement already satisfied: idna<4,>=2.5 in /opt/conda/lib/python3.7/site-packages (from requests->torchvision->pretrainedmodels) (3.3)\nRequirement already satisfied: urllib3<1.27,>=1.21.1 in /opt/conda/lib/python3.7/site-packages (from requests->torchvision->pretrainedmodels) (1.26.12)\nRequirement already satisfied: certifi>=2017.4.17 in /opt/conda/lib/python3.7/site-packages (from requests->torchvision->pretrainedmodels) (2022.9.24)\nRequirement already satisfied: charset-normalizer<3,>=2 in /opt/conda/lib/python3.7/site-packages (from requests->torchvision->pretrainedmodels) (2.1.0)\nBuilding wheels for collected packages: pretrainedmodels\n  Building wheel for pretrainedmodels (setup.py) ... \u001b[?25ldone\n\u001b[?25h  Created wheel for pretrainedmodels: filename=pretrainedmodels-0.7.4-py3-none-any.whl size=60965 sha256=b387af3b96f016bc08a06a1610372dd3de1f6195b21ccabc634b1822b102eaad\n  Stored in directory: /root/.cache/pip/wheels/ed/27/e8/9543d42de2740d3544db96aefef63bda3f2c1761b3334f4873\nSuccessfully built pretrainedmodels\nInstalling collected packages: pretrainedmodels\nSuccessfully installed pretrainedmodels-0.7.4\n\u001b[33mWARNING: Running pip as the 'root' user can result in broken permissions and conflicting behaviour with the system package manager. It is recommended to use a virtual environment instead: https://pip.pypa.io/warnings/venv\u001b[0m\u001b[33m\n\u001b[0mCollecting torchsummary\n  Downloading torchsummary-1.5.1-py3-none-any.whl (2.8 kB)\nInstalling collected packages: torchsummary\nSuccessfully installed torchsummary-1.5.1\n\u001b[33mWARNING: Running pip as the 'root' user can result in broken permissions and conflicting behaviour with the system package manager. It is recommended to use a virtual environment instead: https://pip.pypa.io/warnings/venv\u001b[0m\u001b[33m\n\u001b[0mCollecting imutils\n  Downloading imutils-0.5.4.tar.gz (17 kB)\n  Preparing metadata (setup.py) ... \u001b[?25ldone\n\u001b[?25hBuilding wheels for collected packages: imutils\n  Building wheel for imutils (setup.py) ... \u001b[?25ldone\n\u001b[?25h  Created wheel for imutils: filename=imutils-0.5.4-py3-none-any.whl size=25858 sha256=ebe714b08c9f9244f4c182601bcd82a9f65224fe38d99f184d99fd3ea649f5ad\n  Stored in directory: /root/.cache/pip/wheels/86/d7/0a/4923351ed1cec5d5e24c1eaf8905567b02a0343b24aa873df2\nSuccessfully built imutils\nInstalling collected packages: imutils\nSuccessfully installed imutils-0.5.4\n\u001b[33mWARNING: Running pip as the 'root' user can result in broken permissions and conflicting behaviour with the system package manager. It is recommended to use a virtual environment instead: https://pip.pypa.io/warnings/venv\u001b[0m\u001b[33m\n\u001b[0mRequirement already satisfied: tqdm in /opt/conda/lib/python3.7/site-packages (4.64.0)\n\u001b[33mWARNING: Running pip as the 'root' user can result in broken permissions and conflicting behaviour with the system package manager. It is recommended to use a virtual environment instead: https://pip.pypa.io/warnings/venv\u001b[0m\u001b[33m\n\u001b[0m",
          "output_type": "stream"
        }
      ]
    },
    {
      "cell_type": "code",
      "source": [
        "import os\n",
        "import torch\n",
        "from torch.utils.data import DataLoader,Dataset\n",
        "from torchvision import transforms\n",
        "from sklearn.preprocessing import LabelEncoder\n",
        "from torchsummary import summary\n",
        "from torch import nn\n",
        "import torch.nn.functional as F\n",
        "from imutils import paths\n",
        "import cv2\n",
        "import numpy as np\n",
        "from sklearn.model_selection import train_test_split\n",
        "import pretrainedmodels\n",
        "import torchvision\n",
        "from tqdm import tqdm\n",
        "import matplotlib.pyplot as plt"
      ],
      "metadata": {
        "id": "tvtdq_wwtt_x",
        "execution": {
          "iopub.status.busy": "2022-12-28T07:47:41.724987Z",
          "iopub.execute_input": "2022-12-28T07:47:41.727239Z",
          "iopub.status.idle": "2022-12-28T07:47:47.524305Z",
          "shell.execute_reply.started": "2022-12-28T07:47:41.727199Z",
          "shell.execute_reply": "2022-12-28T07:47:47.523170Z"
        },
        "trusted": true
      },
      "execution_count": null,
      "outputs": []
    },
    {
      "cell_type": "code",
      "source": [
        "root='/kaggle/input/lung-dataset'"
      ],
      "metadata": {
        "id": "mZSWxppaMYV-",
        "execution": {
          "iopub.status.busy": "2022-12-28T07:47:47.525726Z",
          "iopub.execute_input": "2022-12-28T07:47:47.526335Z",
          "iopub.status.idle": "2022-12-28T07:47:47.531518Z",
          "shell.execute_reply.started": "2022-12-28T07:47:47.526273Z",
          "shell.execute_reply": "2022-12-28T07:47:47.530483Z"
        },
        "trusted": true
      },
      "execution_count": null,
      "outputs": []
    },
    {
      "cell_type": "code",
      "source": [
        "classes=('benign', 'malignant', 'non-nodule')"
      ],
      "metadata": {
        "id": "shYAcU6IFJKu",
        "execution": {
          "iopub.status.busy": "2022-12-28T07:47:47.534951Z",
          "iopub.execute_input": "2022-12-28T07:47:47.535833Z",
          "iopub.status.idle": "2022-12-28T07:47:47.543116Z",
          "shell.execute_reply.started": "2022-12-28T07:47:47.535785Z",
          "shell.execute_reply": "2022-12-28T07:47:47.541668Z"
        },
        "trusted": true
      },
      "execution_count": null,
      "outputs": []
    },
    {
      "cell_type": "code",
      "source": [
        "image_paths = list(paths.list_images('/kaggle/input/lung-dataset'))\n",
        "\n",
        "data = []\n",
        "labels = []\n",
        "for img_path in image_paths:\n",
        "    label = img_path.split(os.path.sep)[-2]\n",
        "    img = cv2.imread(img_path)\n",
        "    img = cv2.cvtColor(img, cv2.COLOR_BGR2RGB)\n",
        "    \n",
        "    data.append(img)\n",
        "    labels.append(label)\n",
        "    \n",
        "data = np.array(data)\n",
        "labels = np.array(labels)"
      ],
      "metadata": {
        "id": "5WDI6i71ORyn",
        "execution": {
          "iopub.status.busy": "2022-12-28T07:47:47.544793Z",
          "iopub.execute_input": "2022-12-28T07:47:47.545161Z",
          "iopub.status.idle": "2022-12-28T07:48:04.458983Z",
          "shell.execute_reply.started": "2022-12-28T07:47:47.545125Z",
          "shell.execute_reply": "2022-12-28T07:48:04.457947Z"
        },
        "trusted": true
      },
      "execution_count": null,
      "outputs": []
    },
    {
      "cell_type": "code",
      "source": [
        "labels"
      ],
      "metadata": {
        "colab": {
          "base_uri": "https://localhost:8080/"
        },
        "id": "JRiiXyOerNpE",
        "outputId": "a76c27b9-77ee-470c-e449-c0ff7799d373",
        "execution": {
          "iopub.status.busy": "2022-12-28T07:48:04.460570Z",
          "iopub.execute_input": "2022-12-28T07:48:04.460969Z",
          "iopub.status.idle": "2022-12-28T07:48:04.471297Z",
          "shell.execute_reply.started": "2022-12-28T07:48:04.460931Z",
          "shell.execute_reply": "2022-12-28T07:48:04.470232Z"
        },
        "trusted": true
      },
      "execution_count": null,
      "outputs": [
        {
          "execution_count": 7,
          "output_type": "execute_result",
          "data": {
            "text/plain": "array(['non-nodule', 'non-nodule', 'non-nodule', 'non-nodule',\n       'non-nodule', 'non-nodule', 'non-nodule', 'non-nodule',\n       'non-nodule', 'non-nodule', 'non-nodule', 'non-nodule',\n       'non-nodule', 'non-nodule', 'non-nodule', 'non-nodule',\n       'non-nodule', 'non-nodule', 'non-nodule', 'non-nodule',\n       'non-nodule', 'non-nodule', 'non-nodule', 'non-nodule',\n       'non-nodule', 'non-nodule', 'non-nodule', 'non-nodule',\n       'non-nodule', 'non-nodule', 'non-nodule', 'non-nodule',\n       'non-nodule', 'non-nodule', 'non-nodule', 'non-nodule',\n       'non-nodule', 'non-nodule', 'non-nodule', 'non-nodule',\n       'non-nodule', 'non-nodule', 'non-nodule', 'non-nodule',\n       'non-nodule', 'non-nodule', 'non-nodule', 'non-nodule',\n       'non-nodule', 'non-nodule', 'non-nodule', 'non-nodule',\n       'non-nodule', 'non-nodule', 'non-nodule', 'non-nodule',\n       'non-nodule', 'non-nodule', 'non-nodule', 'non-nodule',\n       'non-nodule', 'non-nodule', 'non-nodule', 'non-nodule',\n       'non-nodule', 'non-nodule', 'non-nodule', 'non-nodule',\n       'non-nodule', 'non-nodule', 'non-nodule', 'non-nodule',\n       'non-nodule', 'non-nodule', 'non-nodule', 'non-nodule',\n       'non-nodule', 'non-nodule', 'non-nodule', 'non-nodule',\n       'non-nodule', 'non-nodule', 'non-nodule', 'non-nodule',\n       'non-nodule', 'non-nodule', 'non-nodule', 'non-nodule',\n       'non-nodule', 'non-nodule', 'non-nodule', 'non-nodule',\n       'non-nodule', 'benign', 'benign', 'benign', 'benign', 'benign',\n       'benign', 'benign', 'benign', 'benign', 'benign', 'benign',\n       'benign', 'benign', 'benign', 'benign', 'benign', 'benign',\n       'benign', 'benign', 'benign', 'benign', 'benign', 'benign',\n       'benign', 'benign', 'benign', 'benign', 'benign', 'benign',\n       'benign', 'benign', 'benign', 'benign', 'benign', 'benign',\n       'benign', 'benign', 'benign', 'benign', 'benign', 'benign',\n       'benign', 'benign', 'benign', 'benign', 'benign', 'benign',\n       'benign', 'benign', 'benign', 'benign', 'benign', 'benign',\n       'benign', 'malignant', 'malignant', 'malignant', 'malignant',\n       'malignant', 'malignant', 'malignant', 'malignant', 'malignant',\n       'malignant', 'malignant', 'malignant', 'malignant', 'malignant',\n       'malignant', 'malignant', 'malignant', 'malignant', 'malignant',\n       'malignant', 'malignant', 'malignant', 'malignant', 'malignant',\n       'malignant', 'malignant', 'malignant', 'malignant', 'malignant',\n       'malignant', 'malignant', 'malignant', 'malignant', 'malignant',\n       'malignant', 'malignant', 'malignant', 'malignant', 'malignant',\n       'malignant', 'malignant', 'malignant', 'malignant', 'malignant',\n       'malignant', 'malignant', 'malignant', 'malignant', 'malignant',\n       'malignant', 'malignant', 'malignant', 'malignant', 'malignant',\n       'malignant', 'malignant', 'malignant', 'malignant', 'malignant',\n       'malignant', 'malignant', 'malignant', 'malignant', 'malignant',\n       'malignant', 'malignant', 'malignant', 'malignant', 'malignant',\n       'malignant', 'malignant', 'malignant', 'malignant', 'malignant',\n       'malignant', 'malignant', 'malignant', 'malignant', 'malignant',\n       'malignant', 'malignant', 'malignant', 'malignant', 'malignant',\n       'malignant', 'malignant', 'malignant', 'malignant', 'malignant',\n       'malignant', 'malignant', 'malignant', 'malignant', 'malignant',\n       'malignant', 'malignant', 'malignant', 'malignant', 'malignant',\n       'malignant'], dtype='<U10')"
          },
          "metadata": {}
        }
      ]
    },
    {
      "cell_type": "code",
      "source": [
        "lb = LabelEncoder()\n",
        "labels = lb.fit_transform(labels)\n",
        "print(f\"Total Number of Classes: {len(lb.classes_)}\")"
      ],
      "metadata": {
        "colab": {
          "base_uri": "https://localhost:8080/"
        },
        "id": "2TEpv5btiBnH",
        "outputId": "734e536b-9b38-43d0-9062-0e262b18c19b",
        "execution": {
          "iopub.status.busy": "2022-12-28T07:48:04.473066Z",
          "iopub.execute_input": "2022-12-28T07:48:04.473823Z",
          "iopub.status.idle": "2022-12-28T07:48:04.499909Z",
          "shell.execute_reply.started": "2022-12-28T07:48:04.473788Z",
          "shell.execute_reply": "2022-12-28T07:48:04.498785Z"
        },
        "trusted": true
      },
      "execution_count": null,
      "outputs": [
        {
          "name": "stdout",
          "text": "Total Number of Classes: 3\n",
          "output_type": "stream"
        }
      ]
    },
    {
      "cell_type": "code",
      "source": [
        "#orginal dataset\n",
        "\n",
        "train_orginal_transforms = transforms.Compose([\n",
        "    transforms.ToPILImage(),\n",
        "    transforms.Resize((299, 299)),\n",
        "    transforms.ToTensor(),\n",
        "])\n",
        "\n",
        "test_orginal_transforms = transforms.Compose([\n",
        "    transforms.ToPILImage(),\n",
        "    transforms.Resize((299, 299)),\n",
        "    transforms.ToTensor(),\n",
        "])    \n",
        "\n",
        "\n",
        "#for data augmentation\n",
        "\n",
        "train_augmentation_transforms = transforms.Compose([\n",
        "    transforms.ToPILImage(),\n",
        "    transforms.Resize((299, 299)),\n",
        "    transforms.ToTensor(),\n",
        "    transforms.RandomHorizontalFlip(p=0.5),\n",
        "    transforms.RandomVerticalFlip(p=0.5),\n",
        "    transforms.Normalize(mean = [0.485,0.456,0.406], std=[0.229,0.224,0.225]),\n",
        "])\n",
        "\n",
        "test_augmentation_transforms = transforms.Compose([\n",
        "    transforms.ToPILImage(),\n",
        "    transforms.Resize((299, 299)),\n",
        "    transforms.ToTensor(),\n",
        "    transforms.RandomHorizontalFlip(p=0.5),\n",
        "    transforms.RandomVerticalFlip(p=0.5),\n",
        "    transforms.Normalize(mean = [0.485,0.456,0.406], std=[0.229,0.224,0.225]),\n",
        "])"
      ],
      "metadata": {
        "id": "W2IX6X3ZiwUp",
        "execution": {
          "iopub.status.busy": "2022-12-28T07:48:04.501488Z",
          "iopub.execute_input": "2022-12-28T07:48:04.502030Z",
          "iopub.status.idle": "2022-12-28T07:48:04.513576Z",
          "shell.execute_reply.started": "2022-12-28T07:48:04.501996Z",
          "shell.execute_reply": "2022-12-28T07:48:04.512643Z"
        },
        "trusted": true
      },
      "execution_count": null,
      "outputs": []
    },
    {
      "cell_type": "code",
      "source": [
        "# divide the data into train, validation, and test set\n",
        "#(X, x_val , Y, y_val) = train_test_split(data, labels, test_size=0.2,  stratify=labels,random_state=42)\n",
        "#(x_train, x_test, y_train, y_test) = train_test_split(X, Y, test_size=0.25, random_state=42)\n",
        "#print(f\"x_train examples: {x_train.shape}\\nx_test examples: {x_test.shape}\\nx_val examples: {x_val.shape}\")\n",
        "\n",
        "(x_train, x_test, y_train, y_test) = train_test_split(data, labels, test_size=0.3,random_state=42)\n",
        "print(f\"x_train examples: {x_train.shape}\\nx_test examples: {x_test.shape}\")"
      ],
      "metadata": {
        "colab": {
          "base_uri": "https://localhost:8080/"
        },
        "id": "Ws76CCyMi6uc",
        "outputId": "eb26c4e9-8d3a-4309-fd03-b92b04372bcf",
        "execution": {
          "iopub.status.busy": "2022-12-28T07:48:04.514911Z",
          "iopub.execute_input": "2022-12-28T07:48:04.515369Z",
          "iopub.status.idle": "2022-12-28T07:48:05.297387Z",
          "shell.execute_reply.started": "2022-12-28T07:48:04.515290Z",
          "shell.execute_reply": "2022-12-28T07:48:05.296427Z"
        },
        "trusted": true
      },
      "execution_count": null,
      "outputs": [
        {
          "name": "stdout",
          "text": "x_train examples: (172, 2048, 2048, 3)\nx_test examples: (75, 2048, 2048, 3)\n",
          "output_type": "stream"
        }
      ]
    },
    {
      "cell_type": "code",
      "source": [
        "batch_size=6"
      ],
      "metadata": {
        "id": "1aL4Sp3fFRqi",
        "execution": {
          "iopub.status.busy": "2022-12-28T07:48:05.304215Z",
          "iopub.execute_input": "2022-12-28T07:48:05.306639Z",
          "iopub.status.idle": "2022-12-28T07:48:05.312670Z",
          "shell.execute_reply.started": "2022-12-28T07:48:05.306583Z",
          "shell.execute_reply": "2022-12-28T07:48:05.311464Z"
        },
        "trusted": true
      },
      "execution_count": null,
      "outputs": []
    },
    {
      "cell_type": "code",
      "source": [
        "# custom dataset class\n",
        "class CustomDataset(Dataset):\n",
        "    def __init__(self, images, labels, transforms = None):\n",
        "        self.labels = labels\n",
        "        self.images = images\n",
        "        self.transforms = transforms\n",
        "        \n",
        "    def __len__(self):\n",
        "        return len(self.images)\n",
        "    \n",
        "    def __getitem__(self, index):\n",
        "        data = self.images[index][:]\n",
        "        labels = self.labels[index]\n",
        "        \n",
        "        if self.transforms:\n",
        "            data = self.transforms(data)\n",
        "            \n",
        "            return data,labels\n",
        "\n",
        "        \n",
        "        \n",
        "        \n",
        "        \n",
        "train_orginal_data = CustomDataset(x_train, y_train, train_orginal_transforms)\n",
        "test_orginal_data = CustomDataset(x_test, y_test, test_orginal_transforms)     \n",
        "\n",
        "\n",
        "train_augmentation_data = CustomDataset(x_train, y_train, train_augmentation_transforms )\n",
        "test_augmentation_data = CustomDataset(x_test, y_test, test_augmentation_transforms )  \n",
        "\n",
        "train_data = torch.utils.data.ConcatDataset([train_orginal_data,train_augmentation_data])\n",
        "print(len(train_data))\n",
        "test_data = torch.utils.data.ConcatDataset([test_orginal_data,test_augmentation_data])\n",
        "print(len(test_data))\n",
        "\n",
        "\n",
        "\n",
        "\n",
        "trainLoader = DataLoader(train_data, batch_size=batch_size, shuffle=True, num_workers=4)\n",
        "testLoader = DataLoader(test_data, batch_size=batch_size, shuffle=True, num_workers=4) "
      ],
      "metadata": {
        "colab": {
          "base_uri": "https://localhost:8080/"
        },
        "id": "1JI8d5JGjSRG",
        "outputId": "f098e731-65a9-436a-aa1f-353e9cc77d33",
        "execution": {
          "iopub.status.busy": "2022-12-28T07:48:05.316937Z",
          "iopub.execute_input": "2022-12-28T07:48:05.317295Z",
          "iopub.status.idle": "2022-12-28T07:48:05.343081Z",
          "shell.execute_reply.started": "2022-12-28T07:48:05.317252Z",
          "shell.execute_reply": "2022-12-28T07:48:05.341870Z"
        },
        "trusted": true
      },
      "execution_count": null,
      "outputs": [
        {
          "name": "stdout",
          "text": "344\n150\n",
          "output_type": "stream"
        },
        {
          "name": "stderr",
          "text": "/opt/conda/lib/python3.7/site-packages/torch/utils/data/dataloader.py:490: UserWarning: This DataLoader will create 4 worker processes in total. Our suggested max number of worker in current system is 2, which is smaller than what this DataLoader is going to create. Please be aware that excessive worker creation might get DataLoader running slow or even freeze, lower the worker number to avoid potential slowness/freeze if necessary.\n  cpuset_checked))\n",
          "output_type": "stream"
        }
      ]
    },
    {
      "cell_type": "code",
      "source": [
        "for X, y in trainLoader:\n",
        "    print(f\"Shape of X [N, C, H, W]: {X.shape}\")\n",
        "    print(f\"Shape of y: {y.shape} {y.dtype}\")\n",
        "    break"
      ],
      "metadata": {
        "colab": {
          "base_uri": "https://localhost:8080/"
        },
        "id": "z47BjF0k7kz7",
        "outputId": "8b959367-1a74-4f48-8b77-b8a1fa5cc141",
        "execution": {
          "iopub.status.busy": "2022-12-28T07:48:05.347913Z",
          "iopub.execute_input": "2022-12-28T07:48:05.348329Z",
          "iopub.status.idle": "2022-12-28T07:48:07.159737Z",
          "shell.execute_reply.started": "2022-12-28T07:48:05.348294Z",
          "shell.execute_reply": "2022-12-28T07:48:07.158416Z"
        },
        "trusted": true
      },
      "execution_count": null,
      "outputs": [
        {
          "name": "stdout",
          "text": "Shape of X [N, C, H, W]: torch.Size([6, 3, 299, 299])\nShape of y: torch.Size([6]) torch.int64\n",
          "output_type": "stream"
        }
      ]
    },
    {
      "cell_type": "code",
      "source": [
        "device = \"cuda\" if torch.cuda.is_available() else \"cpu\"\n",
        "print(f\"Using {device} device\")"
      ],
      "metadata": {
        "colab": {
          "base_uri": "https://localhost:8080/"
        },
        "id": "dPofmxO_jssC",
        "outputId": "efdc238e-9eb3-4946-ec93-f38ae53f984e",
        "execution": {
          "iopub.status.busy": "2022-12-28T07:48:07.161922Z",
          "iopub.execute_input": "2022-12-28T07:48:07.162322Z",
          "iopub.status.idle": "2022-12-28T07:48:07.285938Z",
          "shell.execute_reply.started": "2022-12-28T07:48:07.162279Z",
          "shell.execute_reply": "2022-12-28T07:48:07.284673Z"
        },
        "trusted": true
      },
      "execution_count": null,
      "outputs": [
        {
          "name": "stdout",
          "text": "Using cuda device\n",
          "output_type": "stream"
        }
      ]
    },
    {
      "cell_type": "markdown",
      "source": [
        "# **MODEL**"
      ],
      "metadata": {
        "id": "QjP5D3gwwiHy"
      }
    },
    {
      "cell_type": "code",
      "source": [
        "class inceptionv3(nn.Module):\n",
        "    def __init__(self, pretrained):\n",
        "        super(inceptionv3, self).__init__()\n",
        "        if pretrained is True:\n",
        "            self.model = pretrainedmodels.__dict__['inceptionv3'](pretrained='imagenet')\n",
        "        else:\n",
        "            self.model = pretrainedmodels.__dict__['inceptionv3'](pretrained = None)\n",
        "        # change the classification layer\n",
        "        self.l0= nn.Linear(2048, len(lb.classes_))\n",
        "        self.dropout = nn.Dropout2d(0.4)\n",
        "        \n",
        "    def forward(self, x):\n",
        "        # get the batch size only, ignore(c, h, w)\n",
        "        batch, _, _, _ = x.shape\n",
        "        x = self.model.features(x)\n",
        "        x = F.adaptive_avg_pool2d(x, 1).reshape(batch, -1)\n",
        "        #x = self.dropout(x)\n",
        "        l0 = self.l0(x)\n",
        "        return l0\n",
        "\n",
        "model = inceptionv3(pretrained=True).to(device)\n",
        "print(model)"
      ],
      "metadata": {
        "colab": {
          "base_uri": "https://localhost:8080/",
          "referenced_widgets": [
            "6f0b45e216004af6bb43c6d0b61eafcd"
          ]
        },
        "id": "kOPgxghVja4L",
        "outputId": "36d8d9a8-0bf9-462d-96a2-468ee756bb06",
        "execution": {
          "iopub.status.busy": "2022-12-28T07:48:07.287353Z",
          "iopub.execute_input": "2022-12-28T07:48:07.288448Z",
          "iopub.status.idle": "2022-12-28T07:48:13.552546Z",
          "shell.execute_reply.started": "2022-12-28T07:48:07.288384Z",
          "shell.execute_reply": "2022-12-28T07:48:13.551525Z"
        },
        "trusted": true
      },
      "execution_count": null,
      "outputs": [
        {
          "name": "stderr",
          "text": "/opt/conda/lib/python3.7/site-packages/torchvision/models/inception.py:48: FutureWarning: The default weight initialization of inception_v3 will be changed in future releases of torchvision. If you wish to keep the old behavior (which leads to long initialization times due to scipy/scipy#11299), please set init_weights=True.\n  FutureWarning,\nDownloading: \"https://download.pytorch.org/models/inception_v3_google-1a9a5a14.pth\" to /root/.cache/torch/hub/checkpoints/inception_v3_google-1a9a5a14.pth\n",
          "output_type": "stream"
        },
        {
          "output_type": "display_data",
          "data": {
            "text/plain": "  0%|          | 0.00/104M [00:00<?, ?B/s]",
            "application/vnd.jupyter.widget-view+json": {
              "version_major": 2,
              "version_minor": 0,
              "model_id": "6f0b45e216004af6bb43c6d0b61eafcd"
            }
          },
          "metadata": {}
        },
        {
          "name": "stdout",
          "text": "inceptionv3(\n  (model): Inception3(\n    (Conv2d_1a_3x3): BasicConv2d(\n      (conv): Conv2d(3, 32, kernel_size=(3, 3), stride=(2, 2), bias=False)\n      (bn): BatchNorm2d(32, eps=0.001, momentum=0.1, affine=True, track_running_stats=True)\n    )\n    (Conv2d_2a_3x3): BasicConv2d(\n      (conv): Conv2d(32, 32, kernel_size=(3, 3), stride=(1, 1), bias=False)\n      (bn): BatchNorm2d(32, eps=0.001, momentum=0.1, affine=True, track_running_stats=True)\n    )\n    (Conv2d_2b_3x3): BasicConv2d(\n      (conv): Conv2d(32, 64, kernel_size=(3, 3), stride=(1, 1), padding=(1, 1), bias=False)\n      (bn): BatchNorm2d(64, eps=0.001, momentum=0.1, affine=True, track_running_stats=True)\n    )\n    (maxpool1): MaxPool2d(kernel_size=3, stride=2, padding=0, dilation=1, ceil_mode=False)\n    (Conv2d_3b_1x1): BasicConv2d(\n      (conv): Conv2d(64, 80, kernel_size=(1, 1), stride=(1, 1), bias=False)\n      (bn): BatchNorm2d(80, eps=0.001, momentum=0.1, affine=True, track_running_stats=True)\n    )\n    (Conv2d_4a_3x3): BasicConv2d(\n      (conv): Conv2d(80, 192, kernel_size=(3, 3), stride=(1, 1), bias=False)\n      (bn): BatchNorm2d(192, eps=0.001, momentum=0.1, affine=True, track_running_stats=True)\n    )\n    (maxpool2): MaxPool2d(kernel_size=3, stride=2, padding=0, dilation=1, ceil_mode=False)\n    (Mixed_5b): InceptionA(\n      (branch1x1): BasicConv2d(\n        (conv): Conv2d(192, 64, kernel_size=(1, 1), stride=(1, 1), bias=False)\n        (bn): BatchNorm2d(64, eps=0.001, momentum=0.1, affine=True, track_running_stats=True)\n      )\n      (branch5x5_1): BasicConv2d(\n        (conv): Conv2d(192, 48, kernel_size=(1, 1), stride=(1, 1), bias=False)\n        (bn): BatchNorm2d(48, eps=0.001, momentum=0.1, affine=True, track_running_stats=True)\n      )\n      (branch5x5_2): BasicConv2d(\n        (conv): Conv2d(48, 64, kernel_size=(5, 5), stride=(1, 1), padding=(2, 2), bias=False)\n        (bn): BatchNorm2d(64, eps=0.001, momentum=0.1, affine=True, track_running_stats=True)\n      )\n      (branch3x3dbl_1): BasicConv2d(\n        (conv): Conv2d(192, 64, kernel_size=(1, 1), stride=(1, 1), bias=False)\n        (bn): BatchNorm2d(64, eps=0.001, momentum=0.1, affine=True, track_running_stats=True)\n      )\n      (branch3x3dbl_2): BasicConv2d(\n        (conv): Conv2d(64, 96, kernel_size=(3, 3), stride=(1, 1), padding=(1, 1), bias=False)\n        (bn): BatchNorm2d(96, eps=0.001, momentum=0.1, affine=True, track_running_stats=True)\n      )\n      (branch3x3dbl_3): BasicConv2d(\n        (conv): Conv2d(96, 96, kernel_size=(3, 3), stride=(1, 1), padding=(1, 1), bias=False)\n        (bn): BatchNorm2d(96, eps=0.001, momentum=0.1, affine=True, track_running_stats=True)\n      )\n      (branch_pool): BasicConv2d(\n        (conv): Conv2d(192, 32, kernel_size=(1, 1), stride=(1, 1), bias=False)\n        (bn): BatchNorm2d(32, eps=0.001, momentum=0.1, affine=True, track_running_stats=True)\n      )\n    )\n    (Mixed_5c): InceptionA(\n      (branch1x1): BasicConv2d(\n        (conv): Conv2d(256, 64, kernel_size=(1, 1), stride=(1, 1), bias=False)\n        (bn): BatchNorm2d(64, eps=0.001, momentum=0.1, affine=True, track_running_stats=True)\n      )\n      (branch5x5_1): BasicConv2d(\n        (conv): Conv2d(256, 48, kernel_size=(1, 1), stride=(1, 1), bias=False)\n        (bn): BatchNorm2d(48, eps=0.001, momentum=0.1, affine=True, track_running_stats=True)\n      )\n      (branch5x5_2): BasicConv2d(\n        (conv): Conv2d(48, 64, kernel_size=(5, 5), stride=(1, 1), padding=(2, 2), bias=False)\n        (bn): BatchNorm2d(64, eps=0.001, momentum=0.1, affine=True, track_running_stats=True)\n      )\n      (branch3x3dbl_1): BasicConv2d(\n        (conv): Conv2d(256, 64, kernel_size=(1, 1), stride=(1, 1), bias=False)\n        (bn): BatchNorm2d(64, eps=0.001, momentum=0.1, affine=True, track_running_stats=True)\n      )\n      (branch3x3dbl_2): BasicConv2d(\n        (conv): Conv2d(64, 96, kernel_size=(3, 3), stride=(1, 1), padding=(1, 1), bias=False)\n        (bn): BatchNorm2d(96, eps=0.001, momentum=0.1, affine=True, track_running_stats=True)\n      )\n      (branch3x3dbl_3): BasicConv2d(\n        (conv): Conv2d(96, 96, kernel_size=(3, 3), stride=(1, 1), padding=(1, 1), bias=False)\n        (bn): BatchNorm2d(96, eps=0.001, momentum=0.1, affine=True, track_running_stats=True)\n      )\n      (branch_pool): BasicConv2d(\n        (conv): Conv2d(256, 64, kernel_size=(1, 1), stride=(1, 1), bias=False)\n        (bn): BatchNorm2d(64, eps=0.001, momentum=0.1, affine=True, track_running_stats=True)\n      )\n    )\n    (Mixed_5d): InceptionA(\n      (branch1x1): BasicConv2d(\n        (conv): Conv2d(288, 64, kernel_size=(1, 1), stride=(1, 1), bias=False)\n        (bn): BatchNorm2d(64, eps=0.001, momentum=0.1, affine=True, track_running_stats=True)\n      )\n      (branch5x5_1): BasicConv2d(\n        (conv): Conv2d(288, 48, kernel_size=(1, 1), stride=(1, 1), bias=False)\n        (bn): BatchNorm2d(48, eps=0.001, momentum=0.1, affine=True, track_running_stats=True)\n      )\n      (branch5x5_2): BasicConv2d(\n        (conv): Conv2d(48, 64, kernel_size=(5, 5), stride=(1, 1), padding=(2, 2), bias=False)\n        (bn): BatchNorm2d(64, eps=0.001, momentum=0.1, affine=True, track_running_stats=True)\n      )\n      (branch3x3dbl_1): BasicConv2d(\n        (conv): Conv2d(288, 64, kernel_size=(1, 1), stride=(1, 1), bias=False)\n        (bn): BatchNorm2d(64, eps=0.001, momentum=0.1, affine=True, track_running_stats=True)\n      )\n      (branch3x3dbl_2): BasicConv2d(\n        (conv): Conv2d(64, 96, kernel_size=(3, 3), stride=(1, 1), padding=(1, 1), bias=False)\n        (bn): BatchNorm2d(96, eps=0.001, momentum=0.1, affine=True, track_running_stats=True)\n      )\n      (branch3x3dbl_3): BasicConv2d(\n        (conv): Conv2d(96, 96, kernel_size=(3, 3), stride=(1, 1), padding=(1, 1), bias=False)\n        (bn): BatchNorm2d(96, eps=0.001, momentum=0.1, affine=True, track_running_stats=True)\n      )\n      (branch_pool): BasicConv2d(\n        (conv): Conv2d(288, 64, kernel_size=(1, 1), stride=(1, 1), bias=False)\n        (bn): BatchNorm2d(64, eps=0.001, momentum=0.1, affine=True, track_running_stats=True)\n      )\n    )\n    (Mixed_6a): InceptionB(\n      (branch3x3): BasicConv2d(\n        (conv): Conv2d(288, 384, kernel_size=(3, 3), stride=(2, 2), bias=False)\n        (bn): BatchNorm2d(384, eps=0.001, momentum=0.1, affine=True, track_running_stats=True)\n      )\n      (branch3x3dbl_1): BasicConv2d(\n        (conv): Conv2d(288, 64, kernel_size=(1, 1), stride=(1, 1), bias=False)\n        (bn): BatchNorm2d(64, eps=0.001, momentum=0.1, affine=True, track_running_stats=True)\n      )\n      (branch3x3dbl_2): BasicConv2d(\n        (conv): Conv2d(64, 96, kernel_size=(3, 3), stride=(1, 1), padding=(1, 1), bias=False)\n        (bn): BatchNorm2d(96, eps=0.001, momentum=0.1, affine=True, track_running_stats=True)\n      )\n      (branch3x3dbl_3): BasicConv2d(\n        (conv): Conv2d(96, 96, kernel_size=(3, 3), stride=(2, 2), bias=False)\n        (bn): BatchNorm2d(96, eps=0.001, momentum=0.1, affine=True, track_running_stats=True)\n      )\n    )\n    (Mixed_6b): InceptionC(\n      (branch1x1): BasicConv2d(\n        (conv): Conv2d(768, 192, kernel_size=(1, 1), stride=(1, 1), bias=False)\n        (bn): BatchNorm2d(192, eps=0.001, momentum=0.1, affine=True, track_running_stats=True)\n      )\n      (branch7x7_1): BasicConv2d(\n        (conv): Conv2d(768, 128, kernel_size=(1, 1), stride=(1, 1), bias=False)\n        (bn): BatchNorm2d(128, eps=0.001, momentum=0.1, affine=True, track_running_stats=True)\n      )\n      (branch7x7_2): BasicConv2d(\n        (conv): Conv2d(128, 128, kernel_size=(1, 7), stride=(1, 1), padding=(0, 3), bias=False)\n        (bn): BatchNorm2d(128, eps=0.001, momentum=0.1, affine=True, track_running_stats=True)\n      )\n      (branch7x7_3): BasicConv2d(\n        (conv): Conv2d(128, 192, kernel_size=(7, 1), stride=(1, 1), padding=(3, 0), bias=False)\n        (bn): BatchNorm2d(192, eps=0.001, momentum=0.1, affine=True, track_running_stats=True)\n      )\n      (branch7x7dbl_1): BasicConv2d(\n        (conv): Conv2d(768, 128, kernel_size=(1, 1), stride=(1, 1), bias=False)\n        (bn): BatchNorm2d(128, eps=0.001, momentum=0.1, affine=True, track_running_stats=True)\n      )\n      (branch7x7dbl_2): BasicConv2d(\n        (conv): Conv2d(128, 128, kernel_size=(7, 1), stride=(1, 1), padding=(3, 0), bias=False)\n        (bn): BatchNorm2d(128, eps=0.001, momentum=0.1, affine=True, track_running_stats=True)\n      )\n      (branch7x7dbl_3): BasicConv2d(\n        (conv): Conv2d(128, 128, kernel_size=(1, 7), stride=(1, 1), padding=(0, 3), bias=False)\n        (bn): BatchNorm2d(128, eps=0.001, momentum=0.1, affine=True, track_running_stats=True)\n      )\n      (branch7x7dbl_4): BasicConv2d(\n        (conv): Conv2d(128, 128, kernel_size=(7, 1), stride=(1, 1), padding=(3, 0), bias=False)\n        (bn): BatchNorm2d(128, eps=0.001, momentum=0.1, affine=True, track_running_stats=True)\n      )\n      (branch7x7dbl_5): BasicConv2d(\n        (conv): Conv2d(128, 192, kernel_size=(1, 7), stride=(1, 1), padding=(0, 3), bias=False)\n        (bn): BatchNorm2d(192, eps=0.001, momentum=0.1, affine=True, track_running_stats=True)\n      )\n      (branch_pool): BasicConv2d(\n        (conv): Conv2d(768, 192, kernel_size=(1, 1), stride=(1, 1), bias=False)\n        (bn): BatchNorm2d(192, eps=0.001, momentum=0.1, affine=True, track_running_stats=True)\n      )\n    )\n    (Mixed_6c): InceptionC(\n      (branch1x1): BasicConv2d(\n        (conv): Conv2d(768, 192, kernel_size=(1, 1), stride=(1, 1), bias=False)\n        (bn): BatchNorm2d(192, eps=0.001, momentum=0.1, affine=True, track_running_stats=True)\n      )\n      (branch7x7_1): BasicConv2d(\n        (conv): Conv2d(768, 160, kernel_size=(1, 1), stride=(1, 1), bias=False)\n        (bn): BatchNorm2d(160, eps=0.001, momentum=0.1, affine=True, track_running_stats=True)\n      )\n      (branch7x7_2): BasicConv2d(\n        (conv): Conv2d(160, 160, kernel_size=(1, 7), stride=(1, 1), padding=(0, 3), bias=False)\n        (bn): BatchNorm2d(160, eps=0.001, momentum=0.1, affine=True, track_running_stats=True)\n      )\n      (branch7x7_3): BasicConv2d(\n        (conv): Conv2d(160, 192, kernel_size=(7, 1), stride=(1, 1), padding=(3, 0), bias=False)\n        (bn): BatchNorm2d(192, eps=0.001, momentum=0.1, affine=True, track_running_stats=True)\n      )\n      (branch7x7dbl_1): BasicConv2d(\n        (conv): Conv2d(768, 160, kernel_size=(1, 1), stride=(1, 1), bias=False)\n        (bn): BatchNorm2d(160, eps=0.001, momentum=0.1, affine=True, track_running_stats=True)\n      )\n      (branch7x7dbl_2): BasicConv2d(\n        (conv): Conv2d(160, 160, kernel_size=(7, 1), stride=(1, 1), padding=(3, 0), bias=False)\n        (bn): BatchNorm2d(160, eps=0.001, momentum=0.1, affine=True, track_running_stats=True)\n      )\n      (branch7x7dbl_3): BasicConv2d(\n        (conv): Conv2d(160, 160, kernel_size=(1, 7), stride=(1, 1), padding=(0, 3), bias=False)\n        (bn): BatchNorm2d(160, eps=0.001, momentum=0.1, affine=True, track_running_stats=True)\n      )\n      (branch7x7dbl_4): BasicConv2d(\n        (conv): Conv2d(160, 160, kernel_size=(7, 1), stride=(1, 1), padding=(3, 0), bias=False)\n        (bn): BatchNorm2d(160, eps=0.001, momentum=0.1, affine=True, track_running_stats=True)\n      )\n      (branch7x7dbl_5): BasicConv2d(\n        (conv): Conv2d(160, 192, kernel_size=(1, 7), stride=(1, 1), padding=(0, 3), bias=False)\n        (bn): BatchNorm2d(192, eps=0.001, momentum=0.1, affine=True, track_running_stats=True)\n      )\n      (branch_pool): BasicConv2d(\n        (conv): Conv2d(768, 192, kernel_size=(1, 1), stride=(1, 1), bias=False)\n        (bn): BatchNorm2d(192, eps=0.001, momentum=0.1, affine=True, track_running_stats=True)\n      )\n    )\n    (Mixed_6d): InceptionC(\n      (branch1x1): BasicConv2d(\n        (conv): Conv2d(768, 192, kernel_size=(1, 1), stride=(1, 1), bias=False)\n        (bn): BatchNorm2d(192, eps=0.001, momentum=0.1, affine=True, track_running_stats=True)\n      )\n      (branch7x7_1): BasicConv2d(\n        (conv): Conv2d(768, 160, kernel_size=(1, 1), stride=(1, 1), bias=False)\n        (bn): BatchNorm2d(160, eps=0.001, momentum=0.1, affine=True, track_running_stats=True)\n      )\n      (branch7x7_2): BasicConv2d(\n        (conv): Conv2d(160, 160, kernel_size=(1, 7), stride=(1, 1), padding=(0, 3), bias=False)\n        (bn): BatchNorm2d(160, eps=0.001, momentum=0.1, affine=True, track_running_stats=True)\n      )\n      (branch7x7_3): BasicConv2d(\n        (conv): Conv2d(160, 192, kernel_size=(7, 1), stride=(1, 1), padding=(3, 0), bias=False)\n        (bn): BatchNorm2d(192, eps=0.001, momentum=0.1, affine=True, track_running_stats=True)\n      )\n      (branch7x7dbl_1): BasicConv2d(\n        (conv): Conv2d(768, 160, kernel_size=(1, 1), stride=(1, 1), bias=False)\n        (bn): BatchNorm2d(160, eps=0.001, momentum=0.1, affine=True, track_running_stats=True)\n      )\n      (branch7x7dbl_2): BasicConv2d(\n        (conv): Conv2d(160, 160, kernel_size=(7, 1), stride=(1, 1), padding=(3, 0), bias=False)\n        (bn): BatchNorm2d(160, eps=0.001, momentum=0.1, affine=True, track_running_stats=True)\n      )\n      (branch7x7dbl_3): BasicConv2d(\n        (conv): Conv2d(160, 160, kernel_size=(1, 7), stride=(1, 1), padding=(0, 3), bias=False)\n        (bn): BatchNorm2d(160, eps=0.001, momentum=0.1, affine=True, track_running_stats=True)\n      )\n      (branch7x7dbl_4): BasicConv2d(\n        (conv): Conv2d(160, 160, kernel_size=(7, 1), stride=(1, 1), padding=(3, 0), bias=False)\n        (bn): BatchNorm2d(160, eps=0.001, momentum=0.1, affine=True, track_running_stats=True)\n      )\n      (branch7x7dbl_5): BasicConv2d(\n        (conv): Conv2d(160, 192, kernel_size=(1, 7), stride=(1, 1), padding=(0, 3), bias=False)\n        (bn): BatchNorm2d(192, eps=0.001, momentum=0.1, affine=True, track_running_stats=True)\n      )\n      (branch_pool): BasicConv2d(\n        (conv): Conv2d(768, 192, kernel_size=(1, 1), stride=(1, 1), bias=False)\n        (bn): BatchNorm2d(192, eps=0.001, momentum=0.1, affine=True, track_running_stats=True)\n      )\n    )\n    (Mixed_6e): InceptionC(\n      (branch1x1): BasicConv2d(\n        (conv): Conv2d(768, 192, kernel_size=(1, 1), stride=(1, 1), bias=False)\n        (bn): BatchNorm2d(192, eps=0.001, momentum=0.1, affine=True, track_running_stats=True)\n      )\n      (branch7x7_1): BasicConv2d(\n        (conv): Conv2d(768, 192, kernel_size=(1, 1), stride=(1, 1), bias=False)\n        (bn): BatchNorm2d(192, eps=0.001, momentum=0.1, affine=True, track_running_stats=True)\n      )\n      (branch7x7_2): BasicConv2d(\n        (conv): Conv2d(192, 192, kernel_size=(1, 7), stride=(1, 1), padding=(0, 3), bias=False)\n        (bn): BatchNorm2d(192, eps=0.001, momentum=0.1, affine=True, track_running_stats=True)\n      )\n      (branch7x7_3): BasicConv2d(\n        (conv): Conv2d(192, 192, kernel_size=(7, 1), stride=(1, 1), padding=(3, 0), bias=False)\n        (bn): BatchNorm2d(192, eps=0.001, momentum=0.1, affine=True, track_running_stats=True)\n      )\n      (branch7x7dbl_1): BasicConv2d(\n        (conv): Conv2d(768, 192, kernel_size=(1, 1), stride=(1, 1), bias=False)\n        (bn): BatchNorm2d(192, eps=0.001, momentum=0.1, affine=True, track_running_stats=True)\n      )\n      (branch7x7dbl_2): BasicConv2d(\n        (conv): Conv2d(192, 192, kernel_size=(7, 1), stride=(1, 1), padding=(3, 0), bias=False)\n        (bn): BatchNorm2d(192, eps=0.001, momentum=0.1, affine=True, track_running_stats=True)\n      )\n      (branch7x7dbl_3): BasicConv2d(\n        (conv): Conv2d(192, 192, kernel_size=(1, 7), stride=(1, 1), padding=(0, 3), bias=False)\n        (bn): BatchNorm2d(192, eps=0.001, momentum=0.1, affine=True, track_running_stats=True)\n      )\n      (branch7x7dbl_4): BasicConv2d(\n        (conv): Conv2d(192, 192, kernel_size=(7, 1), stride=(1, 1), padding=(3, 0), bias=False)\n        (bn): BatchNorm2d(192, eps=0.001, momentum=0.1, affine=True, track_running_stats=True)\n      )\n      (branch7x7dbl_5): BasicConv2d(\n        (conv): Conv2d(192, 192, kernel_size=(1, 7), stride=(1, 1), padding=(0, 3), bias=False)\n        (bn): BatchNorm2d(192, eps=0.001, momentum=0.1, affine=True, track_running_stats=True)\n      )\n      (branch_pool): BasicConv2d(\n        (conv): Conv2d(768, 192, kernel_size=(1, 1), stride=(1, 1), bias=False)\n        (bn): BatchNorm2d(192, eps=0.001, momentum=0.1, affine=True, track_running_stats=True)\n      )\n    )\n    (AuxLogits): InceptionAux(\n      (conv0): BasicConv2d(\n        (conv): Conv2d(768, 128, kernel_size=(1, 1), stride=(1, 1), bias=False)\n        (bn): BatchNorm2d(128, eps=0.001, momentum=0.1, affine=True, track_running_stats=True)\n      )\n      (conv1): BasicConv2d(\n        (conv): Conv2d(128, 768, kernel_size=(5, 5), stride=(1, 1), bias=False)\n        (bn): BatchNorm2d(768, eps=0.001, momentum=0.1, affine=True, track_running_stats=True)\n      )\n      (fc): Linear(in_features=768, out_features=1000, bias=True)\n    )\n    (Mixed_7a): InceptionD(\n      (branch3x3_1): BasicConv2d(\n        (conv): Conv2d(768, 192, kernel_size=(1, 1), stride=(1, 1), bias=False)\n        (bn): BatchNorm2d(192, eps=0.001, momentum=0.1, affine=True, track_running_stats=True)\n      )\n      (branch3x3_2): BasicConv2d(\n        (conv): Conv2d(192, 320, kernel_size=(3, 3), stride=(2, 2), bias=False)\n        (bn): BatchNorm2d(320, eps=0.001, momentum=0.1, affine=True, track_running_stats=True)\n      )\n      (branch7x7x3_1): BasicConv2d(\n        (conv): Conv2d(768, 192, kernel_size=(1, 1), stride=(1, 1), bias=False)\n        (bn): BatchNorm2d(192, eps=0.001, momentum=0.1, affine=True, track_running_stats=True)\n      )\n      (branch7x7x3_2): BasicConv2d(\n        (conv): Conv2d(192, 192, kernel_size=(1, 7), stride=(1, 1), padding=(0, 3), bias=False)\n        (bn): BatchNorm2d(192, eps=0.001, momentum=0.1, affine=True, track_running_stats=True)\n      )\n      (branch7x7x3_3): BasicConv2d(\n        (conv): Conv2d(192, 192, kernel_size=(7, 1), stride=(1, 1), padding=(3, 0), bias=False)\n        (bn): BatchNorm2d(192, eps=0.001, momentum=0.1, affine=True, track_running_stats=True)\n      )\n      (branch7x7x3_4): BasicConv2d(\n        (conv): Conv2d(192, 192, kernel_size=(3, 3), stride=(2, 2), bias=False)\n        (bn): BatchNorm2d(192, eps=0.001, momentum=0.1, affine=True, track_running_stats=True)\n      )\n    )\n    (Mixed_7b): InceptionE(\n      (branch1x1): BasicConv2d(\n        (conv): Conv2d(1280, 320, kernel_size=(1, 1), stride=(1, 1), bias=False)\n        (bn): BatchNorm2d(320, eps=0.001, momentum=0.1, affine=True, track_running_stats=True)\n      )\n      (branch3x3_1): BasicConv2d(\n        (conv): Conv2d(1280, 384, kernel_size=(1, 1), stride=(1, 1), bias=False)\n        (bn): BatchNorm2d(384, eps=0.001, momentum=0.1, affine=True, track_running_stats=True)\n      )\n      (branch3x3_2a): BasicConv2d(\n        (conv): Conv2d(384, 384, kernel_size=(1, 3), stride=(1, 1), padding=(0, 1), bias=False)\n        (bn): BatchNorm2d(384, eps=0.001, momentum=0.1, affine=True, track_running_stats=True)\n      )\n      (branch3x3_2b): BasicConv2d(\n        (conv): Conv2d(384, 384, kernel_size=(3, 1), stride=(1, 1), padding=(1, 0), bias=False)\n        (bn): BatchNorm2d(384, eps=0.001, momentum=0.1, affine=True, track_running_stats=True)\n      )\n      (branch3x3dbl_1): BasicConv2d(\n        (conv): Conv2d(1280, 448, kernel_size=(1, 1), stride=(1, 1), bias=False)\n        (bn): BatchNorm2d(448, eps=0.001, momentum=0.1, affine=True, track_running_stats=True)\n      )\n      (branch3x3dbl_2): BasicConv2d(\n        (conv): Conv2d(448, 384, kernel_size=(3, 3), stride=(1, 1), padding=(1, 1), bias=False)\n        (bn): BatchNorm2d(384, eps=0.001, momentum=0.1, affine=True, track_running_stats=True)\n      )\n      (branch3x3dbl_3a): BasicConv2d(\n        (conv): Conv2d(384, 384, kernel_size=(1, 3), stride=(1, 1), padding=(0, 1), bias=False)\n        (bn): BatchNorm2d(384, eps=0.001, momentum=0.1, affine=True, track_running_stats=True)\n      )\n      (branch3x3dbl_3b): BasicConv2d(\n        (conv): Conv2d(384, 384, kernel_size=(3, 1), stride=(1, 1), padding=(1, 0), bias=False)\n        (bn): BatchNorm2d(384, eps=0.001, momentum=0.1, affine=True, track_running_stats=True)\n      )\n      (branch_pool): BasicConv2d(\n        (conv): Conv2d(1280, 192, kernel_size=(1, 1), stride=(1, 1), bias=False)\n        (bn): BatchNorm2d(192, eps=0.001, momentum=0.1, affine=True, track_running_stats=True)\n      )\n    )\n    (Mixed_7c): InceptionE(\n      (branch1x1): BasicConv2d(\n        (conv): Conv2d(2048, 320, kernel_size=(1, 1), stride=(1, 1), bias=False)\n        (bn): BatchNorm2d(320, eps=0.001, momentum=0.1, affine=True, track_running_stats=True)\n      )\n      (branch3x3_1): BasicConv2d(\n        (conv): Conv2d(2048, 384, kernel_size=(1, 1), stride=(1, 1), bias=False)\n        (bn): BatchNorm2d(384, eps=0.001, momentum=0.1, affine=True, track_running_stats=True)\n      )\n      (branch3x3_2a): BasicConv2d(\n        (conv): Conv2d(384, 384, kernel_size=(1, 3), stride=(1, 1), padding=(0, 1), bias=False)\n        (bn): BatchNorm2d(384, eps=0.001, momentum=0.1, affine=True, track_running_stats=True)\n      )\n      (branch3x3_2b): BasicConv2d(\n        (conv): Conv2d(384, 384, kernel_size=(3, 1), stride=(1, 1), padding=(1, 0), bias=False)\n        (bn): BatchNorm2d(384, eps=0.001, momentum=0.1, affine=True, track_running_stats=True)\n      )\n      (branch3x3dbl_1): BasicConv2d(\n        (conv): Conv2d(2048, 448, kernel_size=(1, 1), stride=(1, 1), bias=False)\n        (bn): BatchNorm2d(448, eps=0.001, momentum=0.1, affine=True, track_running_stats=True)\n      )\n      (branch3x3dbl_2): BasicConv2d(\n        (conv): Conv2d(448, 384, kernel_size=(3, 3), stride=(1, 1), padding=(1, 1), bias=False)\n        (bn): BatchNorm2d(384, eps=0.001, momentum=0.1, affine=True, track_running_stats=True)\n      )\n      (branch3x3dbl_3a): BasicConv2d(\n        (conv): Conv2d(384, 384, kernel_size=(1, 3), stride=(1, 1), padding=(0, 1), bias=False)\n        (bn): BatchNorm2d(384, eps=0.001, momentum=0.1, affine=True, track_running_stats=True)\n      )\n      (branch3x3dbl_3b): BasicConv2d(\n        (conv): Conv2d(384, 384, kernel_size=(3, 1), stride=(1, 1), padding=(1, 0), bias=False)\n        (bn): BatchNorm2d(384, eps=0.001, momentum=0.1, affine=True, track_running_stats=True)\n      )\n      (branch_pool): BasicConv2d(\n        (conv): Conv2d(2048, 192, kernel_size=(1, 1), stride=(1, 1), bias=False)\n        (bn): BatchNorm2d(192, eps=0.001, momentum=0.1, affine=True, track_running_stats=True)\n      )\n    )\n    (avgpool): AdaptiveAvgPool2d(output_size=(1, 1))\n    (dropout): Dropout(p=0.5, inplace=False)\n    (last_linear): Linear(in_features=2048, out_features=1000, bias=True)\n  )\n  (l0): Linear(in_features=2048, out_features=3, bias=True)\n  (dropout): Dropout2d(p=0.4, inplace=False)\n)\n",
          "output_type": "stream"
        }
      ]
    },
    {
      "cell_type": "code",
      "source": [
        "device = \"cuda\" if torch.cuda.is_available() else \"cpu\"\n",
        "\n",
        "model = inceptionv3(pretrained=True).to(device)\n",
        "\n",
        "#model.load_state_dict(torch.load(\"/kaggle/working/model.pth\", map_location= device))\n",
        "\n",
        "model.to(device)\n",
        "summary(model, (3, 299, 299))"
      ],
      "metadata": {
        "colab": {
          "base_uri": "https://localhost:8080/"
        },
        "id": "iDc10jWaFt9G",
        "outputId": "15d6a762-2ae1-40d6-cc1c-ce78532bbbfb",
        "execution": {
          "iopub.status.busy": "2022-12-28T07:48:13.553991Z",
          "iopub.execute_input": "2022-12-28T07:48:13.554770Z",
          "iopub.status.idle": "2022-12-28T07:48:24.960648Z",
          "shell.execute_reply.started": "2022-12-28T07:48:13.554729Z",
          "shell.execute_reply": "2022-12-28T07:48:24.959587Z"
        },
        "trusted": true
      },
      "execution_count": null,
      "outputs": [
        {
          "name": "stdout",
          "text": "----------------------------------------------------------------\n        Layer (type)               Output Shape         Param #\n================================================================\n            Conv2d-1         [-1, 32, 149, 149]             864\n       BatchNorm2d-2         [-1, 32, 149, 149]              64\n       BasicConv2d-3         [-1, 32, 149, 149]               0\n            Conv2d-4         [-1, 32, 147, 147]           9,216\n       BatchNorm2d-5         [-1, 32, 147, 147]              64\n       BasicConv2d-6         [-1, 32, 147, 147]               0\n            Conv2d-7         [-1, 64, 147, 147]          18,432\n       BatchNorm2d-8         [-1, 64, 147, 147]             128\n       BasicConv2d-9         [-1, 64, 147, 147]               0\n           Conv2d-10           [-1, 80, 73, 73]           5,120\n      BatchNorm2d-11           [-1, 80, 73, 73]             160\n      BasicConv2d-12           [-1, 80, 73, 73]               0\n           Conv2d-13          [-1, 192, 71, 71]         138,240\n      BatchNorm2d-14          [-1, 192, 71, 71]             384\n      BasicConv2d-15          [-1, 192, 71, 71]               0\n           Conv2d-16           [-1, 64, 35, 35]          12,288\n      BatchNorm2d-17           [-1, 64, 35, 35]             128\n      BasicConv2d-18           [-1, 64, 35, 35]               0\n           Conv2d-19           [-1, 48, 35, 35]           9,216\n      BatchNorm2d-20           [-1, 48, 35, 35]              96\n      BasicConv2d-21           [-1, 48, 35, 35]               0\n           Conv2d-22           [-1, 64, 35, 35]          76,800\n      BatchNorm2d-23           [-1, 64, 35, 35]             128\n      BasicConv2d-24           [-1, 64, 35, 35]               0\n           Conv2d-25           [-1, 64, 35, 35]          12,288\n      BatchNorm2d-26           [-1, 64, 35, 35]             128\n      BasicConv2d-27           [-1, 64, 35, 35]               0\n           Conv2d-28           [-1, 96, 35, 35]          55,296\n      BatchNorm2d-29           [-1, 96, 35, 35]             192\n      BasicConv2d-30           [-1, 96, 35, 35]               0\n           Conv2d-31           [-1, 96, 35, 35]          82,944\n      BatchNorm2d-32           [-1, 96, 35, 35]             192\n      BasicConv2d-33           [-1, 96, 35, 35]               0\n           Conv2d-34           [-1, 32, 35, 35]           6,144\n      BatchNorm2d-35           [-1, 32, 35, 35]              64\n      BasicConv2d-36           [-1, 32, 35, 35]               0\n       InceptionA-37          [-1, 256, 35, 35]               0\n           Conv2d-38           [-1, 64, 35, 35]          16,384\n      BatchNorm2d-39           [-1, 64, 35, 35]             128\n      BasicConv2d-40           [-1, 64, 35, 35]               0\n           Conv2d-41           [-1, 48, 35, 35]          12,288\n      BatchNorm2d-42           [-1, 48, 35, 35]              96\n      BasicConv2d-43           [-1, 48, 35, 35]               0\n           Conv2d-44           [-1, 64, 35, 35]          76,800\n      BatchNorm2d-45           [-1, 64, 35, 35]             128\n      BasicConv2d-46           [-1, 64, 35, 35]               0\n           Conv2d-47           [-1, 64, 35, 35]          16,384\n      BatchNorm2d-48           [-1, 64, 35, 35]             128\n      BasicConv2d-49           [-1, 64, 35, 35]               0\n           Conv2d-50           [-1, 96, 35, 35]          55,296\n      BatchNorm2d-51           [-1, 96, 35, 35]             192\n      BasicConv2d-52           [-1, 96, 35, 35]               0\n           Conv2d-53           [-1, 96, 35, 35]          82,944\n      BatchNorm2d-54           [-1, 96, 35, 35]             192\n      BasicConv2d-55           [-1, 96, 35, 35]               0\n           Conv2d-56           [-1, 64, 35, 35]          16,384\n      BatchNorm2d-57           [-1, 64, 35, 35]             128\n      BasicConv2d-58           [-1, 64, 35, 35]               0\n       InceptionA-59          [-1, 288, 35, 35]               0\n           Conv2d-60           [-1, 64, 35, 35]          18,432\n      BatchNorm2d-61           [-1, 64, 35, 35]             128\n      BasicConv2d-62           [-1, 64, 35, 35]               0\n           Conv2d-63           [-1, 48, 35, 35]          13,824\n      BatchNorm2d-64           [-1, 48, 35, 35]              96\n      BasicConv2d-65           [-1, 48, 35, 35]               0\n           Conv2d-66           [-1, 64, 35, 35]          76,800\n      BatchNorm2d-67           [-1, 64, 35, 35]             128\n      BasicConv2d-68           [-1, 64, 35, 35]               0\n           Conv2d-69           [-1, 64, 35, 35]          18,432\n      BatchNorm2d-70           [-1, 64, 35, 35]             128\n      BasicConv2d-71           [-1, 64, 35, 35]               0\n           Conv2d-72           [-1, 96, 35, 35]          55,296\n      BatchNorm2d-73           [-1, 96, 35, 35]             192\n      BasicConv2d-74           [-1, 96, 35, 35]               0\n           Conv2d-75           [-1, 96, 35, 35]          82,944\n      BatchNorm2d-76           [-1, 96, 35, 35]             192\n      BasicConv2d-77           [-1, 96, 35, 35]               0\n           Conv2d-78           [-1, 64, 35, 35]          18,432\n      BatchNorm2d-79           [-1, 64, 35, 35]             128\n      BasicConv2d-80           [-1, 64, 35, 35]               0\n       InceptionA-81          [-1, 288, 35, 35]               0\n           Conv2d-82          [-1, 384, 17, 17]         995,328\n      BatchNorm2d-83          [-1, 384, 17, 17]             768\n      BasicConv2d-84          [-1, 384, 17, 17]               0\n           Conv2d-85           [-1, 64, 35, 35]          18,432\n      BatchNorm2d-86           [-1, 64, 35, 35]             128\n      BasicConv2d-87           [-1, 64, 35, 35]               0\n           Conv2d-88           [-1, 96, 35, 35]          55,296\n      BatchNorm2d-89           [-1, 96, 35, 35]             192\n      BasicConv2d-90           [-1, 96, 35, 35]               0\n           Conv2d-91           [-1, 96, 17, 17]          82,944\n      BatchNorm2d-92           [-1, 96, 17, 17]             192\n      BasicConv2d-93           [-1, 96, 17, 17]               0\n       InceptionB-94          [-1, 768, 17, 17]               0\n           Conv2d-95          [-1, 192, 17, 17]         147,456\n      BatchNorm2d-96          [-1, 192, 17, 17]             384\n      BasicConv2d-97          [-1, 192, 17, 17]               0\n           Conv2d-98          [-1, 128, 17, 17]          98,304\n      BatchNorm2d-99          [-1, 128, 17, 17]             256\n     BasicConv2d-100          [-1, 128, 17, 17]               0\n          Conv2d-101          [-1, 128, 17, 17]         114,688\n     BatchNorm2d-102          [-1, 128, 17, 17]             256\n     BasicConv2d-103          [-1, 128, 17, 17]               0\n          Conv2d-104          [-1, 192, 17, 17]         172,032\n     BatchNorm2d-105          [-1, 192, 17, 17]             384\n     BasicConv2d-106          [-1, 192, 17, 17]               0\n          Conv2d-107          [-1, 128, 17, 17]          98,304\n     BatchNorm2d-108          [-1, 128, 17, 17]             256\n     BasicConv2d-109          [-1, 128, 17, 17]               0\n          Conv2d-110          [-1, 128, 17, 17]         114,688\n     BatchNorm2d-111          [-1, 128, 17, 17]             256\n     BasicConv2d-112          [-1, 128, 17, 17]               0\n          Conv2d-113          [-1, 128, 17, 17]         114,688\n     BatchNorm2d-114          [-1, 128, 17, 17]             256\n     BasicConv2d-115          [-1, 128, 17, 17]               0\n          Conv2d-116          [-1, 128, 17, 17]         114,688\n     BatchNorm2d-117          [-1, 128, 17, 17]             256\n     BasicConv2d-118          [-1, 128, 17, 17]               0\n          Conv2d-119          [-1, 192, 17, 17]         172,032\n     BatchNorm2d-120          [-1, 192, 17, 17]             384\n     BasicConv2d-121          [-1, 192, 17, 17]               0\n          Conv2d-122          [-1, 192, 17, 17]         147,456\n     BatchNorm2d-123          [-1, 192, 17, 17]             384\n     BasicConv2d-124          [-1, 192, 17, 17]               0\n      InceptionC-125          [-1, 768, 17, 17]               0\n          Conv2d-126          [-1, 192, 17, 17]         147,456\n     BatchNorm2d-127          [-1, 192, 17, 17]             384\n     BasicConv2d-128          [-1, 192, 17, 17]               0\n          Conv2d-129          [-1, 160, 17, 17]         122,880\n     BatchNorm2d-130          [-1, 160, 17, 17]             320\n     BasicConv2d-131          [-1, 160, 17, 17]               0\n          Conv2d-132          [-1, 160, 17, 17]         179,200\n     BatchNorm2d-133          [-1, 160, 17, 17]             320\n     BasicConv2d-134          [-1, 160, 17, 17]               0\n          Conv2d-135          [-1, 192, 17, 17]         215,040\n     BatchNorm2d-136          [-1, 192, 17, 17]             384\n     BasicConv2d-137          [-1, 192, 17, 17]               0\n          Conv2d-138          [-1, 160, 17, 17]         122,880\n     BatchNorm2d-139          [-1, 160, 17, 17]             320\n     BasicConv2d-140          [-1, 160, 17, 17]               0\n          Conv2d-141          [-1, 160, 17, 17]         179,200\n     BatchNorm2d-142          [-1, 160, 17, 17]             320\n     BasicConv2d-143          [-1, 160, 17, 17]               0\n          Conv2d-144          [-1, 160, 17, 17]         179,200\n     BatchNorm2d-145          [-1, 160, 17, 17]             320\n     BasicConv2d-146          [-1, 160, 17, 17]               0\n          Conv2d-147          [-1, 160, 17, 17]         179,200\n     BatchNorm2d-148          [-1, 160, 17, 17]             320\n     BasicConv2d-149          [-1, 160, 17, 17]               0\n          Conv2d-150          [-1, 192, 17, 17]         215,040\n     BatchNorm2d-151          [-1, 192, 17, 17]             384\n     BasicConv2d-152          [-1, 192, 17, 17]               0\n          Conv2d-153          [-1, 192, 17, 17]         147,456\n     BatchNorm2d-154          [-1, 192, 17, 17]             384\n     BasicConv2d-155          [-1, 192, 17, 17]               0\n      InceptionC-156          [-1, 768, 17, 17]               0\n          Conv2d-157          [-1, 192, 17, 17]         147,456\n     BatchNorm2d-158          [-1, 192, 17, 17]             384\n     BasicConv2d-159          [-1, 192, 17, 17]               0\n          Conv2d-160          [-1, 160, 17, 17]         122,880\n     BatchNorm2d-161          [-1, 160, 17, 17]             320\n     BasicConv2d-162          [-1, 160, 17, 17]               0\n          Conv2d-163          [-1, 160, 17, 17]         179,200\n     BatchNorm2d-164          [-1, 160, 17, 17]             320\n     BasicConv2d-165          [-1, 160, 17, 17]               0\n          Conv2d-166          [-1, 192, 17, 17]         215,040\n     BatchNorm2d-167          [-1, 192, 17, 17]             384\n     BasicConv2d-168          [-1, 192, 17, 17]               0\n          Conv2d-169          [-1, 160, 17, 17]         122,880\n     BatchNorm2d-170          [-1, 160, 17, 17]             320\n     BasicConv2d-171          [-1, 160, 17, 17]               0\n          Conv2d-172          [-1, 160, 17, 17]         179,200\n     BatchNorm2d-173          [-1, 160, 17, 17]             320\n     BasicConv2d-174          [-1, 160, 17, 17]               0\n          Conv2d-175          [-1, 160, 17, 17]         179,200\n     BatchNorm2d-176          [-1, 160, 17, 17]             320\n     BasicConv2d-177          [-1, 160, 17, 17]               0\n          Conv2d-178          [-1, 160, 17, 17]         179,200\n     BatchNorm2d-179          [-1, 160, 17, 17]             320\n     BasicConv2d-180          [-1, 160, 17, 17]               0\n          Conv2d-181          [-1, 192, 17, 17]         215,040\n     BatchNorm2d-182          [-1, 192, 17, 17]             384\n     BasicConv2d-183          [-1, 192, 17, 17]               0\n          Conv2d-184          [-1, 192, 17, 17]         147,456\n     BatchNorm2d-185          [-1, 192, 17, 17]             384\n     BasicConv2d-186          [-1, 192, 17, 17]               0\n      InceptionC-187          [-1, 768, 17, 17]               0\n          Conv2d-188          [-1, 192, 17, 17]         147,456\n     BatchNorm2d-189          [-1, 192, 17, 17]             384\n     BasicConv2d-190          [-1, 192, 17, 17]               0\n          Conv2d-191          [-1, 192, 17, 17]         147,456\n     BatchNorm2d-192          [-1, 192, 17, 17]             384\n     BasicConv2d-193          [-1, 192, 17, 17]               0\n          Conv2d-194          [-1, 192, 17, 17]         258,048\n     BatchNorm2d-195          [-1, 192, 17, 17]             384\n     BasicConv2d-196          [-1, 192, 17, 17]               0\n          Conv2d-197          [-1, 192, 17, 17]         258,048\n     BatchNorm2d-198          [-1, 192, 17, 17]             384\n     BasicConv2d-199          [-1, 192, 17, 17]               0\n          Conv2d-200          [-1, 192, 17, 17]         147,456\n     BatchNorm2d-201          [-1, 192, 17, 17]             384\n     BasicConv2d-202          [-1, 192, 17, 17]               0\n          Conv2d-203          [-1, 192, 17, 17]         258,048\n     BatchNorm2d-204          [-1, 192, 17, 17]             384\n     BasicConv2d-205          [-1, 192, 17, 17]               0\n          Conv2d-206          [-1, 192, 17, 17]         258,048\n     BatchNorm2d-207          [-1, 192, 17, 17]             384\n     BasicConv2d-208          [-1, 192, 17, 17]               0\n          Conv2d-209          [-1, 192, 17, 17]         258,048\n     BatchNorm2d-210          [-1, 192, 17, 17]             384\n     BasicConv2d-211          [-1, 192, 17, 17]               0\n          Conv2d-212          [-1, 192, 17, 17]         258,048\n     BatchNorm2d-213          [-1, 192, 17, 17]             384\n     BasicConv2d-214          [-1, 192, 17, 17]               0\n          Conv2d-215          [-1, 192, 17, 17]         147,456\n     BatchNorm2d-216          [-1, 192, 17, 17]             384\n     BasicConv2d-217          [-1, 192, 17, 17]               0\n      InceptionC-218          [-1, 768, 17, 17]               0\n          Conv2d-219            [-1, 128, 5, 5]          98,304\n     BatchNorm2d-220            [-1, 128, 5, 5]             256\n     BasicConv2d-221            [-1, 128, 5, 5]               0\n          Conv2d-222            [-1, 768, 1, 1]       2,457,600\n     BatchNorm2d-223            [-1, 768, 1, 1]           1,536\n     BasicConv2d-224            [-1, 768, 1, 1]               0\n          Linear-225                 [-1, 1000]         769,000\n    InceptionAux-226                 [-1, 1000]               0\n          Conv2d-227          [-1, 192, 17, 17]         147,456\n     BatchNorm2d-228          [-1, 192, 17, 17]             384\n     BasicConv2d-229          [-1, 192, 17, 17]               0\n          Conv2d-230            [-1, 320, 8, 8]         552,960\n     BatchNorm2d-231            [-1, 320, 8, 8]             640\n     BasicConv2d-232            [-1, 320, 8, 8]               0\n          Conv2d-233          [-1, 192, 17, 17]         147,456\n     BatchNorm2d-234          [-1, 192, 17, 17]             384\n     BasicConv2d-235          [-1, 192, 17, 17]               0\n          Conv2d-236          [-1, 192, 17, 17]         258,048\n     BatchNorm2d-237          [-1, 192, 17, 17]             384\n     BasicConv2d-238          [-1, 192, 17, 17]               0\n          Conv2d-239          [-1, 192, 17, 17]         258,048\n     BatchNorm2d-240          [-1, 192, 17, 17]             384\n     BasicConv2d-241          [-1, 192, 17, 17]               0\n          Conv2d-242            [-1, 192, 8, 8]         331,776\n     BatchNorm2d-243            [-1, 192, 8, 8]             384\n     BasicConv2d-244            [-1, 192, 8, 8]               0\n      InceptionD-245           [-1, 1280, 8, 8]               0\n          Conv2d-246            [-1, 320, 8, 8]         409,600\n     BatchNorm2d-247            [-1, 320, 8, 8]             640\n     BasicConv2d-248            [-1, 320, 8, 8]               0\n          Conv2d-249            [-1, 384, 8, 8]         491,520\n     BatchNorm2d-250            [-1, 384, 8, 8]             768\n     BasicConv2d-251            [-1, 384, 8, 8]               0\n          Conv2d-252            [-1, 384, 8, 8]         442,368\n     BatchNorm2d-253            [-1, 384, 8, 8]             768\n     BasicConv2d-254            [-1, 384, 8, 8]               0\n          Conv2d-255            [-1, 384, 8, 8]         442,368\n     BatchNorm2d-256            [-1, 384, 8, 8]             768\n     BasicConv2d-257            [-1, 384, 8, 8]               0\n          Conv2d-258            [-1, 448, 8, 8]         573,440\n     BatchNorm2d-259            [-1, 448, 8, 8]             896\n     BasicConv2d-260            [-1, 448, 8, 8]               0\n          Conv2d-261            [-1, 384, 8, 8]       1,548,288\n     BatchNorm2d-262            [-1, 384, 8, 8]             768\n     BasicConv2d-263            [-1, 384, 8, 8]               0\n          Conv2d-264            [-1, 384, 8, 8]         442,368\n     BatchNorm2d-265            [-1, 384, 8, 8]             768\n     BasicConv2d-266            [-1, 384, 8, 8]               0\n          Conv2d-267            [-1, 384, 8, 8]         442,368\n     BatchNorm2d-268            [-1, 384, 8, 8]             768\n     BasicConv2d-269            [-1, 384, 8, 8]               0\n          Conv2d-270            [-1, 192, 8, 8]         245,760\n     BatchNorm2d-271            [-1, 192, 8, 8]             384\n     BasicConv2d-272            [-1, 192, 8, 8]               0\n      InceptionE-273           [-1, 2048, 8, 8]               0\n          Conv2d-274            [-1, 320, 8, 8]         655,360\n     BatchNorm2d-275            [-1, 320, 8, 8]             640\n     BasicConv2d-276            [-1, 320, 8, 8]               0\n          Conv2d-277            [-1, 384, 8, 8]         786,432\n     BatchNorm2d-278            [-1, 384, 8, 8]             768\n     BasicConv2d-279            [-1, 384, 8, 8]               0\n          Conv2d-280            [-1, 384, 8, 8]         442,368\n     BatchNorm2d-281            [-1, 384, 8, 8]             768\n     BasicConv2d-282            [-1, 384, 8, 8]               0\n          Conv2d-283            [-1, 384, 8, 8]         442,368\n     BatchNorm2d-284            [-1, 384, 8, 8]             768\n     BasicConv2d-285            [-1, 384, 8, 8]               0\n          Conv2d-286            [-1, 448, 8, 8]         917,504\n     BatchNorm2d-287            [-1, 448, 8, 8]             896\n     BasicConv2d-288            [-1, 448, 8, 8]               0\n          Conv2d-289            [-1, 384, 8, 8]       1,548,288\n     BatchNorm2d-290            [-1, 384, 8, 8]             768\n     BasicConv2d-291            [-1, 384, 8, 8]               0\n          Conv2d-292            [-1, 384, 8, 8]         442,368\n     BatchNorm2d-293            [-1, 384, 8, 8]             768\n     BasicConv2d-294            [-1, 384, 8, 8]               0\n          Conv2d-295            [-1, 384, 8, 8]         442,368\n     BatchNorm2d-296            [-1, 384, 8, 8]             768\n     BasicConv2d-297            [-1, 384, 8, 8]               0\n          Conv2d-298            [-1, 192, 8, 8]         393,216\n     BatchNorm2d-299            [-1, 192, 8, 8]             384\n     BasicConv2d-300            [-1, 192, 8, 8]               0\n      InceptionE-301           [-1, 2048, 8, 8]               0\n          Linear-302                    [-1, 3]           6,147\n================================================================\nTotal params: 25,118,411\nTrainable params: 25,118,411\nNon-trainable params: 0\n----------------------------------------------------------------\nInput size (MB): 1.02\nForward/backward pass size (MB): 224.22\nParams size (MB): 95.82\nEstimated Total Size (MB): 321.07\n----------------------------------------------------------------\n",
          "output_type": "stream"
        }
      ]
    },
    {
      "cell_type": "markdown",
      "source": [
        "# **OPTIMZER**"
      ],
      "metadata": {
        "id": "tQwTUx2owiH5"
      }
    },
    {
      "cell_type": "code",
      "source": [
        "lr = 0.001\n",
        "\n",
        "WEIGHT_DECAY = 0.0005\n",
        "save_path = \"model.pth\"\n",
        "fine_tune = True\n",
        "#load_path = \"/kaggle/working/model_1.pth\""
      ],
      "metadata": {
        "execution": {
          "iopub.status.busy": "2022-12-28T07:48:24.962408Z",
          "iopub.execute_input": "2022-12-28T07:48:24.963097Z",
          "iopub.status.idle": "2022-12-28T07:48:24.968453Z",
          "shell.execute_reply.started": "2022-12-28T07:48:24.963058Z",
          "shell.execute_reply": "2022-12-28T07:48:24.967392Z"
        },
        "trusted": true,
        "id": "38ROdrKVwiH5"
      },
      "execution_count": null,
      "outputs": []
    },
    {
      "cell_type": "code",
      "source": [
        "# loss function\n",
        "loss_fn = nn.CrossEntropyLoss()\n",
        "#optimizer = torch.optim.Adam(model.parameters(), lr = lr, weight_decay=WEIGHT_DECAY)\n",
        "optimizer= torch.optim.SGD(model.parameters(),lr= lr,momentum=0.9)"
      ],
      "metadata": {
        "id": "DSLEyL1ijuJS",
        "execution": {
          "iopub.status.busy": "2022-12-28T07:48:24.970536Z",
          "iopub.execute_input": "2022-12-28T07:48:24.971665Z",
          "iopub.status.idle": "2022-12-28T07:48:24.982271Z",
          "shell.execute_reply.started": "2022-12-28T07:48:24.971507Z",
          "shell.execute_reply": "2022-12-28T07:48:24.981184Z"
        },
        "trusted": true
      },
      "execution_count": null,
      "outputs": []
    },
    {
      "cell_type": "markdown",
      "source": [
        "# **LOAD MODEL**"
      ],
      "metadata": {
        "id": "I5sTZWilwiH_"
      }
    },
    {
      "cell_type": "code",
      "source": [
        "#state_dict = torch.load(load_path, map_location=device)\n",
        "#model.load_state_dict(state_dict)"
      ],
      "metadata": {
        "execution": {
          "iopub.status.busy": "2022-12-28T07:48:24.985806Z",
          "iopub.execute_input": "2022-12-28T07:48:24.986082Z",
          "iopub.status.idle": "2022-12-28T07:48:24.992678Z",
          "shell.execute_reply.started": "2022-12-28T07:48:24.986057Z",
          "shell.execute_reply": "2022-12-28T07:48:24.991804Z"
        },
        "trusted": true,
        "id": "4F01pk2jwiIA"
      },
      "execution_count": null,
      "outputs": []
    },
    {
      "cell_type": "markdown",
      "source": [
        "# **TRAINING**"
      ],
      "metadata": {
        "id": "QBXnMsH4wiIB"
      }
    },
    {
      "cell_type": "code",
      "source": [
        "def train(model,dataloader):    \n",
        "    # training function\n",
        "\n",
        "    print('Training')\n",
        "    model.train()\n",
        "    running_loss = 0.0\n",
        "    running_correct = 0\n",
        "    total=0\n",
        "    for batch, (X, y) in enumerate(tqdm(dataloader)):\n",
        "\n",
        "\n",
        "        X, y = X.to(device), y.to(device)\n",
        "\n",
        "        optimizer.zero_grad()\n",
        "        outputs = model(X)\n",
        "        loss = loss_fn(outputs, y)\n",
        "\n",
        "        loss.backward()\n",
        "        optimizer.step()\n",
        "\n",
        "        running_loss += loss.item()\n",
        "        running_correct += (outputs.argmax(1) == y).type(torch.float).sum().item()\n",
        "        total += y.size(0)\n",
        "\n",
        "    loss = running_loss/len(dataloader)\n",
        "    accuracy = 100.*running_correct/total\n",
        "    print('Train Loss: %.3f | Accuracy: %.3f'%(loss, accuracy))\n",
        "\n",
        "\n",
        "    #print(f\"Train Loss: {loss:.4f}, Train Acc: {accuracy:.2f}\")\n",
        "\n",
        "\n",
        "    return loss, accuracy"
      ],
      "metadata": {
        "id": "R0zaRyYBNwf5",
        "execution": {
          "iopub.status.busy": "2022-12-28T07:48:24.994585Z",
          "iopub.execute_input": "2022-12-28T07:48:24.995073Z",
          "iopub.status.idle": "2022-12-28T07:48:25.006386Z",
          "shell.execute_reply.started": "2022-12-28T07:48:24.995016Z",
          "shell.execute_reply": "2022-12-28T07:48:25.005499Z"
        },
        "trusted": true
      },
      "execution_count": null,
      "outputs": []
    },
    {
      "cell_type": "markdown",
      "source": [
        "# **VALIDATION**"
      ],
      "metadata": {
        "id": "pG86PJG4wiID"
      }
    },
    {
      "cell_type": "code",
      "source": [
        "#validation function\n",
        "def validate(model, dataloader):\n",
        "    print('Validating')\n",
        "    model.eval()\n",
        "    running_loss = 0.0\n",
        "    running_correct = 0\n",
        "    total=0\n",
        "    with torch.no_grad():\n",
        "        \n",
        "        for batch, (X, y) in enumerate(dataloader):\n",
        "            X, y = X.to(device), y.to(device)\n",
        "\n",
        "            # Compute prediction error\n",
        "            pred = model(X)\n",
        "            loss = loss_fn(pred, y)\n",
        "            running_loss += loss_fn(pred, y).item()        \n",
        "            running_correct += (pred.argmax(1) == y).type(torch.float).sum().item()\n",
        "            total += y.size(0)\n",
        "        \n",
        "    loss = running_loss/len(dataloader)\n",
        "    accuracy = 100.*running_correct/total\n",
        "    #print(f'Val Loss: {loss:.4f}, Val Acc: {accuracy:.2f}')\n",
        "    print('Test Loss: %.3f | Accuracy: %.3f'%(loss, accuracy))\n",
        "\n",
        "\n",
        "    return loss, accuracy"
      ],
      "metadata": {
        "id": "EsQy83QuSjVX",
        "execution": {
          "iopub.status.busy": "2022-12-28T07:48:25.008326Z",
          "iopub.execute_input": "2022-12-28T07:48:25.008700Z",
          "iopub.status.idle": "2022-12-28T07:48:25.024782Z",
          "shell.execute_reply.started": "2022-12-28T07:48:25.008666Z",
          "shell.execute_reply": "2022-12-28T07:48:25.023857Z"
        },
        "trusted": true
      },
      "execution_count": null,
      "outputs": []
    },
    {
      "cell_type": "markdown",
      "source": [
        "# **TRAINING AND VALIDATION IN SINGLE FUNCTION**"
      ],
      "metadata": {
        "id": "r3BEuZhZwiIE"
      }
    },
    {
      "cell_type": "code",
      "source": [
        "epochs=50\n",
        "\n",
        "\n",
        "train_loss , train_accuracy = [], []\n",
        "val_loss , val_accuracy = [], []\n",
        "print(f\"Training on {len(train_data)} examples, validating on {len(test_data)} examples...\")\n",
        "\n",
        "for epoch in range(epochs):\n",
        "    print(f\"Epoch {epoch+1} of {epochs}\")\n",
        "    train_epoch_loss, train_epoch_accuracy = train(model, trainLoader)\n",
        "    val_epoch_loss, val_epoch_accuracy = validate(model, testLoader)\n",
        "    train_loss.append(train_epoch_loss)\n",
        "    train_accuracy.append(train_epoch_accuracy)\n",
        "    val_loss.append(val_epoch_loss)\n",
        "    val_accuracy.append(val_epoch_accuracy)"
      ],
      "metadata": {
        "colab": {
          "base_uri": "https://localhost:8080/"
        },
        "id": "kxWa3M8tlCFP",
        "outputId": "254828b1-a091-4a60-f0f3-ebe5066e2016",
        "execution": {
          "iopub.status.busy": "2022-12-28T07:48:25.026433Z",
          "iopub.execute_input": "2022-12-28T07:48:25.026974Z",
          "iopub.status.idle": "2022-12-28T08:02:17.607321Z",
          "shell.execute_reply.started": "2022-12-28T07:48:25.026940Z",
          "shell.execute_reply": "2022-12-28T08:02:17.605401Z"
        },
        "trusted": true
      },
      "execution_count": null,
      "outputs": [
        {
          "name": "stdout",
          "text": "Training on 344 examples, validating on 150 examples...\nEpoch 1 of 50\nTraining\n",
          "output_type": "stream"
        },
        {
          "name": "stderr",
          "text": "100%|██████████| 58/58 [00:12<00:00,  4.74it/s]",
          "output_type": "stream"
        },
        {
          "name": "stdout",
          "text": "Train Loss: 1.136 | Accuracy: 36.047\nValidating\n",
          "output_type": "stream"
        },
        {
          "name": "stderr",
          "text": "\n",
          "output_type": "stream"
        },
        {
          "name": "stdout",
          "text": "Test Loss: 1.100 | Accuracy: 36.000\nEpoch 2 of 50\nTraining\n",
          "output_type": "stream"
        },
        {
          "name": "stderr",
          "text": "100%|██████████| 58/58 [00:12<00:00,  4.54it/s]",
          "output_type": "stream"
        },
        {
          "name": "stdout",
          "text": "Train Loss: 1.063 | Accuracy: 43.895\nValidating\n",
          "output_type": "stream"
        },
        {
          "name": "stderr",
          "text": "\n",
          "output_type": "stream"
        },
        {
          "name": "stdout",
          "text": "Test Loss: 1.066 | Accuracy: 46.667\nEpoch 3 of 50\nTraining\n",
          "output_type": "stream"
        },
        {
          "name": "stderr",
          "text": "100%|██████████| 58/58 [00:11<00:00,  4.96it/s]",
          "output_type": "stream"
        },
        {
          "name": "stdout",
          "text": "Train Loss: 1.035 | Accuracy: 46.221\nValidating\n",
          "output_type": "stream"
        },
        {
          "name": "stderr",
          "text": "\n",
          "output_type": "stream"
        },
        {
          "name": "stdout",
          "text": "Test Loss: 1.027 | Accuracy: 48.000\nEpoch 4 of 50\nTraining\n",
          "output_type": "stream"
        },
        {
          "name": "stderr",
          "text": "100%|██████████| 58/58 [00:11<00:00,  4.89it/s]\n",
          "output_type": "stream"
        },
        {
          "name": "stdout",
          "text": "Train Loss: 0.968 | Accuracy: 53.488\nValidating\nTest Loss: 1.006 | Accuracy: 50.667\nEpoch 5 of 50\nTraining\n",
          "output_type": "stream"
        },
        {
          "name": "stderr",
          "text": "100%|██████████| 58/58 [00:11<00:00,  4.88it/s]",
          "output_type": "stream"
        },
        {
          "name": "stdout",
          "text": "Train Loss: 0.941 | Accuracy: 55.233\nValidating\n",
          "output_type": "stream"
        },
        {
          "name": "stderr",
          "text": "\n",
          "output_type": "stream"
        },
        {
          "name": "stdout",
          "text": "Test Loss: 1.018 | Accuracy: 48.667\nEpoch 6 of 50\nTraining\n",
          "output_type": "stream"
        },
        {
          "name": "stderr",
          "text": "100%|██████████| 58/58 [00:12<00:00,  4.80it/s]",
          "output_type": "stream"
        },
        {
          "name": "stdout",
          "text": "Train Loss: 0.771 | Accuracy: 62.500\nValidating\n",
          "output_type": "stream"
        },
        {
          "name": "stderr",
          "text": "\n",
          "output_type": "stream"
        },
        {
          "name": "stdout",
          "text": "Test Loss: 1.001 | Accuracy: 52.667\nEpoch 7 of 50\nTraining\n",
          "output_type": "stream"
        },
        {
          "name": "stderr",
          "text": "100%|██████████| 58/58 [00:13<00:00,  4.34it/s]",
          "output_type": "stream"
        },
        {
          "name": "stdout",
          "text": "Train Loss: 0.694 | Accuracy: 67.151\nValidating\n",
          "output_type": "stream"
        },
        {
          "name": "stderr",
          "text": "\n",
          "output_type": "stream"
        },
        {
          "name": "stdout",
          "text": "Test Loss: 1.176 | Accuracy: 48.667\nEpoch 8 of 50\nTraining\n",
          "output_type": "stream"
        },
        {
          "name": "stderr",
          "text": "100%|██████████| 58/58 [00:12<00:00,  4.65it/s]",
          "output_type": "stream"
        },
        {
          "name": "stdout",
          "text": "Train Loss: 0.642 | Accuracy: 72.965\nValidating\n",
          "output_type": "stream"
        },
        {
          "name": "stderr",
          "text": "\n",
          "output_type": "stream"
        },
        {
          "name": "stdout",
          "text": "Test Loss: 1.172 | Accuracy: 41.333\nEpoch 9 of 50\nTraining\n",
          "output_type": "stream"
        },
        {
          "name": "stderr",
          "text": "100%|██████████| 58/58 [00:12<00:00,  4.48it/s]\n",
          "output_type": "stream"
        },
        {
          "name": "stdout",
          "text": "Train Loss: 0.613 | Accuracy: 75.291\nValidating\nTest Loss: 1.072 | Accuracy: 51.333\nEpoch 10 of 50\nTraining\n",
          "output_type": "stream"
        },
        {
          "name": "stderr",
          "text": "100%|██████████| 58/58 [00:12<00:00,  4.80it/s]",
          "output_type": "stream"
        },
        {
          "name": "stdout",
          "text": "Train Loss: 0.605 | Accuracy: 74.419\nValidating\n",
          "output_type": "stream"
        },
        {
          "name": "stderr",
          "text": "\n",
          "output_type": "stream"
        },
        {
          "name": "stdout",
          "text": "Test Loss: 1.209 | Accuracy: 50.667\nEpoch 11 of 50\nTraining\n",
          "output_type": "stream"
        },
        {
          "name": "stderr",
          "text": "100%|██████████| 58/58 [00:12<00:00,  4.48it/s]",
          "output_type": "stream"
        },
        {
          "name": "stdout",
          "text": "Train Loss: 0.503 | Accuracy: 80.814\nValidating\n",
          "output_type": "stream"
        },
        {
          "name": "stderr",
          "text": "\n",
          "output_type": "stream"
        },
        {
          "name": "stdout",
          "text": "Test Loss: 1.266 | Accuracy: 48.000\nEpoch 12 of 50\nTraining\n",
          "output_type": "stream"
        },
        {
          "name": "stderr",
          "text": "100%|██████████| 58/58 [00:11<00:00,  4.85it/s]\n",
          "output_type": "stream"
        },
        {
          "name": "stdout",
          "text": "Train Loss: 0.508 | Accuracy: 79.651\nValidating\nTest Loss: 1.265 | Accuracy: 50.667\nEpoch 13 of 50\nTraining\n",
          "output_type": "stream"
        },
        {
          "name": "stderr",
          "text": "100%|██████████| 58/58 [00:12<00:00,  4.60it/s]",
          "output_type": "stream"
        },
        {
          "name": "stdout",
          "text": "Train Loss: 0.406 | Accuracy: 85.465\nValidating\n",
          "output_type": "stream"
        },
        {
          "name": "stderr",
          "text": "\n",
          "output_type": "stream"
        },
        {
          "name": "stdout",
          "text": "Test Loss: 1.428 | Accuracy: 45.333\nEpoch 14 of 50\nTraining\n",
          "output_type": "stream"
        },
        {
          "name": "stderr",
          "text": "100%|██████████| 58/58 [00:11<00:00,  4.85it/s]\n",
          "output_type": "stream"
        },
        {
          "name": "stdout",
          "text": "Train Loss: 0.364 | Accuracy: 86.919\nValidating\nTest Loss: 1.455 | Accuracy: 45.333\nEpoch 15 of 50\nTraining\n",
          "output_type": "stream"
        },
        {
          "name": "stderr",
          "text": "100%|██████████| 58/58 [00:12<00:00,  4.51it/s]\n",
          "output_type": "stream"
        },
        {
          "name": "stdout",
          "text": "Train Loss: 0.414 | Accuracy: 82.267\nValidating\nTest Loss: 1.385 | Accuracy: 46.667\nEpoch 16 of 50\nTraining\n",
          "output_type": "stream"
        },
        {
          "name": "stderr",
          "text": "100%|██████████| 58/58 [00:12<00:00,  4.75it/s]\n",
          "output_type": "stream"
        },
        {
          "name": "stdout",
          "text": "Train Loss: 0.329 | Accuracy: 87.791\nValidating\nTest Loss: 1.479 | Accuracy: 46.000\nEpoch 17 of 50\nTraining\n",
          "output_type": "stream"
        },
        {
          "name": "stderr",
          "text": "100%|██████████| 58/58 [00:11<00:00,  4.95it/s]",
          "output_type": "stream"
        },
        {
          "name": "stdout",
          "text": "Train Loss: 0.305 | Accuracy: 89.826\nValidating\n",
          "output_type": "stream"
        },
        {
          "name": "stderr",
          "text": "\n",
          "output_type": "stream"
        },
        {
          "name": "stdout",
          "text": "Test Loss: 1.786 | Accuracy: 48.667\nEpoch 18 of 50\nTraining\n",
          "output_type": "stream"
        },
        {
          "name": "stderr",
          "text": "100%|██████████| 58/58 [00:11<00:00,  4.97it/s]\n",
          "output_type": "stream"
        },
        {
          "name": "stdout",
          "text": "Train Loss: 0.304 | Accuracy: 87.791\nValidating\nTest Loss: 1.512 | Accuracy: 48.000\nEpoch 19 of 50\nTraining\n",
          "output_type": "stream"
        },
        {
          "name": "stderr",
          "text": "100%|██████████| 58/58 [00:11<00:00,  4.84it/s]",
          "output_type": "stream"
        },
        {
          "name": "stdout",
          "text": "Train Loss: 0.359 | Accuracy: 86.337\nValidating\n",
          "output_type": "stream"
        },
        {
          "name": "stderr",
          "text": "\n",
          "output_type": "stream"
        },
        {
          "name": "stdout",
          "text": "Test Loss: 1.584 | Accuracy: 46.000\nEpoch 20 of 50\nTraining\n",
          "output_type": "stream"
        },
        {
          "name": "stderr",
          "text": "100%|██████████| 58/58 [00:11<00:00,  4.95it/s]",
          "output_type": "stream"
        },
        {
          "name": "stdout",
          "text": "Train Loss: 0.254 | Accuracy: 91.279\nValidating\n",
          "output_type": "stream"
        },
        {
          "name": "stderr",
          "text": "\n",
          "output_type": "stream"
        },
        {
          "name": "stdout",
          "text": "Test Loss: 1.797 | Accuracy: 46.000\nEpoch 21 of 50\nTraining\n",
          "output_type": "stream"
        },
        {
          "name": "stderr",
          "text": "100%|██████████| 58/58 [00:11<00:00,  4.99it/s]",
          "output_type": "stream"
        },
        {
          "name": "stdout",
          "text": "Train Loss: 0.204 | Accuracy: 92.733\nValidating\n",
          "output_type": "stream"
        },
        {
          "name": "stderr",
          "text": "\n",
          "output_type": "stream"
        },
        {
          "name": "stdout",
          "text": "Test Loss: 1.652 | Accuracy: 48.667\nEpoch 22 of 50\nTraining\n",
          "output_type": "stream"
        },
        {
          "name": "stderr",
          "text": "100%|██████████| 58/58 [00:11<00:00,  4.89it/s]",
          "output_type": "stream"
        },
        {
          "name": "stdout",
          "text": "Train Loss: 0.174 | Accuracy: 94.186\nValidating\n",
          "output_type": "stream"
        },
        {
          "name": "stderr",
          "text": "\n",
          "output_type": "stream"
        },
        {
          "name": "stdout",
          "text": "Test Loss: 2.038 | Accuracy: 43.333\nEpoch 23 of 50\nTraining\n",
          "output_type": "stream"
        },
        {
          "name": "stderr",
          "text": "100%|██████████| 58/58 [00:12<00:00,  4.82it/s]",
          "output_type": "stream"
        },
        {
          "name": "stdout",
          "text": "Train Loss: 0.281 | Accuracy: 89.535\nValidating\n",
          "output_type": "stream"
        },
        {
          "name": "stderr",
          "text": "\n",
          "output_type": "stream"
        },
        {
          "name": "stdout",
          "text": "Test Loss: 1.730 | Accuracy: 48.000\nEpoch 24 of 50\nTraining\n",
          "output_type": "stream"
        },
        {
          "name": "stderr",
          "text": "100%|██████████| 58/58 [00:12<00:00,  4.59it/s]",
          "output_type": "stream"
        },
        {
          "name": "stdout",
          "text": "Train Loss: 0.185 | Accuracy: 94.477\nValidating\n",
          "output_type": "stream"
        },
        {
          "name": "stderr",
          "text": "\n",
          "output_type": "stream"
        },
        {
          "name": "stdout",
          "text": "Test Loss: 1.431 | Accuracy: 54.667\nEpoch 25 of 50\nTraining\n",
          "output_type": "stream"
        },
        {
          "name": "stderr",
          "text": "100%|██████████| 58/58 [00:11<00:00,  5.00it/s]",
          "output_type": "stream"
        },
        {
          "name": "stdout",
          "text": "Train Loss: 0.226 | Accuracy: 93.023\nValidating\n",
          "output_type": "stream"
        },
        {
          "name": "stderr",
          "text": "\n",
          "output_type": "stream"
        },
        {
          "name": "stdout",
          "text": "Test Loss: 1.541 | Accuracy: 52.000\nEpoch 26 of 50\nTraining\n",
          "output_type": "stream"
        },
        {
          "name": "stderr",
          "text": "100%|██████████| 58/58 [00:12<00:00,  4.62it/s]",
          "output_type": "stream"
        },
        {
          "name": "stdout",
          "text": "Train Loss: 0.189 | Accuracy: 94.477\nValidating\n",
          "output_type": "stream"
        },
        {
          "name": "stderr",
          "text": "\n",
          "output_type": "stream"
        },
        {
          "name": "stdout",
          "text": "Test Loss: 1.766 | Accuracy: 50.000\nEpoch 27 of 50\nTraining\n",
          "output_type": "stream"
        },
        {
          "name": "stderr",
          "text": "100%|██████████| 58/58 [00:11<00:00,  4.92it/s]",
          "output_type": "stream"
        },
        {
          "name": "stdout",
          "text": "Train Loss: 0.157 | Accuracy: 94.186\nValidating\n",
          "output_type": "stream"
        },
        {
          "name": "stderr",
          "text": "\n",
          "output_type": "stream"
        },
        {
          "name": "stdout",
          "text": "Test Loss: 1.830 | Accuracy: 50.667\nEpoch 28 of 50\nTraining\n",
          "output_type": "stream"
        },
        {
          "name": "stderr",
          "text": "100%|██████████| 58/58 [00:12<00:00,  4.66it/s]\n",
          "output_type": "stream"
        },
        {
          "name": "stdout",
          "text": "Train Loss: 0.183 | Accuracy: 93.314\nValidating\nTest Loss: 1.624 | Accuracy: 50.000\nEpoch 29 of 50\nTraining\n",
          "output_type": "stream"
        },
        {
          "name": "stderr",
          "text": "100%|██████████| 58/58 [00:11<00:00,  4.94it/s]",
          "output_type": "stream"
        },
        {
          "name": "stdout",
          "text": "Train Loss: 0.122 | Accuracy: 95.349\nValidating\n",
          "output_type": "stream"
        },
        {
          "name": "stderr",
          "text": "\n",
          "output_type": "stream"
        },
        {
          "name": "stdout",
          "text": "Test Loss: 1.721 | Accuracy: 48.000\nEpoch 30 of 50\nTraining\n",
          "output_type": "stream"
        },
        {
          "name": "stderr",
          "text": "100%|██████████| 58/58 [00:13<00:00,  4.44it/s]",
          "output_type": "stream"
        },
        {
          "name": "stdout",
          "text": "Train Loss: 0.166 | Accuracy: 95.058\nValidating\n",
          "output_type": "stream"
        },
        {
          "name": "stderr",
          "text": "\n",
          "output_type": "stream"
        },
        {
          "name": "stdout",
          "text": "Test Loss: 1.794 | Accuracy: 49.333\nEpoch 31 of 50\nTraining\n",
          "output_type": "stream"
        },
        {
          "name": "stderr",
          "text": "100%|██████████| 58/58 [00:11<00:00,  4.91it/s]",
          "output_type": "stream"
        },
        {
          "name": "stdout",
          "text": "Train Loss: 0.126 | Accuracy: 95.058\nValidating\n",
          "output_type": "stream"
        },
        {
          "name": "stderr",
          "text": "\n",
          "output_type": "stream"
        },
        {
          "name": "stdout",
          "text": "Test Loss: 2.144 | Accuracy: 48.667\nEpoch 32 of 50\nTraining\n",
          "output_type": "stream"
        },
        {
          "name": "stderr",
          "text": "100%|██████████| 58/58 [00:12<00:00,  4.59it/s]",
          "output_type": "stream"
        },
        {
          "name": "stdout",
          "text": "Train Loss: 0.141 | Accuracy: 95.640\nValidating\n",
          "output_type": "stream"
        },
        {
          "name": "stderr",
          "text": "\n",
          "output_type": "stream"
        },
        {
          "name": "stdout",
          "text": "Test Loss: 1.941 | Accuracy: 50.667\nEpoch 33 of 50\nTraining\n",
          "output_type": "stream"
        },
        {
          "name": "stderr",
          "text": "100%|██████████| 58/58 [00:11<00:00,  4.95it/s]",
          "output_type": "stream"
        },
        {
          "name": "stdout",
          "text": "Train Loss: 0.215 | Accuracy: 93.314\nValidating\n",
          "output_type": "stream"
        },
        {
          "name": "stderr",
          "text": "\n",
          "output_type": "stream"
        },
        {
          "name": "stdout",
          "text": "Test Loss: 1.996 | Accuracy: 45.333\nEpoch 34 of 50\nTraining\n",
          "output_type": "stream"
        },
        {
          "name": "stderr",
          "text": "100%|██████████| 58/58 [00:12<00:00,  4.57it/s]",
          "output_type": "stream"
        },
        {
          "name": "stdout",
          "text": "Train Loss: 0.114 | Accuracy: 95.930\nValidating\n",
          "output_type": "stream"
        },
        {
          "name": "stderr",
          "text": "\n",
          "output_type": "stream"
        },
        {
          "name": "stdout",
          "text": "Test Loss: 1.856 | Accuracy: 54.667\nEpoch 35 of 50\nTraining\n",
          "output_type": "stream"
        },
        {
          "name": "stderr",
          "text": "100%|██████████| 58/58 [00:11<00:00,  4.91it/s]",
          "output_type": "stream"
        },
        {
          "name": "stdout",
          "text": "Train Loss: 0.151 | Accuracy: 95.058\nValidating\n",
          "output_type": "stream"
        },
        {
          "name": "stderr",
          "text": "\n",
          "output_type": "stream"
        },
        {
          "name": "stdout",
          "text": "Test Loss: 2.084 | Accuracy: 47.333\nEpoch 36 of 50\nTraining\n",
          "output_type": "stream"
        },
        {
          "name": "stderr",
          "text": "100%|██████████| 58/58 [00:12<00:00,  4.66it/s]",
          "output_type": "stream"
        },
        {
          "name": "stdout",
          "text": "Train Loss: 0.097 | Accuracy: 97.093\nValidating\n",
          "output_type": "stream"
        },
        {
          "name": "stderr",
          "text": "\n",
          "output_type": "stream"
        },
        {
          "name": "stdout",
          "text": "Test Loss: 2.030 | Accuracy: 46.000\nEpoch 37 of 50\nTraining\n",
          "output_type": "stream"
        },
        {
          "name": "stderr",
          "text": "100%|██████████| 58/58 [00:11<00:00,  4.92it/s]",
          "output_type": "stream"
        },
        {
          "name": "stdout",
          "text": "Train Loss: 0.133 | Accuracy: 95.058\nValidating\n",
          "output_type": "stream"
        },
        {
          "name": "stderr",
          "text": "\n",
          "output_type": "stream"
        },
        {
          "name": "stdout",
          "text": "Test Loss: 2.495 | Accuracy: 44.000\nEpoch 38 of 50\nTraining\n",
          "output_type": "stream"
        },
        {
          "name": "stderr",
          "text": "100%|██████████| 58/58 [00:12<00:00,  4.61it/s]\n",
          "output_type": "stream"
        },
        {
          "name": "stdout",
          "text": "Train Loss: 0.097 | Accuracy: 96.221\nValidating\nTest Loss: 1.995 | Accuracy: 50.000\nEpoch 39 of 50\nTraining\n",
          "output_type": "stream"
        },
        {
          "name": "stderr",
          "text": "100%|██████████| 58/58 [00:11<00:00,  4.94it/s]\n",
          "output_type": "stream"
        },
        {
          "name": "stdout",
          "text": "Train Loss: 0.060 | Accuracy: 98.547\nValidating\nTest Loss: 2.249 | Accuracy: 47.333\nEpoch 40 of 50\nTraining\n",
          "output_type": "stream"
        },
        {
          "name": "stderr",
          "text": "100%|██████████| 58/58 [00:11<00:00,  4.97it/s]\n",
          "output_type": "stream"
        },
        {
          "name": "stdout",
          "text": "Train Loss: 0.076 | Accuracy: 97.384\nValidating\nTest Loss: 2.027 | Accuracy: 49.333\nEpoch 41 of 50\nTraining\n",
          "output_type": "stream"
        },
        {
          "name": "stderr",
          "text": "100%|██████████| 58/58 [00:11<00:00,  4.90it/s]\n",
          "output_type": "stream"
        },
        {
          "name": "stdout",
          "text": "Train Loss: 0.149 | Accuracy: 94.186\nValidating\nTest Loss: 1.943 | Accuracy: 46.000\nEpoch 42 of 50\nTraining\n",
          "output_type": "stream"
        },
        {
          "name": "stderr",
          "text": "100%|██████████| 58/58 [00:11<00:00,  4.90it/s]\n",
          "output_type": "stream"
        },
        {
          "name": "stdout",
          "text": "Train Loss: 0.068 | Accuracy: 97.965\nValidating\nTest Loss: 1.985 | Accuracy: 50.000\nEpoch 43 of 50\nTraining\n",
          "output_type": "stream"
        },
        {
          "name": "stderr",
          "text": "100%|██████████| 58/58 [00:11<00:00,  4.93it/s]\n",
          "output_type": "stream"
        },
        {
          "name": "stdout",
          "text": "Train Loss: 0.116 | Accuracy: 96.221\nValidating\nTest Loss: 2.191 | Accuracy: 45.333\nEpoch 44 of 50\nTraining\n",
          "output_type": "stream"
        },
        {
          "name": "stderr",
          "text": "100%|██████████| 58/58 [00:11<00:00,  4.90it/s]",
          "output_type": "stream"
        },
        {
          "name": "stdout",
          "text": "Train Loss: 0.094 | Accuracy: 97.093\nValidating\n",
          "output_type": "stream"
        },
        {
          "name": "stderr",
          "text": "\n",
          "output_type": "stream"
        },
        {
          "name": "stdout",
          "text": "Test Loss: 1.985 | Accuracy: 48.000\nEpoch 45 of 50\nTraining\n",
          "output_type": "stream"
        },
        {
          "name": "stderr",
          "text": "100%|██████████| 58/58 [00:11<00:00,  4.86it/s]",
          "output_type": "stream"
        },
        {
          "name": "stdout",
          "text": "Train Loss: 0.113 | Accuracy: 95.930\nValidating\n",
          "output_type": "stream"
        },
        {
          "name": "stderr",
          "text": "\n",
          "output_type": "stream"
        },
        {
          "name": "stdout",
          "text": "Test Loss: 2.049 | Accuracy: 46.667\nEpoch 46 of 50\nTraining\n",
          "output_type": "stream"
        },
        {
          "name": "stderr",
          "text": "100%|██████████| 58/58 [00:11<00:00,  4.84it/s]",
          "output_type": "stream"
        },
        {
          "name": "stdout",
          "text": "Train Loss: 0.117 | Accuracy: 98.256\nValidating\n",
          "output_type": "stream"
        },
        {
          "name": "stderr",
          "text": "\n",
          "output_type": "stream"
        },
        {
          "name": "stdout",
          "text": "Test Loss: 1.929 | Accuracy: 45.333\nEpoch 47 of 50\nTraining\n",
          "output_type": "stream"
        },
        {
          "name": "stderr",
          "text": "100%|██████████| 58/58 [00:12<00:00,  4.60it/s]",
          "output_type": "stream"
        },
        {
          "name": "stdout",
          "text": "Train Loss: 0.124 | Accuracy: 96.512\nValidating\n",
          "output_type": "stream"
        },
        {
          "name": "stderr",
          "text": "\n",
          "output_type": "stream"
        },
        {
          "name": "stdout",
          "text": "Test Loss: 2.449 | Accuracy: 43.333\nEpoch 48 of 50\nTraining\n",
          "output_type": "stream"
        },
        {
          "name": "stderr",
          "text": "100%|██████████| 58/58 [00:12<00:00,  4.68it/s]\n",
          "output_type": "stream"
        },
        {
          "name": "stdout",
          "text": "Train Loss: 0.147 | Accuracy: 95.058\nValidating\nTest Loss: 2.732 | Accuracy: 42.667\nEpoch 49 of 50\nTraining\n",
          "output_type": "stream"
        },
        {
          "name": "stderr",
          "text": "100%|██████████| 58/58 [00:12<00:00,  4.61it/s]",
          "output_type": "stream"
        },
        {
          "name": "stdout",
          "text": "Train Loss: 0.197 | Accuracy: 93.895\nValidating\n",
          "output_type": "stream"
        },
        {
          "name": "stderr",
          "text": "\n",
          "output_type": "stream"
        },
        {
          "name": "stdout",
          "text": "Test Loss: 2.046 | Accuracy: 48.667\nEpoch 50 of 50\nTraining\n",
          "output_type": "stream"
        },
        {
          "name": "stderr",
          "text": "100%|██████████| 58/58 [00:11<00:00,  4.93it/s]\n",
          "output_type": "stream"
        },
        {
          "name": "stdout",
          "text": "Train Loss: 0.234 | Accuracy: 94.767\nValidating\nTest Loss: 2.136 | Accuracy: 43.333\n",
          "output_type": "stream"
        }
      ]
    },
    {
      "cell_type": "markdown",
      "source": [
        "# **MODEL SAVING**"
      ],
      "metadata": {
        "id": "vg-sU4KDwiIG"
      }
    },
    {
      "cell_type": "code",
      "source": [
        "torch.save(model.state_dict(), save_path)\n",
        "print(\"Saved PyTorch Model State to model.pth\")"
      ],
      "metadata": {
        "colab": {
          "base_uri": "https://localhost:8080/"
        },
        "id": "qHDbJaR_GKUF",
        "outputId": "7dd3185b-b4a4-4389-ca31-a24afc0fae04",
        "execution": {
          "iopub.status.busy": "2022-12-28T08:02:17.609379Z",
          "iopub.execute_input": "2022-12-28T08:02:17.610931Z",
          "iopub.status.idle": "2022-12-28T08:02:17.855744Z",
          "shell.execute_reply.started": "2022-12-28T08:02:17.610881Z",
          "shell.execute_reply": "2022-12-28T08:02:17.854576Z"
        },
        "trusted": true
      },
      "execution_count": null,
      "outputs": [
        {
          "name": "stdout",
          "text": "Saved PyTorch Model State to model.pth\n",
          "output_type": "stream"
        }
      ]
    },
    {
      "cell_type": "code",
      "source": [
        "model = inceptionv3(pretrained=True).to(device)\n",
        "#model.load_state_dict(torch.load(\"model.pth\"))\n",
        "\n",
        "state_dict = torch.load(f\"/kaggle/working/{save_path}\")\n",
        "model.load_state_dict(state_dict)"
      ],
      "metadata": {
        "colab": {
          "base_uri": "https://localhost:8080/"
        },
        "id": "192GmgndGOpP",
        "outputId": "9e973171-88bd-4503-867f-b1655626230d",
        "execution": {
          "iopub.status.busy": "2022-12-28T08:02:17.857324Z",
          "iopub.execute_input": "2022-12-28T08:02:17.857967Z",
          "iopub.status.idle": "2022-12-28T08:02:18.986688Z",
          "shell.execute_reply.started": "2022-12-28T08:02:17.857929Z",
          "shell.execute_reply": "2022-12-28T08:02:18.985775Z"
        },
        "trusted": true
      },
      "execution_count": null,
      "outputs": [
        {
          "execution_count": 24,
          "output_type": "execute_result",
          "data": {
            "text/plain": "<All keys matched successfully>"
          },
          "metadata": {}
        }
      ]
    },
    {
      "cell_type": "markdown",
      "source": [
        "# **VISUALIZE PREDICTING IMAGE**"
      ],
      "metadata": {
        "id": "iUhcLd_4wiIH"
      }
    },
    {
      "cell_type": "code",
      "source": [
        "import matplotlib.pyplot as plt\n",
        "import numpy as np\n",
        "\n",
        "\n",
        "# Function to show the images\n",
        "def imageshow(img):\n",
        "    img = img / 2 + 0.5     # unnormalize\n",
        "    npimg = img.numpy()\n",
        "    plt.imshow(np.transpose(npimg, (1, 2, 0)))\n",
        "    plt.show()\n",
        "\n",
        "\n",
        "# Function to test the model with a batch of images and show the labels predictions\n",
        "def testBatch():\n",
        "    # get batch of images from the test DataLoader  \n",
        "    images, labels = next(iter(testLoader))\n",
        "\n",
        "    # show all images as one image grid\n",
        "    imageshow(torchvision.utils.make_grid(images))\n",
        "   \n",
        "    # Show the real labels on the screen \n",
        "    print('Real labels: ', ' '.join('%5s' % classes[labels[j]] \n",
        "                               for j in range(batch_size)))\n",
        "  \n",
        "    # Let's see what if the model identifiers the  labels of those example\n",
        "    images=images.to(device)\n",
        "    outputs = model(images)\n",
        "    \n",
        "    # We got the probability for every 10 labels. The highest (max) probability should be correct label\n",
        "    _, predicted = torch.max(outputs, 1)\n",
        "    \n",
        "    # Let's show the predicted labels on the screen to compare with the real ones\n",
        "    print('Predicted: ', ' '.join('%5s' % classes[predicted[j]] \n",
        "                              for j in range(batch_size)))"
      ],
      "metadata": {
        "id": "edCeruLWfJVh",
        "execution": {
          "iopub.status.busy": "2022-12-28T08:02:18.988018Z",
          "iopub.execute_input": "2022-12-28T08:02:18.988912Z",
          "iopub.status.idle": "2022-12-28T08:02:18.998026Z",
          "shell.execute_reply.started": "2022-12-28T08:02:18.988872Z",
          "shell.execute_reply": "2022-12-28T08:02:18.997069Z"
        },
        "trusted": true
      },
      "execution_count": null,
      "outputs": []
    },
    {
      "cell_type": "code",
      "source": [
        "testBatch()"
      ],
      "metadata": {
        "colab": {
          "base_uri": "https://localhost:8080/",
          "height": 304
        },
        "id": "NoBgCKGqGWei",
        "outputId": "4ca0d54d-d4d7-434b-bedb-8ebb7ec9c249",
        "execution": {
          "iopub.status.busy": "2022-12-28T08:02:19.000262Z",
          "iopub.execute_input": "2022-12-28T08:02:19.001086Z",
          "iopub.status.idle": "2022-12-28T08:02:20.608042Z",
          "shell.execute_reply.started": "2022-12-28T08:02:19.001048Z",
          "shell.execute_reply": "2022-12-28T08:02:20.606809Z"
        },
        "trusted": true
      },
      "execution_count": null,
      "outputs": [
        {
          "output_type": "display_data",
          "data": {
            "text/plain": "<Figure size 432x288 with 1 Axes>",
            "image/png": "[encoded data removed]"
          },
          "metadata": {
            "needs_background": "light"
          }
        },
        {
          "name": "stdout",
          "text": "Real labels:  benign benign non-nodule benign malignant non-nodule\nPredicted:  benign benign non-nodule non-nodule malignant non-nodule\n",
          "output_type": "stream"
        }
      ]
    },
    {
      "cell_type": "markdown",
      "source": [
        "# **PLOT ACCURACY**"
      ],
      "metadata": {
        "id": "VmfC8sldwiIJ"
      }
    },
    {
      "cell_type": "code",
      "source": [
        "# accuracy plots\n",
        "plt.figure(figsize=(10, 7))\n",
        "plt.subplot(121)\n",
        "plt.plot(train_accuracy, color='green', label='train accuracy')\n",
        "plt.plot(val_accuracy, color='blue', label='validation accuracy')\n",
        "plt.xlabel('Epochs')\n",
        "plt.ylabel('Accuracy')\n",
        "plt.legend()\n",
        "# plt.savefig('../outputs/plots/accuracy.png')\n"
      ],
      "metadata": {
        "colab": {
          "base_uri": "https://localhost:8080/",
          "height": 459
        },
        "id": "8-R8FjQqlFBX",
        "outputId": "19a2fd50-c8ed-46bc-87e1-7d4ac0ce7af6",
        "execution": {
          "iopub.status.busy": "2022-12-28T08:02:20.609873Z",
          "iopub.execute_input": "2022-12-28T08:02:20.610571Z",
          "iopub.status.idle": "2022-12-28T08:02:20.850552Z",
          "shell.execute_reply.started": "2022-12-28T08:02:20.610531Z",
          "shell.execute_reply": "2022-12-28T08:02:20.849537Z"
        },
        "trusted": true
      },
      "execution_count": null,
      "outputs": [
        {
          "execution_count": 27,
          "output_type": "execute_result",
          "data": {
            "text/plain": "<matplotlib.legend.Legend at 0x7f880d5ec910>"
          },
          "metadata": {}
        },
        {
          "output_type": "display_data",
          "data": {
            "text/plain": "<Figure size 720x504 with 1 Axes>",
            "image/png": "[encoded data removed]"
          },
          "metadata": {
            "needs_background": "light"
          }
        }
      ]
    },
    {
      "cell_type": "markdown",
      "source": [
        "# **PLOT LOSS**"
      ],
      "metadata": {
        "id": "ehs_Bb64wiIJ"
      }
    },
    {
      "cell_type": "code",
      "source": [
        "# loss plots\n",
        "plt.figure(figsize=(10, 7))\n",
        "plt.subplot(121)\n",
        "plt.plot(train_loss, color='orange', label='train loss')\n",
        "plt.plot(val_loss, color='red', label='validation loss')\n",
        "plt.xlabel('Epochs')\n",
        "plt.ylabel('Loss')\n",
        "plt.legend()\n",
        "# plt.savefig('../outputs/plots/loss.png')\n",
        "plt.show()"
      ],
      "metadata": {
        "id": "1aeZoTKBOX9C",
        "colab": {
          "base_uri": "https://localhost:8080/",
          "height": 443
        },
        "outputId": "4b19291f-76ff-497d-b317-f1fcbf4666e9",
        "execution": {
          "iopub.status.busy": "2022-12-28T08:02:20.851862Z",
          "iopub.execute_input": "2022-12-28T08:02:20.852754Z",
          "iopub.status.idle": "2022-12-28T08:02:21.055514Z",
          "shell.execute_reply.started": "2022-12-28T08:02:20.852715Z",
          "shell.execute_reply": "2022-12-28T08:02:21.054519Z"
        },
        "trusted": true
      },
      "execution_count": null,
      "outputs": [
        {
          "output_type": "display_data",
          "data": {
            "text/plain": "<Figure size 720x504 with 1 Axes>",
            "image/png": "[encoded data removed]"
          },
          "metadata": {
            "needs_background": "light"
          }
        }
      ]
    },
    {
      "cell_type": "code",
      "source": [],
      "metadata": {
        "id": "86VYWBarwiIK"
      },
      "execution_count": null,
      "outputs": []
    },
    {
      "cell_type": "code",
      "source": [
        "label2class ={ 1 :'benign', 2 :'malignant', 3:'non-nodule'}"
      ],
      "metadata": {
        "execution": {
          "iopub.status.busy": "2022-12-28T08:02:21.060697Z",
          "iopub.execute_input": "2022-12-28T08:02:21.060973Z",
          "iopub.status.idle": "2022-12-28T08:02:21.065669Z",
          "shell.execute_reply.started": "2022-12-28T08:02:21.060948Z",
          "shell.execute_reply": "2022-12-28T08:02:21.064626Z"
        },
        "trusted": true,
        "id": "hJqvydpYwiIK"
      },
      "execution_count": null,
      "outputs": []
    },
    {
      "cell_type": "code",
      "source": [
        "import seaborn as sns \n",
        "from sklearn.metrics import confusion_matrix, classification_report\n",
        "import pandas as pd\n",
        "\n",
        "y_pred = []\n",
        "y_true = []\n",
        "\n",
        "# iterate over test data\n",
        "for batch,(inputs, labels) in enumerate(testLoader):\n",
        "    \n",
        "    \n",
        "        inputs= inputs.to(device)\n",
        "        labels= labels.to(device)\n",
        "        output = model(inputs) # Feed Network\n",
        "\n",
        "        output = (torch.max(torch.exp(output), 1)[1]).data.cpu().numpy()\n",
        "        y_pred.extend(output) # Save Prediction\n",
        "        \n",
        "        labels = labels.data.cpu().numpy()\n",
        "        y_true.extend(labels) # Save Truth\n",
        "        \n",
        "        \n",
        "\n",
        "report = classification_report(y_true, y_pred)\n",
        "print(report)"
      ],
      "metadata": {
        "execution": {
          "iopub.status.busy": "2022-12-28T08:02:21.067072Z",
          "iopub.execute_input": "2022-12-28T08:02:21.067675Z",
          "iopub.status.idle": "2022-12-28T08:02:26.615507Z",
          "shell.execute_reply.started": "2022-12-28T08:02:21.067636Z",
          "shell.execute_reply": "2022-12-28T08:02:26.614304Z"
        },
        "trusted": true,
        "id": "X6iI_DUWwiIK",
        "outputId": "31158e51-989b-4ebe-e516-44650c0186c5"
      },
      "execution_count": null,
      "outputs": [
        {
          "name": "stderr",
          "text": "/opt/conda/lib/python3.7/site-packages/torch/utils/data/dataloader.py:490: UserWarning: This DataLoader will create 4 worker processes in total. Our suggested max number of worker in current system is 2, which is smaller than what this DataLoader is going to create. Please be aware that excessive worker creation might get DataLoader running slow or even freeze, lower the worker number to avoid potential slowness/freeze if necessary.\n  cpuset_checked))\n",
          "output_type": "stream"
        },
        {
          "name": "stdout",
          "text": "              precision    recall  f1-score   support\n\n           0       0.32      0.26      0.29        34\n           1       0.62      0.45      0.53        66\n           2       0.49      0.72      0.58        50\n\n    accuracy                           0.50       150\n   macro avg       0.48      0.48      0.47       150\nweighted avg       0.51      0.50      0.49       150\n\n",
          "output_type": "stream"
        }
      ]
    },
    {
      "cell_type": "code",
      "source": [
        "nb_classes = 3\n",
        "confusion_matrix = np.zeros((nb_classes, nb_classes))\n",
        "with torch.no_grad():\n",
        "    for i, (inputs, classes) in enumerate(testLoader):\n",
        "        inputs = inputs.to(device)\n",
        "        classes = classes.to(device)\n",
        "        outputs = model(inputs)\n",
        "        _, preds = torch.max(outputs, 1)\n",
        "        for t, p in zip(classes.view(-1), preds.view(-1)):\n",
        "                confusion_matrix[t.long(), p.long()] += 1\n",
        "\n",
        "plt.figure(figsize=(12,7))\n",
        "\n",
        "class_names = list(label2class.values())\n",
        "df_cm = pd.DataFrame(confusion_matrix, index=class_names, columns=class_names).astype(int)\n",
        "heatmap = sns.heatmap(df_cm, annot=True, fmt=\"d\")\n",
        "\n",
        "heatmap.yaxis.set_ticklabels(heatmap.yaxis.get_ticklabels(), rotation=0, ha='right',fontsize=15)\n",
        "heatmap.xaxis.set_ticklabels(heatmap.xaxis.get_ticklabels(), rotation=45, ha='right',fontsize=15)\n",
        "plt.ylabel('True label')\n",
        "plt.xlabel('Predicted label')"
      ],
      "metadata": {
        "execution": {
          "iopub.status.busy": "2022-12-28T08:02:26.617695Z",
          "iopub.execute_input": "2022-12-28T08:02:26.618122Z",
          "iopub.status.idle": "2022-12-28T08:02:31.398811Z",
          "shell.execute_reply.started": "2022-12-28T08:02:26.618072Z",
          "shell.execute_reply": "2022-12-28T08:02:31.397574Z"
        },
        "trusted": true,
        "id": "m3EK4wm1wiIL",
        "outputId": "ed86e785-9a4c-4fdb-f96a-33316fc0fb95"
      },
      "execution_count": null,
      "outputs": [
        {
          "name": "stderr",
          "text": "/opt/conda/lib/python3.7/site-packages/torch/utils/data/dataloader.py:490: UserWarning: This DataLoader will create 4 worker processes in total. Our suggested max number of worker in current system is 2, which is smaller than what this DataLoader is going to create. Please be aware that excessive worker creation might get DataLoader running slow or even freeze, lower the worker number to avoid potential slowness/freeze if necessary.\n  cpuset_checked))\n",
          "output_type": "stream"
        },
        {
          "execution_count": 31,
          "output_type": "execute_result",
          "data": {
            "text/plain": "Text(0.5, 42.0, 'Predicted label')"
          },
          "metadata": {}
        },
        {
          "output_type": "display_data",
          "data": {
            "text/plain": "<Figure size 864x504 with 2 Axes>",
            "image/png": "[encoded data removed]"
          },
          "metadata": {
            "needs_background": "light"
          }
        }
      ]
    },
    {
      "cell_type": "code",
      "source": [],
      "metadata": {
        "id": "tuCx0kSUwiIO"
      },
      "execution_count": null,
      "outputs": []
    },
    {
      "cell_type": "code",
      "source": [],
      "metadata": {
        "id": "edcionXBwiIO"
      },
      "execution_count": null,
      "outputs": []
    },
    {
      "cell_type": "code",
      "source": [],
      "metadata": {
        "id": "R9bayLNYwiIP"
      },
      "execution_count": null,
      "outputs": []
    },
    {
      "cell_type": "code",
      "source": [],
      "metadata": {
        "id": "T4vioOufwiIQ"
      },
      "execution_count": null,
      "outputs": []
    },
    {
      "cell_type": "code",
      "source": [],
      "metadata": {
        "id": "FYmpn1L9wiIQ"
      },
      "execution_count": null,
      "outputs": []
    },
    {
      "cell_type": "code",
      "source": [],
      "metadata": {
        "id": "zBJBaPAJwiIR"
      },
      "execution_count": null,
      "outputs": []
    }
  ]
}