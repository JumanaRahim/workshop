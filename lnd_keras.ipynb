{
  "nbformat": 4,
  "nbformat_minor": 0,
  "metadata": {
    "colab": {
      "provenance": [],
      "authorship_tag": "ABX9TyMxu1TIFfzqho7uZF5h8kgE",
      "include_colab_link": true
    },
    "kernelspec": {
      "name": "python3",
      "display_name": "Python 3"
    },
    "language_info": {
      "name": "python"
    },
    "accelerator": "GPU",
    "gpuClass": "standard"
  },
  "cells": [
    {
      "cell_type": "markdown",
      "metadata": {
        "id": "view-in-github",
        "colab_type": "text"
      },
      "source": [
        "<a href=\"https://colab.research.google.com/github/JumanaRahim/workshop/blob/master/lnd_keras.ipynb\" target=\"_parent\"><img src=\"https://colab.research.google.com/assets/colab-badge.svg\" alt=\"Open In Colab\"/></a>"
      ]
    },
    {
      "cell_type": "code",
      "execution_count": null,
      "metadata": {
        "colab": {
          "base_uri": "https://localhost:8080/"
        },
        "id": "H484cYYn99X2",
        "outputId": "00c2d250-cc3f-4712-9f70-9399b9119d05"
      },
      "outputs": [
        {
          "output_type": "stream",
          "name": "stdout",
          "text": [
            "Mounted at /content/drive\n"
          ]
        }
      ],
      "source": [
        "from google.colab import drive\n",
        "drive.mount('/content/drive')"
      ]
    },
    {
      "cell_type": "code",
      "source": [
        "import numpy as np\n",
        "import pandas as pd \n",
        "from tensorflow.keras.utils import load_img\n",
        "from keras.utils import to_categorical\n",
        "from sklearn.model_selection import train_test_split\n",
        "import matplotlib.pyplot as plt\n",
        "from sklearn.metrics import classification_report\n",
        "from sklearn.metrics import confusion_matrix\n",
        "from random import shuffle\n",
        "import random\n",
        "import os\n",
        "from tensorflow.keras.preprocessing.image import ImageDataGenerator"
      ],
      "metadata": {
        "id": "KWD7nFOm-RZM"
      },
      "execution_count": null,
      "outputs": []
    },
    {
      "cell_type": "code",
      "source": [
        "path = '/content/drive/MyDrive/LUNG_NODULE_DETECTION-20230303T162309Z-001-20230307T063042Z-001/LUNG_NODULE_DETECTION-20230303T162309Z-001/LUNG_NODULE_DET1/lung_detection'\n",
        "\n",
        "IMAGE_WIDTH = 1024\n",
        "IMAGE_HEIGHT = 1024\n",
        "\n",
        "IMAGE_SIZE = (IMAGE_WIDTH, IMAGE_HEIGHT)\n",
        "IMAGE_CHANNELS=3"
      ],
      "metadata": {
        "id": "m_vdLaFg-UJ2"
      },
      "execution_count": null,
      "outputs": []
    },
    {
      "cell_type": "code",
      "source": [
        "train_datagen = ImageDataGenerator(rescale = 1./255,\n",
        "                                   \n",
        "                                  \n",
        "        rotation_range=15,\n",
        "        width_shift_range=0.1,\n",
        "        height_shift_range=0.1,\n",
        "        shear_range=0.1,\n",
        "        zoom_range=0.2,\n",
        "        horizontal_flip=True,\n",
        "        vertical_flip=True,\n",
        "       )\n",
        "\n",
        "test_datagen = ImageDataGenerator(rescale = 1./255)\n"
      ],
      "metadata": {
        "id": "Ngz_yc7--05s"
      },
      "execution_count": null,
      "outputs": []
    },
    {
      "cell_type": "code",
      "source": [
        "train_dataset  = train_datagen.flow_from_directory(directory = '/content/drive/MyDrive/LUNG_NODULE_DETECTION-20230303T162309Z-001-20230307T063042Z-001/LUNG_NODULE_DETECTION-20230303T162309Z-001/LUNG_NODULE_DET1/lung_detection/train',\n",
        "                                                   target_size = IMAGE_SIZE,\n",
        "                                                   class_mode = 'binary',\n",
        "                                                   subset = 'training',\n",
        "                                                   batch_size = 4)"
      ],
      "metadata": {
        "colab": {
          "base_uri": "https://localhost:8080/"
        },
        "id": "zYyZRVNN-2pW",
        "outputId": "16514b26-c3ab-4631-f9d9-362b3671feff"
      },
      "execution_count": null,
      "outputs": [
        {
          "output_type": "stream",
          "name": "stdout",
          "text": [
            "Found 1230 images belonging to 2 classes.\n"
          ]
        }
      ]
    },
    {
      "cell_type": "code",
      "source": [
        "test_dataset = test_datagen.flow_from_directory(directory = '/content/drive/MyDrive/LUNG_NODULE_DETECTION-20230303T162309Z-001-20230307T063042Z-001/LUNG_NODULE_DETECTION-20230303T162309Z-001/LUNG_NODULE_DET1/lung_detection/test',\n",
        "                                                  target_size = IMAGE_SIZE,\n",
        "                                                  class_mode = 'binary',\n",
        "                                                  batch_size = 4)"
      ],
      "metadata": {
        "colab": {
          "base_uri": "https://localhost:8080/"
        },
        "id": "SA92cTPF_hi9",
        "outputId": "cad2dcd1-6122-4e02-f808-17e2fd4a70c9"
      },
      "execution_count": null,
      "outputs": [
        {
          "output_type": "stream",
          "name": "stdout",
          "text": [
            "Found 268 images belonging to 2 classes.\n"
          ]
        }
      ]
    },
    {
      "cell_type": "code",
      "source": [
        "from keras.preprocessing import image\n",
        "from tensorflow.keras.preprocessing import image\n",
        "img = image.load_img(\"/content/drive/MyDrive/LUNG_NODULE_DETECTION-20230303T162309Z-001-20230307T063042Z-001/LUNG_NODULE_DETECTION-20230303T162309Z-001/LUNG_NODULE_DET1/lung_detection/train/NODULE/n0001.png\",target_size=(300,300))\n",
        "img = np.array(img)\n",
        "plt.imshow(img)\n",
        "print(img.shape)\n",
        "\n",
        "img = np.expand_dims(img, axis=0)\n",
        "from keras.models import load_model\n",
        "print(img.shape)"
      ],
      "metadata": {
        "colab": {
          "base_uri": "https://localhost:8080/",
          "height": 304
        },
        "id": "QZR2N843_Dg_",
        "outputId": "d85d305d-fb80-4951-c9cd-bad4971b4a06"
      },
      "execution_count": null,
      "outputs": [
        {
          "output_type": "stream",
          "name": "stdout",
          "text": [
            "(300, 300, 3)\n",
            "(1, 300, 300, 3)\n"
          ]
        },
        {
          "output_type": "display_data",
          "data": {
            "text/plain": [
              "<Figure size 432x288 with 1 Axes>"
            ],
            "image/png": "[encoded data removed]"
          },
          "metadata": {
            "needs_background": "light"
          }
        }
      ]
    },
    {
      "cell_type": "code",
      "source": [
        "from keras.models import Sequential\n",
        "from keras.layers import Conv2D, MaxPooling2D, Dropout, Flatten, Dense, Activation, BatchNormalization\n",
        "\n",
        "model = Sequential()\n",
        "\n",
        "model.add(Conv2D(32, (3, 3), activation='relu', input_shape=(IMAGE_WIDTH, IMAGE_HEIGHT,IMAGE_CHANNELS)))\n",
        "model.add(BatchNormalization())\n",
        "model.add(MaxPooling2D(pool_size=(2, 2)))\n",
        "model.add(Dropout(0.25))\n",
        "\n",
        "model.add(Conv2D(64, (3, 3), activation='relu'))\n",
        "model.add(BatchNormalization())\n",
        "model.add(MaxPooling2D(pool_size=(2, 2)))\n",
        "model.add(Dropout(0.25))\n",
        "\n",
        "model.add(Conv2D(128, (3, 3), activation='relu'))\n",
        "model.add(BatchNormalization())\n",
        "model.add(MaxPooling2D(pool_size=(2, 2)))\n",
        "model.add(Dropout(0.25))\n",
        "\n",
        "model.add(Conv2D(64, (3, 3), activation='relu'))\n",
        "model.add(BatchNormalization())\n",
        "model.add(MaxPooling2D(pool_size=(2, 2)))\n",
        "model.add(Dropout(0.25))\n",
        "\n",
        "model.add(Conv2D(32, (3, 3), activation='relu'))\n",
        "model.add(BatchNormalization())\n",
        "model.add(MaxPooling2D(pool_size=(2, 2)))\n",
        "model.add(Dropout(0.25))\n",
        "\n",
        "model.add(Flatten())\n",
        "model.add(Dense(512, activation='relu'))\n",
        "model.add(BatchNormalization())\n",
        "model.add(Dropout(0.5))\n",
        "model.add(Dense(1, activation='sigmoid', name='predictions')) \n",
        "\n",
        "model.compile(loss='binary_crossentropy', optimizer='rmsprop', metrics=['accuracy'])\n",
        "\n",
        "model.summary()"
      ],
      "metadata": {
        "colab": {
          "base_uri": "https://localhost:8080/"
        },
        "id": "EYaGngjy_Nmb",
        "outputId": "af1f4473-90a1-4fa5-9e53-562e1c83f794"
      },
      "execution_count": null,
      "outputs": [
        {
          "output_type": "stream",
          "name": "stdout",
          "text": [
            "Model: \"sequential\"\n",
            "_________________________________________________________________\n",
            " Layer (type)                Output Shape              Param #   \n",
            "=================================================================\n",
            " conv2d (Conv2D)             (None, 1022, 1022, 32)    896       \n",
            "                                                                 \n",
            " batch_normalization (BatchN  (None, 1022, 1022, 32)   128       \n",
            " ormalization)                                                   \n",
            "                                                                 \n",
            " max_pooling2d (MaxPooling2D  (None, 511, 511, 32)     0         \n",
            " )                                                               \n",
            "                                                                 \n",
            " dropout (Dropout)           (None, 511, 511, 32)      0         \n",
            "                                                                 \n",
            " conv2d_1 (Conv2D)           (None, 509, 509, 64)      18496     \n",
            "                                                                 \n",
            " batch_normalization_1 (Batc  (None, 509, 509, 64)     256       \n",
            " hNormalization)                                                 \n",
            "                                                                 \n",
            " max_pooling2d_1 (MaxPooling  (None, 254, 254, 64)     0         \n",
            " 2D)                                                             \n",
            "                                                                 \n",
            " dropout_1 (Dropout)         (None, 254, 254, 64)      0         \n",
            "                                                                 \n",
            " conv2d_2 (Conv2D)           (None, 252, 252, 128)     73856     \n",
            "                                                                 \n",
            " batch_normalization_2 (Batc  (None, 252, 252, 128)    512       \n",
            " hNormalization)                                                 \n",
            "                                                                 \n",
            " max_pooling2d_2 (MaxPooling  (None, 126, 126, 128)    0         \n",
            " 2D)                                                             \n",
            "                                                                 \n",
            " dropout_2 (Dropout)         (None, 126, 126, 128)     0         \n",
            "                                                                 \n",
            " conv2d_3 (Conv2D)           (None, 124, 124, 64)      73792     \n",
            "                                                                 \n",
            " batch_normalization_3 (Batc  (None, 124, 124, 64)     256       \n",
            " hNormalization)                                                 \n",
            "                                                                 \n",
            " max_pooling2d_3 (MaxPooling  (None, 62, 62, 64)       0         \n",
            " 2D)                                                             \n",
            "                                                                 \n",
            " dropout_3 (Dropout)         (None, 62, 62, 64)        0         \n",
            "                                                                 \n",
            " conv2d_4 (Conv2D)           (None, 60, 60, 32)        18464     \n",
            "                                                                 \n",
            " batch_normalization_4 (Batc  (None, 60, 60, 32)       128       \n",
            " hNormalization)                                                 \n",
            "                                                                 \n",
            " max_pooling2d_4 (MaxPooling  (None, 30, 30, 32)       0         \n",
            " 2D)                                                             \n",
            "                                                                 \n",
            " dropout_4 (Dropout)         (None, 30, 30, 32)        0         \n",
            "                                                                 \n",
            " flatten (Flatten)           (None, 28800)             0         \n",
            "                                                                 \n",
            " dense (Dense)               (None, 512)               14746112  \n",
            "                                                                 \n",
            " batch_normalization_5 (Batc  (None, 512)              2048      \n",
            " hNormalization)                                                 \n",
            "                                                                 \n",
            " dropout_5 (Dropout)         (None, 512)               0         \n",
            "                                                                 \n",
            " predictions (Dense)         (None, 1)                 513       \n",
            "                                                                 \n",
            "=================================================================\n",
            "Total params: 14,935,457\n",
            "Trainable params: 14,933,793\n",
            "Non-trainable params: 1,664\n",
            "_________________________________________________________________\n"
          ]
        }
      ]
    },
    {
      "cell_type": "code",
      "source": [
        "from keras.callbacks import EarlyStopping, ReduceLROnPlateau\n",
        "earlystop = EarlyStopping(patience=10)"
      ],
      "metadata": {
        "id": "dERXW2D1_U4G"
      },
      "execution_count": null,
      "outputs": []
    },
    {
      "cell_type": "code",
      "source": [
        "epochs = 25\n",
        "\n",
        "history = model.fit_generator (\n",
        "    \n",
        "    train_dataset, \n",
        "    epochs = epochs,\n",
        "    validation_data = test_dataset,\n",
        "    #callbacks = callbacks\n",
        ")"
      ],
      "metadata": {
        "colab": {
          "base_uri": "https://localhost:8080/"
        },
        "id": "g4TMtiV2_ZPy",
        "outputId": "447541e1-5769-416b-9007-c03898e4a4e2"
      },
      "execution_count": null,
      "outputs": [
        {
          "output_type": "stream",
          "name": "stderr",
          "text": [
            "<ipython-input-10-55c8a33b383a>:3: UserWarning: `Model.fit_generator` is deprecated and will be removed in a future version. Please use `Model.fit`, which supports generators.\n",
            "  history = model.fit_generator (\n"
          ]
        },
        {
          "output_type": "stream",
          "name": "stdout",
          "text": [
            "Epoch 1/25\n",
            "308/308 [==============================] - 636s 2s/step - loss: 1.0765 - accuracy: 0.5033 - val_loss: 2.2320 - val_accuracy: 0.5000\n",
            "Epoch 2/25\n",
            "308/308 [==============================] - 409s 1s/step - loss: 0.8932 - accuracy: 0.5220 - val_loss: 0.7359 - val_accuracy: 0.6045\n",
            "Epoch 3/25\n",
            "308/308 [==============================] - 411s 1s/step - loss: 0.8207 - accuracy: 0.5203 - val_loss: 3.2773 - val_accuracy: 0.5000\n",
            "Epoch 4/25\n",
            "308/308 [==============================] - 406s 1s/step - loss: 0.7505 - accuracy: 0.5577 - val_loss: 1.2348 - val_accuracy: 0.5000\n",
            "Epoch 5/25\n",
            "308/308 [==============================] - 407s 1s/step - loss: 0.7094 - accuracy: 0.5797 - val_loss: 1.4102 - val_accuracy: 0.5000\n",
            "Epoch 6/25\n",
            "308/308 [==============================] - 411s 1s/step - loss: 0.6064 - accuracy: 0.6585 - val_loss: 13.2560 - val_accuracy: 0.5000\n",
            "Epoch 7/25\n",
            "308/308 [==============================] - 408s 1s/step - loss: 0.5289 - accuracy: 0.7407 - val_loss: 60.1859 - val_accuracy: 0.5000\n",
            "Epoch 8/25\n",
            "308/308 [==============================] - 415s 1s/step - loss: 0.4999 - accuracy: 0.7805 - val_loss: 3.8028 - val_accuracy: 0.5000\n",
            "Epoch 9/25\n",
            "308/308 [==============================] - 411s 1s/step - loss: 0.4685 - accuracy: 0.7764 - val_loss: 25.4069 - val_accuracy: 0.5000\n",
            "Epoch 10/25\n",
            "308/308 [==============================] - 410s 1s/step - loss: 0.5054 - accuracy: 0.7732 - val_loss: 19.0467 - val_accuracy: 0.5000\n",
            "Epoch 11/25\n",
            "308/308 [==============================] - 407s 1s/step - loss: 0.4441 - accuracy: 0.7927 - val_loss: 13.4120 - val_accuracy: 0.5000\n",
            "Epoch 12/25\n",
            "308/308 [==============================] - 414s 1s/step - loss: 0.4021 - accuracy: 0.8244 - val_loss: 17.8824 - val_accuracy: 0.5000\n",
            "Epoch 13/25\n",
            "308/308 [==============================] - 399s 1s/step - loss: 0.3528 - accuracy: 0.8537 - val_loss: 33.9000 - val_accuracy: 0.5000\n",
            "Epoch 14/25\n",
            "308/308 [==============================] - 403s 1s/step - loss: 0.3740 - accuracy: 0.8455 - val_loss: 0.1615 - val_accuracy: 0.9515\n",
            "Epoch 15/25\n",
            "308/308 [==============================] - 399s 1s/step - loss: 0.3762 - accuracy: 0.8390 - val_loss: 82.2207 - val_accuracy: 0.5000\n",
            "Epoch 16/25\n",
            "308/308 [==============================] - 396s 1s/step - loss: 0.4165 - accuracy: 0.8163 - val_loss: 14.7660 - val_accuracy: 0.5000\n",
            "Epoch 17/25\n",
            "308/308 [==============================] - 400s 1s/step - loss: 0.3695 - accuracy: 0.8358 - val_loss: 3.7535 - val_accuracy: 0.5000\n",
            "Epoch 18/25\n",
            "308/308 [==============================] - 401s 1s/step - loss: 0.3535 - accuracy: 0.8512 - val_loss: 13.3047 - val_accuracy: 0.5000\n",
            "Epoch 19/25\n",
            "308/308 [==============================] - 397s 1s/step - loss: 0.3824 - accuracy: 0.8415 - val_loss: 1.5263 - val_accuracy: 0.5149\n",
            "Epoch 20/25\n",
            "308/308 [==============================] - 398s 1s/step - loss: 0.3864 - accuracy: 0.8415 - val_loss: 3.0301 - val_accuracy: 0.5037\n",
            "Epoch 21/25\n",
            "308/308 [==============================] - 394s 1s/step - loss: 0.3539 - accuracy: 0.8480 - val_loss: 1.1416 - val_accuracy: 0.6007\n",
            "Epoch 22/25\n",
            "308/308 [==============================] - 400s 1s/step - loss: 0.3607 - accuracy: 0.8545 - val_loss: 23.8207 - val_accuracy: 0.5000\n",
            "Epoch 23/25\n",
            "308/308 [==============================] - 399s 1s/step - loss: 0.3386 - accuracy: 0.8561 - val_loss: 10.7890 - val_accuracy: 0.5000\n",
            "Epoch 24/25\n",
            "308/308 [==============================] - 394s 1s/step - loss: 0.3100 - accuracy: 0.8894 - val_loss: 48.7224 - val_accuracy: 0.5000\n",
            "Epoch 25/25\n",
            "308/308 [==============================] - 400s 1s/step - loss: 0.3098 - accuracy: 0.8772 - val_loss: 11.7712 - val_accuracy: 0.5000\n"
          ]
        }
      ]
    }
  ]
}