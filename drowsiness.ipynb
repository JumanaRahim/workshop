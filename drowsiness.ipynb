{
  "cells": [
    {
      "cell_type": "markdown",
      "metadata": {
        "id": "view-in-github",
        "colab_type": "text"
      },
      "source": [
        "<a href=\"https://colab.research.google.com/github/JumanaRahim/workshop/blob/master/drowsiness.ipynb\" target=\"_parent\"><img src=\"https://colab.research.google.com/assets/colab-badge.svg\" alt=\"Open In Colab\"/></a>"
      ]
    },
    {
      "cell_type": "code",
      "source": [
        "!unzip /content/dataset_new.zip "
      ],
      "metadata": {
        "colab": {
          "base_uri": "https://localhost:8080/"
        },
        "id": "f5Q5s9Nor3-l",
        "outputId": "fd697d3c-86bb-420c-a22c-c33c01c3445a"
      },
      "id": "f5Q5s9Nor3-l",
      "execution_count": null,
      "outputs": [
        {
          "output_type": "stream",
          "name": "stdout",
          "text": [
            "Archive:  /content/dataset_new.zip\n",
            "   creating: dataset_new/\n",
            "   creating: dataset_new/test/\n",
            "   creating: dataset_new/test/no_yawn/\n",
            "  inflating: dataset_new/test/no_yawn/1004.jpg  \n",
            "  inflating: dataset_new/test/no_yawn/1007.jpg  \n",
            "  inflating: dataset_new/test/no_yawn/1010.jpg  \n",
            "  inflating: dataset_new/test/no_yawn/1033.jpg  \n",
            "  inflating: dataset_new/test/no_yawn/1044.jpg  \n",
            "  inflating: dataset_new/test/no_yawn/1050.jpg  \n",
            "  inflating: dataset_new/test/no_yawn/1063.jpg  \n",
            "  inflating: dataset_new/test/no_yawn/1067.jpg  \n",
            "  inflating: dataset_new/test/no_yawn/1096.jpg  \n",
            "  inflating: dataset_new/test/no_yawn/1114.jpg  \n",
            "  inflating: dataset_new/test/no_yawn/1118.jpg  \n",
            "  inflating: dataset_new/test/no_yawn/1129.jpg  \n",
            "  inflating: dataset_new/test/no_yawn/113.jpg  \n",
            "  inflating: dataset_new/test/no_yawn/1134.jpg  \n",
            "  inflating: dataset_new/test/no_yawn/115.jpg  \n",
            "  inflating: dataset_new/test/no_yawn/1213.jpg  \n",
            "  inflating: dataset_new/test/no_yawn/1267.jpg  \n",
            "  inflating: dataset_new/test/no_yawn/1268.jpg  \n",
            "  inflating: dataset_new/test/no_yawn/1323.jpg  \n",
            "  inflating: dataset_new/test/no_yawn/1367.jpg  \n",
            "  inflating: dataset_new/test/no_yawn/1368.jpg  \n",
            "  inflating: dataset_new/test/no_yawn/1452.jpg  \n",
            "  inflating: dataset_new/test/no_yawn/1459.jpg  \n",
            "  inflating: dataset_new/test/no_yawn/1486.jpg  \n",
            "  inflating: dataset_new/test/no_yawn/1536.jpg  \n",
            "  inflating: dataset_new/test/no_yawn/1543.jpg  \n",
            "  inflating: dataset_new/test/no_yawn/1544.jpg  \n",
            "  inflating: dataset_new/test/no_yawn/1558.jpg  \n",
            "  inflating: dataset_new/test/no_yawn/1566.jpg  \n",
            "  inflating: dataset_new/test/no_yawn/1570.jpg  \n",
            "  inflating: dataset_new/test/no_yawn/1594.jpg  \n",
            "  inflating: dataset_new/test/no_yawn/1596.jpg  \n",
            "  inflating: dataset_new/test/no_yawn/1641.jpg  \n",
            "  inflating: dataset_new/test/no_yawn/1643.jpg  \n",
            "  inflating: dataset_new/test/no_yawn/1771.jpg  \n",
            "  inflating: dataset_new/test/no_yawn/1862.jpg  \n",
            "  inflating: dataset_new/test/no_yawn/1863.jpg  \n",
            "  inflating: dataset_new/test/no_yawn/1897.jpg  \n",
            "  inflating: dataset_new/test/no_yawn/1898.jpg  \n",
            "  inflating: dataset_new/test/no_yawn/1913.jpg  \n",
            "  inflating: dataset_new/test/no_yawn/1942.jpg  \n",
            "  inflating: dataset_new/test/no_yawn/1946.jpg  \n",
            "  inflating: dataset_new/test/no_yawn/1947.jpg  \n",
            "  inflating: dataset_new/test/no_yawn/1950.jpg  \n",
            "  inflating: dataset_new/test/no_yawn/2004.jpg  \n",
            "  inflating: dataset_new/test/no_yawn/2016.jpg  \n",
            "  inflating: dataset_new/test/no_yawn/205.jpg  \n",
            "  inflating: dataset_new/test/no_yawn/2059.jpg  \n",
            "  inflating: dataset_new/test/no_yawn/2090.jpg  \n",
            "  inflating: dataset_new/test/no_yawn/2093.jpg  \n",
            "  inflating: dataset_new/test/no_yawn/2107.jpg  \n",
            "  inflating: dataset_new/test/no_yawn/211.jpg  \n",
            "  inflating: dataset_new/test/no_yawn/2110.jpg  \n",
            "  inflating: dataset_new/test/no_yawn/2197.jpg  \n",
            "  inflating: dataset_new/test/no_yawn/2289.jpg  \n",
            "  inflating: dataset_new/test/no_yawn/2311.jpg  \n",
            "  inflating: dataset_new/test/no_yawn/233.jpg  \n",
            "  inflating: dataset_new/test/no_yawn/2346.jpg  \n",
            "  inflating: dataset_new/test/no_yawn/2351.jpg  \n",
            "  inflating: dataset_new/test/no_yawn/2354.jpg  \n",
            "  inflating: dataset_new/test/no_yawn/237.jpg  \n",
            "  inflating: dataset_new/test/no_yawn/24.jpg  \n",
            "  inflating: dataset_new/test/no_yawn/2406.jpg  \n",
            "  inflating: dataset_new/test/no_yawn/2408.jpg  \n",
            "  inflating: dataset_new/test/no_yawn/2431.jpg  \n",
            "  inflating: dataset_new/test/no_yawn/2482.jpg  \n",
            "  inflating: dataset_new/test/no_yawn/2511.jpg  \n",
            "  inflating: dataset_new/test/no_yawn/2514.jpg  \n",
            "  inflating: dataset_new/test/no_yawn/2541.jpg  \n",
            "  inflating: dataset_new/test/no_yawn/2542.jpg  \n",
            "  inflating: dataset_new/test/no_yawn/2548.jpg  \n",
            "  inflating: dataset_new/test/no_yawn/2577.jpg  \n",
            "  inflating: dataset_new/test/no_yawn/2590.jpg  \n",
            "  inflating: dataset_new/test/no_yawn/26.jpg  \n",
            "  inflating: dataset_new/test/no_yawn/2607.jpg  \n",
            "  inflating: dataset_new/test/no_yawn/2621.jpg  \n",
            "  inflating: dataset_new/test/no_yawn/276.jpg  \n",
            "  inflating: dataset_new/test/no_yawn/29.jpg  \n",
            "  inflating: dataset_new/test/no_yawn/291.jpg  \n",
            "  inflating: dataset_new/test/no_yawn/461.jpg  \n",
            "  inflating: dataset_new/test/no_yawn/470.jpg  \n",
            "  inflating: dataset_new/test/no_yawn/487.jpg  \n",
            "  inflating: dataset_new/test/no_yawn/510.jpg  \n",
            "  inflating: dataset_new/test/no_yawn/526.jpg  \n",
            "  inflating: dataset_new/test/no_yawn/548.jpg  \n",
            "  inflating: dataset_new/test/no_yawn/551.jpg  \n",
            "  inflating: dataset_new/test/no_yawn/555.jpg  \n",
            "  inflating: dataset_new/test/no_yawn/603.jpg  \n",
            "  inflating: dataset_new/test/no_yawn/610.jpg  \n",
            "  inflating: dataset_new/test/no_yawn/616.jpg  \n",
            "  inflating: dataset_new/test/no_yawn/646.jpg  \n",
            "  inflating: dataset_new/test/no_yawn/702.jpg  \n",
            "  inflating: dataset_new/test/no_yawn/71.jpg  \n",
            "  inflating: dataset_new/test/no_yawn/728.jpg  \n",
            "  inflating: dataset_new/test/no_yawn/755.jpg  \n",
            "  inflating: dataset_new/test/no_yawn/756.jpg  \n",
            "  inflating: dataset_new/test/no_yawn/771.jpg  \n",
            "  inflating: dataset_new/test/no_yawn/779.jpg  \n",
            "  inflating: dataset_new/test/no_yawn/830.jpg  \n",
            "  inflating: dataset_new/test/no_yawn/840.jpg  \n",
            "  inflating: dataset_new/test/no_yawn/866.jpg  \n",
            "  inflating: dataset_new/test/no_yawn/896.jpg  \n",
            "  inflating: dataset_new/test/no_yawn/898.jpg  \n",
            "  inflating: dataset_new/test/no_yawn/900.jpg  \n",
            "  inflating: dataset_new/test/no_yawn/91.jpg  \n",
            "  inflating: dataset_new/test/no_yawn/958.jpg  \n",
            "  inflating: dataset_new/test/no_yawn/959.jpg  \n",
            "  inflating: dataset_new/test/no_yawn/963.jpg  \n",
            "  inflating: dataset_new/test/no_yawn/976.jpg  \n",
            "   creating: dataset_new/test/yawn/\n",
            "  inflating: dataset_new/test/yawn/205.jpg  \n",
            "  inflating: dataset_new/test/yawn/100.jpg  \n",
            "  inflating: dataset_new/test/yawn/102.jpg  \n",
            "  inflating: dataset_new/test/yawn/105.jpg  \n",
            "  inflating: dataset_new/test/yawn/111.jpg  \n",
            "  inflating: dataset_new/test/yawn/116.jpg  \n",
            "  inflating: dataset_new/test/yawn/119.jpg  \n",
            "  inflating: dataset_new/test/yawn/121.jpg  \n",
            "  inflating: dataset_new/test/yawn/122.jpg  \n",
            "  inflating: dataset_new/test/yawn/127.jpg  \n",
            "  inflating: dataset_new/test/yawn/131.jpg  \n",
            "  inflating: dataset_new/test/yawn/134.jpg  \n",
            "  inflating: dataset_new/test/yawn/14.jpg  \n",
            "  inflating: dataset_new/test/yawn/140.jpg  \n",
            "  inflating: dataset_new/test/yawn/145.jpg  \n",
            "  inflating: dataset_new/test/yawn/148.jpg  \n",
            "  inflating: dataset_new/test/yawn/160.jpg  \n",
            "  inflating: dataset_new/test/yawn/168.jpg  \n",
            "  inflating: dataset_new/test/yawn/169.jpg  \n",
            "  inflating: dataset_new/test/yawn/177.jpg  \n",
            "  inflating: dataset_new/test/yawn/188.jpg  \n",
            "  inflating: dataset_new/test/yawn/189.jpg  \n",
            "  inflating: dataset_new/test/yawn/206.jpg  \n",
            "  inflating: dataset_new/test/yawn/214.jpg  \n",
            "  inflating: dataset_new/test/yawn/229.jpg  \n",
            "  inflating: dataset_new/test/yawn/233.jpg  \n",
            "  inflating: dataset_new/test/yawn/234.jpg  \n",
            "  inflating: dataset_new/test/yawn/235.jpg  \n",
            "  inflating: dataset_new/test/yawn/239.jpg  \n",
            "  inflating: dataset_new/test/yawn/240.jpg  \n",
            "  inflating: dataset_new/test/yawn/248.jpg  \n",
            "  inflating: dataset_new/test/yawn/249.jpg  \n",
            "  inflating: dataset_new/test/yawn/257.jpg  \n",
            "  inflating: dataset_new/test/yawn/259.jpg  \n",
            "  inflating: dataset_new/test/yawn/286.jpg  \n",
            "  inflating: dataset_new/test/yawn/305.jpg  \n",
            "  inflating: dataset_new/test/yawn/306.jpg  \n",
            "  inflating: dataset_new/test/yawn/318.jpg  \n",
            "  inflating: dataset_new/test/yawn/319.jpg  \n",
            "  inflating: dataset_new/test/yawn/322.jpg  \n",
            "  inflating: dataset_new/test/yawn/331.jpg  \n",
            "  inflating: dataset_new/test/yawn/332.jpg  \n",
            "  inflating: dataset_new/test/yawn/333.jpg  \n",
            "  inflating: dataset_new/test/yawn/336.jpg  \n",
            "  inflating: dataset_new/test/yawn/349.jpg  \n",
            "  inflating: dataset_new/test/yawn/357.jpg  \n",
            "  inflating: dataset_new/test/yawn/362.jpg  \n",
            "  inflating: dataset_new/test/yawn/366.jpg  \n",
            "  inflating: dataset_new/test/yawn/379.jpg  \n",
            "  inflating: dataset_new/test/yawn/381.jpg  \n",
            "  inflating: dataset_new/test/yawn/382.jpg  \n",
            "  inflating: dataset_new/test/yawn/385.jpg  \n",
            "  inflating: dataset_new/test/yawn/386.jpg  \n",
            "  inflating: dataset_new/test/yawn/409.jpg  \n",
            "  inflating: dataset_new/test/yawn/443.jpg  \n",
            "  inflating: dataset_new/test/yawn/451.jpg  \n",
            "  inflating: dataset_new/test/yawn/455.jpg  \n",
            "  inflating: dataset_new/test/yawn/461.jpg  \n",
            "  inflating: dataset_new/test/yawn/465.jpg  \n",
            "  inflating: dataset_new/test/yawn/466.jpg  \n",
            "  inflating: dataset_new/test/yawn/47.jpg  \n",
            "  inflating: dataset_new/test/yawn/477.jpg  \n",
            "  inflating: dataset_new/test/yawn/480.jpg  \n",
            "  inflating: dataset_new/test/yawn/482.jpg  \n",
            "  inflating: dataset_new/test/yawn/49.jpg  \n",
            "  inflating: dataset_new/test/yawn/505.jpg  \n",
            "  inflating: dataset_new/test/yawn/511.jpg  \n",
            "  inflating: dataset_new/test/yawn/513.jpg  \n",
            "  inflating: dataset_new/test/yawn/526.jpg  \n",
            "  inflating: dataset_new/test/yawn/527.jpg  \n",
            "  inflating: dataset_new/test/yawn/529.jpg  \n",
            "  inflating: dataset_new/test/yawn/538.jpg  \n",
            "  inflating: dataset_new/test/yawn/547.jpg  \n",
            "  inflating: dataset_new/test/yawn/548.jpg  \n",
            "  inflating: dataset_new/test/yawn/551.jpg  \n",
            "  inflating: dataset_new/test/yawn/554.jpg  \n",
            "  inflating: dataset_new/test/yawn/559.jpg  \n",
            "  inflating: dataset_new/test/yawn/563.jpg  \n",
            "  inflating: dataset_new/test/yawn/564.jpg  \n",
            "  inflating: dataset_new/test/yawn/602.jpg  \n",
            "  inflating: dataset_new/test/yawn/606.jpg  \n",
            "  inflating: dataset_new/test/yawn/61.jpg  \n",
            "  inflating: dataset_new/test/yawn/619.jpg  \n",
            "  inflating: dataset_new/test/yawn/622.jpg  \n",
            "  inflating: dataset_new/test/yawn/63.jpg  \n",
            "  inflating: dataset_new/test/yawn/630.jpg  \n",
            "  inflating: dataset_new/test/yawn/632.jpg  \n",
            "  inflating: dataset_new/test/yawn/649.jpg  \n",
            "  inflating: dataset_new/test/yawn/652.jpg  \n",
            "  inflating: dataset_new/test/yawn/662.jpg  \n",
            "  inflating: dataset_new/test/yawn/676.jpg  \n",
            "  inflating: dataset_new/test/yawn/678.jpg  \n",
            "  inflating: dataset_new/test/yawn/681.jpg  \n",
            "  inflating: dataset_new/test/yawn/686.jpg  \n",
            "  inflating: dataset_new/test/yawn/707.jpg  \n",
            "  inflating: dataset_new/test/yawn/709.jpg  \n",
            "  inflating: dataset_new/test/yawn/711.jpg  \n",
            "  inflating: dataset_new/test/yawn/715.jpg  \n",
            "  inflating: dataset_new/test/yawn/719.jpg  \n",
            "  inflating: dataset_new/test/yawn/720.jpg  \n",
            "  inflating: dataset_new/test/yawn/721.jpg  \n",
            "  inflating: dataset_new/test/yawn/725.jpg  \n",
            "  inflating: dataset_new/test/yawn/81.jpg  \n",
            "  inflating: dataset_new/test/yawn/84.jpg  \n",
            "  inflating: dataset_new/test/yawn/86.jpg  \n",
            "  inflating: dataset_new/test/yawn/95.jpg  \n",
            "   creating: dataset_new/train/\n",
            "   creating: dataset_new/train/no_yawn/\n",
            "  inflating: dataset_new/train/no_yawn/1.jpg  \n",
            "  inflating: dataset_new/train/no_yawn/1003.jpg  \n",
            "  inflating: dataset_new/train/no_yawn/1006.jpg  \n",
            "  inflating: dataset_new/train/no_yawn/1008.jpg  \n",
            "  inflating: dataset_new/train/no_yawn/1009.jpg  \n",
            "  inflating: dataset_new/train/no_yawn/1021.jpg  \n",
            "  inflating: dataset_new/train/no_yawn/1028.jpg  \n",
            "  inflating: dataset_new/train/no_yawn/1029.jpg  \n",
            "  inflating: dataset_new/train/no_yawn/1030.jpg  \n",
            "  inflating: dataset_new/train/no_yawn/1031.jpg  \n",
            "  inflating: dataset_new/train/no_yawn/1032.jpg  \n",
            "  inflating: dataset_new/train/no_yawn/1034.jpg  \n",
            "  inflating: dataset_new/train/no_yawn/1038.jpg  \n",
            "  inflating: dataset_new/train/no_yawn/1039.jpg  \n",
            "  inflating: dataset_new/train/no_yawn/1042.jpg  \n",
            "  inflating: dataset_new/train/no_yawn/1046.jpg  \n",
            "  inflating: dataset_new/train/no_yawn/1047.jpg  \n",
            "  inflating: dataset_new/train/no_yawn/1061.jpg  \n",
            "  inflating: dataset_new/train/no_yawn/1062.jpg  \n",
            "  inflating: dataset_new/train/no_yawn/1068.jpg  \n",
            "  inflating: dataset_new/train/no_yawn/1069.jpg  \n",
            "  inflating: dataset_new/train/no_yawn/1073.jpg  \n",
            "  inflating: dataset_new/train/no_yawn/1074.jpg  \n",
            "  inflating: dataset_new/train/no_yawn/1097.jpg  \n",
            "  inflating: dataset_new/train/no_yawn/1098.jpg  \n",
            "  inflating: dataset_new/train/no_yawn/111.jpg  \n",
            "  inflating: dataset_new/train/no_yawn/1111.jpg  \n",
            "  inflating: dataset_new/train/no_yawn/1116.jpg  \n",
            "  inflating: dataset_new/train/no_yawn/1117.jpg  \n",
            "  inflating: dataset_new/train/no_yawn/112.jpg  \n",
            "  inflating: dataset_new/train/no_yawn/1120.jpg  \n",
            "  inflating: dataset_new/train/no_yawn/1121.jpg  \n",
            "  inflating: dataset_new/train/no_yawn/1122.jpg  \n",
            "  inflating: dataset_new/train/no_yawn/1128.jpg  \n",
            "  inflating: dataset_new/train/no_yawn/1130.jpg  \n",
            "  inflating: dataset_new/train/no_yawn/1131.jpg  \n",
            "  inflating: dataset_new/train/no_yawn/1132.jpg  \n",
            "  inflating: dataset_new/train/no_yawn/1133.jpg  \n",
            "  inflating: dataset_new/train/no_yawn/1139.jpg  \n",
            "  inflating: dataset_new/train/no_yawn/114.jpg  \n",
            "  inflating: dataset_new/train/no_yawn/117.jpg  \n",
            "  inflating: dataset_new/train/no_yawn/1172.jpg  \n",
            "  inflating: dataset_new/train/no_yawn/1173.jpg  \n",
            "  inflating: dataset_new/train/no_yawn/1174.jpg  \n",
            "  inflating: dataset_new/train/no_yawn/1176.jpg  \n",
            "  inflating: dataset_new/train/no_yawn/1177.jpg  \n",
            "  inflating: dataset_new/train/no_yawn/1178.jpg  \n",
            "  inflating: dataset_new/train/no_yawn/1201.jpg  \n",
            "  inflating: dataset_new/train/no_yawn/1202.jpg  \n",
            "  inflating: dataset_new/train/no_yawn/1203.jpg  \n",
            "  inflating: dataset_new/train/no_yawn/1208.jpg  \n",
            "  inflating: dataset_new/train/no_yawn/1209.jpg  \n",
            "  inflating: dataset_new/train/no_yawn/1210.jpg  \n",
            "  inflating: dataset_new/train/no_yawn/1214.jpg  \n",
            "  inflating: dataset_new/train/no_yawn/1246.jpg  \n",
            "  inflating: dataset_new/train/no_yawn/1247.jpg  \n",
            "  inflating: dataset_new/train/no_yawn/1248.jpg  \n",
            "  inflating: dataset_new/train/no_yawn/1250.jpg  \n",
            "  inflating: dataset_new/train/no_yawn/1261.jpg  \n",
            "  inflating: dataset_new/train/no_yawn/1266.jpg  \n",
            "  inflating: dataset_new/train/no_yawn/1269.jpg  \n",
            "  inflating: dataset_new/train/no_yawn/1270.jpg  \n",
            "  inflating: dataset_new/train/no_yawn/1281.jpg  \n",
            "  inflating: dataset_new/train/no_yawn/1282.jpg  \n",
            "  inflating: dataset_new/train/no_yawn/1318.jpg  \n",
            "  inflating: dataset_new/train/no_yawn/1319.jpg  \n",
            "  inflating: dataset_new/train/no_yawn/1320.jpg  \n",
            "  inflating: dataset_new/train/no_yawn/1322.jpg  \n",
            "  inflating: dataset_new/train/no_yawn/1324.jpg  \n",
            "  inflating: dataset_new/train/no_yawn/1326.jpg  \n",
            "  inflating: dataset_new/train/no_yawn/1327.jpg  \n",
            "  inflating: dataset_new/train/no_yawn/1332.jpg  \n",
            "  inflating: dataset_new/train/no_yawn/1333.jpg  \n",
            "  inflating: dataset_new/train/no_yawn/1334.jpg  \n",
            "  inflating: dataset_new/train/no_yawn/1356.jpg  \n",
            "  inflating: dataset_new/train/no_yawn/1357.jpg  \n",
            "  inflating: dataset_new/train/no_yawn/1359.jpg  \n",
            "  inflating: dataset_new/train/no_yawn/1362.jpg  \n",
            "  inflating: dataset_new/train/no_yawn/1363.jpg  \n",
            "  inflating: dataset_new/train/no_yawn/1369.jpg  \n",
            "  inflating: dataset_new/train/no_yawn/1370.jpg  \n",
            "  inflating: dataset_new/train/no_yawn/1371.jpg  \n",
            "  inflating: dataset_new/train/no_yawn/1374.jpg  \n",
            "  inflating: dataset_new/train/no_yawn/1376.jpg  \n",
            "  inflating: dataset_new/train/no_yawn/1378.jpg  \n",
            "  inflating: dataset_new/train/no_yawn/141.jpg  \n",
            "  inflating: dataset_new/train/no_yawn/1411.jpg  \n",
            "  inflating: dataset_new/train/no_yawn/1412.jpg  \n",
            "  inflating: dataset_new/train/no_yawn/1413.jpg  \n",
            "  inflating: dataset_new/train/no_yawn/142.jpg  \n",
            "  inflating: dataset_new/train/no_yawn/144.jpg  \n",
            "  inflating: dataset_new/train/no_yawn/1447.jpg  \n",
            "  inflating: dataset_new/train/no_yawn/1448.jpg  \n",
            "  inflating: dataset_new/train/no_yawn/1449.jpg  \n",
            "  inflating: dataset_new/train/no_yawn/145.jpg  \n",
            "  inflating: dataset_new/train/no_yawn/1450.jpg  \n",
            "  inflating: dataset_new/train/no_yawn/1451.jpg  \n",
            "  inflating: dataset_new/train/no_yawn/146.jpg  \n",
            "  inflating: dataset_new/train/no_yawn/1460.jpg  \n",
            "  inflating: dataset_new/train/no_yawn/1461.jpg  \n",
            "  inflating: dataset_new/train/no_yawn/1462.jpg  \n",
            "  inflating: dataset_new/train/no_yawn/1463.jpg  \n",
            "  inflating: dataset_new/train/no_yawn/1464.jpg  \n",
            "  inflating: dataset_new/train/no_yawn/147.jpg  \n",
            "  inflating: dataset_new/train/no_yawn/148.jpg  \n",
            "  inflating: dataset_new/train/no_yawn/1487.jpg  \n",
            "  inflating: dataset_new/train/no_yawn/149.jpg  \n",
            "  inflating: dataset_new/train/no_yawn/1492.jpg  \n",
            "  inflating: dataset_new/train/no_yawn/1493.jpg  \n",
            "  inflating: dataset_new/train/no_yawn/1496.jpg  \n",
            "  inflating: dataset_new/train/no_yawn/1497.jpg  \n",
            "  inflating: dataset_new/train/no_yawn/1498.jpg  \n",
            "  inflating: dataset_new/train/no_yawn/1499.jpg  \n",
            "  inflating: dataset_new/train/no_yawn/1500.jpg  \n",
            "  inflating: dataset_new/train/no_yawn/1503.jpg  \n",
            "  inflating: dataset_new/train/no_yawn/1507.jpg  \n",
            "  inflating: dataset_new/train/no_yawn/1508.jpg  \n",
            "  inflating: dataset_new/train/no_yawn/1509.jpg  \n",
            "  inflating: dataset_new/train/no_yawn/1510.jpg  \n",
            "  inflating: dataset_new/train/no_yawn/1532.jpg  \n",
            "  inflating: dataset_new/train/no_yawn/1537.jpg  \n",
            "  inflating: dataset_new/train/no_yawn/1538.jpg  \n",
            "  inflating: dataset_new/train/no_yawn/1541.jpg  \n",
            "  inflating: dataset_new/train/no_yawn/1542.jpg  \n",
            "  inflating: dataset_new/train/no_yawn/1559.jpg  \n",
            "  inflating: dataset_new/train/no_yawn/1561.jpg  \n",
            "  inflating: dataset_new/train/no_yawn/1562.jpg  \n",
            "  inflating: dataset_new/train/no_yawn/1567.jpg  \n",
            "  inflating: dataset_new/train/no_yawn/1571.jpg  \n",
            "  inflating: dataset_new/train/no_yawn/1572.jpg  \n",
            "  inflating: dataset_new/train/no_yawn/1573.jpg  \n",
            "  inflating: dataset_new/train/no_yawn/1574.jpg  \n",
            "  inflating: dataset_new/train/no_yawn/1576.jpg  \n",
            "  inflating: dataset_new/train/no_yawn/1592.jpg  \n",
            "  inflating: dataset_new/train/no_yawn/1593.jpg  \n",
            "  inflating: dataset_new/train/no_yawn/1597.jpg  \n",
            "  inflating: dataset_new/train/no_yawn/1598.jpg  \n",
            "  inflating: dataset_new/train/no_yawn/1599.jpg  \n",
            "  inflating: dataset_new/train/no_yawn/1600.jpg  \n",
            "  inflating: dataset_new/train/no_yawn/1611.jpg  \n",
            "  inflating: dataset_new/train/no_yawn/1627.jpg  \n",
            "  inflating: dataset_new/train/no_yawn/1629.jpg  \n",
            "  inflating: dataset_new/train/no_yawn/1630.jpg  \n",
            "  inflating: dataset_new/train/no_yawn/1642.jpg  \n",
            "  inflating: dataset_new/train/no_yawn/1647.jpg  \n",
            "  inflating: dataset_new/train/no_yawn/1648.jpg  \n",
            "  inflating: dataset_new/train/no_yawn/1651.jpg  \n",
            "  inflating: dataset_new/train/no_yawn/1652.jpg  \n",
            "  inflating: dataset_new/train/no_yawn/1653.jpg  \n",
            "  inflating: dataset_new/train/no_yawn/1686.jpg  \n",
            "  inflating: dataset_new/train/no_yawn/1689.jpg  \n",
            "  inflating: dataset_new/train/no_yawn/1690.jpg  \n",
            "  inflating: dataset_new/train/no_yawn/1701.jpg  \n",
            "  inflating: dataset_new/train/no_yawn/1703.jpg  \n",
            "  inflating: dataset_new/train/no_yawn/1706.jpg  \n",
            "  inflating: dataset_new/train/no_yawn/1707.jpg  \n",
            "  inflating: dataset_new/train/no_yawn/1708.jpg  \n",
            "  inflating: dataset_new/train/no_yawn/1711.jpg  \n",
            "  inflating: dataset_new/train/no_yawn/1712.jpg  \n",
            "  inflating: dataset_new/train/no_yawn/1714.jpg  \n",
            "  inflating: dataset_new/train/no_yawn/1736.jpg  \n",
            "  inflating: dataset_new/train/no_yawn/1738.jpg  \n",
            "  inflating: dataset_new/train/no_yawn/174.jpg  \n",
            "  inflating: dataset_new/train/no_yawn/1740.jpg  \n",
            "  inflating: dataset_new/train/no_yawn/175.jpg  \n",
            "  inflating: dataset_new/train/no_yawn/176.jpg  \n",
            "  inflating: dataset_new/train/no_yawn/1763.jpg  \n",
            "  inflating: dataset_new/train/no_yawn/1764.jpg  \n",
            "  inflating: dataset_new/train/no_yawn/1766.jpg  \n",
            "  inflating: dataset_new/train/no_yawn/1767.jpg  \n",
            "  inflating: dataset_new/train/no_yawn/1768.jpg  \n",
            "  inflating: dataset_new/train/no_yawn/1769.jpg  \n",
            "  inflating: dataset_new/train/no_yawn/177.jpg  \n",
            "  inflating: dataset_new/train/no_yawn/1777.jpg  \n",
            "  inflating: dataset_new/train/no_yawn/1778.jpg  \n",
            "  inflating: dataset_new/train/no_yawn/1779.jpg  \n",
            "  inflating: dataset_new/train/no_yawn/1780.jpg  \n",
            "  inflating: dataset_new/train/no_yawn/1781.jpg  \n",
            "  inflating: dataset_new/train/no_yawn/1782.jpg  \n",
            "  inflating: dataset_new/train/no_yawn/1783.jpg  \n",
            "  inflating: dataset_new/train/no_yawn/1784.jpg  \n",
            "  inflating: dataset_new/train/no_yawn/1788.jpg  \n",
            "  inflating: dataset_new/train/no_yawn/179.jpg  \n",
            "  inflating: dataset_new/train/no_yawn/1802.jpg  \n",
            "  inflating: dataset_new/train/no_yawn/1803.jpg  \n",
            "  inflating: dataset_new/train/no_yawn/1804.jpg  \n",
            "  inflating: dataset_new/train/no_yawn/1816.jpg  \n",
            "  inflating: dataset_new/train/no_yawn/1817.jpg  \n",
            "  inflating: dataset_new/train/no_yawn/1820.jpg  \n",
            "  inflating: dataset_new/train/no_yawn/1851.jpg  \n",
            "  inflating: dataset_new/train/no_yawn/1852.jpg  \n",
            "  inflating: dataset_new/train/no_yawn/1856.jpg  \n",
            "  inflating: dataset_new/train/no_yawn/1857.jpg  \n",
            "  inflating: dataset_new/train/no_yawn/1859.jpg  \n",
            "  inflating: dataset_new/train/no_yawn/1864.jpg  \n",
            "  inflating: dataset_new/train/no_yawn/1866.jpg  \n",
            "  inflating: dataset_new/train/no_yawn/1867.jpg  \n",
            "  inflating: dataset_new/train/no_yawn/1870.jpg  \n",
            "  inflating: dataset_new/train/no_yawn/1871.jpg  \n",
            "  inflating: dataset_new/train/no_yawn/1874.jpg  \n",
            "  inflating: dataset_new/train/no_yawn/1876.jpg  \n",
            "  inflating: dataset_new/train/no_yawn/1878.jpg  \n",
            "  inflating: dataset_new/train/no_yawn/1879.jpg  \n",
            "  inflating: dataset_new/train/no_yawn/1880.jpg  \n",
            "  inflating: dataset_new/train/no_yawn/1891.jpg  \n",
            "  inflating: dataset_new/train/no_yawn/1893.jpg  \n",
            "  inflating: dataset_new/train/no_yawn/1899.jpg  \n",
            "  inflating: dataset_new/train/no_yawn/1900.jpg  \n",
            "  inflating: dataset_new/train/no_yawn/1911.jpg  \n",
            "  inflating: dataset_new/train/no_yawn/1914.jpg  \n",
            "  inflating: dataset_new/train/no_yawn/1916.jpg  \n",
            "  inflating: dataset_new/train/no_yawn/1931.jpg  \n",
            "  inflating: dataset_new/train/no_yawn/1932.jpg  \n",
            "  inflating: dataset_new/train/no_yawn/1933.jpg  \n",
            "  inflating: dataset_new/train/no_yawn/1934.jpg  \n",
            "  inflating: dataset_new/train/no_yawn/1936.jpg  \n",
            "  inflating: dataset_new/train/no_yawn/1937.jpg  \n",
            "  inflating: dataset_new/train/no_yawn/1938.jpg  \n",
            "  inflating: dataset_new/train/no_yawn/1948.jpg  \n",
            "  inflating: dataset_new/train/no_yawn/1949.jpg  \n",
            "  inflating: dataset_new/train/no_yawn/1963.jpg  \n",
            "  inflating: dataset_new/train/no_yawn/1964.jpg  \n",
            "  inflating: dataset_new/train/no_yawn/1966.jpg  \n",
            "  inflating: dataset_new/train/no_yawn/1967.jpg  \n",
            "  inflating: dataset_new/train/no_yawn/1981.jpg  \n",
            "  inflating: dataset_new/train/no_yawn/1982.jpg  \n",
            "  inflating: dataset_new/train/no_yawn/1986.jpg  \n",
            "  inflating: dataset_new/train/no_yawn/1987.jpg  \n",
            "  inflating: dataset_new/train/no_yawn/1988.jpg  \n",
            "  inflating: dataset_new/train/no_yawn/1989.jpg  \n",
            "  inflating: dataset_new/train/no_yawn/1990.jpg  \n",
            "  inflating: dataset_new/train/no_yawn/2.jpg  \n",
            "  inflating: dataset_new/train/no_yawn/2001.jpg  \n",
            "  inflating: dataset_new/train/no_yawn/2008.jpg  \n",
            "  inflating: dataset_new/train/no_yawn/2009.jpg  \n",
            "  inflating: dataset_new/train/no_yawn/201.jpg  \n",
            "  inflating: dataset_new/train/no_yawn/2010.jpg  \n",
            "  inflating: dataset_new/train/no_yawn/2011.jpg  \n",
            "  inflating: dataset_new/train/no_yawn/2012.jpg  \n",
            "  inflating: dataset_new/train/no_yawn/2013.jpg  \n",
            "  inflating: dataset_new/train/no_yawn/2014.jpg  \n",
            "  inflating: dataset_new/train/no_yawn/202.jpg  \n",
            "  inflating: dataset_new/train/no_yawn/2031.jpg  \n",
            "  inflating: dataset_new/train/no_yawn/2032.jpg  \n",
            "  inflating: dataset_new/train/no_yawn/2033.jpg  \n",
            "  inflating: dataset_new/train/no_yawn/2034.jpg  \n",
            "  inflating: dataset_new/train/no_yawn/2056.jpg  \n",
            "  inflating: dataset_new/train/no_yawn/2057.jpg  \n",
            "  inflating: dataset_new/train/no_yawn/2058.jpg  \n",
            "  inflating: dataset_new/train/no_yawn/206.jpg  \n",
            "  inflating: dataset_new/train/no_yawn/2062.jpg  \n",
            "  inflating: dataset_new/train/no_yawn/2066.jpg  \n",
            "  inflating: dataset_new/train/no_yawn/2067.jpg  \n",
            "  inflating: dataset_new/train/no_yawn/2068.jpg  \n",
            "  inflating: dataset_new/train/no_yawn/2069.jpg  \n",
            "  inflating: dataset_new/train/no_yawn/2070.jpg  \n",
            "  inflating: dataset_new/train/no_yawn/2071.jpg  \n",
            "  inflating: dataset_new/train/no_yawn/2074.jpg  \n",
            "  inflating: dataset_new/train/no_yawn/208.jpg  \n",
            "  inflating: dataset_new/train/no_yawn/2086.jpg  \n",
            "  inflating: dataset_new/train/no_yawn/2087.jpg  \n",
            "  inflating: dataset_new/train/no_yawn/209.jpg  \n",
            "  inflating: dataset_new/train/no_yawn/2091.jpg  \n",
            "  inflating: dataset_new/train/no_yawn/2092.jpg  \n",
            "  inflating: dataset_new/train/no_yawn/2108.jpg  \n",
            "  inflating: dataset_new/train/no_yawn/2109.jpg  \n",
            "  inflating: dataset_new/train/no_yawn/212.jpg  \n",
            "  inflating: dataset_new/train/no_yawn/2121.jpg  \n",
            "  inflating: dataset_new/train/no_yawn/2124.jpg  \n",
            "  inflating: dataset_new/train/no_yawn/2126.jpg  \n",
            "  inflating: dataset_new/train/no_yawn/2129.jpg  \n",
            "  inflating: dataset_new/train/no_yawn/213.jpg  \n",
            "  inflating: dataset_new/train/no_yawn/2130.jpg  \n",
            "  inflating: dataset_new/train/no_yawn/2131.jpg  \n",
            "  inflating: dataset_new/train/no_yawn/2132.jpg  \n",
            "  inflating: dataset_new/train/no_yawn/2133.jpg  \n",
            "  inflating: dataset_new/train/no_yawn/2134.jpg  \n",
            "  inflating: dataset_new/train/no_yawn/2136.jpg  \n",
            "  inflating: dataset_new/train/no_yawn/2151.jpg  \n",
            "  inflating: dataset_new/train/no_yawn/2152.jpg  \n",
            "  inflating: dataset_new/train/no_yawn/2153.jpg  \n",
            "  inflating: dataset_new/train/no_yawn/2154.jpg  \n",
            "  inflating: dataset_new/train/no_yawn/2156.jpg  \n",
            "  inflating: dataset_new/train/no_yawn/2157.jpg  \n",
            "  inflating: dataset_new/train/no_yawn/2158.jpg  \n",
            "  inflating: dataset_new/train/no_yawn/2159.jpg  \n",
            "  inflating: dataset_new/train/no_yawn/2160.jpg  \n",
            "  inflating: dataset_new/train/no_yawn/217.jpg  \n",
            "  inflating: dataset_new/train/no_yawn/218.jpg  \n",
            "  inflating: dataset_new/train/no_yawn/219.jpg  \n",
            "  inflating: dataset_new/train/no_yawn/2196.jpg  \n",
            "  inflating: dataset_new/train/no_yawn/2198.jpg  \n",
            "  inflating: dataset_new/train/no_yawn/2199.jpg  \n",
            "  inflating: dataset_new/train/no_yawn/2200.jpg  \n",
            "  inflating: dataset_new/train/no_yawn/2201.jpg  \n",
            "  inflating: dataset_new/train/no_yawn/2202.jpg  \n",
            "  inflating: dataset_new/train/no_yawn/221.jpg  \n",
            "  inflating: dataset_new/train/no_yawn/2216.jpg  \n",
            "  inflating: dataset_new/train/no_yawn/2217.jpg  \n",
            "  inflating: dataset_new/train/no_yawn/2220.jpg  \n",
            "  inflating: dataset_new/train/no_yawn/2221.jpg  \n",
            "  inflating: dataset_new/train/no_yawn/2222.jpg  \n",
            "  inflating: dataset_new/train/no_yawn/2223.jpg  \n",
            "  inflating: dataset_new/train/no_yawn/2224.jpg  \n",
            "  inflating: dataset_new/train/no_yawn/2228.jpg  \n",
            "  inflating: dataset_new/train/no_yawn/2229.jpg  \n",
            "  inflating: dataset_new/train/no_yawn/223.jpg  \n",
            "  inflating: dataset_new/train/no_yawn/2230.jpg  \n",
            "  inflating: dataset_new/train/no_yawn/224.jpg  \n",
            "  inflating: dataset_new/train/no_yawn/2241.jpg  \n",
            "  inflating: dataset_new/train/no_yawn/2244.jpg  \n",
            "  inflating: dataset_new/train/no_yawn/2246.jpg  \n",
            "  inflating: dataset_new/train/no_yawn/2247.jpg  \n",
            "  inflating: dataset_new/train/no_yawn/225.jpg  \n",
            "  inflating: dataset_new/train/no_yawn/2250.jpg  \n",
            "  inflating: dataset_new/train/no_yawn/2251.jpg  \n",
            "  inflating: dataset_new/train/no_yawn/2252.jpg  \n",
            "  inflating: dataset_new/train/no_yawn/2253.jpg  \n",
            "  inflating: dataset_new/train/no_yawn/2254.jpg  \n",
            "  inflating: dataset_new/train/no_yawn/2256.jpg  \n",
            "  inflating: dataset_new/train/no_yawn/2259.jpg  \n",
            "  inflating: dataset_new/train/no_yawn/226.jpg  \n",
            "  inflating: dataset_new/train/no_yawn/2282.jpg  \n",
            "  inflating: dataset_new/train/no_yawn/2283.jpg  \n",
            "  inflating: dataset_new/train/no_yawn/2284.jpg  \n",
            "  inflating: dataset_new/train/no_yawn/2286.jpg  \n",
            "  inflating: dataset_new/train/no_yawn/2287.jpg  \n",
            "  inflating: dataset_new/train/no_yawn/2288.jpg  \n",
            "  inflating: dataset_new/train/no_yawn/229.jpg  \n",
            "  inflating: dataset_new/train/no_yawn/2290.jpg  \n",
            "  inflating: dataset_new/train/no_yawn/2296.jpg  \n",
            "  inflating: dataset_new/train/no_yawn/2297.jpg  \n",
            "  inflating: dataset_new/train/no_yawn/2298.jpg  \n",
            "  inflating: dataset_new/train/no_yawn/2299.jpg  \n",
            "  inflating: dataset_new/train/no_yawn/2300.jpg  \n",
            "  inflating: dataset_new/train/no_yawn/231.jpg  \n",
            "  inflating: dataset_new/train/no_yawn/2312.jpg  \n",
            "  inflating: dataset_new/train/no_yawn/2313.jpg  \n",
            "  inflating: dataset_new/train/no_yawn/2327.jpg  \n",
            "  inflating: dataset_new/train/no_yawn/2330.jpg  \n",
            "  inflating: dataset_new/train/no_yawn/234.jpg  \n",
            "  inflating: dataset_new/train/no_yawn/2341.jpg  \n",
            "  inflating: dataset_new/train/no_yawn/2342.jpg  \n",
            "  inflating: dataset_new/train/no_yawn/2343.jpg  \n",
            "  inflating: dataset_new/train/no_yawn/2344.jpg  \n",
            "  inflating: dataset_new/train/no_yawn/2349.jpg  \n",
            "  inflating: dataset_new/train/no_yawn/235.jpg  \n",
            "  inflating: dataset_new/train/no_yawn/2350.jpg  \n",
            "  inflating: dataset_new/train/no_yawn/2356.jpg  \n",
            "  inflating: dataset_new/train/no_yawn/2357.jpg  \n",
            "  inflating: dataset_new/train/no_yawn/2358.jpg  \n",
            "  inflating: dataset_new/train/no_yawn/2371.jpg  \n",
            "  inflating: dataset_new/train/no_yawn/2372.jpg  \n",
            "  inflating: dataset_new/train/no_yawn/2373.jpg  \n",
            "  inflating: dataset_new/train/no_yawn/2374.jpg  \n",
            "  inflating: dataset_new/train/no_yawn/238.jpg  \n",
            "  inflating: dataset_new/train/no_yawn/2396.jpg  \n",
            "  inflating: dataset_new/train/no_yawn/2399.jpg  \n",
            "  inflating: dataset_new/train/no_yawn/2400.jpg  \n",
            "  inflating: dataset_new/train/no_yawn/2403.jpg  \n",
            "  inflating: dataset_new/train/no_yawn/2404.jpg  \n",
            "  inflating: dataset_new/train/no_yawn/2407.jpg  \n",
            "  inflating: dataset_new/train/no_yawn/2409.jpg  \n",
            "  inflating: dataset_new/train/no_yawn/2410.jpg  \n",
            "  inflating: dataset_new/train/no_yawn/2426.jpg  \n",
            "  inflating: dataset_new/train/no_yawn/2427.jpg  \n",
            "  inflating: dataset_new/train/no_yawn/2428.jpg  \n",
            "  inflating: dataset_new/train/no_yawn/2429.jpg  \n",
            "  inflating: dataset_new/train/no_yawn/2430.jpg  \n",
            "  inflating: dataset_new/train/no_yawn/2432.jpg  \n",
            "  inflating: dataset_new/train/no_yawn/2433.jpg  \n",
            "  inflating: dataset_new/train/no_yawn/2434.jpg  \n",
            "  inflating: dataset_new/train/no_yawn/2440.jpg  \n",
            "  inflating: dataset_new/train/no_yawn/2461.jpg  \n",
            "  inflating: dataset_new/train/no_yawn/2462.jpg  \n",
            "  inflating: dataset_new/train/no_yawn/2463.jpg  \n",
            "  inflating: dataset_new/train/no_yawn/2464.jpg  \n",
            "  inflating: dataset_new/train/no_yawn/2466.jpg  \n",
            "  inflating: dataset_new/train/no_yawn/2467.jpg  \n",
            "  inflating: dataset_new/train/no_yawn/2470.jpg  \n",
            "  inflating: dataset_new/train/no_yawn/2471.jpg  \n",
            "  inflating: dataset_new/train/no_yawn/2474.jpg  \n",
            "  inflating: dataset_new/train/no_yawn/2476.jpg  \n",
            "  inflating: dataset_new/train/no_yawn/2477.jpg  \n",
            "  inflating: dataset_new/train/no_yawn/2478.jpg  \n",
            "  inflating: dataset_new/train/no_yawn/2479.jpg  \n",
            "  inflating: dataset_new/train/no_yawn/2483.jpg  \n",
            "  inflating: dataset_new/train/no_yawn/2484.jpg  \n",
            "  inflating: dataset_new/train/no_yawn/2496.jpg  \n",
            "  inflating: dataset_new/train/no_yawn/2499.jpg  \n",
            "  inflating: dataset_new/train/no_yawn/25.jpg  \n",
            "  inflating: dataset_new/train/no_yawn/2500.jpg  \n",
            "  inflating: dataset_new/train/no_yawn/2513.jpg  \n",
            "  inflating: dataset_new/train/no_yawn/2516.jpg  \n",
            "  inflating: dataset_new/train/no_yawn/2517.jpg  \n",
            "  inflating: dataset_new/train/no_yawn/2518.jpg  \n",
            "  inflating: dataset_new/train/no_yawn/2519.jpg  \n",
            "  inflating: dataset_new/train/no_yawn/253.jpg  \n",
            "  inflating: dataset_new/train/no_yawn/2532.jpg  \n",
            "  inflating: dataset_new/train/no_yawn/2534.jpg  \n",
            "  inflating: dataset_new/train/no_yawn/2536.jpg  \n",
            "  inflating: dataset_new/train/no_yawn/2537.jpg  \n",
            "  inflating: dataset_new/train/no_yawn/2538.jpg  \n",
            "  inflating: dataset_new/train/no_yawn/2539.jpg  \n",
            "  inflating: dataset_new/train/no_yawn/254.jpg  \n",
            "  inflating: dataset_new/train/no_yawn/2540.jpg  \n",
            "  inflating: dataset_new/train/no_yawn/2547.jpg  \n",
            "  inflating: dataset_new/train/no_yawn/2549.jpg  \n",
            "  inflating: dataset_new/train/no_yawn/255.jpg  \n",
            "  inflating: dataset_new/train/no_yawn/2550.jpg  \n",
            "  inflating: dataset_new/train/no_yawn/256.jpg  \n",
            "  inflating: dataset_new/train/no_yawn/257.jpg  \n",
            "  inflating: dataset_new/train/no_yawn/2571.jpg  \n",
            "  inflating: dataset_new/train/no_yawn/2572.jpg  \n",
            "  inflating: dataset_new/train/no_yawn/2573.jpg  \n",
            "  inflating: dataset_new/train/no_yawn/2574.jpg  \n",
            "  inflating: dataset_new/train/no_yawn/2580.jpg  \n",
            "  inflating: dataset_new/train/no_yawn/2581.jpg  \n",
            "  inflating: dataset_new/train/no_yawn/2582.jpg  \n",
            "  inflating: dataset_new/train/no_yawn/2583.jpg  \n",
            "  inflating: dataset_new/train/no_yawn/2584.jpg  \n",
            "  inflating: dataset_new/train/no_yawn/2586.jpg  \n",
            "  inflating: dataset_new/train/no_yawn/2588.jpg  \n",
            "  inflating: dataset_new/train/no_yawn/2589.jpg  \n",
            "  inflating: dataset_new/train/no_yawn/259.jpg  \n",
            "  inflating: dataset_new/train/no_yawn/2603.jpg  \n",
            "  inflating: dataset_new/train/no_yawn/2604.jpg  \n",
            "  inflating: dataset_new/train/no_yawn/2606.jpg  \n",
            "  inflating: dataset_new/train/no_yawn/2609.jpg  \n",
            "  inflating: dataset_new/train/no_yawn/2610.jpg  \n",
            "  inflating: dataset_new/train/no_yawn/2622.jpg  \n",
            "  inflating: dataset_new/train/no_yawn/2623.jpg  \n",
            "  inflating: dataset_new/train/no_yawn/27.jpg  \n",
            "  inflating: dataset_new/train/no_yawn/271.jpg  \n",
            "  inflating: dataset_new/train/no_yawn/277.jpg  \n",
            "  inflating: dataset_new/train/no_yawn/278.jpg  \n",
            "  inflating: dataset_new/train/no_yawn/279.jpg  \n",
            "  inflating: dataset_new/train/no_yawn/28.jpg  \n",
            "  inflating: dataset_new/train/no_yawn/292.jpg  \n",
            "  inflating: dataset_new/train/no_yawn/293.jpg  \n",
            "  inflating: dataset_new/train/no_yawn/295.jpg  \n",
            "  inflating: dataset_new/train/no_yawn/299.jpg  \n",
            "  inflating: dataset_new/train/no_yawn/3.jpg  \n",
            "  inflating: dataset_new/train/no_yawn/312.jpg  \n",
            "  inflating: dataset_new/train/no_yawn/313.jpg  \n",
            "  inflating: dataset_new/train/no_yawn/314.jpg  \n",
            "  inflating: dataset_new/train/no_yawn/315.jpg  \n",
            "  inflating: dataset_new/train/no_yawn/316.jpg  \n",
            "  inflating: dataset_new/train/no_yawn/317.jpg  \n",
            "  inflating: dataset_new/train/no_yawn/318.jpg  \n",
            "  inflating: dataset_new/train/no_yawn/332.jpg  \n",
            "  inflating: dataset_new/train/no_yawn/333.jpg  \n",
            "  inflating: dataset_new/train/no_yawn/336.jpg  \n",
            "  inflating: dataset_new/train/no_yawn/371.jpg  \n",
            "  inflating: dataset_new/train/no_yawn/372.jpg  \n",
            "  inflating: dataset_new/train/no_yawn/373.jpg  \n",
            "  inflating: dataset_new/train/no_yawn/375.jpg  \n",
            "  inflating: dataset_new/train/no_yawn/378.jpg  \n",
            "  inflating: dataset_new/train/no_yawn/379.jpg  \n",
            "  inflating: dataset_new/train/no_yawn/380.jpg  \n",
            "  inflating: dataset_new/train/no_yawn/4.jpg  \n",
            "  inflating: dataset_new/train/no_yawn/411.jpg  \n",
            "  inflating: dataset_new/train/no_yawn/412.jpg  \n",
            "  inflating: dataset_new/train/no_yawn/416.jpg  \n",
            "  inflating: dataset_new/train/no_yawn/417.jpg  \n",
            "  inflating: dataset_new/train/no_yawn/420.jpg  \n",
            "  inflating: dataset_new/train/no_yawn/431.jpg  \n",
            "  inflating: dataset_new/train/no_yawn/432.jpg  \n",
            "  inflating: dataset_new/train/no_yawn/433.jpg  \n",
            "  inflating: dataset_new/train/no_yawn/435.jpg  \n",
            "  inflating: dataset_new/train/no_yawn/436.jpg  \n",
            "  inflating: dataset_new/train/no_yawn/437.jpg  \n",
            "  inflating: dataset_new/train/no_yawn/439.jpg  \n",
            "  inflating: dataset_new/train/no_yawn/443.jpg  \n",
            "  inflating: dataset_new/train/no_yawn/445.jpg  \n",
            "  inflating: dataset_new/train/no_yawn/446.jpg  \n",
            "  inflating: dataset_new/train/no_yawn/447.jpg  \n",
            "  inflating: dataset_new/train/no_yawn/448.jpg  \n",
            "  inflating: dataset_new/train/no_yawn/449.jpg  \n",
            "  inflating: dataset_new/train/no_yawn/450.jpg  \n",
            "  inflating: dataset_new/train/no_yawn/466.jpg  \n",
            "  inflating: dataset_new/train/no_yawn/467.jpg  \n",
            "  inflating: dataset_new/train/no_yawn/469.jpg  \n",
            "  inflating: dataset_new/train/no_yawn/481.jpg  \n",
            "  inflating: dataset_new/train/no_yawn/482.jpg  \n",
            "  inflating: dataset_new/train/no_yawn/483.jpg  \n",
            "  inflating: dataset_new/train/no_yawn/488.jpg  \n",
            "  inflating: dataset_new/train/no_yawn/490.jpg  \n",
            "  inflating: dataset_new/train/no_yawn/5.jpg  \n",
            "  inflating: dataset_new/train/no_yawn/501.jpg  \n",
            "  inflating: dataset_new/train/no_yawn/502.jpg  \n",
            "  inflating: dataset_new/train/no_yawn/505.jpg  \n",
            "  inflating: dataset_new/train/no_yawn/507.jpg  \n",
            "  inflating: dataset_new/train/no_yawn/509.jpg  \n",
            "  inflating: dataset_new/train/no_yawn/51.jpg  \n",
            "  inflating: dataset_new/train/no_yawn/521.jpg  \n",
            "  inflating: dataset_new/train/no_yawn/522.jpg  \n",
            "  inflating: dataset_new/train/no_yawn/525.jpg  \n",
            "  inflating: dataset_new/train/no_yawn/528.jpg  \n",
            "  inflating: dataset_new/train/no_yawn/529.jpg  \n",
            "  inflating: dataset_new/train/no_yawn/54.jpg  \n",
            "  inflating: dataset_new/train/no_yawn/542.jpg  \n",
            "  inflating: dataset_new/train/no_yawn/543.jpg  \n",
            "  inflating: dataset_new/train/no_yawn/546.jpg  \n",
            "  inflating: dataset_new/train/no_yawn/547.jpg  \n",
            "  inflating: dataset_new/train/no_yawn/552.jpg  \n",
            "  inflating: dataset_new/train/no_yawn/557.jpg  \n",
            "  inflating: dataset_new/train/no_yawn/558.jpg  \n",
            "  inflating: dataset_new/train/no_yawn/56.jpg  \n",
            "  inflating: dataset_new/train/no_yawn/560.jpg  \n",
            "  inflating: dataset_new/train/no_yawn/571.jpg  \n",
            "  inflating: dataset_new/train/no_yawn/572.jpg  \n",
            "  inflating: dataset_new/train/no_yawn/573.jpg  \n",
            "  inflating: dataset_new/train/no_yawn/578.jpg  \n",
            "  inflating: dataset_new/train/no_yawn/579.jpg  \n",
            "  inflating: dataset_new/train/no_yawn/58.jpg  \n",
            "  inflating: dataset_new/train/no_yawn/580.jpg  \n",
            "  inflating: dataset_new/train/no_yawn/6.jpg  \n",
            "  inflating: dataset_new/train/no_yawn/601.jpg  \n",
            "  inflating: dataset_new/train/no_yawn/602.jpg  \n",
            "  inflating: dataset_new/train/no_yawn/606.jpg  \n",
            "  inflating: dataset_new/train/no_yawn/607.jpg  \n",
            "  inflating: dataset_new/train/no_yawn/612.jpg  \n",
            "  inflating: dataset_new/train/no_yawn/613.jpg  \n",
            "  inflating: dataset_new/train/no_yawn/615.jpg  \n",
            "  inflating: dataset_new/train/no_yawn/617.jpg  \n",
            "  inflating: dataset_new/train/no_yawn/618.jpg  \n",
            "  inflating: dataset_new/train/no_yawn/619.jpg  \n",
            "  inflating: dataset_new/train/no_yawn/623.jpg  \n",
            "  inflating: dataset_new/train/no_yawn/635.jpg  \n",
            "  inflating: dataset_new/train/no_yawn/638.jpg  \n",
            "  inflating: dataset_new/train/no_yawn/639.jpg  \n",
            "  inflating: dataset_new/train/no_yawn/640.jpg  \n",
            "  inflating: dataset_new/train/no_yawn/641.jpg  \n",
            "  inflating: dataset_new/train/no_yawn/645.jpg  \n",
            "  inflating: dataset_new/train/no_yawn/647.jpg  \n",
            "  inflating: dataset_new/train/no_yawn/648.jpg  \n",
            "  inflating: dataset_new/train/no_yawn/652.jpg  \n",
            "  inflating: dataset_new/train/no_yawn/653.jpg  \n",
            "  inflating: dataset_new/train/no_yawn/657.jpg  \n",
            "  inflating: dataset_new/train/no_yawn/658.jpg  \n",
            "  inflating: dataset_new/train/no_yawn/659.jpg  \n",
            "  inflating: dataset_new/train/no_yawn/660.jpg  \n",
            "  inflating: dataset_new/train/no_yawn/681.jpg  \n",
            "  inflating: dataset_new/train/no_yawn/682.jpg  \n",
            "  inflating: dataset_new/train/no_yawn/683.jpg  \n",
            "  inflating: dataset_new/train/no_yawn/689.jpg  \n",
            "  inflating: dataset_new/train/no_yawn/7.jpg  \n",
            "  inflating: dataset_new/train/no_yawn/701.jpg  \n",
            "  inflating: dataset_new/train/no_yawn/703.jpg  \n",
            "  inflating: dataset_new/train/no_yawn/72.jpg  \n",
            "  inflating: dataset_new/train/no_yawn/725.jpg  \n",
            "  inflating: dataset_new/train/no_yawn/726.jpg  \n",
            "  inflating: dataset_new/train/no_yawn/729.jpg  \n",
            "  inflating: dataset_new/train/no_yawn/73.jpg  \n",
            "  inflating: dataset_new/train/no_yawn/733.jpg  \n",
            "  inflating: dataset_new/train/no_yawn/758.jpg  \n",
            "  inflating: dataset_new/train/no_yawn/76.jpg  \n",
            "  inflating: dataset_new/train/no_yawn/760.jpg  \n",
            "  inflating: dataset_new/train/no_yawn/77.jpg  \n",
            "  inflating: dataset_new/train/no_yawn/773.jpg  \n",
            "  inflating: dataset_new/train/no_yawn/775.jpg  \n",
            "  inflating: dataset_new/train/no_yawn/778.jpg  \n",
            "  inflating: dataset_new/train/no_yawn/78.jpg  \n",
            "  inflating: dataset_new/train/no_yawn/780.jpg  \n",
            "  inflating: dataset_new/train/no_yawn/781.jpg  \n",
            "  inflating: dataset_new/train/no_yawn/782.jpg  \n",
            "  inflating: dataset_new/train/no_yawn/786.jpg  \n",
            "  inflating: dataset_new/train/no_yawn/787.jpg  \n",
            "  inflating: dataset_new/train/no_yawn/788.jpg  \n",
            "  inflating: dataset_new/train/no_yawn/79.jpg  \n",
            "  inflating: dataset_new/train/no_yawn/791.jpg  \n",
            "  inflating: dataset_new/train/no_yawn/792.jpg  \n",
            "  inflating: dataset_new/train/no_yawn/793.jpg  \n",
            "  inflating: dataset_new/train/no_yawn/8.jpg  \n",
            "  inflating: dataset_new/train/no_yawn/828.jpg  \n",
            "  inflating: dataset_new/train/no_yawn/829.jpg  \n",
            "  inflating: dataset_new/train/no_yawn/831.jpg  \n",
            "  inflating: dataset_new/train/no_yawn/833.jpg  \n",
            "  inflating: dataset_new/train/no_yawn/837.jpg  \n",
            "  inflating: dataset_new/train/no_yawn/851.jpg  \n",
            "  inflating: dataset_new/train/no_yawn/852.jpg  \n",
            "  inflating: dataset_new/train/no_yawn/853.jpg  \n",
            "  inflating: dataset_new/train/no_yawn/854.jpg  \n",
            "  inflating: dataset_new/train/no_yawn/867.jpg  \n",
            "  inflating: dataset_new/train/no_yawn/868.jpg  \n",
            "  inflating: dataset_new/train/no_yawn/884.jpg  \n",
            "  inflating: dataset_new/train/no_yawn/897.jpg  \n",
            "  inflating: dataset_new/train/no_yawn/899.jpg  \n",
            "  inflating: dataset_new/train/no_yawn/9.jpg  \n",
            "  inflating: dataset_new/train/no_yawn/911.jpg  \n",
            "  inflating: dataset_new/train/no_yawn/914.jpg  \n",
            "  inflating: dataset_new/train/no_yawn/918.jpg  \n",
            "  inflating: dataset_new/train/no_yawn/919.jpg  \n",
            "  inflating: dataset_new/train/no_yawn/93.jpg  \n",
            "  inflating: dataset_new/train/no_yawn/931.jpg  \n",
            "  inflating: dataset_new/train/no_yawn/932.jpg  \n",
            "  inflating: dataset_new/train/no_yawn/933.jpg  \n",
            "  inflating: dataset_new/train/no_yawn/94.jpg  \n",
            "  inflating: dataset_new/train/no_yawn/957.jpg  \n",
            "  inflating: dataset_new/train/no_yawn/962.jpg  \n",
            "  inflating: dataset_new/train/no_yawn/964.jpg  \n",
            "  inflating: dataset_new/train/no_yawn/98.jpg  \n",
            "  inflating: dataset_new/train/no_yawn/980.jpg  \n",
            "  inflating: dataset_new/train/no_yawn/981.jpg  \n",
            "  inflating: dataset_new/train/no_yawn/982.jpg  \n",
            "  inflating: dataset_new/train/no_yawn/983.jpg  \n",
            "  inflating: dataset_new/train/no_yawn/987.jpg  \n",
            "  inflating: dataset_new/train/no_yawn/988.jpg  \n",
            "  inflating: dataset_new/train/no_yawn/99.jpg  \n",
            "  inflating: dataset_new/train/no_yawn/991.jpg  \n",
            "  inflating: dataset_new/train/no_yawn/992.jpg  \n",
            "  inflating: dataset_new/train/no_yawn/993.jpg  \n",
            "  inflating: dataset_new/train/no_yawn/994.jpg  \n",
            "  inflating: dataset_new/train/no_yawn/997.jpg  \n",
            "  inflating: dataset_new/train/no_yawn/998.jpg  \n",
            "   creating: dataset_new/train/yawn/\n",
            "  inflating: dataset_new/train/yawn/1.jpg  \n",
            "  inflating: dataset_new/train/yawn/10.jpg  \n",
            "  inflating: dataset_new/train/yawn/101.jpg  \n",
            "  inflating: dataset_new/train/yawn/103.jpg  \n",
            "  inflating: dataset_new/train/yawn/104.jpg  \n",
            "  inflating: dataset_new/train/yawn/106.jpg  \n",
            "  inflating: dataset_new/train/yawn/107.jpg  \n",
            "  inflating: dataset_new/train/yawn/108.jpg  \n",
            "  inflating: dataset_new/train/yawn/109.jpg  \n",
            "  inflating: dataset_new/train/yawn/11.jpg  \n",
            "  inflating: dataset_new/train/yawn/110.jpg  \n",
            "  inflating: dataset_new/train/yawn/112.jpg  \n",
            "  inflating: dataset_new/train/yawn/113.jpg  \n",
            "  inflating: dataset_new/train/yawn/114.jpg  \n",
            "  inflating: dataset_new/train/yawn/115.jpg  \n",
            "  inflating: dataset_new/train/yawn/117.jpg  \n",
            "  inflating: dataset_new/train/yawn/118.jpg  \n",
            "  inflating: dataset_new/train/yawn/12.jpg  \n",
            "  inflating: dataset_new/train/yawn/120.jpg  \n",
            "  inflating: dataset_new/train/yawn/123.jpg  \n",
            "  inflating: dataset_new/train/yawn/124.jpg  \n",
            "  inflating: dataset_new/train/yawn/125.jpg  \n",
            "  inflating: dataset_new/train/yawn/126.jpg  \n",
            "  inflating: dataset_new/train/yawn/128.jpg  \n",
            "  inflating: dataset_new/train/yawn/129.jpg  \n",
            "  inflating: dataset_new/train/yawn/13.jpg  \n",
            "  inflating: dataset_new/train/yawn/130.jpg  \n",
            "  inflating: dataset_new/train/yawn/132.jpg  \n",
            "  inflating: dataset_new/train/yawn/133.jpg  \n",
            "  inflating: dataset_new/train/yawn/135.jpg  \n",
            "  inflating: dataset_new/train/yawn/136.jpg  \n",
            "  inflating: dataset_new/train/yawn/137.jpg  \n",
            "  inflating: dataset_new/train/yawn/138.jpg  \n",
            "  inflating: dataset_new/train/yawn/139.jpg  \n",
            "  inflating: dataset_new/train/yawn/141.jpg  \n",
            "  inflating: dataset_new/train/yawn/142.jpg  \n",
            "  inflating: dataset_new/train/yawn/143.jpg  \n",
            "  inflating: dataset_new/train/yawn/144.jpg  \n",
            "  inflating: dataset_new/train/yawn/146.jpg  \n",
            "  inflating: dataset_new/train/yawn/147.jpg  \n",
            "  inflating: dataset_new/train/yawn/149.jpg  \n",
            "  inflating: dataset_new/train/yawn/15.jpg  \n",
            "  inflating: dataset_new/train/yawn/150.jpg  \n",
            "  inflating: dataset_new/train/yawn/151.jpg  \n",
            "  inflating: dataset_new/train/yawn/152.jpg  \n",
            "  inflating: dataset_new/train/yawn/153.jpg  \n",
            "  inflating: dataset_new/train/yawn/154.jpg  \n",
            "  inflating: dataset_new/train/yawn/155.jpg  \n",
            "  inflating: dataset_new/train/yawn/156.jpg  \n",
            "  inflating: dataset_new/train/yawn/157.jpg  \n",
            "  inflating: dataset_new/train/yawn/158.jpg  \n",
            "  inflating: dataset_new/train/yawn/159.jpg  \n",
            "  inflating: dataset_new/train/yawn/16.jpg  \n",
            "  inflating: dataset_new/train/yawn/161.jpg  \n",
            "  inflating: dataset_new/train/yawn/162.jpg  \n",
            "  inflating: dataset_new/train/yawn/163.jpg  \n",
            "  inflating: dataset_new/train/yawn/164.jpg  \n",
            "  inflating: dataset_new/train/yawn/165.jpg  \n",
            "  inflating: dataset_new/train/yawn/166.jpg  \n",
            "  inflating: dataset_new/train/yawn/167.jpg  \n",
            "  inflating: dataset_new/train/yawn/17.jpg  \n",
            "  inflating: dataset_new/train/yawn/170.jpg  \n",
            "  inflating: dataset_new/train/yawn/171.jpg  \n",
            "  inflating: dataset_new/train/yawn/172.jpg  \n",
            "  inflating: dataset_new/train/yawn/173.jpg  \n",
            "  inflating: dataset_new/train/yawn/174.jpg  \n",
            "  inflating: dataset_new/train/yawn/175.jpg  \n",
            "  inflating: dataset_new/train/yawn/176.jpg  \n",
            "  inflating: dataset_new/train/yawn/178.jpg  \n",
            "  inflating: dataset_new/train/yawn/179.jpg  \n",
            "  inflating: dataset_new/train/yawn/18.jpg  \n",
            "  inflating: dataset_new/train/yawn/180.jpg  \n",
            "  inflating: dataset_new/train/yawn/181.jpg  \n",
            "  inflating: dataset_new/train/yawn/182.jpg  \n",
            "  inflating: dataset_new/train/yawn/183.jpg  \n",
            "  inflating: dataset_new/train/yawn/184.jpg  \n",
            "  inflating: dataset_new/train/yawn/185.jpg  \n",
            "  inflating: dataset_new/train/yawn/186.jpg  \n",
            "  inflating: dataset_new/train/yawn/187.jpg  \n",
            "  inflating: dataset_new/train/yawn/19.jpg  \n",
            "  inflating: dataset_new/train/yawn/190.jpg  \n",
            "  inflating: dataset_new/train/yawn/191.jpg  \n",
            "  inflating: dataset_new/train/yawn/192.jpg  \n",
            "  inflating: dataset_new/train/yawn/193.jpg  \n",
            "  inflating: dataset_new/train/yawn/194.jpg  \n",
            "  inflating: dataset_new/train/yawn/195.jpg  \n",
            "  inflating: dataset_new/train/yawn/196.jpg  \n",
            "  inflating: dataset_new/train/yawn/197.jpg  \n",
            "  inflating: dataset_new/train/yawn/198.jpg  \n",
            "  inflating: dataset_new/train/yawn/199.jpg  \n",
            "  inflating: dataset_new/train/yawn/2.jpg  \n",
            "  inflating: dataset_new/train/yawn/20.jpg  \n",
            "  inflating: dataset_new/train/yawn/200.jpg  \n",
            "  inflating: dataset_new/train/yawn/201.jpg  \n",
            "  inflating: dataset_new/train/yawn/202.jpg  \n",
            "  inflating: dataset_new/train/yawn/203.jpg  \n",
            "  inflating: dataset_new/train/yawn/204.jpg  \n",
            "  inflating: dataset_new/train/yawn/207.jpg  \n",
            "  inflating: dataset_new/train/yawn/208.jpg  \n",
            "  inflating: dataset_new/train/yawn/209.jpg  \n",
            "  inflating: dataset_new/train/yawn/21.jpg  \n",
            "  inflating: dataset_new/train/yawn/210.jpg  \n",
            "  inflating: dataset_new/train/yawn/211.jpg  \n",
            "  inflating: dataset_new/train/yawn/212.jpg  \n",
            "  inflating: dataset_new/train/yawn/213.jpg  \n",
            "  inflating: dataset_new/train/yawn/215.jpg  \n",
            "  inflating: dataset_new/train/yawn/216.jpg  \n",
            "  inflating: dataset_new/train/yawn/217.jpg  \n",
            "  inflating: dataset_new/train/yawn/218.jpg  \n",
            "  inflating: dataset_new/train/yawn/219.jpg  \n",
            "  inflating: dataset_new/train/yawn/22.jpg  \n",
            "  inflating: dataset_new/train/yawn/220.jpg  \n",
            "  inflating: dataset_new/train/yawn/221.jpg  \n",
            "  inflating: dataset_new/train/yawn/222.jpg  \n",
            "  inflating: dataset_new/train/yawn/223.jpg  \n",
            "  inflating: dataset_new/train/yawn/224.jpg  \n",
            "  inflating: dataset_new/train/yawn/225.jpg  \n",
            "  inflating: dataset_new/train/yawn/226.jpg  \n",
            "  inflating: dataset_new/train/yawn/227.jpg  \n",
            "  inflating: dataset_new/train/yawn/228.jpg  \n",
            "  inflating: dataset_new/train/yawn/23.jpg  \n",
            "  inflating: dataset_new/train/yawn/230.jpg  \n",
            "  inflating: dataset_new/train/yawn/231.jpg  \n",
            "  inflating: dataset_new/train/yawn/232.jpg  \n",
            "  inflating: dataset_new/train/yawn/236.jpg  \n",
            "  inflating: dataset_new/train/yawn/237.jpg  \n",
            "  inflating: dataset_new/train/yawn/238.jpg  \n",
            "  inflating: dataset_new/train/yawn/24.jpg  \n",
            "  inflating: dataset_new/train/yawn/241.jpg  \n",
            "  inflating: dataset_new/train/yawn/242.jpg  \n",
            "  inflating: dataset_new/train/yawn/243.jpg  \n",
            "  inflating: dataset_new/train/yawn/244.jpg  \n",
            "  inflating: dataset_new/train/yawn/245.jpg  \n",
            "  inflating: dataset_new/train/yawn/246.jpg  \n",
            "  inflating: dataset_new/train/yawn/247.jpg  \n",
            "  inflating: dataset_new/train/yawn/25.jpg  \n",
            "  inflating: dataset_new/train/yawn/250.jpg  \n",
            "  inflating: dataset_new/train/yawn/251.jpg  \n",
            "  inflating: dataset_new/train/yawn/252.jpg  \n",
            "  inflating: dataset_new/train/yawn/253.jpg  \n",
            "  inflating: dataset_new/train/yawn/254.jpg  \n",
            "  inflating: dataset_new/train/yawn/255.jpg  \n",
            "  inflating: dataset_new/train/yawn/256.jpg  \n",
            "  inflating: dataset_new/train/yawn/258.jpg  \n",
            "  inflating: dataset_new/train/yawn/26.jpg  \n",
            "  inflating: dataset_new/train/yawn/260.jpg  \n",
            "  inflating: dataset_new/train/yawn/261.jpg  \n",
            "  inflating: dataset_new/train/yawn/262.jpg  \n",
            "  inflating: dataset_new/train/yawn/263.jpg  \n",
            "  inflating: dataset_new/train/yawn/264.jpg  \n",
            "  inflating: dataset_new/train/yawn/265.jpg  \n",
            "  inflating: dataset_new/train/yawn/266.jpg  \n",
            "  inflating: dataset_new/train/yawn/267.jpg  \n",
            "  inflating: dataset_new/train/yawn/268.jpg  \n",
            "  inflating: dataset_new/train/yawn/269.jpg  \n",
            "  inflating: dataset_new/train/yawn/27.jpg  \n",
            "  inflating: dataset_new/train/yawn/270.jpg  \n",
            "  inflating: dataset_new/train/yawn/271.jpg  \n",
            "  inflating: dataset_new/train/yawn/272.jpg  \n",
            "  inflating: dataset_new/train/yawn/273.jpg  \n",
            "  inflating: dataset_new/train/yawn/274.jpg  \n",
            "  inflating: dataset_new/train/yawn/275.jpg  \n",
            "  inflating: dataset_new/train/yawn/276.jpg  \n",
            "  inflating: dataset_new/train/yawn/277.jpg  \n",
            "  inflating: dataset_new/train/yawn/278.jpg  \n",
            "  inflating: dataset_new/train/yawn/279.jpg  \n",
            "  inflating: dataset_new/train/yawn/28.jpg  \n",
            "  inflating: dataset_new/train/yawn/280.jpg  \n",
            "  inflating: dataset_new/train/yawn/281.jpg  \n",
            "  inflating: dataset_new/train/yawn/282.jpg  \n",
            "  inflating: dataset_new/train/yawn/283.jpg  \n",
            "  inflating: dataset_new/train/yawn/284.jpg  \n",
            "  inflating: dataset_new/train/yawn/285.jpg  \n",
            "  inflating: dataset_new/train/yawn/287.jpg  \n",
            "  inflating: dataset_new/train/yawn/288.jpg  \n",
            "  inflating: dataset_new/train/yawn/289.jpg  \n",
            "  inflating: dataset_new/train/yawn/29.jpg  \n",
            "  inflating: dataset_new/train/yawn/290.jpg  \n",
            "  inflating: dataset_new/train/yawn/291.jpg  \n",
            "  inflating: dataset_new/train/yawn/292.jpg  \n",
            "  inflating: dataset_new/train/yawn/293.jpg  \n",
            "  inflating: dataset_new/train/yawn/294.jpg  \n",
            "  inflating: dataset_new/train/yawn/295.jpg  \n",
            "  inflating: dataset_new/train/yawn/296.jpg  \n",
            "  inflating: dataset_new/train/yawn/297.jpg  \n",
            "  inflating: dataset_new/train/yawn/298.jpg  \n",
            "  inflating: dataset_new/train/yawn/299.jpg  \n",
            "  inflating: dataset_new/train/yawn/3.jpg  \n",
            "  inflating: dataset_new/train/yawn/30.jpg  \n",
            "  inflating: dataset_new/train/yawn/300.jpg  \n",
            "  inflating: dataset_new/train/yawn/301.jpg  \n",
            "  inflating: dataset_new/train/yawn/302.jpg  \n",
            "  inflating: dataset_new/train/yawn/303.jpg  \n",
            "  inflating: dataset_new/train/yawn/304.jpg  \n",
            "  inflating: dataset_new/train/yawn/307.jpg  \n",
            "  inflating: dataset_new/train/yawn/308.jpg  \n",
            "  inflating: dataset_new/train/yawn/309.jpg  \n",
            "  inflating: dataset_new/train/yawn/31.jpg  \n",
            "  inflating: dataset_new/train/yawn/310.jpg  \n",
            "  inflating: dataset_new/train/yawn/311.jpg  \n",
            "  inflating: dataset_new/train/yawn/312.jpg  \n",
            "  inflating: dataset_new/train/yawn/313.jpg  \n",
            "  inflating: dataset_new/train/yawn/314.jpg  \n",
            "  inflating: dataset_new/train/yawn/315.jpg  \n",
            "  inflating: dataset_new/train/yawn/316.jpg  \n",
            "  inflating: dataset_new/train/yawn/317.jpg  \n",
            "  inflating: dataset_new/train/yawn/32.jpg  \n",
            "  inflating: dataset_new/train/yawn/320.jpg  \n",
            "  inflating: dataset_new/train/yawn/321.jpg  \n",
            "  inflating: dataset_new/train/yawn/323.jpg  \n",
            "  inflating: dataset_new/train/yawn/324.jpg  \n",
            "  inflating: dataset_new/train/yawn/325.jpg  \n",
            "  inflating: dataset_new/train/yawn/326.jpg  \n",
            "  inflating: dataset_new/train/yawn/327.jpg  \n",
            "  inflating: dataset_new/train/yawn/328.jpg  \n",
            "  inflating: dataset_new/train/yawn/329.jpg  \n",
            "  inflating: dataset_new/train/yawn/33.jpg  \n",
            "  inflating: dataset_new/train/yawn/330.jpg  \n",
            "  inflating: dataset_new/train/yawn/334.jpg  \n",
            "  inflating: dataset_new/train/yawn/335.jpg  \n",
            "  inflating: dataset_new/train/yawn/337.jpg  \n",
            "  inflating: dataset_new/train/yawn/338.jpg  \n",
            "  inflating: dataset_new/train/yawn/339.jpg  \n",
            "  inflating: dataset_new/train/yawn/34.jpg  \n",
            "  inflating: dataset_new/train/yawn/340.jpg  \n",
            "  inflating: dataset_new/train/yawn/341.jpg  \n",
            "  inflating: dataset_new/train/yawn/342.jpg  \n",
            "  inflating: dataset_new/train/yawn/343.jpg  \n",
            "  inflating: dataset_new/train/yawn/344.jpg  \n",
            "  inflating: dataset_new/train/yawn/345.jpg  \n",
            "  inflating: dataset_new/train/yawn/346.jpg  \n",
            "  inflating: dataset_new/train/yawn/347.jpg  \n",
            "  inflating: dataset_new/train/yawn/348.jpg  \n",
            "  inflating: dataset_new/train/yawn/35.jpg  \n",
            "  inflating: dataset_new/train/yawn/350.jpg  \n",
            "  inflating: dataset_new/train/yawn/351.jpg  \n",
            "  inflating: dataset_new/train/yawn/352.jpg  \n",
            "  inflating: dataset_new/train/yawn/353.jpg  \n",
            "  inflating: dataset_new/train/yawn/354.jpg  \n",
            "  inflating: dataset_new/train/yawn/355.jpg  \n",
            "  inflating: dataset_new/train/yawn/356.jpg  \n",
            "  inflating: dataset_new/train/yawn/358.jpg  \n",
            "  inflating: dataset_new/train/yawn/359.jpg  \n",
            "  inflating: dataset_new/train/yawn/36.jpg  \n",
            "  inflating: dataset_new/train/yawn/360.jpg  \n",
            "  inflating: dataset_new/train/yawn/361.jpg  \n",
            "  inflating: dataset_new/train/yawn/363.jpg  \n",
            "  inflating: dataset_new/train/yawn/364.jpg  \n",
            "  inflating: dataset_new/train/yawn/365.jpg  \n",
            "  inflating: dataset_new/train/yawn/367.jpg  \n",
            "  inflating: dataset_new/train/yawn/368.jpg  \n",
            "  inflating: dataset_new/train/yawn/369.jpg  \n",
            "  inflating: dataset_new/train/yawn/37.jpg  \n",
            "  inflating: dataset_new/train/yawn/370.jpg  \n",
            "  inflating: dataset_new/train/yawn/371.jpg  \n",
            "  inflating: dataset_new/train/yawn/372.jpg  \n",
            "  inflating: dataset_new/train/yawn/373.jpg  \n",
            "  inflating: dataset_new/train/yawn/374.jpg  \n",
            "  inflating: dataset_new/train/yawn/375.jpg  \n",
            "  inflating: dataset_new/train/yawn/376.jpg  \n",
            "  inflating: dataset_new/train/yawn/377.jpg  \n",
            "  inflating: dataset_new/train/yawn/378.jpg  \n",
            "  inflating: dataset_new/train/yawn/38.jpg  \n",
            "  inflating: dataset_new/train/yawn/380.jpg  \n",
            "  inflating: dataset_new/train/yawn/383.jpg  \n",
            "  inflating: dataset_new/train/yawn/384.jpg  \n",
            "  inflating: dataset_new/train/yawn/387.jpg  \n",
            "  inflating: dataset_new/train/yawn/388.jpg  \n",
            "  inflating: dataset_new/train/yawn/389.jpg  \n",
            "  inflating: dataset_new/train/yawn/39.jpg  \n",
            "  inflating: dataset_new/train/yawn/390.jpg  \n",
            "  inflating: dataset_new/train/yawn/391.jpg  \n",
            "  inflating: dataset_new/train/yawn/392.jpg  \n",
            "  inflating: dataset_new/train/yawn/393.jpg  \n",
            "  inflating: dataset_new/train/yawn/394.jpg  \n",
            "  inflating: dataset_new/train/yawn/395.jpg  \n",
            "  inflating: dataset_new/train/yawn/396.jpg  \n",
            "  inflating: dataset_new/train/yawn/397.jpg  \n",
            "  inflating: dataset_new/train/yawn/398.jpg  \n",
            "  inflating: dataset_new/train/yawn/399.jpg  \n",
            "  inflating: dataset_new/train/yawn/4.jpg  \n",
            "  inflating: dataset_new/train/yawn/40.jpg  \n",
            "  inflating: dataset_new/train/yawn/400.jpg  \n",
            "  inflating: dataset_new/train/yawn/401.jpg  \n",
            "  inflating: dataset_new/train/yawn/402.jpg  \n",
            "  inflating: dataset_new/train/yawn/403.jpg  \n",
            "  inflating: dataset_new/train/yawn/404.jpg  \n",
            "  inflating: dataset_new/train/yawn/405.jpg  \n",
            "  inflating: dataset_new/train/yawn/406.jpg  \n",
            "  inflating: dataset_new/train/yawn/407.jpg  \n",
            "  inflating: dataset_new/train/yawn/408.jpg  \n",
            "  inflating: dataset_new/train/yawn/41.jpg  \n",
            "  inflating: dataset_new/train/yawn/410.jpg  \n",
            "  inflating: dataset_new/train/yawn/411.jpg  \n",
            "  inflating: dataset_new/train/yawn/412.jpg  \n",
            "  inflating: dataset_new/train/yawn/413.jpg  \n",
            "  inflating: dataset_new/train/yawn/414.jpg  \n",
            "  inflating: dataset_new/train/yawn/415.jpg  \n",
            "  inflating: dataset_new/train/yawn/416.jpg  \n",
            "  inflating: dataset_new/train/yawn/417.jpg  \n",
            "  inflating: dataset_new/train/yawn/418.jpg  \n",
            "  inflating: dataset_new/train/yawn/419.jpg  \n",
            "  inflating: dataset_new/train/yawn/42.jpg  \n",
            "  inflating: dataset_new/train/yawn/420.jpg  \n",
            "  inflating: dataset_new/train/yawn/421.jpg  \n",
            "  inflating: dataset_new/train/yawn/422.jpg  \n",
            "  inflating: dataset_new/train/yawn/423.jpg  \n",
            "  inflating: dataset_new/train/yawn/424.jpg  \n",
            "  inflating: dataset_new/train/yawn/425.jpg  \n",
            "  inflating: dataset_new/train/yawn/426.jpg  \n",
            "  inflating: dataset_new/train/yawn/427.jpg  \n",
            "  inflating: dataset_new/train/yawn/428.jpg  \n",
            "  inflating: dataset_new/train/yawn/429.jpg  \n",
            "  inflating: dataset_new/train/yawn/43.jpg  \n",
            "  inflating: dataset_new/train/yawn/430.jpg  \n",
            "  inflating: dataset_new/train/yawn/431.jpg  \n",
            "  inflating: dataset_new/train/yawn/432.jpg  \n",
            "  inflating: dataset_new/train/yawn/433.jpg  \n",
            "  inflating: dataset_new/train/yawn/434.jpg  \n",
            "  inflating: dataset_new/train/yawn/435.jpg  \n",
            "  inflating: dataset_new/train/yawn/436.jpg  \n",
            "  inflating: dataset_new/train/yawn/437.jpg  \n",
            "  inflating: dataset_new/train/yawn/438.jpg  \n",
            "  inflating: dataset_new/train/yawn/439.jpg  \n",
            "  inflating: dataset_new/train/yawn/44.jpg  \n",
            "  inflating: dataset_new/train/yawn/440.jpg  \n",
            "  inflating: dataset_new/train/yawn/441.jpg  \n",
            "  inflating: dataset_new/train/yawn/442.jpg  \n",
            "  inflating: dataset_new/train/yawn/444.jpg  \n",
            "  inflating: dataset_new/train/yawn/445.jpg  \n",
            "  inflating: dataset_new/train/yawn/446.jpg  \n",
            "  inflating: dataset_new/train/yawn/447.jpg  \n",
            "  inflating: dataset_new/train/yawn/448.jpg  \n",
            "  inflating: dataset_new/train/yawn/449.jpg  \n",
            "  inflating: dataset_new/train/yawn/45.jpg  \n",
            "  inflating: dataset_new/train/yawn/450.jpg  \n",
            "  inflating: dataset_new/train/yawn/452.jpg  \n",
            "  inflating: dataset_new/train/yawn/453.jpg  \n",
            "  inflating: dataset_new/train/yawn/454.jpg  \n",
            "  inflating: dataset_new/train/yawn/456.jpg  \n",
            "  inflating: dataset_new/train/yawn/457.jpg  \n",
            "  inflating: dataset_new/train/yawn/458.jpg  \n",
            "  inflating: dataset_new/train/yawn/459.jpg  \n",
            "  inflating: dataset_new/train/yawn/46.jpg  \n",
            "  inflating: dataset_new/train/yawn/460.jpg  \n",
            "  inflating: dataset_new/train/yawn/462.jpg  \n",
            "  inflating: dataset_new/train/yawn/463.jpg  \n",
            "  inflating: dataset_new/train/yawn/464.jpg  \n",
            "  inflating: dataset_new/train/yawn/467.jpg  \n",
            "  inflating: dataset_new/train/yawn/468.jpg  \n",
            "  inflating: dataset_new/train/yawn/469.jpg  \n",
            "  inflating: dataset_new/train/yawn/470.jpg  \n",
            "  inflating: dataset_new/train/yawn/471.jpg  \n",
            "  inflating: dataset_new/train/yawn/472.jpg  \n",
            "  inflating: dataset_new/train/yawn/473.jpg  \n",
            "  inflating: dataset_new/train/yawn/474.jpg  \n",
            "  inflating: dataset_new/train/yawn/475.jpg  \n",
            "  inflating: dataset_new/train/yawn/476.jpg  \n",
            "  inflating: dataset_new/train/yawn/478.jpg  \n",
            "  inflating: dataset_new/train/yawn/479.jpg  \n",
            "  inflating: dataset_new/train/yawn/48.jpg  \n",
            "  inflating: dataset_new/train/yawn/481.jpg  \n",
            "  inflating: dataset_new/train/yawn/483.jpg  \n",
            "  inflating: dataset_new/train/yawn/484.jpg  \n",
            "  inflating: dataset_new/train/yawn/485.jpg  \n",
            "  inflating: dataset_new/train/yawn/486.jpg  \n",
            "  inflating: dataset_new/train/yawn/487.jpg  \n",
            "  inflating: dataset_new/train/yawn/488.jpg  \n",
            "  inflating: dataset_new/train/yawn/489.jpg  \n",
            "  inflating: dataset_new/train/yawn/490.jpg  \n",
            "  inflating: dataset_new/train/yawn/491.jpg  \n",
            "  inflating: dataset_new/train/yawn/492.jpg  \n",
            "  inflating: dataset_new/train/yawn/493.jpg  \n",
            "  inflating: dataset_new/train/yawn/494.jpg  \n",
            "  inflating: dataset_new/train/yawn/495.jpg  \n",
            "  inflating: dataset_new/train/yawn/496.jpg  \n",
            "  inflating: dataset_new/train/yawn/497.jpg  \n",
            "  inflating: dataset_new/train/yawn/498.jpg  \n",
            "  inflating: dataset_new/train/yawn/499.jpg  \n",
            "  inflating: dataset_new/train/yawn/5.jpg  \n",
            "  inflating: dataset_new/train/yawn/50.jpg  \n",
            "  inflating: dataset_new/train/yawn/500.jpg  \n",
            "  inflating: dataset_new/train/yawn/501.jpg  \n",
            "  inflating: dataset_new/train/yawn/502.jpg  \n",
            "  inflating: dataset_new/train/yawn/503.jpg  \n",
            "  inflating: dataset_new/train/yawn/504.jpg  \n",
            "  inflating: dataset_new/train/yawn/506.jpg  \n",
            "  inflating: dataset_new/train/yawn/507.jpg  \n",
            "  inflating: dataset_new/train/yawn/508.jpg  \n",
            "  inflating: dataset_new/train/yawn/509.jpg  \n",
            "  inflating: dataset_new/train/yawn/51.jpg  \n",
            "  inflating: dataset_new/train/yawn/510.jpg  \n",
            "  inflating: dataset_new/train/yawn/512.jpg  \n",
            "  inflating: dataset_new/train/yawn/514.jpg  \n",
            "  inflating: dataset_new/train/yawn/515.jpg  \n",
            "  inflating: dataset_new/train/yawn/516.jpg  \n",
            "  inflating: dataset_new/train/yawn/517.jpg  \n",
            "  inflating: dataset_new/train/yawn/518.jpg  \n",
            "  inflating: dataset_new/train/yawn/519.jpg  \n",
            "  inflating: dataset_new/train/yawn/52.jpg  \n",
            "  inflating: dataset_new/train/yawn/520.jpg  \n",
            "  inflating: dataset_new/train/yawn/521.jpg  \n",
            "  inflating: dataset_new/train/yawn/522.jpg  \n",
            "  inflating: dataset_new/train/yawn/523.jpg  \n",
            "  inflating: dataset_new/train/yawn/524.jpg  \n",
            "  inflating: dataset_new/train/yawn/525.jpg  \n",
            "  inflating: dataset_new/train/yawn/528.jpg  \n",
            "  inflating: dataset_new/train/yawn/53.jpg  \n",
            "  inflating: dataset_new/train/yawn/530.jpg  \n",
            "  inflating: dataset_new/train/yawn/531.jpg  \n",
            "  inflating: dataset_new/train/yawn/532.jpg  \n",
            "  inflating: dataset_new/train/yawn/533.jpg  \n",
            "  inflating: dataset_new/train/yawn/534.jpg  \n",
            "  inflating: dataset_new/train/yawn/535.jpg  \n",
            "  inflating: dataset_new/train/yawn/536.jpg  \n",
            "  inflating: dataset_new/train/yawn/537.jpg  \n",
            "  inflating: dataset_new/train/yawn/539.jpg  \n",
            "  inflating: dataset_new/train/yawn/54.jpg  \n",
            "  inflating: dataset_new/train/yawn/540.jpg  \n",
            "  inflating: dataset_new/train/yawn/541.jpg  \n",
            "  inflating: dataset_new/train/yawn/542.jpg  \n",
            "  inflating: dataset_new/train/yawn/543.jpg  \n",
            "  inflating: dataset_new/train/yawn/544.jpg  \n",
            "  inflating: dataset_new/train/yawn/545.jpg  \n",
            "  inflating: dataset_new/train/yawn/546.jpg  \n",
            "  inflating: dataset_new/train/yawn/549.jpg  \n",
            "  inflating: dataset_new/train/yawn/55.jpg  \n",
            "  inflating: dataset_new/train/yawn/550.jpg  \n",
            "  inflating: dataset_new/train/yawn/552.jpg  \n",
            "  inflating: dataset_new/train/yawn/553.jpg  \n",
            "  inflating: dataset_new/train/yawn/555.jpg  \n",
            "  inflating: dataset_new/train/yawn/556.jpg  \n",
            "  inflating: dataset_new/train/yawn/557.jpg  \n",
            "  inflating: dataset_new/train/yawn/558.jpg  \n",
            "  inflating: dataset_new/train/yawn/56.jpg  \n",
            "  inflating: dataset_new/train/yawn/560.jpg  \n",
            "  inflating: dataset_new/train/yawn/561.jpg  \n",
            "  inflating: dataset_new/train/yawn/562.jpg  \n",
            "  inflating: dataset_new/train/yawn/565.jpg  \n",
            "  inflating: dataset_new/train/yawn/566.jpg  \n",
            "  inflating: dataset_new/train/yawn/567.jpg  \n",
            "  inflating: dataset_new/train/yawn/568.jpg  \n",
            "  inflating: dataset_new/train/yawn/569.jpg  \n",
            "  inflating: dataset_new/train/yawn/57.jpg  \n",
            "  inflating: dataset_new/train/yawn/570.jpg  \n",
            "  inflating: dataset_new/train/yawn/571.jpg  \n",
            "  inflating: dataset_new/train/yawn/572.jpg  \n",
            "  inflating: dataset_new/train/yawn/573.jpg  \n",
            "  inflating: dataset_new/train/yawn/574.jpg  \n",
            "  inflating: dataset_new/train/yawn/575.jpg  \n",
            "  inflating: dataset_new/train/yawn/576.jpg  \n",
            "  inflating: dataset_new/train/yawn/577.jpg  \n",
            "  inflating: dataset_new/train/yawn/578.jpg  \n",
            "  inflating: dataset_new/train/yawn/579.jpg  \n",
            "  inflating: dataset_new/train/yawn/58.jpg  \n",
            "  inflating: dataset_new/train/yawn/580.jpg  \n",
            "  inflating: dataset_new/train/yawn/581.jpg  \n",
            "  inflating: dataset_new/train/yawn/582.jpg  \n",
            "  inflating: dataset_new/train/yawn/583.jpg  \n",
            "  inflating: dataset_new/train/yawn/584.jpg  \n",
            "  inflating: dataset_new/train/yawn/585.jpg  \n",
            "  inflating: dataset_new/train/yawn/586.jpg  \n",
            "  inflating: dataset_new/train/yawn/587.jpg  \n",
            "  inflating: dataset_new/train/yawn/588.jpg  \n",
            "  inflating: dataset_new/train/yawn/589.jpg  \n",
            "  inflating: dataset_new/train/yawn/59.jpg  \n",
            "  inflating: dataset_new/train/yawn/590.jpg  \n",
            "  inflating: dataset_new/train/yawn/591.jpg  \n",
            "  inflating: dataset_new/train/yawn/592.jpg  \n",
            "  inflating: dataset_new/train/yawn/593.jpg  \n",
            "  inflating: dataset_new/train/yawn/594.jpg  \n",
            "  inflating: dataset_new/train/yawn/595.jpg  \n",
            "  inflating: dataset_new/train/yawn/596.jpg  \n",
            "  inflating: dataset_new/train/yawn/597.jpg  \n",
            "  inflating: dataset_new/train/yawn/598.jpg  \n",
            "  inflating: dataset_new/train/yawn/599.jpg  \n",
            "  inflating: dataset_new/train/yawn/6.jpg  \n",
            "  inflating: dataset_new/train/yawn/60.jpg  \n",
            "  inflating: dataset_new/train/yawn/600.jpg  \n",
            "  inflating: dataset_new/train/yawn/601.jpg  \n",
            "  inflating: dataset_new/train/yawn/603.jpg  \n",
            "  inflating: dataset_new/train/yawn/604.jpg  \n",
            "  inflating: dataset_new/train/yawn/605.jpg  \n",
            "  inflating: dataset_new/train/yawn/607.jpg  \n",
            "  inflating: dataset_new/train/yawn/608.jpg  \n",
            "  inflating: dataset_new/train/yawn/609.jpg  \n",
            "  inflating: dataset_new/train/yawn/610.jpg  \n",
            "  inflating: dataset_new/train/yawn/611.jpg  \n",
            "  inflating: dataset_new/train/yawn/612.jpg  \n",
            "  inflating: dataset_new/train/yawn/613.jpg  \n",
            "  inflating: dataset_new/train/yawn/614.jpg  \n",
            "  inflating: dataset_new/train/yawn/615.jpg  \n",
            "  inflating: dataset_new/train/yawn/616.jpg  \n",
            "  inflating: dataset_new/train/yawn/617.jpg  \n",
            "  inflating: dataset_new/train/yawn/618.jpg  \n",
            "  inflating: dataset_new/train/yawn/62.jpg  \n",
            "  inflating: dataset_new/train/yawn/620.jpg  \n",
            "  inflating: dataset_new/train/yawn/621.jpg  \n",
            "  inflating: dataset_new/train/yawn/623.jpg  \n",
            "  inflating: dataset_new/train/yawn/624.jpg  \n",
            "  inflating: dataset_new/train/yawn/625.jpg  \n",
            "  inflating: dataset_new/train/yawn/626.jpg  \n",
            "  inflating: dataset_new/train/yawn/627.jpg  \n",
            "  inflating: dataset_new/train/yawn/628.jpg  \n",
            "  inflating: dataset_new/train/yawn/629.jpg  \n",
            "  inflating: dataset_new/train/yawn/631.jpg  \n",
            "  inflating: dataset_new/train/yawn/633.jpg  \n",
            "  inflating: dataset_new/train/yawn/634.jpg  \n",
            "  inflating: dataset_new/train/yawn/635.jpg  \n",
            "  inflating: dataset_new/train/yawn/636.jpg  \n",
            "  inflating: dataset_new/train/yawn/637.jpg  \n",
            "  inflating: dataset_new/train/yawn/638.jpg  \n",
            "  inflating: dataset_new/train/yawn/639.jpg  \n",
            "  inflating: dataset_new/train/yawn/64.jpg  \n",
            "  inflating: dataset_new/train/yawn/640.jpg  \n",
            "  inflating: dataset_new/train/yawn/641.jpg  \n",
            "  inflating: dataset_new/train/yawn/642.jpg  \n",
            "  inflating: dataset_new/train/yawn/643.jpg  \n",
            "  inflating: dataset_new/train/yawn/644.jpg  \n",
            "  inflating: dataset_new/train/yawn/645.jpg  \n",
            "  inflating: dataset_new/train/yawn/647.jpg  \n",
            "  inflating: dataset_new/train/yawn/648.jpg  \n",
            "  inflating: dataset_new/train/yawn/65.jpg  \n",
            "  inflating: dataset_new/train/yawn/650.jpg  \n",
            "  inflating: dataset_new/train/yawn/651.jpg  \n",
            "  inflating: dataset_new/train/yawn/653.jpg  \n",
            "  inflating: dataset_new/train/yawn/654.jpg  \n",
            "  inflating: dataset_new/train/yawn/655.jpg  \n",
            "  inflating: dataset_new/train/yawn/656.jpg  \n",
            "  inflating: dataset_new/train/yawn/657.jpg  \n",
            "  inflating: dataset_new/train/yawn/658.jpg  \n",
            "  inflating: dataset_new/train/yawn/659.jpg  \n",
            "  inflating: dataset_new/train/yawn/66.jpg  \n",
            "  inflating: dataset_new/train/yawn/660.jpg  \n",
            "  inflating: dataset_new/train/yawn/661.jpg  \n",
            "  inflating: dataset_new/train/yawn/663.jpg  \n",
            "  inflating: dataset_new/train/yawn/664.jpg  \n",
            "  inflating: dataset_new/train/yawn/665.jpg  \n",
            "  inflating: dataset_new/train/yawn/666.jpg  \n",
            "  inflating: dataset_new/train/yawn/667.jpg  \n",
            "  inflating: dataset_new/train/yawn/668.jpg  \n",
            "  inflating: dataset_new/train/yawn/669.jpg  \n",
            "  inflating: dataset_new/train/yawn/67.jpg  \n",
            "  inflating: dataset_new/train/yawn/670.jpg  \n",
            "  inflating: dataset_new/train/yawn/671.jpg  \n",
            "  inflating: dataset_new/train/yawn/672.jpg  \n",
            "  inflating: dataset_new/train/yawn/673.jpg  \n",
            "  inflating: dataset_new/train/yawn/674.jpg  \n",
            "  inflating: dataset_new/train/yawn/675.jpg  \n",
            "  inflating: dataset_new/train/yawn/677.jpg  \n",
            "  inflating: dataset_new/train/yawn/679.jpg  \n",
            "  inflating: dataset_new/train/yawn/68.jpg  \n",
            "  inflating: dataset_new/train/yawn/680.jpg  \n",
            "  inflating: dataset_new/train/yawn/682.jpg  \n",
            "  inflating: dataset_new/train/yawn/683.jpg  \n",
            "  inflating: dataset_new/train/yawn/684.jpg  \n",
            "  inflating: dataset_new/train/yawn/685.jpg  \n",
            "  inflating: dataset_new/train/yawn/687.jpg  \n",
            "  inflating: dataset_new/train/yawn/688.jpg  \n",
            "  inflating: dataset_new/train/yawn/689.jpg  \n",
            "  inflating: dataset_new/train/yawn/69.jpg  \n",
            "  inflating: dataset_new/train/yawn/691.jpg  \n",
            "  inflating: dataset_new/train/yawn/692.jpg  \n",
            "  inflating: dataset_new/train/yawn/693.jpg  \n",
            "  inflating: dataset_new/train/yawn/694.jpg  \n",
            "  inflating: dataset_new/train/yawn/696.jpg  \n",
            "  inflating: dataset_new/train/yawn/697.jpg  \n",
            "  inflating: dataset_new/train/yawn/698.jpg  \n",
            "  inflating: dataset_new/train/yawn/699.jpg  \n",
            "  inflating: dataset_new/train/yawn/7.jpg  \n",
            "  inflating: dataset_new/train/yawn/70.jpg  \n",
            "  inflating: dataset_new/train/yawn/700.jpg  \n",
            "  inflating: dataset_new/train/yawn/701.jpg  \n",
            "  inflating: dataset_new/train/yawn/702.jpg  \n",
            "  inflating: dataset_new/train/yawn/703.jpg  \n",
            "  inflating: dataset_new/train/yawn/704.jpg  \n",
            "  inflating: dataset_new/train/yawn/705.jpg  \n",
            "  inflating: dataset_new/train/yawn/706.jpg  \n",
            "  inflating: dataset_new/train/yawn/708.jpg  \n",
            "  inflating: dataset_new/train/yawn/71.jpg  \n",
            "  inflating: dataset_new/train/yawn/710.jpg  \n",
            "  inflating: dataset_new/train/yawn/712.jpg  \n",
            "  inflating: dataset_new/train/yawn/713.jpg  \n",
            "  inflating: dataset_new/train/yawn/714.jpg  \n",
            "  inflating: dataset_new/train/yawn/716.jpg  \n",
            "  inflating: dataset_new/train/yawn/717.jpg  \n",
            "  inflating: dataset_new/train/yawn/718.jpg  \n",
            "  inflating: dataset_new/train/yawn/72.jpg  \n",
            "  inflating: dataset_new/train/yawn/722.jpg  \n",
            "  inflating: dataset_new/train/yawn/723.jpg  \n",
            "  inflating: dataset_new/train/yawn/724.jpg  \n",
            "  inflating: dataset_new/train/yawn/726.jpg  \n",
            "  inflating: dataset_new/train/yawn/73.jpg  \n",
            "  inflating: dataset_new/train/yawn/74.jpg  \n",
            "  inflating: dataset_new/train/yawn/75.jpg  \n",
            "  inflating: dataset_new/train/yawn/76.jpg  \n",
            "  inflating: dataset_new/train/yawn/77.jpg  \n",
            "  inflating: dataset_new/train/yawn/78.jpg  \n",
            "  inflating: dataset_new/train/yawn/79.jpg  \n",
            "  inflating: dataset_new/train/yawn/8.jpg  \n",
            "  inflating: dataset_new/train/yawn/80.jpg  \n",
            "  inflating: dataset_new/train/yawn/82.jpg  \n",
            "  inflating: dataset_new/train/yawn/83.jpg  \n",
            "  inflating: dataset_new/train/yawn/85.jpg  \n",
            "  inflating: dataset_new/train/yawn/87.jpg  \n",
            "  inflating: dataset_new/train/yawn/88.jpg  \n",
            "  inflating: dataset_new/train/yawn/89.jpg  \n",
            "  inflating: dataset_new/train/yawn/9.jpg  \n",
            "  inflating: dataset_new/train/yawn/90.jpg  \n",
            "  inflating: dataset_new/train/yawn/91.jpg  \n",
            "  inflating: dataset_new/train/yawn/92.jpg  \n",
            "  inflating: dataset_new/train/yawn/93.jpg  \n",
            "  inflating: dataset_new/train/yawn/94.jpg  \n",
            "  inflating: dataset_new/train/yawn/96.jpg  \n",
            "  inflating: dataset_new/train/yawn/97.jpg  \n",
            "  inflating: dataset_new/train/yawn/98.jpg  \n",
            "  inflating: dataset_new/train/yawn/99.jpg  \n"
          ]
        }
      ]
    },
    {
      "cell_type": "code",
      "source": [
        "from google.colab import drive\n",
        "drive.mount('/content/drive')"
      ],
      "metadata": {
        "id": "2K0DufhoESUD",
        "outputId": "44b85325-6681-4c55-fecb-c235ae94a3a7",
        "colab": {
          "base_uri": "https://localhost:8080/"
        }
      },
      "id": "2K0DufhoESUD",
      "execution_count": 3,
      "outputs": [
        {
          "output_type": "stream",
          "name": "stdout",
          "text": [
            "Mounted at /content/drive\n"
          ]
        }
      ]
    },
    {
      "cell_type": "code",
      "source": [
        "!rm -r /content/drive/MyDrive/archive/dataset_new/test/Closed"
      ],
      "metadata": {
        "id": "slZ-ArHHF0Y-",
        "colab": {
          "base_uri": "https://localhost:8080/"
        },
        "outputId": "6c995aaa-69ce-40a5-a7c4-14a602058ca9"
      },
      "id": "slZ-ArHHF0Y-",
      "execution_count": null,
      "outputs": [
        {
          "output_type": "stream",
          "name": "stdout",
          "text": [
            "rm: cannot remove '/content/drive/MyDrive/archive/dataset_new/test/Closed': No such file or directory\n"
          ]
        }
      ]
    },
    {
      "cell_type": "code",
      "source": [
        "!rm -r /content/drive/MyDrive/archive/dataset_new/test/Open"
      ],
      "metadata": {
        "id": "3lLArSQEGFwd",
        "colab": {
          "base_uri": "https://localhost:8080/"
        },
        "outputId": "2736964b-0038-48b3-cd5a-103b49bffeee"
      },
      "id": "3lLArSQEGFwd",
      "execution_count": null,
      "outputs": [
        {
          "output_type": "stream",
          "name": "stdout",
          "text": [
            "rm: cannot remove '/content/drive/MyDrive/archive/dataset_new/test/Open': No such file or directory\n"
          ]
        }
      ]
    },
    {
      "cell_type": "code",
      "source": [
        "!rm -r /content/drive/MyDrive/archive/dataset_new/train/Closed"
      ],
      "metadata": {
        "id": "vmU2iFYEGLAE",
        "colab": {
          "base_uri": "https://localhost:8080/"
        },
        "outputId": "1db79214-dd84-4591-b9f2-8a772da46518"
      },
      "id": "vmU2iFYEGLAE",
      "execution_count": null,
      "outputs": [
        {
          "output_type": "stream",
          "name": "stdout",
          "text": [
            "rm: cannot remove '/content/drive/MyDrive/archive/dataset_new/train/Closed': No such file or directory\n"
          ]
        }
      ]
    },
    {
      "cell_type": "code",
      "source": [
        "!rm -r /content/drive/MyDrive/archive/dataset_new/train/Open"
      ],
      "metadata": {
        "id": "FBUOmNQ1GU9E"
      },
      "id": "FBUOmNQ1GU9E",
      "execution_count": null,
      "outputs": []
    },
    {
      "cell_type": "code",
      "execution_count": 4,
      "id": "0d94c358",
      "metadata": {
        "scrolled": true,
        "id": "0d94c358"
      },
      "outputs": [],
      "source": [
        "import tensorflow as tf\n",
        "import matplotlib.pyplot as plt\n",
        "import cv2"
      ]
    },
    {
      "cell_type": "code",
      "execution_count": 6,
      "id": "a89a009f",
      "metadata": {
        "id": "a89a009f"
      },
      "outputs": [],
      "source": [
        "from keras.preprocessing.image import ImageDataGenerator\n",
        "from tensorflow.keras.utils import to_categorical"
      ]
    },
    {
      "cell_type": "code",
      "source": [
        "!rm -r /content/drowsiness_cropped/test/.ipynb_checkpoints"
      ],
      "metadata": {
        "id": "_2a_k9Ssu1Sq",
        "outputId": "bcc61bb2-68ee-46b6-b7c8-bc927eb3fb8f",
        "colab": {
          "base_uri": "https://localhost:8080/"
        }
      },
      "id": "_2a_k9Ssu1Sq",
      "execution_count": 20,
      "outputs": [
        {
          "output_type": "stream",
          "name": "stdout",
          "text": [
            "rm: cannot remove '/content/drowsiness_cropped/test/.ipynb_checkpoints': No such file or directory\n"
          ]
        }
      ]
    },
    {
      "cell_type": "code",
      "execution_count": 7,
      "id": "63bd9f1c",
      "metadata": {
        "id": "63bd9f1c",
        "outputId": "e110c8f7-9368-421a-a9fa-23e79e4b1586",
        "colab": {
          "base_uri": "https://localhost:8080/"
        }
      },
      "outputs": [
        {
          "output_type": "stream",
          "name": "stdout",
          "text": [
            "Found 1310 images belonging to 2 classes.\n"
          ]
        }
      ],
      "source": [
        "train_datagen = ImageDataGenerator(\n",
        "        rescale=1./255,\n",
        "        shear_range=0.2,\n",
        "        zoom_range=0.2,\n",
        "        horizontal_flip=True)\n",
        "train_generator = train_datagen.flow_from_directory(\n",
        "        '/content/drive/MyDrive/drowsiness_cropped (1)/drowsiness_cropped/train',\n",
        "        target_size=(64, 64),\n",
        "        batch_size=32,\n",
        "        class_mode='categorical')"
      ]
    },
    {
      "cell_type": "code",
      "execution_count": 8,
      "id": "e1b752bb",
      "metadata": {
        "id": "e1b752bb",
        "outputId": "2d9fe739-ad24-45e1-f06d-349856dc5cfe",
        "colab": {
          "base_uri": "https://localhost:8080/"
        }
      },
      "outputs": [
        {
          "output_type": "stream",
          "name": "stdout",
          "text": [
            "Found 215 images belonging to 2 classes.\n"
          ]
        }
      ],
      "source": [
        "test_datagen = ImageDataGenerator(rescale=1./255)\n",
        "validation_generator = test_datagen.flow_from_directory(\n",
        "        '/content/drive/MyDrive/drowsiness_cropped (1)/drowsiness_cropped/test',\n",
        "        target_size=(64,64),\n",
        "        batch_size=32,\n",
        "        class_mode='categorical')"
      ]
    },
    {
      "cell_type": "code",
      "source": [
        "im=plt.imread(\"/content/drive/MyDrive/archive/dataset_new/train/yawn/11.jpg\")\n"
      ],
      "metadata": {
        "id": "9YYZBy3asKdV"
      },
      "id": "9YYZBy3asKdV",
      "execution_count": 9,
      "outputs": []
    },
    {
      "cell_type": "code",
      "source": [
        "plt.imshow(im[20:350, 200:500, :])"
      ],
      "metadata": {
        "colab": {
          "base_uri": "https://localhost:8080/",
          "height": 287
        },
        "id": "LGTQWYgXs2m_",
        "outputId": "0929633b-79ee-4292-dc11-488418e5c34f"
      },
      "id": "LGTQWYgXs2m_",
      "execution_count": 10,
      "outputs": [
        {
          "output_type": "execute_result",
          "data": {
            "text/plain": [
              "<matplotlib.image.AxesImage at 0x7fc1289413d0>"
            ]
          },
          "metadata": {},
          "execution_count": 10
        },
        {
          "output_type": "display_data",
          "data": {
            "text/plain": [
              "<Figure size 432x288 with 1 Axes>"
            ],
            "image/png": "[encoded data removed]"
          },
          "metadata": {
            "needs_background": "light"
          }
        }
      ]
    },
    {
      "cell_type": "code",
      "source": [
        "import os"
      ],
      "metadata": {
        "id": "ohsqptcjvOLl"
      },
      "id": "ohsqptcjvOLl",
      "execution_count": 11,
      "outputs": []
    },
    {
      "cell_type": "code",
      "source": [
        "import glob\n",
        "i=0\n",
        "for img in glob.glob(\"/content/drive/MyDrive/archive/dataset_new/test/no_yawn/*.jpg\"):\n",
        "  i=i+1\n",
        "\n",
        "  n= cv2.imread(img)\n",
        "  im=n[20:350, 200:500, :]\n",
        "  cv2.imwrite(os.path.join(\"/content/drowsiness_cropped/test/no_yawn\" , f'test_images_noyawn{i}.jpg'), im)"
      ],
      "metadata": {
        "id": "mYU8k9vYrVuC"
      },
      "id": "mYU8k9vYrVuC",
      "execution_count": 12,
      "outputs": []
    },
    {
      "cell_type": "code",
      "source": [
        "for img in glob.glob(\"/content/drive/MyDrive/archive/dataset_new/test/yawn/*.jpg\"):\n",
        "  i=i+1\n",
        "\n",
        "  n= cv2.imread(img)\n",
        "  im=n[20:350, 200:500, :]\n",
        "  cv2.imwrite(os.path.join(\"/content/drowsiness_cropped/test/yawn\" , f'test_images_yawn{i}.jpg'), im)"
      ],
      "metadata": {
        "id": "DOQS1k-lv9UZ"
      },
      "id": "DOQS1k-lv9UZ",
      "execution_count": 13,
      "outputs": []
    },
    {
      "cell_type": "code",
      "source": [
        "i=0\n",
        "for img in glob.glob(\"/content/drive/MyDrive/archive/dataset_new/train/no_yawn/*.jpg\"):\n",
        "  i=i+1\n",
        "\n",
        "  n= cv2.imread(img)\n",
        "  im=n[20:350, 200:500, :]\n",
        "  cv2.imwrite(os.path.join(\"/content/drowsiness_cropped/train/no_yawn\" , f'train_images_noyawn{i}.jpg'), im)"
      ],
      "metadata": {
        "id": "_YAeYzL5wU3W"
      },
      "id": "_YAeYzL5wU3W",
      "execution_count": 14,
      "outputs": []
    },
    {
      "cell_type": "code",
      "source": [
        "i=0\n",
        "for img in glob.glob(\"/content/drive/MyDrive/archive/dataset_new/train/yawn/*.jpg\"):\n",
        "  i=i+1\n",
        "\n",
        "  n= cv2.imread(img)\n",
        "  im=n[20:350, 200:500, :]\n",
        "  cv2.imwrite(os.path.join(\"/content/drowsiness_cropped/train/yawn\" , f'train_images_yawn{i}.jpg'), im)"
      ],
      "metadata": {
        "id": "8zVPJ8XLw1UO"
      },
      "id": "8zVPJ8XLw1UO",
      "execution_count": 15,
      "outputs": []
    },
    {
      "cell_type": "code",
      "source": [
        "# Add the image to a batch\n",
        "from keras.preprocessing import image\n",
        "from tensorflow.keras import layers\n",
        "im=tf.keras.preprocessing.image_dataset_from_directory(\"/content/drive/MyDrive/drowsiness_cropped (1)/drowsiness_cropped/test\")\n",
        "\n"
      ],
      "metadata": {
        "colab": {
          "base_uri": "https://localhost:8080/"
        },
        "id": "a9qOJBNJ9RAp",
        "outputId": "072d68dd-4ee7-4a34-a81b-ce5f18e26feb"
      },
      "id": "a9qOJBNJ9RAp",
      "execution_count": 16,
      "outputs": [
        {
          "output_type": "stream",
          "name": "stdout",
          "text": [
            "Found 215 files belonging to 2 classes.\n"
          ]
        }
      ]
    },
    {
      "cell_type": "code",
      "source": [
        "data_augmentation = tf.keras.Sequential([\n",
        "  layers.RandomFlip(\"horizontal_and_vertical\"),\n",
        "  layers.RandomRotation(0.2),\n",
        "])\n",
        "\n",
        "# Add the image to a batch.\n",
        "image = tf.cast(tf.expand_dims(n, 0), tf.float32)\n",
        "\n",
        "plt.figure(figsize=(10, 10))\n",
        "for i in range(9):\n",
        "  augmented_image = data_augmentation(image)\n",
        "  ax = plt.subplot(3, 3, i + 1)\n",
        "  plt.imshow(augmented_image[0])\n",
        "  plt.axis(\"off\")"
      ],
      "metadata": {
        "id": "DEDRRzkbRptH",
        "outputId": "218daf65-32e6-4515-8c56-45778a855800",
        "colab": {
          "base_uri": "https://localhost:8080/",
          "height": 704
        }
      },
      "id": "DEDRRzkbRptH",
      "execution_count": 17,
      "outputs": [
        {
          "output_type": "stream",
          "name": "stderr",
          "text": [
            "Clipping input data to the valid range for imshow with RGB data ([0..1] for floats or [0..255] for integers).\n",
            "Clipping input data to the valid range for imshow with RGB data ([0..1] for floats or [0..255] for integers).\n",
            "Clipping input data to the valid range for imshow with RGB data ([0..1] for floats or [0..255] for integers).\n",
            "Clipping input data to the valid range for imshow with RGB data ([0..1] for floats or [0..255] for integers).\n",
            "Clipping input data to the valid range for imshow with RGB data ([0..1] for floats or [0..255] for integers).\n",
            "Clipping input data to the valid range for imshow with RGB data ([0..1] for floats or [0..255] for integers).\n",
            "Clipping input data to the valid range for imshow with RGB data ([0..1] for floats or [0..255] for integers).\n",
            "Clipping input data to the valid range for imshow with RGB data ([0..1] for floats or [0..255] for integers).\n",
            "Clipping input data to the valid range for imshow with RGB data ([0..1] for floats or [0..255] for integers).\n"
          ]
        },
        {
          "output_type": "display_data",
          "data": {
            "text/plain": [
              "<Figure size 720x720 with 9 Axes>"
            ],
            "image/png": "[encoded data removed]"
          },
          "metadata": {
            "needs_background": "light"
          }
        }
      ]
    },
    {
      "cell_type": "code",
      "source": [
        "im=tf.keras.preprocessing.image_dataset_from_directory(\"/content/drive/MyDrive/drowsiness_cropped (1)/drowsiness_cropped/train\")"
      ],
      "metadata": {
        "id": "E2aZnVIvP4nL",
        "outputId": "361958f1-190e-48ba-ef58-ff9a79e3ca26",
        "colab": {
          "base_uri": "https://localhost:8080/"
        }
      },
      "id": "E2aZnVIvP4nL",
      "execution_count": 18,
      "outputs": [
        {
          "output_type": "stream",
          "name": "stdout",
          "text": [
            "Found 1310 files belonging to 2 classes.\n"
          ]
        }
      ]
    },
    {
      "cell_type": "code",
      "source": [
        "data_augmentation = tf.keras.Sequential([\n",
        "  layers.RandomFlip(\"horizontal_and_vertical\"),\n",
        "  layers.RandomRotation(0.2),\n",
        "])\n",
        "\n",
        "# Add the image to a batch.\n",
        "image = tf.cast(tf.expand_dims(n, 0), tf.float32)\n",
        "\n",
        "plt.figure(figsize=(10, 10))\n",
        "for i in range(9):\n",
        "  augmented_image = data_augmentation(image)\n",
        "  ax = plt.subplot(3, 3, i + 1)\n",
        "  plt.imshow(augmented_image[0])\n",
        "  plt.axis(\"off\")"
      ],
      "metadata": {
        "colab": {
          "base_uri": "https://localhost:8080/",
          "height": 704
        },
        "id": "JOoSMICKFt0b",
        "outputId": "c1a90707-dfd7-4557-e602-1767dc943dbe"
      },
      "id": "JOoSMICKFt0b",
      "execution_count": 19,
      "outputs": [
        {
          "output_type": "stream",
          "name": "stderr",
          "text": [
            "Clipping input data to the valid range for imshow with RGB data ([0..1] for floats or [0..255] for integers).\n",
            "Clipping input data to the valid range for imshow with RGB data ([0..1] for floats or [0..255] for integers).\n",
            "Clipping input data to the valid range for imshow with RGB data ([0..1] for floats or [0..255] for integers).\n",
            "Clipping input data to the valid range for imshow with RGB data ([0..1] for floats or [0..255] for integers).\n",
            "Clipping input data to the valid range for imshow with RGB data ([0..1] for floats or [0..255] for integers).\n",
            "Clipping input data to the valid range for imshow with RGB data ([0..1] for floats or [0..255] for integers).\n",
            "Clipping input data to the valid range for imshow with RGB data ([0..1] for floats or [0..255] for integers).\n",
            "Clipping input data to the valid range for imshow with RGB data ([0..1] for floats or [0..255] for integers).\n",
            "Clipping input data to the valid range for imshow with RGB data ([0..1] for floats or [0..255] for integers).\n"
          ]
        },
        {
          "output_type": "display_data",
          "data": {
            "text/plain": [
              "<Figure size 720x720 with 9 Axes>"
            ],
            "image/png": "[encoded data removed]"
          },
          "metadata": {
            "needs_background": "light"
          }
        }
      ]
    },
    {
      "cell_type": "code",
      "execution_count": 20,
      "id": "faa69274",
      "metadata": {
        "id": "faa69274"
      },
      "outputs": [],
      "source": [
        "#build CNN model\n",
        "#intialize\n",
        "cnn=tf.keras.models.Sequential()"
      ]
    },
    {
      "cell_type": "code",
      "source": [
        "from tensorflow.keras import layers"
      ],
      "metadata": {
        "id": "lmN4ejIJ0FAA"
      },
      "id": "lmN4ejIJ0FAA",
      "execution_count": 21,
      "outputs": []
    },
    {
      "cell_type": "code",
      "execution_count": 22,
      "id": "3dbb7eb7",
      "metadata": {
        "id": "3dbb7eb7"
      },
      "outputs": [],
      "source": [
        "#convolution\n",
        "from keras.regularizers import l2\n",
        "cnn=tf.keras.models.Sequential()\n",
        "cnn.add(tf.keras.layers.Conv2D(filters=32,kernel_size=3,activation='relu',input_shape=[64,64,3],\n",
        "                               kernel_regularizer=l2(0.01), bias_regularizer=l2(0.01)))\n",
        "\n",
        "\n",
        "\n"
      ]
    },
    {
      "cell_type": "code",
      "execution_count": 23,
      "id": "117aee61",
      "metadata": {
        "id": "117aee61"
      },
      "outputs": [],
      "source": [
        "#Pooling\n",
        "cnn.add(tf.keras.layers.MaxPool2D(pool_size=2,strides=2))\n",
        "cnn.add(tf.keras.layers.Dropout(0.3))"
      ]
    },
    {
      "cell_type": "code",
      "execution_count": 24,
      "id": "12fe5b66",
      "metadata": {
        "id": "12fe5b66"
      },
      "outputs": [],
      "source": [
        "#add one more layer\n",
        "cnn.add(tf.keras.layers.Conv2D(filters=32,kernel_size=3,activation='relu',input_shape=[64,64,3],\n",
        "       kernel_regularizer=l2(0.01), bias_regularizer=l2(0.01)))\n",
        "cnn.add(tf.keras.layers.Dropout(0.2))\n",
        "cnn.add(tf.keras.layers.MaxPool2D(pool_size=2,strides=2))\n",
        "cnn.add(tf.keras.layers.Dropout(0.2))"
      ]
    },
    {
      "cell_type": "code",
      "source": [
        "cnn.add(tf.keras.layers.Conv2D(filters=64,kernel_size=3,activation='relu',input_shape=[64,64,3],\n",
        "       kernel_regularizer=l2(0.01), bias_regularizer=l2(0.01)))\n",
        "cnn.add(tf.keras.layers.MaxPool2D(pool_size=2,strides=2))\n"
      ],
      "metadata": {
        "id": "m1zTFHo0z1Fj"
      },
      "id": "m1zTFHo0z1Fj",
      "execution_count": 25,
      "outputs": []
    },
    {
      "cell_type": "code",
      "execution_count": 26,
      "id": "8785d9e5",
      "metadata": {
        "id": "8785d9e5"
      },
      "outputs": [],
      "source": [
        "#Flatten\n",
        "cnn.add(tf.keras.layers.Flatten())"
      ]
    },
    {
      "cell_type": "code",
      "execution_count": 27,
      "id": "be8ddd39",
      "metadata": {
        "id": "be8ddd39"
      },
      "outputs": [],
      "source": [
        "#Full Connection\n",
        "cnn.add(tf.keras.layers.Dense(units=128,activation='relu'))\n",
        "cnn.add(tf.keras.layers.Dropout(0.2))\n",
        "cnn.add(tf.keras.layers.Dense(units=64,activation='relu'))"
      ]
    },
    {
      "cell_type": "code",
      "execution_count": 28,
      "id": "af2008fd",
      "metadata": {
        "id": "af2008fd"
      },
      "outputs": [],
      "source": [
        "#Output layer\n",
        "cnn.add(tf.keras.layers.Dense(units=2,activation='sigmoid'))"
      ]
    },
    {
      "cell_type": "code",
      "execution_count": 29,
      "id": "d96484c3",
      "metadata": {
        "id": "d96484c3"
      },
      "outputs": [],
      "source": [
        "#Compile the model\n",
        "cnn.compile(optimizer='adam',\n",
        "    loss='binary_crossentropy',\n",
        "    metrics=['accuracy'])"
      ]
    },
    {
      "cell_type": "code",
      "execution_count": 30,
      "id": "8bc592d6",
      "metadata": {
        "id": "8bc592d6",
        "outputId": "1b2170e3-f71e-49c1-b3ed-bcd664f80d26",
        "colab": {
          "base_uri": "https://localhost:8080/"
        }
      },
      "outputs": [
        {
          "output_type": "stream",
          "name": "stdout",
          "text": [
            "Model: \"sequential_3\"\n",
            "_________________________________________________________________\n",
            " Layer (type)                Output Shape              Param #   \n",
            "=================================================================\n",
            " conv2d (Conv2D)             (None, 62, 62, 32)        896       \n",
            "                                                                 \n",
            " max_pooling2d (MaxPooling2D  (None, 31, 31, 32)       0         \n",
            " )                                                               \n",
            "                                                                 \n",
            " dropout (Dropout)           (None, 31, 31, 32)        0         \n",
            "                                                                 \n",
            " conv2d_1 (Conv2D)           (None, 29, 29, 32)        9248      \n",
            "                                                                 \n",
            " dropout_1 (Dropout)         (None, 29, 29, 32)        0         \n",
            "                                                                 \n",
            " max_pooling2d_1 (MaxPooling  (None, 14, 14, 32)       0         \n",
            " 2D)                                                             \n",
            "                                                                 \n",
            " dropout_2 (Dropout)         (None, 14, 14, 32)        0         \n",
            "                                                                 \n",
            " conv2d_2 (Conv2D)           (None, 12, 12, 64)        18496     \n",
            "                                                                 \n",
            " max_pooling2d_2 (MaxPooling  (None, 6, 6, 64)         0         \n",
            " 2D)                                                             \n",
            "                                                                 \n",
            " flatten (Flatten)           (None, 2304)              0         \n",
            "                                                                 \n",
            " dense (Dense)               (None, 128)               295040    \n",
            "                                                                 \n",
            " dropout_3 (Dropout)         (None, 128)               0         \n",
            "                                                                 \n",
            " dense_1 (Dense)             (None, 64)                8256      \n",
            "                                                                 \n",
            " dense_2 (Dense)             (None, 2)                 130       \n",
            "                                                                 \n",
            "=================================================================\n",
            "Total params: 332,066\n",
            "Trainable params: 332,066\n",
            "Non-trainable params: 0\n",
            "_________________________________________________________________\n"
          ]
        }
      ],
      "source": [
        "cnn.summary()"
      ]
    },
    {
      "cell_type": "code",
      "execution_count": 31,
      "id": "afa10b06",
      "metadata": {
        "id": "afa10b06",
        "outputId": "8431f884-ed77-46c4-c304-9815e5874956",
        "colab": {
          "base_uri": "https://localhost:8080/"
        }
      },
      "outputs": [
        {
          "output_type": "stream",
          "name": "stdout",
          "text": [
            "Epoch 1/50\n",
            "41/41 [==============================] - ETA: 0s - loss: 1.2262 - accuracy: 0.5076Epoch 2/50\n",
            "41/41 [==============================] - 6s 145ms/step - loss: 0.8653 - accuracy: 0.5137 - val_loss: 0.7839 - val_accuracy: 0.5023\n",
            "Epoch 3/50\n",
            "41/41 [==============================] - 6s 144ms/step - loss: 0.7454 - accuracy: 0.5389 - val_loss: 0.7235 - val_accuracy: 0.5256\n",
            "Epoch 4/50\n",
            "41/41 [==============================] - 6s 145ms/step - loss: 0.6967 - accuracy: 0.5786 - val_loss: 0.6986 - val_accuracy: 0.5814\n",
            "Epoch 5/50\n",
            "41/41 [==============================] - 6s 144ms/step - loss: 0.6738 - accuracy: 0.6214 - val_loss: 0.6985 - val_accuracy: 0.5767\n",
            "Epoch 6/50\n",
            "41/41 [==============================] - 6s 144ms/step - loss: 0.6682 - accuracy: 0.6237 - val_loss: 0.6937 - val_accuracy: 0.5767\n",
            "Epoch 7/50\n",
            "41/41 [==============================] - 6s 144ms/step - loss: 0.6495 - accuracy: 0.6382 - val_loss: 0.6914 - val_accuracy: 0.5907\n",
            "Epoch 8/50\n",
            "41/41 [==============================] - 6s 146ms/step - loss: 0.6532 - accuracy: 0.6481 - val_loss: 0.6769 - val_accuracy: 0.5953\n",
            "Epoch 9/50\n",
            "41/41 [==============================] - 6s 145ms/step - loss: 0.6379 - accuracy: 0.6527 - val_loss: 0.6834 - val_accuracy: 0.6000\n",
            "Epoch 10/50\n",
            "41/41 [==============================] - 6s 143ms/step - loss: 0.6299 - accuracy: 0.6489 - val_loss: 0.7064 - val_accuracy: 0.5860\n",
            "Epoch 11/50\n",
            "41/41 [==============================] - 6s 144ms/step - loss: 0.6233 - accuracy: 0.6595 - val_loss: 0.6769 - val_accuracy: 0.5907\n",
            "Epoch 12/50\n",
            "41/41 [==============================] - 6s 145ms/step - loss: 0.6232 - accuracy: 0.6534 - val_loss: 0.6613 - val_accuracy: 0.6140\n",
            "Epoch 13/50\n",
            "41/41 [==============================] - 6s 146ms/step - loss: 0.6118 - accuracy: 0.6634 - val_loss: 0.6502 - val_accuracy: 0.6233\n",
            "Epoch 14/50\n",
            "41/41 [==============================] - 6s 143ms/step - loss: 0.6197 - accuracy: 0.6565 - val_loss: 0.6479 - val_accuracy: 0.6279\n",
            "Epoch 15/50\n",
            "41/41 [==============================] - 6s 144ms/step - loss: 0.6010 - accuracy: 0.6710 - val_loss: 0.6508 - val_accuracy: 0.6047\n",
            "Epoch 16/50\n",
            "41/41 [==============================] - 6s 143ms/step - loss: 0.5934 - accuracy: 0.6718 - val_loss: 0.6655 - val_accuracy: 0.6512\n",
            "Epoch 17/50\n",
            "41/41 [==============================] - 6s 144ms/step - loss: 0.5923 - accuracy: 0.6565 - val_loss: 0.6223 - val_accuracy: 0.6605\n",
            "Epoch 18/50\n",
            "41/41 [==============================] - 6s 149ms/step - loss: 0.5999 - accuracy: 0.6580 - val_loss: 0.6295 - val_accuracy: 0.6419\n",
            "Epoch 19/50\n",
            "41/41 [==============================] - 6s 143ms/step - loss: 0.5947 - accuracy: 0.6672 - val_loss: 0.6170 - val_accuracy: 0.6791\n",
            "Epoch 20/50\n",
            "41/41 [==============================] - 6s 145ms/step - loss: 0.5791 - accuracy: 0.6779 - val_loss: 0.6218 - val_accuracy: 0.6651\n",
            "Epoch 21/50\n",
            "41/41 [==============================] - 6s 146ms/step - loss: 0.5755 - accuracy: 0.6756 - val_loss: 0.6300 - val_accuracy: 0.6465\n",
            "Epoch 22/50\n",
            "41/41 [==============================] - 6s 145ms/step - loss: 0.5811 - accuracy: 0.6954 - val_loss: 0.6123 - val_accuracy: 0.6837\n",
            "Epoch 23/50\n",
            "41/41 [==============================] - 6s 149ms/step - loss: 0.5723 - accuracy: 0.6771 - val_loss: 0.6060 - val_accuracy: 0.6744\n",
            "Epoch 24/50\n",
            "41/41 [==============================] - 6s 146ms/step - loss: 0.5557 - accuracy: 0.7046 - val_loss: 0.6832 - val_accuracy: 0.6512\n",
            "Epoch 25/50\n",
            "41/41 [==============================] - 6s 146ms/step - loss: 0.5641 - accuracy: 0.6824 - val_loss: 0.5935 - val_accuracy: 0.6930\n",
            "Epoch 26/50\n",
            "41/41 [==============================] - 6s 145ms/step - loss: 0.5601 - accuracy: 0.7053 - val_loss: 0.5964 - val_accuracy: 0.6977\n",
            "Epoch 27/50\n",
            "41/41 [==============================] - 6s 147ms/step - loss: 0.5493 - accuracy: 0.7046 - val_loss: 0.5886 - val_accuracy: 0.7023\n",
            "Epoch 28/50\n",
            "41/41 [==============================] - 6s 148ms/step - loss: 0.5638 - accuracy: 0.7084 - val_loss: 0.5840 - val_accuracy: 0.7116\n",
            "Epoch 29/50\n",
            "41/41 [==============================] - 6s 146ms/step - loss: 0.5497 - accuracy: 0.7206 - val_loss: 0.5756 - val_accuracy: 0.6977\n",
            "Epoch 30/50\n",
            "41/41 [==============================] - 6s 147ms/step - loss: 0.5435 - accuracy: 0.7321 - val_loss: 0.5883 - val_accuracy: 0.7256\n",
            "Epoch 31/50\n",
            "41/41 [==============================] - 6s 146ms/step - loss: 0.5466 - accuracy: 0.7176 - val_loss: 0.5551 - val_accuracy: 0.7256\n",
            "Epoch 32/50\n",
            "41/41 [==============================] - 6s 146ms/step - loss: 0.5387 - accuracy: 0.7221 - val_loss: 0.5792 - val_accuracy: 0.7163\n",
            "Epoch 33/50\n",
            "41/41 [==============================] - 6s 146ms/step - loss: 0.5066 - accuracy: 0.7527 - val_loss: 0.5408 - val_accuracy: 0.7116\n",
            "Epoch 34/50\n",
            "41/41 [==============================] - 6s 148ms/step - loss: 0.5186 - accuracy: 0.7427 - val_loss: 0.5518 - val_accuracy: 0.7302\n",
            "Epoch 35/50\n",
            "41/41 [==============================] - 6s 146ms/step - loss: 0.5054 - accuracy: 0.7580 - val_loss: 0.5482 - val_accuracy: 0.7163\n",
            "Epoch 36/50\n",
            "41/41 [==============================] - 6s 145ms/step - loss: 0.5000 - accuracy: 0.7542 - val_loss: 0.5179 - val_accuracy: 0.7535\n",
            "Epoch 37/50\n",
            "41/41 [==============================] - 6s 144ms/step - loss: 0.5045 - accuracy: 0.7595 - val_loss: 0.5256 - val_accuracy: 0.7721\n",
            "Epoch 38/50\n",
            "41/41 [==============================] - 6s 145ms/step - loss: 0.4917 - accuracy: 0.7756 - val_loss: 0.5055 - val_accuracy: 0.7628\n",
            "Epoch 39/50\n",
            "41/41 [==============================] - 6s 145ms/step - loss: 0.4889 - accuracy: 0.7679 - val_loss: 0.4975 - val_accuracy: 0.7581\n",
            "Epoch 40/50\n",
            "41/41 [==============================] - 6s 142ms/step - loss: 0.4968 - accuracy: 0.7702 - val_loss: 0.5146 - val_accuracy: 0.7628\n",
            "Epoch 41/50\n",
            "41/41 [==============================] - 6s 144ms/step - loss: 0.4791 - accuracy: 0.7763 - val_loss: 0.5138 - val_accuracy: 0.7721\n",
            "Epoch 42/50\n",
            "41/41 [==============================] - 6s 144ms/step - loss: 0.4862 - accuracy: 0.7725 - val_loss: 0.4924 - val_accuracy: 0.7581\n",
            "Epoch 43/50\n",
            "41/41 [==============================] - 6s 146ms/step - loss: 0.4912 - accuracy: 0.7893 - val_loss: 0.4767 - val_accuracy: 0.8000\n",
            "Epoch 44/50\n",
            "41/41 [==============================] - 6s 144ms/step - loss: 0.4619 - accuracy: 0.7954 - val_loss: 0.4732 - val_accuracy: 0.7953\n",
            "Epoch 45/50\n",
            "41/41 [==============================] - 6s 143ms/step - loss: 0.4545 - accuracy: 0.7962 - val_loss: 0.4603 - val_accuracy: 0.8186\n",
            "Epoch 46/50\n",
            "41/41 [==============================] - 6s 145ms/step - loss: 0.4492 - accuracy: 0.8015 - val_loss: 0.4948 - val_accuracy: 0.7721\n",
            "Epoch 47/50\n",
            "41/41 [==============================] - 6s 145ms/step - loss: 0.4833 - accuracy: 0.7832 - val_loss: 0.4730 - val_accuracy: 0.8233\n",
            "Epoch 48/50\n",
            "41/41 [==============================] - 6s 145ms/step - loss: 0.4400 - accuracy: 0.8076 - val_loss: 0.4669 - val_accuracy: 0.8047\n",
            "Epoch 49/50\n",
            "41/41 [==============================] - 6s 153ms/step - loss: 0.4319 - accuracy: 0.8122 - val_loss: 0.4708 - val_accuracy: 0.8000\n",
            "Epoch 50/50\n",
            "41/41 [==============================] - 6s 147ms/step - loss: 0.4266 - accuracy: 0.8168 - val_loss: 0.4486 - val_accuracy: 0.8140\n"
          ]
        }
      ],
      "source": [
        "history=cnn.fit(x=train_generator,validation_data=validation_generator,epochs=50)"
      ]
    },
    {
      "cell_type": "code",
      "execution_count": 32,
      "id": "3c4fc5f3",
      "metadata": {
        "id": "3c4fc5f3",
        "outputId": "f31603e4-91aa-4540-ec33-84054c6a43e1",
        "colab": {
          "base_uri": "https://localhost:8080/"
        }
      },
      "outputs": [
        {
          "output_type": "stream",
          "name": "stdout",
          "text": [
            "Model: \"sequential_3\"\n",
            "_________________________________________________________________\n",
            " Layer (type)                Output Shape              Param #   \n",
            "=================================================================\n",
            " conv2d (Conv2D)             (None, 62, 62, 32)        896       \n",
            "                                                                 \n",
            " max_pooling2d (MaxPooling2D  (None, 31, 31, 32)       0         \n",
            " )                                                               \n",
            "                                                                 \n",
            " dropout (Dropout)           (None, 31, 31, 32)        0         \n",
            "                                                                 \n",
            " conv2d_1 (Conv2D)           (None, 29, 29, 32)        9248      \n",
            "                                                                 \n",
            " dropout_1 (Dropout)         (None, 29, 29, 32)        0         \n",
            "                                                                 \n",
            " max_pooling2d_1 (MaxPooling  (None, 14, 14, 32)       0         \n",
            " 2D)                                                             \n",
            "                                                                 \n",
            " dropout_2 (Dropout)         (None, 14, 14, 32)        0         \n",
            "                                                                 \n",
            " conv2d_2 (Conv2D)           (None, 12, 12, 64)        18496     \n",
            "                                                                 \n",
            " max_pooling2d_2 (MaxPooling  (None, 6, 6, 64)         0         \n",
            " 2D)                                                             \n",
            "                                                                 \n",
            " flatten (Flatten)           (None, 2304)              0         \n",
            "                                                                 \n",
            " dense (Dense)               (None, 128)               295040    \n",
            "                                                                 \n",
            " dropout_3 (Dropout)         (None, 128)               0         \n",
            "                                                                 \n",
            " dense_1 (Dense)             (None, 64)                8256      \n",
            "                                                                 \n",
            " dense_2 (Dense)             (None, 2)                 130       \n",
            "                                                                 \n",
            "=================================================================\n",
            "Total params: 332,066\n",
            "Trainable params: 332,066\n",
            "Non-trainable params: 0\n",
            "_________________________________________________________________\n",
            "None\n"
          ]
        }
      ],
      "source": [
        "print(cnn.summary())"
      ]
    },
    {
      "cell_type": "code",
      "source": [
        "from sklearn.metrics import confusion_matrix\n",
        "from array import array\n",
        "y_true = [\"open\", \"no yawn\"]\n",
        "y_pred = [\"yawn\",\"no yawn\"]\n",
        "confusion_matrix(y_true, y_pred, labels=[\"yawn\", \"no yawn\"])\n",
        "array([[2, 0, 0],\n",
        "       [0, 0, 1],\n",
        "       [1, 0, 0]])"
      ],
      "metadata": {
        "id": "7_p0-IYTDDj-",
        "outputId": "79c3a149-0da1-4721-9ec1-1066ba0d978c",
        "colab": {
          "base_uri": "https://localhost:8080/",
          "height": 209
        }
      },
      "id": "7_p0-IYTDDj-",
      "execution_count": 194,
      "outputs": [
        {
          "output_type": "error",
          "ename": "TypeError",
          "evalue": "ignored",
          "traceback": [
            "\u001b[0;31m---------------------------------------------------------------------------\u001b[0m",
            "\u001b[0;31mTypeError\u001b[0m                                 Traceback (most recent call last)",
            "\u001b[0;32m<ipython-input-194-28ccdfdd264f>\u001b[0m in \u001b[0;36m<module>\u001b[0;34m()\u001b[0m\n\u001b[1;32m      6\u001b[0m array([[2, 0, 0],\n\u001b[1;32m      7\u001b[0m        \u001b[0;34m[\u001b[0m\u001b[0;36m0\u001b[0m\u001b[0;34m,\u001b[0m \u001b[0;36m0\u001b[0m\u001b[0;34m,\u001b[0m \u001b[0;36m1\u001b[0m\u001b[0;34m]\u001b[0m\u001b[0;34m,\u001b[0m\u001b[0;34m\u001b[0m\u001b[0;34m\u001b[0m\u001b[0m\n\u001b[0;32m----> 8\u001b[0;31m        [1, 0, 0]])\n\u001b[0m",
            "\u001b[0;31mTypeError\u001b[0m: array() argument 1 must be a unicode character, not list"
          ]
        }
      ]
    },
    {
      "cell_type": "code",
      "source": [
        "from sklearn.metrics import confusion_matrix, ConfusionMatrixDisplay\n",
        "predictions = clf.predict(X_test)\n",
        "cm = confusion_matrix(y_test, predictions, labels=clf.classes_)\n",
        "disp = ConfusionMatrixDisplay(confusion_matrix=cm,display_labels=clf.classes_)\n",
        "disp.plot()\n",
        "plt.show()"
      ],
      "metadata": {
        "id": "NDn2NQs9JaGn"
      },
      "id": "NDn2NQs9JaGn",
      "execution_count": null,
      "outputs": []
    },
    {
      "cell_type": "code",
      "execution_count": 61,
      "id": "76e46d62",
      "metadata": {
        "id": "76e46d62",
        "outputId": "134a7f9b-989f-4fff-c06c-2c71f973ff56",
        "colab": {
          "base_uri": "https://localhost:8080/",
          "height": 283
        }
      },
      "outputs": [
        {
          "output_type": "stream",
          "name": "stdout",
          "text": [
            "dict_keys(['loss', 'accuracy', 'val_loss', 'val_accuracy'])\n"
          ]
        },
        {
          "output_type": "display_data",
          "data": {
            "text/plain": [
              "<Figure size 432x288 with 1 Axes>"
            ],
            "image/png": "[encoded data removed]"
          },
          "metadata": {
            "needs_background": "light"
          }
        }
      ],
      "source": [
        "import matplotlib.pyplot as plt\n",
        "print(history.history.keys())\n",
        "plt.plot(history.history['accuracy'])\n",
        "plt.plot(history.history['val_accuracy'])\n",
        "\n",
        "plt.show()"
      ]
    },
    {
      "cell_type": "code",
      "source": [
        "plt.plot(history.history['loss'])\n",
        "plt.plot(history.history['val_loss'])"
      ],
      "metadata": {
        "colab": {
          "base_uri": "https://localhost:8080/",
          "height": 283
        },
        "id": "DGmbQ4SGtFvY",
        "outputId": "5e2b4d1d-0d50-47a0-94e9-20efd7ffac78"
      },
      "id": "DGmbQ4SGtFvY",
      "execution_count": 62,
      "outputs": [
        {
          "output_type": "execute_result",
          "data": {
            "text/plain": [
              "[<matplotlib.lines.Line2D at 0x7fc0a6515e10>]"
            ]
          },
          "metadata": {},
          "execution_count": 62
        },
        {
          "output_type": "display_data",
          "data": {
            "text/plain": [
              "<Figure size 432x288 with 1 Axes>"
            ],
            "image/png": "[encoded data removed]"
          },
          "metadata": {
            "needs_background": "light"
          }
        }
      ]
    },
    {
      "cell_type": "code",
      "source": [
        ""
      ],
      "metadata": {
        "id": "Q4hVyb6m3_8p"
      },
      "id": "Q4hVyb6m3_8p",
      "execution_count": null,
      "outputs": []
    },
    {
      "cell_type": "code",
      "execution_count": 64,
      "id": "182f9698",
      "metadata": {
        "id": "182f9698"
      },
      "outputs": [],
      "source": [
        "import numpy as np\n",
        "from keras.preprocessing import image\n",
        "test_image=image.load_img('/content/drive/MyDrive/drowsiness_cropped (1)/drowsiness_cropped/test/no_yawn/test_images_noyawn1.jpg',target_size=(64,64))\n",
        "\n",
        "test_image=image.img_to_array(test_image)\n",
        "test_image=np.expand_dims(test_image,axis=0)\n",
        "result=cnn.predict(test_image)\n",
        "train_generator.class_indices\n",
        "if result[0][0]==1:\n",
        "    prediction='yawn'\n",
        "if result[0][1]==1:\n",
        "    prediction='no yawn'"
      ]
    },
    {
      "cell_type": "code",
      "execution_count": 65,
      "id": "f84a3583",
      "metadata": {
        "id": "f84a3583",
        "outputId": "b837b0c3-e4f4-4fc8-f6a1-4d4d6d801524",
        "colab": {
          "base_uri": "https://localhost:8080/",
          "height": 36
        }
      },
      "outputs": [
        {
          "output_type": "execute_result",
          "data": {
            "text/plain": [
              "'no yawn'"
            ],
            "application/vnd.google.colaboratory.intrinsic+json": {
              "type": "string"
            }
          },
          "metadata": {},
          "execution_count": 65
        }
      ],
      "source": [
        "prediction"
      ]
    },
    {
      "cell_type": "code",
      "execution_count": 66,
      "id": "49fec89e",
      "metadata": {
        "id": "49fec89e",
        "outputId": "7f04eeb8-2778-432f-cc4b-cbda7df25f94",
        "colab": {
          "base_uri": "https://localhost:8080/"
        }
      },
      "outputs": [
        {
          "output_type": "execute_result",
          "data": {
            "text/plain": [
              "{'no_yawn': 0, 'yawn': 1}"
            ]
          },
          "metadata": {},
          "execution_count": 66
        }
      ],
      "source": [
        " train_generator.class_indices\n",
        "    "
      ]
    },
    {
      "cell_type": "code",
      "execution_count": 67,
      "id": "6d75b755",
      "metadata": {
        "id": "6d75b755",
        "outputId": "be5ef60f-c56b-4f93-9306-a99e9f125279",
        "colab": {
          "base_uri": "https://localhost:8080/"
        }
      },
      "outputs": [
        {
          "output_type": "execute_result",
          "data": {
            "text/plain": [
              "array([[0., 1.]], dtype=float32)"
            ]
          },
          "metadata": {},
          "execution_count": 67
        }
      ],
      "source": [
        "result\n"
      ]
    },
    {
      "cell_type": "code",
      "source": [
        "from keras.layers import Input, Lambda, Dense, Flatten\n",
        "from keras.models import Model\n",
        "from keras.applications.vgg16 import VGG16\n",
        "from keras.applications.vgg16 import preprocess_input\n",
        "from keras.preprocessing import image\n",
        "from keras.preprocessing.image import ImageDataGenerator\n",
        "from keras.models import Sequential\n",
        "import numpy as np\n",
        "from glob import glob\n",
        "import matplotlib.pyplot as pl"
      ],
      "metadata": {
        "id": "oX9zzUKH6Sfc"
      },
      "id": "oX9zzUKH6Sfc",
      "execution_count": 81,
      "outputs": []
    },
    {
      "cell_type": "code",
      "source": [
        "image_size = [224,224]"
      ],
      "metadata": {
        "id": "E5cIucIsxnyg"
      },
      "id": "E5cIucIsxnyg",
      "execution_count": 85,
      "outputs": []
    },
    {
      "cell_type": "code",
      "source": [
        "train_path = '/content/drive/MyDrive/drowsiness_cropped (1)/drowsiness_cropped/train'\n",
        "valid_path = '/content/drive/MyDrive/drowsiness_cropped (1)/drowsiness_cropped/test'"
      ],
      "metadata": {
        "id": "PYgl96tszdKD"
      },
      "id": "PYgl96tszdKD",
      "execution_count": 86,
      "outputs": []
    },
    {
      "cell_type": "code",
      "source": [
        "# Add the image to a batch\n",
        "from keras.preprocessing import image\n",
        "from tensorflow.keras import layers\n",
        "im=tf.keras.preprocessing.image_dataset_from_directory(\"/content/drive/MyDrive/drowsiness_cropped (1)/drowsiness_cropped/test\")"
      ],
      "metadata": {
        "id": "pUPCaU-q9ylg",
        "outputId": "4a75c25a-6e4d-4fcc-d18d-3bc340e474cb",
        "colab": {
          "base_uri": "https://localhost:8080/"
        }
      },
      "id": "pUPCaU-q9ylg",
      "execution_count": 127,
      "outputs": [
        {
          "output_type": "stream",
          "name": "stdout",
          "text": [
            "Found 215 files belonging to 2 classes.\n"
          ]
        }
      ]
    },
    {
      "cell_type": "code",
      "source": [
        "data_augmentation = tf.keras.Sequential([\n",
        "  layers.RandomFlip(\"horizontal_and_vertical\"),\n",
        "  layers.RandomRotation(0.2),\n",
        "])\n",
        "\n",
        "# Add the image to a batch.\n",
        "image = tf.cast(tf.expand_dims(n, 0), tf.float32)\n",
        "\n",
        "plt.figure(figsize=(10, 10))\n",
        "for i in range(9):\n",
        "  augmented_image = data_augmentation(image)\n",
        "  ax = plt.subplot(3, 3, i + 1)\n",
        "  plt.imshow(augmented_image[0])\n",
        "  plt.axis(\"off\")"
      ],
      "metadata": {
        "id": "MBDmkSCb91ke",
        "outputId": "71f102ec-ed9b-4cb9-9f17-61b505e6a9ca",
        "colab": {
          "base_uri": "https://localhost:8080/",
          "height": 704
        }
      },
      "id": "MBDmkSCb91ke",
      "execution_count": 128,
      "outputs": [
        {
          "output_type": "stream",
          "name": "stderr",
          "text": [
            "Clipping input data to the valid range for imshow with RGB data ([0..1] for floats or [0..255] for integers).\n",
            "Clipping input data to the valid range for imshow with RGB data ([0..1] for floats or [0..255] for integers).\n",
            "Clipping input data to the valid range for imshow with RGB data ([0..1] for floats or [0..255] for integers).\n",
            "Clipping input data to the valid range for imshow with RGB data ([0..1] for floats or [0..255] for integers).\n",
            "Clipping input data to the valid range for imshow with RGB data ([0..1] for floats or [0..255] for integers).\n",
            "Clipping input data to the valid range for imshow with RGB data ([0..1] for floats or [0..255] for integers).\n",
            "Clipping input data to the valid range for imshow with RGB data ([0..1] for floats or [0..255] for integers).\n",
            "Clipping input data to the valid range for imshow with RGB data ([0..1] for floats or [0..255] for integers).\n",
            "Clipping input data to the valid range for imshow with RGB data ([0..1] for floats or [0..255] for integers).\n"
          ]
        },
        {
          "output_type": "display_data",
          "data": {
            "text/plain": [
              "<Figure size 720x720 with 9 Axes>"
            ],
            "image/png": "[encoded data removed]"
          },
          "metadata": {
            "needs_background": "light"
          }
        }
      ]
    },
    {
      "cell_type": "code",
      "source": [
        "im=tf.keras.preprocessing.image_dataset_from_directory(\"/content/drive/MyDrive/drowsiness_cropped (1)/drowsiness_cropped/train\")"
      ],
      "metadata": {
        "id": "mP40CpP77Iel",
        "outputId": "a5af51b8-483f-4736-b3e4-bb909d6ad005",
        "colab": {
          "base_uri": "https://localhost:8080/"
        }
      },
      "execution_count": 129,
      "outputs": [
        {
          "output_type": "stream",
          "name": "stdout",
          "text": [
            "Found 1310 files belonging to 2 classes.\n"
          ]
        }
      ],
      "id": "mP40CpP77Iel"
    },
    {
      "cell_type": "code",
      "source": [
        "data_augmentation = tf.keras.Sequential([\n",
        "  layers.RandomFlip(\"horizontal_and_vertical\"),\n",
        "  layers.RandomRotation(0.2),\n",
        "])\n",
        "\n",
        "# Add the image to a batch.\n",
        "image = tf.cast(tf.expand_dims(n, 0), tf.float32)\n",
        "\n",
        "plt.figure(figsize=(10, 10))\n",
        "for i in range(9):\n",
        "  augmented_image = data_augmentation(image)\n",
        "  ax = plt.subplot(3, 3, i + 1)\n",
        "  plt.imshow(augmented_image[0])\n",
        "  plt.axis(\"off\")"
      ],
      "metadata": {
        "id": "bRpCPaiu-kwd",
        "outputId": "61b66065-4e0c-4969-af9d-36b6cbbe53c8",
        "colab": {
          "base_uri": "https://localhost:8080/",
          "height": 704
        }
      },
      "id": "bRpCPaiu-kwd",
      "execution_count": 130,
      "outputs": [
        {
          "output_type": "stream",
          "name": "stderr",
          "text": [
            "Clipping input data to the valid range for imshow with RGB data ([0..1] for floats or [0..255] for integers).\n",
            "Clipping input data to the valid range for imshow with RGB data ([0..1] for floats or [0..255] for integers).\n",
            "Clipping input data to the valid range for imshow with RGB data ([0..1] for floats or [0..255] for integers).\n",
            "Clipping input data to the valid range for imshow with RGB data ([0..1] for floats or [0..255] for integers).\n",
            "Clipping input data to the valid range for imshow with RGB data ([0..1] for floats or [0..255] for integers).\n",
            "Clipping input data to the valid range for imshow with RGB data ([0..1] for floats or [0..255] for integers).\n",
            "Clipping input data to the valid range for imshow with RGB data ([0..1] for floats or [0..255] for integers).\n",
            "Clipping input data to the valid range for imshow with RGB data ([0..1] for floats or [0..255] for integers).\n",
            "Clipping input data to the valid range for imshow with RGB data ([0..1] for floats or [0..255] for integers).\n"
          ]
        },
        {
          "output_type": "display_data",
          "data": {
            "text/plain": [
              "<Figure size 720x720 with 9 Axes>"
            ],
            "image/png": "[encoded data removed]"
          },
          "metadata": {
            "needs_background": "light"
          }
        }
      ]
    },
    {
      "cell_type": "code",
      "source": [
        "vgg = VGG16(input_shape=image_size + [3], weights='imagenet', include_top=False)"
      ],
      "metadata": {
        "id": "PF2PK0Ya6exS"
      },
      "id": "PF2PK0Ya6exS",
      "execution_count": 131,
      "outputs": []
    },
    {
      "cell_type": "code",
      "source": [
        " # don't train existing weights\n",
        "for layer in vgg.layers:\n",
        "  layer.trainable = False"
      ],
      "metadata": {
        "id": "zHQezmpxz8PS"
      },
      "id": "zHQezmpxz8PS",
      "execution_count": 132,
      "outputs": []
    },
    {
      "cell_type": "code",
      "source": [
        "# useful for getting number of classes\n",
        "folders = glob(\"/content/drive/MyDrive/drowsiness_cropped (1)/drowsiness_cropped/train\")\n",
        "print(len(folders))"
      ],
      "metadata": {
        "id": "aQylmpIb0DEQ",
        "outputId": "5727a6e9-b07d-4294-871e-9debe49d9b8c",
        "colab": {
          "base_uri": "https://localhost:8080/"
        }
      },
      "id": "aQylmpIb0DEQ",
      "execution_count": 157,
      "outputs": [
        {
          "output_type": "stream",
          "name": "stdout",
          "text": [
            "1\n"
          ]
        }
      ]
    },
    {
      "cell_type": "code",
      "source": [
        "vgg.input"
      ],
      "metadata": {
        "id": "jmglcD7Y6kyp",
        "outputId": "cdff6b24-7e2c-4191-c604-55dbac064014",
        "colab": {
          "base_uri": "https://localhost:8080/"
        }
      },
      "id": "jmglcD7Y6kyp",
      "execution_count": 158,
      "outputs": [
        {
          "output_type": "execute_result",
          "data": {
            "text/plain": [
              "<KerasTensor: shape=(None, 224, 224, 3) dtype=float32 (created by layer 'input_4')>"
            ]
          },
          "metadata": {},
          "execution_count": 158
        }
      ]
    },
    {
      "cell_type": "code",
      "source": [
        "for layer in vgg.layers:\n",
        "  layer.trainable = False"
      ],
      "metadata": {
        "id": "bUvK5W6o61ea"
      },
      "id": "bUvK5W6o61ea",
      "execution_count": 159,
      "outputs": []
    },
    {
      "cell_type": "code",
      "source": [
        "#  layers \n",
        "x = Flatten()(vgg.output)\n",
        "# x = Dense(1000, activation='relu')(x)\n",
        "prediction = Dense(len(folders), activation='softmax')(x)"
      ],
      "metadata": {
        "id": "8-4Dzy807FQR"
      },
      "id": "8-4Dzy807FQR",
      "execution_count": 171,
      "outputs": []
    },
    {
      "cell_type": "code",
      "source": [
        "x = Flatten()(vgg.output)\n",
        "# x = Dense(1000, activation='relu')(x)\n",
        "prediction = Dense(len(folders), activation='softmax')(x)"
      ],
      "metadata": {
        "id": "V6xB-qX44kWx"
      },
      "id": "V6xB-qX44kWx",
      "execution_count": 172,
      "outputs": []
    },
    {
      "cell_type": "code",
      "source": [
        "x = Flatten()(vgg.output)\n",
        "# x = Dense(1000, activation='relu')(x)\n",
        "prediction = Dense(len(folders), activation='softmax')(x)"
      ],
      "metadata": {
        "id": "3dhtV1R9CZqo"
      },
      "id": "3dhtV1R9CZqo",
      "execution_count": 173,
      "outputs": []
    },
    {
      "cell_type": "code",
      "source": [
        "# create a model object\n",
        "model = Model(inputs=vgg.input, outputs=prediction)"
      ],
      "metadata": {
        "id": "qjR_VEaF0WP1"
      },
      "id": "qjR_VEaF0WP1",
      "execution_count": 174,
      "outputs": []
    },
    {
      "cell_type": "code",
      "source": [
        "# view the structure of the model\n",
        "model.summary()"
      ],
      "metadata": {
        "id": "hYertYv17M_i",
        "outputId": "dcd4ee62-3c6d-49c3-b9e1-d6616ef99e30",
        "colab": {
          "base_uri": "https://localhost:8080/"
        }
      },
      "id": "hYertYv17M_i",
      "execution_count": 175,
      "outputs": [
        {
          "output_type": "stream",
          "name": "stdout",
          "text": [
            "Model: \"model_6\"\n",
            "_________________________________________________________________\n",
            " Layer (type)                Output Shape              Param #   \n",
            "=================================================================\n",
            " input_4 (InputLayer)        [(None, 224, 224, 3)]     0         \n",
            "                                                                 \n",
            " block1_conv1 (Conv2D)       (None, 224, 224, 64)      1792      \n",
            "                                                                 \n",
            " block1_conv2 (Conv2D)       (None, 224, 224, 64)      36928     \n",
            "                                                                 \n",
            " block1_pool (MaxPooling2D)  (None, 112, 112, 64)      0         \n",
            "                                                                 \n",
            " block2_conv1 (Conv2D)       (None, 112, 112, 128)     73856     \n",
            "                                                                 \n",
            " block2_conv2 (Conv2D)       (None, 112, 112, 128)     147584    \n",
            "                                                                 \n",
            " block2_pool (MaxPooling2D)  (None, 56, 56, 128)       0         \n",
            "                                                                 \n",
            " block3_conv1 (Conv2D)       (None, 56, 56, 256)       295168    \n",
            "                                                                 \n",
            " block3_conv2 (Conv2D)       (None, 56, 56, 256)       590080    \n",
            "                                                                 \n",
            " block3_conv3 (Conv2D)       (None, 56, 56, 256)       590080    \n",
            "                                                                 \n",
            " block3_pool (MaxPooling2D)  (None, 28, 28, 256)       0         \n",
            "                                                                 \n",
            " block4_conv1 (Conv2D)       (None, 28, 28, 512)       1180160   \n",
            "                                                                 \n",
            " block4_conv2 (Conv2D)       (None, 28, 28, 512)       2359808   \n",
            "                                                                 \n",
            " block4_conv3 (Conv2D)       (None, 28, 28, 512)       2359808   \n",
            "                                                                 \n",
            " block4_pool (MaxPooling2D)  (None, 14, 14, 512)       0         \n",
            "                                                                 \n",
            " block5_conv1 (Conv2D)       (None, 14, 14, 512)       2359808   \n",
            "                                                                 \n",
            " block5_conv2 (Conv2D)       (None, 14, 14, 512)       2359808   \n",
            "                                                                 \n",
            " block5_conv3 (Conv2D)       (None, 14, 14, 512)       2359808   \n",
            "                                                                 \n",
            " block5_pool (MaxPooling2D)  (None, 7, 7, 512)         0         \n",
            "                                                                 \n",
            " flatten_13 (Flatten)        (None, 25088)             0         \n",
            "                                                                 \n",
            " dense_15 (Dense)            (None, 1)                 25089     \n",
            "                                                                 \n",
            "=================================================================\n",
            "Total params: 14,739,777\n",
            "Trainable params: 25,089\n",
            "Non-trainable params: 14,714,688\n",
            "_________________________________________________________________\n"
          ]
        }
      ]
    },
    {
      "cell_type": "code",
      "source": [
        "# tell the model what cost and optimization method to use\n",
        "model.compile(\n",
        "  loss='binary_crossentropy',\n",
        "  optimizer='SGD',\n",
        "  metrics=['accuracy'])"
      ],
      "metadata": {
        "id": "N_2yznjT7X4K"
      },
      "id": "N_2yznjT7X4K",
      "execution_count": 177,
      "outputs": []
    },
    {
      "cell_type": "code",
      "source": [
        "from keras.preprocessing.image import ImageDataGenerator\n",
        "\n",
        "train_datagen = ImageDataGenerator(rescale = 1./255,\n",
        "                                   shear_range = 0.2,\n",
        "                                   zoom_range = 0.2,\n",
        "                                   horizontal_flip = True)"
      ],
      "metadata": {
        "id": "figeTDU17fq5"
      },
      "id": "figeTDU17fq5",
      "execution_count": 178,
      "outputs": []
    },
    {
      "cell_type": "code",
      "source": [
        "test_datagen = ImageDataGenerator(rescale = 1./255)\n",
        "\n",
        "training_set = train_datagen.flow_from_directory('/content/drive/MyDrive/drowsiness_cropped (1)/drowsiness_cropped/train',\n",
        "                                                 target_size = (224, 224),\n",
        "                                                 batch_size = 32,\n",
        "                                                 class_mode = 'binary')\n",
        "\n",
        "test_set = test_datagen.flow_from_directory('/content/drive/MyDrive/drowsiness_cropped (1)/drowsiness_cropped/test',\n",
        "                                            target_size = (224, 224),\n",
        "                                            batch_size = 32,\n",
        "                                            class_mode = 'binary')"
      ],
      "metadata": {
        "id": "J1L7fUpI7p85",
        "outputId": "c0bf7298-d169-41d9-b8a1-727d47352df6",
        "colab": {
          "base_uri": "https://localhost:8080/"
        }
      },
      "id": "J1L7fUpI7p85",
      "execution_count": 179,
      "outputs": [
        {
          "output_type": "stream",
          "name": "stdout",
          "text": [
            "Found 1310 images belonging to 2 classes.\n",
            "Found 215 images belonging to 2 classes.\n"
          ]
        }
      ]
    },
    {
      "cell_type": "code",
      "source": [
        "# fit the model\n",
        "r = model.fit_generator(training_set, validation_data=test_set,epochs=20,steps_per_epoch=len(training_set), validation_steps=len(test_set)\n",
        ")"
      ],
      "metadata": {
        "id": "ZLzJsG0H1sOa",
        "outputId": "37b1ae04-a89c-46ab-b1e1-3a59d9310dd4",
        "colab": {
          "base_uri": "https://localhost:8080/"
        }
      },
      "id": "ZLzJsG0H1sOa",
      "execution_count": 180,
      "outputs": [
        {
          "output_type": "stream",
          "name": "stderr",
          "text": [
            "/usr/local/lib/python3.7/dist-packages/ipykernel_launcher.py:2: UserWarning: `Model.fit_generator` is deprecated and will be removed in a future version. Please use `Model.fit`, which supports generators.\n",
            "  \n"
          ]
        },
        {
          "output_type": "stream",
          "name": "stdout",
          "text": [
            "Epoch 1/20\n",
            "41/41 [==============================] - 21s 489ms/step - loss: 8.2570 - accuracy: 0.5000 - val_loss: 11.7355 - val_accuracy: 0.4930\n",
            "Epoch 2/20\n",
            "41/41 [==============================] - 20s 480ms/step - loss: 7.5051 - accuracy: 0.5000 - val_loss: 8.3732 - val_accuracy: 0.4930\n",
            "Epoch 3/20\n",
            "41/41 [==============================] - 20s 480ms/step - loss: 5.5636 - accuracy: 0.5000 - val_loss: 1.5636 - val_accuracy: 0.4930\n",
            "Epoch 4/20\n",
            "41/41 [==============================] - 20s 482ms/step - loss: 4.3351 - accuracy: 0.5000 - val_loss: 3.9661 - val_accuracy: 0.4930\n",
            "Epoch 5/20\n",
            "41/41 [==============================] - 20s 477ms/step - loss: 4.5766 - accuracy: 0.5000 - val_loss: 11.8104 - val_accuracy: 0.4930\n",
            "Epoch 6/20\n",
            "41/41 [==============================] - 20s 478ms/step - loss: 3.6435 - accuracy: 0.5000 - val_loss: 1.0127 - val_accuracy: 0.4930\n",
            "Epoch 7/20\n",
            "41/41 [==============================] - 20s 478ms/step - loss: 2.8350 - accuracy: 0.5000 - val_loss: 0.9985 - val_accuracy: 0.4930\n",
            "Epoch 8/20\n",
            "41/41 [==============================] - 21s 506ms/step - loss: 2.6157 - accuracy: 0.5000 - val_loss: 6.6665 - val_accuracy: 0.4930\n",
            "Epoch 9/20\n",
            "41/41 [==============================] - 20s 480ms/step - loss: 3.9699 - accuracy: 0.5000 - val_loss: 1.5813 - val_accuracy: 0.4930\n",
            "Epoch 10/20\n",
            "41/41 [==============================] - 20s 480ms/step - loss: 3.6370 - accuracy: 0.5000 - val_loss: 2.4065 - val_accuracy: 0.4930\n",
            "Epoch 11/20\n",
            "41/41 [==============================] - 20s 481ms/step - loss: 3.2759 - accuracy: 0.5000 - val_loss: 1.8472 - val_accuracy: 0.4930\n",
            "Epoch 12/20\n",
            "41/41 [==============================] - 20s 488ms/step - loss: 3.1362 - accuracy: 0.5000 - val_loss: 1.1129 - val_accuracy: 0.4930\n",
            "Epoch 13/20\n",
            "41/41 [==============================] - 20s 481ms/step - loss: 2.0535 - accuracy: 0.5000 - val_loss: 3.0587 - val_accuracy: 0.4930\n",
            "Epoch 14/20\n",
            "41/41 [==============================] - 20s 480ms/step - loss: 2.7391 - accuracy: 0.5000 - val_loss: 8.5614 - val_accuracy: 0.4930\n",
            "Epoch 15/20\n",
            "41/41 [==============================] - 20s 478ms/step - loss: 2.4117 - accuracy: 0.5000 - val_loss: 0.6606 - val_accuracy: 0.4930\n",
            "Epoch 16/20\n",
            "41/41 [==============================] - 20s 479ms/step - loss: 2.1391 - accuracy: 0.5000 - val_loss: 1.1090 - val_accuracy: 0.4930\n",
            "Epoch 17/20\n",
            "41/41 [==============================] - 20s 478ms/step - loss: 2.1127 - accuracy: 0.5000 - val_loss: 1.9784 - val_accuracy: 0.4930\n",
            "Epoch 18/20\n",
            "41/41 [==============================] - 21s 506ms/step - loss: 1.9723 - accuracy: 0.5000 - val_loss: 2.0396 - val_accuracy: 0.4930\n",
            "Epoch 19/20\n",
            "41/41 [==============================] - 20s 478ms/step - loss: 1.8610 - accuracy: 0.5000 - val_loss: 1.4611 - val_accuracy: 0.4930\n",
            "Epoch 20/20\n",
            "41/41 [==============================] - 20s 477ms/step - loss: 2.2437 - accuracy: 0.5000 - val_loss: 0.7627 - val_accuracy: 0.4930\n"
          ]
        }
      ]
    },
    {
      "cell_type": "code",
      "source": [
        "# loss\n",
        "plt.plot(r.history['loss'], label='train loss')\n",
        "plt.plot(r.history['val_loss'], label='val loss')\n",
        "plt.legend()\n",
        "plt.show()\n",
        "plt.savefig('LossVal_loss')"
      ],
      "metadata": {
        "id": "pJ5QnnEZAewZ",
        "outputId": "02fed365-455a-4b05-967c-4908a82b012b",
        "colab": {
          "base_uri": "https://localhost:8080/",
          "height": 283
        }
      },
      "id": "pJ5QnnEZAewZ",
      "execution_count": 150,
      "outputs": [
        {
          "output_type": "display_data",
          "data": {
            "text/plain": [
              "<Figure size 432x288 with 1 Axes>"
            ],
            "image/png": "[encoded data removed]"
          },
          "metadata": {
            "needs_background": "light"
          }
        },
        {
          "output_type": "display_data",
          "data": {
            "text/plain": [
              "<Figure size 432x288 with 0 Axes>"
            ]
          },
          "metadata": {}
        }
      ]
    },
    {
      "cell_type": "code",
      "source": [
        "# accuracies\n",
        "plt.plot(r.history['accuracy'], label='train accuracy')\n",
        "plt.plot(r.history['val_accuracy'], label='val accuracy')\n",
        "plt.legend()\n",
        "plt.show()"
      ],
      "metadata": {
        "id": "OP1J0zWYAUQq",
        "outputId": "4ef09b66-9142-418c-9144-2cf6696a0bee",
        "colab": {
          "base_uri": "https://localhost:8080/",
          "height": 265
        }
      },
      "id": "OP1J0zWYAUQq",
      "execution_count": 154,
      "outputs": [
        {
          "output_type": "display_data",
          "data": {
            "text/plain": [
              "<Figure size 432x288 with 1 Axes>"
            ],
            "image/png": "[encoded data removed]"
          },
          "metadata": {
            "needs_background": "light"
          }
        }
      ]
    }
  ],
  "metadata": {
    "kernelspec": {
      "display_name": "Python 3 (ipykernel)",
      "language": "python",
      "name": "python3"
    },
    "language_info": {
      "codemirror_mode": {
        "name": "ipython",
        "version": 3
      },
      "file_extension": ".py",
      "mimetype": "text/x-python",
      "name": "python",
      "nbconvert_exporter": "python",
      "pygments_lexer": "ipython3",
      "version": "3.9.7"
    },
    "colab": {
      "name": "drowsiness.ipynb",
      "provenance": [],
      "collapsed_sections": [],
      "include_colab_link": true
    },
    "accelerator": "GPU"
  },
  "nbformat": 4,
  "nbformat_minor": 5
}