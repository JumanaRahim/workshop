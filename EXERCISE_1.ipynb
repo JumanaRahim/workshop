{
  "nbformat": 4,
  "nbformat_minor": 0,
  "metadata": {
    "colab": {
      "provenance": [],
      "authorship_tag": "ABX9TyNDB73bJeVapm+dUd04FpBf",
      "include_colab_link": true
    },
    "kernelspec": {
      "name": "python3",
      "display_name": "Python 3"
    },
    "language_info": {
      "name": "python"
    }
  },
  "cells": [
    {
      "cell_type": "markdown",
      "metadata": {
        "id": "view-in-github",
        "colab_type": "text"
      },
      "source": [
        "<a href=\"https://colab.research.google.com/github/JumanaRahim/workshop/blob/master/EXERCISE_1.ipynb\" target=\"_parent\"><img src=\"https://colab.research.google.com/assets/colab-badge.svg\" alt=\"Open In Colab\"/></a>"
      ]
    },
    {
      "cell_type": "markdown",
      "source": [
        "1. Write a python script to read two numbers add them and print the result"
      ],
      "metadata": {
        "id": "P0ewBXXbbIGt"
      }
    },
    {
      "cell_type": "code",
      "execution_count": 3,
      "metadata": {
        "colab": {
          "base_uri": "https://localhost:8080/"
        },
        "id": "rKiy2YhySZJ2",
        "outputId": "e79db8a9-77ac-47f3-841c-c723cfa41b44"
      },
      "outputs": [
        {
          "output_type": "stream",
          "name": "stdout",
          "text": [
            "Enter number 1: 5\n",
            "Enter number 2: 10\n",
            "5 + 10 = 15\n"
          ]
        }
      ],
      "source": [
        "num1= int(input(\"Enter number 1: \"))\n",
        "num2=int(input(\"Enter number 2: \"))\n",
        "result= num1 + num2\n",
        "print(num1, \"+\", num2,\"=\",result)"
      ]
    },
    {
      "cell_type": "markdown",
      "source": [
        "Assume the numbers to be 2.4 and 3.5. Print the out put as given below\n",
        "Sum of 2.4 and 3.5 is 5.9 \n"
      ],
      "metadata": {
        "id": "RdahSy8_bcPD"
      }
    },
    {
      "cell_type": "code",
      "source": [
        "num1=2.4\n",
        "num2=3.5\n",
        "result= num1 + num2\n",
        "print(num1, \"+\", num2,\"=\",result)"
      ],
      "metadata": {
        "id": "N_Ejro5la5bj",
        "outputId": "b580b9f0-2b68-41ee-fa52-7a782c8f3448",
        "colab": {
          "base_uri": "https://localhost:8080/"
        }
      },
      "execution_count": 4,
      "outputs": [
        {
          "output_type": "stream",
          "name": "stdout",
          "text": [
            "2.4 + 3.5 = 5.9\n"
          ]
        }
      ]
    },
    {
      "cell_type": "markdown",
      "source": [
        "2. Write a python script to find maximum of two number"
      ],
      "metadata": {
        "id": "Neq2oJMjcCfU"
      }
    },
    {
      "cell_type": "code",
      "source": [
        "num1 = int(input(\"Enter the first number: \"))\n",
        "num2 = int(input(\"Enter the second number: \"))\n",
        "if(num1 > num2):\n",
        "  print(num1, \"is greater\")\n",
        "elif(num1 < num2):\n",
        "    print(num2, \"is greater\")\n",
        "else:\n",
        "    print(\"Both are equal\")"
      ],
      "metadata": {
        "id": "GzNA7KD-cLtS",
        "outputId": "a8fbb125-7096-43ff-ad7b-af97af0f2f11",
        "colab": {
          "base_uri": "https://localhost:8080/"
        }
      },
      "execution_count": 7,
      "outputs": [
        {
          "output_type": "stream",
          "name": "stdout",
          "text": [
            "Enter the first number: 32\n",
            "Enter the second number: 55\n",
            "55 is greater\n"
          ]
        }
      ]
    },
    {
      "cell_type": "markdown",
      "source": [
        "3. Write a python script to find maximum of three numbers"
      ],
      "metadata": {
        "id": "nW56IuLkdGml"
      }
    },
    {
      "cell_type": "code",
      "source": [
        "def maximum(a, b, c):\n",
        "  \n",
        " if (a >= b) and (a >= c):\n",
        "        largest = a\n",
        "  \n",
        " elif (b >= a) and (b >= c):\n",
        "        largest = b\n",
        " else:\n",
        "        largest = c\n",
        "          \n",
        " return largest \n",
        "a = 10\n",
        "b = 14\n",
        "c = 12\n",
        "print(maximum(a, b, c))"
      ],
      "metadata": {
        "id": "Z9m9rl--fx6v",
        "outputId": "51cc9e52-d0cb-48a3-84ca-d91043137d54",
        "colab": {
          "base_uri": "https://localhost:8080/"
        }
      },
      "execution_count": 24,
      "outputs": [
        {
          "output_type": "stream",
          "name": "stdout",
          "text": [
            "14\n"
          ]
        }
      ]
    },
    {
      "cell_type": "markdown",
      "source": [
        "4. Write a python script to find maximum of ten numbers\n"
      ],
      "metadata": {
        "id": "Yzr8PI6rgHTV"
      }
    },
    {
      "cell_type": "code",
      "source": [
        "list1 = [10, 20, 4, 45, 99, 1, 88, 77, 55]\n",
        "list1.sort()\n",
        "print(\"Largest element is:\", list1[-1])"
      ],
      "metadata": {
        "id": "Udorm2O-gMqj",
        "outputId": "9e819600-4fd0-429e-a4ed-9140e29f64d2",
        "colab": {
          "base_uri": "https://localhost:8080/"
        }
      },
      "execution_count": 25,
      "outputs": [
        {
          "output_type": "stream",
          "name": "stdout",
          "text": [
            "Largest element is: 99\n"
          ]
        }
      ]
    },
    {
      "cell_type": "markdown",
      "source": [
        "5. Write a python Program for Sum of squares of first n natural numbers"
      ],
      "metadata": {
        "id": "Xi5Ykzg6g2N6"
      }
    },
    {
      "cell_type": "code",
      "source": [
        "def squaresum(n) :\n",
        " sum = 0\n",
        " for i in range(1, n+1) :\n",
        "        sum = sum + (i * i)\n",
        " return sum\n",
        "n = 5\n",
        "print(squaresum(n))"
      ],
      "metadata": {
        "id": "WkRHx_Evg8D3",
        "outputId": "428181f8-c5af-4093-e4b4-0fc736541d86",
        "colab": {
          "base_uri": "https://localhost:8080/"
        }
      },
      "execution_count": 52,
      "outputs": [
        {
          "output_type": "stream",
          "name": "stdout",
          "text": [
            "55\n"
          ]
        }
      ]
    },
    {
      "cell_type": "markdown",
      "source": [
        "6. Write a python program to generate the following multiplication table\n",
        " 1 5\n",
        " 2 10\n",
        " ……..\n",
        " 10 50\n"
      ],
      "metadata": {
        "id": "bLCldzofj1RG"
      }
    },
    {
      "cell_type": "code",
      "source": [
        "number = int(input (\"Enter the number of which multiplication table to be printed: \"))            \n",
        "print (\"The Multiplication Table of: \", number)    \n",
        "for count in range(1, 11):      \n",
        "   print (number, 'x', count, '=', number * count)    "
      ],
      "metadata": {
        "id": "ojkGsNJkj6JX",
        "outputId": "aa38e4d1-cd12-46be-9f01-ab33c45f7db5",
        "colab": {
          "base_uri": "https://localhost:8080/"
        }
      },
      "execution_count": 53,
      "outputs": [
        {
          "output_type": "stream",
          "name": "stdout",
          "text": [
            "Enter the number of which the user wants to print the multiplication table: 5\n",
            "The Multiplication Table of:  5\n",
            "5 x 1 = 5\n",
            "5 x 2 = 10\n",
            "5 x 3 = 15\n",
            "5 x 4 = 20\n",
            "5 x 5 = 25\n",
            "5 x 6 = 30\n",
            "5 x 7 = 35\n",
            "5 x 8 = 40\n",
            "5 x 9 = 45\n",
            "5 x 10 = 50\n"
          ]
        }
      ]
    }
  ]
}