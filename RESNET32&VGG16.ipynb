{
  "metadata": {
    "colab": {
      "provenance": [],
      "include_colab_link": true
    },
    "gpuClass": "standard",
    "kernelspec": {
      "name": "python3",
      "display_name": "Python 3",
      "language": "python"
    },
    "language_info": {
      "name": "python",
      "version": "3.7.12",
      "mimetype": "text/x-python",
      "codemirror_mode": {
        "name": "ipython",
        "version": 3
      },
      "pygments_lexer": "ipython3",
      "nbconvert_exporter": "python",
      "file_extension": ".py"
    },
    "accelerator": "GPU"
  },
  "nbformat_minor": 0,
  "nbformat": 4,
  "cells": [
    {
      "cell_type": "markdown",
      "metadata": {
        "id": "view-in-github",
        "colab_type": "text"
      },
      "source": [
        "<a href=\"https://colab.research.google.com/github/JumanaRahim/workshop/blob/master/RESNET32%26VGG16.ipynb\" target=\"_parent\"><img src=\"https://colab.research.google.com/assets/colab-badge.svg\" alt=\"Open In Colab\"/></a>"
      ]
    },
    {
      "cell_type": "code",
      "source": [
        "!pip install pretrainedmodels\n",
        "!pip install torchsummary\n",
        "!pip install imutils\n",
        "!pip install tqdm"
      ],
      "metadata": {
        "id": "0_StQhtUYxHk",
        "outputId": "b599b8b3-3ac1-4dcb-f0a9-39981c40354f",
        "execution": {
          "iopub.status.busy": "2023-01-16T09:47:40.735132Z",
          "iopub.execute_input": "2023-01-16T09:47:40.735514Z",
          "iopub.status.idle": "2023-01-16T09:48:19.415692Z",
          "shell.execute_reply.started": "2023-01-16T09:47:40.735482Z",
          "shell.execute_reply": "2023-01-16T09:48:19.414410Z"
        },
        "trusted": true
      },
      "execution_count": null,
      "outputs": [
        {
          "name": "stdout",
          "text": "Requirement already satisfied: pretrainedmodels in /opt/conda/lib/python3.7/site-packages (0.7.4)\nRequirement already satisfied: munch in /opt/conda/lib/python3.7/site-packages (from pretrainedmodels) (2.5.0)\nRequirement already satisfied: tqdm in /opt/conda/lib/python3.7/site-packages (from pretrainedmodels) (4.64.0)\nRequirement already satisfied: torch in /opt/conda/lib/python3.7/site-packages (from pretrainedmodels) (1.11.0)\nRequirement already satisfied: torchvision in /opt/conda/lib/python3.7/site-packages (from pretrainedmodels) (0.12.0)\nRequirement already satisfied: six in /opt/conda/lib/python3.7/site-packages (from munch->pretrainedmodels) (1.15.0)\nRequirement already satisfied: typing-extensions in /opt/conda/lib/python3.7/site-packages (from torch->pretrainedmodels) (4.1.1)\nRequirement already satisfied: requests in /opt/conda/lib/python3.7/site-packages (from torchvision->pretrainedmodels) (2.28.1)\nRequirement already satisfied: pillow!=8.3.*,>=5.3.0 in /opt/conda/lib/python3.7/site-packages (from torchvision->pretrainedmodels) (9.1.1)\nRequirement already satisfied: numpy in /opt/conda/lib/python3.7/site-packages (from torchvision->pretrainedmodels) (1.21.6)\nRequirement already satisfied: certifi>=2017.4.17 in /opt/conda/lib/python3.7/site-packages (from requests->torchvision->pretrainedmodels) (2022.12.7)\nRequirement already satisfied: urllib3<1.27,>=1.21.1 in /opt/conda/lib/python3.7/site-packages (from requests->torchvision->pretrainedmodels) (1.26.13)\nRequirement already satisfied: charset-normalizer<3,>=2 in /opt/conda/lib/python3.7/site-packages (from requests->torchvision->pretrainedmodels) (2.1.0)\nRequirement already satisfied: idna<4,>=2.5 in /opt/conda/lib/python3.7/site-packages (from requests->torchvision->pretrainedmodels) (3.3)\n\u001b[33mWARNING: Running pip as the 'root' user can result in broken permissions and conflicting behaviour with the system package manager. It is recommended to use a virtual environment instead: https://pip.pypa.io/warnings/venv\u001b[0m\u001b[33m\n\u001b[0mRequirement already satisfied: torchsummary in /opt/conda/lib/python3.7/site-packages (1.5.1)\n\u001b[33mWARNING: Running pip as the 'root' user can result in broken permissions and conflicting behaviour with the system package manager. It is recommended to use a virtual environment instead: https://pip.pypa.io/warnings/venv\u001b[0m\u001b[33m\n\u001b[0mRequirement already satisfied: imutils in /opt/conda/lib/python3.7/site-packages (0.5.4)\n\u001b[33mWARNING: Running pip as the 'root' user can result in broken permissions and conflicting behaviour with the system package manager. It is recommended to use a virtual environment instead: https://pip.pypa.io/warnings/venv\u001b[0m\u001b[33m\n\u001b[0mRequirement already satisfied: tqdm in /opt/conda/lib/python3.7/site-packages (4.64.0)\n\u001b[33mWARNING: Running pip as the 'root' user can result in broken permissions and conflicting behaviour with the system package manager. It is recommended to use a virtual environment instead: https://pip.pypa.io/warnings/venv\u001b[0m\u001b[33m\n\u001b[0m",
          "output_type": "stream"
        }
      ]
    },
    {
      "cell_type": "code",
      "source": [
        "import os\n",
        "import torch\n",
        "from torch.utils.data import DataLoader,Dataset\n",
        "from torchvision import transforms\n",
        "from sklearn.preprocessing import LabelEncoder\n",
        "from torchsummary import summary\n",
        "from torch import nn\n",
        "import torch.nn.functional as F\n",
        "from imutils import paths\n",
        "import cv2\n",
        "import numpy as np\n",
        "from sklearn.model_selection import train_test_split\n",
        "import pretrainedmodels\n",
        "import torchvision\n",
        "from tqdm import tqdm\n",
        "import matplotlib.pyplot as plt"
      ],
      "metadata": {
        "id": "tvtdq_wwtt_x",
        "execution": {
          "iopub.status.busy": "2023-01-16T09:48:19.418486Z",
          "iopub.execute_input": "2023-01-16T09:48:19.418908Z",
          "iopub.status.idle": "2023-01-16T09:48:19.426010Z",
          "shell.execute_reply.started": "2023-01-16T09:48:19.418863Z",
          "shell.execute_reply": "2023-01-16T09:48:19.424985Z"
        },
        "trusted": true
      },
      "execution_count": null,
      "outputs": []
    },
    {
      "cell_type": "code",
      "source": [
        "root='/kaggle/input/jsrt-dataset/dataset'"
      ],
      "metadata": {
        "id": "mZSWxppaMYV-",
        "execution": {
          "iopub.status.busy": "2023-01-16T09:48:19.427184Z",
          "iopub.execute_input": "2023-01-16T09:48:19.427524Z",
          "iopub.status.idle": "2023-01-16T09:48:19.440809Z",
          "shell.execute_reply.started": "2023-01-16T09:48:19.427483Z",
          "shell.execute_reply": "2023-01-16T09:48:19.439616Z"
        },
        "trusted": true
      },
      "execution_count": null,
      "outputs": []
    },
    {
      "cell_type": "code",
      "source": [
        "classes=('benign', 'malignant', 'non-nodule')"
      ],
      "metadata": {
        "id": "9fcg3zBxYxHp",
        "execution": {
          "iopub.status.busy": "2023-01-16T09:48:19.443842Z",
          "iopub.execute_input": "2023-01-16T09:48:19.444588Z",
          "iopub.status.idle": "2023-01-16T09:48:19.449713Z",
          "shell.execute_reply.started": "2023-01-16T09:48:19.444551Z",
          "shell.execute_reply": "2023-01-16T09:48:19.448651Z"
        },
        "trusted": true
      },
      "execution_count": null,
      "outputs": []
    },
    {
      "cell_type": "code",
      "source": [
        "image_paths = list(paths.list_images('/kaggle/input/jsrt-dataset/dataset'))\n",
        "\n",
        "data = []\n",
        "labels = []\n",
        "for img_path in image_paths:\n",
        "    label = img_path.split(os.path.sep)[-2]\n",
        "    img = cv2.imread(img_path)\n",
        "    img = cv2.cvtColor(img, cv2.COLOR_BGR2RGB)\n",
        "    \n",
        "    data.append(img)\n",
        "    labels.append(label)\n",
        "    \n",
        "data = np.array(data)\n",
        "labels = np.array(labels)"
      ],
      "metadata": {
        "id": "5WDI6i71ORyn",
        "execution": {
          "iopub.status.busy": "2023-01-16T09:48:19.451794Z",
          "iopub.execute_input": "2023-01-16T09:48:19.453723Z",
          "iopub.status.idle": "2023-01-16T09:48:33.175096Z",
          "shell.execute_reply.started": "2023-01-16T09:48:19.453687Z",
          "shell.execute_reply": "2023-01-16T09:48:33.174097Z"
        },
        "trusted": true
      },
      "execution_count": null,
      "outputs": []
    },
    {
      "cell_type": "code",
      "source": [
        "labels"
      ],
      "metadata": {
        "id": "JRiiXyOerNpE",
        "outputId": "1f6eb92b-466f-4364-dd6e-8645390d767e",
        "execution": {
          "iopub.status.busy": "2023-01-16T09:48:33.177023Z",
          "iopub.execute_input": "2023-01-16T09:48:33.177407Z",
          "iopub.status.idle": "2023-01-16T09:48:33.187623Z",
          "shell.execute_reply.started": "2023-01-16T09:48:33.177367Z",
          "shell.execute_reply": "2023-01-16T09:48:33.186596Z"
        },
        "trusted": true
      },
      "execution_count": null,
      "outputs": [
        {
          "execution_count": 11,
          "output_type": "execute_result",
          "data": {
            "text/plain": "array(['non-nodule', 'non-nodule', 'non-nodule', 'non-nodule',\n       'non-nodule', 'non-nodule', 'non-nodule', 'non-nodule',\n       'non-nodule', 'non-nodule', 'non-nodule', 'non-nodule',\n       'non-nodule', 'non-nodule', 'non-nodule', 'non-nodule',\n       'non-nodule', 'non-nodule', 'non-nodule', 'non-nodule',\n       'non-nodule', 'non-nodule', 'non-nodule', 'non-nodule',\n       'non-nodule', 'non-nodule', 'non-nodule', 'non-nodule',\n       'non-nodule', 'non-nodule', 'non-nodule', 'non-nodule',\n       'non-nodule', 'non-nodule', 'non-nodule', 'non-nodule',\n       'non-nodule', 'non-nodule', 'non-nodule', 'non-nodule',\n       'non-nodule', 'non-nodule', 'non-nodule', 'non-nodule',\n       'non-nodule', 'non-nodule', 'non-nodule', 'non-nodule',\n       'non-nodule', 'non-nodule', 'non-nodule', 'non-nodule',\n       'non-nodule', 'non-nodule', 'non-nodule', 'non-nodule',\n       'non-nodule', 'non-nodule', 'non-nodule', 'non-nodule',\n       'non-nodule', 'non-nodule', 'non-nodule', 'non-nodule',\n       'non-nodule', 'non-nodule', 'non-nodule', 'non-nodule',\n       'non-nodule', 'non-nodule', 'non-nodule', 'non-nodule',\n       'non-nodule', 'non-nodule', 'non-nodule', 'non-nodule',\n       'non-nodule', 'non-nodule', 'non-nodule', 'non-nodule',\n       'non-nodule', 'non-nodule', 'non-nodule', 'non-nodule',\n       'non-nodule', 'non-nodule', 'non-nodule', 'non-nodule',\n       'non-nodule', 'non-nodule', 'non-nodule', 'non-nodule',\n       'non-nodule', 'benign', 'benign', 'benign', 'benign', 'benign',\n       'benign', 'benign', 'benign', 'benign', 'benign', 'benign',\n       'benign', 'benign', 'benign', 'benign', 'benign', 'benign',\n       'benign', 'benign', 'benign', 'benign', 'benign', 'benign',\n       'benign', 'benign', 'benign', 'benign', 'benign', 'benign',\n       'benign', 'benign', 'benign', 'benign', 'benign', 'benign',\n       'benign', 'benign', 'benign', 'benign', 'benign', 'benign',\n       'benign', 'benign', 'benign', 'benign', 'benign', 'benign',\n       'benign', 'benign', 'benign', 'benign', 'benign', 'benign',\n       'benign', 'malignant', 'malignant', 'malignant', 'malignant',\n       'malignant', 'malignant', 'malignant', 'malignant', 'malignant',\n       'malignant', 'malignant', 'malignant', 'malignant', 'malignant',\n       'malignant', 'malignant', 'malignant', 'malignant', 'malignant',\n       'malignant', 'malignant', 'malignant', 'malignant', 'malignant',\n       'malignant', 'malignant', 'malignant', 'malignant', 'malignant',\n       'malignant', 'malignant', 'malignant', 'malignant', 'malignant',\n       'malignant', 'malignant', 'malignant', 'malignant', 'malignant',\n       'malignant', 'malignant', 'malignant', 'malignant', 'malignant',\n       'malignant', 'malignant', 'malignant', 'malignant', 'malignant',\n       'malignant', 'malignant', 'malignant', 'malignant', 'malignant',\n       'malignant', 'malignant', 'malignant', 'malignant', 'malignant',\n       'malignant', 'malignant', 'malignant', 'malignant', 'malignant',\n       'malignant', 'malignant', 'malignant', 'malignant', 'malignant',\n       'malignant', 'malignant', 'malignant', 'malignant', 'malignant',\n       'malignant', 'malignant', 'malignant', 'malignant', 'malignant',\n       'malignant', 'malignant', 'malignant', 'malignant', 'malignant',\n       'malignant', 'malignant', 'malignant', 'malignant', 'malignant',\n       'malignant', 'malignant', 'malignant', 'malignant', 'malignant',\n       'malignant', 'malignant', 'malignant', 'malignant', 'malignant',\n       'malignant'], dtype='<U10')"
          },
          "metadata": {}
        }
      ]
    },
    {
      "cell_type": "code",
      "source": [
        "lb = LabelEncoder()\n",
        "labels = lb.fit_transform(labels)\n",
        "print(f\"Total Number of Classes: {len(lb.classes_)}\")"
      ],
      "metadata": {
        "id": "2TEpv5btiBnH",
        "outputId": "62e7aa57-d157-4a2a-d4fd-f4b236e205cd",
        "execution": {
          "iopub.status.busy": "2023-01-16T09:48:33.188982Z",
          "iopub.execute_input": "2023-01-16T09:48:33.189742Z",
          "iopub.status.idle": "2023-01-16T09:48:33.202217Z",
          "shell.execute_reply.started": "2023-01-16T09:48:33.189704Z",
          "shell.execute_reply": "2023-01-16T09:48:33.200817Z"
        },
        "trusted": true
      },
      "execution_count": null,
      "outputs": [
        {
          "name": "stdout",
          "text": "Total Number of Classes: 3\n",
          "output_type": "stream"
        }
      ]
    },
    {
      "cell_type": "code",
      "source": [
        "#orginal dataset\n",
        "\n",
        "train_orginal_transforms = transforms.Compose([\n",
        "    transforms.ToPILImage(),\n",
        "    transforms.Resize((224, 224)),\n",
        "    transforms.ToTensor(),\n",
        "])\n",
        "\n",
        "test_orginal_transforms = transforms.Compose([\n",
        "    transforms.ToPILImage(),\n",
        "    transforms.Resize((224, 224)),\n",
        "    transforms.ToTensor(),\n",
        "])    \n",
        "\n",
        "\n",
        "#for data augmentation\n",
        "\n",
        "train_augmentation_transforms = transforms.Compose([\n",
        "    transforms.ToPILImage(),\n",
        "    transforms.Resize((224, 224)),\n",
        "    transforms.ToTensor(),\n",
        "    transforms.RandomHorizontalFlip(p=0.5),\n",
        "    transforms.RandomVerticalFlip(p=0.5),\n",
        "    transforms.Normalize(mean = [0.485,0.456,0.406], std=[0.229,0.224,0.225]),\n",
        "])\n",
        "\n",
        "test_augmentation_transforms = transforms.Compose([\n",
        "    transforms.ToPILImage(),\n",
        "    transforms.Resize((224, 224)),\n",
        "    transforms.ToTensor(),\n",
        "    transforms.RandomHorizontalFlip(p=0.5),\n",
        "    transforms.RandomVerticalFlip(p=0.5),\n",
        "    transforms.Normalize(mean = [0.485,0.456,0.406], std=[0.229,0.224,0.225]),\n",
        "])"
      ],
      "metadata": {
        "id": "W2IX6X3ZiwUp",
        "execution": {
          "iopub.status.busy": "2023-01-16T09:48:33.204028Z",
          "iopub.execute_input": "2023-01-16T09:48:33.204626Z",
          "iopub.status.idle": "2023-01-16T09:48:33.215109Z",
          "shell.execute_reply.started": "2023-01-16T09:48:33.204474Z",
          "shell.execute_reply": "2023-01-16T09:48:33.214318Z"
        },
        "trusted": true
      },
      "execution_count": null,
      "outputs": []
    },
    {
      "cell_type": "code",
      "source": [
        "# divide the data into train, validation, and test set\n",
        "#(X, x_val , Y, y_val) = train_test_split(data, labels, test_size=0.2,  stratify=labels,random_state=42)\n",
        "#(x_train, x_test, y_train, y_test) = train_test_split(X, Y, test_size=0.25, random_state=42)\n",
        "#print(f\"x_train examples: {x_train.shape}\\nx_test examples: {x_test.shape}\\nx_val examples: {x_val.shape}\")\n",
        "\n",
        "(x_train, x_test, y_train, y_test) = train_test_split(data, labels, test_size=0.3,random_state=42)\n",
        "print(f\"x_train examples: {x_train.shape}\\nx_test examples: {x_test.shape}\")"
      ],
      "metadata": {
        "id": "Ws76CCyMi6uc",
        "outputId": "2f9a6a0f-6808-4999-e35a-b565feed6c2b",
        "execution": {
          "iopub.status.busy": "2023-01-16T09:48:33.216307Z",
          "iopub.execute_input": "2023-01-16T09:48:33.217054Z",
          "iopub.status.idle": "2023-01-16T09:48:34.012863Z",
          "shell.execute_reply.started": "2023-01-16T09:48:33.217015Z",
          "shell.execute_reply": "2023-01-16T09:48:34.011707Z"
        },
        "trusted": true
      },
      "execution_count": null,
      "outputs": [
        {
          "name": "stdout",
          "text": "x_train examples: (172, 2048, 2048, 3)\nx_test examples: (75, 2048, 2048, 3)\n",
          "output_type": "stream"
        }
      ]
    },
    {
      "cell_type": "code",
      "source": [
        "batch_size=64"
      ],
      "metadata": {
        "id": "YUW4ud-FYxHt",
        "execution": {
          "iopub.status.busy": "2023-01-16T09:48:34.017554Z",
          "iopub.execute_input": "2023-01-16T09:48:34.017844Z",
          "iopub.status.idle": "2023-01-16T09:48:34.022426Z",
          "shell.execute_reply.started": "2023-01-16T09:48:34.017817Z",
          "shell.execute_reply": "2023-01-16T09:48:34.021326Z"
        },
        "trusted": true
      },
      "execution_count": null,
      "outputs": []
    },
    {
      "cell_type": "code",
      "source": [
        "# custom dataset class\n",
        "class CustomDataset(Dataset):\n",
        "    def __init__(self, images, labels, transforms = None):\n",
        "        self.labels = labels\n",
        "        self.images = images\n",
        "        self.transforms = transforms\n",
        "        \n",
        "    def __len__(self):\n",
        "        return len(self.images)\n",
        "    \n",
        "    def __getitem__(self, index):\n",
        "        data = self.images[index][:]\n",
        "        labels = self.labels[index]\n",
        "        \n",
        "        if self.transforms:\n",
        "            data = self.transforms(data)\n",
        "            \n",
        "            return data,labels\n",
        "\n",
        "        \n",
        "        \n",
        "        \n",
        "        \n",
        "train_orginal_data = CustomDataset(x_train, y_train, train_orginal_transforms)\n",
        "test_orginal_data = CustomDataset(x_test, y_test, test_orginal_transforms)     \n",
        "\n",
        "\n",
        "train_augmentation_data = CustomDataset(x_train, y_train, train_augmentation_transforms )\n",
        "test_augmentation_data = CustomDataset(x_test, y_test, test_augmentation_transforms )  \n",
        "\n",
        "train_data = torch.utils.data.ConcatDataset([train_orginal_data,train_augmentation_data])\n",
        "print(len(train_data))\n",
        "test_data = torch.utils.data.ConcatDataset([test_orginal_data,test_augmentation_data])\n",
        "print(len(test_data))\n",
        "\n",
        "\n",
        "\n",
        "\n",
        "trainLoader = DataLoader(train_data, batch_size=batch_size, shuffle=True, num_workers=4)\n",
        "testLoader = DataLoader(test_data, batch_size=batch_size, shuffle=True, num_workers=4) "
      ],
      "metadata": {
        "id": "1JI8d5JGjSRG",
        "outputId": "7bcd8202-4211-42be-d61c-8d63c19b4ace",
        "execution": {
          "iopub.status.busy": "2023-01-16T09:48:34.023889Z",
          "iopub.execute_input": "2023-01-16T09:48:34.024287Z",
          "iopub.status.idle": "2023-01-16T09:48:34.040395Z",
          "shell.execute_reply.started": "2023-01-16T09:48:34.024253Z",
          "shell.execute_reply": "2023-01-16T09:48:34.039271Z"
        },
        "trusted": true
      },
      "execution_count": null,
      "outputs": [
        {
          "name": "stdout",
          "text": "344\n150\n",
          "output_type": "stream"
        },
        {
          "name": "stderr",
          "text": "/opt/conda/lib/python3.7/site-packages/torch/utils/data/dataloader.py:490: UserWarning: This DataLoader will create 4 worker processes in total. Our suggested max number of worker in current system is 2, which is smaller than what this DataLoader is going to create. Please be aware that excessive worker creation might get DataLoader running slow or even freeze, lower the worker number to avoid potential slowness/freeze if necessary.\n  cpuset_checked))\n",
          "output_type": "stream"
        }
      ]
    },
    {
      "cell_type": "code",
      "source": [
        "for X, y in trainLoader:\n",
        "    print(f\"Shape of X [N, C, H, W]: {X.shape}\")\n",
        "    print(f\"Shape of y: {y.shape} {y.dtype}\")\n",
        "    break"
      ],
      "metadata": {
        "id": "z47BjF0k7kz7",
        "outputId": "785e8746-1287-4431-f956-22195c6939c2",
        "execution": {
          "iopub.status.busy": "2023-01-16T09:48:34.042167Z",
          "iopub.execute_input": "2023-01-16T09:48:34.042570Z",
          "iopub.status.idle": "2023-01-16T09:48:42.507568Z",
          "shell.execute_reply.started": "2023-01-16T09:48:34.042534Z",
          "shell.execute_reply": "2023-01-16T09:48:42.506369Z"
        },
        "trusted": true
      },
      "execution_count": null,
      "outputs": [
        {
          "name": "stdout",
          "text": "Shape of X [N, C, H, W]: torch.Size([64, 3, 224, 224])\nShape of y: torch.Size([64]) torch.int64\n",
          "output_type": "stream"
        }
      ]
    },
    {
      "cell_type": "code",
      "source": [
        "device = \"cuda\" if torch.cuda.is_available() else \"cpu\"\n",
        "print(f\"Using {device} device\")"
      ],
      "metadata": {
        "id": "dPofmxO_jssC",
        "outputId": "7d472d78-c23b-4b92-d537-cfbf0dc53fc7",
        "execution": {
          "iopub.status.busy": "2023-01-16T09:48:42.509820Z",
          "iopub.execute_input": "2023-01-16T09:48:42.510269Z",
          "iopub.status.idle": "2023-01-16T09:48:42.616203Z",
          "shell.execute_reply.started": "2023-01-16T09:48:42.510211Z",
          "shell.execute_reply": "2023-01-16T09:48:42.614781Z"
        },
        "trusted": true
      },
      "execution_count": null,
      "outputs": [
        {
          "name": "stdout",
          "text": "Using cuda device\n",
          "output_type": "stream"
        }
      ]
    },
    {
      "cell_type": "markdown",
      "source": [
        "# **MODEL**"
      ],
      "metadata": {
        "id": "s_3m5WuWYxHv"
      }
    },
    {
      "cell_type": "code",
      "source": [
        "# the resnet34 model\n",
        "class ResNet34(nn.Module):\n",
        "    def __init__(self, pretrained):\n",
        "        super(ResNet34, self).__init__()\n",
        "        if pretrained is True:\n",
        "            self.model = pretrainedmodels.__dict__['resnet34'](pretrained='imagenet')\n",
        "        else:\n",
        "            self.model = pretrainedmodels.__dict__['resnet34'](pretrained = None)\n",
        "        # change the classification layer\n",
        "        #self.l0= nn.Linear(512, len(lb.classes_))\n",
        "        #self.dropout = nn.Dropout2d(0.4)\n",
        "        \n",
        "    def forward(self, x):\n",
        "        # get the batch size only, ignore(c, h, w)\n",
        "        #batch, _, _, _ = x.shape\n",
        "        x = self.model.features(x)\n",
        "        #x = F.adaptive_avg_pool2d(x, 1).reshape(batch, -1)\n",
        "        #x = self.dropout(x)\n",
        "        #l0 = self.l0(x)\n",
        "        return x\n",
        "\n",
        "model_1= ResNet34(pretrained=True).to(device)\n",
        "print(model_1)"
      ],
      "metadata": {
        "id": "kOPgxghVja4L",
        "outputId": "084486f0-86dd-4ee4-c676-7ddd24cd5455",
        "execution": {
          "iopub.status.busy": "2023-01-16T09:48:42.618108Z",
          "iopub.execute_input": "2023-01-16T09:48:42.619366Z",
          "iopub.status.idle": "2023-01-16T09:48:48.969761Z",
          "shell.execute_reply.started": "2023-01-16T09:48:42.619263Z",
          "shell.execute_reply": "2023-01-16T09:48:48.968659Z"
        },
        "trusted": true,
        "colab": {
          "referenced_widgets": [
            "e61f93cfd5d34ec8ad79cbd1d736f9af"
          ]
        }
      },
      "execution_count": null,
      "outputs": [
        {
          "name": "stderr",
          "text": "Downloading: \"https://download.pytorch.org/models/resnet34-333f7ec4.pth\" to /root/.cache/torch/hub/checkpoints/resnet34-333f7ec4.pth\n",
          "output_type": "stream"
        },
        {
          "output_type": "display_data",
          "data": {
            "text/plain": "  0%|          | 0.00/83.3M [00:00<?, ?B/s]",
            "application/vnd.jupyter.widget-view+json": {
              "version_major": 2,
              "version_minor": 0,
              "model_id": "e61f93cfd5d34ec8ad79cbd1d736f9af"
            }
          },
          "metadata": {}
        },
        {
          "name": "stdout",
          "text": "ResNet34(\n  (model): ResNet(\n    (conv1): Conv2d(3, 64, kernel_size=(7, 7), stride=(2, 2), padding=(3, 3), bias=False)\n    (bn1): BatchNorm2d(64, eps=1e-05, momentum=0.1, affine=True, track_running_stats=True)\n    (relu): ReLU(inplace=True)\n    (maxpool): MaxPool2d(kernel_size=3, stride=2, padding=1, dilation=1, ceil_mode=False)\n    (layer1): Sequential(\n      (0): BasicBlock(\n        (conv1): Conv2d(64, 64, kernel_size=(3, 3), stride=(1, 1), padding=(1, 1), bias=False)\n        (bn1): BatchNorm2d(64, eps=1e-05, momentum=0.1, affine=True, track_running_stats=True)\n        (relu): ReLU(inplace=True)\n        (conv2): Conv2d(64, 64, kernel_size=(3, 3), stride=(1, 1), padding=(1, 1), bias=False)\n        (bn2): BatchNorm2d(64, eps=1e-05, momentum=0.1, affine=True, track_running_stats=True)\n      )\n      (1): BasicBlock(\n        (conv1): Conv2d(64, 64, kernel_size=(3, 3), stride=(1, 1), padding=(1, 1), bias=False)\n        (bn1): BatchNorm2d(64, eps=1e-05, momentum=0.1, affine=True, track_running_stats=True)\n        (relu): ReLU(inplace=True)\n        (conv2): Conv2d(64, 64, kernel_size=(3, 3), stride=(1, 1), padding=(1, 1), bias=False)\n        (bn2): BatchNorm2d(64, eps=1e-05, momentum=0.1, affine=True, track_running_stats=True)\n      )\n      (2): BasicBlock(\n        (conv1): Conv2d(64, 64, kernel_size=(3, 3), stride=(1, 1), padding=(1, 1), bias=False)\n        (bn1): BatchNorm2d(64, eps=1e-05, momentum=0.1, affine=True, track_running_stats=True)\n        (relu): ReLU(inplace=True)\n        (conv2): Conv2d(64, 64, kernel_size=(3, 3), stride=(1, 1), padding=(1, 1), bias=False)\n        (bn2): BatchNorm2d(64, eps=1e-05, momentum=0.1, affine=True, track_running_stats=True)\n      )\n    )\n    (layer2): Sequential(\n      (0): BasicBlock(\n        (conv1): Conv2d(64, 128, kernel_size=(3, 3), stride=(2, 2), padding=(1, 1), bias=False)\n        (bn1): BatchNorm2d(128, eps=1e-05, momentum=0.1, affine=True, track_running_stats=True)\n        (relu): ReLU(inplace=True)\n        (conv2): Conv2d(128, 128, kernel_size=(3, 3), stride=(1, 1), padding=(1, 1), bias=False)\n        (bn2): BatchNorm2d(128, eps=1e-05, momentum=0.1, affine=True, track_running_stats=True)\n        (downsample): Sequential(\n          (0): Conv2d(64, 128, kernel_size=(1, 1), stride=(2, 2), bias=False)\n          (1): BatchNorm2d(128, eps=1e-05, momentum=0.1, affine=True, track_running_stats=True)\n        )\n      )\n      (1): BasicBlock(\n        (conv1): Conv2d(128, 128, kernel_size=(3, 3), stride=(1, 1), padding=(1, 1), bias=False)\n        (bn1): BatchNorm2d(128, eps=1e-05, momentum=0.1, affine=True, track_running_stats=True)\n        (relu): ReLU(inplace=True)\n        (conv2): Conv2d(128, 128, kernel_size=(3, 3), stride=(1, 1), padding=(1, 1), bias=False)\n        (bn2): BatchNorm2d(128, eps=1e-05, momentum=0.1, affine=True, track_running_stats=True)\n      )\n      (2): BasicBlock(\n        (conv1): Conv2d(128, 128, kernel_size=(3, 3), stride=(1, 1), padding=(1, 1), bias=False)\n        (bn1): BatchNorm2d(128, eps=1e-05, momentum=0.1, affine=True, track_running_stats=True)\n        (relu): ReLU(inplace=True)\n        (conv2): Conv2d(128, 128, kernel_size=(3, 3), stride=(1, 1), padding=(1, 1), bias=False)\n        (bn2): BatchNorm2d(128, eps=1e-05, momentum=0.1, affine=True, track_running_stats=True)\n      )\n      (3): BasicBlock(\n        (conv1): Conv2d(128, 128, kernel_size=(3, 3), stride=(1, 1), padding=(1, 1), bias=False)\n        (bn1): BatchNorm2d(128, eps=1e-05, momentum=0.1, affine=True, track_running_stats=True)\n        (relu): ReLU(inplace=True)\n        (conv2): Conv2d(128, 128, kernel_size=(3, 3), stride=(1, 1), padding=(1, 1), bias=False)\n        (bn2): BatchNorm2d(128, eps=1e-05, momentum=0.1, affine=True, track_running_stats=True)\n      )\n    )\n    (layer3): Sequential(\n      (0): BasicBlock(\n        (conv1): Conv2d(128, 256, kernel_size=(3, 3), stride=(2, 2), padding=(1, 1), bias=False)\n        (bn1): BatchNorm2d(256, eps=1e-05, momentum=0.1, affine=True, track_running_stats=True)\n        (relu): ReLU(inplace=True)\n        (conv2): Conv2d(256, 256, kernel_size=(3, 3), stride=(1, 1), padding=(1, 1), bias=False)\n        (bn2): BatchNorm2d(256, eps=1e-05, momentum=0.1, affine=True, track_running_stats=True)\n        (downsample): Sequential(\n          (0): Conv2d(128, 256, kernel_size=(1, 1), stride=(2, 2), bias=False)\n          (1): BatchNorm2d(256, eps=1e-05, momentum=0.1, affine=True, track_running_stats=True)\n        )\n      )\n      (1): BasicBlock(\n        (conv1): Conv2d(256, 256, kernel_size=(3, 3), stride=(1, 1), padding=(1, 1), bias=False)\n        (bn1): BatchNorm2d(256, eps=1e-05, momentum=0.1, affine=True, track_running_stats=True)\n        (relu): ReLU(inplace=True)\n        (conv2): Conv2d(256, 256, kernel_size=(3, 3), stride=(1, 1), padding=(1, 1), bias=False)\n        (bn2): BatchNorm2d(256, eps=1e-05, momentum=0.1, affine=True, track_running_stats=True)\n      )\n      (2): BasicBlock(\n        (conv1): Conv2d(256, 256, kernel_size=(3, 3), stride=(1, 1), padding=(1, 1), bias=False)\n        (bn1): BatchNorm2d(256, eps=1e-05, momentum=0.1, affine=True, track_running_stats=True)\n        (relu): ReLU(inplace=True)\n        (conv2): Conv2d(256, 256, kernel_size=(3, 3), stride=(1, 1), padding=(1, 1), bias=False)\n        (bn2): BatchNorm2d(256, eps=1e-05, momentum=0.1, affine=True, track_running_stats=True)\n      )\n      (3): BasicBlock(\n        (conv1): Conv2d(256, 256, kernel_size=(3, 3), stride=(1, 1), padding=(1, 1), bias=False)\n        (bn1): BatchNorm2d(256, eps=1e-05, momentum=0.1, affine=True, track_running_stats=True)\n        (relu): ReLU(inplace=True)\n        (conv2): Conv2d(256, 256, kernel_size=(3, 3), stride=(1, 1), padding=(1, 1), bias=False)\n        (bn2): BatchNorm2d(256, eps=1e-05, momentum=0.1, affine=True, track_running_stats=True)\n      )\n      (4): BasicBlock(\n        (conv1): Conv2d(256, 256, kernel_size=(3, 3), stride=(1, 1), padding=(1, 1), bias=False)\n        (bn1): BatchNorm2d(256, eps=1e-05, momentum=0.1, affine=True, track_running_stats=True)\n        (relu): ReLU(inplace=True)\n        (conv2): Conv2d(256, 256, kernel_size=(3, 3), stride=(1, 1), padding=(1, 1), bias=False)\n        (bn2): BatchNorm2d(256, eps=1e-05, momentum=0.1, affine=True, track_running_stats=True)\n      )\n      (5): BasicBlock(\n        (conv1): Conv2d(256, 256, kernel_size=(3, 3), stride=(1, 1), padding=(1, 1), bias=False)\n        (bn1): BatchNorm2d(256, eps=1e-05, momentum=0.1, affine=True, track_running_stats=True)\n        (relu): ReLU(inplace=True)\n        (conv2): Conv2d(256, 256, kernel_size=(3, 3), stride=(1, 1), padding=(1, 1), bias=False)\n        (bn2): BatchNorm2d(256, eps=1e-05, momentum=0.1, affine=True, track_running_stats=True)\n      )\n    )\n    (layer4): Sequential(\n      (0): BasicBlock(\n        (conv1): Conv2d(256, 512, kernel_size=(3, 3), stride=(2, 2), padding=(1, 1), bias=False)\n        (bn1): BatchNorm2d(512, eps=1e-05, momentum=0.1, affine=True, track_running_stats=True)\n        (relu): ReLU(inplace=True)\n        (conv2): Conv2d(512, 512, kernel_size=(3, 3), stride=(1, 1), padding=(1, 1), bias=False)\n        (bn2): BatchNorm2d(512, eps=1e-05, momentum=0.1, affine=True, track_running_stats=True)\n        (downsample): Sequential(\n          (0): Conv2d(256, 512, kernel_size=(1, 1), stride=(2, 2), bias=False)\n          (1): BatchNorm2d(512, eps=1e-05, momentum=0.1, affine=True, track_running_stats=True)\n        )\n      )\n      (1): BasicBlock(\n        (conv1): Conv2d(512, 512, kernel_size=(3, 3), stride=(1, 1), padding=(1, 1), bias=False)\n        (bn1): BatchNorm2d(512, eps=1e-05, momentum=0.1, affine=True, track_running_stats=True)\n        (relu): ReLU(inplace=True)\n        (conv2): Conv2d(512, 512, kernel_size=(3, 3), stride=(1, 1), padding=(1, 1), bias=False)\n        (bn2): BatchNorm2d(512, eps=1e-05, momentum=0.1, affine=True, track_running_stats=True)\n      )\n      (2): BasicBlock(\n        (conv1): Conv2d(512, 512, kernel_size=(3, 3), stride=(1, 1), padding=(1, 1), bias=False)\n        (bn1): BatchNorm2d(512, eps=1e-05, momentum=0.1, affine=True, track_running_stats=True)\n        (relu): ReLU(inplace=True)\n        (conv2): Conv2d(512, 512, kernel_size=(3, 3), stride=(1, 1), padding=(1, 1), bias=False)\n        (bn2): BatchNorm2d(512, eps=1e-05, momentum=0.1, affine=True, track_running_stats=True)\n      )\n    )\n    (avgpool): AdaptiveAvgPool2d(output_size=(1, 1))\n    (fc): None\n    (last_linear): Linear(in_features=512, out_features=1000, bias=True)\n  )\n)\n",
          "output_type": "stream"
        }
      ]
    },
    {
      "cell_type": "code",
      "source": [
        "# the resnet34 model\n",
        "class vgg11(nn.Module):\n",
        "    def __init__(self, pretrained):\n",
        "        super(vgg11, self).__init__()\n",
        "        if pretrained is True:\n",
        "            self.model = pretrainedmodels.__dict__['vgg11'](pretrained='imagenet')\n",
        "        else:\n",
        "            self.model = pretrainedmodels.__dict__['vgg11'](pretrained = None)\n",
        "        # change the classification layer\n",
        "        #self.l0= nn.Linear(512, len(lb.classes_))\n",
        "        #self.dropout = nn.Dropout2d(0.4)\n",
        "        \n",
        "    def forward(self, x):\n",
        "        # get the batch size only, ignore(c, h, w)\n",
        "        #batch, _, _, _ = x.shape\n",
        "        x = self.model.features(x)\n",
        "        #x = F.adaptive_avg_pool2d(x, 1).reshape(batch, -1)\n",
        "        #x = self.dropout(x)\n",
        "        #l0 = self.l0(x)\n",
        "        return x\n",
        "\n",
        "model_2= vgg11(pretrained=True).to(device)\n",
        "print(model_2)"
      ],
      "metadata": {
        "id": "LZ3-7Tu5fp-A",
        "outputId": "6eab74fe-9d2d-4e04-9d66-25270a7eeeab",
        "execution": {
          "iopub.status.busy": "2023-01-16T09:48:48.971330Z",
          "iopub.execute_input": "2023-01-16T09:48:48.971960Z",
          "iopub.status.idle": "2023-01-16T09:49:08.849609Z",
          "shell.execute_reply.started": "2023-01-16T09:48:48.971922Z",
          "shell.execute_reply": "2023-01-16T09:49:08.848489Z"
        },
        "trusted": true,
        "colab": {
          "referenced_widgets": [
            "b068475d98d049b0860193c7ed747a30"
          ]
        }
      },
      "execution_count": null,
      "outputs": [
        {
          "name": "stderr",
          "text": "Downloading: \"https://download.pytorch.org/models/vgg11-bbd30ac9.pth\" to /root/.cache/torch/hub/checkpoints/vgg11-bbd30ac9.pth\n",
          "output_type": "stream"
        },
        {
          "output_type": "display_data",
          "data": {
            "text/plain": "  0%|          | 0.00/507M [00:00<?, ?B/s]",
            "application/vnd.jupyter.widget-view+json": {
              "version_major": 2,
              "version_minor": 0,
              "model_id": "b068475d98d049b0860193c7ed747a30"
            }
          },
          "metadata": {}
        },
        {
          "name": "stdout",
          "text": "vgg11(\n  (model): VGG(\n    (avgpool): AdaptiveAvgPool2d(output_size=(7, 7))\n    (_features): Sequential(\n      (0): Conv2d(3, 64, kernel_size=(3, 3), stride=(1, 1), padding=(1, 1))\n      (1): ReLU(inplace=True)\n      (2): MaxPool2d(kernel_size=2, stride=2, padding=0, dilation=1, ceil_mode=False)\n      (3): Conv2d(64, 128, kernel_size=(3, 3), stride=(1, 1), padding=(1, 1))\n      (4): ReLU(inplace=True)\n      (5): MaxPool2d(kernel_size=2, stride=2, padding=0, dilation=1, ceil_mode=False)\n      (6): Conv2d(128, 256, kernel_size=(3, 3), stride=(1, 1), padding=(1, 1))\n      (7): ReLU(inplace=True)\n      (8): Conv2d(256, 256, kernel_size=(3, 3), stride=(1, 1), padding=(1, 1))\n      (9): ReLU(inplace=True)\n      (10): MaxPool2d(kernel_size=2, stride=2, padding=0, dilation=1, ceil_mode=False)\n      (11): Conv2d(256, 512, kernel_size=(3, 3), stride=(1, 1), padding=(1, 1))\n      (12): ReLU(inplace=True)\n      (13): Conv2d(512, 512, kernel_size=(3, 3), stride=(1, 1), padding=(1, 1))\n      (14): ReLU(inplace=True)\n      (15): MaxPool2d(kernel_size=2, stride=2, padding=0, dilation=1, ceil_mode=False)\n      (16): Conv2d(512, 512, kernel_size=(3, 3), stride=(1, 1), padding=(1, 1))\n      (17): ReLU(inplace=True)\n      (18): Conv2d(512, 512, kernel_size=(3, 3), stride=(1, 1), padding=(1, 1))\n      (19): ReLU(inplace=True)\n      (20): MaxPool2d(kernel_size=2, stride=2, padding=0, dilation=1, ceil_mode=False)\n    )\n    (linear0): Linear(in_features=25088, out_features=4096, bias=True)\n    (relu0): ReLU(inplace=True)\n    (dropout0): Dropout(p=0.5, inplace=False)\n    (linear1): Linear(in_features=4096, out_features=4096, bias=True)\n    (relu1): ReLU(inplace=True)\n    (dropout1): Dropout(p=0.5, inplace=False)\n    (last_linear): Linear(in_features=4096, out_features=1000, bias=True)\n  )\n)\n",
          "output_type": "stream"
        }
      ]
    },
    {
      "cell_type": "code",
      "source": [
        "class MyEnsemble(nn.Module):\n",
        "    def __init__(self, model_1, model_2):\n",
        "        super(MyEnsemble, self).__init__()\n",
        "        self.modelA = model_1\n",
        "        self.modelB = model_2\n",
        "        # change the classification layer\n",
        "        self.flatten= nn.Flatten()\n",
        "        self.l0= nn.Linear(4608, len(lb.classes_))\n",
        "        self.dropout = nn.Dropout2d(0.4)\n",
        "        \n",
        "    def forward(self, x):\n",
        "        batch, _, _, _ = x.shape\n",
        "        x11 = self.modelA(x)\n",
        "\n",
        "        x1 = F.adaptive_avg_pool2d(x11, 1).reshape(batch, -1)\n",
        "\n",
        "        x2 = self.modelB(x)\n",
        "\n",
        "\n",
        "        x_11= self.flatten(x1)\n",
        "        x_22= self.flatten(x2)\n",
        "        concat_1= torch.cat([x_11,x_22],dim=1)\n",
        "\n",
        "\n",
        "        #x = self.dropout(concat_1)\n",
        "        x = concat_1\n",
        "         \n",
        "        l0 = self.l0(x)\n",
        "        return l0"
      ],
      "metadata": {
        "id": "sNSx7h46ftxa",
        "execution": {
          "iopub.status.busy": "2023-01-16T09:49:08.851249Z",
          "iopub.execute_input": "2023-01-16T09:49:08.851723Z",
          "iopub.status.idle": "2023-01-16T09:49:08.860495Z",
          "shell.execute_reply.started": "2023-01-16T09:49:08.851685Z",
          "shell.execute_reply": "2023-01-16T09:49:08.859492Z"
        },
        "trusted": true
      },
      "execution_count": null,
      "outputs": []
    },
    {
      "cell_type": "code",
      "source": [
        "model= MyEnsemble(model_1, model_2).to(device)\n",
        "print(model)"
      ],
      "metadata": {
        "id": "JricBZwHfx_D",
        "outputId": "3883b1f8-5890-4ae4-ace4-67f3f571c82b",
        "execution": {
          "iopub.status.busy": "2023-01-16T09:49:08.862330Z",
          "iopub.execute_input": "2023-01-16T09:49:08.863066Z",
          "iopub.status.idle": "2023-01-16T09:49:08.927322Z",
          "shell.execute_reply.started": "2023-01-16T09:49:08.863025Z",
          "shell.execute_reply": "2023-01-16T09:49:08.926125Z"
        },
        "trusted": true
      },
      "execution_count": null,
      "outputs": [
        {
          "name": "stdout",
          "text": "MyEnsemble(\n  (modelA): ResNet34(\n    (model): ResNet(\n      (conv1): Conv2d(3, 64, kernel_size=(7, 7), stride=(2, 2), padding=(3, 3), bias=False)\n      (bn1): BatchNorm2d(64, eps=1e-05, momentum=0.1, affine=True, track_running_stats=True)\n      (relu): ReLU(inplace=True)\n      (maxpool): MaxPool2d(kernel_size=3, stride=2, padding=1, dilation=1, ceil_mode=False)\n      (layer1): Sequential(\n        (0): BasicBlock(\n          (conv1): Conv2d(64, 64, kernel_size=(3, 3), stride=(1, 1), padding=(1, 1), bias=False)\n          (bn1): BatchNorm2d(64, eps=1e-05, momentum=0.1, affine=True, track_running_stats=True)\n          (relu): ReLU(inplace=True)\n          (conv2): Conv2d(64, 64, kernel_size=(3, 3), stride=(1, 1), padding=(1, 1), bias=False)\n          (bn2): BatchNorm2d(64, eps=1e-05, momentum=0.1, affine=True, track_running_stats=True)\n        )\n        (1): BasicBlock(\n          (conv1): Conv2d(64, 64, kernel_size=(3, 3), stride=(1, 1), padding=(1, 1), bias=False)\n          (bn1): BatchNorm2d(64, eps=1e-05, momentum=0.1, affine=True, track_running_stats=True)\n          (relu): ReLU(inplace=True)\n          (conv2): Conv2d(64, 64, kernel_size=(3, 3), stride=(1, 1), padding=(1, 1), bias=False)\n          (bn2): BatchNorm2d(64, eps=1e-05, momentum=0.1, affine=True, track_running_stats=True)\n        )\n        (2): BasicBlock(\n          (conv1): Conv2d(64, 64, kernel_size=(3, 3), stride=(1, 1), padding=(1, 1), bias=False)\n          (bn1): BatchNorm2d(64, eps=1e-05, momentum=0.1, affine=True, track_running_stats=True)\n          (relu): ReLU(inplace=True)\n          (conv2): Conv2d(64, 64, kernel_size=(3, 3), stride=(1, 1), padding=(1, 1), bias=False)\n          (bn2): BatchNorm2d(64, eps=1e-05, momentum=0.1, affine=True, track_running_stats=True)\n        )\n      )\n      (layer2): Sequential(\n        (0): BasicBlock(\n          (conv1): Conv2d(64, 128, kernel_size=(3, 3), stride=(2, 2), padding=(1, 1), bias=False)\n          (bn1): BatchNorm2d(128, eps=1e-05, momentum=0.1, affine=True, track_running_stats=True)\n          (relu): ReLU(inplace=True)\n          (conv2): Conv2d(128, 128, kernel_size=(3, 3), stride=(1, 1), padding=(1, 1), bias=False)\n          (bn2): BatchNorm2d(128, eps=1e-05, momentum=0.1, affine=True, track_running_stats=True)\n          (downsample): Sequential(\n            (0): Conv2d(64, 128, kernel_size=(1, 1), stride=(2, 2), bias=False)\n            (1): BatchNorm2d(128, eps=1e-05, momentum=0.1, affine=True, track_running_stats=True)\n          )\n        )\n        (1): BasicBlock(\n          (conv1): Conv2d(128, 128, kernel_size=(3, 3), stride=(1, 1), padding=(1, 1), bias=False)\n          (bn1): BatchNorm2d(128, eps=1e-05, momentum=0.1, affine=True, track_running_stats=True)\n          (relu): ReLU(inplace=True)\n          (conv2): Conv2d(128, 128, kernel_size=(3, 3), stride=(1, 1), padding=(1, 1), bias=False)\n          (bn2): BatchNorm2d(128, eps=1e-05, momentum=0.1, affine=True, track_running_stats=True)\n        )\n        (2): BasicBlock(\n          (conv1): Conv2d(128, 128, kernel_size=(3, 3), stride=(1, 1), padding=(1, 1), bias=False)\n          (bn1): BatchNorm2d(128, eps=1e-05, momentum=0.1, affine=True, track_running_stats=True)\n          (relu): ReLU(inplace=True)\n          (conv2): Conv2d(128, 128, kernel_size=(3, 3), stride=(1, 1), padding=(1, 1), bias=False)\n          (bn2): BatchNorm2d(128, eps=1e-05, momentum=0.1, affine=True, track_running_stats=True)\n        )\n        (3): BasicBlock(\n          (conv1): Conv2d(128, 128, kernel_size=(3, 3), stride=(1, 1), padding=(1, 1), bias=False)\n          (bn1): BatchNorm2d(128, eps=1e-05, momentum=0.1, affine=True, track_running_stats=True)\n          (relu): ReLU(inplace=True)\n          (conv2): Conv2d(128, 128, kernel_size=(3, 3), stride=(1, 1), padding=(1, 1), bias=False)\n          (bn2): BatchNorm2d(128, eps=1e-05, momentum=0.1, affine=True, track_running_stats=True)\n        )\n      )\n      (layer3): Sequential(\n        (0): BasicBlock(\n          (conv1): Conv2d(128, 256, kernel_size=(3, 3), stride=(2, 2), padding=(1, 1), bias=False)\n          (bn1): BatchNorm2d(256, eps=1e-05, momentum=0.1, affine=True, track_running_stats=True)\n          (relu): ReLU(inplace=True)\n          (conv2): Conv2d(256, 256, kernel_size=(3, 3), stride=(1, 1), padding=(1, 1), bias=False)\n          (bn2): BatchNorm2d(256, eps=1e-05, momentum=0.1, affine=True, track_running_stats=True)\n          (downsample): Sequential(\n            (0): Conv2d(128, 256, kernel_size=(1, 1), stride=(2, 2), bias=False)\n            (1): BatchNorm2d(256, eps=1e-05, momentum=0.1, affine=True, track_running_stats=True)\n          )\n        )\n        (1): BasicBlock(\n          (conv1): Conv2d(256, 256, kernel_size=(3, 3), stride=(1, 1), padding=(1, 1), bias=False)\n          (bn1): BatchNorm2d(256, eps=1e-05, momentum=0.1, affine=True, track_running_stats=True)\n          (relu): ReLU(inplace=True)\n          (conv2): Conv2d(256, 256, kernel_size=(3, 3), stride=(1, 1), padding=(1, 1), bias=False)\n          (bn2): BatchNorm2d(256, eps=1e-05, momentum=0.1, affine=True, track_running_stats=True)\n        )\n        (2): BasicBlock(\n          (conv1): Conv2d(256, 256, kernel_size=(3, 3), stride=(1, 1), padding=(1, 1), bias=False)\n          (bn1): BatchNorm2d(256, eps=1e-05, momentum=0.1, affine=True, track_running_stats=True)\n          (relu): ReLU(inplace=True)\n          (conv2): Conv2d(256, 256, kernel_size=(3, 3), stride=(1, 1), padding=(1, 1), bias=False)\n          (bn2): BatchNorm2d(256, eps=1e-05, momentum=0.1, affine=True, track_running_stats=True)\n        )\n        (3): BasicBlock(\n          (conv1): Conv2d(256, 256, kernel_size=(3, 3), stride=(1, 1), padding=(1, 1), bias=False)\n          (bn1): BatchNorm2d(256, eps=1e-05, momentum=0.1, affine=True, track_running_stats=True)\n          (relu): ReLU(inplace=True)\n          (conv2): Conv2d(256, 256, kernel_size=(3, 3), stride=(1, 1), padding=(1, 1), bias=False)\n          (bn2): BatchNorm2d(256, eps=1e-05, momentum=0.1, affine=True, track_running_stats=True)\n        )\n        (4): BasicBlock(\n          (conv1): Conv2d(256, 256, kernel_size=(3, 3), stride=(1, 1), padding=(1, 1), bias=False)\n          (bn1): BatchNorm2d(256, eps=1e-05, momentum=0.1, affine=True, track_running_stats=True)\n          (relu): ReLU(inplace=True)\n          (conv2): Conv2d(256, 256, kernel_size=(3, 3), stride=(1, 1), padding=(1, 1), bias=False)\n          (bn2): BatchNorm2d(256, eps=1e-05, momentum=0.1, affine=True, track_running_stats=True)\n        )\n        (5): BasicBlock(\n          (conv1): Conv2d(256, 256, kernel_size=(3, 3), stride=(1, 1), padding=(1, 1), bias=False)\n          (bn1): BatchNorm2d(256, eps=1e-05, momentum=0.1, affine=True, track_running_stats=True)\n          (relu): ReLU(inplace=True)\n          (conv2): Conv2d(256, 256, kernel_size=(3, 3), stride=(1, 1), padding=(1, 1), bias=False)\n          (bn2): BatchNorm2d(256, eps=1e-05, momentum=0.1, affine=True, track_running_stats=True)\n        )\n      )\n      (layer4): Sequential(\n        (0): BasicBlock(\n          (conv1): Conv2d(256, 512, kernel_size=(3, 3), stride=(2, 2), padding=(1, 1), bias=False)\n          (bn1): BatchNorm2d(512, eps=1e-05, momentum=0.1, affine=True, track_running_stats=True)\n          (relu): ReLU(inplace=True)\n          (conv2): Conv2d(512, 512, kernel_size=(3, 3), stride=(1, 1), padding=(1, 1), bias=False)\n          (bn2): BatchNorm2d(512, eps=1e-05, momentum=0.1, affine=True, track_running_stats=True)\n          (downsample): Sequential(\n            (0): Conv2d(256, 512, kernel_size=(1, 1), stride=(2, 2), bias=False)\n            (1): BatchNorm2d(512, eps=1e-05, momentum=0.1, affine=True, track_running_stats=True)\n          )\n        )\n        (1): BasicBlock(\n          (conv1): Conv2d(512, 512, kernel_size=(3, 3), stride=(1, 1), padding=(1, 1), bias=False)\n          (bn1): BatchNorm2d(512, eps=1e-05, momentum=0.1, affine=True, track_running_stats=True)\n          (relu): ReLU(inplace=True)\n          (conv2): Conv2d(512, 512, kernel_size=(3, 3), stride=(1, 1), padding=(1, 1), bias=False)\n          (bn2): BatchNorm2d(512, eps=1e-05, momentum=0.1, affine=True, track_running_stats=True)\n        )\n        (2): BasicBlock(\n          (conv1): Conv2d(512, 512, kernel_size=(3, 3), stride=(1, 1), padding=(1, 1), bias=False)\n          (bn1): BatchNorm2d(512, eps=1e-05, momentum=0.1, affine=True, track_running_stats=True)\n          (relu): ReLU(inplace=True)\n          (conv2): Conv2d(512, 512, kernel_size=(3, 3), stride=(1, 1), padding=(1, 1), bias=False)\n          (bn2): BatchNorm2d(512, eps=1e-05, momentum=0.1, affine=True, track_running_stats=True)\n        )\n      )\n      (avgpool): AdaptiveAvgPool2d(output_size=(1, 1))\n      (fc): None\n      (last_linear): Linear(in_features=512, out_features=1000, bias=True)\n    )\n  )\n  (modelB): vgg11(\n    (model): VGG(\n      (avgpool): AdaptiveAvgPool2d(output_size=(7, 7))\n      (_features): Sequential(\n        (0): Conv2d(3, 64, kernel_size=(3, 3), stride=(1, 1), padding=(1, 1))\n        (1): ReLU(inplace=True)\n        (2): MaxPool2d(kernel_size=2, stride=2, padding=0, dilation=1, ceil_mode=False)\n        (3): Conv2d(64, 128, kernel_size=(3, 3), stride=(1, 1), padding=(1, 1))\n        (4): ReLU(inplace=True)\n        (5): MaxPool2d(kernel_size=2, stride=2, padding=0, dilation=1, ceil_mode=False)\n        (6): Conv2d(128, 256, kernel_size=(3, 3), stride=(1, 1), padding=(1, 1))\n        (7): ReLU(inplace=True)\n        (8): Conv2d(256, 256, kernel_size=(3, 3), stride=(1, 1), padding=(1, 1))\n        (9): ReLU(inplace=True)\n        (10): MaxPool2d(kernel_size=2, stride=2, padding=0, dilation=1, ceil_mode=False)\n        (11): Conv2d(256, 512, kernel_size=(3, 3), stride=(1, 1), padding=(1, 1))\n        (12): ReLU(inplace=True)\n        (13): Conv2d(512, 512, kernel_size=(3, 3), stride=(1, 1), padding=(1, 1))\n        (14): ReLU(inplace=True)\n        (15): MaxPool2d(kernel_size=2, stride=2, padding=0, dilation=1, ceil_mode=False)\n        (16): Conv2d(512, 512, kernel_size=(3, 3), stride=(1, 1), padding=(1, 1))\n        (17): ReLU(inplace=True)\n        (18): Conv2d(512, 512, kernel_size=(3, 3), stride=(1, 1), padding=(1, 1))\n        (19): ReLU(inplace=True)\n        (20): MaxPool2d(kernel_size=2, stride=2, padding=0, dilation=1, ceil_mode=False)\n      )\n      (linear0): Linear(in_features=25088, out_features=4096, bias=True)\n      (relu0): ReLU(inplace=True)\n      (dropout0): Dropout(p=0.5, inplace=False)\n      (linear1): Linear(in_features=4096, out_features=4096, bias=True)\n      (relu1): ReLU(inplace=True)\n      (dropout1): Dropout(p=0.5, inplace=False)\n      (last_linear): Linear(in_features=4096, out_features=1000, bias=True)\n    )\n  )\n  (flatten): Flatten(start_dim=1, end_dim=-1)\n  (l0): Linear(in_features=4608, out_features=3, bias=True)\n  (dropout): Dropout2d(p=0.4, inplace=False)\n)\n",
          "output_type": "stream"
        }
      ]
    },
    {
      "cell_type": "code",
      "source": [
        "device = \"cuda\" if torch.cuda.is_available() else \"cpu\"\n",
        "\n",
        "model = MyEnsemble(model_1, model_2).to(device)\n",
        "\n",
        "#model.load_state_dict(torch.load(\"/kaggle/working/model.pth\", map_location= device))\n",
        "\n",
        "model.to(device)\n",
        "summary(model, (3, 224, 224))"
      ],
      "metadata": {
        "id": "3yngCu69YxH0",
        "outputId": "692b4352-4a26-4671-daa9-2eee022c7451",
        "execution": {
          "iopub.status.busy": "2023-01-16T09:49:08.930235Z",
          "iopub.execute_input": "2023-01-16T09:49:08.930533Z",
          "iopub.status.idle": "2023-01-16T09:49:15.354398Z",
          "shell.execute_reply.started": "2023-01-16T09:49:08.930506Z",
          "shell.execute_reply": "2023-01-16T09:49:15.353219Z"
        },
        "trusted": true
      },
      "execution_count": null,
      "outputs": [
        {
          "name": "stdout",
          "text": "----------------------------------------------------------------\n        Layer (type)               Output Shape         Param #\n================================================================\n            Conv2d-1         [-1, 64, 112, 112]           9,408\n       BatchNorm2d-2         [-1, 64, 112, 112]             128\n              ReLU-3         [-1, 64, 112, 112]               0\n         MaxPool2d-4           [-1, 64, 56, 56]               0\n            Conv2d-5           [-1, 64, 56, 56]          36,864\n       BatchNorm2d-6           [-1, 64, 56, 56]             128\n              ReLU-7           [-1, 64, 56, 56]               0\n            Conv2d-8           [-1, 64, 56, 56]          36,864\n       BatchNorm2d-9           [-1, 64, 56, 56]             128\n             ReLU-10           [-1, 64, 56, 56]               0\n       BasicBlock-11           [-1, 64, 56, 56]               0\n           Conv2d-12           [-1, 64, 56, 56]          36,864\n      BatchNorm2d-13           [-1, 64, 56, 56]             128\n             ReLU-14           [-1, 64, 56, 56]               0\n           Conv2d-15           [-1, 64, 56, 56]          36,864\n      BatchNorm2d-16           [-1, 64, 56, 56]             128\n             ReLU-17           [-1, 64, 56, 56]               0\n       BasicBlock-18           [-1, 64, 56, 56]               0\n           Conv2d-19           [-1, 64, 56, 56]          36,864\n      BatchNorm2d-20           [-1, 64, 56, 56]             128\n             ReLU-21           [-1, 64, 56, 56]               0\n           Conv2d-22           [-1, 64, 56, 56]          36,864\n      BatchNorm2d-23           [-1, 64, 56, 56]             128\n             ReLU-24           [-1, 64, 56, 56]               0\n       BasicBlock-25           [-1, 64, 56, 56]               0\n           Conv2d-26          [-1, 128, 28, 28]          73,728\n      BatchNorm2d-27          [-1, 128, 28, 28]             256\n             ReLU-28          [-1, 128, 28, 28]               0\n           Conv2d-29          [-1, 128, 28, 28]         147,456\n      BatchNorm2d-30          [-1, 128, 28, 28]             256\n           Conv2d-31          [-1, 128, 28, 28]           8,192\n      BatchNorm2d-32          [-1, 128, 28, 28]             256\n             ReLU-33          [-1, 128, 28, 28]               0\n       BasicBlock-34          [-1, 128, 28, 28]               0\n           Conv2d-35          [-1, 128, 28, 28]         147,456\n      BatchNorm2d-36          [-1, 128, 28, 28]             256\n             ReLU-37          [-1, 128, 28, 28]               0\n           Conv2d-38          [-1, 128, 28, 28]         147,456\n      BatchNorm2d-39          [-1, 128, 28, 28]             256\n             ReLU-40          [-1, 128, 28, 28]               0\n       BasicBlock-41          [-1, 128, 28, 28]               0\n           Conv2d-42          [-1, 128, 28, 28]         147,456\n      BatchNorm2d-43          [-1, 128, 28, 28]             256\n             ReLU-44          [-1, 128, 28, 28]               0\n           Conv2d-45          [-1, 128, 28, 28]         147,456\n      BatchNorm2d-46          [-1, 128, 28, 28]             256\n             ReLU-47          [-1, 128, 28, 28]               0\n       BasicBlock-48          [-1, 128, 28, 28]               0\n           Conv2d-49          [-1, 128, 28, 28]         147,456\n      BatchNorm2d-50          [-1, 128, 28, 28]             256\n             ReLU-51          [-1, 128, 28, 28]               0\n           Conv2d-52          [-1, 128, 28, 28]         147,456\n      BatchNorm2d-53          [-1, 128, 28, 28]             256\n             ReLU-54          [-1, 128, 28, 28]               0\n       BasicBlock-55          [-1, 128, 28, 28]               0\n           Conv2d-56          [-1, 256, 14, 14]         294,912\n      BatchNorm2d-57          [-1, 256, 14, 14]             512\n             ReLU-58          [-1, 256, 14, 14]               0\n           Conv2d-59          [-1, 256, 14, 14]         589,824\n      BatchNorm2d-60          [-1, 256, 14, 14]             512\n           Conv2d-61          [-1, 256, 14, 14]          32,768\n      BatchNorm2d-62          [-1, 256, 14, 14]             512\n             ReLU-63          [-1, 256, 14, 14]               0\n       BasicBlock-64          [-1, 256, 14, 14]               0\n           Conv2d-65          [-1, 256, 14, 14]         589,824\n      BatchNorm2d-66          [-1, 256, 14, 14]             512\n             ReLU-67          [-1, 256, 14, 14]               0\n           Conv2d-68          [-1, 256, 14, 14]         589,824\n      BatchNorm2d-69          [-1, 256, 14, 14]             512\n             ReLU-70          [-1, 256, 14, 14]               0\n       BasicBlock-71          [-1, 256, 14, 14]               0\n           Conv2d-72          [-1, 256, 14, 14]         589,824\n      BatchNorm2d-73          [-1, 256, 14, 14]             512\n             ReLU-74          [-1, 256, 14, 14]               0\n           Conv2d-75          [-1, 256, 14, 14]         589,824\n      BatchNorm2d-76          [-1, 256, 14, 14]             512\n             ReLU-77          [-1, 256, 14, 14]               0\n       BasicBlock-78          [-1, 256, 14, 14]               0\n           Conv2d-79          [-1, 256, 14, 14]         589,824\n      BatchNorm2d-80          [-1, 256, 14, 14]             512\n             ReLU-81          [-1, 256, 14, 14]               0\n           Conv2d-82          [-1, 256, 14, 14]         589,824\n      BatchNorm2d-83          [-1, 256, 14, 14]             512\n             ReLU-84          [-1, 256, 14, 14]               0\n       BasicBlock-85          [-1, 256, 14, 14]               0\n           Conv2d-86          [-1, 256, 14, 14]         589,824\n      BatchNorm2d-87          [-1, 256, 14, 14]             512\n             ReLU-88          [-1, 256, 14, 14]               0\n           Conv2d-89          [-1, 256, 14, 14]         589,824\n      BatchNorm2d-90          [-1, 256, 14, 14]             512\n             ReLU-91          [-1, 256, 14, 14]               0\n       BasicBlock-92          [-1, 256, 14, 14]               0\n           Conv2d-93          [-1, 256, 14, 14]         589,824\n      BatchNorm2d-94          [-1, 256, 14, 14]             512\n             ReLU-95          [-1, 256, 14, 14]               0\n           Conv2d-96          [-1, 256, 14, 14]         589,824\n      BatchNorm2d-97          [-1, 256, 14, 14]             512\n             ReLU-98          [-1, 256, 14, 14]               0\n       BasicBlock-99          [-1, 256, 14, 14]               0\n          Conv2d-100            [-1, 512, 7, 7]       1,179,648\n     BatchNorm2d-101            [-1, 512, 7, 7]           1,024\n            ReLU-102            [-1, 512, 7, 7]               0\n          Conv2d-103            [-1, 512, 7, 7]       2,359,296\n     BatchNorm2d-104            [-1, 512, 7, 7]           1,024\n          Conv2d-105            [-1, 512, 7, 7]         131,072\n     BatchNorm2d-106            [-1, 512, 7, 7]           1,024\n            ReLU-107            [-1, 512, 7, 7]               0\n      BasicBlock-108            [-1, 512, 7, 7]               0\n          Conv2d-109            [-1, 512, 7, 7]       2,359,296\n     BatchNorm2d-110            [-1, 512, 7, 7]           1,024\n            ReLU-111            [-1, 512, 7, 7]               0\n          Conv2d-112            [-1, 512, 7, 7]       2,359,296\n     BatchNorm2d-113            [-1, 512, 7, 7]           1,024\n            ReLU-114            [-1, 512, 7, 7]               0\n      BasicBlock-115            [-1, 512, 7, 7]               0\n          Conv2d-116            [-1, 512, 7, 7]       2,359,296\n     BatchNorm2d-117            [-1, 512, 7, 7]           1,024\n            ReLU-118            [-1, 512, 7, 7]               0\n          Conv2d-119            [-1, 512, 7, 7]       2,359,296\n     BatchNorm2d-120            [-1, 512, 7, 7]           1,024\n            ReLU-121            [-1, 512, 7, 7]               0\n      BasicBlock-122            [-1, 512, 7, 7]               0\n        ResNet34-123            [-1, 512, 7, 7]               0\n          Conv2d-124         [-1, 64, 224, 224]           1,792\n            ReLU-125         [-1, 64, 224, 224]               0\n       MaxPool2d-126         [-1, 64, 112, 112]               0\n          Conv2d-127        [-1, 128, 112, 112]          73,856\n            ReLU-128        [-1, 128, 112, 112]               0\n       MaxPool2d-129          [-1, 128, 56, 56]               0\n          Conv2d-130          [-1, 256, 56, 56]         295,168\n            ReLU-131          [-1, 256, 56, 56]               0\n          Conv2d-132          [-1, 256, 56, 56]         590,080\n            ReLU-133          [-1, 256, 56, 56]               0\n       MaxPool2d-134          [-1, 256, 28, 28]               0\n          Conv2d-135          [-1, 512, 28, 28]       1,180,160\n            ReLU-136          [-1, 512, 28, 28]               0\n          Conv2d-137          [-1, 512, 28, 28]       2,359,808\n            ReLU-138          [-1, 512, 28, 28]               0\n       MaxPool2d-139          [-1, 512, 14, 14]               0\n          Conv2d-140          [-1, 512, 14, 14]       2,359,808\n            ReLU-141          [-1, 512, 14, 14]               0\n          Conv2d-142          [-1, 512, 14, 14]       2,359,808\n            ReLU-143          [-1, 512, 14, 14]               0\n       MaxPool2d-144            [-1, 512, 7, 7]               0\n          Linear-145                 [-1, 4096]     102,764,544\n            ReLU-146                 [-1, 4096]               0\n         Dropout-147                 [-1, 4096]               0\n          Linear-148                 [-1, 4096]      16,781,312\n           vgg11-149                 [-1, 4096]               0\n         Flatten-150                  [-1, 512]               0\n         Flatten-151                 [-1, 4096]               0\n          Linear-152                    [-1, 3]          13,827\n================================================================\nTotal params: 150,064,835\nTrainable params: 150,064,835\nNon-trainable params: 0\n----------------------------------------------------------------\nInput size (MB): 0.57\nForward/backward pass size (MB): 221.65\nParams size (MB): 572.45\nEstimated Total Size (MB): 794.67\n----------------------------------------------------------------\n",
          "output_type": "stream"
        }
      ]
    },
    {
      "cell_type": "markdown",
      "source": [
        "# **OPTIMZER**"
      ],
      "metadata": {
        "id": "shkajnOIYxH0"
      }
    },
    {
      "cell_type": "code",
      "source": [
        "lr = 0.001\n",
        "\n",
        "WEIGHT_DECAY = 0.0005\n",
        "save_path = \"model.pth\"\n",
        "fine_tune = True\n",
        "#load_path = \"/kaggle/working/model_1.pth\""
      ],
      "metadata": {
        "id": "njfNXgB9YxH0",
        "execution": {
          "iopub.status.busy": "2023-01-16T09:49:15.355863Z",
          "iopub.execute_input": "2023-01-16T09:49:15.356213Z",
          "iopub.status.idle": "2023-01-16T09:49:15.362357Z",
          "shell.execute_reply.started": "2023-01-16T09:49:15.356176Z",
          "shell.execute_reply": "2023-01-16T09:49:15.361201Z"
        },
        "trusted": true
      },
      "execution_count": null,
      "outputs": []
    },
    {
      "cell_type": "code",
      "source": [
        "# loss function\n",
        "loss_fn = nn.CrossEntropyLoss()\n",
        "\n",
        "params = list(model_1.parameters()) + list(model_2.parameters()) #+ list(model.parameters())\n",
        "#optimizer= torch.optim.SGD(params, lr= lr, momentum=0.9)\n",
        "\n",
        "#optimizer= torch.optim.Adagrad(params, lr=0.01, lr_decay=0, weight_decay=0)\n",
        "\n",
        "\n",
        "#optimizer=  torch.optim.Adam(params, lr=0.001, betas=(0.9, 0.999), eps=1e-08, weight_decay=0)\n",
        "\n",
        "\n",
        "optimizer=  torch.optim.ASGD(params, lr=0.001, lambd=0.0001, alpha=0.75)"
      ],
      "metadata": {
        "id": "_BoLGPxjMDVW",
        "execution": {
          "iopub.status.busy": "2023-01-16T09:49:15.363967Z",
          "iopub.execute_input": "2023-01-16T09:49:15.365092Z",
          "iopub.status.idle": "2023-01-16T09:49:15.599247Z",
          "shell.execute_reply.started": "2023-01-16T09:49:15.365047Z",
          "shell.execute_reply": "2023-01-16T09:49:15.598142Z"
        },
        "trusted": true
      },
      "execution_count": null,
      "outputs": []
    },
    {
      "cell_type": "markdown",
      "source": [
        "# **LOAD MODEL**"
      ],
      "metadata": {
        "id": "uQLO2_HZYxH0"
      }
    },
    {
      "cell_type": "code",
      "source": [
        "#state_dict = torch.load(load_path, map_location=device)\n",
        "#model.load_state_dict(state_dict)"
      ],
      "metadata": {
        "id": "tuRovWHwYxH1",
        "execution": {
          "iopub.status.busy": "2023-01-16T09:49:15.602546Z",
          "iopub.execute_input": "2023-01-16T09:49:15.602864Z",
          "iopub.status.idle": "2023-01-16T09:49:15.608652Z",
          "shell.execute_reply.started": "2023-01-16T09:49:15.602826Z",
          "shell.execute_reply": "2023-01-16T09:49:15.607690Z"
        },
        "trusted": true
      },
      "execution_count": null,
      "outputs": []
    },
    {
      "cell_type": "markdown",
      "source": [
        "# **TRAINING**"
      ],
      "metadata": {
        "id": "xMWu1ViaYxH1"
      }
    },
    {
      "cell_type": "code",
      "source": [
        "def train(model,dataloader):    \n",
        "    # training function\n",
        "\n",
        "    print('Training')\n",
        "    model.train()\n",
        "    running_loss = 0.0\n",
        "    running_correct = 0\n",
        "    total=0\n",
        "    for batch, (X, y) in enumerate(tqdm(dataloader)):\n",
        "\n",
        "\n",
        "        X, y = X.to(device), y.to(device)\n",
        "\n",
        "        optimizer.zero_grad()\n",
        "        outputs = model(X)\n",
        "        loss = loss_fn(outputs, y)\n",
        "\n",
        "        loss.backward()\n",
        "        optimizer.step()\n",
        "\n",
        "        running_loss += loss.item()\n",
        "        running_correct += (outputs.argmax(1) == y).type(torch.float).sum().item()\n",
        "        total += y.size(0)\n",
        "\n",
        "    loss = running_loss/len(dataloader)\n",
        "    accuracy = 100.*running_correct/total\n",
        "    print('Train Loss: %.3f | Accuracy: %.3f'%(loss, accuracy))\n",
        "\n",
        "\n",
        "    #print(f\"Train Loss: {loss:.4f}, Train Acc: {accuracy:.2f}\")\n",
        "\n",
        "\n",
        "    return loss, accuracy"
      ],
      "metadata": {
        "id": "LoiFu4CBYxH1",
        "execution": {
          "iopub.status.busy": "2023-01-16T09:49:15.610653Z",
          "iopub.execute_input": "2023-01-16T09:49:15.611097Z",
          "iopub.status.idle": "2023-01-16T09:49:15.620211Z",
          "shell.execute_reply.started": "2023-01-16T09:49:15.611060Z",
          "shell.execute_reply": "2023-01-16T09:49:15.619040Z"
        },
        "trusted": true
      },
      "execution_count": null,
      "outputs": []
    },
    {
      "cell_type": "markdown",
      "source": [
        "# **VALIDATION**"
      ],
      "metadata": {
        "id": "bJ5lQv7qYxH1"
      }
    },
    {
      "cell_type": "code",
      "source": [
        "#validation function\n",
        "def validate(model, dataloader):\n",
        "    print('Validating')\n",
        "    model.eval()\n",
        "    running_loss = 0.0\n",
        "    running_correct = 0\n",
        "    total=0\n",
        "    with torch.no_grad():\n",
        "        \n",
        "        for batch, (X, y) in enumerate(dataloader):\n",
        "            X, y = X.to(device), y.to(device)\n",
        "\n",
        "            # Compute prediction error\n",
        "            pred = model(X)\n",
        "            loss = loss_fn(pred, y)\n",
        "            running_loss += loss_fn(pred, y).item()        \n",
        "            running_correct += (pred.argmax(1) == y).type(torch.float).sum().item()\n",
        "            total += y.size(0)\n",
        "        \n",
        "        loss = running_loss/len(dataloader)\n",
        "        accuracy = 100.*running_correct/total\n",
        "        #print(f'Val Loss: {loss:.4f}, Val Acc: {accuracy:.2f}')\n",
        "        print('Test Loss: %.3f | Accuracy: %.3f'%(loss, accuracy))\n",
        "\n",
        "\n",
        "        return loss, accuracy"
      ],
      "metadata": {
        "id": "fzPzLoCBpThK",
        "execution": {
          "iopub.status.busy": "2023-01-16T09:49:15.622028Z",
          "iopub.execute_input": "2023-01-16T09:49:15.622415Z",
          "iopub.status.idle": "2023-01-16T09:49:15.631721Z",
          "shell.execute_reply.started": "2023-01-16T09:49:15.622380Z",
          "shell.execute_reply": "2023-01-16T09:49:15.630533Z"
        },
        "trusted": true
      },
      "execution_count": null,
      "outputs": []
    },
    {
      "cell_type": "markdown",
      "source": [
        "# **TRAINING AND VALIDATION IN SINGLE FUNCTION**"
      ],
      "metadata": {
        "id": "0ia53XubYxH2"
      }
    },
    {
      "cell_type": "code",
      "source": [
        "epochs=50\n",
        "\n",
        "\n",
        "train_loss , train_accuracy = [], []\n",
        "val_loss , val_accuracy = [], []\n",
        "print(f\"Training on {len(train_data)} examples, validating on {len(test_data)} examples...\")\n",
        "\n",
        "for epoch in range(epochs):\n",
        "    print(f\"Epoch {epoch+1} of {epochs}\")\n",
        "    train_epoch_loss, train_epoch_accuracy = train(model, trainLoader)\n",
        "    val_epoch_loss, val_epoch_accuracy = validate(model, testLoader)\n",
        "    train_loss.append(train_epoch_loss)\n",
        "    train_accuracy.append(train_epoch_accuracy)\n",
        "    val_loss.append(val_epoch_loss)\n",
        "    val_accuracy.append(val_epoch_accuracy)\n"
      ],
      "metadata": {
        "id": "YbdqtXP0rBQI",
        "outputId": "540e5913-d4ba-45ce-9da7-18d3b35a4ff5",
        "execution": {
          "iopub.status.busy": "2023-01-16T09:49:15.633064Z",
          "iopub.execute_input": "2023-01-16T09:49:15.634149Z",
          "iopub.status.idle": "2023-01-16T10:01:29.812159Z",
          "shell.execute_reply.started": "2023-01-16T09:49:15.634111Z",
          "shell.execute_reply": "2023-01-16T10:01:29.810061Z"
        },
        "trusted": true
      },
      "execution_count": null,
      "outputs": [
        {
          "name": "stdout",
          "text": "Training on 344 examples, validating on 150 examples...\nEpoch 1 of 50\nTraining\n",
          "output_type": "stream"
        },
        {
          "name": "stderr",
          "text": "100%|██████████| 6/6 [00:10<00:00,  1.75s/it]",
          "output_type": "stream"
        },
        {
          "name": "stdout",
          "text": "Train Loss: 1.206 | Accuracy: 36.337\nValidating\n",
          "output_type": "stream"
        },
        {
          "name": "stderr",
          "text": "\n",
          "output_type": "stream"
        },
        {
          "name": "stdout",
          "text": "Test Loss: 1.123 | Accuracy: 32.000\nEpoch 2 of 50\nTraining\n",
          "output_type": "stream"
        },
        {
          "name": "stderr",
          "text": "100%|██████████| 6/6 [00:10<00:00,  1.77s/it]",
          "output_type": "stream"
        },
        {
          "name": "stdout",
          "text": "Train Loss: 1.032 | Accuracy: 44.186\nValidating\n",
          "output_type": "stream"
        },
        {
          "name": "stderr",
          "text": "\n",
          "output_type": "stream"
        },
        {
          "name": "stdout",
          "text": "Test Loss: 1.105 | Accuracy: 52.000\nEpoch 3 of 50\nTraining\n",
          "output_type": "stream"
        },
        {
          "name": "stderr",
          "text": "100%|██████████| 6/6 [00:10<00:00,  1.67s/it]",
          "output_type": "stream"
        },
        {
          "name": "stdout",
          "text": "Train Loss: 1.015 | Accuracy: 45.640\nValidating\n",
          "output_type": "stream"
        },
        {
          "name": "stderr",
          "text": "\n",
          "output_type": "stream"
        },
        {
          "name": "stdout",
          "text": "Test Loss: 1.053 | Accuracy: 52.000\nEpoch 4 of 50\nTraining\n",
          "output_type": "stream"
        },
        {
          "name": "stderr",
          "text": "100%|██████████| 6/6 [00:10<00:00,  1.72s/it]",
          "output_type": "stream"
        },
        {
          "name": "stdout",
          "text": "Train Loss: 0.952 | Accuracy: 54.651\nValidating\n",
          "output_type": "stream"
        },
        {
          "name": "stderr",
          "text": "\n",
          "output_type": "stream"
        },
        {
          "name": "stdout",
          "text": "Test Loss: 1.072 | Accuracy: 40.667\nEpoch 5 of 50\nTraining\n",
          "output_type": "stream"
        },
        {
          "name": "stderr",
          "text": "100%|██████████| 6/6 [00:10<00:00,  1.69s/it]",
          "output_type": "stream"
        },
        {
          "name": "stdout",
          "text": "Train Loss: 0.934 | Accuracy: 59.302\nValidating\n",
          "output_type": "stream"
        },
        {
          "name": "stderr",
          "text": "\n",
          "output_type": "stream"
        },
        {
          "name": "stdout",
          "text": "Test Loss: 1.137 | Accuracy: 36.000\nEpoch 6 of 50\nTraining\n",
          "output_type": "stream"
        },
        {
          "name": "stderr",
          "text": "100%|██████████| 6/6 [00:09<00:00,  1.66s/it]",
          "output_type": "stream"
        },
        {
          "name": "stdout",
          "text": "Train Loss: 0.878 | Accuracy: 63.081\nValidating\n",
          "output_type": "stream"
        },
        {
          "name": "stderr",
          "text": "\n",
          "output_type": "stream"
        },
        {
          "name": "stdout",
          "text": "Test Loss: 1.078 | Accuracy: 42.667\nEpoch 7 of 50\nTraining\n",
          "output_type": "stream"
        },
        {
          "name": "stderr",
          "text": "100%|██████████| 6/6 [00:09<00:00,  1.62s/it]",
          "output_type": "stream"
        },
        {
          "name": "stdout",
          "text": "Train Loss: 0.870 | Accuracy: 65.988\nValidating\n",
          "output_type": "stream"
        },
        {
          "name": "stderr",
          "text": "\n",
          "output_type": "stream"
        },
        {
          "name": "stdout",
          "text": "Test Loss: 1.110 | Accuracy: 36.000\nEpoch 8 of 50\nTraining\n",
          "output_type": "stream"
        },
        {
          "name": "stderr",
          "text": "100%|██████████| 6/6 [00:09<00:00,  1.61s/it]",
          "output_type": "stream"
        },
        {
          "name": "stdout",
          "text": "Train Loss: 0.873 | Accuracy: 65.407\nValidating\n",
          "output_type": "stream"
        },
        {
          "name": "stderr",
          "text": "\n",
          "output_type": "stream"
        },
        {
          "name": "stdout",
          "text": "Test Loss: 1.057 | Accuracy: 50.667\nEpoch 9 of 50\nTraining\n",
          "output_type": "stream"
        },
        {
          "name": "stderr",
          "text": "100%|██████████| 6/6 [00:10<00:00,  1.75s/it]",
          "output_type": "stream"
        },
        {
          "name": "stdout",
          "text": "Train Loss: 0.820 | Accuracy: 66.860\nValidating\n",
          "output_type": "stream"
        },
        {
          "name": "stderr",
          "text": "\n",
          "output_type": "stream"
        },
        {
          "name": "stdout",
          "text": "Test Loss: 1.028 | Accuracy: 48.000\nEpoch 10 of 50\nTraining\n",
          "output_type": "stream"
        },
        {
          "name": "stderr",
          "text": "100%|██████████| 6/6 [00:09<00:00,  1.65s/it]",
          "output_type": "stream"
        },
        {
          "name": "stdout",
          "text": "Train Loss: 0.780 | Accuracy: 69.477\nValidating\n",
          "output_type": "stream"
        },
        {
          "name": "stderr",
          "text": "\n",
          "output_type": "stream"
        },
        {
          "name": "stdout",
          "text": "Test Loss: 1.058 | Accuracy: 47.333\nEpoch 11 of 50\nTraining\n",
          "output_type": "stream"
        },
        {
          "name": "stderr",
          "text": "100%|██████████| 6/6 [00:11<00:00,  1.84s/it]",
          "output_type": "stream"
        },
        {
          "name": "stdout",
          "text": "Train Loss: 0.745 | Accuracy: 73.547\nValidating\n",
          "output_type": "stream"
        },
        {
          "name": "stderr",
          "text": "\n",
          "output_type": "stream"
        },
        {
          "name": "stdout",
          "text": "Test Loss: 1.026 | Accuracy: 44.000\nEpoch 12 of 50\nTraining\n",
          "output_type": "stream"
        },
        {
          "name": "stderr",
          "text": "100%|██████████| 6/6 [00:10<00:00,  1.74s/it]",
          "output_type": "stream"
        },
        {
          "name": "stdout",
          "text": "Train Loss: 0.708 | Accuracy: 75.291\nValidating\n",
          "output_type": "stream"
        },
        {
          "name": "stderr",
          "text": "\n",
          "output_type": "stream"
        },
        {
          "name": "stdout",
          "text": "Test Loss: 1.158 | Accuracy: 38.000\nEpoch 13 of 50\nTraining\n",
          "output_type": "stream"
        },
        {
          "name": "stderr",
          "text": "100%|██████████| 6/6 [00:10<00:00,  1.80s/it]",
          "output_type": "stream"
        },
        {
          "name": "stdout",
          "text": "Train Loss: 0.732 | Accuracy: 71.512\nValidating\n",
          "output_type": "stream"
        },
        {
          "name": "stderr",
          "text": "\n",
          "output_type": "stream"
        },
        {
          "name": "stdout",
          "text": "Test Loss: 1.083 | Accuracy: 38.667\nEpoch 14 of 50\nTraining\n",
          "output_type": "stream"
        },
        {
          "name": "stderr",
          "text": "100%|██████████| 6/6 [00:10<00:00,  1.70s/it]",
          "output_type": "stream"
        },
        {
          "name": "stdout",
          "text": "Train Loss: 0.657 | Accuracy: 75.581\nValidating\n",
          "output_type": "stream"
        },
        {
          "name": "stderr",
          "text": "\n",
          "output_type": "stream"
        },
        {
          "name": "stdout",
          "text": "Test Loss: 1.144 | Accuracy: 52.667\nEpoch 15 of 50\nTraining\n",
          "output_type": "stream"
        },
        {
          "name": "stderr",
          "text": "100%|██████████| 6/6 [00:10<00:00,  1.80s/it]",
          "output_type": "stream"
        },
        {
          "name": "stdout",
          "text": "Train Loss: 0.711 | Accuracy: 74.128\nValidating\n",
          "output_type": "stream"
        },
        {
          "name": "stderr",
          "text": "\n",
          "output_type": "stream"
        },
        {
          "name": "stdout",
          "text": "Test Loss: 1.045 | Accuracy: 46.667\nEpoch 16 of 50\nTraining\n",
          "output_type": "stream"
        },
        {
          "name": "stderr",
          "text": "100%|██████████| 6/6 [00:10<00:00,  1.67s/it]",
          "output_type": "stream"
        },
        {
          "name": "stdout",
          "text": "Train Loss: 0.625 | Accuracy: 80.814\nValidating\n",
          "output_type": "stream"
        },
        {
          "name": "stderr",
          "text": "\n",
          "output_type": "stream"
        },
        {
          "name": "stdout",
          "text": "Test Loss: 1.109 | Accuracy: 38.667\nEpoch 17 of 50\nTraining\n",
          "output_type": "stream"
        },
        {
          "name": "stderr",
          "text": "100%|██████████| 6/6 [00:10<00:00,  1.72s/it]",
          "output_type": "stream"
        },
        {
          "name": "stdout",
          "text": "Train Loss: 0.611 | Accuracy: 74.709\nValidating\n",
          "output_type": "stream"
        },
        {
          "name": "stderr",
          "text": "\n",
          "output_type": "stream"
        },
        {
          "name": "stdout",
          "text": "Test Loss: 1.087 | Accuracy: 48.667\nEpoch 18 of 50\nTraining\n",
          "output_type": "stream"
        },
        {
          "name": "stderr",
          "text": "100%|██████████| 6/6 [00:10<00:00,  1.75s/it]",
          "output_type": "stream"
        },
        {
          "name": "stdout",
          "text": "Train Loss: 0.600 | Accuracy: 80.814\nValidating\n",
          "output_type": "stream"
        },
        {
          "name": "stderr",
          "text": "\n",
          "output_type": "stream"
        },
        {
          "name": "stdout",
          "text": "Test Loss: 0.997 | Accuracy: 48.000\nEpoch 19 of 50\nTraining\n",
          "output_type": "stream"
        },
        {
          "name": "stderr",
          "text": "100%|██████████| 6/6 [00:10<00:00,  1.74s/it]",
          "output_type": "stream"
        },
        {
          "name": "stdout",
          "text": "Train Loss: 0.590 | Accuracy: 77.326\nValidating\n",
          "output_type": "stream"
        },
        {
          "name": "stderr",
          "text": "\n",
          "output_type": "stream"
        },
        {
          "name": "stdout",
          "text": "Test Loss: 1.179 | Accuracy: 40.667\nEpoch 20 of 50\nTraining\n",
          "output_type": "stream"
        },
        {
          "name": "stderr",
          "text": "100%|██████████| 6/6 [00:10<00:00,  1.75s/it]",
          "output_type": "stream"
        },
        {
          "name": "stdout",
          "text": "Train Loss: 0.507 | Accuracy: 82.849\nValidating\n",
          "output_type": "stream"
        },
        {
          "name": "stderr",
          "text": "\n",
          "output_type": "stream"
        },
        {
          "name": "stdout",
          "text": "Test Loss: 1.075 | Accuracy: 42.667\nEpoch 21 of 50\nTraining\n",
          "output_type": "stream"
        },
        {
          "name": "stderr",
          "text": "100%|██████████| 6/6 [00:10<00:00,  1.72s/it]",
          "output_type": "stream"
        },
        {
          "name": "stdout",
          "text": "Train Loss: 0.516 | Accuracy: 82.267\nValidating\n",
          "output_type": "stream"
        },
        {
          "name": "stderr",
          "text": "\n",
          "output_type": "stream"
        },
        {
          "name": "stdout",
          "text": "Test Loss: 1.058 | Accuracy: 52.000\nEpoch 22 of 50\nTraining\n",
          "output_type": "stream"
        },
        {
          "name": "stderr",
          "text": "100%|██████████| 6/6 [00:10<00:00,  1.73s/it]",
          "output_type": "stream"
        },
        {
          "name": "stdout",
          "text": "Train Loss: 0.450 | Accuracy: 89.535\nValidating\n",
          "output_type": "stream"
        },
        {
          "name": "stderr",
          "text": "\n",
          "output_type": "stream"
        },
        {
          "name": "stdout",
          "text": "Test Loss: 1.191 | Accuracy: 51.333\nEpoch 23 of 50\nTraining\n",
          "output_type": "stream"
        },
        {
          "name": "stderr",
          "text": "100%|██████████| 6/6 [00:10<00:00,  1.75s/it]",
          "output_type": "stream"
        },
        {
          "name": "stdout",
          "text": "Train Loss: 0.514 | Accuracy: 82.849\nValidating\n",
          "output_type": "stream"
        },
        {
          "name": "stderr",
          "text": "\n",
          "output_type": "stream"
        },
        {
          "name": "stdout",
          "text": "Test Loss: 1.004 | Accuracy: 41.333\nEpoch 24 of 50\nTraining\n",
          "output_type": "stream"
        },
        {
          "name": "stderr",
          "text": "100%|██████████| 6/6 [00:11<00:00,  1.90s/it]",
          "output_type": "stream"
        },
        {
          "name": "stdout",
          "text": "Train Loss: 0.410 | Accuracy: 90.698\nValidating\n",
          "output_type": "stream"
        },
        {
          "name": "stderr",
          "text": "\n",
          "output_type": "stream"
        },
        {
          "name": "stdout",
          "text": "Test Loss: 0.974 | Accuracy: 50.667\nEpoch 25 of 50\nTraining\n",
          "output_type": "stream"
        },
        {
          "name": "stderr",
          "text": "100%|██████████| 6/6 [00:10<00:00,  1.72s/it]",
          "output_type": "stream"
        },
        {
          "name": "stdout",
          "text": "Train Loss: 0.453 | Accuracy: 84.012\nValidating\n",
          "output_type": "stream"
        },
        {
          "name": "stderr",
          "text": "\n",
          "output_type": "stream"
        },
        {
          "name": "stdout",
          "text": "Test Loss: 1.076 | Accuracy: 52.000\nEpoch 26 of 50\nTraining\n",
          "output_type": "stream"
        },
        {
          "name": "stderr",
          "text": "100%|██████████| 6/6 [00:11<00:00,  1.87s/it]",
          "output_type": "stream"
        },
        {
          "name": "stdout",
          "text": "Train Loss: 0.445 | Accuracy: 84.302\nValidating\n",
          "output_type": "stream"
        },
        {
          "name": "stderr",
          "text": "\n",
          "output_type": "stream"
        },
        {
          "name": "stdout",
          "text": "Test Loss: 0.981 | Accuracy: 50.000\nEpoch 27 of 50\nTraining\n",
          "output_type": "stream"
        },
        {
          "name": "stderr",
          "text": "100%|██████████| 6/6 [00:10<00:00,  1.71s/it]",
          "output_type": "stream"
        },
        {
          "name": "stdout",
          "text": "Train Loss: 0.371 | Accuracy: 90.407\nValidating\n",
          "output_type": "stream"
        },
        {
          "name": "stderr",
          "text": "\n",
          "output_type": "stream"
        },
        {
          "name": "stdout",
          "text": "Test Loss: 1.055 | Accuracy: 54.667\nEpoch 28 of 50\nTraining\n",
          "output_type": "stream"
        },
        {
          "name": "stderr",
          "text": "100%|██████████| 6/6 [00:10<00:00,  1.83s/it]",
          "output_type": "stream"
        },
        {
          "name": "stdout",
          "text": "Train Loss: 0.370 | Accuracy: 89.244\nValidating\n",
          "output_type": "stream"
        },
        {
          "name": "stderr",
          "text": "\n",
          "output_type": "stream"
        },
        {
          "name": "stdout",
          "text": "Test Loss: 1.106 | Accuracy: 47.333\nEpoch 29 of 50\nTraining\n",
          "output_type": "stream"
        },
        {
          "name": "stderr",
          "text": "100%|██████████| 6/6 [00:10<00:00,  1.72s/it]",
          "output_type": "stream"
        },
        {
          "name": "stdout",
          "text": "Train Loss: 0.314 | Accuracy: 92.151\nValidating\n",
          "output_type": "stream"
        },
        {
          "name": "stderr",
          "text": "\n",
          "output_type": "stream"
        },
        {
          "name": "stdout",
          "text": "Test Loss: 0.996 | Accuracy: 50.000\nEpoch 30 of 50\nTraining\n",
          "output_type": "stream"
        },
        {
          "name": "stderr",
          "text": "100%|██████████| 6/6 [00:10<00:00,  1.82s/it]",
          "output_type": "stream"
        },
        {
          "name": "stdout",
          "text": "Train Loss: 0.406 | Accuracy: 89.535\nValidating\n",
          "output_type": "stream"
        },
        {
          "name": "stderr",
          "text": "\n",
          "output_type": "stream"
        },
        {
          "name": "stdout",
          "text": "Test Loss: 1.338 | Accuracy: 58.000\nEpoch 31 of 50\nTraining\n",
          "output_type": "stream"
        },
        {
          "name": "stderr",
          "text": "100%|██████████| 6/6 [00:10<00:00,  1.70s/it]",
          "output_type": "stream"
        },
        {
          "name": "stdout",
          "text": "Train Loss: 0.346 | Accuracy: 90.698\nValidating\n",
          "output_type": "stream"
        },
        {
          "name": "stderr",
          "text": "\n",
          "output_type": "stream"
        },
        {
          "name": "stdout",
          "text": "Test Loss: 1.116 | Accuracy: 48.667\nEpoch 32 of 50\nTraining\n",
          "output_type": "stream"
        },
        {
          "name": "stderr",
          "text": "100%|██████████| 6/6 [00:10<00:00,  1.76s/it]",
          "output_type": "stream"
        },
        {
          "name": "stdout",
          "text": "Train Loss: 0.276 | Accuracy: 93.895\nValidating\n",
          "output_type": "stream"
        },
        {
          "name": "stderr",
          "text": "\n",
          "output_type": "stream"
        },
        {
          "name": "stdout",
          "text": "Test Loss: 1.181 | Accuracy: 53.333\nEpoch 33 of 50\nTraining\n",
          "output_type": "stream"
        },
        {
          "name": "stderr",
          "text": "100%|██████████| 6/6 [00:10<00:00,  1.71s/it]",
          "output_type": "stream"
        },
        {
          "name": "stdout",
          "text": "Train Loss: 0.507 | Accuracy: 79.651\nValidating\n",
          "output_type": "stream"
        },
        {
          "name": "stderr",
          "text": "\n",
          "output_type": "stream"
        },
        {
          "name": "stdout",
          "text": "Test Loss: 1.040 | Accuracy: 49.333\nEpoch 34 of 50\nTraining\n",
          "output_type": "stream"
        },
        {
          "name": "stderr",
          "text": "100%|██████████| 6/6 [00:10<00:00,  1.72s/it]",
          "output_type": "stream"
        },
        {
          "name": "stdout",
          "text": "Train Loss: 0.263 | Accuracy: 96.512\nValidating\n",
          "output_type": "stream"
        },
        {
          "name": "stderr",
          "text": "\n",
          "output_type": "stream"
        },
        {
          "name": "stdout",
          "text": "Test Loss: 1.108 | Accuracy: 55.333\nEpoch 35 of 50\nTraining\n",
          "output_type": "stream"
        },
        {
          "name": "stderr",
          "text": "100%|██████████| 6/6 [00:10<00:00,  1.70s/it]",
          "output_type": "stream"
        },
        {
          "name": "stdout",
          "text": "Train Loss: 0.268 | Accuracy: 93.023\nValidating\n",
          "output_type": "stream"
        },
        {
          "name": "stderr",
          "text": "\n",
          "output_type": "stream"
        },
        {
          "name": "stdout",
          "text": "Test Loss: 0.980 | Accuracy: 50.000\nEpoch 36 of 50\nTraining\n",
          "output_type": "stream"
        },
        {
          "name": "stderr",
          "text": "100%|██████████| 6/6 [00:09<00:00,  1.65s/it]",
          "output_type": "stream"
        },
        {
          "name": "stdout",
          "text": "Train Loss: 0.232 | Accuracy: 95.058\nValidating\n",
          "output_type": "stream"
        },
        {
          "name": "stderr",
          "text": "\n",
          "output_type": "stream"
        },
        {
          "name": "stdout",
          "text": "Test Loss: 0.986 | Accuracy: 52.667\nEpoch 37 of 50\nTraining\n",
          "output_type": "stream"
        },
        {
          "name": "stderr",
          "text": "100%|██████████| 6/6 [00:10<00:00,  1.69s/it]",
          "output_type": "stream"
        },
        {
          "name": "stdout",
          "text": "Train Loss: 0.254 | Accuracy: 94.477\nValidating\n",
          "output_type": "stream"
        },
        {
          "name": "stderr",
          "text": "\n",
          "output_type": "stream"
        },
        {
          "name": "stdout",
          "text": "Test Loss: 1.138 | Accuracy: 54.000\nEpoch 38 of 50\nTraining\n",
          "output_type": "stream"
        },
        {
          "name": "stderr",
          "text": "100%|██████████| 6/6 [00:10<00:00,  1.73s/it]",
          "output_type": "stream"
        },
        {
          "name": "stdout",
          "text": "Train Loss: 0.276 | Accuracy: 91.570\nValidating\n",
          "output_type": "stream"
        },
        {
          "name": "stderr",
          "text": "\n",
          "output_type": "stream"
        },
        {
          "name": "stdout",
          "text": "Test Loss: 0.996 | Accuracy: 57.333\nEpoch 39 of 50\nTraining\n",
          "output_type": "stream"
        },
        {
          "name": "stderr",
          "text": "100%|██████████| 6/6 [00:10<00:00,  1.75s/it]",
          "output_type": "stream"
        },
        {
          "name": "stdout",
          "text": "Train Loss: 0.209 | Accuracy: 95.930\nValidating\n",
          "output_type": "stream"
        },
        {
          "name": "stderr",
          "text": "\n",
          "output_type": "stream"
        },
        {
          "name": "stdout",
          "text": "Test Loss: 1.035 | Accuracy: 55.333\nEpoch 40 of 50\nTraining\n",
          "output_type": "stream"
        },
        {
          "name": "stderr",
          "text": "100%|██████████| 6/6 [00:09<00:00,  1.67s/it]",
          "output_type": "stream"
        },
        {
          "name": "stdout",
          "text": "Train Loss: 0.229 | Accuracy: 93.605\nValidating\n",
          "output_type": "stream"
        },
        {
          "name": "stderr",
          "text": "\n",
          "output_type": "stream"
        },
        {
          "name": "stdout",
          "text": "Test Loss: 1.226 | Accuracy: 48.000\nEpoch 41 of 50\nTraining\n",
          "output_type": "stream"
        },
        {
          "name": "stderr",
          "text": "100%|██████████| 6/6 [00:10<00:00,  1.81s/it]",
          "output_type": "stream"
        },
        {
          "name": "stdout",
          "text": "Train Loss: 0.228 | Accuracy: 95.640\nValidating\n",
          "output_type": "stream"
        },
        {
          "name": "stderr",
          "text": "\n",
          "output_type": "stream"
        },
        {
          "name": "stdout",
          "text": "Test Loss: 1.057 | Accuracy: 44.667\nEpoch 42 of 50\nTraining\n",
          "output_type": "stream"
        },
        {
          "name": "stderr",
          "text": "100%|██████████| 6/6 [00:09<00:00,  1.66s/it]",
          "output_type": "stream"
        },
        {
          "name": "stdout",
          "text": "Train Loss: 0.165 | Accuracy: 97.965\nValidating\n",
          "output_type": "stream"
        },
        {
          "name": "stderr",
          "text": "\n",
          "output_type": "stream"
        },
        {
          "name": "stdout",
          "text": "Test Loss: 1.100 | Accuracy: 48.000\nEpoch 43 of 50\nTraining\n",
          "output_type": "stream"
        },
        {
          "name": "stderr",
          "text": "100%|██████████| 6/6 [00:10<00:00,  1.80s/it]",
          "output_type": "stream"
        },
        {
          "name": "stdout",
          "text": "Train Loss: 0.199 | Accuracy: 95.058\nValidating\n",
          "output_type": "stream"
        },
        {
          "name": "stderr",
          "text": "\n",
          "output_type": "stream"
        },
        {
          "name": "stdout",
          "text": "Test Loss: 1.818 | Accuracy: 37.333\nEpoch 44 of 50\nTraining\n",
          "output_type": "stream"
        },
        {
          "name": "stderr",
          "text": "100%|██████████| 6/6 [00:10<00:00,  1.70s/it]",
          "output_type": "stream"
        },
        {
          "name": "stdout",
          "text": "Train Loss: 0.443 | Accuracy: 82.267\nValidating\n",
          "output_type": "stream"
        },
        {
          "name": "stderr",
          "text": "\n",
          "output_type": "stream"
        },
        {
          "name": "stdout",
          "text": "Test Loss: 1.150 | Accuracy: 44.667\nEpoch 45 of 50\nTraining\n",
          "output_type": "stream"
        },
        {
          "name": "stderr",
          "text": "100%|██████████| 6/6 [00:10<00:00,  1.72s/it]",
          "output_type": "stream"
        },
        {
          "name": "stdout",
          "text": "Train Loss: 0.169 | Accuracy: 97.384\nValidating\n",
          "output_type": "stream"
        },
        {
          "name": "stderr",
          "text": "\n",
          "output_type": "stream"
        },
        {
          "name": "stdout",
          "text": "Test Loss: 1.007 | Accuracy: 50.667\nEpoch 46 of 50\nTraining\n",
          "output_type": "stream"
        },
        {
          "name": "stderr",
          "text": "100%|██████████| 6/6 [00:10<00:00,  1.67s/it]",
          "output_type": "stream"
        },
        {
          "name": "stdout",
          "text": "Train Loss: 0.167 | Accuracy: 97.384\nValidating\n",
          "output_type": "stream"
        },
        {
          "name": "stderr",
          "text": "\n",
          "output_type": "stream"
        },
        {
          "name": "stdout",
          "text": "Test Loss: 1.405 | Accuracy: 53.333\nEpoch 47 of 50\nTraining\n",
          "output_type": "stream"
        },
        {
          "name": "stderr",
          "text": "100%|██████████| 6/6 [00:10<00:00,  1.72s/it]",
          "output_type": "stream"
        },
        {
          "name": "stdout",
          "text": "Train Loss: 0.190 | Accuracy: 95.349\nValidating\n",
          "output_type": "stream"
        },
        {
          "name": "stderr",
          "text": "\n",
          "output_type": "stream"
        },
        {
          "name": "stdout",
          "text": "Test Loss: 1.050 | Accuracy: 50.667\nEpoch 48 of 50\nTraining\n",
          "output_type": "stream"
        },
        {
          "name": "stderr",
          "text": "100%|██████████| 6/6 [00:10<00:00,  1.67s/it]",
          "output_type": "stream"
        },
        {
          "name": "stdout",
          "text": "Train Loss: 0.164 | Accuracy: 96.512\nValidating\n",
          "output_type": "stream"
        },
        {
          "name": "stderr",
          "text": "\n",
          "output_type": "stream"
        },
        {
          "name": "stdout",
          "text": "Test Loss: 1.038 | Accuracy: 54.000\nEpoch 49 of 50\nTraining\n",
          "output_type": "stream"
        },
        {
          "name": "stderr",
          "text": "100%|██████████| 6/6 [00:10<00:00,  1.69s/it]",
          "output_type": "stream"
        },
        {
          "name": "stdout",
          "text": "Train Loss: 0.109 | Accuracy: 99.419\nValidating\n",
          "output_type": "stream"
        },
        {
          "name": "stderr",
          "text": "\n",
          "output_type": "stream"
        },
        {
          "name": "stdout",
          "text": "Test Loss: 1.196 | Accuracy: 58.667\nEpoch 50 of 50\nTraining\n",
          "output_type": "stream"
        },
        {
          "name": "stderr",
          "text": "100%|██████████| 6/6 [00:10<00:00,  1.71s/it]",
          "output_type": "stream"
        },
        {
          "name": "stdout",
          "text": "Train Loss: 0.130 | Accuracy: 97.674\nValidating\n",
          "output_type": "stream"
        },
        {
          "name": "stderr",
          "text": "\n",
          "output_type": "stream"
        },
        {
          "name": "stdout",
          "text": "Test Loss: 1.162 | Accuracy: 50.000\n",
          "output_type": "stream"
        }
      ]
    },
    {
      "cell_type": "markdown",
      "source": [
        "# **MODEL SAVING**"
      ],
      "metadata": {
        "id": "mo3GrbuBYxH2"
      }
    },
    {
      "cell_type": "code",
      "source": [
        "torch.save(model.state_dict(), save_path)\n",
        "print(\"Saved PyTorch Model State to model.pth\")"
      ],
      "metadata": {
        "id": "QTXO7xSsYxH2",
        "outputId": "9e981fca-c534-4a98-b7cc-e0e3e2a8d88b",
        "execution": {
          "iopub.status.busy": "2023-01-16T10:01:29.814373Z",
          "iopub.execute_input": "2023-01-16T10:01:29.817883Z",
          "iopub.status.idle": "2023-01-16T10:01:31.858347Z",
          "shell.execute_reply.started": "2023-01-16T10:01:29.817835Z",
          "shell.execute_reply": "2023-01-16T10:01:31.857248Z"
        },
        "trusted": true
      },
      "execution_count": null,
      "outputs": [
        {
          "name": "stdout",
          "text": "Saved PyTorch Model State to model.pth\n",
          "output_type": "stream"
        }
      ]
    },
    {
      "cell_type": "code",
      "source": [
        "model = MyEnsemble(model_1, model_2).to(device)\n",
        "#model.load_state_dict(torch.load(\"model.pth\"))\n",
        "\n",
        "state_dict = torch.load(f\"/kaggle/working/{save_path}\")\n",
        "model.load_state_dict(state_dict)\n"
      ],
      "metadata": {
        "id": "F3isE0ftYxH3",
        "outputId": "d5cd17f7-e0f0-4cee-88e7-b362779babe7",
        "execution": {
          "iopub.status.busy": "2023-01-16T10:01:31.859873Z",
          "iopub.execute_input": "2023-01-16T10:01:31.860535Z",
          "iopub.status.idle": "2023-01-16T10:01:32.421669Z",
          "shell.execute_reply.started": "2023-01-16T10:01:31.860494Z",
          "shell.execute_reply": "2023-01-16T10:01:32.420499Z"
        },
        "trusted": true
      },
      "execution_count": null,
      "outputs": [
        {
          "execution_count": 31,
          "output_type": "execute_result",
          "data": {
            "text/plain": "<All keys matched successfully>"
          },
          "metadata": {}
        }
      ]
    },
    {
      "cell_type": "markdown",
      "source": [
        "# **VISUALIZE PREDICTING IMAGE**"
      ],
      "metadata": {
        "id": "vv7PNfzuYxH3"
      }
    },
    {
      "cell_type": "code",
      "source": [
        "import matplotlib.pyplot as plt\n",
        "import numpy as np\n",
        "\n",
        "\n",
        "# Function to show the images\n",
        "def imageshow(img):\n",
        "    img = img / 2 + 0.5     # unnormalize\n",
        "    npimg = img.numpy()\n",
        "    plt.imshow(np.transpose(npimg, (1, 2, 0)))\n",
        "    plt.show()\n",
        "\n",
        "\n",
        "# Function to test the model with a batch of images and show the labels predictions\n",
        "def testBatch():\n",
        "    # get batch of images from the test DataLoader  \n",
        "    images, labels = next(iter(testLoader))\n",
        "\n",
        "    # show all images as one image grid\n",
        "    imageshow(torchvision.utils.make_grid(images))\n",
        "   \n",
        "    # Show the real labels on the screen \n",
        "    print('Real labels: ', ' '.join('%5s' % classes[labels[j]] \n",
        "                               for j in range(batch_size)))\n",
        "  \n",
        "    # Let's see what if the model identifiers the  labels of those example\n",
        "    images=images.to(device)\n",
        "    outputs = model(images)\n",
        "    \n",
        "    # We got the probability for every 10 labels. The highest (max) probability should be correct label\n",
        "    _, predicted = torch.max(outputs, 1)\n",
        "    \n",
        "    # Let's show the predicted labels on the screen to compare with the real ones\n",
        "    print('Predicted: ', ' '.join('%5s' % classes[predicted[j]] \n",
        "                              for j in range(batch_size)))"
      ],
      "metadata": {
        "id": "RStsMLZvrBNa",
        "execution": {
          "iopub.status.busy": "2023-01-16T10:01:32.423401Z",
          "iopub.execute_input": "2023-01-16T10:01:32.423890Z",
          "iopub.status.idle": "2023-01-16T10:01:32.432709Z",
          "shell.execute_reply.started": "2023-01-16T10:01:32.423846Z",
          "shell.execute_reply": "2023-01-16T10:01:32.431332Z"
        },
        "trusted": true
      },
      "execution_count": null,
      "outputs": []
    },
    {
      "cell_type": "code",
      "source": [
        "testBatch()"
      ],
      "metadata": {
        "id": "PgWaYFytpTZM",
        "outputId": "95656f70-eeac-448e-9afd-5582c48ce971",
        "execution": {
          "iopub.status.busy": "2023-01-16T10:01:32.439560Z",
          "iopub.execute_input": "2023-01-16T10:01:32.441613Z",
          "iopub.status.idle": "2023-01-16T10:01:37.220599Z",
          "shell.execute_reply.started": "2023-01-16T10:01:32.441585Z",
          "shell.execute_reply": "2023-01-16T10:01:37.219380Z"
        },
        "trusted": true
      },
      "execution_count": null,
      "outputs": [
        {
          "output_type": "display_data",
          "data": {
            "text/plain": "<Figure size 432x288 with 1 Axes>",
            "image/png": "[encoded data removed]"
          },
          "metadata": {
            "needs_background": "light"
          }
        },
        {
          "name": "stdout",
          "text": "Real labels:  non-nodule benign benign malignant malignant non-nodule non-nodule non-nodule benign malignant malignant malignant benign non-nodule non-nodule malignant malignant non-nodule benign non-nodule benign non-nodule non-nodule non-nodule malignant malignant benign malignant non-nodule non-nodule malignant malignant malignant malignant non-nodule benign malignant malignant malignant non-nodule non-nodule benign malignant benign malignant malignant non-nodule benign malignant benign non-nodule non-nodule malignant non-nodule malignant non-nodule malignant malignant malignant malignant non-nodule malignant benign malignant\nPredicted:  non-nodule benign non-nodule malignant non-nodule non-nodule malignant benign benign benign benign malignant malignant benign malignant benign malignant non-nodule benign benign malignant benign non-nodule non-nodule malignant benign non-nodule malignant malignant non-nodule malignant malignant malignant malignant non-nodule malignant benign malignant non-nodule non-nodule non-nodule malignant benign benign benign malignant malignant malignant malignant benign malignant non-nodule malignant benign non-nodule non-nodule malignant benign benign malignant non-nodule benign benign non-nodule\n",
          "output_type": "stream"
        }
      ]
    },
    {
      "cell_type": "markdown",
      "source": [
        "# **PLOT ACCURACY**"
      ],
      "metadata": {
        "id": "P7PlLB8WYxH4"
      }
    },
    {
      "cell_type": "code",
      "source": [
        "# accuracy plots\n",
        "plt.figure(figsize=(10, 7))\n",
        "plt.subplot(121)\n",
        "plt.plot(train_accuracy, color='green', label='train accuracy')\n",
        "plt.plot(val_accuracy, color='blue', label='validation accuracy')\n",
        "plt.xlabel('Epochs')\n",
        "plt.ylabel('Accuracy')\n",
        "plt.legend()\n",
        "# plt.savefig('../outputs/plots/accuracy.png')"
      ],
      "metadata": {
        "id": "Aay64bq_YxH4",
        "outputId": "a2bf5ca3-7782-4c94-fb0d-57d05dfb8999",
        "execution": {
          "iopub.status.busy": "2023-01-16T10:01:37.222544Z",
          "iopub.execute_input": "2023-01-16T10:01:37.223369Z",
          "iopub.status.idle": "2023-01-16T10:01:37.470623Z",
          "shell.execute_reply.started": "2023-01-16T10:01:37.223321Z",
          "shell.execute_reply": "2023-01-16T10:01:37.469603Z"
        },
        "trusted": true
      },
      "execution_count": null,
      "outputs": [
        {
          "execution_count": 34,
          "output_type": "execute_result",
          "data": {
            "text/plain": "<matplotlib.legend.Legend at 0x7f348c33df90>"
          },
          "metadata": {}
        },
        {
          "output_type": "display_data",
          "data": {
            "text/plain": "<Figure size 720x504 with 1 Axes>",
            "image/png": "[encoded data removed]"
          },
          "metadata": {
            "needs_background": "light"
          }
        }
      ]
    },
    {
      "cell_type": "markdown",
      "source": [
        "# **PLOT LOSS**"
      ],
      "metadata": {
        "id": "mooMz2ljYxH4"
      }
    },
    {
      "cell_type": "code",
      "source": [
        "# loss plots\n",
        "plt.figure(figsize=(10, 7))\n",
        "plt.subplot(121)\n",
        "plt.plot(train_loss, color='orange', label='train loss')\n",
        "plt.plot(val_loss, color='red', label='validation loss')\n",
        "plt.xlabel('Epochs')\n",
        "plt.ylabel('Loss')\n",
        "plt.legend()\n",
        "# plt.savefig('../outputs/plots/loss.png')\n",
        "plt.show()"
      ],
      "metadata": {
        "id": "snU7jRTLYxH4",
        "outputId": "013cd609-4c55-48aa-c481-26375f239504",
        "execution": {
          "iopub.status.busy": "2023-01-16T10:01:37.472118Z",
          "iopub.execute_input": "2023-01-16T10:01:37.472715Z",
          "iopub.status.idle": "2023-01-16T10:01:37.702790Z",
          "shell.execute_reply.started": "2023-01-16T10:01:37.472675Z",
          "shell.execute_reply": "2023-01-16T10:01:37.701619Z"
        },
        "trusted": true
      },
      "execution_count": null,
      "outputs": [
        {
          "output_type": "display_data",
          "data": {
            "text/plain": "<Figure size 720x504 with 1 Axes>",
            "image/png": "[encoded data removed]"
          },
          "metadata": {
            "needs_background": "light"
          }
        }
      ]
    },
    {
      "cell_type": "code",
      "source": [],
      "metadata": {
        "id": "Ra_Bopo6YxH4"
      },
      "execution_count": null,
      "outputs": []
    },
    {
      "cell_type": "code",
      "source": [
        "label2class ={ 1 :'benign', 2 :'malignant', 3:'non-nodule'}"
      ],
      "metadata": {
        "id": "TGBkZdszYxH5",
        "execution": {
          "iopub.status.busy": "2023-01-16T10:01:37.704360Z",
          "iopub.execute_input": "2023-01-16T10:01:37.704780Z",
          "iopub.status.idle": "2023-01-16T10:01:37.793588Z",
          "shell.execute_reply.started": "2023-01-16T10:01:37.704734Z",
          "shell.execute_reply": "2023-01-16T10:01:37.792474Z"
        },
        "trusted": true
      },
      "execution_count": null,
      "outputs": []
    },
    {
      "cell_type": "code",
      "source": [
        "import seaborn as sns \n",
        "from sklearn.metrics import confusion_matrix, classification_report\n",
        "import pandas as pd\n",
        "\n",
        "y_pred = []\n",
        "y_true = []\n",
        "\n",
        "# iterate over test data\n",
        "for batch,(inputs, labels) in enumerate(testLoader):\n",
        "    \n",
        "    \n",
        "        inputs= inputs.to(device)\n",
        "        labels= labels.to(device)\n",
        "        output = model(inputs) # Feed Network\n",
        "\n",
        "        output = (torch.max(torch.exp(output), 1)[1]).data.cpu().numpy()\n",
        "        y_pred.extend(output) # Save Prediction\n",
        "        \n",
        "        labels = labels.data.cpu().numpy()\n",
        "        y_true.extend(labels) # Save Truth\n",
        "        \n",
        "        \n",
        "\n",
        "report = classification_report(y_true, y_pred)\n",
        "print(report)"
      ],
      "metadata": {
        "id": "cO3NuVDHYxH5",
        "outputId": "1dc8da6e-6d26-46c7-8803-9f918a02f4c8",
        "execution": {
          "iopub.status.busy": "2023-01-16T10:01:37.795281Z",
          "iopub.execute_input": "2023-01-16T10:01:37.795686Z",
          "iopub.status.idle": "2023-01-16T10:01:42.904776Z",
          "shell.execute_reply.started": "2023-01-16T10:01:37.795650Z",
          "shell.execute_reply": "2023-01-16T10:01:42.902541Z"
        },
        "trusted": true
      },
      "execution_count": null,
      "outputs": [
        {
          "name": "stderr",
          "text": "/opt/conda/lib/python3.7/site-packages/torch/utils/data/dataloader.py:490: UserWarning: This DataLoader will create 4 worker processes in total. Our suggested max number of worker in current system is 2, which is smaller than what this DataLoader is going to create. Please be aware that excessive worker creation might get DataLoader running slow or even freeze, lower the worker number to avoid potential slowness/freeze if necessary.\n  cpuset_checked))\n",
          "output_type": "stream"
        },
        {
          "name": "stdout",
          "text": "              precision    recall  f1-score   support\n\n           0       0.28      0.50      0.36        34\n           1       0.65      0.53      0.58        66\n           2       0.72      0.52      0.60        50\n\n    accuracy                           0.52       150\n   macro avg       0.55      0.52      0.52       150\nweighted avg       0.59      0.52      0.54       150\n\n",
          "output_type": "stream"
        }
      ]
    },
    {
      "cell_type": "code",
      "source": [
        "nb_classes = 158\n",
        "confusion_matrix = np.zeros((nb_classes, nb_classes))\n",
        "with torch.no_grad():\n",
        "    for i, (inputs, classes) in enumerate(testLoader):\n",
        "        inputs = inputs.to(device)\n",
        "        classes = classes.to(device)\n",
        "        outputs = model(inputs)\n",
        "        _, preds = torch.max(outputs, 1)\n",
        "        for t, p in zip(classes.view(-1), preds.view(-1)):\n",
        "                confusion_matrix[t.long(), p.long()] += 1\n",
        "\n",
        "plt.figure(figsize=(100,100))\n",
        "\n",
        "class_names = list(label2class.values())\n",
        "df_cm = pd.DataFrame(confusion_matrix, index=class_names, columns=class_names).astype(int)\n",
        "heatmap = sns.heatmap(df_cm, annot=True, fmt=\"d\")\n",
        "\n",
        "heatmap.yaxis.set_ticklabels(heatmap.yaxis.get_ticklabels(), rotation=0, ha='right',fontsize=15)\n",
        "heatmap.xaxis.set_ticklabels(heatmap.xaxis.get_ticklabels(), rotation=45, ha='right',fontsize=15)\n",
        "plt.ylabel('True label')\n",
        "plt.xlabel('Predicted label')"
      ],
      "metadata": {
        "id": "fdx16EwnYxH5",
        "outputId": "0bcbf52e-2f2a-4e8a-f567-27bf29491cc0",
        "execution": {
          "iopub.status.busy": "2023-01-16T10:01:42.908046Z",
          "iopub.execute_input": "2023-01-16T10:01:42.913718Z",
          "iopub.status.idle": "2023-01-16T10:01:47.845089Z",
          "shell.execute_reply.started": "2023-01-16T10:01:42.913665Z",
          "shell.execute_reply": "2023-01-16T10:01:47.843426Z"
        },
        "trusted": true
      },
      "execution_count": null,
      "outputs": [
        {
          "name": "stderr",
          "text": "/opt/conda/lib/python3.7/site-packages/torch/utils/data/dataloader.py:490: UserWarning: This DataLoader will create 4 worker processes in total. Our suggested max number of worker in current system is 2, which is smaller than what this DataLoader is going to create. Please be aware that excessive worker creation might get DataLoader running slow or even freeze, lower the worker number to avoid potential slowness/freeze if necessary.\n  cpuset_checked))\n",
          "output_type": "stream"
        },
        {
          "traceback": [
            "\u001b[0;31m---------------------------------------------------------------------------\u001b[0m",
            "\u001b[0;31mValueError\u001b[0m                                Traceback (most recent call last)",
            "\u001b[0;32m/tmp/ipykernel_23/3706029943.py\u001b[0m in \u001b[0;36m<module>\u001b[0;34m\u001b[0m\n\u001b[1;32m     13\u001b[0m \u001b[0;34m\u001b[0m\u001b[0m\n\u001b[1;32m     14\u001b[0m \u001b[0mclass_names\u001b[0m \u001b[0;34m=\u001b[0m \u001b[0mlist\u001b[0m\u001b[0;34m(\u001b[0m\u001b[0mlabel2class\u001b[0m\u001b[0;34m.\u001b[0m\u001b[0mvalues\u001b[0m\u001b[0;34m(\u001b[0m\u001b[0;34m)\u001b[0m\u001b[0;34m)\u001b[0m\u001b[0;34m\u001b[0m\u001b[0;34m\u001b[0m\u001b[0m\n\u001b[0;32m---> 15\u001b[0;31m \u001b[0mdf_cm\u001b[0m \u001b[0;34m=\u001b[0m \u001b[0mpd\u001b[0m\u001b[0;34m.\u001b[0m\u001b[0mDataFrame\u001b[0m\u001b[0;34m(\u001b[0m\u001b[0mconfusion_matrix\u001b[0m\u001b[0;34m,\u001b[0m \u001b[0mindex\u001b[0m\u001b[0;34m=\u001b[0m\u001b[0mclass_names\u001b[0m\u001b[0;34m,\u001b[0m \u001b[0mcolumns\u001b[0m\u001b[0;34m=\u001b[0m\u001b[0mclass_names\u001b[0m\u001b[0;34m)\u001b[0m\u001b[0;34m.\u001b[0m\u001b[0mastype\u001b[0m\u001b[0;34m(\u001b[0m\u001b[0mint\u001b[0m\u001b[0;34m)\u001b[0m\u001b[0;34m\u001b[0m\u001b[0;34m\u001b[0m\u001b[0m\n\u001b[0m\u001b[1;32m     16\u001b[0m \u001b[0mheatmap\u001b[0m \u001b[0;34m=\u001b[0m \u001b[0msns\u001b[0m\u001b[0;34m.\u001b[0m\u001b[0mheatmap\u001b[0m\u001b[0;34m(\u001b[0m\u001b[0mdf_cm\u001b[0m\u001b[0;34m,\u001b[0m \u001b[0mannot\u001b[0m\u001b[0;34m=\u001b[0m\u001b[0;32mTrue\u001b[0m\u001b[0;34m,\u001b[0m \u001b[0mfmt\u001b[0m\u001b[0;34m=\u001b[0m\u001b[0;34m\"d\"\u001b[0m\u001b[0;34m)\u001b[0m\u001b[0;34m\u001b[0m\u001b[0;34m\u001b[0m\u001b[0m\n\u001b[1;32m     17\u001b[0m \u001b[0;34m\u001b[0m\u001b[0m\n",
            "\u001b[0;32m/opt/conda/lib/python3.7/site-packages/pandas/core/frame.py\u001b[0m in \u001b[0;36m__init__\u001b[0;34m(self, data, index, columns, dtype, copy)\u001b[0m\n\u001b[1;32m    676\u001b[0m                     \u001b[0mdtype\u001b[0m\u001b[0;34m=\u001b[0m\u001b[0mdtype\u001b[0m\u001b[0;34m,\u001b[0m\u001b[0;34m\u001b[0m\u001b[0;34m\u001b[0m\u001b[0m\n\u001b[1;32m    677\u001b[0m                     \u001b[0mcopy\u001b[0m\u001b[0;34m=\u001b[0m\u001b[0mcopy\u001b[0m\u001b[0;34m,\u001b[0m\u001b[0;34m\u001b[0m\u001b[0;34m\u001b[0m\u001b[0m\n\u001b[0;32m--> 678\u001b[0;31m                     \u001b[0mtyp\u001b[0m\u001b[0;34m=\u001b[0m\u001b[0mmanager\u001b[0m\u001b[0;34m,\u001b[0m\u001b[0;34m\u001b[0m\u001b[0;34m\u001b[0m\u001b[0m\n\u001b[0m\u001b[1;32m    679\u001b[0m                 )\n\u001b[1;32m    680\u001b[0m \u001b[0;34m\u001b[0m\u001b[0m\n",
            "\u001b[0;32m/opt/conda/lib/python3.7/site-packages/pandas/core/internals/construction.py\u001b[0m in \u001b[0;36mndarray_to_mgr\u001b[0;34m(values, index, columns, dtype, copy, typ)\u001b[0m\n\u001b[1;32m    322\u001b[0m     )\n\u001b[1;32m    323\u001b[0m \u001b[0;34m\u001b[0m\u001b[0m\n\u001b[0;32m--> 324\u001b[0;31m     \u001b[0m_check_values_indices_shape_match\u001b[0m\u001b[0;34m(\u001b[0m\u001b[0mvalues\u001b[0m\u001b[0;34m,\u001b[0m \u001b[0mindex\u001b[0m\u001b[0;34m,\u001b[0m \u001b[0mcolumns\u001b[0m\u001b[0;34m)\u001b[0m\u001b[0;34m\u001b[0m\u001b[0;34m\u001b[0m\u001b[0m\n\u001b[0m\u001b[1;32m    325\u001b[0m \u001b[0;34m\u001b[0m\u001b[0m\n\u001b[1;32m    326\u001b[0m     \u001b[0;32mif\u001b[0m \u001b[0mtyp\u001b[0m \u001b[0;34m==\u001b[0m \u001b[0;34m\"array\"\u001b[0m\u001b[0;34m:\u001b[0m\u001b[0;34m\u001b[0m\u001b[0;34m\u001b[0m\u001b[0m\n",
            "\u001b[0;32m/opt/conda/lib/python3.7/site-packages/pandas/core/internals/construction.py\u001b[0m in \u001b[0;36m_check_values_indices_shape_match\u001b[0;34m(values, index, columns)\u001b[0m\n\u001b[1;32m    391\u001b[0m         \u001b[0mpassed\u001b[0m \u001b[0;34m=\u001b[0m \u001b[0mvalues\u001b[0m\u001b[0;34m.\u001b[0m\u001b[0mshape\u001b[0m\u001b[0;34m\u001b[0m\u001b[0;34m\u001b[0m\u001b[0m\n\u001b[1;32m    392\u001b[0m         \u001b[0mimplied\u001b[0m \u001b[0;34m=\u001b[0m \u001b[0;34m(\u001b[0m\u001b[0mlen\u001b[0m\u001b[0;34m(\u001b[0m\u001b[0mindex\u001b[0m\u001b[0;34m)\u001b[0m\u001b[0;34m,\u001b[0m \u001b[0mlen\u001b[0m\u001b[0;34m(\u001b[0m\u001b[0mcolumns\u001b[0m\u001b[0;34m)\u001b[0m\u001b[0;34m)\u001b[0m\u001b[0;34m\u001b[0m\u001b[0;34m\u001b[0m\u001b[0m\n\u001b[0;32m--> 393\u001b[0;31m         \u001b[0;32mraise\u001b[0m \u001b[0mValueError\u001b[0m\u001b[0;34m(\u001b[0m\u001b[0;34mf\"Shape of passed values is {passed}, indices imply {implied}\"\u001b[0m\u001b[0;34m)\u001b[0m\u001b[0;34m\u001b[0m\u001b[0;34m\u001b[0m\u001b[0m\n\u001b[0m\u001b[1;32m    394\u001b[0m \u001b[0;34m\u001b[0m\u001b[0m\n\u001b[1;32m    395\u001b[0m \u001b[0;34m\u001b[0m\u001b[0m\n",
            "\u001b[0;31mValueError\u001b[0m: Shape of passed values is (158, 158), indices imply (3, 3)"
          ],
          "ename": "ValueError",
          "evalue": "Shape of passed values is (158, 158), indices imply (3, 3)",
          "output_type": "error"
        },
        {
          "output_type": "display_data",
          "data": {
            "text/plain": "<Figure size 7200x7200 with 0 Axes>"
          },
          "metadata": {}
        }
      ]
    },
    {
      "cell_type": "code",
      "source": [],
      "metadata": {
        "id": "1TpQFfEWYxH5"
      },
      "execution_count": null,
      "outputs": []
    },
    {
      "cell_type": "code",
      "source": [],
      "metadata": {
        "id": "gtkrqSAyYxH5"
      },
      "execution_count": null,
      "outputs": []
    },
    {
      "cell_type": "code",
      "source": [],
      "metadata": {
        "id": "jfAB0zdwYxH6"
      },
      "execution_count": null,
      "outputs": []
    },
    {
      "cell_type": "code",
      "source": [],
      "metadata": {
        "id": "D2IMnSOSYxH6"
      },
      "execution_count": null,
      "outputs": []
    }
  ]
}