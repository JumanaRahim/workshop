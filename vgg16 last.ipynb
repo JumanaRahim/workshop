{
  "nbformat": 4,
  "nbformat_minor": 0,
  "metadata": {
    "colab": {
      "provenance": [],
      "authorship_tag": "ABX9TyNbfs62A4M4VSByYfSSnbD4",
      "include_colab_link": true
    },
    "kernelspec": {
      "name": "python3",
      "display_name": "Python 3"
    },
    "language_info": {
      "name": "python"
    }
  },
  "cells": [
    {
      "cell_type": "markdown",
      "metadata": {
        "id": "view-in-github",
        "colab_type": "text"
      },
      "source": [
        "<a href=\"https://colab.research.google.com/github/JumanaRahim/workshop/blob/master/vgg16%20last.ipynb\" target=\"_parent\"><img src=\"https://colab.research.google.com/assets/colab-badge.svg\" alt=\"Open In Colab\"/></a>"
      ]
    },
    {
      "cell_type": "code",
      "execution_count": 1,
      "metadata": {
        "colab": {
          "base_uri": "https://localhost:8080/"
        },
        "id": "_DDowLjEiE3G",
        "outputId": "c16e206d-82b9-4c09-deea-229b63a53458"
      },
      "outputs": [
        {
          "output_type": "stream",
          "name": "stdout",
          "text": [
            "Mounted at /content/drive\n"
          ]
        }
      ],
      "source": [
        "from google.colab import drive\n",
        "drive.mount('/content/drive')"
      ]
    },
    {
      "cell_type": "code",
      "source": [
        "from keras.layers import Input, Lambda, Dense, Flatten\n",
        "from keras.models import Model\n",
        "from keras.applications.vgg16 import VGG16\n",
        "from keras.applications.vgg16 import preprocess_input\n",
        "from keras.preprocessing import image\n",
        "from keras.preprocessing.image import ImageDataGenerator\n",
        "from keras.models import Sequential\n",
        "import numpy as np\n",
        "from glob import glob\n",
        "import matplotlib.pyplot as pl\n",
        "import tensorflow as tf\n",
        "import matplotlib.pyplot as plt\n",
        "import cv2\n",
        "from keras.preprocessing.image import ImageDataGenerator\n",
        "from tensorflow.keras.utils import to_categorical"
      ],
      "metadata": {
        "id": "QGCcNy85ihRY"
      },
      "execution_count": 2,
      "outputs": []
    },
    {
      "cell_type": "code",
      "source": [
        "image_size = [224,224]"
      ],
      "metadata": {
        "id": "vS_zVQgkittM"
      },
      "execution_count": 3,
      "outputs": []
    },
    {
      "cell_type": "code",
      "source": [
        "from keras.preprocessing.image import ImageDataGenerator\n",
        "\n",
        "train_datagen = ImageDataGenerator(rescale = 1./255,\n",
        "                                   shear_range = 0.2,\n",
        "                                   zoom_range = 0.2,\n",
        "                                   horizontal_flip = True)"
      ],
      "metadata": {
        "id": "uZo4n8vaiu9c"
      },
      "execution_count": 4,
      "outputs": []
    },
    {
      "cell_type": "code",
      "source": [
        "test_datagen = ImageDataGenerator(rescale = 1./255)\n",
        "\n",
        "training_set = train_datagen.flow_from_directory('//content/drive/MyDrive/dataset_jumana/dataset (1)/train',\n",
        "                                                 target_size = (224, 224),\n",
        "                                                 batch_size = 32,\n",
        "                                                 class_mode = 'binary')\n",
        "\n",
        "test_set = test_datagen.flow_from_directory('/content/drive/MyDrive/dataset_jumana/dataset (1)/test',\n",
        "                                            target_size = (224, 224),\n",
        "                                            batch_size = 32,\n",
        "                                            class_mode = 'binary')\n",
        "\n",
        "# Check if training_set and test_set are not empty before accessing the first batch\n",
        "if len(training_set) > 0:\n",
        "    x_train, y_train = next(training_set)\n",
        "else:\n",
        "    print(\"training_set is empty\")\n",
        "    \n",
        "if len(test_set) > 0:\n",
        "    x_test, y_test = next(test_set)\n",
        "else:\n",
        "    print(\"test_set is empty\")"
      ],
      "metadata": {
        "colab": {
          "base_uri": "https://localhost:8080/"
        },
        "id": "inK6xkoji5LS",
        "outputId": "127ed3f4-a48d-4dba-b440-ab78e1fbf421"
      },
      "execution_count": 5,
      "outputs": [
        {
          "output_type": "stream",
          "name": "stdout",
          "text": [
            "Found 115 images belonging to 2 classes.\n",
            "Found 39 images belonging to 2 classes.\n"
          ]
        }
      ]
    },
    {
      "cell_type": "code",
      "source": [
        "vgg = VGG16(input_shape=image_size + [3], weights='imagenet', include_top=False)"
      ],
      "metadata": {
        "colab": {
          "base_uri": "https://localhost:8080/"
        },
        "id": "Nt493o7tjDJK",
        "outputId": "3d1f060f-31b3-4b45-c82e-332dc205bbf9"
      },
      "execution_count": 6,
      "outputs": [
        {
          "output_type": "stream",
          "name": "stdout",
          "text": [
            "Downloading data from https://storage.googleapis.com/tensorflow/keras-applications/vgg16/vgg16_weights_tf_dim_ordering_tf_kernels_notop.h5\n",
            "58889256/58889256 [==============================] - 3s 0us/step\n"
          ]
        }
      ]
    },
    {
      "cell_type": "code",
      "source": [
        "# don't train existing weights\n",
        "for layer in vgg.layers:\n",
        "  layer.trainable = False"
      ],
      "metadata": {
        "id": "3A8l6T3HjIr5"
      },
      "execution_count": 7,
      "outputs": []
    },
    {
      "cell_type": "code",
      "source": [
        "vgg.input"
      ],
      "metadata": {
        "colab": {
          "base_uri": "https://localhost:8080/"
        },
        "id": "VUd7EM-3jJ7p",
        "outputId": "f354f2c2-c17a-456b-a83f-9b939f9fd781"
      },
      "execution_count": 8,
      "outputs": [
        {
          "output_type": "execute_result",
          "data": {
            "text/plain": [
              "<KerasTensor: shape=(None, 224, 224, 3) dtype=float32 (created by layer 'input_1')>"
            ]
          },
          "metadata": {},
          "execution_count": 8
        }
      ]
    },
    {
      "cell_type": "code",
      "source": [
        "for layer in vgg.layers:\n",
        "  layer.trainable = False"
      ],
      "metadata": {
        "id": "3OnzGRx3jN8H"
      },
      "execution_count": 9,
      "outputs": []
    },
    {
      "cell_type": "code",
      "source": [
        "x = Flatten()(vgg.output)\n",
        "# x = Dense(1000, activation='relu')(x)\n",
        "prediction = Dense(1, activation='sigmoid')(x)"
      ],
      "metadata": {
        "id": "qYoqRbI9jSf-"
      },
      "execution_count": 10,
      "outputs": []
    },
    {
      "cell_type": "code",
      "source": [
        "# create a model object\n",
        "model = Model(inputs=vgg.input, outputs=prediction)"
      ],
      "metadata": {
        "id": "C3fHX5vojZE_"
      },
      "execution_count": 11,
      "outputs": []
    },
    {
      "cell_type": "code",
      "source": [
        "# view the structure of the model\n",
        "model.summary()"
      ],
      "metadata": {
        "colab": {
          "base_uri": "https://localhost:8080/"
        },
        "id": "cgfv4LkijaQz",
        "outputId": "65a1e795-2e4f-4316-d854-0807e030f565"
      },
      "execution_count": 12,
      "outputs": [
        {
          "output_type": "stream",
          "name": "stdout",
          "text": [
            "Model: \"model\"\n",
            "_________________________________________________________________\n",
            " Layer (type)                Output Shape              Param #   \n",
            "=================================================================\n",
            " input_1 (InputLayer)        [(None, 224, 224, 3)]     0         \n",
            "                                                                 \n",
            " block1_conv1 (Conv2D)       (None, 224, 224, 64)      1792      \n",
            "                                                                 \n",
            " block1_conv2 (Conv2D)       (None, 224, 224, 64)      36928     \n",
            "                                                                 \n",
            " block1_pool (MaxPooling2D)  (None, 112, 112, 64)      0         \n",
            "                                                                 \n",
            " block2_conv1 (Conv2D)       (None, 112, 112, 128)     73856     \n",
            "                                                                 \n",
            " block2_conv2 (Conv2D)       (None, 112, 112, 128)     147584    \n",
            "                                                                 \n",
            " block2_pool (MaxPooling2D)  (None, 56, 56, 128)       0         \n",
            "                                                                 \n",
            " block3_conv1 (Conv2D)       (None, 56, 56, 256)       295168    \n",
            "                                                                 \n",
            " block3_conv2 (Conv2D)       (None, 56, 56, 256)       590080    \n",
            "                                                                 \n",
            " block3_conv3 (Conv2D)       (None, 56, 56, 256)       590080    \n",
            "                                                                 \n",
            " block3_pool (MaxPooling2D)  (None, 28, 28, 256)       0         \n",
            "                                                                 \n",
            " block4_conv1 (Conv2D)       (None, 28, 28, 512)       1180160   \n",
            "                                                                 \n",
            " block4_conv2 (Conv2D)       (None, 28, 28, 512)       2359808   \n",
            "                                                                 \n",
            " block4_conv3 (Conv2D)       (None, 28, 28, 512)       2359808   \n",
            "                                                                 \n",
            " block4_pool (MaxPooling2D)  (None, 14, 14, 512)       0         \n",
            "                                                                 \n",
            " block5_conv1 (Conv2D)       (None, 14, 14, 512)       2359808   \n",
            "                                                                 \n",
            " block5_conv2 (Conv2D)       (None, 14, 14, 512)       2359808   \n",
            "                                                                 \n",
            " block5_conv3 (Conv2D)       (None, 14, 14, 512)       2359808   \n",
            "                                                                 \n",
            " block5_pool (MaxPooling2D)  (None, 7, 7, 512)         0         \n",
            "                                                                 \n",
            " flatten (Flatten)           (None, 25088)             0         \n",
            "                                                                 \n",
            " dense (Dense)               (None, 1)                 25089     \n",
            "                                                                 \n",
            "=================================================================\n",
            "Total params: 14,739,777\n",
            "Trainable params: 25,089\n",
            "Non-trainable params: 14,714,688\n",
            "_________________________________________________________________\n"
          ]
        }
      ]
    },
    {
      "cell_type": "code",
      "source": [
        "model.compile(\n",
        "  loss='binary_crossentropy',\n",
        "  optimizer='SGD',\n",
        "  metrics=['accuracy'])"
      ],
      "metadata": {
        "id": "wwRWpg5sjfA3"
      },
      "execution_count": 13,
      "outputs": []
    },
    {
      "cell_type": "code",
      "source": [
        "history=model.fit(x=training_set,validation_data=test_set,epochs=50)"
      ],
      "metadata": {
        "colab": {
          "base_uri": "https://localhost:8080/"
        },
        "id": "0Cg17JPIjj1-",
        "outputId": "0c48a16e-71d6-402c-b1dc-01d1dd151345"
      },
      "execution_count": 14,
      "outputs": [
        {
          "output_type": "stream",
          "name": "stdout",
          "text": [
            "Epoch 1/50\n",
            "4/4 [==============================] - 162s 44s/step - loss: 6.0322 - accuracy: 0.5130 - val_loss: 20.3129 - val_accuracy: 0.5128\n",
            "Epoch 2/50\n",
            "4/4 [==============================] - 123s 33s/step - loss: 12.4007 - accuracy: 0.5043 - val_loss: 11.3950 - val_accuracy: 0.5128\n",
            "Epoch 3/50\n",
            "4/4 [==============================] - 125s 33s/step - loss: 5.7120 - accuracy: 0.6261 - val_loss: 9.3872 - val_accuracy: 0.5128\n",
            "Epoch 4/50\n",
            "4/4 [==============================] - 124s 33s/step - loss: 6.5907 - accuracy: 0.6522 - val_loss: 1.2672 - val_accuracy: 0.5128\n",
            "Epoch 5/50\n",
            "4/4 [==============================] - 125s 33s/step - loss: 6.1165 - accuracy: 0.5913 - val_loss: 3.4293 - val_accuracy: 0.4872\n",
            "Epoch 6/50\n",
            "4/4 [==============================] - 126s 33s/step - loss: 6.5416 - accuracy: 0.5130 - val_loss: 23.7130 - val_accuracy: 0.5128\n",
            "Epoch 7/50\n",
            "4/4 [==============================] - 128s 37s/step - loss: 5.7289 - accuracy: 0.6609 - val_loss: 16.0277 - val_accuracy: 0.5128\n",
            "Epoch 8/50\n",
            "4/4 [==============================] - 128s 34s/step - loss: 5.9908 - accuracy: 0.6609 - val_loss: 8.3882 - val_accuracy: 0.5128\n",
            "Epoch 9/50\n",
            "4/4 [==============================] - 125s 33s/step - loss: 7.0135 - accuracy: 0.5913 - val_loss: 2.3407 - val_accuracy: 0.5128\n",
            "Epoch 10/50\n",
            "4/4 [==============================] - 126s 33s/step - loss: 5.0048 - accuracy: 0.6435 - val_loss: 3.4045 - val_accuracy: 0.4872\n",
            "Epoch 11/50\n",
            "4/4 [==============================] - 110s 29s/step - loss: 7.2777 - accuracy: 0.4522 - val_loss: 20.7802 - val_accuracy: 0.5128\n",
            "Epoch 12/50\n",
            "4/4 [==============================] - 125s 36s/step - loss: 6.9252 - accuracy: 0.6174 - val_loss: 0.8153 - val_accuracy: 0.5641\n",
            "Epoch 13/50\n",
            "4/4 [==============================] - 127s 33s/step - loss: 4.7818 - accuracy: 0.6000 - val_loss: 2.9998 - val_accuracy: 0.4872\n",
            "Epoch 14/50\n",
            "4/4 [==============================] - 122s 36s/step - loss: 6.8412 - accuracy: 0.6174 - val_loss: 10.0592 - val_accuracy: 0.4872\n",
            "Epoch 15/50\n",
            "4/4 [==============================] - 124s 33s/step - loss: 7.6730 - accuracy: 0.4870 - val_loss: 18.1260 - val_accuracy: 0.5128\n",
            "Epoch 16/50\n",
            "4/4 [==============================] - 123s 36s/step - loss: 6.6087 - accuracy: 0.6000 - val_loss: 3.5858 - val_accuracy: 0.5128\n",
            "Epoch 17/50\n",
            "4/4 [==============================] - 124s 33s/step - loss: 6.2753 - accuracy: 0.5739 - val_loss: 3.6266 - val_accuracy: 0.4872\n",
            "Epoch 18/50\n",
            "4/4 [==============================] - 125s 33s/step - loss: 5.9738 - accuracy: 0.4522 - val_loss: 21.6132 - val_accuracy: 0.5128\n",
            "Epoch 19/50\n",
            "4/4 [==============================] - 111s 28s/step - loss: 7.2980 - accuracy: 0.6087 - val_loss: 3.7760 - val_accuracy: 0.4872\n",
            "Epoch 20/50\n",
            "4/4 [==============================] - 124s 34s/step - loss: 5.6658 - accuracy: 0.4957 - val_loss: 13.5226 - val_accuracy: 0.5128\n",
            "Epoch 21/50\n",
            "4/4 [==============================] - 125s 33s/step - loss: 6.8405 - accuracy: 0.6522 - val_loss: 5.2218 - val_accuracy: 0.5128\n",
            "Epoch 22/50\n",
            "4/4 [==============================] - 122s 33s/step - loss: 5.4153 - accuracy: 0.6261 - val_loss: 1.3834 - val_accuracy: 0.4872\n",
            "Epoch 23/50\n",
            "4/4 [==============================] - 124s 36s/step - loss: 5.3922 - accuracy: 0.5304 - val_loss: 19.2161 - val_accuracy: 0.5128\n",
            "Epoch 24/50\n",
            "4/4 [==============================] - 125s 36s/step - loss: 6.8435 - accuracy: 0.6000 - val_loss: 8.5844 - val_accuracy: 0.5128\n",
            "Epoch 25/50\n",
            "4/4 [==============================] - 125s 33s/step - loss: 7.9251 - accuracy: 0.5826 - val_loss: 3.8291 - val_accuracy: 0.5128\n",
            "Epoch 26/50\n",
            "4/4 [==============================] - 111s 28s/step - loss: 4.2661 - accuracy: 0.6696 - val_loss: 6.8619 - val_accuracy: 0.4872\n",
            "Epoch 27/50\n",
            "4/4 [==============================] - 125s 33s/step - loss: 5.8159 - accuracy: 0.5913 - val_loss: 8.8290 - val_accuracy: 0.4872\n",
            "Epoch 28/50\n",
            "4/4 [==============================] - 125s 34s/step - loss: 8.2357 - accuracy: 0.4522 - val_loss: 17.7191 - val_accuracy: 0.5128\n",
            "Epoch 29/50\n",
            "4/4 [==============================] - 123s 36s/step - loss: 6.8422 - accuracy: 0.5913 - val_loss: 8.1466 - val_accuracy: 0.5128\n",
            "Epoch 30/50\n",
            "4/4 [==============================] - 126s 33s/step - loss: 3.7106 - accuracy: 0.5565 - val_loss: 21.2509 - val_accuracy: 0.5128\n",
            "Epoch 31/50\n",
            "4/4 [==============================] - 110s 28s/step - loss: 6.1344 - accuracy: 0.7043 - val_loss: 11.4164 - val_accuracy: 0.4872\n",
            "Epoch 32/50\n",
            "4/4 [==============================] - 124s 32s/step - loss: 9.0398 - accuracy: 0.4522 - val_loss: 18.9969 - val_accuracy: 0.5128\n",
            "Epoch 33/50\n",
            "4/4 [==============================] - 126s 33s/step - loss: 9.5305 - accuracy: 0.5565 - val_loss: 10.7871 - val_accuracy: 0.5128\n",
            "Epoch 34/50\n",
            "4/4 [==============================] - 123s 32s/step - loss: 4.8447 - accuracy: 0.6261 - val_loss: 8.9860 - val_accuracy: 0.5128\n",
            "Epoch 35/50\n",
            "4/4 [==============================] - 122s 33s/step - loss: 7.5268 - accuracy: 0.5217 - val_loss: 1.3720 - val_accuracy: 0.5641\n",
            "Epoch 36/50\n",
            "4/4 [==============================] - 123s 36s/step - loss: 5.8324 - accuracy: 0.5391 - val_loss: 18.2954 - val_accuracy: 0.5128\n",
            "Epoch 37/50\n",
            "4/4 [==============================] - 125s 33s/step - loss: 9.3664 - accuracy: 0.6000 - val_loss: 12.2791 - val_accuracy: 0.5128\n",
            "Epoch 38/50\n",
            "4/4 [==============================] - 127s 36s/step - loss: 6.9584 - accuracy: 0.5913 - val_loss: 7.3316 - val_accuracy: 0.5128\n",
            "Epoch 39/50\n",
            "4/4 [==============================] - 124s 36s/step - loss: 2.5712 - accuracy: 0.6696 - val_loss: 4.0456 - val_accuracy: 0.4872\n",
            "Epoch 40/50\n",
            "4/4 [==============================] - 123s 36s/step - loss: 5.9324 - accuracy: 0.6522 - val_loss: 5.0493 - val_accuracy: 0.4872\n",
            "Epoch 41/50\n",
            "4/4 [==============================] - 127s 33s/step - loss: 5.0134 - accuracy: 0.5304 - val_loss: 15.5747 - val_accuracy: 0.5128\n",
            "Epoch 42/50\n",
            "4/4 [==============================] - 122s 36s/step - loss: 8.9185 - accuracy: 0.5391 - val_loss: 7.9733 - val_accuracy: 0.5128\n",
            "Epoch 43/50\n",
            "4/4 [==============================] - 122s 35s/step - loss: 2.4304 - accuracy: 0.7043 - val_loss: 3.0897 - val_accuracy: 0.4872\n",
            "Epoch 44/50\n",
            "4/4 [==============================] - 122s 32s/step - loss: 5.3497 - accuracy: 0.5913 - val_loss: 7.8659 - val_accuracy: 0.4872\n",
            "Epoch 45/50\n",
            "4/4 [==============================] - 125s 33s/step - loss: 5.5249 - accuracy: 0.5826 - val_loss: 18.0354 - val_accuracy: 0.5128\n",
            "Epoch 46/50\n",
            "4/4 [==============================] - 123s 36s/step - loss: 8.4370 - accuracy: 0.5565 - val_loss: 9.1186 - val_accuracy: 0.5128\n",
            "Epoch 47/50\n",
            "4/4 [==============================] - 111s 29s/step - loss: 8.5233 - accuracy: 0.5913 - val_loss: 1.1906 - val_accuracy: 0.5641\n",
            "Epoch 48/50\n",
            "4/4 [==============================] - 126s 33s/step - loss: 2.7125 - accuracy: 0.6348 - val_loss: 1.7328 - val_accuracy: 0.5385\n",
            "Epoch 49/50\n",
            "4/4 [==============================] - 125s 36s/step - loss: 4.5896 - accuracy: 0.5739 - val_loss: 17.1561 - val_accuracy: 0.5128\n",
            "Epoch 50/50\n",
            "4/4 [==============================] - 124s 33s/step - loss: 7.4261 - accuracy: 0.6261 - val_loss: 9.1268 - val_accuracy: 0.5128\n"
          ]
        }
      ]
    }
  ]
}