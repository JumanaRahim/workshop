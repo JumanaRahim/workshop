{
  "cells": [
    {
      "cell_type": "markdown",
      "metadata": {
        "id": "view-in-github",
        "colab_type": "text"
      },
      "source": [
        "<a href=\"https://colab.research.google.com/github/JumanaRahim/workshop/blob/master/drowsiness.ipynb\" target=\"_parent\"><img src=\"https://colab.research.google.com/assets/colab-badge.svg\" alt=\"Open In Colab\"/></a>"
      ]
    },
    {
      "cell_type": "code",
      "source": [
        "!unzip /content/dataset_new.zip "
      ],
      "metadata": {
        "colab": {
          "base_uri": "https://localhost:8080/"
        },
        "id": "f5Q5s9Nor3-l",
        "outputId": "fd697d3c-86bb-420c-a22c-c33c01c3445a"
      },
      "id": "f5Q5s9Nor3-l",
      "execution_count": null,
      "outputs": [
        {
          "output_type": "stream",
          "name": "stdout",
          "text": [
            "Archive:  /content/dataset_new.zip\n",
            "   creating: dataset_new/\n",
            "   creating: dataset_new/test/\n",
            "   creating: dataset_new/test/no_yawn/\n",
            "  inflating: dataset_new/test/no_yawn/1004.jpg  \n",
            "  inflating: dataset_new/test/no_yawn/1007.jpg  \n",
            "  inflating: dataset_new/test/no_yawn/1010.jpg  \n",
            "  inflating: dataset_new/test/no_yawn/1033.jpg  \n",
            "  inflating: dataset_new/test/no_yawn/1044.jpg  \n",
            "  inflating: dataset_new/test/no_yawn/1050.jpg  \n",
            "  inflating: dataset_new/test/no_yawn/1063.jpg  \n",
            "  inflating: dataset_new/test/no_yawn/1067.jpg  \n",
            "  inflating: dataset_new/test/no_yawn/1096.jpg  \n",
            "  inflating: dataset_new/test/no_yawn/1114.jpg  \n",
            "  inflating: dataset_new/test/no_yawn/1118.jpg  \n",
            "  inflating: dataset_new/test/no_yawn/1129.jpg  \n",
            "  inflating: dataset_new/test/no_yawn/113.jpg  \n",
            "  inflating: dataset_new/test/no_yawn/1134.jpg  \n",
            "  inflating: dataset_new/test/no_yawn/115.jpg  \n",
            "  inflating: dataset_new/test/no_yawn/1213.jpg  \n",
            "  inflating: dataset_new/test/no_yawn/1267.jpg  \n",
            "  inflating: dataset_new/test/no_yawn/1268.jpg  \n",
            "  inflating: dataset_new/test/no_yawn/1323.jpg  \n",
            "  inflating: dataset_new/test/no_yawn/1367.jpg  \n",
            "  inflating: dataset_new/test/no_yawn/1368.jpg  \n",
            "  inflating: dataset_new/test/no_yawn/1452.jpg  \n",
            "  inflating: dataset_new/test/no_yawn/1459.jpg  \n",
            "  inflating: dataset_new/test/no_yawn/1486.jpg  \n",
            "  inflating: dataset_new/test/no_yawn/1536.jpg  \n",
            "  inflating: dataset_new/test/no_yawn/1543.jpg  \n",
            "  inflating: dataset_new/test/no_yawn/1544.jpg  \n",
            "  inflating: dataset_new/test/no_yawn/1558.jpg  \n",
            "  inflating: dataset_new/test/no_yawn/1566.jpg  \n",
            "  inflating: dataset_new/test/no_yawn/1570.jpg  \n",
            "  inflating: dataset_new/test/no_yawn/1594.jpg  \n",
            "  inflating: dataset_new/test/no_yawn/1596.jpg  \n",
            "  inflating: dataset_new/test/no_yawn/1641.jpg  \n",
            "  inflating: dataset_new/test/no_yawn/1643.jpg  \n",
            "  inflating: dataset_new/test/no_yawn/1771.jpg  \n",
            "  inflating: dataset_new/test/no_yawn/1862.jpg  \n",
            "  inflating: dataset_new/test/no_yawn/1863.jpg  \n",
            "  inflating: dataset_new/test/no_yawn/1897.jpg  \n",
            "  inflating: dataset_new/test/no_yawn/1898.jpg  \n",
            "  inflating: dataset_new/test/no_yawn/1913.jpg  \n",
            "  inflating: dataset_new/test/no_yawn/1942.jpg  \n",
            "  inflating: dataset_new/test/no_yawn/1946.jpg  \n",
            "  inflating: dataset_new/test/no_yawn/1947.jpg  \n",
            "  inflating: dataset_new/test/no_yawn/1950.jpg  \n",
            "  inflating: dataset_new/test/no_yawn/2004.jpg  \n",
            "  inflating: dataset_new/test/no_yawn/2016.jpg  \n",
            "  inflating: dataset_new/test/no_yawn/205.jpg  \n",
            "  inflating: dataset_new/test/no_yawn/2059.jpg  \n",
            "  inflating: dataset_new/test/no_yawn/2090.jpg  \n",
            "  inflating: dataset_new/test/no_yawn/2093.jpg  \n",
            "  inflating: dataset_new/test/no_yawn/2107.jpg  \n",
            "  inflating: dataset_new/test/no_yawn/211.jpg  \n",
            "  inflating: dataset_new/test/no_yawn/2110.jpg  \n",
            "  inflating: dataset_new/test/no_yawn/2197.jpg  \n",
            "  inflating: dataset_new/test/no_yawn/2289.jpg  \n",
            "  inflating: dataset_new/test/no_yawn/2311.jpg  \n",
            "  inflating: dataset_new/test/no_yawn/233.jpg  \n",
            "  inflating: dataset_new/test/no_yawn/2346.jpg  \n",
            "  inflating: dataset_new/test/no_yawn/2351.jpg  \n",
            "  inflating: dataset_new/test/no_yawn/2354.jpg  \n",
            "  inflating: dataset_new/test/no_yawn/237.jpg  \n",
            "  inflating: dataset_new/test/no_yawn/24.jpg  \n",
            "  inflating: dataset_new/test/no_yawn/2406.jpg  \n",
            "  inflating: dataset_new/test/no_yawn/2408.jpg  \n",
            "  inflating: dataset_new/test/no_yawn/2431.jpg  \n",
            "  inflating: dataset_new/test/no_yawn/2482.jpg  \n",
            "  inflating: dataset_new/test/no_yawn/2511.jpg  \n",
            "  inflating: dataset_new/test/no_yawn/2514.jpg  \n",
            "  inflating: dataset_new/test/no_yawn/2541.jpg  \n",
            "  inflating: dataset_new/test/no_yawn/2542.jpg  \n",
            "  inflating: dataset_new/test/no_yawn/2548.jpg  \n",
            "  inflating: dataset_new/test/no_yawn/2577.jpg  \n",
            "  inflating: dataset_new/test/no_yawn/2590.jpg  \n",
            "  inflating: dataset_new/test/no_yawn/26.jpg  \n",
            "  inflating: dataset_new/test/no_yawn/2607.jpg  \n",
            "  inflating: dataset_new/test/no_yawn/2621.jpg  \n",
            "  inflating: dataset_new/test/no_yawn/276.jpg  \n",
            "  inflating: dataset_new/test/no_yawn/29.jpg  \n",
            "  inflating: dataset_new/test/no_yawn/291.jpg  \n",
            "  inflating: dataset_new/test/no_yawn/461.jpg  \n",
            "  inflating: dataset_new/test/no_yawn/470.jpg  \n",
            "  inflating: dataset_new/test/no_yawn/487.jpg  \n",
            "  inflating: dataset_new/test/no_yawn/510.jpg  \n",
            "  inflating: dataset_new/test/no_yawn/526.jpg  \n",
            "  inflating: dataset_new/test/no_yawn/548.jpg  \n",
            "  inflating: dataset_new/test/no_yawn/551.jpg  \n",
            "  inflating: dataset_new/test/no_yawn/555.jpg  \n",
            "  inflating: dataset_new/test/no_yawn/603.jpg  \n",
            "  inflating: dataset_new/test/no_yawn/610.jpg  \n",
            "  inflating: dataset_new/test/no_yawn/616.jpg  \n",
            "  inflating: dataset_new/test/no_yawn/646.jpg  \n",
            "  inflating: dataset_new/test/no_yawn/702.jpg  \n",
            "  inflating: dataset_new/test/no_yawn/71.jpg  \n",
            "  inflating: dataset_new/test/no_yawn/728.jpg  \n",
            "  inflating: dataset_new/test/no_yawn/755.jpg  \n",
            "  inflating: dataset_new/test/no_yawn/756.jpg  \n",
            "  inflating: dataset_new/test/no_yawn/771.jpg  \n",
            "  inflating: dataset_new/test/no_yawn/779.jpg  \n",
            "  inflating: dataset_new/test/no_yawn/830.jpg  \n",
            "  inflating: dataset_new/test/no_yawn/840.jpg  \n",
            "  inflating: dataset_new/test/no_yawn/866.jpg  \n",
            "  inflating: dataset_new/test/no_yawn/896.jpg  \n",
            "  inflating: dataset_new/test/no_yawn/898.jpg  \n",
            "  inflating: dataset_new/test/no_yawn/900.jpg  \n",
            "  inflating: dataset_new/test/no_yawn/91.jpg  \n",
            "  inflating: dataset_new/test/no_yawn/958.jpg  \n",
            "  inflating: dataset_new/test/no_yawn/959.jpg  \n",
            "  inflating: dataset_new/test/no_yawn/963.jpg  \n",
            "  inflating: dataset_new/test/no_yawn/976.jpg  \n",
            "   creating: dataset_new/test/yawn/\n",
            "  inflating: dataset_new/test/yawn/205.jpg  \n",
            "  inflating: dataset_new/test/yawn/100.jpg  \n",
            "  inflating: dataset_new/test/yawn/102.jpg  \n",
            "  inflating: dataset_new/test/yawn/105.jpg  \n",
            "  inflating: dataset_new/test/yawn/111.jpg  \n",
            "  inflating: dataset_new/test/yawn/116.jpg  \n",
            "  inflating: dataset_new/test/yawn/119.jpg  \n",
            "  inflating: dataset_new/test/yawn/121.jpg  \n",
            "  inflating: dataset_new/test/yawn/122.jpg  \n",
            "  inflating: dataset_new/test/yawn/127.jpg  \n",
            "  inflating: dataset_new/test/yawn/131.jpg  \n",
            "  inflating: dataset_new/test/yawn/134.jpg  \n",
            "  inflating: dataset_new/test/yawn/14.jpg  \n",
            "  inflating: dataset_new/test/yawn/140.jpg  \n",
            "  inflating: dataset_new/test/yawn/145.jpg  \n",
            "  inflating: dataset_new/test/yawn/148.jpg  \n",
            "  inflating: dataset_new/test/yawn/160.jpg  \n",
            "  inflating: dataset_new/test/yawn/168.jpg  \n",
            "  inflating: dataset_new/test/yawn/169.jpg  \n",
            "  inflating: dataset_new/test/yawn/177.jpg  \n",
            "  inflating: dataset_new/test/yawn/188.jpg  \n",
            "  inflating: dataset_new/test/yawn/189.jpg  \n",
            "  inflating: dataset_new/test/yawn/206.jpg  \n",
            "  inflating: dataset_new/test/yawn/214.jpg  \n",
            "  inflating: dataset_new/test/yawn/229.jpg  \n",
            "  inflating: dataset_new/test/yawn/233.jpg  \n",
            "  inflating: dataset_new/test/yawn/234.jpg  \n",
            "  inflating: dataset_new/test/yawn/235.jpg  \n",
            "  inflating: dataset_new/test/yawn/239.jpg  \n",
            "  inflating: dataset_new/test/yawn/240.jpg  \n",
            "  inflating: dataset_new/test/yawn/248.jpg  \n",
            "  inflating: dataset_new/test/yawn/249.jpg  \n",
            "  inflating: dataset_new/test/yawn/257.jpg  \n",
            "  inflating: dataset_new/test/yawn/259.jpg  \n",
            "  inflating: dataset_new/test/yawn/286.jpg  \n",
            "  inflating: dataset_new/test/yawn/305.jpg  \n",
            "  inflating: dataset_new/test/yawn/306.jpg  \n",
            "  inflating: dataset_new/test/yawn/318.jpg  \n",
            "  inflating: dataset_new/test/yawn/319.jpg  \n",
            "  inflating: dataset_new/test/yawn/322.jpg  \n",
            "  inflating: dataset_new/test/yawn/331.jpg  \n",
            "  inflating: dataset_new/test/yawn/332.jpg  \n",
            "  inflating: dataset_new/test/yawn/333.jpg  \n",
            "  inflating: dataset_new/test/yawn/336.jpg  \n",
            "  inflating: dataset_new/test/yawn/349.jpg  \n",
            "  inflating: dataset_new/test/yawn/357.jpg  \n",
            "  inflating: dataset_new/test/yawn/362.jpg  \n",
            "  inflating: dataset_new/test/yawn/366.jpg  \n",
            "  inflating: dataset_new/test/yawn/379.jpg  \n",
            "  inflating: dataset_new/test/yawn/381.jpg  \n",
            "  inflating: dataset_new/test/yawn/382.jpg  \n",
            "  inflating: dataset_new/test/yawn/385.jpg  \n",
            "  inflating: dataset_new/test/yawn/386.jpg  \n",
            "  inflating: dataset_new/test/yawn/409.jpg  \n",
            "  inflating: dataset_new/test/yawn/443.jpg  \n",
            "  inflating: dataset_new/test/yawn/451.jpg  \n",
            "  inflating: dataset_new/test/yawn/455.jpg  \n",
            "  inflating: dataset_new/test/yawn/461.jpg  \n",
            "  inflating: dataset_new/test/yawn/465.jpg  \n",
            "  inflating: dataset_new/test/yawn/466.jpg  \n",
            "  inflating: dataset_new/test/yawn/47.jpg  \n",
            "  inflating: dataset_new/test/yawn/477.jpg  \n",
            "  inflating: dataset_new/test/yawn/480.jpg  \n",
            "  inflating: dataset_new/test/yawn/482.jpg  \n",
            "  inflating: dataset_new/test/yawn/49.jpg  \n",
            "  inflating: dataset_new/test/yawn/505.jpg  \n",
            "  inflating: dataset_new/test/yawn/511.jpg  \n",
            "  inflating: dataset_new/test/yawn/513.jpg  \n",
            "  inflating: dataset_new/test/yawn/526.jpg  \n",
            "  inflating: dataset_new/test/yawn/527.jpg  \n",
            "  inflating: dataset_new/test/yawn/529.jpg  \n",
            "  inflating: dataset_new/test/yawn/538.jpg  \n",
            "  inflating: dataset_new/test/yawn/547.jpg  \n",
            "  inflating: dataset_new/test/yawn/548.jpg  \n",
            "  inflating: dataset_new/test/yawn/551.jpg  \n",
            "  inflating: dataset_new/test/yawn/554.jpg  \n",
            "  inflating: dataset_new/test/yawn/559.jpg  \n",
            "  inflating: dataset_new/test/yawn/563.jpg  \n",
            "  inflating: dataset_new/test/yawn/564.jpg  \n",
            "  inflating: dataset_new/test/yawn/602.jpg  \n",
            "  inflating: dataset_new/test/yawn/606.jpg  \n",
            "  inflating: dataset_new/test/yawn/61.jpg  \n",
            "  inflating: dataset_new/test/yawn/619.jpg  \n",
            "  inflating: dataset_new/test/yawn/622.jpg  \n",
            "  inflating: dataset_new/test/yawn/63.jpg  \n",
            "  inflating: dataset_new/test/yawn/630.jpg  \n",
            "  inflating: dataset_new/test/yawn/632.jpg  \n",
            "  inflating: dataset_new/test/yawn/649.jpg  \n",
            "  inflating: dataset_new/test/yawn/652.jpg  \n",
            "  inflating: dataset_new/test/yawn/662.jpg  \n",
            "  inflating: dataset_new/test/yawn/676.jpg  \n",
            "  inflating: dataset_new/test/yawn/678.jpg  \n",
            "  inflating: dataset_new/test/yawn/681.jpg  \n",
            "  inflating: dataset_new/test/yawn/686.jpg  \n",
            "  inflating: dataset_new/test/yawn/707.jpg  \n",
            "  inflating: dataset_new/test/yawn/709.jpg  \n",
            "  inflating: dataset_new/test/yawn/711.jpg  \n",
            "  inflating: dataset_new/test/yawn/715.jpg  \n",
            "  inflating: dataset_new/test/yawn/719.jpg  \n",
            "  inflating: dataset_new/test/yawn/720.jpg  \n",
            "  inflating: dataset_new/test/yawn/721.jpg  \n",
            "  inflating: dataset_new/test/yawn/725.jpg  \n",
            "  inflating: dataset_new/test/yawn/81.jpg  \n",
            "  inflating: dataset_new/test/yawn/84.jpg  \n",
            "  inflating: dataset_new/test/yawn/86.jpg  \n",
            "  inflating: dataset_new/test/yawn/95.jpg  \n",
            "   creating: dataset_new/train/\n",
            "   creating: dataset_new/train/no_yawn/\n",
            "  inflating: dataset_new/train/no_yawn/1.jpg  \n",
            "  inflating: dataset_new/train/no_yawn/1003.jpg  \n",
            "  inflating: dataset_new/train/no_yawn/1006.jpg  \n",
            "  inflating: dataset_new/train/no_yawn/1008.jpg  \n",
            "  inflating: dataset_new/train/no_yawn/1009.jpg  \n",
            "  inflating: dataset_new/train/no_yawn/1021.jpg  \n",
            "  inflating: dataset_new/train/no_yawn/1028.jpg  \n",
            "  inflating: dataset_new/train/no_yawn/1029.jpg  \n",
            "  inflating: dataset_new/train/no_yawn/1030.jpg  \n",
            "  inflating: dataset_new/train/no_yawn/1031.jpg  \n",
            "  inflating: dataset_new/train/no_yawn/1032.jpg  \n",
            "  inflating: dataset_new/train/no_yawn/1034.jpg  \n",
            "  inflating: dataset_new/train/no_yawn/1038.jpg  \n",
            "  inflating: dataset_new/train/no_yawn/1039.jpg  \n",
            "  inflating: dataset_new/train/no_yawn/1042.jpg  \n",
            "  inflating: dataset_new/train/no_yawn/1046.jpg  \n",
            "  inflating: dataset_new/train/no_yawn/1047.jpg  \n",
            "  inflating: dataset_new/train/no_yawn/1061.jpg  \n",
            "  inflating: dataset_new/train/no_yawn/1062.jpg  \n",
            "  inflating: dataset_new/train/no_yawn/1068.jpg  \n",
            "  inflating: dataset_new/train/no_yawn/1069.jpg  \n",
            "  inflating: dataset_new/train/no_yawn/1073.jpg  \n",
            "  inflating: dataset_new/train/no_yawn/1074.jpg  \n",
            "  inflating: dataset_new/train/no_yawn/1097.jpg  \n",
            "  inflating: dataset_new/train/no_yawn/1098.jpg  \n",
            "  inflating: dataset_new/train/no_yawn/111.jpg  \n",
            "  inflating: dataset_new/train/no_yawn/1111.jpg  \n",
            "  inflating: dataset_new/train/no_yawn/1116.jpg  \n",
            "  inflating: dataset_new/train/no_yawn/1117.jpg  \n",
            "  inflating: dataset_new/train/no_yawn/112.jpg  \n",
            "  inflating: dataset_new/train/no_yawn/1120.jpg  \n",
            "  inflating: dataset_new/train/no_yawn/1121.jpg  \n",
            "  inflating: dataset_new/train/no_yawn/1122.jpg  \n",
            "  inflating: dataset_new/train/no_yawn/1128.jpg  \n",
            "  inflating: dataset_new/train/no_yawn/1130.jpg  \n",
            "  inflating: dataset_new/train/no_yawn/1131.jpg  \n",
            "  inflating: dataset_new/train/no_yawn/1132.jpg  \n",
            "  inflating: dataset_new/train/no_yawn/1133.jpg  \n",
            "  inflating: dataset_new/train/no_yawn/1139.jpg  \n",
            "  inflating: dataset_new/train/no_yawn/114.jpg  \n",
            "  inflating: dataset_new/train/no_yawn/117.jpg  \n",
            "  inflating: dataset_new/train/no_yawn/1172.jpg  \n",
            "  inflating: dataset_new/train/no_yawn/1173.jpg  \n",
            "  inflating: dataset_new/train/no_yawn/1174.jpg  \n",
            "  inflating: dataset_new/train/no_yawn/1176.jpg  \n",
            "  inflating: dataset_new/train/no_yawn/1177.jpg  \n",
            "  inflating: dataset_new/train/no_yawn/1178.jpg  \n",
            "  inflating: dataset_new/train/no_yawn/1201.jpg  \n",
            "  inflating: dataset_new/train/no_yawn/1202.jpg  \n",
            "  inflating: dataset_new/train/no_yawn/1203.jpg  \n",
            "  inflating: dataset_new/train/no_yawn/1208.jpg  \n",
            "  inflating: dataset_new/train/no_yawn/1209.jpg  \n",
            "  inflating: dataset_new/train/no_yawn/1210.jpg  \n",
            "  inflating: dataset_new/train/no_yawn/1214.jpg  \n",
            "  inflating: dataset_new/train/no_yawn/1246.jpg  \n",
            "  inflating: dataset_new/train/no_yawn/1247.jpg  \n",
            "  inflating: dataset_new/train/no_yawn/1248.jpg  \n",
            "  inflating: dataset_new/train/no_yawn/1250.jpg  \n",
            "  inflating: dataset_new/train/no_yawn/1261.jpg  \n",
            "  inflating: dataset_new/train/no_yawn/1266.jpg  \n",
            "  inflating: dataset_new/train/no_yawn/1269.jpg  \n",
            "  inflating: dataset_new/train/no_yawn/1270.jpg  \n",
            "  inflating: dataset_new/train/no_yawn/1281.jpg  \n",
            "  inflating: dataset_new/train/no_yawn/1282.jpg  \n",
            "  inflating: dataset_new/train/no_yawn/1318.jpg  \n",
            "  inflating: dataset_new/train/no_yawn/1319.jpg  \n",
            "  inflating: dataset_new/train/no_yawn/1320.jpg  \n",
            "  inflating: dataset_new/train/no_yawn/1322.jpg  \n",
            "  inflating: dataset_new/train/no_yawn/1324.jpg  \n",
            "  inflating: dataset_new/train/no_yawn/1326.jpg  \n",
            "  inflating: dataset_new/train/no_yawn/1327.jpg  \n",
            "  inflating: dataset_new/train/no_yawn/1332.jpg  \n",
            "  inflating: dataset_new/train/no_yawn/1333.jpg  \n",
            "  inflating: dataset_new/train/no_yawn/1334.jpg  \n",
            "  inflating: dataset_new/train/no_yawn/1356.jpg  \n",
            "  inflating: dataset_new/train/no_yawn/1357.jpg  \n",
            "  inflating: dataset_new/train/no_yawn/1359.jpg  \n",
            "  inflating: dataset_new/train/no_yawn/1362.jpg  \n",
            "  inflating: dataset_new/train/no_yawn/1363.jpg  \n",
            "  inflating: dataset_new/train/no_yawn/1369.jpg  \n",
            "  inflating: dataset_new/train/no_yawn/1370.jpg  \n",
            "  inflating: dataset_new/train/no_yawn/1371.jpg  \n",
            "  inflating: dataset_new/train/no_yawn/1374.jpg  \n",
            "  inflating: dataset_new/train/no_yawn/1376.jpg  \n",
            "  inflating: dataset_new/train/no_yawn/1378.jpg  \n",
            "  inflating: dataset_new/train/no_yawn/141.jpg  \n",
            "  inflating: dataset_new/train/no_yawn/1411.jpg  \n",
            "  inflating: dataset_new/train/no_yawn/1412.jpg  \n",
            "  inflating: dataset_new/train/no_yawn/1413.jpg  \n",
            "  inflating: dataset_new/train/no_yawn/142.jpg  \n",
            "  inflating: dataset_new/train/no_yawn/144.jpg  \n",
            "  inflating: dataset_new/train/no_yawn/1447.jpg  \n",
            "  inflating: dataset_new/train/no_yawn/1448.jpg  \n",
            "  inflating: dataset_new/train/no_yawn/1449.jpg  \n",
            "  inflating: dataset_new/train/no_yawn/145.jpg  \n",
            "  inflating: dataset_new/train/no_yawn/1450.jpg  \n",
            "  inflating: dataset_new/train/no_yawn/1451.jpg  \n",
            "  inflating: dataset_new/train/no_yawn/146.jpg  \n",
            "  inflating: dataset_new/train/no_yawn/1460.jpg  \n",
            "  inflating: dataset_new/train/no_yawn/1461.jpg  \n",
            "  inflating: dataset_new/train/no_yawn/1462.jpg  \n",
            "  inflating: dataset_new/train/no_yawn/1463.jpg  \n",
            "  inflating: dataset_new/train/no_yawn/1464.jpg  \n",
            "  inflating: dataset_new/train/no_yawn/147.jpg  \n",
            "  inflating: dataset_new/train/no_yawn/148.jpg  \n",
            "  inflating: dataset_new/train/no_yawn/1487.jpg  \n",
            "  inflating: dataset_new/train/no_yawn/149.jpg  \n",
            "  inflating: dataset_new/train/no_yawn/1492.jpg  \n",
            "  inflating: dataset_new/train/no_yawn/1493.jpg  \n",
            "  inflating: dataset_new/train/no_yawn/1496.jpg  \n",
            "  inflating: dataset_new/train/no_yawn/1497.jpg  \n",
            "  inflating: dataset_new/train/no_yawn/1498.jpg  \n",
            "  inflating: dataset_new/train/no_yawn/1499.jpg  \n",
            "  inflating: dataset_new/train/no_yawn/1500.jpg  \n",
            "  inflating: dataset_new/train/no_yawn/1503.jpg  \n",
            "  inflating: dataset_new/train/no_yawn/1507.jpg  \n",
            "  inflating: dataset_new/train/no_yawn/1508.jpg  \n",
            "  inflating: dataset_new/train/no_yawn/1509.jpg  \n",
            "  inflating: dataset_new/train/no_yawn/1510.jpg  \n",
            "  inflating: dataset_new/train/no_yawn/1532.jpg  \n",
            "  inflating: dataset_new/train/no_yawn/1537.jpg  \n",
            "  inflating: dataset_new/train/no_yawn/1538.jpg  \n",
            "  inflating: dataset_new/train/no_yawn/1541.jpg  \n",
            "  inflating: dataset_new/train/no_yawn/1542.jpg  \n",
            "  inflating: dataset_new/train/no_yawn/1559.jpg  \n",
            "  inflating: dataset_new/train/no_yawn/1561.jpg  \n",
            "  inflating: dataset_new/train/no_yawn/1562.jpg  \n",
            "  inflating: dataset_new/train/no_yawn/1567.jpg  \n",
            "  inflating: dataset_new/train/no_yawn/1571.jpg  \n",
            "  inflating: dataset_new/train/no_yawn/1572.jpg  \n",
            "  inflating: dataset_new/train/no_yawn/1573.jpg  \n",
            "  inflating: dataset_new/train/no_yawn/1574.jpg  \n",
            "  inflating: dataset_new/train/no_yawn/1576.jpg  \n",
            "  inflating: dataset_new/train/no_yawn/1592.jpg  \n",
            "  inflating: dataset_new/train/no_yawn/1593.jpg  \n",
            "  inflating: dataset_new/train/no_yawn/1597.jpg  \n",
            "  inflating: dataset_new/train/no_yawn/1598.jpg  \n",
            "  inflating: dataset_new/train/no_yawn/1599.jpg  \n",
            "  inflating: dataset_new/train/no_yawn/1600.jpg  \n",
            "  inflating: dataset_new/train/no_yawn/1611.jpg  \n",
            "  inflating: dataset_new/train/no_yawn/1627.jpg  \n",
            "  inflating: dataset_new/train/no_yawn/1629.jpg  \n",
            "  inflating: dataset_new/train/no_yawn/1630.jpg  \n",
            "  inflating: dataset_new/train/no_yawn/1642.jpg  \n",
            "  inflating: dataset_new/train/no_yawn/1647.jpg  \n",
            "  inflating: dataset_new/train/no_yawn/1648.jpg  \n",
            "  inflating: dataset_new/train/no_yawn/1651.jpg  \n",
            "  inflating: dataset_new/train/no_yawn/1652.jpg  \n",
            "  inflating: dataset_new/train/no_yawn/1653.jpg  \n",
            "  inflating: dataset_new/train/no_yawn/1686.jpg  \n",
            "  inflating: dataset_new/train/no_yawn/1689.jpg  \n",
            "  inflating: dataset_new/train/no_yawn/1690.jpg  \n",
            "  inflating: dataset_new/train/no_yawn/1701.jpg  \n",
            "  inflating: dataset_new/train/no_yawn/1703.jpg  \n",
            "  inflating: dataset_new/train/no_yawn/1706.jpg  \n",
            "  inflating: dataset_new/train/no_yawn/1707.jpg  \n",
            "  inflating: dataset_new/train/no_yawn/1708.jpg  \n",
            "  inflating: dataset_new/train/no_yawn/1711.jpg  \n",
            "  inflating: dataset_new/train/no_yawn/1712.jpg  \n",
            "  inflating: dataset_new/train/no_yawn/1714.jpg  \n",
            "  inflating: dataset_new/train/no_yawn/1736.jpg  \n",
            "  inflating: dataset_new/train/no_yawn/1738.jpg  \n",
            "  inflating: dataset_new/train/no_yawn/174.jpg  \n",
            "  inflating: dataset_new/train/no_yawn/1740.jpg  \n",
            "  inflating: dataset_new/train/no_yawn/175.jpg  \n",
            "  inflating: dataset_new/train/no_yawn/176.jpg  \n",
            "  inflating: dataset_new/train/no_yawn/1763.jpg  \n",
            "  inflating: dataset_new/train/no_yawn/1764.jpg  \n",
            "  inflating: dataset_new/train/no_yawn/1766.jpg  \n",
            "  inflating: dataset_new/train/no_yawn/1767.jpg  \n",
            "  inflating: dataset_new/train/no_yawn/1768.jpg  \n",
            "  inflating: dataset_new/train/no_yawn/1769.jpg  \n",
            "  inflating: dataset_new/train/no_yawn/177.jpg  \n",
            "  inflating: dataset_new/train/no_yawn/1777.jpg  \n",
            "  inflating: dataset_new/train/no_yawn/1778.jpg  \n",
            "  inflating: dataset_new/train/no_yawn/1779.jpg  \n",
            "  inflating: dataset_new/train/no_yawn/1780.jpg  \n",
            "  inflating: dataset_new/train/no_yawn/1781.jpg  \n",
            "  inflating: dataset_new/train/no_yawn/1782.jpg  \n",
            "  inflating: dataset_new/train/no_yawn/1783.jpg  \n",
            "  inflating: dataset_new/train/no_yawn/1784.jpg  \n",
            "  inflating: dataset_new/train/no_yawn/1788.jpg  \n",
            "  inflating: dataset_new/train/no_yawn/179.jpg  \n",
            "  inflating: dataset_new/train/no_yawn/1802.jpg  \n",
            "  inflating: dataset_new/train/no_yawn/1803.jpg  \n",
            "  inflating: dataset_new/train/no_yawn/1804.jpg  \n",
            "  inflating: dataset_new/train/no_yawn/1816.jpg  \n",
            "  inflating: dataset_new/train/no_yawn/1817.jpg  \n",
            "  inflating: dataset_new/train/no_yawn/1820.jpg  \n",
            "  inflating: dataset_new/train/no_yawn/1851.jpg  \n",
            "  inflating: dataset_new/train/no_yawn/1852.jpg  \n",
            "  inflating: dataset_new/train/no_yawn/1856.jpg  \n",
            "  inflating: dataset_new/train/no_yawn/1857.jpg  \n",
            "  inflating: dataset_new/train/no_yawn/1859.jpg  \n",
            "  inflating: dataset_new/train/no_yawn/1864.jpg  \n",
            "  inflating: dataset_new/train/no_yawn/1866.jpg  \n",
            "  inflating: dataset_new/train/no_yawn/1867.jpg  \n",
            "  inflating: dataset_new/train/no_yawn/1870.jpg  \n",
            "  inflating: dataset_new/train/no_yawn/1871.jpg  \n",
            "  inflating: dataset_new/train/no_yawn/1874.jpg  \n",
            "  inflating: dataset_new/train/no_yawn/1876.jpg  \n",
            "  inflating: dataset_new/train/no_yawn/1878.jpg  \n",
            "  inflating: dataset_new/train/no_yawn/1879.jpg  \n",
            "  inflating: dataset_new/train/no_yawn/1880.jpg  \n",
            "  inflating: dataset_new/train/no_yawn/1891.jpg  \n",
            "  inflating: dataset_new/train/no_yawn/1893.jpg  \n",
            "  inflating: dataset_new/train/no_yawn/1899.jpg  \n",
            "  inflating: dataset_new/train/no_yawn/1900.jpg  \n",
            "  inflating: dataset_new/train/no_yawn/1911.jpg  \n",
            "  inflating: dataset_new/train/no_yawn/1914.jpg  \n",
            "  inflating: dataset_new/train/no_yawn/1916.jpg  \n",
            "  inflating: dataset_new/train/no_yawn/1931.jpg  \n",
            "  inflating: dataset_new/train/no_yawn/1932.jpg  \n",
            "  inflating: dataset_new/train/no_yawn/1933.jpg  \n",
            "  inflating: dataset_new/train/no_yawn/1934.jpg  \n",
            "  inflating: dataset_new/train/no_yawn/1936.jpg  \n",
            "  inflating: dataset_new/train/no_yawn/1937.jpg  \n",
            "  inflating: dataset_new/train/no_yawn/1938.jpg  \n",
            "  inflating: dataset_new/train/no_yawn/1948.jpg  \n",
            "  inflating: dataset_new/train/no_yawn/1949.jpg  \n",
            "  inflating: dataset_new/train/no_yawn/1963.jpg  \n",
            "  inflating: dataset_new/train/no_yawn/1964.jpg  \n",
            "  inflating: dataset_new/train/no_yawn/1966.jpg  \n",
            "  inflating: dataset_new/train/no_yawn/1967.jpg  \n",
            "  inflating: dataset_new/train/no_yawn/1981.jpg  \n",
            "  inflating: dataset_new/train/no_yawn/1982.jpg  \n",
            "  inflating: dataset_new/train/no_yawn/1986.jpg  \n",
            "  inflating: dataset_new/train/no_yawn/1987.jpg  \n",
            "  inflating: dataset_new/train/no_yawn/1988.jpg  \n",
            "  inflating: dataset_new/train/no_yawn/1989.jpg  \n",
            "  inflating: dataset_new/train/no_yawn/1990.jpg  \n",
            "  inflating: dataset_new/train/no_yawn/2.jpg  \n",
            "  inflating: dataset_new/train/no_yawn/2001.jpg  \n",
            "  inflating: dataset_new/train/no_yawn/2008.jpg  \n",
            "  inflating: dataset_new/train/no_yawn/2009.jpg  \n",
            "  inflating: dataset_new/train/no_yawn/201.jpg  \n",
            "  inflating: dataset_new/train/no_yawn/2010.jpg  \n",
            "  inflating: dataset_new/train/no_yawn/2011.jpg  \n",
            "  inflating: dataset_new/train/no_yawn/2012.jpg  \n",
            "  inflating: dataset_new/train/no_yawn/2013.jpg  \n",
            "  inflating: dataset_new/train/no_yawn/2014.jpg  \n",
            "  inflating: dataset_new/train/no_yawn/202.jpg  \n",
            "  inflating: dataset_new/train/no_yawn/2031.jpg  \n",
            "  inflating: dataset_new/train/no_yawn/2032.jpg  \n",
            "  inflating: dataset_new/train/no_yawn/2033.jpg  \n",
            "  inflating: dataset_new/train/no_yawn/2034.jpg  \n",
            "  inflating: dataset_new/train/no_yawn/2056.jpg  \n",
            "  inflating: dataset_new/train/no_yawn/2057.jpg  \n",
            "  inflating: dataset_new/train/no_yawn/2058.jpg  \n",
            "  inflating: dataset_new/train/no_yawn/206.jpg  \n",
            "  inflating: dataset_new/train/no_yawn/2062.jpg  \n",
            "  inflating: dataset_new/train/no_yawn/2066.jpg  \n",
            "  inflating: dataset_new/train/no_yawn/2067.jpg  \n",
            "  inflating: dataset_new/train/no_yawn/2068.jpg  \n",
            "  inflating: dataset_new/train/no_yawn/2069.jpg  \n",
            "  inflating: dataset_new/train/no_yawn/2070.jpg  \n",
            "  inflating: dataset_new/train/no_yawn/2071.jpg  \n",
            "  inflating: dataset_new/train/no_yawn/2074.jpg  \n",
            "  inflating: dataset_new/train/no_yawn/208.jpg  \n",
            "  inflating: dataset_new/train/no_yawn/2086.jpg  \n",
            "  inflating: dataset_new/train/no_yawn/2087.jpg  \n",
            "  inflating: dataset_new/train/no_yawn/209.jpg  \n",
            "  inflating: dataset_new/train/no_yawn/2091.jpg  \n",
            "  inflating: dataset_new/train/no_yawn/2092.jpg  \n",
            "  inflating: dataset_new/train/no_yawn/2108.jpg  \n",
            "  inflating: dataset_new/train/no_yawn/2109.jpg  \n",
            "  inflating: dataset_new/train/no_yawn/212.jpg  \n",
            "  inflating: dataset_new/train/no_yawn/2121.jpg  \n",
            "  inflating: dataset_new/train/no_yawn/2124.jpg  \n",
            "  inflating: dataset_new/train/no_yawn/2126.jpg  \n",
            "  inflating: dataset_new/train/no_yawn/2129.jpg  \n",
            "  inflating: dataset_new/train/no_yawn/213.jpg  \n",
            "  inflating: dataset_new/train/no_yawn/2130.jpg  \n",
            "  inflating: dataset_new/train/no_yawn/2131.jpg  \n",
            "  inflating: dataset_new/train/no_yawn/2132.jpg  \n",
            "  inflating: dataset_new/train/no_yawn/2133.jpg  \n",
            "  inflating: dataset_new/train/no_yawn/2134.jpg  \n",
            "  inflating: dataset_new/train/no_yawn/2136.jpg  \n",
            "  inflating: dataset_new/train/no_yawn/2151.jpg  \n",
            "  inflating: dataset_new/train/no_yawn/2152.jpg  \n",
            "  inflating: dataset_new/train/no_yawn/2153.jpg  \n",
            "  inflating: dataset_new/train/no_yawn/2154.jpg  \n",
            "  inflating: dataset_new/train/no_yawn/2156.jpg  \n",
            "  inflating: dataset_new/train/no_yawn/2157.jpg  \n",
            "  inflating: dataset_new/train/no_yawn/2158.jpg  \n",
            "  inflating: dataset_new/train/no_yawn/2159.jpg  \n",
            "  inflating: dataset_new/train/no_yawn/2160.jpg  \n",
            "  inflating: dataset_new/train/no_yawn/217.jpg  \n",
            "  inflating: dataset_new/train/no_yawn/218.jpg  \n",
            "  inflating: dataset_new/train/no_yawn/219.jpg  \n",
            "  inflating: dataset_new/train/no_yawn/2196.jpg  \n",
            "  inflating: dataset_new/train/no_yawn/2198.jpg  \n",
            "  inflating: dataset_new/train/no_yawn/2199.jpg  \n",
            "  inflating: dataset_new/train/no_yawn/2200.jpg  \n",
            "  inflating: dataset_new/train/no_yawn/2201.jpg  \n",
            "  inflating: dataset_new/train/no_yawn/2202.jpg  \n",
            "  inflating: dataset_new/train/no_yawn/221.jpg  \n",
            "  inflating: dataset_new/train/no_yawn/2216.jpg  \n",
            "  inflating: dataset_new/train/no_yawn/2217.jpg  \n",
            "  inflating: dataset_new/train/no_yawn/2220.jpg  \n",
            "  inflating: dataset_new/train/no_yawn/2221.jpg  \n",
            "  inflating: dataset_new/train/no_yawn/2222.jpg  \n",
            "  inflating: dataset_new/train/no_yawn/2223.jpg  \n",
            "  inflating: dataset_new/train/no_yawn/2224.jpg  \n",
            "  inflating: dataset_new/train/no_yawn/2228.jpg  \n",
            "  inflating: dataset_new/train/no_yawn/2229.jpg  \n",
            "  inflating: dataset_new/train/no_yawn/223.jpg  \n",
            "  inflating: dataset_new/train/no_yawn/2230.jpg  \n",
            "  inflating: dataset_new/train/no_yawn/224.jpg  \n",
            "  inflating: dataset_new/train/no_yawn/2241.jpg  \n",
            "  inflating: dataset_new/train/no_yawn/2244.jpg  \n",
            "  inflating: dataset_new/train/no_yawn/2246.jpg  \n",
            "  inflating: dataset_new/train/no_yawn/2247.jpg  \n",
            "  inflating: dataset_new/train/no_yawn/225.jpg  \n",
            "  inflating: dataset_new/train/no_yawn/2250.jpg  \n",
            "  inflating: dataset_new/train/no_yawn/2251.jpg  \n",
            "  inflating: dataset_new/train/no_yawn/2252.jpg  \n",
            "  inflating: dataset_new/train/no_yawn/2253.jpg  \n",
            "  inflating: dataset_new/train/no_yawn/2254.jpg  \n",
            "  inflating: dataset_new/train/no_yawn/2256.jpg  \n",
            "  inflating: dataset_new/train/no_yawn/2259.jpg  \n",
            "  inflating: dataset_new/train/no_yawn/226.jpg  \n",
            "  inflating: dataset_new/train/no_yawn/2282.jpg  \n",
            "  inflating: dataset_new/train/no_yawn/2283.jpg  \n",
            "  inflating: dataset_new/train/no_yawn/2284.jpg  \n",
            "  inflating: dataset_new/train/no_yawn/2286.jpg  \n",
            "  inflating: dataset_new/train/no_yawn/2287.jpg  \n",
            "  inflating: dataset_new/train/no_yawn/2288.jpg  \n",
            "  inflating: dataset_new/train/no_yawn/229.jpg  \n",
            "  inflating: dataset_new/train/no_yawn/2290.jpg  \n",
            "  inflating: dataset_new/train/no_yawn/2296.jpg  \n",
            "  inflating: dataset_new/train/no_yawn/2297.jpg  \n",
            "  inflating: dataset_new/train/no_yawn/2298.jpg  \n",
            "  inflating: dataset_new/train/no_yawn/2299.jpg  \n",
            "  inflating: dataset_new/train/no_yawn/2300.jpg  \n",
            "  inflating: dataset_new/train/no_yawn/231.jpg  \n",
            "  inflating: dataset_new/train/no_yawn/2312.jpg  \n",
            "  inflating: dataset_new/train/no_yawn/2313.jpg  \n",
            "  inflating: dataset_new/train/no_yawn/2327.jpg  \n",
            "  inflating: dataset_new/train/no_yawn/2330.jpg  \n",
            "  inflating: dataset_new/train/no_yawn/234.jpg  \n",
            "  inflating: dataset_new/train/no_yawn/2341.jpg  \n",
            "  inflating: dataset_new/train/no_yawn/2342.jpg  \n",
            "  inflating: dataset_new/train/no_yawn/2343.jpg  \n",
            "  inflating: dataset_new/train/no_yawn/2344.jpg  \n",
            "  inflating: dataset_new/train/no_yawn/2349.jpg  \n",
            "  inflating: dataset_new/train/no_yawn/235.jpg  \n",
            "  inflating: dataset_new/train/no_yawn/2350.jpg  \n",
            "  inflating: dataset_new/train/no_yawn/2356.jpg  \n",
            "  inflating: dataset_new/train/no_yawn/2357.jpg  \n",
            "  inflating: dataset_new/train/no_yawn/2358.jpg  \n",
            "  inflating: dataset_new/train/no_yawn/2371.jpg  \n",
            "  inflating: dataset_new/train/no_yawn/2372.jpg  \n",
            "  inflating: dataset_new/train/no_yawn/2373.jpg  \n",
            "  inflating: dataset_new/train/no_yawn/2374.jpg  \n",
            "  inflating: dataset_new/train/no_yawn/238.jpg  \n",
            "  inflating: dataset_new/train/no_yawn/2396.jpg  \n",
            "  inflating: dataset_new/train/no_yawn/2399.jpg  \n",
            "  inflating: dataset_new/train/no_yawn/2400.jpg  \n",
            "  inflating: dataset_new/train/no_yawn/2403.jpg  \n",
            "  inflating: dataset_new/train/no_yawn/2404.jpg  \n",
            "  inflating: dataset_new/train/no_yawn/2407.jpg  \n",
            "  inflating: dataset_new/train/no_yawn/2409.jpg  \n",
            "  inflating: dataset_new/train/no_yawn/2410.jpg  \n",
            "  inflating: dataset_new/train/no_yawn/2426.jpg  \n",
            "  inflating: dataset_new/train/no_yawn/2427.jpg  \n",
            "  inflating: dataset_new/train/no_yawn/2428.jpg  \n",
            "  inflating: dataset_new/train/no_yawn/2429.jpg  \n",
            "  inflating: dataset_new/train/no_yawn/2430.jpg  \n",
            "  inflating: dataset_new/train/no_yawn/2432.jpg  \n",
            "  inflating: dataset_new/train/no_yawn/2433.jpg  \n",
            "  inflating: dataset_new/train/no_yawn/2434.jpg  \n",
            "  inflating: dataset_new/train/no_yawn/2440.jpg  \n",
            "  inflating: dataset_new/train/no_yawn/2461.jpg  \n",
            "  inflating: dataset_new/train/no_yawn/2462.jpg  \n",
            "  inflating: dataset_new/train/no_yawn/2463.jpg  \n",
            "  inflating: dataset_new/train/no_yawn/2464.jpg  \n",
            "  inflating: dataset_new/train/no_yawn/2466.jpg  \n",
            "  inflating: dataset_new/train/no_yawn/2467.jpg  \n",
            "  inflating: dataset_new/train/no_yawn/2470.jpg  \n",
            "  inflating: dataset_new/train/no_yawn/2471.jpg  \n",
            "  inflating: dataset_new/train/no_yawn/2474.jpg  \n",
            "  inflating: dataset_new/train/no_yawn/2476.jpg  \n",
            "  inflating: dataset_new/train/no_yawn/2477.jpg  \n",
            "  inflating: dataset_new/train/no_yawn/2478.jpg  \n",
            "  inflating: dataset_new/train/no_yawn/2479.jpg  \n",
            "  inflating: dataset_new/train/no_yawn/2483.jpg  \n",
            "  inflating: dataset_new/train/no_yawn/2484.jpg  \n",
            "  inflating: dataset_new/train/no_yawn/2496.jpg  \n",
            "  inflating: dataset_new/train/no_yawn/2499.jpg  \n",
            "  inflating: dataset_new/train/no_yawn/25.jpg  \n",
            "  inflating: dataset_new/train/no_yawn/2500.jpg  \n",
            "  inflating: dataset_new/train/no_yawn/2513.jpg  \n",
            "  inflating: dataset_new/train/no_yawn/2516.jpg  \n",
            "  inflating: dataset_new/train/no_yawn/2517.jpg  \n",
            "  inflating: dataset_new/train/no_yawn/2518.jpg  \n",
            "  inflating: dataset_new/train/no_yawn/2519.jpg  \n",
            "  inflating: dataset_new/train/no_yawn/253.jpg  \n",
            "  inflating: dataset_new/train/no_yawn/2532.jpg  \n",
            "  inflating: dataset_new/train/no_yawn/2534.jpg  \n",
            "  inflating: dataset_new/train/no_yawn/2536.jpg  \n",
            "  inflating: dataset_new/train/no_yawn/2537.jpg  \n",
            "  inflating: dataset_new/train/no_yawn/2538.jpg  \n",
            "  inflating: dataset_new/train/no_yawn/2539.jpg  \n",
            "  inflating: dataset_new/train/no_yawn/254.jpg  \n",
            "  inflating: dataset_new/train/no_yawn/2540.jpg  \n",
            "  inflating: dataset_new/train/no_yawn/2547.jpg  \n",
            "  inflating: dataset_new/train/no_yawn/2549.jpg  \n",
            "  inflating: dataset_new/train/no_yawn/255.jpg  \n",
            "  inflating: dataset_new/train/no_yawn/2550.jpg  \n",
            "  inflating: dataset_new/train/no_yawn/256.jpg  \n",
            "  inflating: dataset_new/train/no_yawn/257.jpg  \n",
            "  inflating: dataset_new/train/no_yawn/2571.jpg  \n",
            "  inflating: dataset_new/train/no_yawn/2572.jpg  \n",
            "  inflating: dataset_new/train/no_yawn/2573.jpg  \n",
            "  inflating: dataset_new/train/no_yawn/2574.jpg  \n",
            "  inflating: dataset_new/train/no_yawn/2580.jpg  \n",
            "  inflating: dataset_new/train/no_yawn/2581.jpg  \n",
            "  inflating: dataset_new/train/no_yawn/2582.jpg  \n",
            "  inflating: dataset_new/train/no_yawn/2583.jpg  \n",
            "  inflating: dataset_new/train/no_yawn/2584.jpg  \n",
            "  inflating: dataset_new/train/no_yawn/2586.jpg  \n",
            "  inflating: dataset_new/train/no_yawn/2588.jpg  \n",
            "  inflating: dataset_new/train/no_yawn/2589.jpg  \n",
            "  inflating: dataset_new/train/no_yawn/259.jpg  \n",
            "  inflating: dataset_new/train/no_yawn/2603.jpg  \n",
            "  inflating: dataset_new/train/no_yawn/2604.jpg  \n",
            "  inflating: dataset_new/train/no_yawn/2606.jpg  \n",
            "  inflating: dataset_new/train/no_yawn/2609.jpg  \n",
            "  inflating: dataset_new/train/no_yawn/2610.jpg  \n",
            "  inflating: dataset_new/train/no_yawn/2622.jpg  \n",
            "  inflating: dataset_new/train/no_yawn/2623.jpg  \n",
            "  inflating: dataset_new/train/no_yawn/27.jpg  \n",
            "  inflating: dataset_new/train/no_yawn/271.jpg  \n",
            "  inflating: dataset_new/train/no_yawn/277.jpg  \n",
            "  inflating: dataset_new/train/no_yawn/278.jpg  \n",
            "  inflating: dataset_new/train/no_yawn/279.jpg  \n",
            "  inflating: dataset_new/train/no_yawn/28.jpg  \n",
            "  inflating: dataset_new/train/no_yawn/292.jpg  \n",
            "  inflating: dataset_new/train/no_yawn/293.jpg  \n",
            "  inflating: dataset_new/train/no_yawn/295.jpg  \n",
            "  inflating: dataset_new/train/no_yawn/299.jpg  \n",
            "  inflating: dataset_new/train/no_yawn/3.jpg  \n",
            "  inflating: dataset_new/train/no_yawn/312.jpg  \n",
            "  inflating: dataset_new/train/no_yawn/313.jpg  \n",
            "  inflating: dataset_new/train/no_yawn/314.jpg  \n",
            "  inflating: dataset_new/train/no_yawn/315.jpg  \n",
            "  inflating: dataset_new/train/no_yawn/316.jpg  \n",
            "  inflating: dataset_new/train/no_yawn/317.jpg  \n",
            "  inflating: dataset_new/train/no_yawn/318.jpg  \n",
            "  inflating: dataset_new/train/no_yawn/332.jpg  \n",
            "  inflating: dataset_new/train/no_yawn/333.jpg  \n",
            "  inflating: dataset_new/train/no_yawn/336.jpg  \n",
            "  inflating: dataset_new/train/no_yawn/371.jpg  \n",
            "  inflating: dataset_new/train/no_yawn/372.jpg  \n",
            "  inflating: dataset_new/train/no_yawn/373.jpg  \n",
            "  inflating: dataset_new/train/no_yawn/375.jpg  \n",
            "  inflating: dataset_new/train/no_yawn/378.jpg  \n",
            "  inflating: dataset_new/train/no_yawn/379.jpg  \n",
            "  inflating: dataset_new/train/no_yawn/380.jpg  \n",
            "  inflating: dataset_new/train/no_yawn/4.jpg  \n",
            "  inflating: dataset_new/train/no_yawn/411.jpg  \n",
            "  inflating: dataset_new/train/no_yawn/412.jpg  \n",
            "  inflating: dataset_new/train/no_yawn/416.jpg  \n",
            "  inflating: dataset_new/train/no_yawn/417.jpg  \n",
            "  inflating: dataset_new/train/no_yawn/420.jpg  \n",
            "  inflating: dataset_new/train/no_yawn/431.jpg  \n",
            "  inflating: dataset_new/train/no_yawn/432.jpg  \n",
            "  inflating: dataset_new/train/no_yawn/433.jpg  \n",
            "  inflating: dataset_new/train/no_yawn/435.jpg  \n",
            "  inflating: dataset_new/train/no_yawn/436.jpg  \n",
            "  inflating: dataset_new/train/no_yawn/437.jpg  \n",
            "  inflating: dataset_new/train/no_yawn/439.jpg  \n",
            "  inflating: dataset_new/train/no_yawn/443.jpg  \n",
            "  inflating: dataset_new/train/no_yawn/445.jpg  \n",
            "  inflating: dataset_new/train/no_yawn/446.jpg  \n",
            "  inflating: dataset_new/train/no_yawn/447.jpg  \n",
            "  inflating: dataset_new/train/no_yawn/448.jpg  \n",
            "  inflating: dataset_new/train/no_yawn/449.jpg  \n",
            "  inflating: dataset_new/train/no_yawn/450.jpg  \n",
            "  inflating: dataset_new/train/no_yawn/466.jpg  \n",
            "  inflating: dataset_new/train/no_yawn/467.jpg  \n",
            "  inflating: dataset_new/train/no_yawn/469.jpg  \n",
            "  inflating: dataset_new/train/no_yawn/481.jpg  \n",
            "  inflating: dataset_new/train/no_yawn/482.jpg  \n",
            "  inflating: dataset_new/train/no_yawn/483.jpg  \n",
            "  inflating: dataset_new/train/no_yawn/488.jpg  \n",
            "  inflating: dataset_new/train/no_yawn/490.jpg  \n",
            "  inflating: dataset_new/train/no_yawn/5.jpg  \n",
            "  inflating: dataset_new/train/no_yawn/501.jpg  \n",
            "  inflating: dataset_new/train/no_yawn/502.jpg  \n",
            "  inflating: dataset_new/train/no_yawn/505.jpg  \n",
            "  inflating: dataset_new/train/no_yawn/507.jpg  \n",
            "  inflating: dataset_new/train/no_yawn/509.jpg  \n",
            "  inflating: dataset_new/train/no_yawn/51.jpg  \n",
            "  inflating: dataset_new/train/no_yawn/521.jpg  \n",
            "  inflating: dataset_new/train/no_yawn/522.jpg  \n",
            "  inflating: dataset_new/train/no_yawn/525.jpg  \n",
            "  inflating: dataset_new/train/no_yawn/528.jpg  \n",
            "  inflating: dataset_new/train/no_yawn/529.jpg  \n",
            "  inflating: dataset_new/train/no_yawn/54.jpg  \n",
            "  inflating: dataset_new/train/no_yawn/542.jpg  \n",
            "  inflating: dataset_new/train/no_yawn/543.jpg  \n",
            "  inflating: dataset_new/train/no_yawn/546.jpg  \n",
            "  inflating: dataset_new/train/no_yawn/547.jpg  \n",
            "  inflating: dataset_new/train/no_yawn/552.jpg  \n",
            "  inflating: dataset_new/train/no_yawn/557.jpg  \n",
            "  inflating: dataset_new/train/no_yawn/558.jpg  \n",
            "  inflating: dataset_new/train/no_yawn/56.jpg  \n",
            "  inflating: dataset_new/train/no_yawn/560.jpg  \n",
            "  inflating: dataset_new/train/no_yawn/571.jpg  \n",
            "  inflating: dataset_new/train/no_yawn/572.jpg  \n",
            "  inflating: dataset_new/train/no_yawn/573.jpg  \n",
            "  inflating: dataset_new/train/no_yawn/578.jpg  \n",
            "  inflating: dataset_new/train/no_yawn/579.jpg  \n",
            "  inflating: dataset_new/train/no_yawn/58.jpg  \n",
            "  inflating: dataset_new/train/no_yawn/580.jpg  \n",
            "  inflating: dataset_new/train/no_yawn/6.jpg  \n",
            "  inflating: dataset_new/train/no_yawn/601.jpg  \n",
            "  inflating: dataset_new/train/no_yawn/602.jpg  \n",
            "  inflating: dataset_new/train/no_yawn/606.jpg  \n",
            "  inflating: dataset_new/train/no_yawn/607.jpg  \n",
            "  inflating: dataset_new/train/no_yawn/612.jpg  \n",
            "  inflating: dataset_new/train/no_yawn/613.jpg  \n",
            "  inflating: dataset_new/train/no_yawn/615.jpg  \n",
            "  inflating: dataset_new/train/no_yawn/617.jpg  \n",
            "  inflating: dataset_new/train/no_yawn/618.jpg  \n",
            "  inflating: dataset_new/train/no_yawn/619.jpg  \n",
            "  inflating: dataset_new/train/no_yawn/623.jpg  \n",
            "  inflating: dataset_new/train/no_yawn/635.jpg  \n",
            "  inflating: dataset_new/train/no_yawn/638.jpg  \n",
            "  inflating: dataset_new/train/no_yawn/639.jpg  \n",
            "  inflating: dataset_new/train/no_yawn/640.jpg  \n",
            "  inflating: dataset_new/train/no_yawn/641.jpg  \n",
            "  inflating: dataset_new/train/no_yawn/645.jpg  \n",
            "  inflating: dataset_new/train/no_yawn/647.jpg  \n",
            "  inflating: dataset_new/train/no_yawn/648.jpg  \n",
            "  inflating: dataset_new/train/no_yawn/652.jpg  \n",
            "  inflating: dataset_new/train/no_yawn/653.jpg  \n",
            "  inflating: dataset_new/train/no_yawn/657.jpg  \n",
            "  inflating: dataset_new/train/no_yawn/658.jpg  \n",
            "  inflating: dataset_new/train/no_yawn/659.jpg  \n",
            "  inflating: dataset_new/train/no_yawn/660.jpg  \n",
            "  inflating: dataset_new/train/no_yawn/681.jpg  \n",
            "  inflating: dataset_new/train/no_yawn/682.jpg  \n",
            "  inflating: dataset_new/train/no_yawn/683.jpg  \n",
            "  inflating: dataset_new/train/no_yawn/689.jpg  \n",
            "  inflating: dataset_new/train/no_yawn/7.jpg  \n",
            "  inflating: dataset_new/train/no_yawn/701.jpg  \n",
            "  inflating: dataset_new/train/no_yawn/703.jpg  \n",
            "  inflating: dataset_new/train/no_yawn/72.jpg  \n",
            "  inflating: dataset_new/train/no_yawn/725.jpg  \n",
            "  inflating: dataset_new/train/no_yawn/726.jpg  \n",
            "  inflating: dataset_new/train/no_yawn/729.jpg  \n",
            "  inflating: dataset_new/train/no_yawn/73.jpg  \n",
            "  inflating: dataset_new/train/no_yawn/733.jpg  \n",
            "  inflating: dataset_new/train/no_yawn/758.jpg  \n",
            "  inflating: dataset_new/train/no_yawn/76.jpg  \n",
            "  inflating: dataset_new/train/no_yawn/760.jpg  \n",
            "  inflating: dataset_new/train/no_yawn/77.jpg  \n",
            "  inflating: dataset_new/train/no_yawn/773.jpg  \n",
            "  inflating: dataset_new/train/no_yawn/775.jpg  \n",
            "  inflating: dataset_new/train/no_yawn/778.jpg  \n",
            "  inflating: dataset_new/train/no_yawn/78.jpg  \n",
            "  inflating: dataset_new/train/no_yawn/780.jpg  \n",
            "  inflating: dataset_new/train/no_yawn/781.jpg  \n",
            "  inflating: dataset_new/train/no_yawn/782.jpg  \n",
            "  inflating: dataset_new/train/no_yawn/786.jpg  \n",
            "  inflating: dataset_new/train/no_yawn/787.jpg  \n",
            "  inflating: dataset_new/train/no_yawn/788.jpg  \n",
            "  inflating: dataset_new/train/no_yawn/79.jpg  \n",
            "  inflating: dataset_new/train/no_yawn/791.jpg  \n",
            "  inflating: dataset_new/train/no_yawn/792.jpg  \n",
            "  inflating: dataset_new/train/no_yawn/793.jpg  \n",
            "  inflating: dataset_new/train/no_yawn/8.jpg  \n",
            "  inflating: dataset_new/train/no_yawn/828.jpg  \n",
            "  inflating: dataset_new/train/no_yawn/829.jpg  \n",
            "  inflating: dataset_new/train/no_yawn/831.jpg  \n",
            "  inflating: dataset_new/train/no_yawn/833.jpg  \n",
            "  inflating: dataset_new/train/no_yawn/837.jpg  \n",
            "  inflating: dataset_new/train/no_yawn/851.jpg  \n",
            "  inflating: dataset_new/train/no_yawn/852.jpg  \n",
            "  inflating: dataset_new/train/no_yawn/853.jpg  \n",
            "  inflating: dataset_new/train/no_yawn/854.jpg  \n",
            "  inflating: dataset_new/train/no_yawn/867.jpg  \n",
            "  inflating: dataset_new/train/no_yawn/868.jpg  \n",
            "  inflating: dataset_new/train/no_yawn/884.jpg  \n",
            "  inflating: dataset_new/train/no_yawn/897.jpg  \n",
            "  inflating: dataset_new/train/no_yawn/899.jpg  \n",
            "  inflating: dataset_new/train/no_yawn/9.jpg  \n",
            "  inflating: dataset_new/train/no_yawn/911.jpg  \n",
            "  inflating: dataset_new/train/no_yawn/914.jpg  \n",
            "  inflating: dataset_new/train/no_yawn/918.jpg  \n",
            "  inflating: dataset_new/train/no_yawn/919.jpg  \n",
            "  inflating: dataset_new/train/no_yawn/93.jpg  \n",
            "  inflating: dataset_new/train/no_yawn/931.jpg  \n",
            "  inflating: dataset_new/train/no_yawn/932.jpg  \n",
            "  inflating: dataset_new/train/no_yawn/933.jpg  \n",
            "  inflating: dataset_new/train/no_yawn/94.jpg  \n",
            "  inflating: dataset_new/train/no_yawn/957.jpg  \n",
            "  inflating: dataset_new/train/no_yawn/962.jpg  \n",
            "  inflating: dataset_new/train/no_yawn/964.jpg  \n",
            "  inflating: dataset_new/train/no_yawn/98.jpg  \n",
            "  inflating: dataset_new/train/no_yawn/980.jpg  \n",
            "  inflating: dataset_new/train/no_yawn/981.jpg  \n",
            "  inflating: dataset_new/train/no_yawn/982.jpg  \n",
            "  inflating: dataset_new/train/no_yawn/983.jpg  \n",
            "  inflating: dataset_new/train/no_yawn/987.jpg  \n",
            "  inflating: dataset_new/train/no_yawn/988.jpg  \n",
            "  inflating: dataset_new/train/no_yawn/99.jpg  \n",
            "  inflating: dataset_new/train/no_yawn/991.jpg  \n",
            "  inflating: dataset_new/train/no_yawn/992.jpg  \n",
            "  inflating: dataset_new/train/no_yawn/993.jpg  \n",
            "  inflating: dataset_new/train/no_yawn/994.jpg  \n",
            "  inflating: dataset_new/train/no_yawn/997.jpg  \n",
            "  inflating: dataset_new/train/no_yawn/998.jpg  \n",
            "   creating: dataset_new/train/yawn/\n",
            "  inflating: dataset_new/train/yawn/1.jpg  \n",
            "  inflating: dataset_new/train/yawn/10.jpg  \n",
            "  inflating: dataset_new/train/yawn/101.jpg  \n",
            "  inflating: dataset_new/train/yawn/103.jpg  \n",
            "  inflating: dataset_new/train/yawn/104.jpg  \n",
            "  inflating: dataset_new/train/yawn/106.jpg  \n",
            "  inflating: dataset_new/train/yawn/107.jpg  \n",
            "  inflating: dataset_new/train/yawn/108.jpg  \n",
            "  inflating: dataset_new/train/yawn/109.jpg  \n",
            "  inflating: dataset_new/train/yawn/11.jpg  \n",
            "  inflating: dataset_new/train/yawn/110.jpg  \n",
            "  inflating: dataset_new/train/yawn/112.jpg  \n",
            "  inflating: dataset_new/train/yawn/113.jpg  \n",
            "  inflating: dataset_new/train/yawn/114.jpg  \n",
            "  inflating: dataset_new/train/yawn/115.jpg  \n",
            "  inflating: dataset_new/train/yawn/117.jpg  \n",
            "  inflating: dataset_new/train/yawn/118.jpg  \n",
            "  inflating: dataset_new/train/yawn/12.jpg  \n",
            "  inflating: dataset_new/train/yawn/120.jpg  \n",
            "  inflating: dataset_new/train/yawn/123.jpg  \n",
            "  inflating: dataset_new/train/yawn/124.jpg  \n",
            "  inflating: dataset_new/train/yawn/125.jpg  \n",
            "  inflating: dataset_new/train/yawn/126.jpg  \n",
            "  inflating: dataset_new/train/yawn/128.jpg  \n",
            "  inflating: dataset_new/train/yawn/129.jpg  \n",
            "  inflating: dataset_new/train/yawn/13.jpg  \n",
            "  inflating: dataset_new/train/yawn/130.jpg  \n",
            "  inflating: dataset_new/train/yawn/132.jpg  \n",
            "  inflating: dataset_new/train/yawn/133.jpg  \n",
            "  inflating: dataset_new/train/yawn/135.jpg  \n",
            "  inflating: dataset_new/train/yawn/136.jpg  \n",
            "  inflating: dataset_new/train/yawn/137.jpg  \n",
            "  inflating: dataset_new/train/yawn/138.jpg  \n",
            "  inflating: dataset_new/train/yawn/139.jpg  \n",
            "  inflating: dataset_new/train/yawn/141.jpg  \n",
            "  inflating: dataset_new/train/yawn/142.jpg  \n",
            "  inflating: dataset_new/train/yawn/143.jpg  \n",
            "  inflating: dataset_new/train/yawn/144.jpg  \n",
            "  inflating: dataset_new/train/yawn/146.jpg  \n",
            "  inflating: dataset_new/train/yawn/147.jpg  \n",
            "  inflating: dataset_new/train/yawn/149.jpg  \n",
            "  inflating: dataset_new/train/yawn/15.jpg  \n",
            "  inflating: dataset_new/train/yawn/150.jpg  \n",
            "  inflating: dataset_new/train/yawn/151.jpg  \n",
            "  inflating: dataset_new/train/yawn/152.jpg  \n",
            "  inflating: dataset_new/train/yawn/153.jpg  \n",
            "  inflating: dataset_new/train/yawn/154.jpg  \n",
            "  inflating: dataset_new/train/yawn/155.jpg  \n",
            "  inflating: dataset_new/train/yawn/156.jpg  \n",
            "  inflating: dataset_new/train/yawn/157.jpg  \n",
            "  inflating: dataset_new/train/yawn/158.jpg  \n",
            "  inflating: dataset_new/train/yawn/159.jpg  \n",
            "  inflating: dataset_new/train/yawn/16.jpg  \n",
            "  inflating: dataset_new/train/yawn/161.jpg  \n",
            "  inflating: dataset_new/train/yawn/162.jpg  \n",
            "  inflating: dataset_new/train/yawn/163.jpg  \n",
            "  inflating: dataset_new/train/yawn/164.jpg  \n",
            "  inflating: dataset_new/train/yawn/165.jpg  \n",
            "  inflating: dataset_new/train/yawn/166.jpg  \n",
            "  inflating: dataset_new/train/yawn/167.jpg  \n",
            "  inflating: dataset_new/train/yawn/17.jpg  \n",
            "  inflating: dataset_new/train/yawn/170.jpg  \n",
            "  inflating: dataset_new/train/yawn/171.jpg  \n",
            "  inflating: dataset_new/train/yawn/172.jpg  \n",
            "  inflating: dataset_new/train/yawn/173.jpg  \n",
            "  inflating: dataset_new/train/yawn/174.jpg  \n",
            "  inflating: dataset_new/train/yawn/175.jpg  \n",
            "  inflating: dataset_new/train/yawn/176.jpg  \n",
            "  inflating: dataset_new/train/yawn/178.jpg  \n",
            "  inflating: dataset_new/train/yawn/179.jpg  \n",
            "  inflating: dataset_new/train/yawn/18.jpg  \n",
            "  inflating: dataset_new/train/yawn/180.jpg  \n",
            "  inflating: dataset_new/train/yawn/181.jpg  \n",
            "  inflating: dataset_new/train/yawn/182.jpg  \n",
            "  inflating: dataset_new/train/yawn/183.jpg  \n",
            "  inflating: dataset_new/train/yawn/184.jpg  \n",
            "  inflating: dataset_new/train/yawn/185.jpg  \n",
            "  inflating: dataset_new/train/yawn/186.jpg  \n",
            "  inflating: dataset_new/train/yawn/187.jpg  \n",
            "  inflating: dataset_new/train/yawn/19.jpg  \n",
            "  inflating: dataset_new/train/yawn/190.jpg  \n",
            "  inflating: dataset_new/train/yawn/191.jpg  \n",
            "  inflating: dataset_new/train/yawn/192.jpg  \n",
            "  inflating: dataset_new/train/yawn/193.jpg  \n",
            "  inflating: dataset_new/train/yawn/194.jpg  \n",
            "  inflating: dataset_new/train/yawn/195.jpg  \n",
            "  inflating: dataset_new/train/yawn/196.jpg  \n",
            "  inflating: dataset_new/train/yawn/197.jpg  \n",
            "  inflating: dataset_new/train/yawn/198.jpg  \n",
            "  inflating: dataset_new/train/yawn/199.jpg  \n",
            "  inflating: dataset_new/train/yawn/2.jpg  \n",
            "  inflating: dataset_new/train/yawn/20.jpg  \n",
            "  inflating: dataset_new/train/yawn/200.jpg  \n",
            "  inflating: dataset_new/train/yawn/201.jpg  \n",
            "  inflating: dataset_new/train/yawn/202.jpg  \n",
            "  inflating: dataset_new/train/yawn/203.jpg  \n",
            "  inflating: dataset_new/train/yawn/204.jpg  \n",
            "  inflating: dataset_new/train/yawn/207.jpg  \n",
            "  inflating: dataset_new/train/yawn/208.jpg  \n",
            "  inflating: dataset_new/train/yawn/209.jpg  \n",
            "  inflating: dataset_new/train/yawn/21.jpg  \n",
            "  inflating: dataset_new/train/yawn/210.jpg  \n",
            "  inflating: dataset_new/train/yawn/211.jpg  \n",
            "  inflating: dataset_new/train/yawn/212.jpg  \n",
            "  inflating: dataset_new/train/yawn/213.jpg  \n",
            "  inflating: dataset_new/train/yawn/215.jpg  \n",
            "  inflating: dataset_new/train/yawn/216.jpg  \n",
            "  inflating: dataset_new/train/yawn/217.jpg  \n",
            "  inflating: dataset_new/train/yawn/218.jpg  \n",
            "  inflating: dataset_new/train/yawn/219.jpg  \n",
            "  inflating: dataset_new/train/yawn/22.jpg  \n",
            "  inflating: dataset_new/train/yawn/220.jpg  \n",
            "  inflating: dataset_new/train/yawn/221.jpg  \n",
            "  inflating: dataset_new/train/yawn/222.jpg  \n",
            "  inflating: dataset_new/train/yawn/223.jpg  \n",
            "  inflating: dataset_new/train/yawn/224.jpg  \n",
            "  inflating: dataset_new/train/yawn/225.jpg  \n",
            "  inflating: dataset_new/train/yawn/226.jpg  \n",
            "  inflating: dataset_new/train/yawn/227.jpg  \n",
            "  inflating: dataset_new/train/yawn/228.jpg  \n",
            "  inflating: dataset_new/train/yawn/23.jpg  \n",
            "  inflating: dataset_new/train/yawn/230.jpg  \n",
            "  inflating: dataset_new/train/yawn/231.jpg  \n",
            "  inflating: dataset_new/train/yawn/232.jpg  \n",
            "  inflating: dataset_new/train/yawn/236.jpg  \n",
            "  inflating: dataset_new/train/yawn/237.jpg  \n",
            "  inflating: dataset_new/train/yawn/238.jpg  \n",
            "  inflating: dataset_new/train/yawn/24.jpg  \n",
            "  inflating: dataset_new/train/yawn/241.jpg  \n",
            "  inflating: dataset_new/train/yawn/242.jpg  \n",
            "  inflating: dataset_new/train/yawn/243.jpg  \n",
            "  inflating: dataset_new/train/yawn/244.jpg  \n",
            "  inflating: dataset_new/train/yawn/245.jpg  \n",
            "  inflating: dataset_new/train/yawn/246.jpg  \n",
            "  inflating: dataset_new/train/yawn/247.jpg  \n",
            "  inflating: dataset_new/train/yawn/25.jpg  \n",
            "  inflating: dataset_new/train/yawn/250.jpg  \n",
            "  inflating: dataset_new/train/yawn/251.jpg  \n",
            "  inflating: dataset_new/train/yawn/252.jpg  \n",
            "  inflating: dataset_new/train/yawn/253.jpg  \n",
            "  inflating: dataset_new/train/yawn/254.jpg  \n",
            "  inflating: dataset_new/train/yawn/255.jpg  \n",
            "  inflating: dataset_new/train/yawn/256.jpg  \n",
            "  inflating: dataset_new/train/yawn/258.jpg  \n",
            "  inflating: dataset_new/train/yawn/26.jpg  \n",
            "  inflating: dataset_new/train/yawn/260.jpg  \n",
            "  inflating: dataset_new/train/yawn/261.jpg  \n",
            "  inflating: dataset_new/train/yawn/262.jpg  \n",
            "  inflating: dataset_new/train/yawn/263.jpg  \n",
            "  inflating: dataset_new/train/yawn/264.jpg  \n",
            "  inflating: dataset_new/train/yawn/265.jpg  \n",
            "  inflating: dataset_new/train/yawn/266.jpg  \n",
            "  inflating: dataset_new/train/yawn/267.jpg  \n",
            "  inflating: dataset_new/train/yawn/268.jpg  \n",
            "  inflating: dataset_new/train/yawn/269.jpg  \n",
            "  inflating: dataset_new/train/yawn/27.jpg  \n",
            "  inflating: dataset_new/train/yawn/270.jpg  \n",
            "  inflating: dataset_new/train/yawn/271.jpg  \n",
            "  inflating: dataset_new/train/yawn/272.jpg  \n",
            "  inflating: dataset_new/train/yawn/273.jpg  \n",
            "  inflating: dataset_new/train/yawn/274.jpg  \n",
            "  inflating: dataset_new/train/yawn/275.jpg  \n",
            "  inflating: dataset_new/train/yawn/276.jpg  \n",
            "  inflating: dataset_new/train/yawn/277.jpg  \n",
            "  inflating: dataset_new/train/yawn/278.jpg  \n",
            "  inflating: dataset_new/train/yawn/279.jpg  \n",
            "  inflating: dataset_new/train/yawn/28.jpg  \n",
            "  inflating: dataset_new/train/yawn/280.jpg  \n",
            "  inflating: dataset_new/train/yawn/281.jpg  \n",
            "  inflating: dataset_new/train/yawn/282.jpg  \n",
            "  inflating: dataset_new/train/yawn/283.jpg  \n",
            "  inflating: dataset_new/train/yawn/284.jpg  \n",
            "  inflating: dataset_new/train/yawn/285.jpg  \n",
            "  inflating: dataset_new/train/yawn/287.jpg  \n",
            "  inflating: dataset_new/train/yawn/288.jpg  \n",
            "  inflating: dataset_new/train/yawn/289.jpg  \n",
            "  inflating: dataset_new/train/yawn/29.jpg  \n",
            "  inflating: dataset_new/train/yawn/290.jpg  \n",
            "  inflating: dataset_new/train/yawn/291.jpg  \n",
            "  inflating: dataset_new/train/yawn/292.jpg  \n",
            "  inflating: dataset_new/train/yawn/293.jpg  \n",
            "  inflating: dataset_new/train/yawn/294.jpg  \n",
            "  inflating: dataset_new/train/yawn/295.jpg  \n",
            "  inflating: dataset_new/train/yawn/296.jpg  \n",
            "  inflating: dataset_new/train/yawn/297.jpg  \n",
            "  inflating: dataset_new/train/yawn/298.jpg  \n",
            "  inflating: dataset_new/train/yawn/299.jpg  \n",
            "  inflating: dataset_new/train/yawn/3.jpg  \n",
            "  inflating: dataset_new/train/yawn/30.jpg  \n",
            "  inflating: dataset_new/train/yawn/300.jpg  \n",
            "  inflating: dataset_new/train/yawn/301.jpg  \n",
            "  inflating: dataset_new/train/yawn/302.jpg  \n",
            "  inflating: dataset_new/train/yawn/303.jpg  \n",
            "  inflating: dataset_new/train/yawn/304.jpg  \n",
            "  inflating: dataset_new/train/yawn/307.jpg  \n",
            "  inflating: dataset_new/train/yawn/308.jpg  \n",
            "  inflating: dataset_new/train/yawn/309.jpg  \n",
            "  inflating: dataset_new/train/yawn/31.jpg  \n",
            "  inflating: dataset_new/train/yawn/310.jpg  \n",
            "  inflating: dataset_new/train/yawn/311.jpg  \n",
            "  inflating: dataset_new/train/yawn/312.jpg  \n",
            "  inflating: dataset_new/train/yawn/313.jpg  \n",
            "  inflating: dataset_new/train/yawn/314.jpg  \n",
            "  inflating: dataset_new/train/yawn/315.jpg  \n",
            "  inflating: dataset_new/train/yawn/316.jpg  \n",
            "  inflating: dataset_new/train/yawn/317.jpg  \n",
            "  inflating: dataset_new/train/yawn/32.jpg  \n",
            "  inflating: dataset_new/train/yawn/320.jpg  \n",
            "  inflating: dataset_new/train/yawn/321.jpg  \n",
            "  inflating: dataset_new/train/yawn/323.jpg  \n",
            "  inflating: dataset_new/train/yawn/324.jpg  \n",
            "  inflating: dataset_new/train/yawn/325.jpg  \n",
            "  inflating: dataset_new/train/yawn/326.jpg  \n",
            "  inflating: dataset_new/train/yawn/327.jpg  \n",
            "  inflating: dataset_new/train/yawn/328.jpg  \n",
            "  inflating: dataset_new/train/yawn/329.jpg  \n",
            "  inflating: dataset_new/train/yawn/33.jpg  \n",
            "  inflating: dataset_new/train/yawn/330.jpg  \n",
            "  inflating: dataset_new/train/yawn/334.jpg  \n",
            "  inflating: dataset_new/train/yawn/335.jpg  \n",
            "  inflating: dataset_new/train/yawn/337.jpg  \n",
            "  inflating: dataset_new/train/yawn/338.jpg  \n",
            "  inflating: dataset_new/train/yawn/339.jpg  \n",
            "  inflating: dataset_new/train/yawn/34.jpg  \n",
            "  inflating: dataset_new/train/yawn/340.jpg  \n",
            "  inflating: dataset_new/train/yawn/341.jpg  \n",
            "  inflating: dataset_new/train/yawn/342.jpg  \n",
            "  inflating: dataset_new/train/yawn/343.jpg  \n",
            "  inflating: dataset_new/train/yawn/344.jpg  \n",
            "  inflating: dataset_new/train/yawn/345.jpg  \n",
            "  inflating: dataset_new/train/yawn/346.jpg  \n",
            "  inflating: dataset_new/train/yawn/347.jpg  \n",
            "  inflating: dataset_new/train/yawn/348.jpg  \n",
            "  inflating: dataset_new/train/yawn/35.jpg  \n",
            "  inflating: dataset_new/train/yawn/350.jpg  \n",
            "  inflating: dataset_new/train/yawn/351.jpg  \n",
            "  inflating: dataset_new/train/yawn/352.jpg  \n",
            "  inflating: dataset_new/train/yawn/353.jpg  \n",
            "  inflating: dataset_new/train/yawn/354.jpg  \n",
            "  inflating: dataset_new/train/yawn/355.jpg  \n",
            "  inflating: dataset_new/train/yawn/356.jpg  \n",
            "  inflating: dataset_new/train/yawn/358.jpg  \n",
            "  inflating: dataset_new/train/yawn/359.jpg  \n",
            "  inflating: dataset_new/train/yawn/36.jpg  \n",
            "  inflating: dataset_new/train/yawn/360.jpg  \n",
            "  inflating: dataset_new/train/yawn/361.jpg  \n",
            "  inflating: dataset_new/train/yawn/363.jpg  \n",
            "  inflating: dataset_new/train/yawn/364.jpg  \n",
            "  inflating: dataset_new/train/yawn/365.jpg  \n",
            "  inflating: dataset_new/train/yawn/367.jpg  \n",
            "  inflating: dataset_new/train/yawn/368.jpg  \n",
            "  inflating: dataset_new/train/yawn/369.jpg  \n",
            "  inflating: dataset_new/train/yawn/37.jpg  \n",
            "  inflating: dataset_new/train/yawn/370.jpg  \n",
            "  inflating: dataset_new/train/yawn/371.jpg  \n",
            "  inflating: dataset_new/train/yawn/372.jpg  \n",
            "  inflating: dataset_new/train/yawn/373.jpg  \n",
            "  inflating: dataset_new/train/yawn/374.jpg  \n",
            "  inflating: dataset_new/train/yawn/375.jpg  \n",
            "  inflating: dataset_new/train/yawn/376.jpg  \n",
            "  inflating: dataset_new/train/yawn/377.jpg  \n",
            "  inflating: dataset_new/train/yawn/378.jpg  \n",
            "  inflating: dataset_new/train/yawn/38.jpg  \n",
            "  inflating: dataset_new/train/yawn/380.jpg  \n",
            "  inflating: dataset_new/train/yawn/383.jpg  \n",
            "  inflating: dataset_new/train/yawn/384.jpg  \n",
            "  inflating: dataset_new/train/yawn/387.jpg  \n",
            "  inflating: dataset_new/train/yawn/388.jpg  \n",
            "  inflating: dataset_new/train/yawn/389.jpg  \n",
            "  inflating: dataset_new/train/yawn/39.jpg  \n",
            "  inflating: dataset_new/train/yawn/390.jpg  \n",
            "  inflating: dataset_new/train/yawn/391.jpg  \n",
            "  inflating: dataset_new/train/yawn/392.jpg  \n",
            "  inflating: dataset_new/train/yawn/393.jpg  \n",
            "  inflating: dataset_new/train/yawn/394.jpg  \n",
            "  inflating: dataset_new/train/yawn/395.jpg  \n",
            "  inflating: dataset_new/train/yawn/396.jpg  \n",
            "  inflating: dataset_new/train/yawn/397.jpg  \n",
            "  inflating: dataset_new/train/yawn/398.jpg  \n",
            "  inflating: dataset_new/train/yawn/399.jpg  \n",
            "  inflating: dataset_new/train/yawn/4.jpg  \n",
            "  inflating: dataset_new/train/yawn/40.jpg  \n",
            "  inflating: dataset_new/train/yawn/400.jpg  \n",
            "  inflating: dataset_new/train/yawn/401.jpg  \n",
            "  inflating: dataset_new/train/yawn/402.jpg  \n",
            "  inflating: dataset_new/train/yawn/403.jpg  \n",
            "  inflating: dataset_new/train/yawn/404.jpg  \n",
            "  inflating: dataset_new/train/yawn/405.jpg  \n",
            "  inflating: dataset_new/train/yawn/406.jpg  \n",
            "  inflating: dataset_new/train/yawn/407.jpg  \n",
            "  inflating: dataset_new/train/yawn/408.jpg  \n",
            "  inflating: dataset_new/train/yawn/41.jpg  \n",
            "  inflating: dataset_new/train/yawn/410.jpg  \n",
            "  inflating: dataset_new/train/yawn/411.jpg  \n",
            "  inflating: dataset_new/train/yawn/412.jpg  \n",
            "  inflating: dataset_new/train/yawn/413.jpg  \n",
            "  inflating: dataset_new/train/yawn/414.jpg  \n",
            "  inflating: dataset_new/train/yawn/415.jpg  \n",
            "  inflating: dataset_new/train/yawn/416.jpg  \n",
            "  inflating: dataset_new/train/yawn/417.jpg  \n",
            "  inflating: dataset_new/train/yawn/418.jpg  \n",
            "  inflating: dataset_new/train/yawn/419.jpg  \n",
            "  inflating: dataset_new/train/yawn/42.jpg  \n",
            "  inflating: dataset_new/train/yawn/420.jpg  \n",
            "  inflating: dataset_new/train/yawn/421.jpg  \n",
            "  inflating: dataset_new/train/yawn/422.jpg  \n",
            "  inflating: dataset_new/train/yawn/423.jpg  \n",
            "  inflating: dataset_new/train/yawn/424.jpg  \n",
            "  inflating: dataset_new/train/yawn/425.jpg  \n",
            "  inflating: dataset_new/train/yawn/426.jpg  \n",
            "  inflating: dataset_new/train/yawn/427.jpg  \n",
            "  inflating: dataset_new/train/yawn/428.jpg  \n",
            "  inflating: dataset_new/train/yawn/429.jpg  \n",
            "  inflating: dataset_new/train/yawn/43.jpg  \n",
            "  inflating: dataset_new/train/yawn/430.jpg  \n",
            "  inflating: dataset_new/train/yawn/431.jpg  \n",
            "  inflating: dataset_new/train/yawn/432.jpg  \n",
            "  inflating: dataset_new/train/yawn/433.jpg  \n",
            "  inflating: dataset_new/train/yawn/434.jpg  \n",
            "  inflating: dataset_new/train/yawn/435.jpg  \n",
            "  inflating: dataset_new/train/yawn/436.jpg  \n",
            "  inflating: dataset_new/train/yawn/437.jpg  \n",
            "  inflating: dataset_new/train/yawn/438.jpg  \n",
            "  inflating: dataset_new/train/yawn/439.jpg  \n",
            "  inflating: dataset_new/train/yawn/44.jpg  \n",
            "  inflating: dataset_new/train/yawn/440.jpg  \n",
            "  inflating: dataset_new/train/yawn/441.jpg  \n",
            "  inflating: dataset_new/train/yawn/442.jpg  \n",
            "  inflating: dataset_new/train/yawn/444.jpg  \n",
            "  inflating: dataset_new/train/yawn/445.jpg  \n",
            "  inflating: dataset_new/train/yawn/446.jpg  \n",
            "  inflating: dataset_new/train/yawn/447.jpg  \n",
            "  inflating: dataset_new/train/yawn/448.jpg  \n",
            "  inflating: dataset_new/train/yawn/449.jpg  \n",
            "  inflating: dataset_new/train/yawn/45.jpg  \n",
            "  inflating: dataset_new/train/yawn/450.jpg  \n",
            "  inflating: dataset_new/train/yawn/452.jpg  \n",
            "  inflating: dataset_new/train/yawn/453.jpg  \n",
            "  inflating: dataset_new/train/yawn/454.jpg  \n",
            "  inflating: dataset_new/train/yawn/456.jpg  \n",
            "  inflating: dataset_new/train/yawn/457.jpg  \n",
            "  inflating: dataset_new/train/yawn/458.jpg  \n",
            "  inflating: dataset_new/train/yawn/459.jpg  \n",
            "  inflating: dataset_new/train/yawn/46.jpg  \n",
            "  inflating: dataset_new/train/yawn/460.jpg  \n",
            "  inflating: dataset_new/train/yawn/462.jpg  \n",
            "  inflating: dataset_new/train/yawn/463.jpg  \n",
            "  inflating: dataset_new/train/yawn/464.jpg  \n",
            "  inflating: dataset_new/train/yawn/467.jpg  \n",
            "  inflating: dataset_new/train/yawn/468.jpg  \n",
            "  inflating: dataset_new/train/yawn/469.jpg  \n",
            "  inflating: dataset_new/train/yawn/470.jpg  \n",
            "  inflating: dataset_new/train/yawn/471.jpg  \n",
            "  inflating: dataset_new/train/yawn/472.jpg  \n",
            "  inflating: dataset_new/train/yawn/473.jpg  \n",
            "  inflating: dataset_new/train/yawn/474.jpg  \n",
            "  inflating: dataset_new/train/yawn/475.jpg  \n",
            "  inflating: dataset_new/train/yawn/476.jpg  \n",
            "  inflating: dataset_new/train/yawn/478.jpg  \n",
            "  inflating: dataset_new/train/yawn/479.jpg  \n",
            "  inflating: dataset_new/train/yawn/48.jpg  \n",
            "  inflating: dataset_new/train/yawn/481.jpg  \n",
            "  inflating: dataset_new/train/yawn/483.jpg  \n",
            "  inflating: dataset_new/train/yawn/484.jpg  \n",
            "  inflating: dataset_new/train/yawn/485.jpg  \n",
            "  inflating: dataset_new/train/yawn/486.jpg  \n",
            "  inflating: dataset_new/train/yawn/487.jpg  \n",
            "  inflating: dataset_new/train/yawn/488.jpg  \n",
            "  inflating: dataset_new/train/yawn/489.jpg  \n",
            "  inflating: dataset_new/train/yawn/490.jpg  \n",
            "  inflating: dataset_new/train/yawn/491.jpg  \n",
            "  inflating: dataset_new/train/yawn/492.jpg  \n",
            "  inflating: dataset_new/train/yawn/493.jpg  \n",
            "  inflating: dataset_new/train/yawn/494.jpg  \n",
            "  inflating: dataset_new/train/yawn/495.jpg  \n",
            "  inflating: dataset_new/train/yawn/496.jpg  \n",
            "  inflating: dataset_new/train/yawn/497.jpg  \n",
            "  inflating: dataset_new/train/yawn/498.jpg  \n",
            "  inflating: dataset_new/train/yawn/499.jpg  \n",
            "  inflating: dataset_new/train/yawn/5.jpg  \n",
            "  inflating: dataset_new/train/yawn/50.jpg  \n",
            "  inflating: dataset_new/train/yawn/500.jpg  \n",
            "  inflating: dataset_new/train/yawn/501.jpg  \n",
            "  inflating: dataset_new/train/yawn/502.jpg  \n",
            "  inflating: dataset_new/train/yawn/503.jpg  \n",
            "  inflating: dataset_new/train/yawn/504.jpg  \n",
            "  inflating: dataset_new/train/yawn/506.jpg  \n",
            "  inflating: dataset_new/train/yawn/507.jpg  \n",
            "  inflating: dataset_new/train/yawn/508.jpg  \n",
            "  inflating: dataset_new/train/yawn/509.jpg  \n",
            "  inflating: dataset_new/train/yawn/51.jpg  \n",
            "  inflating: dataset_new/train/yawn/510.jpg  \n",
            "  inflating: dataset_new/train/yawn/512.jpg  \n",
            "  inflating: dataset_new/train/yawn/514.jpg  \n",
            "  inflating: dataset_new/train/yawn/515.jpg  \n",
            "  inflating: dataset_new/train/yawn/516.jpg  \n",
            "  inflating: dataset_new/train/yawn/517.jpg  \n",
            "  inflating: dataset_new/train/yawn/518.jpg  \n",
            "  inflating: dataset_new/train/yawn/519.jpg  \n",
            "  inflating: dataset_new/train/yawn/52.jpg  \n",
            "  inflating: dataset_new/train/yawn/520.jpg  \n",
            "  inflating: dataset_new/train/yawn/521.jpg  \n",
            "  inflating: dataset_new/train/yawn/522.jpg  \n",
            "  inflating: dataset_new/train/yawn/523.jpg  \n",
            "  inflating: dataset_new/train/yawn/524.jpg  \n",
            "  inflating: dataset_new/train/yawn/525.jpg  \n",
            "  inflating: dataset_new/train/yawn/528.jpg  \n",
            "  inflating: dataset_new/train/yawn/53.jpg  \n",
            "  inflating: dataset_new/train/yawn/530.jpg  \n",
            "  inflating: dataset_new/train/yawn/531.jpg  \n",
            "  inflating: dataset_new/train/yawn/532.jpg  \n",
            "  inflating: dataset_new/train/yawn/533.jpg  \n",
            "  inflating: dataset_new/train/yawn/534.jpg  \n",
            "  inflating: dataset_new/train/yawn/535.jpg  \n",
            "  inflating: dataset_new/train/yawn/536.jpg  \n",
            "  inflating: dataset_new/train/yawn/537.jpg  \n",
            "  inflating: dataset_new/train/yawn/539.jpg  \n",
            "  inflating: dataset_new/train/yawn/54.jpg  \n",
            "  inflating: dataset_new/train/yawn/540.jpg  \n",
            "  inflating: dataset_new/train/yawn/541.jpg  \n",
            "  inflating: dataset_new/train/yawn/542.jpg  \n",
            "  inflating: dataset_new/train/yawn/543.jpg  \n",
            "  inflating: dataset_new/train/yawn/544.jpg  \n",
            "  inflating: dataset_new/train/yawn/545.jpg  \n",
            "  inflating: dataset_new/train/yawn/546.jpg  \n",
            "  inflating: dataset_new/train/yawn/549.jpg  \n",
            "  inflating: dataset_new/train/yawn/55.jpg  \n",
            "  inflating: dataset_new/train/yawn/550.jpg  \n",
            "  inflating: dataset_new/train/yawn/552.jpg  \n",
            "  inflating: dataset_new/train/yawn/553.jpg  \n",
            "  inflating: dataset_new/train/yawn/555.jpg  \n",
            "  inflating: dataset_new/train/yawn/556.jpg  \n",
            "  inflating: dataset_new/train/yawn/557.jpg  \n",
            "  inflating: dataset_new/train/yawn/558.jpg  \n",
            "  inflating: dataset_new/train/yawn/56.jpg  \n",
            "  inflating: dataset_new/train/yawn/560.jpg  \n",
            "  inflating: dataset_new/train/yawn/561.jpg  \n",
            "  inflating: dataset_new/train/yawn/562.jpg  \n",
            "  inflating: dataset_new/train/yawn/565.jpg  \n",
            "  inflating: dataset_new/train/yawn/566.jpg  \n",
            "  inflating: dataset_new/train/yawn/567.jpg  \n",
            "  inflating: dataset_new/train/yawn/568.jpg  \n",
            "  inflating: dataset_new/train/yawn/569.jpg  \n",
            "  inflating: dataset_new/train/yawn/57.jpg  \n",
            "  inflating: dataset_new/train/yawn/570.jpg  \n",
            "  inflating: dataset_new/train/yawn/571.jpg  \n",
            "  inflating: dataset_new/train/yawn/572.jpg  \n",
            "  inflating: dataset_new/train/yawn/573.jpg  \n",
            "  inflating: dataset_new/train/yawn/574.jpg  \n",
            "  inflating: dataset_new/train/yawn/575.jpg  \n",
            "  inflating: dataset_new/train/yawn/576.jpg  \n",
            "  inflating: dataset_new/train/yawn/577.jpg  \n",
            "  inflating: dataset_new/train/yawn/578.jpg  \n",
            "  inflating: dataset_new/train/yawn/579.jpg  \n",
            "  inflating: dataset_new/train/yawn/58.jpg  \n",
            "  inflating: dataset_new/train/yawn/580.jpg  \n",
            "  inflating: dataset_new/train/yawn/581.jpg  \n",
            "  inflating: dataset_new/train/yawn/582.jpg  \n",
            "  inflating: dataset_new/train/yawn/583.jpg  \n",
            "  inflating: dataset_new/train/yawn/584.jpg  \n",
            "  inflating: dataset_new/train/yawn/585.jpg  \n",
            "  inflating: dataset_new/train/yawn/586.jpg  \n",
            "  inflating: dataset_new/train/yawn/587.jpg  \n",
            "  inflating: dataset_new/train/yawn/588.jpg  \n",
            "  inflating: dataset_new/train/yawn/589.jpg  \n",
            "  inflating: dataset_new/train/yawn/59.jpg  \n",
            "  inflating: dataset_new/train/yawn/590.jpg  \n",
            "  inflating: dataset_new/train/yawn/591.jpg  \n",
            "  inflating: dataset_new/train/yawn/592.jpg  \n",
            "  inflating: dataset_new/train/yawn/593.jpg  \n",
            "  inflating: dataset_new/train/yawn/594.jpg  \n",
            "  inflating: dataset_new/train/yawn/595.jpg  \n",
            "  inflating: dataset_new/train/yawn/596.jpg  \n",
            "  inflating: dataset_new/train/yawn/597.jpg  \n",
            "  inflating: dataset_new/train/yawn/598.jpg  \n",
            "  inflating: dataset_new/train/yawn/599.jpg  \n",
            "  inflating: dataset_new/train/yawn/6.jpg  \n",
            "  inflating: dataset_new/train/yawn/60.jpg  \n",
            "  inflating: dataset_new/train/yawn/600.jpg  \n",
            "  inflating: dataset_new/train/yawn/601.jpg  \n",
            "  inflating: dataset_new/train/yawn/603.jpg  \n",
            "  inflating: dataset_new/train/yawn/604.jpg  \n",
            "  inflating: dataset_new/train/yawn/605.jpg  \n",
            "  inflating: dataset_new/train/yawn/607.jpg  \n",
            "  inflating: dataset_new/train/yawn/608.jpg  \n",
            "  inflating: dataset_new/train/yawn/609.jpg  \n",
            "  inflating: dataset_new/train/yawn/610.jpg  \n",
            "  inflating: dataset_new/train/yawn/611.jpg  \n",
            "  inflating: dataset_new/train/yawn/612.jpg  \n",
            "  inflating: dataset_new/train/yawn/613.jpg  \n",
            "  inflating: dataset_new/train/yawn/614.jpg  \n",
            "  inflating: dataset_new/train/yawn/615.jpg  \n",
            "  inflating: dataset_new/train/yawn/616.jpg  \n",
            "  inflating: dataset_new/train/yawn/617.jpg  \n",
            "  inflating: dataset_new/train/yawn/618.jpg  \n",
            "  inflating: dataset_new/train/yawn/62.jpg  \n",
            "  inflating: dataset_new/train/yawn/620.jpg  \n",
            "  inflating: dataset_new/train/yawn/621.jpg  \n",
            "  inflating: dataset_new/train/yawn/623.jpg  \n",
            "  inflating: dataset_new/train/yawn/624.jpg  \n",
            "  inflating: dataset_new/train/yawn/625.jpg  \n",
            "  inflating: dataset_new/train/yawn/626.jpg  \n",
            "  inflating: dataset_new/train/yawn/627.jpg  \n",
            "  inflating: dataset_new/train/yawn/628.jpg  \n",
            "  inflating: dataset_new/train/yawn/629.jpg  \n",
            "  inflating: dataset_new/train/yawn/631.jpg  \n",
            "  inflating: dataset_new/train/yawn/633.jpg  \n",
            "  inflating: dataset_new/train/yawn/634.jpg  \n",
            "  inflating: dataset_new/train/yawn/635.jpg  \n",
            "  inflating: dataset_new/train/yawn/636.jpg  \n",
            "  inflating: dataset_new/train/yawn/637.jpg  \n",
            "  inflating: dataset_new/train/yawn/638.jpg  \n",
            "  inflating: dataset_new/train/yawn/639.jpg  \n",
            "  inflating: dataset_new/train/yawn/64.jpg  \n",
            "  inflating: dataset_new/train/yawn/640.jpg  \n",
            "  inflating: dataset_new/train/yawn/641.jpg  \n",
            "  inflating: dataset_new/train/yawn/642.jpg  \n",
            "  inflating: dataset_new/train/yawn/643.jpg  \n",
            "  inflating: dataset_new/train/yawn/644.jpg  \n",
            "  inflating: dataset_new/train/yawn/645.jpg  \n",
            "  inflating: dataset_new/train/yawn/647.jpg  \n",
            "  inflating: dataset_new/train/yawn/648.jpg  \n",
            "  inflating: dataset_new/train/yawn/65.jpg  \n",
            "  inflating: dataset_new/train/yawn/650.jpg  \n",
            "  inflating: dataset_new/train/yawn/651.jpg  \n",
            "  inflating: dataset_new/train/yawn/653.jpg  \n",
            "  inflating: dataset_new/train/yawn/654.jpg  \n",
            "  inflating: dataset_new/train/yawn/655.jpg  \n",
            "  inflating: dataset_new/train/yawn/656.jpg  \n",
            "  inflating: dataset_new/train/yawn/657.jpg  \n",
            "  inflating: dataset_new/train/yawn/658.jpg  \n",
            "  inflating: dataset_new/train/yawn/659.jpg  \n",
            "  inflating: dataset_new/train/yawn/66.jpg  \n",
            "  inflating: dataset_new/train/yawn/660.jpg  \n",
            "  inflating: dataset_new/train/yawn/661.jpg  \n",
            "  inflating: dataset_new/train/yawn/663.jpg  \n",
            "  inflating: dataset_new/train/yawn/664.jpg  \n",
            "  inflating: dataset_new/train/yawn/665.jpg  \n",
            "  inflating: dataset_new/train/yawn/666.jpg  \n",
            "  inflating: dataset_new/train/yawn/667.jpg  \n",
            "  inflating: dataset_new/train/yawn/668.jpg  \n",
            "  inflating: dataset_new/train/yawn/669.jpg  \n",
            "  inflating: dataset_new/train/yawn/67.jpg  \n",
            "  inflating: dataset_new/train/yawn/670.jpg  \n",
            "  inflating: dataset_new/train/yawn/671.jpg  \n",
            "  inflating: dataset_new/train/yawn/672.jpg  \n",
            "  inflating: dataset_new/train/yawn/673.jpg  \n",
            "  inflating: dataset_new/train/yawn/674.jpg  \n",
            "  inflating: dataset_new/train/yawn/675.jpg  \n",
            "  inflating: dataset_new/train/yawn/677.jpg  \n",
            "  inflating: dataset_new/train/yawn/679.jpg  \n",
            "  inflating: dataset_new/train/yawn/68.jpg  \n",
            "  inflating: dataset_new/train/yawn/680.jpg  \n",
            "  inflating: dataset_new/train/yawn/682.jpg  \n",
            "  inflating: dataset_new/train/yawn/683.jpg  \n",
            "  inflating: dataset_new/train/yawn/684.jpg  \n",
            "  inflating: dataset_new/train/yawn/685.jpg  \n",
            "  inflating: dataset_new/train/yawn/687.jpg  \n",
            "  inflating: dataset_new/train/yawn/688.jpg  \n",
            "  inflating: dataset_new/train/yawn/689.jpg  \n",
            "  inflating: dataset_new/train/yawn/69.jpg  \n",
            "  inflating: dataset_new/train/yawn/691.jpg  \n",
            "  inflating: dataset_new/train/yawn/692.jpg  \n",
            "  inflating: dataset_new/train/yawn/693.jpg  \n",
            "  inflating: dataset_new/train/yawn/694.jpg  \n",
            "  inflating: dataset_new/train/yawn/696.jpg  \n",
            "  inflating: dataset_new/train/yawn/697.jpg  \n",
            "  inflating: dataset_new/train/yawn/698.jpg  \n",
            "  inflating: dataset_new/train/yawn/699.jpg  \n",
            "  inflating: dataset_new/train/yawn/7.jpg  \n",
            "  inflating: dataset_new/train/yawn/70.jpg  \n",
            "  inflating: dataset_new/train/yawn/700.jpg  \n",
            "  inflating: dataset_new/train/yawn/701.jpg  \n",
            "  inflating: dataset_new/train/yawn/702.jpg  \n",
            "  inflating: dataset_new/train/yawn/703.jpg  \n",
            "  inflating: dataset_new/train/yawn/704.jpg  \n",
            "  inflating: dataset_new/train/yawn/705.jpg  \n",
            "  inflating: dataset_new/train/yawn/706.jpg  \n",
            "  inflating: dataset_new/train/yawn/708.jpg  \n",
            "  inflating: dataset_new/train/yawn/71.jpg  \n",
            "  inflating: dataset_new/train/yawn/710.jpg  \n",
            "  inflating: dataset_new/train/yawn/712.jpg  \n",
            "  inflating: dataset_new/train/yawn/713.jpg  \n",
            "  inflating: dataset_new/train/yawn/714.jpg  \n",
            "  inflating: dataset_new/train/yawn/716.jpg  \n",
            "  inflating: dataset_new/train/yawn/717.jpg  \n",
            "  inflating: dataset_new/train/yawn/718.jpg  \n",
            "  inflating: dataset_new/train/yawn/72.jpg  \n",
            "  inflating: dataset_new/train/yawn/722.jpg  \n",
            "  inflating: dataset_new/train/yawn/723.jpg  \n",
            "  inflating: dataset_new/train/yawn/724.jpg  \n",
            "  inflating: dataset_new/train/yawn/726.jpg  \n",
            "  inflating: dataset_new/train/yawn/73.jpg  \n",
            "  inflating: dataset_new/train/yawn/74.jpg  \n",
            "  inflating: dataset_new/train/yawn/75.jpg  \n",
            "  inflating: dataset_new/train/yawn/76.jpg  \n",
            "  inflating: dataset_new/train/yawn/77.jpg  \n",
            "  inflating: dataset_new/train/yawn/78.jpg  \n",
            "  inflating: dataset_new/train/yawn/79.jpg  \n",
            "  inflating: dataset_new/train/yawn/8.jpg  \n",
            "  inflating: dataset_new/train/yawn/80.jpg  \n",
            "  inflating: dataset_new/train/yawn/82.jpg  \n",
            "  inflating: dataset_new/train/yawn/83.jpg  \n",
            "  inflating: dataset_new/train/yawn/85.jpg  \n",
            "  inflating: dataset_new/train/yawn/87.jpg  \n",
            "  inflating: dataset_new/train/yawn/88.jpg  \n",
            "  inflating: dataset_new/train/yawn/89.jpg  \n",
            "  inflating: dataset_new/train/yawn/9.jpg  \n",
            "  inflating: dataset_new/train/yawn/90.jpg  \n",
            "  inflating: dataset_new/train/yawn/91.jpg  \n",
            "  inflating: dataset_new/train/yawn/92.jpg  \n",
            "  inflating: dataset_new/train/yawn/93.jpg  \n",
            "  inflating: dataset_new/train/yawn/94.jpg  \n",
            "  inflating: dataset_new/train/yawn/96.jpg  \n",
            "  inflating: dataset_new/train/yawn/97.jpg  \n",
            "  inflating: dataset_new/train/yawn/98.jpg  \n",
            "  inflating: dataset_new/train/yawn/99.jpg  \n"
          ]
        }
      ]
    },
    {
      "cell_type": "code",
      "source": [
        "from google.colab import drive\n",
        "drive.mount('/content/drive')"
      ],
      "metadata": {
        "id": "2K0DufhoESUD",
        "outputId": "183d58f3-414c-4c3e-8c99-fa07f7cf2358",
        "colab": {
          "base_uri": "https://localhost:8080/"
        }
      },
      "id": "2K0DufhoESUD",
      "execution_count": 8,
      "outputs": [
        {
          "output_type": "stream",
          "name": "stdout",
          "text": [
            "Drive already mounted at /content/drive; to attempt to forcibly remount, call drive.mount(\"/content/drive\", force_remount=True).\n"
          ]
        }
      ]
    },
    {
      "cell_type": "code",
      "execution_count": 9,
      "id": "0d94c358",
      "metadata": {
        "scrolled": true,
        "id": "0d94c358"
      },
      "outputs": [],
      "source": [
        "import tensorflow as tf\n",
        "import matplotlib.pyplot as plt\n",
        "import cv2"
      ]
    },
    {
      "cell_type": "code",
      "execution_count": 89,
      "id": "a89a009f",
      "metadata": {
        "id": "a89a009f"
      },
      "outputs": [],
      "source": [
        "from keras.preprocessing.image import ImageDataGenerator\n",
        "from tensorflow.keras.utils import to_categorical"
      ]
    },
    {
      "cell_type": "code",
      "execution_count": 44,
      "id": "63bd9f1c",
      "metadata": {
        "id": "63bd9f1c",
        "outputId": "6ceba842-1e37-4d02-fc05-02df2fddf198",
        "colab": {
          "base_uri": "https://localhost:8080/"
        }
      },
      "outputs": [
        {
          "output_type": "stream",
          "name": "stdout",
          "text": [
            "Found 1310 images belonging to 2 classes.\n"
          ]
        }
      ],
      "source": [
        "train_datagen = ImageDataGenerator(\n",
        "        rescale=1./255,\n",
        "        shear_range=0.2,\n",
        "        zoom_range=0.2,\n",
        "        horizontal_flip=True)\n",
        "train_generator = train_datagen.flow_from_directory(\n",
        "        '/content/drive/MyDrive/drowsiness_cropped (1)/drowsiness_cropped/train',\n",
        "        target_size=(64, 64),\n",
        "        batch_size=32,\n",
        "        class_mode='binary')"
      ]
    },
    {
      "cell_type": "code",
      "execution_count": 45,
      "id": "e1b752bb",
      "metadata": {
        "id": "e1b752bb",
        "outputId": "b4de7e50-0964-46e3-9270-98bcc6a45431",
        "colab": {
          "base_uri": "https://localhost:8080/"
        }
      },
      "outputs": [
        {
          "output_type": "stream",
          "name": "stdout",
          "text": [
            "Found 215 images belonging to 2 classes.\n"
          ]
        }
      ],
      "source": [
        "test_datagen = ImageDataGenerator(rescale=1./255)\n",
        "validation_generator = test_datagen.flow_from_directory(\n",
        "        '/content/drive/MyDrive/drowsiness_cropped (1)/drowsiness_cropped/test',\n",
        "        target_size=(64,64),\n",
        "        batch_size=32,\n",
        "        class_mode='binary')"
      ]
    },
    {
      "cell_type": "code",
      "source": [
        "im=plt.imread(\"/content/drive/MyDrive/archive/dataset_new/train/yawn/11.jpg\")\n"
      ],
      "metadata": {
        "id": "9YYZBy3asKdV"
      },
      "id": "9YYZBy3asKdV",
      "execution_count": 46,
      "outputs": []
    },
    {
      "cell_type": "code",
      "source": [
        "plt.imshow(im[20:350, 200:500, :])"
      ],
      "metadata": {
        "colab": {
          "base_uri": "https://localhost:8080/",
          "height": 286
        },
        "id": "LGTQWYgXs2m_",
        "outputId": "280df965-84ea-4f38-d6b5-72abe5720c40"
      },
      "id": "LGTQWYgXs2m_",
      "execution_count": 7,
      "outputs": [
        {
          "data": {
            "text/plain": [
              "<matplotlib.image.AxesImage at 0x7f9fac14b490>"
            ]
          },
          "execution_count": null,
          "metadata": {},
          "output_type": "execute_result"
        },
        {
          "data": {
            "image/png": "[encoded data removed]",
            "text/plain": [
              "<Figure size 432x288 with 1 Axes>"
            ]
          },
          "metadata": {},
          "output_type": "display_data"
        }
      ]
    },
    {
      "cell_type": "code",
      "source": [
        "import os"
      ],
      "metadata": {
        "id": "ohsqptcjvOLl"
      },
      "id": "ohsqptcjvOLl",
      "execution_count": 12,
      "outputs": []
    },
    {
      "cell_type": "code",
      "source": [
        "import glob\n",
        "i=0\n",
        "for img in glob.glob(\"/content/drive/MyDrive/archive/dataset_new/test/no_yawn/*.jpg\"):\n",
        "  i=i+1\n",
        "\n",
        "  n= cv2.imread(img)\n",
        "  im=n[20:350, 200:500, :]\n",
        "  cv2.imwrite(os.path.join(\"/content/drowsiness_cropped/test/no_yawn\" , f'test_images_noyawn{i}.jpg'), im)"
      ],
      "metadata": {
        "id": "mYU8k9vYrVuC"
      },
      "id": "mYU8k9vYrVuC",
      "execution_count": 47,
      "outputs": []
    },
    {
      "cell_type": "code",
      "source": [
        "\n",
        "for img in glob.glob(\"/content/drive/MyDrive/archive/dataset_new/test/yawn/*.jpg\"):\n",
        "  i=i+1\n",
        "\n",
        "  n= cv2.imread(img)\n",
        "  im=n[20:350, 200:500, :]\n",
        "  cv2.imwrite(os.path.join(\"/content/drowsiness_cropped/test/yawn\" , f'test_images_yawn{i}.jpg'), im)"
      ],
      "metadata": {
        "id": "DOQS1k-lv9UZ"
      },
      "id": "DOQS1k-lv9UZ",
      "execution_count": 48,
      "outputs": []
    },
    {
      "cell_type": "code",
      "source": [
        "i=0\n",
        "for img in glob.glob(\"/content/drive/MyDrive/archive/dataset_new/train/no_yawn/*.jpg\"):\n",
        "  i=i+1\n",
        "\n",
        "  n= cv2.imread(img)\n",
        "  im=n[20:350, 200:500, :]\n",
        "  cv2.imwrite(os.path.join(\"/content/drowsiness_cropped/train/no_yawn\" , f'train_images_noyawn{i}.jpg'), im)"
      ],
      "metadata": {
        "id": "_YAeYzL5wU3W"
      },
      "id": "_YAeYzL5wU3W",
      "execution_count": 15,
      "outputs": []
    },
    {
      "cell_type": "code",
      "source": [
        "i=0\n",
        "for img in glob.glob(\"/content/drive/MyDrive/archive/dataset_new/train/yawn/*.jpg\"):\n",
        "  i=i+1\n",
        "\n",
        "  n= cv2.imread(img)\n",
        "  im=n[20:350, 200:500, :]\n",
        "  cv2.imwrite(os.path.join(\"/content/drowsiness_cropped/train/yawn\" , f'train_images_yawn{i}.jpg'), im)"
      ],
      "metadata": {
        "id": "8zVPJ8XLw1UO"
      },
      "id": "8zVPJ8XLw1UO",
      "execution_count": 16,
      "outputs": []
    },
    {
      "cell_type": "code",
      "source": [
        "# Add the image to a batch\n",
        "from keras.preprocessing import image\n",
        "from tensorflow.keras import layers\n",
        "im=tf.keras.preprocessing.image_dataset_from_directory(\"/content/drive/MyDrive/drowsiness_cropped (1)/drowsiness_cropped/test\")\n",
        "\n"
      ],
      "metadata": {
        "colab": {
          "base_uri": "https://localhost:8080/"
        },
        "id": "a9qOJBNJ9RAp",
        "outputId": "aecde59b-dd35-44d0-fa33-f53b2e6908a8"
      },
      "id": "a9qOJBNJ9RAp",
      "execution_count": 17,
      "outputs": [
        {
          "output_type": "stream",
          "name": "stdout",
          "text": [
            "Found 215 files belonging to 2 classes.\n"
          ]
        }
      ]
    },
    {
      "cell_type": "code",
      "source": [
        "data_augmentation = tf.keras.Sequential([\n",
        "  layers.RandomFlip(\"horizontal_and_vertical\"),\n",
        "  layers.RandomRotation(0.2),\n",
        "])\n",
        "\n",
        "# Add the image to a batch.\n",
        "image = tf.cast(tf.expand_dims(n, 0), tf.float32)\n",
        "\n",
        "plt.figure(figsize=(10, 10))\n",
        "for i in range(9):\n",
        "  augmented_image = data_augmentation(image)\n",
        "  ax = plt.subplot(3, 3, i + 1)\n",
        "  plt.imshow(augmented_image[0])\n",
        "  plt.axis(\"off\")"
      ],
      "metadata": {
        "id": "DEDRRzkbRptH",
        "outputId": "f5a18b9b-62b8-41d1-d9e5-6e8cabde6451",
        "colab": {
          "base_uri": "https://localhost:8080/",
          "height": 694
        }
      },
      "id": "DEDRRzkbRptH",
      "execution_count": 18,
      "outputs": [
        {
          "output_type": "stream",
          "name": "stderr",
          "text": [
            "Clipping input data to the valid range for imshow with RGB data ([0..1] for floats or [0..255] for integers).\n",
            "Clipping input data to the valid range for imshow with RGB data ([0..1] for floats or [0..255] for integers).\n",
            "Clipping input data to the valid range for imshow with RGB data ([0..1] for floats or [0..255] for integers).\n",
            "Clipping input data to the valid range for imshow with RGB data ([0..1] for floats or [0..255] for integers).\n",
            "Clipping input data to the valid range for imshow with RGB data ([0..1] for floats or [0..255] for integers).\n",
            "Clipping input data to the valid range for imshow with RGB data ([0..1] for floats or [0..255] for integers).\n",
            "Clipping input data to the valid range for imshow with RGB data ([0..1] for floats or [0..255] for integers).\n",
            "Clipping input data to the valid range for imshow with RGB data ([0..1] for floats or [0..255] for integers).\n",
            "Clipping input data to the valid range for imshow with RGB data ([0..1] for floats or [0..255] for integers).\n"
          ]
        },
        {
          "output_type": "display_data",
          "data": {
            "text/plain": [
              "<Figure size 720x720 with 9 Axes>"
            ],
            "image/png": "[encoded data removed]"
          },
          "metadata": {
            "needs_background": "light"
          }
        }
      ]
    },
    {
      "cell_type": "code",
      "source": [
        "im=tf.keras.preprocessing.image_dataset_from_directory(\"/content/drive/MyDrive/drowsiness_cropped (1)/drowsiness_cropped/train\")"
      ],
      "metadata": {
        "id": "E2aZnVIvP4nL",
        "outputId": "22b7b089-38bb-4788-ec8d-9288ce35ffa6",
        "colab": {
          "base_uri": "https://localhost:8080/"
        }
      },
      "id": "E2aZnVIvP4nL",
      "execution_count": 19,
      "outputs": [
        {
          "output_type": "stream",
          "name": "stdout",
          "text": [
            "Found 1310 files belonging to 2 classes.\n"
          ]
        }
      ]
    },
    {
      "cell_type": "code",
      "source": [
        "data_augmentation = tf.keras.Sequential([\n",
        "  layers.RandomFlip(\"horizontal_and_vertical\"),\n",
        "  layers.RandomRotation(0.2),\n",
        "])\n",
        "\n",
        "# Add the image to a batch.\n",
        "image = tf.cast(tf.expand_dims(n, 0), tf.float32)\n",
        "\n",
        "plt.figure(figsize=(10, 10))\n",
        "for i in range(9):\n",
        "  augmented_image = data_augmentation(image)\n",
        "  ax = plt.subplot(3, 3, i + 1)\n",
        "  plt.imshow(augmented_image[0])\n",
        "  plt.axis(\"off\")"
      ],
      "metadata": {
        "colab": {
          "base_uri": "https://localhost:8080/",
          "height": 694
        },
        "id": "JOoSMICKFt0b",
        "outputId": "0aa892dd-ab32-43e5-e532-2557795a548a"
      },
      "id": "JOoSMICKFt0b",
      "execution_count": 20,
      "outputs": [
        {
          "output_type": "stream",
          "name": "stderr",
          "text": [
            "Clipping input data to the valid range for imshow with RGB data ([0..1] for floats or [0..255] for integers).\n",
            "Clipping input data to the valid range for imshow with RGB data ([0..1] for floats or [0..255] for integers).\n",
            "Clipping input data to the valid range for imshow with RGB data ([0..1] for floats or [0..255] for integers).\n",
            "Clipping input data to the valid range for imshow with RGB data ([0..1] for floats or [0..255] for integers).\n",
            "Clipping input data to the valid range for imshow with RGB data ([0..1] for floats or [0..255] for integers).\n",
            "Clipping input data to the valid range for imshow with RGB data ([0..1] for floats or [0..255] for integers).\n",
            "Clipping input data to the valid range for imshow with RGB data ([0..1] for floats or [0..255] for integers).\n",
            "Clipping input data to the valid range for imshow with RGB data ([0..1] for floats or [0..255] for integers).\n",
            "Clipping input data to the valid range for imshow with RGB data ([0..1] for floats or [0..255] for integers).\n"
          ]
        },
        {
          "output_type": "display_data",
          "data": {
            "text/plain": [
              "<Figure size 720x720 with 9 Axes>"
            ],
            "image/png": "[encoded data removed]"
          },
          "metadata": {
            "needs_background": "light"
          }
        }
      ]
    },
    {
      "cell_type": "code",
      "execution_count": 49,
      "id": "faa69274",
      "metadata": {
        "id": "faa69274"
      },
      "outputs": [],
      "source": [
        "#build CNN model\n",
        "#intialize\n",
        "cnn=tf.keras.models.Sequential()"
      ]
    },
    {
      "cell_type": "code",
      "source": [
        "from tensorflow.keras import layers"
      ],
      "metadata": {
        "id": "lmN4ejIJ0FAA"
      },
      "id": "lmN4ejIJ0FAA",
      "execution_count": 50,
      "outputs": []
    },
    {
      "cell_type": "code",
      "execution_count": 51,
      "id": "3dbb7eb7",
      "metadata": {
        "id": "3dbb7eb7"
      },
      "outputs": [],
      "source": [
        "#convolution\n",
        "from keras.regularizers import l2\n",
        "cnn=tf.keras.models.Sequential()\n",
        "cnn.add(tf.keras.layers.Conv2D(filters=32,kernel_size=3,activation='relu',input_shape=[64,64,3],\n",
        "                               kernel_regularizer=l2(0.01), bias_regularizer=l2(0.01)))\n",
        "\n",
        "\n",
        "\n"
      ]
    },
    {
      "cell_type": "code",
      "execution_count": 52,
      "id": "117aee61",
      "metadata": {
        "id": "117aee61"
      },
      "outputs": [],
      "source": [
        "#Pooling\n",
        "cnn.add(tf.keras.layers.MaxPool2D(pool_size=2,strides=2))\n",
        "cnn.add(tf.keras.layers.Dropout(0.3))"
      ]
    },
    {
      "cell_type": "code",
      "execution_count": 53,
      "id": "12fe5b66",
      "metadata": {
        "id": "12fe5b66"
      },
      "outputs": [],
      "source": [
        "#add one more layer\n",
        "cnn.add(tf.keras.layers.Conv2D(filters=32,kernel_size=3,activation='relu',input_shape=[64,64,3],\n",
        "       kernel_regularizer=l2(0.01), bias_regularizer=l2(0.01)))\n",
        "cnn.add(tf.keras.layers.Dropout(0.2))\n",
        "cnn.add(tf.keras.layers.MaxPool2D(pool_size=2,strides=2))\n",
        "cnn.add(tf.keras.layers.Dropout(0.2))"
      ]
    },
    {
      "cell_type": "code",
      "execution_count": 54,
      "id": "8785d9e5",
      "metadata": {
        "id": "8785d9e5"
      },
      "outputs": [],
      "source": [
        "#Flatten\n",
        "cnn.add(tf.keras.layers.Flatten())"
      ]
    },
    {
      "cell_type": "code",
      "execution_count": 55,
      "id": "be8ddd39",
      "metadata": {
        "id": "be8ddd39"
      },
      "outputs": [],
      "source": [
        "#Full Connection\n",
        "cnn.add(tf.keras.layers.Dense(units=128,activation='relu'))\n",
        "cnn.add(tf.keras.layers.Dropout(0.2))\n",
        "cnn.add(tf.keras.layers.Dense(units=64,activation='relu'))"
      ]
    },
    {
      "cell_type": "code",
      "execution_count": 56,
      "id": "af2008fd",
      "metadata": {
        "id": "af2008fd"
      },
      "outputs": [],
      "source": [
        "#Output layer\n",
        "cnn.add(tf.keras.layers.Dense(units=1,activation='softmax'))"
      ]
    },
    {
      "cell_type": "code",
      "execution_count": 57,
      "id": "d96484c3",
      "metadata": {
        "id": "d96484c3"
      },
      "outputs": [],
      "source": [
        "#Compile the model\n",
        "cnn.compile(optimizer='adam',\n",
        "    loss='binary_crossentropy',\n",
        "    metrics=['accuracy'])"
      ]
    },
    {
      "cell_type": "code",
      "execution_count": 58,
      "id": "8bc592d6",
      "metadata": {
        "id": "8bc592d6",
        "outputId": "827c43f5-da43-43b6-c991-6a85aba4fd12",
        "colab": {
          "base_uri": "https://localhost:8080/"
        }
      },
      "outputs": [
        {
          "output_type": "stream",
          "name": "stdout",
          "text": [
            "Model: \"sequential_5\"\n",
            "_________________________________________________________________\n",
            " Layer (type)                Output Shape              Param #   \n",
            "=================================================================\n",
            " conv2d_2 (Conv2D)           (None, 62, 62, 32)        896       \n",
            "                                                                 \n",
            " max_pooling2d_2 (MaxPooling  (None, 31, 31, 32)       0         \n",
            " 2D)                                                             \n",
            "                                                                 \n",
            " dropout_6 (Dropout)         (None, 31, 31, 32)        0         \n",
            "                                                                 \n",
            " conv2d_3 (Conv2D)           (None, 29, 29, 32)        9248      \n",
            "                                                                 \n",
            " dropout_7 (Dropout)         (None, 29, 29, 32)        0         \n",
            "                                                                 \n",
            " max_pooling2d_3 (MaxPooling  (None, 14, 14, 32)       0         \n",
            " 2D)                                                             \n",
            "                                                                 \n",
            " dropout_8 (Dropout)         (None, 14, 14, 32)        0         \n",
            "                                                                 \n",
            " flatten_1 (Flatten)         (None, 6272)              0         \n",
            "                                                                 \n",
            " dense_8 (Dense)             (None, 128)               802944    \n",
            "                                                                 \n",
            " dropout_9 (Dropout)         (None, 128)               0         \n",
            "                                                                 \n",
            " dense_9 (Dense)             (None, 64)                8256      \n",
            "                                                                 \n",
            " dense_10 (Dense)            (None, 1)                 65        \n",
            "                                                                 \n",
            "=================================================================\n",
            "Total params: 821,409\n",
            "Trainable params: 821,409\n",
            "Non-trainable params: 0\n",
            "_________________________________________________________________\n"
          ]
        }
      ],
      "source": [
        "cnn.summary()"
      ]
    },
    {
      "cell_type": "code",
      "execution_count": 59,
      "id": "afa10b06",
      "metadata": {
        "id": "afa10b06",
        "outputId": "147f3b09-b0a4-4ce4-ccca-2e84a3a711f2",
        "colab": {
          "base_uri": "https://localhost:8080/",
          "height": 346
        }
      },
      "outputs": [
        {
          "output_type": "stream",
          "name": "stdout",
          "text": [
            "Epoch 1/50\n",
            " 4/41 [=>............................] - ETA: 1:53 - loss: 1.1046 - accuracy: 0.4375"
          ]
        },
        {
          "output_type": "error",
          "ename": "KeyboardInterrupt",
          "evalue": "ignored",
          "traceback": [
            "\u001b[0;31m---------------------------------------------------------------------------\u001b[0m",
            "\u001b[0;31mKeyboardInterrupt\u001b[0m                         Traceback (most recent call last)",
            "\u001b[0;32m<ipython-input-59-cb3dca0612ee>\u001b[0m in \u001b[0;36m<module>\u001b[0;34m()\u001b[0m\n\u001b[0;32m----> 1\u001b[0;31m \u001b[0mhistory\u001b[0m\u001b[0;34m=\u001b[0m\u001b[0mcnn\u001b[0m\u001b[0;34m.\u001b[0m\u001b[0mfit\u001b[0m\u001b[0;34m(\u001b[0m\u001b[0mx\u001b[0m\u001b[0;34m=\u001b[0m\u001b[0mtrain_generator\u001b[0m\u001b[0;34m,\u001b[0m\u001b[0mvalidation_data\u001b[0m\u001b[0;34m=\u001b[0m\u001b[0mvalidation_generator\u001b[0m\u001b[0;34m,\u001b[0m\u001b[0mepochs\u001b[0m\u001b[0;34m=\u001b[0m\u001b[0;36m50\u001b[0m\u001b[0;34m)\u001b[0m\u001b[0;34m\u001b[0m\u001b[0;34m\u001b[0m\u001b[0m\n\u001b[0m",
            "\u001b[0;32m/usr/local/lib/python3.7/dist-packages/keras/utils/traceback_utils.py\u001b[0m in \u001b[0;36merror_handler\u001b[0;34m(*args, **kwargs)\u001b[0m\n\u001b[1;32m     62\u001b[0m     \u001b[0mfiltered_tb\u001b[0m \u001b[0;34m=\u001b[0m \u001b[0;32mNone\u001b[0m\u001b[0;34m\u001b[0m\u001b[0;34m\u001b[0m\u001b[0m\n\u001b[1;32m     63\u001b[0m     \u001b[0;32mtry\u001b[0m\u001b[0;34m:\u001b[0m\u001b[0;34m\u001b[0m\u001b[0;34m\u001b[0m\u001b[0m\n\u001b[0;32m---> 64\u001b[0;31m       \u001b[0;32mreturn\u001b[0m \u001b[0mfn\u001b[0m\u001b[0;34m(\u001b[0m\u001b[0;34m*\u001b[0m\u001b[0margs\u001b[0m\u001b[0;34m,\u001b[0m \u001b[0;34m**\u001b[0m\u001b[0mkwargs\u001b[0m\u001b[0;34m)\u001b[0m\u001b[0;34m\u001b[0m\u001b[0;34m\u001b[0m\u001b[0m\n\u001b[0m\u001b[1;32m     65\u001b[0m     \u001b[0;32mexcept\u001b[0m \u001b[0mException\u001b[0m \u001b[0;32mas\u001b[0m \u001b[0me\u001b[0m\u001b[0;34m:\u001b[0m  \u001b[0;31m# pylint: disable=broad-except\u001b[0m\u001b[0;34m\u001b[0m\u001b[0;34m\u001b[0m\u001b[0m\n\u001b[1;32m     66\u001b[0m       \u001b[0mfiltered_tb\u001b[0m \u001b[0;34m=\u001b[0m \u001b[0m_process_traceback_frames\u001b[0m\u001b[0;34m(\u001b[0m\u001b[0me\u001b[0m\u001b[0;34m.\u001b[0m\u001b[0m__traceback__\u001b[0m\u001b[0;34m)\u001b[0m\u001b[0;34m\u001b[0m\u001b[0;34m\u001b[0m\u001b[0m\n",
            "\u001b[0;32m/usr/local/lib/python3.7/dist-packages/keras/engine/training.py\u001b[0m in \u001b[0;36mfit\u001b[0;34m(self, x, y, batch_size, epochs, verbose, callbacks, validation_split, validation_data, shuffle, class_weight, sample_weight, initial_epoch, steps_per_epoch, validation_steps, validation_batch_size, validation_freq, max_queue_size, workers, use_multiprocessing)\u001b[0m\n\u001b[1;32m   1382\u001b[0m                 _r=1):\n\u001b[1;32m   1383\u001b[0m               \u001b[0mcallbacks\u001b[0m\u001b[0;34m.\u001b[0m\u001b[0mon_train_batch_begin\u001b[0m\u001b[0;34m(\u001b[0m\u001b[0mstep\u001b[0m\u001b[0;34m)\u001b[0m\u001b[0;34m\u001b[0m\u001b[0;34m\u001b[0m\u001b[0m\n\u001b[0;32m-> 1384\u001b[0;31m               \u001b[0mtmp_logs\u001b[0m \u001b[0;34m=\u001b[0m \u001b[0mself\u001b[0m\u001b[0;34m.\u001b[0m\u001b[0mtrain_function\u001b[0m\u001b[0;34m(\u001b[0m\u001b[0miterator\u001b[0m\u001b[0;34m)\u001b[0m\u001b[0;34m\u001b[0m\u001b[0;34m\u001b[0m\u001b[0m\n\u001b[0m\u001b[1;32m   1385\u001b[0m               \u001b[0;32mif\u001b[0m \u001b[0mdata_handler\u001b[0m\u001b[0;34m.\u001b[0m\u001b[0mshould_sync\u001b[0m\u001b[0;34m:\u001b[0m\u001b[0;34m\u001b[0m\u001b[0;34m\u001b[0m\u001b[0m\n\u001b[1;32m   1386\u001b[0m                 \u001b[0mcontext\u001b[0m\u001b[0;34m.\u001b[0m\u001b[0masync_wait\u001b[0m\u001b[0;34m(\u001b[0m\u001b[0;34m)\u001b[0m\u001b[0;34m\u001b[0m\u001b[0;34m\u001b[0m\u001b[0m\n",
            "\u001b[0;32m/usr/local/lib/python3.7/dist-packages/tensorflow/python/util/traceback_utils.py\u001b[0m in \u001b[0;36merror_handler\u001b[0;34m(*args, **kwargs)\u001b[0m\n\u001b[1;32m    148\u001b[0m     \u001b[0mfiltered_tb\u001b[0m \u001b[0;34m=\u001b[0m \u001b[0;32mNone\u001b[0m\u001b[0;34m\u001b[0m\u001b[0;34m\u001b[0m\u001b[0m\n\u001b[1;32m    149\u001b[0m     \u001b[0;32mtry\u001b[0m\u001b[0;34m:\u001b[0m\u001b[0;34m\u001b[0m\u001b[0;34m\u001b[0m\u001b[0m\n\u001b[0;32m--> 150\u001b[0;31m       \u001b[0;32mreturn\u001b[0m \u001b[0mfn\u001b[0m\u001b[0;34m(\u001b[0m\u001b[0;34m*\u001b[0m\u001b[0margs\u001b[0m\u001b[0;34m,\u001b[0m \u001b[0;34m**\u001b[0m\u001b[0mkwargs\u001b[0m\u001b[0;34m)\u001b[0m\u001b[0;34m\u001b[0m\u001b[0;34m\u001b[0m\u001b[0m\n\u001b[0m\u001b[1;32m    151\u001b[0m     \u001b[0;32mexcept\u001b[0m \u001b[0mException\u001b[0m \u001b[0;32mas\u001b[0m \u001b[0me\u001b[0m\u001b[0;34m:\u001b[0m\u001b[0;34m\u001b[0m\u001b[0;34m\u001b[0m\u001b[0m\n\u001b[1;32m    152\u001b[0m       \u001b[0mfiltered_tb\u001b[0m \u001b[0;34m=\u001b[0m \u001b[0m_process_traceback_frames\u001b[0m\u001b[0;34m(\u001b[0m\u001b[0me\u001b[0m\u001b[0;34m.\u001b[0m\u001b[0m__traceback__\u001b[0m\u001b[0;34m)\u001b[0m\u001b[0;34m\u001b[0m\u001b[0;34m\u001b[0m\u001b[0m\n",
            "\u001b[0;32m/usr/local/lib/python3.7/dist-packages/tensorflow/python/eager/def_function.py\u001b[0m in \u001b[0;36m__call__\u001b[0;34m(self, *args, **kwds)\u001b[0m\n\u001b[1;32m    913\u001b[0m \u001b[0;34m\u001b[0m\u001b[0m\n\u001b[1;32m    914\u001b[0m       \u001b[0;32mwith\u001b[0m \u001b[0mOptionalXlaContext\u001b[0m\u001b[0;34m(\u001b[0m\u001b[0mself\u001b[0m\u001b[0;34m.\u001b[0m\u001b[0m_jit_compile\u001b[0m\u001b[0;34m)\u001b[0m\u001b[0;34m:\u001b[0m\u001b[0;34m\u001b[0m\u001b[0;34m\u001b[0m\u001b[0m\n\u001b[0;32m--> 915\u001b[0;31m         \u001b[0mresult\u001b[0m \u001b[0;34m=\u001b[0m \u001b[0mself\u001b[0m\u001b[0;34m.\u001b[0m\u001b[0m_call\u001b[0m\u001b[0;34m(\u001b[0m\u001b[0;34m*\u001b[0m\u001b[0margs\u001b[0m\u001b[0;34m,\u001b[0m \u001b[0;34m**\u001b[0m\u001b[0mkwds\u001b[0m\u001b[0;34m)\u001b[0m\u001b[0;34m\u001b[0m\u001b[0;34m\u001b[0m\u001b[0m\n\u001b[0m\u001b[1;32m    916\u001b[0m \u001b[0;34m\u001b[0m\u001b[0m\n\u001b[1;32m    917\u001b[0m       \u001b[0mnew_tracing_count\u001b[0m \u001b[0;34m=\u001b[0m \u001b[0mself\u001b[0m\u001b[0;34m.\u001b[0m\u001b[0mexperimental_get_tracing_count\u001b[0m\u001b[0;34m(\u001b[0m\u001b[0;34m)\u001b[0m\u001b[0;34m\u001b[0m\u001b[0;34m\u001b[0m\u001b[0m\n",
            "\u001b[0;32m/usr/local/lib/python3.7/dist-packages/tensorflow/python/eager/def_function.py\u001b[0m in \u001b[0;36m_call\u001b[0;34m(self, *args, **kwds)\u001b[0m\n\u001b[1;32m    945\u001b[0m       \u001b[0;31m# In this case we have created variables on the first call, so we run the\u001b[0m\u001b[0;34m\u001b[0m\u001b[0;34m\u001b[0m\u001b[0;34m\u001b[0m\u001b[0m\n\u001b[1;32m    946\u001b[0m       \u001b[0;31m# defunned version which is guaranteed to never create variables.\u001b[0m\u001b[0;34m\u001b[0m\u001b[0;34m\u001b[0m\u001b[0;34m\u001b[0m\u001b[0m\n\u001b[0;32m--> 947\u001b[0;31m       \u001b[0;32mreturn\u001b[0m \u001b[0mself\u001b[0m\u001b[0;34m.\u001b[0m\u001b[0m_stateless_fn\u001b[0m\u001b[0;34m(\u001b[0m\u001b[0;34m*\u001b[0m\u001b[0margs\u001b[0m\u001b[0;34m,\u001b[0m \u001b[0;34m**\u001b[0m\u001b[0mkwds\u001b[0m\u001b[0;34m)\u001b[0m  \u001b[0;31m# pylint: disable=not-callable\u001b[0m\u001b[0;34m\u001b[0m\u001b[0;34m\u001b[0m\u001b[0m\n\u001b[0m\u001b[1;32m    948\u001b[0m     \u001b[0;32melif\u001b[0m \u001b[0mself\u001b[0m\u001b[0;34m.\u001b[0m\u001b[0m_stateful_fn\u001b[0m \u001b[0;32mis\u001b[0m \u001b[0;32mnot\u001b[0m \u001b[0;32mNone\u001b[0m\u001b[0;34m:\u001b[0m\u001b[0;34m\u001b[0m\u001b[0;34m\u001b[0m\u001b[0m\n\u001b[1;32m    949\u001b[0m       \u001b[0;31m# Release the lock early so that multiple threads can perform the call\u001b[0m\u001b[0;34m\u001b[0m\u001b[0;34m\u001b[0m\u001b[0;34m\u001b[0m\u001b[0m\n",
            "\u001b[0;32m/usr/local/lib/python3.7/dist-packages/tensorflow/python/eager/function.py\u001b[0m in \u001b[0;36m__call__\u001b[0;34m(self, *args, **kwargs)\u001b[0m\n\u001b[1;32m   2955\u001b[0m        filtered_flat_args) = self._maybe_define_function(args, kwargs)\n\u001b[1;32m   2956\u001b[0m     return graph_function._call_flat(\n\u001b[0;32m-> 2957\u001b[0;31m         filtered_flat_args, captured_inputs=graph_function.captured_inputs)  # pylint: disable=protected-access\n\u001b[0m\u001b[1;32m   2958\u001b[0m \u001b[0;34m\u001b[0m\u001b[0m\n\u001b[1;32m   2959\u001b[0m   \u001b[0;34m@\u001b[0m\u001b[0mproperty\u001b[0m\u001b[0;34m\u001b[0m\u001b[0;34m\u001b[0m\u001b[0m\n",
            "\u001b[0;32m/usr/local/lib/python3.7/dist-packages/tensorflow/python/eager/function.py\u001b[0m in \u001b[0;36m_call_flat\u001b[0;34m(self, args, captured_inputs, cancellation_manager)\u001b[0m\n\u001b[1;32m   1852\u001b[0m       \u001b[0;31m# No tape is watching; skip to running the function.\u001b[0m\u001b[0;34m\u001b[0m\u001b[0;34m\u001b[0m\u001b[0;34m\u001b[0m\u001b[0m\n\u001b[1;32m   1853\u001b[0m       return self._build_call_outputs(self._inference_function.call(\n\u001b[0;32m-> 1854\u001b[0;31m           ctx, args, cancellation_manager=cancellation_manager))\n\u001b[0m\u001b[1;32m   1855\u001b[0m     forward_backward = self._select_forward_and_backward_functions(\n\u001b[1;32m   1856\u001b[0m         \u001b[0margs\u001b[0m\u001b[0;34m,\u001b[0m\u001b[0;34m\u001b[0m\u001b[0;34m\u001b[0m\u001b[0m\n",
            "\u001b[0;32m/usr/local/lib/python3.7/dist-packages/tensorflow/python/eager/function.py\u001b[0m in \u001b[0;36mcall\u001b[0;34m(self, ctx, args, cancellation_manager)\u001b[0m\n\u001b[1;32m    502\u001b[0m               \u001b[0minputs\u001b[0m\u001b[0;34m=\u001b[0m\u001b[0margs\u001b[0m\u001b[0;34m,\u001b[0m\u001b[0;34m\u001b[0m\u001b[0;34m\u001b[0m\u001b[0m\n\u001b[1;32m    503\u001b[0m               \u001b[0mattrs\u001b[0m\u001b[0;34m=\u001b[0m\u001b[0mattrs\u001b[0m\u001b[0;34m,\u001b[0m\u001b[0;34m\u001b[0m\u001b[0;34m\u001b[0m\u001b[0m\n\u001b[0;32m--> 504\u001b[0;31m               ctx=ctx)\n\u001b[0m\u001b[1;32m    505\u001b[0m         \u001b[0;32melse\u001b[0m\u001b[0;34m:\u001b[0m\u001b[0;34m\u001b[0m\u001b[0;34m\u001b[0m\u001b[0m\n\u001b[1;32m    506\u001b[0m           outputs = execute.execute_with_cancellation(\n",
            "\u001b[0;32m/usr/local/lib/python3.7/dist-packages/tensorflow/python/eager/execute.py\u001b[0m in \u001b[0;36mquick_execute\u001b[0;34m(op_name, num_outputs, inputs, attrs, ctx, name)\u001b[0m\n\u001b[1;32m     53\u001b[0m     \u001b[0mctx\u001b[0m\u001b[0;34m.\u001b[0m\u001b[0mensure_initialized\u001b[0m\u001b[0;34m(\u001b[0m\u001b[0;34m)\u001b[0m\u001b[0;34m\u001b[0m\u001b[0;34m\u001b[0m\u001b[0m\n\u001b[1;32m     54\u001b[0m     tensors = pywrap_tfe.TFE_Py_Execute(ctx._handle, device_name, op_name,\n\u001b[0;32m---> 55\u001b[0;31m                                         inputs, attrs, num_outputs)\n\u001b[0m\u001b[1;32m     56\u001b[0m   \u001b[0;32mexcept\u001b[0m \u001b[0mcore\u001b[0m\u001b[0;34m.\u001b[0m\u001b[0m_NotOkStatusException\u001b[0m \u001b[0;32mas\u001b[0m \u001b[0me\u001b[0m\u001b[0;34m:\u001b[0m\u001b[0;34m\u001b[0m\u001b[0;34m\u001b[0m\u001b[0m\n\u001b[1;32m     57\u001b[0m     \u001b[0;32mif\u001b[0m \u001b[0mname\u001b[0m \u001b[0;32mis\u001b[0m \u001b[0;32mnot\u001b[0m \u001b[0;32mNone\u001b[0m\u001b[0;34m:\u001b[0m\u001b[0;34m\u001b[0m\u001b[0;34m\u001b[0m\u001b[0m\n",
            "\u001b[0;31mKeyboardInterrupt\u001b[0m: "
          ]
        }
      ],
      "source": [
        "history=cnn.fit(x=train_generator,validation_data=validation_generator,epochs=50)"
      ]
    },
    {
      "cell_type": "code",
      "source": [
        "import tensorflow as tf\n",
        "from tensorflow import keras\n",
        "model=cnn\n",
        "model.save('/content/drive/MyDrive/camera/cnnmodel.h5')"
      ],
      "metadata": {
        "id": "GmUCUfVsLtqZ"
      },
      "id": "GmUCUfVsLtqZ",
      "execution_count": 36,
      "outputs": []
    },
    {
      "cell_type": "code",
      "source": [
        "from tensorflow import keras\n",
        "model = keras.models.load_model('/content/drive/MyDrive/camera/cnnmodel.h5')\n",
        "history=model.summary()\n",
        "model.summary()"
      ],
      "metadata": {
        "id": "sDNN2be6Mm-F",
        "outputId": "7a52d8b9-d66e-4fed-d0ed-7631bfb35b49",
        "colab": {
          "base_uri": "https://localhost:8080/"
        }
      },
      "id": "sDNN2be6Mm-F",
      "execution_count": 70,
      "outputs": [
        {
          "output_type": "stream",
          "name": "stdout",
          "text": [
            "Model: \"sequential_3\"\n",
            "_________________________________________________________________\n",
            " Layer (type)                Output Shape              Param #   \n",
            "=================================================================\n",
            " conv2d (Conv2D)             (None, 62, 62, 32)        896       \n",
            "                                                                 \n",
            " max_pooling2d (MaxPooling2D  (None, 31, 31, 32)       0         \n",
            " )                                                               \n",
            "                                                                 \n",
            " dropout (Dropout)           (None, 31, 31, 32)        0         \n",
            "                                                                 \n",
            " conv2d_1 (Conv2D)           (None, 29, 29, 32)        9248      \n",
            "                                                                 \n",
            " dropout_1 (Dropout)         (None, 29, 29, 32)        0         \n",
            "                                                                 \n",
            " max_pooling2d_1 (MaxPooling  (None, 14, 14, 32)       0         \n",
            " 2D)                                                             \n",
            "                                                                 \n",
            " dropout_2 (Dropout)         (None, 14, 14, 32)        0         \n",
            "                                                                 \n",
            " flatten (Flatten)           (None, 6272)              0         \n",
            "                                                                 \n",
            " dense (Dense)               (None, 128)               802944    \n",
            "                                                                 \n",
            " dropout_3 (Dropout)         (None, 128)               0         \n",
            "                                                                 \n",
            " dense_1 (Dense)             (None, 64)                8256      \n",
            "                                                                 \n",
            " dense_2 (Dense)             (None, 128)               8320      \n",
            "                                                                 \n",
            " dropout_4 (Dropout)         (None, 128)               0         \n",
            "                                                                 \n",
            " dense_3 (Dense)             (None, 1)                 129       \n",
            "                                                                 \n",
            " dense_4 (Dense)             (None, 128)               256       \n",
            "                                                                 \n",
            " dropout_5 (Dropout)         (None, 128)               0         \n",
            "                                                                 \n",
            " dense_5 (Dense)             (None, 64)                8256      \n",
            "                                                                 \n",
            " dense_6 (Dense)             (None, 1)                 65        \n",
            "                                                                 \n",
            " dense_7 (Dense)             (None, 1)                 2         \n",
            "                                                                 \n",
            "=================================================================\n",
            "Total params: 838,372\n",
            "Trainable params: 838,372\n",
            "Non-trainable params: 0\n",
            "_________________________________________________________________\n",
            "Model: \"sequential_3\"\n",
            "_________________________________________________________________\n",
            " Layer (type)                Output Shape              Param #   \n",
            "=================================================================\n",
            " conv2d (Conv2D)             (None, 62, 62, 32)        896       \n",
            "                                                                 \n",
            " max_pooling2d (MaxPooling2D  (None, 31, 31, 32)       0         \n",
            " )                                                               \n",
            "                                                                 \n",
            " dropout (Dropout)           (None, 31, 31, 32)        0         \n",
            "                                                                 \n",
            " conv2d_1 (Conv2D)           (None, 29, 29, 32)        9248      \n",
            "                                                                 \n",
            " dropout_1 (Dropout)         (None, 29, 29, 32)        0         \n",
            "                                                                 \n",
            " max_pooling2d_1 (MaxPooling  (None, 14, 14, 32)       0         \n",
            " 2D)                                                             \n",
            "                                                                 \n",
            " dropout_2 (Dropout)         (None, 14, 14, 32)        0         \n",
            "                                                                 \n",
            " flatten (Flatten)           (None, 6272)              0         \n",
            "                                                                 \n",
            " dense (Dense)               (None, 128)               802944    \n",
            "                                                                 \n",
            " dropout_3 (Dropout)         (None, 128)               0         \n",
            "                                                                 \n",
            " dense_1 (Dense)             (None, 64)                8256      \n",
            "                                                                 \n",
            " dense_2 (Dense)             (None, 128)               8320      \n",
            "                                                                 \n",
            " dropout_4 (Dropout)         (None, 128)               0         \n",
            "                                                                 \n",
            " dense_3 (Dense)             (None, 1)                 129       \n",
            "                                                                 \n",
            " dense_4 (Dense)             (None, 128)               256       \n",
            "                                                                 \n",
            " dropout_5 (Dropout)         (None, 128)               0         \n",
            "                                                                 \n",
            " dense_5 (Dense)             (None, 64)                8256      \n",
            "                                                                 \n",
            " dense_6 (Dense)             (None, 1)                 65        \n",
            "                                                                 \n",
            " dense_7 (Dense)             (None, 1)                 2         \n",
            "                                                                 \n",
            "=================================================================\n",
            "Total params: 838,372\n",
            "Trainable params: 838,372\n",
            "Non-trainable params: 0\n",
            "_________________________________________________________________\n"
          ]
        }
      ]
    },
    {
      "cell_type": "code",
      "source": [
        "Y_pred = model.predict_generator(validation_generator)"
      ],
      "metadata": {
        "id": "LygxjvTVPMK0",
        "outputId": "23d35429-96f0-41ce-919d-039bb6faba69",
        "colab": {
          "base_uri": "https://localhost:8080/"
        }
      },
      "id": "LygxjvTVPMK0",
      "execution_count": 38,
      "outputs": [
        {
          "output_type": "stream",
          "name": "stderr",
          "text": [
            "/usr/local/lib/python3.7/dist-packages/ipykernel_launcher.py:1: UserWarning: `Model.predict_generator` is deprecated and will be removed in a future version. Please use `Model.predict`, which supports generators.\n",
            "  \"\"\"Entry point for launching an IPython kernel.\n"
          ]
        }
      ]
    },
    {
      "cell_type": "code",
      "source": [
        "validation_generator.classes"
      ],
      "metadata": {
        "id": "EAxm_03QpyM8",
        "outputId": "0030755e-9305-48b5-b43c-dcd8fcb22058",
        "colab": {
          "base_uri": "https://localhost:8080/"
        }
      },
      "id": "EAxm_03QpyM8",
      "execution_count": 39,
      "outputs": [
        {
          "output_type": "execute_result",
          "data": {
            "text/plain": [
              "array([0, 0, 0, 0, 0, 0, 0, 0, 0, 0, 0, 0, 0, 0, 0, 0, 0, 0, 0, 0, 0, 0,\n",
              "       0, 0, 0, 0, 0, 0, 0, 0, 0, 0, 0, 0, 0, 0, 0, 0, 0, 0, 0, 0, 0, 0,\n",
              "       0, 0, 0, 0, 0, 0, 0, 0, 0, 0, 0, 0, 0, 0, 0, 0, 0, 0, 0, 0, 0, 0,\n",
              "       0, 0, 0, 0, 0, 0, 0, 0, 0, 0, 0, 0, 0, 0, 0, 0, 0, 0, 0, 0, 0, 0,\n",
              "       0, 0, 0, 0, 0, 0, 0, 0, 0, 0, 0, 0, 0, 0, 0, 0, 0, 0, 0, 0, 0, 1,\n",
              "       1, 1, 1, 1, 1, 1, 1, 1, 1, 1, 1, 1, 1, 1, 1, 1, 1, 1, 1, 1, 1, 1,\n",
              "       1, 1, 1, 1, 1, 1, 1, 1, 1, 1, 1, 1, 1, 1, 1, 1, 1, 1, 1, 1, 1, 1,\n",
              "       1, 1, 1, 1, 1, 1, 1, 1, 1, 1, 1, 1, 1, 1, 1, 1, 1, 1, 1, 1, 1, 1,\n",
              "       1, 1, 1, 1, 1, 1, 1, 1, 1, 1, 1, 1, 1, 1, 1, 1, 1, 1, 1, 1, 1, 1,\n",
              "       1, 1, 1, 1, 1, 1, 1, 1, 1, 1, 1, 1, 1, 1, 1, 1, 1], dtype=int32)"
            ]
          },
          "metadata": {},
          "execution_count": 39
        }
      ]
    },
    {
      "cell_type": "code",
      "source": [
        "Y_pred"
      ],
      "metadata": {
        "id": "47gbBr_cp1Wh",
        "outputId": "042537a7-2f8f-4b47-9684-3cd9969a2250",
        "colab": {
          "base_uri": "https://localhost:8080/"
        }
      },
      "id": "47gbBr_cp1Wh",
      "execution_count": 40,
      "outputs": [
        {
          "output_type": "execute_result",
          "data": {
            "text/plain": [
              "array([[1.],\n",
              "       [1.],\n",
              "       [1.],\n",
              "       [1.],\n",
              "       [1.],\n",
              "       [1.],\n",
              "       [1.],\n",
              "       [1.],\n",
              "       [1.],\n",
              "       [1.],\n",
              "       [1.],\n",
              "       [1.],\n",
              "       [1.],\n",
              "       [1.],\n",
              "       [1.],\n",
              "       [1.],\n",
              "       [1.],\n",
              "       [1.],\n",
              "       [1.],\n",
              "       [1.],\n",
              "       [1.],\n",
              "       [1.],\n",
              "       [1.],\n",
              "       [1.],\n",
              "       [1.],\n",
              "       [1.],\n",
              "       [1.],\n",
              "       [1.],\n",
              "       [1.],\n",
              "       [1.],\n",
              "       [1.],\n",
              "       [1.],\n",
              "       [1.],\n",
              "       [1.],\n",
              "       [1.],\n",
              "       [1.],\n",
              "       [1.],\n",
              "       [1.],\n",
              "       [1.],\n",
              "       [1.],\n",
              "       [1.],\n",
              "       [1.],\n",
              "       [1.],\n",
              "       [1.],\n",
              "       [1.],\n",
              "       [1.],\n",
              "       [1.],\n",
              "       [1.],\n",
              "       [1.],\n",
              "       [1.],\n",
              "       [1.],\n",
              "       [1.],\n",
              "       [1.],\n",
              "       [1.],\n",
              "       [1.],\n",
              "       [1.],\n",
              "       [1.],\n",
              "       [1.],\n",
              "       [1.],\n",
              "       [1.],\n",
              "       [1.],\n",
              "       [1.],\n",
              "       [1.],\n",
              "       [1.],\n",
              "       [1.],\n",
              "       [1.],\n",
              "       [1.],\n",
              "       [1.],\n",
              "       [1.],\n",
              "       [1.],\n",
              "       [1.],\n",
              "       [1.],\n",
              "       [1.],\n",
              "       [1.],\n",
              "       [1.],\n",
              "       [1.],\n",
              "       [1.],\n",
              "       [1.],\n",
              "       [1.],\n",
              "       [1.],\n",
              "       [1.],\n",
              "       [1.],\n",
              "       [1.],\n",
              "       [1.],\n",
              "       [1.],\n",
              "       [1.],\n",
              "       [1.],\n",
              "       [1.],\n",
              "       [1.],\n",
              "       [1.],\n",
              "       [1.],\n",
              "       [1.],\n",
              "       [1.],\n",
              "       [1.],\n",
              "       [1.],\n",
              "       [1.],\n",
              "       [1.],\n",
              "       [1.],\n",
              "       [1.],\n",
              "       [1.],\n",
              "       [1.],\n",
              "       [1.],\n",
              "       [1.],\n",
              "       [1.],\n",
              "       [1.],\n",
              "       [1.],\n",
              "       [1.],\n",
              "       [1.],\n",
              "       [1.],\n",
              "       [1.],\n",
              "       [1.],\n",
              "       [1.],\n",
              "       [1.],\n",
              "       [1.],\n",
              "       [1.],\n",
              "       [1.],\n",
              "       [1.],\n",
              "       [1.],\n",
              "       [1.],\n",
              "       [1.],\n",
              "       [1.],\n",
              "       [1.],\n",
              "       [1.],\n",
              "       [1.],\n",
              "       [1.],\n",
              "       [1.],\n",
              "       [1.],\n",
              "       [1.],\n",
              "       [1.],\n",
              "       [1.],\n",
              "       [1.],\n",
              "       [1.],\n",
              "       [1.],\n",
              "       [1.],\n",
              "       [1.],\n",
              "       [1.],\n",
              "       [1.],\n",
              "       [1.],\n",
              "       [1.],\n",
              "       [1.],\n",
              "       [1.],\n",
              "       [1.],\n",
              "       [1.],\n",
              "       [1.],\n",
              "       [1.],\n",
              "       [1.],\n",
              "       [1.],\n",
              "       [1.],\n",
              "       [1.],\n",
              "       [1.],\n",
              "       [1.],\n",
              "       [1.],\n",
              "       [1.],\n",
              "       [1.],\n",
              "       [1.],\n",
              "       [1.],\n",
              "       [1.],\n",
              "       [1.],\n",
              "       [1.],\n",
              "       [1.],\n",
              "       [1.],\n",
              "       [1.],\n",
              "       [1.],\n",
              "       [1.],\n",
              "       [1.],\n",
              "       [1.],\n",
              "       [1.],\n",
              "       [1.],\n",
              "       [1.],\n",
              "       [1.],\n",
              "       [1.],\n",
              "       [1.],\n",
              "       [1.],\n",
              "       [1.],\n",
              "       [1.],\n",
              "       [1.],\n",
              "       [1.],\n",
              "       [1.],\n",
              "       [1.],\n",
              "       [1.],\n",
              "       [1.],\n",
              "       [1.],\n",
              "       [1.],\n",
              "       [1.],\n",
              "       [1.],\n",
              "       [1.],\n",
              "       [1.],\n",
              "       [1.],\n",
              "       [1.],\n",
              "       [1.],\n",
              "       [1.],\n",
              "       [1.],\n",
              "       [1.],\n",
              "       [1.],\n",
              "       [1.],\n",
              "       [1.],\n",
              "       [1.],\n",
              "       [1.],\n",
              "       [1.],\n",
              "       [1.],\n",
              "       [1.],\n",
              "       [1.],\n",
              "       [1.],\n",
              "       [1.],\n",
              "       [1.],\n",
              "       [1.],\n",
              "       [1.],\n",
              "       [1.],\n",
              "       [1.],\n",
              "       [1.],\n",
              "       [1.],\n",
              "       [1.],\n",
              "       [1.],\n",
              "       [1.],\n",
              "       [1.]], dtype=float32)"
            ]
          },
          "metadata": {},
          "execution_count": 40
        }
      ]
    },
    {
      "cell_type": "code",
      "source": [
        "from sklearn.metrics import confusion_matrix, ConfusionMatrixDisplay\n",
        "Y_pred = model.predict_generator(validation_generator)\n",
        "cm= confusion_matrix(validation_generator.classes, Y_pred)"
      ],
      "metadata": {
        "id": "8vwbUGKcQ7ki",
        "outputId": "aab14915-3f0b-4367-f507-a843f0ade7ef",
        "colab": {
          "base_uri": "https://localhost:8080/"
        }
      },
      "id": "8vwbUGKcQ7ki",
      "execution_count": 41,
      "outputs": [
        {
          "output_type": "stream",
          "name": "stderr",
          "text": [
            "/usr/local/lib/python3.7/dist-packages/ipykernel_launcher.py:2: UserWarning: `Model.predict_generator` is deprecated and will be removed in a future version. Please use `Model.predict`, which supports generators.\n",
            "  \n"
          ]
        }
      ]
    },
    {
      "cell_type": "code",
      "source": [
        "disp = ConfusionMatrixDisplay(confusion_matrix=cm,display_labels=targets.classes_)\n",
        "disp.plot()\n",
        "plt.show()"
      ],
      "metadata": {
        "id": "TkEhJRT0REk5",
        "outputId": "a4a0d2ce-fe8f-4589-f699-3d38c7245a02",
        "colab": {
          "base_uri": "https://localhost:8080/",
          "height": 200
        }
      },
      "id": "TkEhJRT0REk5",
      "execution_count": 69,
      "outputs": [
        {
          "output_type": "error",
          "ename": "NameError",
          "evalue": "ignored",
          "traceback": [
            "\u001b[0;31m---------------------------------------------------------------------------\u001b[0m",
            "\u001b[0;31mNameError\u001b[0m                                 Traceback (most recent call last)",
            "\u001b[0;32m<ipython-input-69-45db47cfe562>\u001b[0m in \u001b[0;36m<module>\u001b[0;34m()\u001b[0m\n\u001b[0;32m----> 1\u001b[0;31m \u001b[0mdisp\u001b[0m \u001b[0;34m=\u001b[0m \u001b[0mConfusionMatrixDisplay\u001b[0m\u001b[0;34m(\u001b[0m\u001b[0mconfusion_matrix\u001b[0m\u001b[0;34m=\u001b[0m\u001b[0mcm\u001b[0m\u001b[0;34m,\u001b[0m\u001b[0mdisplay_labels\u001b[0m\u001b[0;34m=\u001b[0m\u001b[0mtargets\u001b[0m\u001b[0;34m.\u001b[0m\u001b[0mclasses_\u001b[0m\u001b[0;34m)\u001b[0m\u001b[0;34m\u001b[0m\u001b[0;34m\u001b[0m\u001b[0m\n\u001b[0m\u001b[1;32m      2\u001b[0m \u001b[0mdisp\u001b[0m\u001b[0;34m.\u001b[0m\u001b[0mplot\u001b[0m\u001b[0;34m(\u001b[0m\u001b[0;34m)\u001b[0m\u001b[0;34m\u001b[0m\u001b[0;34m\u001b[0m\u001b[0m\n\u001b[1;32m      3\u001b[0m \u001b[0mplt\u001b[0m\u001b[0;34m.\u001b[0m\u001b[0mshow\u001b[0m\u001b[0;34m(\u001b[0m\u001b[0;34m)\u001b[0m\u001b[0;34m\u001b[0m\u001b[0;34m\u001b[0m\u001b[0m\n",
            "\u001b[0;31mNameError\u001b[0m: name 'targets' is not defined"
          ]
        }
      ]
    },
    {
      "cell_type": "code",
      "execution_count": 71,
      "id": "76e46d62",
      "metadata": {
        "id": "76e46d62",
        "outputId": "5077b004-7d84-4699-c1f2-99f899363af6",
        "colab": {
          "base_uri": "https://localhost:8080/",
          "height": 235
        }
      },
      "outputs": [
        {
          "output_type": "error",
          "ename": "AttributeError",
          "evalue": "ignored",
          "traceback": [
            "\u001b[0;31m---------------------------------------------------------------------------\u001b[0m",
            "\u001b[0;31mAttributeError\u001b[0m                            Traceback (most recent call last)",
            "\u001b[0;32m<ipython-input-71-ef45c527b297>\u001b[0m in \u001b[0;36m<module>\u001b[0;34m()\u001b[0m\n\u001b[1;32m      1\u001b[0m \u001b[0;32mimport\u001b[0m \u001b[0mmatplotlib\u001b[0m\u001b[0;34m.\u001b[0m\u001b[0mpyplot\u001b[0m \u001b[0;32mas\u001b[0m \u001b[0mplt\u001b[0m\u001b[0;34m\u001b[0m\u001b[0;34m\u001b[0m\u001b[0m\n\u001b[0;32m----> 2\u001b[0;31m \u001b[0mprint\u001b[0m\u001b[0;34m(\u001b[0m\u001b[0mhistory\u001b[0m\u001b[0;34m.\u001b[0m\u001b[0mhistory\u001b[0m\u001b[0;34m.\u001b[0m\u001b[0mkeys\u001b[0m\u001b[0;34m(\u001b[0m\u001b[0;34m)\u001b[0m\u001b[0;34m)\u001b[0m\u001b[0;34m\u001b[0m\u001b[0;34m\u001b[0m\u001b[0m\n\u001b[0m\u001b[1;32m      3\u001b[0m \u001b[0mplt\u001b[0m\u001b[0;34m.\u001b[0m\u001b[0mplot\u001b[0m\u001b[0;34m(\u001b[0m\u001b[0mhistory\u001b[0m\u001b[0;34m.\u001b[0m\u001b[0mhistory\u001b[0m\u001b[0;34m[\u001b[0m\u001b[0;34m'accuracy'\u001b[0m\u001b[0;34m]\u001b[0m\u001b[0;34m)\u001b[0m\u001b[0;34m\u001b[0m\u001b[0;34m\u001b[0m\u001b[0m\n\u001b[1;32m      4\u001b[0m \u001b[0mplt\u001b[0m\u001b[0;34m.\u001b[0m\u001b[0mplot\u001b[0m\u001b[0;34m(\u001b[0m\u001b[0mhistory\u001b[0m\u001b[0;34m.\u001b[0m\u001b[0mhistory\u001b[0m\u001b[0;34m[\u001b[0m\u001b[0;34m'val_accuracy'\u001b[0m\u001b[0;34m]\u001b[0m\u001b[0;34m)\u001b[0m\u001b[0;34m\u001b[0m\u001b[0;34m\u001b[0m\u001b[0m\n\u001b[1;32m      5\u001b[0m \u001b[0;34m\u001b[0m\u001b[0m\n",
            "\u001b[0;31mAttributeError\u001b[0m: 'NoneType' object has no attribute 'history'"
          ]
        }
      ],
      "source": [
        "import matplotlib.pyplot as plt\n",
        "print(history.history.keys())\n",
        "plt.plot(history.history['accuracy'])\n",
        "plt.plot(history.history['val_accuracy'])\n",
        "\n",
        "plt.show()"
      ]
    },
    {
      "cell_type": "code",
      "source": [
        "plt.plot(history.history['loss'])\n",
        "plt.plot(history.history['val_loss'])"
      ],
      "metadata": {
        "colab": {
          "base_uri": "https://localhost:8080/",
          "height": 282
        },
        "id": "DGmbQ4SGtFvY",
        "outputId": "587d1907-ae19-489b-c7d7-22662f658f62"
      },
      "id": "DGmbQ4SGtFvY",
      "execution_count": null,
      "outputs": [
        {
          "output_type": "execute_result",
          "data": {
            "text/plain": [
              "[<matplotlib.lines.Line2D at 0x7f3b904a71d0>]"
            ]
          },
          "metadata": {},
          "execution_count": 160
        },
        {
          "output_type": "display_data",
          "data": {
            "text/plain": [
              "<Figure size 432x288 with 1 Axes>"
            ],
            "image/png": "[encoded data removed]"
          },
          "metadata": {
            "needs_background": "light"
          }
        }
      ]
    },
    {
      "cell_type": "code",
      "execution_count": null,
      "id": "182f9698",
      "metadata": {
        "id": "182f9698"
      },
      "outputs": [],
      "source": [
        "import numpy as np\n",
        "from keras.preprocessing import image\n",
        "test_image=image.load_img('/content/drive/MyDrive/drowsiness_cropped (1)/drowsiness_cropped/test/no_yawn/test_images_noyawn1.jpg',target_size=(64,64))\n",
        "\n",
        "test_image=image.img_to_array(test_image)\n",
        "test_image=np.expand_dims(test_image,axis=0)\n",
        "result=cnn.predict(test_image)\n",
        "train_generator.class_indices\n",
        "if result[0][0]==1:\n",
        "    prediction='yawn'\n",
        "if result[0][1]==1:\n",
        "    prediction='no yawn'"
      ]
    },
    {
      "cell_type": "code",
      "execution_count": null,
      "id": "f84a3583",
      "metadata": {
        "id": "f84a3583",
        "outputId": "c14ba2a8-19dc-417f-8a10-0c53821b747b",
        "colab": {
          "base_uri": "https://localhost:8080/",
          "height": 35
        }
      },
      "outputs": [
        {
          "output_type": "execute_result",
          "data": {
            "text/plain": [
              "'yawn'"
            ],
            "application/vnd.google.colaboratory.intrinsic+json": {
              "type": "string"
            }
          },
          "metadata": {},
          "execution_count": 62
        }
      ],
      "source": [
        "prediction"
      ]
    },
    {
      "cell_type": "code",
      "execution_count": null,
      "id": "49fec89e",
      "metadata": {
        "id": "49fec89e",
        "outputId": "8e39f1fb-73a6-4d79-9b42-ccef0fb6f5fc",
        "colab": {
          "base_uri": "https://localhost:8080/"
        }
      },
      "outputs": [
        {
          "output_type": "execute_result",
          "data": {
            "text/plain": [
              "{'no_yawn': 0, 'yawn': 1}"
            ]
          },
          "metadata": {},
          "execution_count": 63
        }
      ],
      "source": [
        " train_generator.class_indices\n",
        "    "
      ]
    },
    {
      "cell_type": "code",
      "execution_count": null,
      "id": "6d75b755",
      "metadata": {
        "id": "6d75b755",
        "outputId": "1bd43628-4873-47e7-c4e8-e34edd4e69bd",
        "colab": {
          "base_uri": "https://localhost:8080/"
        }
      },
      "outputs": [
        {
          "output_type": "execute_result",
          "data": {
            "text/plain": [
              "array([[1.000000e+00, 5.396631e-24]], dtype=float32)"
            ]
          },
          "metadata": {},
          "execution_count": 64
        }
      ],
      "source": [
        "result\n"
      ]
    },
    {
      "cell_type": "code",
      "source": [
        "from keras.layers import Input, Lambda, Dense, Flatten\n",
        "from keras.models import Model\n",
        "from keras.applications.vgg16 import VGG16\n",
        "from keras.applications.vgg16 import preprocess_input\n",
        "from keras.preprocessing import image\n",
        "from keras.preprocessing.image import ImageDataGenerator\n",
        "from keras.models import Sequential\n",
        "import numpy as np\n",
        "from glob import glob\n",
        "import matplotlib.pyplot as pl"
      ],
      "metadata": {
        "id": "oX9zzUKH6Sfc"
      },
      "id": "oX9zzUKH6Sfc",
      "execution_count": null,
      "outputs": []
    },
    {
      "cell_type": "code",
      "source": [
        "image_size = [224,224]"
      ],
      "metadata": {
        "id": "E5cIucIsxnyg"
      },
      "id": "E5cIucIsxnyg",
      "execution_count": null,
      "outputs": []
    },
    {
      "cell_type": "code",
      "source": [
        "train_path = '/content/drive/MyDrive/drowsiness_cropped (1)/drowsiness_cropped/train'\n",
        "valid_path = '/content/drive/MyDrive/drowsiness_cropped (1)/drowsiness_cropped/test'"
      ],
      "metadata": {
        "id": "PYgl96tszdKD"
      },
      "id": "PYgl96tszdKD",
      "execution_count": null,
      "outputs": []
    },
    {
      "cell_type": "code",
      "source": [
        "# Add the image to a batch\n",
        "from keras.preprocessing import image\n",
        "from tensorflow.keras import layers\n",
        "im=tf.keras.preprocessing.image_dataset_from_directory(\"/content/drive/MyDrive/drowsiness_cropped (1)/drowsiness_cropped/test\")"
      ],
      "metadata": {
        "id": "pUPCaU-q9ylg",
        "outputId": "0df440df-478c-49e3-dac2-9db84931ad45",
        "colab": {
          "base_uri": "https://localhost:8080/"
        }
      },
      "id": "pUPCaU-q9ylg",
      "execution_count": null,
      "outputs": [
        {
          "output_type": "stream",
          "name": "stdout",
          "text": [
            "Found 215 files belonging to 2 classes.\n"
          ]
        }
      ]
    },
    {
      "cell_type": "code",
      "source": [
        "data_augmentation = tf.keras.Sequential([\n",
        "  layers.RandomFlip(\"horizontal_and_vertical\"),\n",
        "  layers.RandomRotation(0.2),\n",
        "])\n",
        "\n",
        "# Add the image to a batch.\n",
        "image = tf.cast(tf.expand_dims(n, 0), tf.float32)\n",
        "\n",
        "plt.figure(figsize=(10, 10))\n",
        "for i in range(9):\n",
        "  augmented_image = data_augmentation(image)\n",
        "  ax = plt.subplot(3, 3, i + 1)\n",
        "  plt.imshow(augmented_image[0])\n",
        "  plt.axis(\"off\")"
      ],
      "metadata": {
        "id": "MBDmkSCb91ke",
        "outputId": "fbecea67-cb87-4a5c-b963-3db80ea71daf",
        "colab": {
          "base_uri": "https://localhost:8080/",
          "height": 694
        }
      },
      "id": "MBDmkSCb91ke",
      "execution_count": null,
      "outputs": [
        {
          "output_type": "stream",
          "name": "stderr",
          "text": [
            "Clipping input data to the valid range for imshow with RGB data ([0..1] for floats or [0..255] for integers).\n",
            "Clipping input data to the valid range for imshow with RGB data ([0..1] for floats or [0..255] for integers).\n",
            "Clipping input data to the valid range for imshow with RGB data ([0..1] for floats or [0..255] for integers).\n",
            "Clipping input data to the valid range for imshow with RGB data ([0..1] for floats or [0..255] for integers).\n",
            "Clipping input data to the valid range for imshow with RGB data ([0..1] for floats or [0..255] for integers).\n",
            "Clipping input data to the valid range for imshow with RGB data ([0..1] for floats or [0..255] for integers).\n",
            "Clipping input data to the valid range for imshow with RGB data ([0..1] for floats or [0..255] for integers).\n",
            "Clipping input data to the valid range for imshow with RGB data ([0..1] for floats or [0..255] for integers).\n",
            "Clipping input data to the valid range for imshow with RGB data ([0..1] for floats or [0..255] for integers).\n"
          ]
        },
        {
          "output_type": "display_data",
          "data": {
            "text/plain": [
              "<Figure size 720x720 with 9 Axes>"
            ],
            "image/png": "[encoded data removed]"
          },
          "metadata": {
            "needs_background": "light"
          }
        }
      ]
    },
    {
      "cell_type": "code",
      "source": [
        "im=tf.keras.preprocessing.image_dataset_from_directory(\"/content/drive/MyDrive/drowsiness_cropped (1)/drowsiness_cropped/train\")"
      ],
      "metadata": {
        "id": "mP40CpP77Iel",
        "outputId": "a7930c08-9282-44f5-dd7d-56c50931e444",
        "colab": {
          "base_uri": "https://localhost:8080/"
        }
      },
      "execution_count": null,
      "outputs": [
        {
          "output_type": "stream",
          "name": "stdout",
          "text": [
            "Found 1310 files belonging to 2 classes.\n"
          ]
        }
      ],
      "id": "mP40CpP77Iel"
    },
    {
      "cell_type": "code",
      "source": [
        "data_augmentation = tf.keras.Sequential([\n",
        "  layers.RandomFlip(\"horizontal_and_vertical\"),\n",
        "  layers.RandomRotation(0.2),\n",
        "])\n",
        "\n",
        "# Add the image to a batch.\n",
        "image = tf.cast(tf.expand_dims(n, 0), tf.float32)\n",
        "\n",
        "plt.figure(figsize=(10, 10))\n",
        "for i in range(9):\n",
        "  augmented_image = data_augmentation(image)\n",
        "  ax = plt.subplot(3, 3, i + 1)\n",
        "  plt.imshow(augmented_image[0])\n",
        "  plt.axis(\"off\")"
      ],
      "metadata": {
        "id": "bRpCPaiu-kwd",
        "outputId": "c49dbb30-bb06-4192-fead-5cde0e3ea31f",
        "colab": {
          "base_uri": "https://localhost:8080/",
          "height": 694
        }
      },
      "id": "bRpCPaiu-kwd",
      "execution_count": null,
      "outputs": [
        {
          "output_type": "stream",
          "name": "stderr",
          "text": [
            "Clipping input data to the valid range for imshow with RGB data ([0..1] for floats or [0..255] for integers).\n",
            "Clipping input data to the valid range for imshow with RGB data ([0..1] for floats or [0..255] for integers).\n",
            "Clipping input data to the valid range for imshow with RGB data ([0..1] for floats or [0..255] for integers).\n",
            "Clipping input data to the valid range for imshow with RGB data ([0..1] for floats or [0..255] for integers).\n",
            "Clipping input data to the valid range for imshow with RGB data ([0..1] for floats or [0..255] for integers).\n",
            "Clipping input data to the valid range for imshow with RGB data ([0..1] for floats or [0..255] for integers).\n",
            "Clipping input data to the valid range for imshow with RGB data ([0..1] for floats or [0..255] for integers).\n",
            "Clipping input data to the valid range for imshow with RGB data ([0..1] for floats or [0..255] for integers).\n",
            "Clipping input data to the valid range for imshow with RGB data ([0..1] for floats or [0..255] for integers).\n"
          ]
        },
        {
          "output_type": "display_data",
          "data": {
            "text/plain": [
              "<Figure size 720x720 with 9 Axes>"
            ],
            "image/png": "[encoded data removed]"
          },
          "metadata": {
            "needs_background": "light"
          }
        }
      ]
    },
    {
      "cell_type": "code",
      "source": [
        "vgg = VGG16(input_shape=image_size + [3], weights='imagenet', include_top=False)"
      ],
      "metadata": {
        "id": "PF2PK0Ya6exS"
      },
      "id": "PF2PK0Ya6exS",
      "execution_count": null,
      "outputs": []
    },
    {
      "cell_type": "code",
      "source": [
        " # don't train existing weights\n",
        "for layer in vgg.layers:\n",
        "  layer.trainable = False"
      ],
      "metadata": {
        "id": "zHQezmpxz8PS"
      },
      "id": "zHQezmpxz8PS",
      "execution_count": null,
      "outputs": []
    },
    {
      "cell_type": "code",
      "source": [
        "# useful for getting number of classes\n",
        "folders = glob(\"/content/drive/MyDrive/drowsiness_cropped (1)/drowsiness_cropped/train/*\")\n",
        "print(len(folders))"
      ],
      "metadata": {
        "id": "aQylmpIb0DEQ",
        "outputId": "ec050e13-46c8-4e43-9c56-1ef4742d9003",
        "colab": {
          "base_uri": "https://localhost:8080/"
        }
      },
      "id": "aQylmpIb0DEQ",
      "execution_count": null,
      "outputs": [
        {
          "output_type": "stream",
          "name": "stdout",
          "text": [
            "2\n"
          ]
        }
      ]
    },
    {
      "cell_type": "code",
      "source": [
        "folders"
      ],
      "metadata": {
        "id": "DdVjkK2pOHvG",
        "outputId": "8e6fb9f2-e9cf-4b04-ef48-5a130eeccd0a",
        "colab": {
          "base_uri": "https://localhost:8080/"
        }
      },
      "id": "DdVjkK2pOHvG",
      "execution_count": null,
      "outputs": [
        {
          "output_type": "execute_result",
          "data": {
            "text/plain": [
              "['/content/drive/MyDrive/drowsiness_cropped (1)/drowsiness_cropped/train/no_yawn',\n",
              " '/content/drive/MyDrive/drowsiness_cropped (1)/drowsiness_cropped/train/yawn']"
            ]
          },
          "metadata": {},
          "execution_count": 135
        }
      ]
    },
    {
      "cell_type": "code",
      "source": [
        "vgg.input"
      ],
      "metadata": {
        "id": "jmglcD7Y6kyp",
        "outputId": "74ef297a-5b0d-42f4-83f8-ad4c28c84b45",
        "colab": {
          "base_uri": "https://localhost:8080/"
        }
      },
      "id": "jmglcD7Y6kyp",
      "execution_count": null,
      "outputs": [
        {
          "output_type": "execute_result",
          "data": {
            "text/plain": [
              "<KerasTensor: shape=(None, 224, 224, 3) dtype=float32 (created by layer 'input_4')>"
            ]
          },
          "metadata": {},
          "execution_count": 136
        }
      ]
    },
    {
      "cell_type": "code",
      "source": [
        "for layer in vgg.layers:\n",
        "  layer.trainable = False"
      ],
      "metadata": {
        "id": "bUvK5W6o61ea"
      },
      "id": "bUvK5W6o61ea",
      "execution_count": null,
      "outputs": []
    },
    {
      "cell_type": "code",
      "source": [
        "x = Flatten()(vgg.output)\n",
        "# x = Dense(1000, activation='relu')(x)\n",
        "prediction = Dense(1, activation='sigmoid')(x)"
      ],
      "metadata": {
        "id": "V6xB-qX44kWx"
      },
      "id": "V6xB-qX44kWx",
      "execution_count": null,
      "outputs": []
    },
    {
      "cell_type": "code",
      "source": [
        "# create a model object\n",
        "model = Model(inputs=vgg.input, outputs=prediction)"
      ],
      "metadata": {
        "id": "qjR_VEaF0WP1"
      },
      "id": "qjR_VEaF0WP1",
      "execution_count": null,
      "outputs": []
    },
    {
      "cell_type": "code",
      "source": [
        "# view the structure of the model\n",
        "model.summary()"
      ],
      "metadata": {
        "id": "hYertYv17M_i",
        "outputId": "2136082f-13f0-4f60-c8d3-89b69bbe6df6",
        "colab": {
          "base_uri": "https://localhost:8080/"
        }
      },
      "id": "hYertYv17M_i",
      "execution_count": null,
      "outputs": [
        {
          "output_type": "stream",
          "name": "stdout",
          "text": [
            "Model: \"model_2\"\n",
            "_________________________________________________________________\n",
            " Layer (type)                Output Shape              Param #   \n",
            "=================================================================\n",
            " input_4 (InputLayer)        [(None, 224, 224, 3)]     0         \n",
            "                                                                 \n",
            " block1_conv1 (Conv2D)       (None, 224, 224, 64)      1792      \n",
            "                                                                 \n",
            " block1_conv2 (Conv2D)       (None, 224, 224, 64)      36928     \n",
            "                                                                 \n",
            " block1_pool (MaxPooling2D)  (None, 112, 112, 64)      0         \n",
            "                                                                 \n",
            " block2_conv1 (Conv2D)       (None, 112, 112, 128)     73856     \n",
            "                                                                 \n",
            " block2_conv2 (Conv2D)       (None, 112, 112, 128)     147584    \n",
            "                                                                 \n",
            " block2_pool (MaxPooling2D)  (None, 56, 56, 128)       0         \n",
            "                                                                 \n",
            " block3_conv1 (Conv2D)       (None, 56, 56, 256)       295168    \n",
            "                                                                 \n",
            " block3_conv2 (Conv2D)       (None, 56, 56, 256)       590080    \n",
            "                                                                 \n",
            " block3_conv3 (Conv2D)       (None, 56, 56, 256)       590080    \n",
            "                                                                 \n",
            " block3_pool (MaxPooling2D)  (None, 28, 28, 256)       0         \n",
            "                                                                 \n",
            " block4_conv1 (Conv2D)       (None, 28, 28, 512)       1180160   \n",
            "                                                                 \n",
            " block4_conv2 (Conv2D)       (None, 28, 28, 512)       2359808   \n",
            "                                                                 \n",
            " block4_conv3 (Conv2D)       (None, 28, 28, 512)       2359808   \n",
            "                                                                 \n",
            " block4_pool (MaxPooling2D)  (None, 14, 14, 512)       0         \n",
            "                                                                 \n",
            " block5_conv1 (Conv2D)       (None, 14, 14, 512)       2359808   \n",
            "                                                                 \n",
            " block5_conv2 (Conv2D)       (None, 14, 14, 512)       2359808   \n",
            "                                                                 \n",
            " block5_conv3 (Conv2D)       (None, 14, 14, 512)       2359808   \n",
            "                                                                 \n",
            " block5_pool (MaxPooling2D)  (None, 7, 7, 512)         0         \n",
            "                                                                 \n",
            " flatten_7 (Flatten)         (None, 25088)             0         \n",
            "                                                                 \n",
            " dense_9 (Dense)             (None, 1)                 25089     \n",
            "                                                                 \n",
            "=================================================================\n",
            "Total params: 14,739,777\n",
            "Trainable params: 25,089\n",
            "Non-trainable params: 14,714,688\n",
            "_________________________________________________________________\n"
          ]
        }
      ]
    },
    {
      "cell_type": "code",
      "source": [
        "# tell the model what cost and optimization method to use\n",
        "model.compile(\n",
        "  loss='binary_crossentropy',\n",
        "  optimizer='adam',\n",
        "  metrics=['accuracy'])"
      ],
      "metadata": {
        "id": "N_2yznjT7X4K"
      },
      "id": "N_2yznjT7X4K",
      "execution_count": null,
      "outputs": []
    },
    {
      "cell_type": "code",
      "source": [
        "from keras.preprocessing.image import ImageDataGenerator\n",
        "\n",
        "train_datagen = ImageDataGenerator(rescale = 1./255,\n",
        "                                   shear_range = 0.2,\n",
        "                                   zoom_range = 0.2,\n",
        "                                   horizontal_flip = True)"
      ],
      "metadata": {
        "id": "figeTDU17fq5"
      },
      "id": "figeTDU17fq5",
      "execution_count": null,
      "outputs": []
    },
    {
      "cell_type": "code",
      "source": [
        "test_datagen = ImageDataGenerator(rescale = 1./255)\n",
        "\n",
        "training_set = train_datagen.flow_from_directory('/content/drive/MyDrive/drowsiness_cropped (1)/drowsiness_cropped/train',\n",
        "                                                 target_size = (224, 224),\n",
        "                                                 batch_size = 32,\n",
        "                                                 class_mode = 'binary')\n",
        "\n",
        "test_set = test_datagen.flow_from_directory('/content/drive/MyDrive/drowsiness_cropped (1)/drowsiness_cropped/test',\n",
        "                                            target_size = (224, 224),\n",
        "                                            batch_size = 32,\n",
        "                                            class_mode = 'binary')"
      ],
      "metadata": {
        "id": "J1L7fUpI7p85",
        "outputId": "c0e2510b-c894-49d9-c80b-0287f525a151",
        "colab": {
          "base_uri": "https://localhost:8080/"
        }
      },
      "id": "J1L7fUpI7p85",
      "execution_count": null,
      "outputs": [
        {
          "output_type": "stream",
          "name": "stdout",
          "text": [
            "Found 1310 images belonging to 2 classes.\n",
            "Found 215 images belonging to 2 classes.\n"
          ]
        }
      ]
    },
    {
      "cell_type": "code",
      "source": [
        "from tensorflow.keras.callbacks import EarlyStopping\n",
        "early_stopping = EarlyStopping(monitor=\"val_loss\", patience=20,verbose=2)"
      ],
      "metadata": {
        "id": "kc0g_-qhidfF"
      },
      "id": "kc0g_-qhidfF",
      "execution_count": null,
      "outputs": []
    },
    {
      "cell_type": "code",
      "source": [
        "# early stopping\n",
        "history =model.fit_generator(\n",
        "  training_set,\n",
        "  validation_data=test_set,\n",
        "  epochs=10)"
      ],
      "metadata": {
        "id": "2xWlx2WNaznU",
        "outputId": "9d252f7e-e32e-437d-fbfb-44208903f7ab",
        "colab": {
          "base_uri": "https://localhost:8080/"
        }
      },
      "id": "2xWlx2WNaznU",
      "execution_count": null,
      "outputs": [
        {
          "output_type": "stream",
          "name": "stderr",
          "text": [
            "/usr/local/lib/python3.7/dist-packages/ipykernel_launcher.py:5: UserWarning: `Model.fit_generator` is deprecated and will be removed in a future version. Please use `Model.fit`, which supports generators.\n",
            "  \"\"\"\n"
          ]
        },
        {
          "output_type": "stream",
          "name": "stdout",
          "text": [
            "Epoch 1/10\n",
            "41/41 [==============================] - 22s 513ms/step - loss: 0.1431 - accuracy: 0.9603 - val_loss: 0.1581 - val_accuracy: 0.9395\n",
            "Epoch 2/10\n",
            "41/41 [==============================] - 21s 503ms/step - loss: 0.1147 - accuracy: 0.9687 - val_loss: 0.2155 - val_accuracy: 0.9302\n",
            "Epoch 3/10\n",
            "41/41 [==============================] - 21s 501ms/step - loss: 0.1176 - accuracy: 0.9718 - val_loss: 0.1546 - val_accuracy: 0.9488\n",
            "Epoch 4/10\n",
            "41/41 [==============================] - 22s 527ms/step - loss: 0.1027 - accuracy: 0.9779 - val_loss: 0.1587 - val_accuracy: 0.9209\n",
            "Epoch 5/10\n",
            "41/41 [==============================] - 20s 493ms/step - loss: 0.1194 - accuracy: 0.9656 - val_loss: 0.1676 - val_accuracy: 0.9256\n",
            "Epoch 6/10\n",
            "41/41 [==============================] - 20s 486ms/step - loss: 0.0955 - accuracy: 0.9748 - val_loss: 0.1392 - val_accuracy: 0.9349\n",
            "Epoch 7/10\n",
            "41/41 [==============================] - 20s 486ms/step - loss: 0.0847 - accuracy: 0.9809 - val_loss: 0.1347 - val_accuracy: 0.9302\n",
            "Epoch 8/10\n",
            "41/41 [==============================] - 20s 481ms/step - loss: 0.0781 - accuracy: 0.9824 - val_loss: 0.1348 - val_accuracy: 0.9349\n",
            "Epoch 9/10\n",
            "41/41 [==============================] - 20s 482ms/step - loss: 0.0852 - accuracy: 0.9817 - val_loss: 0.1275 - val_accuracy: 0.9442\n",
            "Epoch 10/10\n",
            "41/41 [==============================] - 20s 482ms/step - loss: 0.0654 - accuracy: 0.9901 - val_loss: 0.1229 - val_accuracy: 0.9442\n"
          ]
        }
      ]
    },
    {
      "cell_type": "code",
      "source": [
        "import tensorflow as tf\n",
        "from tensorflow import keras\n",
        "model=cnn\n",
        "model.save('/content/drive/MyDrive/camera/vgg16model.h5')"
      ],
      "metadata": {
        "id": "_RVp6sj8l3Mg"
      },
      "id": "_RVp6sj8l3Mg",
      "execution_count": null,
      "outputs": []
    },
    {
      "cell_type": "code",
      "source": [
        "from tensorflow import keras\n",
        "model = keras.models.load_model(\"/content/drive/MyDrive/camera/vgg16model.h5\")\n",
        "model.summary()"
      ],
      "metadata": {
        "id": "Br-X_KR0mJrL",
        "outputId": "e097043d-4108-4d34-d018-8e8001594d3f",
        "colab": {
          "base_uri": "https://localhost:8080/"
        }
      },
      "id": "Br-X_KR0mJrL",
      "execution_count": null,
      "outputs": [
        {
          "output_type": "stream",
          "name": "stdout",
          "text": [
            "Model: \"sequential_3\"\n",
            "_________________________________________________________________\n",
            " Layer (type)                Output Shape              Param #   \n",
            "=================================================================\n",
            " conv2d (Conv2D)             (None, 62, 62, 32)        896       \n",
            "                                                                 \n",
            " max_pooling2d (MaxPooling2D  (None, 31, 31, 32)       0         \n",
            " )                                                               \n",
            "                                                                 \n",
            " dropout (Dropout)           (None, 31, 31, 32)        0         \n",
            "                                                                 \n",
            " conv2d_1 (Conv2D)           (None, 29, 29, 32)        9248      \n",
            "                                                                 \n",
            " dropout_1 (Dropout)         (None, 29, 29, 32)        0         \n",
            "                                                                 \n",
            " max_pooling2d_1 (MaxPooling  (None, 14, 14, 32)       0         \n",
            " 2D)                                                             \n",
            "                                                                 \n",
            " dropout_2 (Dropout)         (None, 14, 14, 32)        0         \n",
            "                                                                 \n",
            " conv2d_2 (Conv2D)           (None, 12, 12, 64)        18496     \n",
            "                                                                 \n",
            " max_pooling2d_2 (MaxPooling  (None, 6, 6, 64)         0         \n",
            " 2D)                                                             \n",
            "                                                                 \n",
            " flatten (Flatten)           (None, 2304)              0         \n",
            "                                                                 \n",
            " dense (Dense)               (None, 128)               295040    \n",
            "                                                                 \n",
            " dropout_3 (Dropout)         (None, 128)               0         \n",
            "                                                                 \n",
            " dense_1 (Dense)             (None, 64)                8256      \n",
            "                                                                 \n",
            " dense_2 (Dense)             (None, 2)                 130       \n",
            "                                                                 \n",
            "=================================================================\n",
            "Total params: 332,066\n",
            "Trainable params: 332,066\n",
            "Non-trainable params: 0\n",
            "_________________________________________________________________\n"
          ]
        }
      ]
    },
    {
      "cell_type": "code",
      "source": [
        "# accuracy\n",
        "import matplotlib.pyplot as plt\n",
        "print(history.history.keys())\n",
        "plt.plot(history.history['accuracy'])\n",
        "plt.plot(history.history['val_accuracy'])\n",
        "\n",
        "plt.show()"
      ],
      "metadata": {
        "id": "pJ5QnnEZAewZ",
        "outputId": "300ff935-70b9-4653-deb5-9c4ac5ef97b5",
        "colab": {
          "base_uri": "https://localhost:8080/",
          "height": 282
        }
      },
      "id": "pJ5QnnEZAewZ",
      "execution_count": null,
      "outputs": [
        {
          "output_type": "stream",
          "name": "stdout",
          "text": [
            "dict_keys(['loss', 'accuracy', 'val_loss', 'val_accuracy'])\n"
          ]
        },
        {
          "output_type": "display_data",
          "data": {
            "text/plain": [
              "<Figure size 432x288 with 1 Axes>"
            ],
            "image/png": "[encoded data removed]"
          },
          "metadata": {
            "needs_background": "light"
          }
        }
      ]
    },
    {
      "cell_type": "code",
      "source": [
        "# loss\n",
        "plt.plot(history.history['loss'])\n",
        "plt.plot(history.history['val_loss'])"
      ],
      "metadata": {
        "id": "OP1J0zWYAUQq",
        "outputId": "2ca67486-11a6-4d30-a53d-74d4be731f38",
        "colab": {
          "base_uri": "https://localhost:8080/",
          "height": 282
        }
      },
      "id": "OP1J0zWYAUQq",
      "execution_count": null,
      "outputs": [
        {
          "output_type": "execute_result",
          "data": {
            "text/plain": [
              "[<matplotlib.lines.Line2D at 0x7f3b0a349e50>]"
            ]
          },
          "metadata": {},
          "execution_count": 155
        },
        {
          "output_type": "display_data",
          "data": {
            "text/plain": [
              "<Figure size 432x288 with 1 Axes>"
            ],
            "image/png": "[encoded data removed]"
          },
          "metadata": {
            "needs_background": "light"
          }
        }
      ]
    },
    {
      "cell_type": "code",
      "source": [
        "Y_pred = model.predict_generator(validation_generator)"
      ],
      "metadata": {
        "id": "V1FpU1fPn69Z",
        "outputId": "e2d2ca89-a351-4299-db90-cc828011333d",
        "colab": {
          "base_uri": "https://localhost:8080/"
        }
      },
      "id": "V1FpU1fPn69Z",
      "execution_count": 72,
      "outputs": [
        {
          "output_type": "stream",
          "name": "stderr",
          "text": [
            "/usr/local/lib/python3.7/dist-packages/ipykernel_launcher.py:1: UserWarning: `Model.predict_generator` is deprecated and will be removed in a future version. Please use `Model.predict`, which supports generators.\n",
            "  \"\"\"Entry point for launching an IPython kernel.\n"
          ]
        }
      ]
    },
    {
      "cell_type": "code",
      "source": [
        "from sklearn.metrics import confusion_matrix, ConfusionMatrixDisplay\n",
        "cm= confusion_matrix(validation_generator.classes, Y_pred)"
      ],
      "metadata": {
        "id": "BS4jaXSZn9Hv"
      },
      "id": "BS4jaXSZn9Hv",
      "execution_count": 74,
      "outputs": []
    },
    {
      "cell_type": "code",
      "source": [
        "disp = ConfusionMatrixDisplay(confusion_matrix=cm,display_labels=targets.classes_)\n",
        "disp.plot()\n",
        "plt.show()\n"
      ],
      "metadata": {
        "id": "no40676dV3fQ",
        "outputId": "f853a90e-e033-4037-d197-3c43386fee18",
        "colab": {
          "base_uri": "https://localhost:8080/",
          "height": 200
        }
      },
      "id": "no40676dV3fQ",
      "execution_count": 81,
      "outputs": [
        {
          "output_type": "error",
          "ename": "NameError",
          "evalue": "ignored",
          "traceback": [
            "\u001b[0;31m---------------------------------------------------------------------------\u001b[0m",
            "\u001b[0;31mNameError\u001b[0m                                 Traceback (most recent call last)",
            "\u001b[0;32m<ipython-input-81-45db47cfe562>\u001b[0m in \u001b[0;36m<module>\u001b[0;34m()\u001b[0m\n\u001b[0;32m----> 1\u001b[0;31m \u001b[0mdisp\u001b[0m \u001b[0;34m=\u001b[0m \u001b[0mConfusionMatrixDisplay\u001b[0m\u001b[0;34m(\u001b[0m\u001b[0mconfusion_matrix\u001b[0m\u001b[0;34m=\u001b[0m\u001b[0mcm\u001b[0m\u001b[0;34m,\u001b[0m\u001b[0mdisplay_labels\u001b[0m\u001b[0;34m=\u001b[0m\u001b[0mtargets\u001b[0m\u001b[0;34m.\u001b[0m\u001b[0mclasses_\u001b[0m\u001b[0;34m)\u001b[0m\u001b[0;34m\u001b[0m\u001b[0;34m\u001b[0m\u001b[0m\n\u001b[0m\u001b[1;32m      2\u001b[0m \u001b[0mdisp\u001b[0m\u001b[0;34m.\u001b[0m\u001b[0mplot\u001b[0m\u001b[0;34m(\u001b[0m\u001b[0;34m)\u001b[0m\u001b[0;34m\u001b[0m\u001b[0;34m\u001b[0m\u001b[0m\n\u001b[1;32m      3\u001b[0m \u001b[0mplt\u001b[0m\u001b[0;34m.\u001b[0m\u001b[0mshow\u001b[0m\u001b[0;34m(\u001b[0m\u001b[0;34m)\u001b[0m\u001b[0;34m\u001b[0m\u001b[0;34m\u001b[0m\u001b[0m\n",
            "\u001b[0;31mNameError\u001b[0m: name 'targets' is not defined"
          ]
        }
      ]
    },
    {
      "cell_type": "code",
      "source": [
        "import numpy as np\n",
        "from keras.preprocessing.image import image\n",
        "from keras.preprocessing.image import img_to_array\n",
        "from keras.models import Sequential\n",
        "from keras.layers import Dense, Activation, Flatten"
      ],
      "metadata": {
        "id": "G-4KH6FHVEi_"
      },
      "id": "G-4KH6FHVEi_",
      "execution_count": 79,
      "outputs": []
    },
    {
      "cell_type": "code",
      "source": [
        "training_set=(\"/content/drive/MyDrive/drowsiness_cropped (1)/drowsiness_cropped/train\")\n",
        "test_set=(\"/content/drive/MyDrive/drowsiness_cropped (1)/drowsiness_cropped/test\")"
      ],
      "metadata": {
        "id": "7MzZh0L2eJna"
      },
      "id": "7MzZh0L2eJna",
      "execution_count": 97,
      "outputs": []
    },
    {
      "cell_type": "code",
      "source": [
        "train_generator.class_indices\n",
        "train_datagen = ImageDataGenerator(\n",
        "        rescale=1./255,\n",
        "        shear_range=0.2,\n",
        "        zoom_range=0.2,\n",
        "        horizontal_flip=True)\n",
        "train_generator = train_datagen.flow_from_directory(\n",
        "        '/content/drive/MyDrive/drowsiness_cropped (1)/drowsiness_cropped/train',\n",
        "        target_size=(64, 64),\n",
        "        batch_size=32,\n",
        "        class_mode='binary')\n"
      ],
      "metadata": {
        "id": "LEtXedXudgbt",
        "outputId": "5b7ded1f-b591-4571-f11f-aac42df8cada",
        "colab": {
          "base_uri": "https://localhost:8080/"
        }
      },
      "id": "LEtXedXudgbt",
      "execution_count": 120,
      "outputs": [
        {
          "output_type": "stream",
          "name": "stdout",
          "text": [
            "Found 1310 images belonging to 2 classes.\n"
          ]
        }
      ]
    },
    {
      "cell_type": "code",
      "source": [
        "test_datagen = ImageDataGenerator(rescale=1./255)\n",
        "validation_generator = test_datagen.flow_from_directory(\n",
        "        '/content/drive/MyDrive/drowsiness_cropped (1)/drowsiness_cropped/test',\n",
        "        target_size=(64,64),\n",
        "        batch_size=32,\n",
        "        class_mode='binary')"
      ],
      "metadata": {
        "id": "AYWC-Fb3dfFy",
        "outputId": "080b309c-e47b-4ba3-fddb-8e22cac1326f",
        "colab": {
          "base_uri": "https://localhost:8080/"
        }
      },
      "id": "AYWC-Fb3dfFy",
      "execution_count": 99,
      "outputs": [
        {
          "output_type": "stream",
          "name": "stdout",
          "text": [
            "Found 215 images belonging to 2 classes.\n"
          ]
        }
      ]
    },
    {
      "cell_type": "code",
      "source": [
        "resnet_model = Sequential()\n",
        "\n",
        "pretrained_model= tf.keras.applications.ResNet50(include_top=False,\n",
        "                   input_shape=(64,64,3),\n",
        "                   pooling='avg',classes=2,\n",
        "                   weights='imagenet')\n",
        "for layer in pretrained_model.layers:\n",
        "        layer.trainable=False\n",
        "\n",
        "resnet_model.add(pretrained_model)"
      ],
      "metadata": {
        "id": "tt8A_jPjkhUF"
      },
      "id": "tt8A_jPjkhUF",
      "execution_count": 100,
      "outputs": []
    },
    {
      "cell_type": "code",
      "source": [
        "resnet_model.add(Flatten())\n",
        "resnet_model.add(Dense(200, activation='relu'))\n",
        "resnet_model.add(tf.keras.layers.Dropout(0.2))\n",
        "resnet_model.add(Dense(1, activation='softmax'))\n",
        "resnet_model.add(tf.keras.layers.Dropout(0.2))"
      ],
      "metadata": {
        "id": "_g9ac-t1k6A0"
      },
      "id": "_g9ac-t1k6A0",
      "execution_count": 101,
      "outputs": []
    },
    {
      "cell_type": "code",
      "source": [
        "resnet_model.summary()"
      ],
      "metadata": {
        "id": "u_ZUtncflC-r",
        "outputId": "808c787b-547c-456c-e813-cfb36e7f3fa4",
        "colab": {
          "base_uri": "https://localhost:8080/"
        }
      },
      "id": "u_ZUtncflC-r",
      "execution_count": 102,
      "outputs": [
        {
          "output_type": "stream",
          "name": "stdout",
          "text": [
            "Model: \"sequential_9\"\n",
            "_________________________________________________________________\n",
            " Layer (type)                Output Shape              Param #   \n",
            "=================================================================\n",
            " resnet50 (Functional)       (None, 2048)              23587712  \n",
            "                                                                 \n",
            " flatten_6 (Flatten)         (None, 2048)              0         \n",
            "                                                                 \n",
            " dense_19 (Dense)            (None, 200)               409800    \n",
            "                                                                 \n",
            " dropout_16 (Dropout)        (None, 200)               0         \n",
            "                                                                 \n",
            " dense_20 (Dense)            (None, 1)                 201       \n",
            "                                                                 \n",
            " dropout_17 (Dropout)        (None, 1)                 0         \n",
            "                                                                 \n",
            "=================================================================\n",
            "Total params: 23,997,713\n",
            "Trainable params: 410,001\n",
            "Non-trainable params: 23,587,712\n",
            "_________________________________________________________________\n"
          ]
        }
      ]
    },
    {
      "cell_type": "code",
      "source": [
        "resnet_model.compile(\n",
        "  loss='binary_crossentropy',\n",
        "  optimizer='RMSprop',\n",
        "  metrics=['accuracy'])"
      ],
      "metadata": {
        "id": "RdxwBG8klS9Q"
      },
      "id": "RdxwBG8klS9Q",
      "execution_count": 103,
      "outputs": []
    },
    {
      "cell_type": "code",
      "source": [
        "from tensorflow.keras.callbacks import EarlyStopping\n",
        "callback = tf.keras.callbacks.EarlyStopping(monitor='loss', patience=3)"
      ],
      "metadata": {
        "id": "A7AI92Hxe5ZB"
      },
      "id": "A7AI92Hxe5ZB",
      "execution_count": 112,
      "outputs": []
    },
    {
      "cell_type": "code",
      "source": [
        "History= model.fit_generator(train_generator,validation_data=test_set,epochs=10,verbose=1)"
      ],
      "metadata": {
        "id": "DKfBEuYojlCk",
        "outputId": "925fe3b2-e0a3-4285-9c77-4c9182a47b2f",
        "colab": {
          "base_uri": "https://localhost:8080/",
          "height": 401
        }
      },
      "id": "DKfBEuYojlCk",
      "execution_count": 124,
      "outputs": [
        {
          "output_type": "stream",
          "name": "stderr",
          "text": [
            "/usr/local/lib/python3.7/dist-packages/ipykernel_launcher.py:1: UserWarning: `Model.fit_generator` is deprecated and will be removed in a future version. Please use `Model.fit`, which supports generators.\n",
            "  \"\"\"Entry point for launching an IPython kernel.\n"
          ]
        },
        {
          "output_type": "stream",
          "name": "stdout",
          "text": [
            "Epoch 1/10\n",
            "41/41 [==============================] - ETA: 0s - loss: 0.7790 - accuracy: 0.5000"
          ]
        },
        {
          "output_type": "error",
          "ename": "IndexError",
          "evalue": "ignored",
          "traceback": [
            "\u001b[0;31m---------------------------------------------------------------------------\u001b[0m",
            "\u001b[0;31mIndexError\u001b[0m                                Traceback (most recent call last)",
            "\u001b[0;32m<ipython-input-124-93af3be02c53>\u001b[0m in \u001b[0;36m<module>\u001b[0;34m()\u001b[0m\n\u001b[0;32m----> 1\u001b[0;31m \u001b[0mHistory\u001b[0m\u001b[0;34m=\u001b[0m \u001b[0mmodel\u001b[0m\u001b[0;34m.\u001b[0m\u001b[0mfit_generator\u001b[0m\u001b[0;34m(\u001b[0m\u001b[0mtrain_generator\u001b[0m\u001b[0;34m,\u001b[0m\u001b[0mvalidation_data\u001b[0m\u001b[0;34m=\u001b[0m\u001b[0mtest_set\u001b[0m\u001b[0;34m,\u001b[0m\u001b[0mepochs\u001b[0m\u001b[0;34m=\u001b[0m\u001b[0;36m10\u001b[0m\u001b[0;34m,\u001b[0m\u001b[0mverbose\u001b[0m\u001b[0;34m=\u001b[0m\u001b[0;36m1\u001b[0m\u001b[0;34m)\u001b[0m\u001b[0;34m\u001b[0m\u001b[0;34m\u001b[0m\u001b[0m\n\u001b[0m",
            "\u001b[0;32m/usr/local/lib/python3.7/dist-packages/keras/engine/training.py\u001b[0m in \u001b[0;36mfit_generator\u001b[0;34m(self, generator, steps_per_epoch, epochs, verbose, callbacks, validation_data, validation_steps, validation_freq, class_weight, max_queue_size, workers, use_multiprocessing, shuffle, initial_epoch)\u001b[0m\n\u001b[1;32m   2221\u001b[0m         \u001b[0muse_multiprocessing\u001b[0m\u001b[0;34m=\u001b[0m\u001b[0muse_multiprocessing\u001b[0m\u001b[0;34m,\u001b[0m\u001b[0;34m\u001b[0m\u001b[0;34m\u001b[0m\u001b[0m\n\u001b[1;32m   2222\u001b[0m         \u001b[0mshuffle\u001b[0m\u001b[0;34m=\u001b[0m\u001b[0mshuffle\u001b[0m\u001b[0;34m,\u001b[0m\u001b[0;34m\u001b[0m\u001b[0;34m\u001b[0m\u001b[0m\n\u001b[0;32m-> 2223\u001b[0;31m         initial_epoch=initial_epoch)\n\u001b[0m\u001b[1;32m   2224\u001b[0m \u001b[0;34m\u001b[0m\u001b[0m\n\u001b[1;32m   2225\u001b[0m   \u001b[0;34m@\u001b[0m\u001b[0mdoc_controls\u001b[0m\u001b[0;34m.\u001b[0m\u001b[0mdo_not_generate_docs\u001b[0m\u001b[0;34m\u001b[0m\u001b[0;34m\u001b[0m\u001b[0m\n",
            "\u001b[0;32m/usr/local/lib/python3.7/dist-packages/keras/utils/traceback_utils.py\u001b[0m in \u001b[0;36merror_handler\u001b[0;34m(*args, **kwargs)\u001b[0m\n\u001b[1;32m     65\u001b[0m     \u001b[0;32mexcept\u001b[0m \u001b[0mException\u001b[0m \u001b[0;32mas\u001b[0m \u001b[0me\u001b[0m\u001b[0;34m:\u001b[0m  \u001b[0;31m# pylint: disable=broad-except\u001b[0m\u001b[0;34m\u001b[0m\u001b[0;34m\u001b[0m\u001b[0m\n\u001b[1;32m     66\u001b[0m       \u001b[0mfiltered_tb\u001b[0m \u001b[0;34m=\u001b[0m \u001b[0m_process_traceback_frames\u001b[0m\u001b[0;34m(\u001b[0m\u001b[0me\u001b[0m\u001b[0;34m.\u001b[0m\u001b[0m__traceback__\u001b[0m\u001b[0;34m)\u001b[0m\u001b[0;34m\u001b[0m\u001b[0;34m\u001b[0m\u001b[0m\n\u001b[0;32m---> 67\u001b[0;31m       \u001b[0;32mraise\u001b[0m \u001b[0me\u001b[0m\u001b[0;34m.\u001b[0m\u001b[0mwith_traceback\u001b[0m\u001b[0;34m(\u001b[0m\u001b[0mfiltered_tb\u001b[0m\u001b[0;34m)\u001b[0m \u001b[0;32mfrom\u001b[0m \u001b[0;32mNone\u001b[0m\u001b[0;34m\u001b[0m\u001b[0;34m\u001b[0m\u001b[0m\n\u001b[0m\u001b[1;32m     68\u001b[0m     \u001b[0;32mfinally\u001b[0m\u001b[0;34m:\u001b[0m\u001b[0;34m\u001b[0m\u001b[0;34m\u001b[0m\u001b[0m\n\u001b[1;32m     69\u001b[0m       \u001b[0;32mdel\u001b[0m \u001b[0mfiltered_tb\u001b[0m\u001b[0;34m\u001b[0m\u001b[0;34m\u001b[0m\u001b[0m\n",
            "\u001b[0;32m/usr/local/lib/python3.7/dist-packages/tensorflow/python/framework/tensor_shape.py\u001b[0m in \u001b[0;36m__getitem__\u001b[0;34m(self, key)\u001b[0m\n\u001b[1;32m    900\u001b[0m       \u001b[0;32melse\u001b[0m\u001b[0;34m:\u001b[0m\u001b[0;34m\u001b[0m\u001b[0;34m\u001b[0m\u001b[0m\n\u001b[1;32m    901\u001b[0m         \u001b[0;32mif\u001b[0m \u001b[0mself\u001b[0m\u001b[0;34m.\u001b[0m\u001b[0m_v2_behavior\u001b[0m\u001b[0;34m:\u001b[0m\u001b[0;34m\u001b[0m\u001b[0;34m\u001b[0m\u001b[0m\n\u001b[0;32m--> 902\u001b[0;31m           \u001b[0;32mreturn\u001b[0m \u001b[0mself\u001b[0m\u001b[0;34m.\u001b[0m\u001b[0m_dims\u001b[0m\u001b[0;34m[\u001b[0m\u001b[0mkey\u001b[0m\u001b[0;34m]\u001b[0m\u001b[0;34m.\u001b[0m\u001b[0mvalue\u001b[0m\u001b[0;34m\u001b[0m\u001b[0;34m\u001b[0m\u001b[0m\n\u001b[0m\u001b[1;32m    903\u001b[0m         \u001b[0;32melse\u001b[0m\u001b[0;34m:\u001b[0m\u001b[0;34m\u001b[0m\u001b[0;34m\u001b[0m\u001b[0m\n\u001b[1;32m    904\u001b[0m           \u001b[0;32mreturn\u001b[0m \u001b[0mself\u001b[0m\u001b[0;34m.\u001b[0m\u001b[0m_dims\u001b[0m\u001b[0;34m[\u001b[0m\u001b[0mkey\u001b[0m\u001b[0;34m]\u001b[0m\u001b[0;34m\u001b[0m\u001b[0;34m\u001b[0m\u001b[0m\n",
            "\u001b[0;31mIndexError\u001b[0m: list index out of range"
          ]
        }
      ]
    },
    {
      "cell_type": "code",
      "source": [
        "import tensorflow as tf\n",
        "from tensorflow import keras\n",
        "model=cnn\n",
        "model.save('/content/drive/MyDrive/camera/resnet50model.h5')\n"
      ],
      "metadata": {
        "id": "LQee-xwalQZ0"
      },
      "id": "LQee-xwalQZ0",
      "execution_count": 136,
      "outputs": []
    },
    {
      "cell_type": "code",
      "source": [
        "from tensorflow import keras\n",
        "model = keras.models.load_model(\"/content/drive/MyDrive/camera/vgg16model.h5\")\n",
        "model.summary()\n"
      ],
      "metadata": {
        "id": "RkaZA7G8lzcl"
      },
      "id": "RkaZA7G8lzcl",
      "execution_count": null,
      "outputs": []
    },
    {
      "cell_type": "code",
      "source": [
        "Y_pred = model.predict_generator(validation_generator)"
      ],
      "metadata": {
        "id": "RSDITRywmTRU"
      },
      "id": "RSDITRywmTRU",
      "execution_count": null,
      "outputs": []
    },
    {
      "cell_type": "code",
      "source": [
        "from sklearn.metrics import confusion_matrix, ConfusionMatrixDisplay\n",
        "Y_pred = model.predict_generator(validation_generator)\n",
        "cm= confusion_matrix(validation_generator.classes, Y_pred)\n",
        "disp = ConfusionMatrixDisplay(confusion_matrix=cm,display_labels=targets.classes_)\n",
        "disp.plot()\n",
        "plt.show()\n"
      ],
      "metadata": {
        "id": "dHlDa0UMmUdr"
      },
      "id": "dHlDa0UMmUdr",
      "execution_count": null,
      "outputs": []
    },
    {
      "cell_type": "code",
      "source": [
        "from tensorflow.keras.applications.inception_v3 import InceptionV3\n"
      ],
      "metadata": {
        "id": "TXQBoBd7k1LH"
      },
      "id": "TXQBoBd7k1LH",
      "execution_count": 137,
      "outputs": []
    },
    {
      "cell_type": "code",
      "source": [
        "pre_trained_model = InceptionV3(input_shape = (150,150,3) ,include_top = False,weights = 'imagenet')"
      ],
      "metadata": {
        "id": "7P7ADVjtk3c4"
      },
      "id": "7P7ADVjtk3c4",
      "execution_count": 138,
      "outputs": []
    },
    {
      "cell_type": "code",
      "source": [
        "for layer in pre_trained_model.layers:\n",
        "  layer.trainable = False"
      ],
      "metadata": {
        "id": "490brUZqlj8M"
      },
      "id": "490brUZqlj8M",
      "execution_count": 139,
      "outputs": []
    },
    {
      "cell_type": "code",
      "source": [
        "class myCallback(tf.keras.callbacks.Callback):\n",
        "  def on_epoch_end(self, epoch, logs={}):\n",
        "    if(logs.get('acc')>0.959):\n",
        "      print(\"\\nReached 99.9% accuracy so cancelling training!\")\n",
        "      self.model.stop_training = True"
      ],
      "metadata": {
        "id": "foe2XY9qlxsJ"
      },
      "id": "foe2XY9qlxsJ",
      "execution_count": 140,
      "outputs": []
    },
    {
      "cell_type": "code",
      "source": [
        "from tensorflow.keras.optimizers import RMSprop\n",
        "\n",
        "# Flatten the output layer to 1 dimension\n",
        "x = layers.Flatten()(pre_trained_model.output)\n",
        "# Add a fully connected layer with 1,024 hidden units and ReLU activation\n",
        "x = layers.Dense(150, activation='relu')(x)\n",
        "# Add a dropout rate of 0.2\n",
        "x = layers.Dropout(0.2)(x)                  \n",
        "# Add a final sigmoid layer for classification\n",
        "x = layers.Dense  (1, activation='sigmoid')(x)  "
      ],
      "metadata": {
        "id": "VyS50HYrl3Js"
      },
      "id": "VyS50HYrl3Js",
      "execution_count": 148,
      "outputs": []
    },
    {
      "cell_type": "code",
      "source": [
        " model=InceptionV3()\n",
        "\n",
        " model.compile(optimizer = RMSprop(lr=0.0001), \n",
        "              loss = 'binary_crossentropy', \n",
        "              metrics = ['acc'])"
      ],
      "metadata": {
        "id": "IIYcHV9QmHZs",
        "outputId": "619c2cf8-8cb6-4cd3-8154-4d7d4761b66d",
        "colab": {
          "base_uri": "https://localhost:8080/"
        }
      },
      "id": "IIYcHV9QmHZs",
      "execution_count": 149,
      "outputs": [
        {
          "output_type": "stream",
          "name": "stderr",
          "text": [
            "/usr/local/lib/python3.7/dist-packages/keras/optimizer_v2/rmsprop.py:130: UserWarning: The `lr` argument is deprecated, use `learning_rate` instead.\n",
            "  super(RMSprop, self).__init__(name, **kwargs)\n"
          ]
        }
      ]
    },
    {
      "cell_type": "code",
      "source": [
        "train_datagen = ImageDataGenerator(rescale = 1./255.,\n",
        "                                   rotation_range = 40,\n",
        "                                   width_shift_range = 0.2,\n",
        "                                   height_shift_range = 0.2,\n",
        "                                   shear_range = 0.2,\n",
        "                                   zoom_range = 0.2,\n",
        "                                   horizontal_flip = True)"
      ],
      "metadata": {
        "id": "7TX9ZPFmmNLa"
      },
      "id": "7TX9ZPFmmNLa",
      "execution_count": 150,
      "outputs": []
    },
    {
      "cell_type": "code",
      "source": [
        "test_datagen = ImageDataGenerator( rescale = 1.0/255. )\n",
        "\n",
        "# Flow training images in batches of 20 using train_datagen generator\n",
        "train_generator = train_datagen.flow_from_directory(\"/content/drive/MyDrive/drowsiness_cropped (1)/drowsiness_cropped/train\",\n",
        "                                                    batch_size = 32,\n",
        "                                                    class_mode = 'binary', \n",
        "                                                    target_size = (150,150))     \n",
        "\n",
        "# Flow validation images in batches of 20 using test_datagen generator\n",
        "validation_generator =  test_datagen.flow_from_directory( \"/content/drive/MyDrive/drowsiness_cropped (1)/drowsiness_cropped/test\",\n",
        "                                                          batch_size  = 32,\n",
        "                                                          class_mode  = 'binary', \n",
        "                                                          target_size = (150,150))"
      ],
      "metadata": {
        "id": "VjZw7owuma3L",
        "outputId": "b0141ad9-b5d5-4c7a-a48f-b3c27dbfeec5",
        "colab": {
          "base_uri": "https://localhost:8080/"
        }
      },
      "id": "VjZw7owuma3L",
      "execution_count": 151,
      "outputs": [
        {
          "output_type": "stream",
          "name": "stdout",
          "text": [
            "Found 1310 images belonging to 2 classes.\n",
            "Found 215 images belonging to 2 classes.\n"
          ]
        }
      ]
    },
    {
      "cell_type": "code",
      "source": [
        "callbacks = myCallback()\n",
        "history = model.fit_generator(\n",
        "            train_generator,validation_data =test_set,epochs =10,verbose = 2,callbacks=[callbacks])"
      ],
      "metadata": {
        "id": "Dk2KvaLdm7ZU",
        "outputId": "c385a07a-b8aa-4284-94cb-8ad62f5174be",
        "colab": {
          "base_uri": "https://localhost:8080/",
          "height": 817
        }
      },
      "id": "Dk2KvaLdm7ZU",
      "execution_count": 152,
      "outputs": [
        {
          "output_type": "stream",
          "name": "stderr",
          "text": [
            "/usr/local/lib/python3.7/dist-packages/ipykernel_launcher.py:4: UserWarning: `Model.fit_generator` is deprecated and will be removed in a future version. Please use `Model.fit`, which supports generators.\n",
            "  after removing the cwd from sys.path.\n"
          ]
        },
        {
          "output_type": "stream",
          "name": "stdout",
          "text": [
            "Epoch 1/10\n"
          ]
        },
        {
          "output_type": "error",
          "ename": "ValueError",
          "evalue": "ignored",
          "traceback": [
            "\u001b[0;31m---------------------------------------------------------------------------\u001b[0m",
            "\u001b[0;31mValueError\u001b[0m                                Traceback (most recent call last)",
            "\u001b[0;32m<ipython-input-152-b9ea4f692925>\u001b[0m in \u001b[0;36m<module>\u001b[0;34m()\u001b[0m\n\u001b[1;32m      2\u001b[0m history = model.fit_generator(\n\u001b[1;32m      3\u001b[0m             \u001b[0mtrain_generator\u001b[0m\u001b[0;34m,\u001b[0m\u001b[0;34m\u001b[0m\u001b[0;34m\u001b[0m\u001b[0m\n\u001b[0;32m----> 4\u001b[0;31m             validation_data =test_set,epochs =10,verbose = 2,callbacks=[callbacks])\n\u001b[0m",
            "\u001b[0;32m/usr/local/lib/python3.7/dist-packages/keras/engine/training.py\u001b[0m in \u001b[0;36mfit_generator\u001b[0;34m(self, generator, steps_per_epoch, epochs, verbose, callbacks, validation_data, validation_steps, validation_freq, class_weight, max_queue_size, workers, use_multiprocessing, shuffle, initial_epoch)\u001b[0m\n\u001b[1;32m   2221\u001b[0m         \u001b[0muse_multiprocessing\u001b[0m\u001b[0;34m=\u001b[0m\u001b[0muse_multiprocessing\u001b[0m\u001b[0;34m,\u001b[0m\u001b[0;34m\u001b[0m\u001b[0;34m\u001b[0m\u001b[0m\n\u001b[1;32m   2222\u001b[0m         \u001b[0mshuffle\u001b[0m\u001b[0;34m=\u001b[0m\u001b[0mshuffle\u001b[0m\u001b[0;34m,\u001b[0m\u001b[0;34m\u001b[0m\u001b[0;34m\u001b[0m\u001b[0m\n\u001b[0;32m-> 2223\u001b[0;31m         initial_epoch=initial_epoch)\n\u001b[0m\u001b[1;32m   2224\u001b[0m \u001b[0;34m\u001b[0m\u001b[0m\n\u001b[1;32m   2225\u001b[0m   \u001b[0;34m@\u001b[0m\u001b[0mdoc_controls\u001b[0m\u001b[0;34m.\u001b[0m\u001b[0mdo_not_generate_docs\u001b[0m\u001b[0;34m\u001b[0m\u001b[0;34m\u001b[0m\u001b[0m\n",
            "\u001b[0;32m/usr/local/lib/python3.7/dist-packages/keras/utils/traceback_utils.py\u001b[0m in \u001b[0;36merror_handler\u001b[0;34m(*args, **kwargs)\u001b[0m\n\u001b[1;32m     65\u001b[0m     \u001b[0;32mexcept\u001b[0m \u001b[0mException\u001b[0m \u001b[0;32mas\u001b[0m \u001b[0me\u001b[0m\u001b[0;34m:\u001b[0m  \u001b[0;31m# pylint: disable=broad-except\u001b[0m\u001b[0;34m\u001b[0m\u001b[0;34m\u001b[0m\u001b[0m\n\u001b[1;32m     66\u001b[0m       \u001b[0mfiltered_tb\u001b[0m \u001b[0;34m=\u001b[0m \u001b[0m_process_traceback_frames\u001b[0m\u001b[0;34m(\u001b[0m\u001b[0me\u001b[0m\u001b[0;34m.\u001b[0m\u001b[0m__traceback__\u001b[0m\u001b[0;34m)\u001b[0m\u001b[0;34m\u001b[0m\u001b[0;34m\u001b[0m\u001b[0m\n\u001b[0;32m---> 67\u001b[0;31m       \u001b[0;32mraise\u001b[0m \u001b[0me\u001b[0m\u001b[0;34m.\u001b[0m\u001b[0mwith_traceback\u001b[0m\u001b[0;34m(\u001b[0m\u001b[0mfiltered_tb\u001b[0m\u001b[0;34m)\u001b[0m \u001b[0;32mfrom\u001b[0m \u001b[0;32mNone\u001b[0m\u001b[0;34m\u001b[0m\u001b[0;34m\u001b[0m\u001b[0m\n\u001b[0m\u001b[1;32m     68\u001b[0m     \u001b[0;32mfinally\u001b[0m\u001b[0;34m:\u001b[0m\u001b[0;34m\u001b[0m\u001b[0;34m\u001b[0m\u001b[0m\n\u001b[1;32m     69\u001b[0m       \u001b[0;32mdel\u001b[0m \u001b[0mfiltered_tb\u001b[0m\u001b[0;34m\u001b[0m\u001b[0;34m\u001b[0m\u001b[0m\n",
            "\u001b[0;32m/usr/local/lib/python3.7/dist-packages/tensorflow/python/framework/func_graph.py\u001b[0m in \u001b[0;36mautograph_handler\u001b[0;34m(*args, **kwargs)\u001b[0m\n\u001b[1;32m   1145\u001b[0m           \u001b[0;32mexcept\u001b[0m \u001b[0mException\u001b[0m \u001b[0;32mas\u001b[0m \u001b[0me\u001b[0m\u001b[0;34m:\u001b[0m  \u001b[0;31m# pylint:disable=broad-except\u001b[0m\u001b[0;34m\u001b[0m\u001b[0;34m\u001b[0m\u001b[0m\n\u001b[1;32m   1146\u001b[0m             \u001b[0;32mif\u001b[0m \u001b[0mhasattr\u001b[0m\u001b[0;34m(\u001b[0m\u001b[0me\u001b[0m\u001b[0;34m,\u001b[0m \u001b[0;34m\"ag_error_metadata\"\u001b[0m\u001b[0;34m)\u001b[0m\u001b[0;34m:\u001b[0m\u001b[0;34m\u001b[0m\u001b[0;34m\u001b[0m\u001b[0m\n\u001b[0;32m-> 1147\u001b[0;31m               \u001b[0;32mraise\u001b[0m \u001b[0me\u001b[0m\u001b[0;34m.\u001b[0m\u001b[0mag_error_metadata\u001b[0m\u001b[0;34m.\u001b[0m\u001b[0mto_exception\u001b[0m\u001b[0;34m(\u001b[0m\u001b[0me\u001b[0m\u001b[0;34m)\u001b[0m\u001b[0;34m\u001b[0m\u001b[0;34m\u001b[0m\u001b[0m\n\u001b[0m\u001b[1;32m   1148\u001b[0m             \u001b[0;32melse\u001b[0m\u001b[0;34m:\u001b[0m\u001b[0;34m\u001b[0m\u001b[0;34m\u001b[0m\u001b[0m\n\u001b[1;32m   1149\u001b[0m               \u001b[0;32mraise\u001b[0m\u001b[0;34m\u001b[0m\u001b[0;34m\u001b[0m\u001b[0m\n",
            "\u001b[0;31mValueError\u001b[0m: in user code:\n\n    File \"/usr/local/lib/python3.7/dist-packages/keras/engine/training.py\", line 1021, in train_function  *\n        return step_function(self, iterator)\n    File \"/usr/local/lib/python3.7/dist-packages/keras/engine/training.py\", line 1010, in step_function  **\n        outputs = model.distribute_strategy.run(run_step, args=(data,))\n    File \"/usr/local/lib/python3.7/dist-packages/keras/engine/training.py\", line 1000, in run_step  **\n        outputs = model.train_step(data)\n    File \"/usr/local/lib/python3.7/dist-packages/keras/engine/training.py\", line 860, in train_step\n        loss = self.compute_loss(x, y, y_pred, sample_weight)\n    File \"/usr/local/lib/python3.7/dist-packages/keras/engine/training.py\", line 919, in compute_loss\n        y, y_pred, sample_weight, regularization_losses=self.losses)\n    File \"/usr/local/lib/python3.7/dist-packages/keras/engine/compile_utils.py\", line 201, in __call__\n        loss_value = loss_obj(y_t, y_p, sample_weight=sw)\n    File \"/usr/local/lib/python3.7/dist-packages/keras/losses.py\", line 141, in __call__\n        losses = call_fn(y_true, y_pred)\n    File \"/usr/local/lib/python3.7/dist-packages/keras/losses.py\", line 245, in call  **\n        return ag_fn(y_true, y_pred, **self._fn_kwargs)\n    File \"/usr/local/lib/python3.7/dist-packages/keras/losses.py\", line 1932, in binary_crossentropy\n        backend.binary_crossentropy(y_true, y_pred, from_logits=from_logits),\n    File \"/usr/local/lib/python3.7/dist-packages/keras/backend.py\", line 5247, in binary_crossentropy\n        return tf.nn.sigmoid_cross_entropy_with_logits(labels=target, logits=output)\n\n    ValueError: `logits` and `labels` must have the same shape, received ((None, 1000) vs (None, 1)).\n"
          ]
        }
      ]
    },
    {
      "cell_type": "code",
      "source": [
        ""
      ],
      "metadata": {
        "id": "f6dNCLPBtaHS"
      },
      "id": "f6dNCLPBtaHS",
      "execution_count": null,
      "outputs": []
    }
  ],
  "metadata": {
    "kernelspec": {
      "display_name": "Python 3 (ipykernel)",
      "language": "python",
      "name": "python3"
    },
    "language_info": {
      "codemirror_mode": {
        "name": "ipython",
        "version": 3
      },
      "file_extension": ".py",
      "mimetype": "text/x-python",
      "name": "python",
      "nbconvert_exporter": "python",
      "pygments_lexer": "ipython3",
      "version": "3.9.7"
    },
    "colab": {
      "name": "drowsiness.ipynb",
      "provenance": [],
      "collapsed_sections": [],
      "include_colab_link": true
    },
    "accelerator": "GPU"
  },
  "nbformat": 4,
  "nbformat_minor": 5
}