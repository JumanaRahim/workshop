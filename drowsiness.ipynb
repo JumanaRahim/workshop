{
  "cells": [
    {
      "cell_type": "markdown",
      "metadata": {
        "id": "view-in-github",
        "colab_type": "text"
      },
      "source": [
        "<a href=\"https://colab.research.google.com/github/JumanaRahim/workshop/blob/master/drowsiness.ipynb\" target=\"_parent\"><img src=\"https://colab.research.google.com/assets/colab-badge.svg\" alt=\"Open In Colab\"/></a>"
      ]
    },
    {
      "cell_type": "code",
      "source": [
        "!unzip /content/dataset_new.zip "
      ],
      "metadata": {
        "colab": {
          "base_uri": "https://localhost:8080/"
        },
        "id": "f5Q5s9Nor3-l",
        "outputId": "00dce164-18d4-4bb7-ec0f-931846667f35"
      },
      "id": "f5Q5s9Nor3-l",
      "execution_count": 3,
      "outputs": [
        {
          "output_type": "stream",
          "name": "stdout",
          "text": [
            "unzip:  cannot find or open /content/dataset_new.zip, /content/dataset_new.zip.zip or /content/dataset_new.zip.ZIP.\n"
          ]
        }
      ]
    },
    {
      "cell_type": "code",
      "source": [
        "from google.colab import drive\n",
        "drive.mount('/content/drive')"
      ],
      "metadata": {
        "id": "2K0DufhoESUD",
        "outputId": "55efd05b-adb3-45e1-c805-68beb77a195b",
        "colab": {
          "base_uri": "https://localhost:8080/"
        }
      },
      "id": "2K0DufhoESUD",
      "execution_count": 4,
      "outputs": [
        {
          "output_type": "stream",
          "name": "stdout",
          "text": [
            "Mounted at /content/drive\n"
          ]
        }
      ]
    },
    {
      "cell_type": "code",
      "execution_count": 5,
      "id": "0d94c358",
      "metadata": {
        "scrolled": true,
        "id": "0d94c358"
      },
      "outputs": [],
      "source": [
        "import tensorflow as tf\n",
        "import matplotlib.pyplot as plt\n",
        "import cv2"
      ]
    },
    {
      "cell_type": "code",
      "execution_count": 6,
      "id": "a89a009f",
      "metadata": {
        "id": "a89a009f"
      },
      "outputs": [],
      "source": [
        "from keras.preprocessing.image import ImageDataGenerator\n",
        "from tensorflow.keras.utils import to_categorical"
      ]
    },
    {
      "cell_type": "code",
      "execution_count": 7,
      "id": "63bd9f1c",
      "metadata": {
        "id": "63bd9f1c",
        "outputId": "6c9fd6fe-5d23-42fd-aaaa-9de06e7cf929",
        "colab": {
          "base_uri": "https://localhost:8080/"
        }
      },
      "outputs": [
        {
          "output_type": "stream",
          "name": "stdout",
          "text": [
            "Found 1310 images belonging to 2 classes.\n"
          ]
        }
      ],
      "source": [
        "train_datagen = ImageDataGenerator(\n",
        "        rescale=1./255,\n",
        "        shear_range=0.2,\n",
        "        zoom_range=0.2,\n",
        "        horizontal_flip=True)\n",
        "train_generator = train_datagen.flow_from_directory(\n",
        "        '/content/drive/MyDrive/drowsiness_cropped (1)/drowsiness_cropped/train',\n",
        "        target_size=(64, 64),\n",
        "        batch_size=32,\n",
        "        class_mode='binary')"
      ]
    },
    {
      "cell_type": "code",
      "execution_count": 8,
      "id": "e1b752bb",
      "metadata": {
        "id": "e1b752bb",
        "outputId": "795a5b0f-87e1-4928-bc92-4777273c61fd",
        "colab": {
          "base_uri": "https://localhost:8080/"
        }
      },
      "outputs": [
        {
          "output_type": "stream",
          "name": "stdout",
          "text": [
            "Found 215 images belonging to 2 classes.\n"
          ]
        }
      ],
      "source": [
        "test_datagen = ImageDataGenerator(rescale=1./255)\n",
        "validation_generator = test_datagen.flow_from_directory(\n",
        "        '/content/drive/MyDrive/drowsiness_cropped (1)/drowsiness_cropped/test',\n",
        "        target_size=(64,64),\n",
        "        batch_size=32,\n",
        "        class_mode='binary',shuffle=False)"
      ]
    },
    {
      "cell_type": "code",
      "source": [
        "im=plt.imread(\"/content/drive/MyDrive/archive/dataset_new/train/yawn/11.jpg\")\n"
      ],
      "metadata": {
        "id": "9YYZBy3asKdV"
      },
      "id": "9YYZBy3asKdV",
      "execution_count": 9,
      "outputs": []
    },
    {
      "cell_type": "code",
      "source": [
        "plt.imshow(im[20:350, 200:500, :])"
      ],
      "metadata": {
        "colab": {
          "base_uri": "https://localhost:8080/",
          "height": 286
        },
        "id": "LGTQWYgXs2m_",
        "outputId": "3592e1a0-6db6-4407-a9dd-3c1cac044b7e"
      },
      "id": "LGTQWYgXs2m_",
      "execution_count": 10,
      "outputs": [
        {
          "output_type": "execute_result",
          "data": {
            "text/plain": [
              "<matplotlib.image.AxesImage at 0x7f1ac22b5a50>"
            ]
          },
          "metadata": {},
          "execution_count": 10
        },
        {
          "output_type": "display_data",
          "data": {
            "text/plain": [
              "<Figure size 432x288 with 1 Axes>"
            ],
            "image/png": "[encoded data removed]"
          },
          "metadata": {
            "needs_background": "light"
          }
        }
      ]
    },
    {
      "cell_type": "code",
      "source": [
        "import os"
      ],
      "metadata": {
        "id": "ohsqptcjvOLl"
      },
      "id": "ohsqptcjvOLl",
      "execution_count": 11,
      "outputs": []
    },
    {
      "cell_type": "code",
      "source": [
        "import glob\n",
        "i=0\n",
        "for img in glob.glob(\"/content/drive/MyDrive/archive/dataset_new/test/no_yawn/*.jpg\"):\n",
        "  i=i+1\n",
        "\n",
        "  n= cv2.imread(img)\n",
        "  im=n[20:350, 200:500, :]\n",
        "  cv2.imwrite(os.path.join(\"/content/drowsiness_cropped/test/no_yawn\" , f'test_images_noyawn{i}.jpg'), im)"
      ],
      "metadata": {
        "id": "mYU8k9vYrVuC"
      },
      "id": "mYU8k9vYrVuC",
      "execution_count": 12,
      "outputs": []
    },
    {
      "cell_type": "code",
      "source": [
        "\n",
        "for img in glob.glob(\"/content/drive/MyDrive/archive/dataset_new/test/yawn/*.jpg\"):\n",
        "  i=i+1\n",
        "\n",
        "  n= cv2.imread(img)\n",
        "  im=n[20:350, 200:500, :]\n",
        "  cv2.imwrite(os.path.join(\"/content/drowsiness_cropped/test/yawn\" , f'test_images_yawn{i}.jpg'), im)"
      ],
      "metadata": {
        "id": "DOQS1k-lv9UZ"
      },
      "id": "DOQS1k-lv9UZ",
      "execution_count": 13,
      "outputs": []
    },
    {
      "cell_type": "code",
      "source": [
        "i=0\n",
        "for img in glob.glob(\"/content/drive/MyDrive/archive/dataset_new/train/no_yawn/*.jpg\"):\n",
        "  i=i+1\n",
        "\n",
        "  n= cv2.imread(img)\n",
        "  im=n[20:350, 200:500, :]\n",
        "  cv2.imwrite(os.path.join(\"/content/drowsiness_cropped/train/no_yawn\" , f'train_images_noyawn{i}.jpg'), im)"
      ],
      "metadata": {
        "id": "_YAeYzL5wU3W"
      },
      "id": "_YAeYzL5wU3W",
      "execution_count": 14,
      "outputs": []
    },
    {
      "cell_type": "code",
      "source": [
        "i=0\n",
        "for img in glob.glob(\"/content/drive/MyDrive/archive/dataset_new/train/yawn/*.jpg\"):\n",
        "  i=i+1\n",
        "\n",
        "  n= cv2.imread(img)\n",
        "  im=n[20:350, 200:500, :]\n",
        "  cv2.imwrite(os.path.join(\"/content/drowsiness_cropped/train/yawn\" , f'train_images_yawn{i}.jpg'), im)"
      ],
      "metadata": {
        "id": "8zVPJ8XLw1UO"
      },
      "id": "8zVPJ8XLw1UO",
      "execution_count": 15,
      "outputs": []
    },
    {
      "cell_type": "code",
      "source": [
        "# Add the image to a batch\n",
        "from keras.preprocessing import image\n",
        "from tensorflow.keras import layers\n",
        "im=tf.keras.preprocessing.image_dataset_from_directory(\"/content/drive/MyDrive/drowsiness_cropped (1)/drowsiness_cropped/test\")\n",
        "\n"
      ],
      "metadata": {
        "colab": {
          "base_uri": "https://localhost:8080/"
        },
        "id": "a9qOJBNJ9RAp",
        "outputId": "d79672aa-4b46-4f2e-d6f0-559ad9bf7aaf"
      },
      "id": "a9qOJBNJ9RAp",
      "execution_count": 16,
      "outputs": [
        {
          "output_type": "stream",
          "name": "stdout",
          "text": [
            "Found 215 files belonging to 2 classes.\n"
          ]
        }
      ]
    },
    {
      "cell_type": "code",
      "source": [
        "data_augmentation = tf.keras.Sequential([\n",
        "  layers.RandomFlip(\"horizontal_and_vertical\"),\n",
        "  layers.RandomRotation(0.2),\n",
        "])\n",
        "\n",
        "# Add the image to a batch.\n",
        "image = tf.cast(tf.expand_dims(n, 0), tf.float32)\n",
        "\n",
        "plt.figure(figsize=(10, 10))\n",
        "for i in range(9):\n",
        "  augmented_image = data_augmentation(image)\n",
        "  ax = plt.subplot(3, 3, i + 1)\n",
        "  plt.imshow(augmented_image[0])\n",
        "  plt.axis(\"off\")"
      ],
      "metadata": {
        "id": "DEDRRzkbRptH",
        "outputId": "77714402-8631-45ab-fde3-0e917c499e7b",
        "colab": {
          "base_uri": "https://localhost:8080/",
          "height": 694
        }
      },
      "id": "DEDRRzkbRptH",
      "execution_count": null,
      "outputs": [
        {
          "output_type": "stream",
          "name": "stderr",
          "text": [
            "Clipping input data to the valid range for imshow with RGB data ([0..1] for floats or [0..255] for integers).\n",
            "Clipping input data to the valid range for imshow with RGB data ([0..1] for floats or [0..255] for integers).\n",
            "Clipping input data to the valid range for imshow with RGB data ([0..1] for floats or [0..255] for integers).\n",
            "Clipping input data to the valid range for imshow with RGB data ([0..1] for floats or [0..255] for integers).\n",
            "Clipping input data to the valid range for imshow with RGB data ([0..1] for floats or [0..255] for integers).\n",
            "Clipping input data to the valid range for imshow with RGB data ([0..1] for floats or [0..255] for integers).\n",
            "Clipping input data to the valid range for imshow with RGB data ([0..1] for floats or [0..255] for integers).\n",
            "Clipping input data to the valid range for imshow with RGB data ([0..1] for floats or [0..255] for integers).\n",
            "Clipping input data to the valid range for imshow with RGB data ([0..1] for floats or [0..255] for integers).\n"
          ]
        },
        {
          "output_type": "display_data",
          "data": {
            "text/plain": [
              "<Figure size 720x720 with 9 Axes>"
            ],
            "image/png": "[encoded data removed]"
          },
          "metadata": {
            "needs_background": "light"
          }
        }
      ]
    },
    {
      "cell_type": "code",
      "source": [
        "im=tf.keras.preprocessing.image_dataset_from_directory(\"/content/drive/MyDrive/drowsiness_cropped (1)/drowsiness_cropped/train\")"
      ],
      "metadata": {
        "id": "E2aZnVIvP4nL",
        "outputId": "2c981e87-580f-4797-9308-0bd41b8acd68",
        "colab": {
          "base_uri": "https://localhost:8080/"
        }
      },
      "id": "E2aZnVIvP4nL",
      "execution_count": 17,
      "outputs": [
        {
          "output_type": "stream",
          "name": "stdout",
          "text": [
            "Found 1310 files belonging to 2 classes.\n"
          ]
        }
      ]
    },
    {
      "cell_type": "code",
      "source": [
        "data_augmentation = tf.keras.Sequential([\n",
        "  layers.RandomFlip(\"horizontal_and_vertical\"),\n",
        "  layers.RandomRotation(0.2),\n",
        "])\n",
        "\n",
        "# Add the image to a batch.\n",
        "image = tf.cast(tf.expand_dims(n, 0), tf.float32)\n",
        "\n",
        "plt.figure(figsize=(10, 10))\n",
        "for i in range(9):\n",
        "  augmented_image = data_augmentation(image)\n",
        "  ax = plt.subplot(3, 3, i + 1)\n",
        "  plt.imshow(augmented_image[0])\n",
        "  plt.axis(\"off\")"
      ],
      "metadata": {
        "colab": {
          "base_uri": "https://localhost:8080/",
          "height": 694
        },
        "id": "JOoSMICKFt0b",
        "outputId": "5fd557b1-1c78-453f-a46f-1fca2d7273a8"
      },
      "id": "JOoSMICKFt0b",
      "execution_count": 19,
      "outputs": [
        {
          "output_type": "stream",
          "name": "stderr",
          "text": [
            "WARNING:matplotlib.image:Clipping input data to the valid range for imshow with RGB data ([0..1] for floats or [0..255] for integers).\n",
            "WARNING:matplotlib.image:Clipping input data to the valid range for imshow with RGB data ([0..1] for floats or [0..255] for integers).\n",
            "WARNING:matplotlib.image:Clipping input data to the valid range for imshow with RGB data ([0..1] for floats or [0..255] for integers).\n",
            "WARNING:matplotlib.image:Clipping input data to the valid range for imshow with RGB data ([0..1] for floats or [0..255] for integers).\n",
            "WARNING:matplotlib.image:Clipping input data to the valid range for imshow with RGB data ([0..1] for floats or [0..255] for integers).\n",
            "WARNING:matplotlib.image:Clipping input data to the valid range for imshow with RGB data ([0..1] for floats or [0..255] for integers).\n",
            "WARNING:matplotlib.image:Clipping input data to the valid range for imshow with RGB data ([0..1] for floats or [0..255] for integers).\n",
            "WARNING:matplotlib.image:Clipping input data to the valid range for imshow with RGB data ([0..1] for floats or [0..255] for integers).\n",
            "WARNING:matplotlib.image:Clipping input data to the valid range for imshow with RGB data ([0..1] for floats or [0..255] for integers).\n"
          ]
        },
        {
          "output_type": "display_data",
          "data": {
            "text/plain": [
              "<Figure size 720x720 with 9 Axes>"
            ],
            "image/png": "[encoded data removed]"
          },
          "metadata": {
            "needs_background": "light"
          }
        }
      ]
    },
    {
      "cell_type": "code",
      "execution_count": 20,
      "id": "faa69274",
      "metadata": {
        "id": "faa69274"
      },
      "outputs": [],
      "source": [
        "#build CNN model\n",
        "#intialize\n",
        "cnn=tf.keras.models.Sequential()"
      ]
    },
    {
      "cell_type": "code",
      "source": [
        "from tensorflow.keras import layers"
      ],
      "metadata": {
        "id": "lmN4ejIJ0FAA"
      },
      "id": "lmN4ejIJ0FAA",
      "execution_count": 21,
      "outputs": []
    },
    {
      "cell_type": "code",
      "execution_count": 23,
      "id": "3dbb7eb7",
      "metadata": {
        "id": "3dbb7eb7"
      },
      "outputs": [],
      "source": [
        "#convolution\n",
        "from keras.regularizers import l2\n",
        "cnn=tf.keras.models.Sequential()\n",
        "cnn.add(tf.keras.layers.Conv2D(filters=32,kernel_size=3,activation='relu',input_shape=[64,64,3]))\n",
        "                              \n",
        "#Pooling\n",
        "cnn.add(tf.keras.layers.MaxPool2D(pool_size=2,strides=2))\n",
        "cnn.add(tf.keras.layers.Dropout(0.25))\n",
        "#add one more layer\n",
        "cnn.add(tf.keras.layers.Conv2D(filters=64,kernel_size=3,activation='relu'\n",
        "      ))\n",
        "cnn.add(tf.keras.layers.Dropout(0.25))\n",
        "cnn.add(tf.keras.layers.MaxPool2D(pool_size=2,strides=2))\n",
        "cnn.add(tf.keras.layers.Conv2D(filters=128,kernel_size=3,activation='relu'\n",
        "      ))\n",
        "cnn.add(tf.keras.layers.Dropout(0.25))\n",
        "#Flatten\n",
        "cnn.add(tf.keras.layers.Flatten())\n",
        "#Full Connection\n",
        "cnn.add(tf.keras.layers.Dense(units=128,activation='relu'))\n",
        "cnn.add(tf.keras.layers.Dropout(0.2))\n",
        "cnn.add(tf.keras.layers.Dense(units=64,activation='relu'))\n",
        "#Output layer\n",
        "cnn.add(tf.keras.layers.Dense(units=1,activation='sigmoid'))"
      ]
    },
    {
      "cell_type": "code",
      "execution_count": 24,
      "id": "d96484c3",
      "metadata": {
        "id": "d96484c3"
      },
      "outputs": [],
      "source": [
        "#Compile the model\n",
        "cnn.compile(optimizer='adam',\n",
        "    loss='binary_crossentropy',\n",
        "    metrics=['accuracy'])"
      ]
    },
    {
      "cell_type": "code",
      "execution_count": null,
      "id": "8bc592d6",
      "metadata": {
        "id": "8bc592d6",
        "outputId": "ae2ca151-a790-4c6b-9f0c-9c4348405fe8",
        "colab": {
          "base_uri": "https://localhost:8080/"
        }
      },
      "outputs": [
        {
          "output_type": "stream",
          "name": "stdout",
          "text": [
            "Model: \"sequential_3\"\n",
            "_________________________________________________________________\n",
            " Layer (type)                Output Shape              Param #   \n",
            "=================================================================\n",
            " conv2d (Conv2D)             (None, 62, 62, 32)        896       \n",
            "                                                                 \n",
            " max_pooling2d (MaxPooling2D  (None, 31, 31, 32)       0         \n",
            " )                                                               \n",
            "                                                                 \n",
            " dropout (Dropout)           (None, 31, 31, 32)        0         \n",
            "                                                                 \n",
            " conv2d_1 (Conv2D)           (None, 29, 29, 64)        18496     \n",
            "                                                                 \n",
            " dropout_1 (Dropout)         (None, 29, 29, 64)        0         \n",
            "                                                                 \n",
            " max_pooling2d_1 (MaxPooling  (None, 14, 14, 64)       0         \n",
            " 2D)                                                             \n",
            "                                                                 \n",
            " conv2d_2 (Conv2D)           (None, 12, 12, 128)       73856     \n",
            "                                                                 \n",
            " dropout_2 (Dropout)         (None, 12, 12, 128)       0         \n",
            "                                                                 \n",
            " flatten (Flatten)           (None, 18432)             0         \n",
            "                                                                 \n",
            " dense (Dense)               (None, 128)               2359424   \n",
            "                                                                 \n",
            " dropout_3 (Dropout)         (None, 128)               0         \n",
            "                                                                 \n",
            " dense_1 (Dense)             (None, 64)                8256      \n",
            "                                                                 \n",
            " dense_2 (Dense)             (None, 1)                 65        \n",
            "                                                                 \n",
            "=================================================================\n",
            "Total params: 2,460,993\n",
            "Trainable params: 2,460,993\n",
            "Non-trainable params: 0\n",
            "_________________________________________________________________\n"
          ]
        }
      ],
      "source": [
        "cnn.summary()"
      ]
    },
    {
      "cell_type": "code",
      "source": [
        "from tensorflow.keras.models import Model\n",
        "plot_model(cnn, to_file='model_plot.png', show_shapes=True, show_layer_names=True)"
      ],
      "metadata": {
        "id": "m_tY8JBI2wGl",
        "outputId": "c6b77c9a-c618-48ea-a69e-1da0ff022deb",
        "colab": {
          "base_uri": "https://localhost:8080/",
          "height": 1000
        }
      },
      "id": "m_tY8JBI2wGl",
      "execution_count": null,
      "outputs": [
        {
          "output_type": "execute_result",
          "data": {
            "text/plain": [
              "<IPython.core.display.Image object>"
            ],
            "image/png": "[encoded data removed]"
          },
          "metadata": {},
          "execution_count": 31
        }
      ]
    },
    {
      "cell_type": "code",
      "execution_count": null,
      "id": "afa10b06",
      "metadata": {
        "id": "afa10b06",
        "outputId": "cc003b7b-3768-4624-cd9d-88bc477f6967",
        "colab": {
          "base_uri": "https://localhost:8080/"
        }
      },
      "outputs": [
        {
          "output_type": "stream",
          "name": "stdout",
          "text": [
            "Epoch 1/50\n",
            "41/41 [==============================] - 7s 166ms/step - loss: 0.0490 - accuracy: 0.9824 - val_loss: 0.0896 - val_accuracy: 0.9814\n",
            "Epoch 2/50\n",
            "41/41 [==============================] - 11s 272ms/step - loss: 0.0589 - accuracy: 0.9763 - val_loss: 0.0664 - val_accuracy: 0.9721\n",
            "Epoch 3/50\n",
            "41/41 [==============================] - 14s 330ms/step - loss: 0.0528 - accuracy: 0.9794 - val_loss: 0.0919 - val_accuracy: 0.9767\n",
            "Epoch 4/50\n",
            "41/41 [==============================] - 7s 159ms/step - loss: 0.0432 - accuracy: 0.9855 - val_loss: 0.0681 - val_accuracy: 0.9767\n",
            "Epoch 5/50\n",
            "41/41 [==============================] - 7s 160ms/step - loss: 0.0270 - accuracy: 0.9916 - val_loss: 0.1253 - val_accuracy: 0.9674\n",
            "Epoch 6/50\n",
            "41/41 [==============================] - 7s 159ms/step - loss: 0.0370 - accuracy: 0.9885 - val_loss: 0.0847 - val_accuracy: 0.9721\n",
            "Epoch 7/50\n",
            "41/41 [==============================] - 6s 157ms/step - loss: 0.0892 - accuracy: 0.9710 - val_loss: 0.0929 - val_accuracy: 0.9721\n",
            "Epoch 8/50\n",
            "41/41 [==============================] - 6s 158ms/step - loss: 0.0741 - accuracy: 0.9733 - val_loss: 0.0815 - val_accuracy: 0.9721\n",
            "Epoch 9/50\n",
            "41/41 [==============================] - 7s 161ms/step - loss: 0.0627 - accuracy: 0.9763 - val_loss: 0.0828 - val_accuracy: 0.9674\n",
            "Epoch 10/50\n",
            "41/41 [==============================] - 8s 186ms/step - loss: 0.0669 - accuracy: 0.9725 - val_loss: 0.0412 - val_accuracy: 0.9907\n",
            "Epoch 11/50\n",
            "41/41 [==============================] - 6s 158ms/step - loss: 0.0410 - accuracy: 0.9855 - val_loss: 0.0783 - val_accuracy: 0.9814\n",
            "Epoch 12/50\n",
            "41/41 [==============================] - 7s 160ms/step - loss: 0.0477 - accuracy: 0.9809 - val_loss: 0.0760 - val_accuracy: 0.9814\n",
            "Epoch 13/50\n",
            "41/41 [==============================] - 7s 160ms/step - loss: 0.0559 - accuracy: 0.9809 - val_loss: 0.0700 - val_accuracy: 0.9814\n",
            "Epoch 14/50\n",
            "41/41 [==============================] - 7s 159ms/step - loss: 0.0425 - accuracy: 0.9840 - val_loss: 0.0599 - val_accuracy: 0.9721\n",
            "Epoch 15/50\n",
            "41/41 [==============================] - 7s 159ms/step - loss: 0.0283 - accuracy: 0.9893 - val_loss: 0.0679 - val_accuracy: 0.9814\n",
            "Epoch 16/50\n",
            "41/41 [==============================] - 7s 159ms/step - loss: 0.0383 - accuracy: 0.9878 - val_loss: 0.0363 - val_accuracy: 0.9907\n",
            "Epoch 17/50\n",
            "41/41 [==============================] - 7s 160ms/step - loss: 0.0512 - accuracy: 0.9802 - val_loss: 0.0776 - val_accuracy: 0.9814\n",
            "Epoch 18/50\n",
            "41/41 [==============================] - 7s 175ms/step - loss: 0.0498 - accuracy: 0.9802 - val_loss: 0.0395 - val_accuracy: 0.9860\n",
            "Epoch 19/50\n",
            "41/41 [==============================] - 7s 161ms/step - loss: 0.0443 - accuracy: 0.9840 - val_loss: 0.0607 - val_accuracy: 0.9767\n",
            "Epoch 20/50\n",
            "41/41 [==============================] - 7s 159ms/step - loss: 0.0498 - accuracy: 0.9794 - val_loss: 0.0936 - val_accuracy: 0.9721\n",
            "Epoch 21/50\n",
            "41/41 [==============================] - 7s 161ms/step - loss: 0.0431 - accuracy: 0.9802 - val_loss: 0.0601 - val_accuracy: 0.9814\n",
            "Epoch 22/50\n",
            "41/41 [==============================] - 7s 159ms/step - loss: 0.0438 - accuracy: 0.9817 - val_loss: 0.1887 - val_accuracy: 0.9535\n",
            "Epoch 23/50\n",
            "41/41 [==============================] - 7s 159ms/step - loss: 0.0305 - accuracy: 0.9878 - val_loss: 0.0902 - val_accuracy: 0.9721\n",
            "Epoch 24/50\n",
            "41/41 [==============================] - 7s 160ms/step - loss: 0.0301 - accuracy: 0.9916 - val_loss: 0.0983 - val_accuracy: 0.9767\n",
            "Epoch 25/50\n",
            "41/41 [==============================] - 7s 159ms/step - loss: 0.0434 - accuracy: 0.9840 - val_loss: 0.0758 - val_accuracy: 0.9767\n",
            "Epoch 26/50\n",
            "41/41 [==============================] - 7s 162ms/step - loss: 0.0440 - accuracy: 0.9832 - val_loss: 0.1153 - val_accuracy: 0.9767\n",
            "Epoch 27/50\n",
            "41/41 [==============================] - 6s 159ms/step - loss: 0.0451 - accuracy: 0.9885 - val_loss: 0.0612 - val_accuracy: 0.9860\n",
            "Epoch 28/50\n",
            "41/41 [==============================] - 7s 160ms/step - loss: 0.0407 - accuracy: 0.9870 - val_loss: 0.0530 - val_accuracy: 0.9767\n",
            "Epoch 29/50\n",
            "41/41 [==============================] - 7s 184ms/step - loss: 0.0533 - accuracy: 0.9824 - val_loss: 0.0747 - val_accuracy: 0.9721\n",
            "Epoch 30/50\n",
            "41/41 [==============================] - 6s 158ms/step - loss: 0.0245 - accuracy: 0.9908 - val_loss: 0.0846 - val_accuracy: 0.9767\n",
            "Epoch 31/50\n",
            "41/41 [==============================] - 7s 159ms/step - loss: 0.0323 - accuracy: 0.9885 - val_loss: 0.1110 - val_accuracy: 0.9721\n",
            "Epoch 32/50\n",
            "41/41 [==============================] - 6s 158ms/step - loss: 0.0455 - accuracy: 0.9802 - val_loss: 0.0840 - val_accuracy: 0.9814\n",
            "Epoch 33/50\n",
            "41/41 [==============================] - 7s 159ms/step - loss: 0.0487 - accuracy: 0.9817 - val_loss: 0.0404 - val_accuracy: 0.9907\n",
            "Epoch 34/50\n",
            "41/41 [==============================] - 7s 181ms/step - loss: 0.0413 - accuracy: 0.9832 - val_loss: 0.0527 - val_accuracy: 0.9860\n",
            "Epoch 35/50\n",
            "41/41 [==============================] - 7s 164ms/step - loss: 0.0355 - accuracy: 0.9885 - val_loss: 0.0615 - val_accuracy: 0.9814\n",
            "Epoch 36/50\n",
            "41/41 [==============================] - 7s 161ms/step - loss: 0.0309 - accuracy: 0.9893 - val_loss: 0.0599 - val_accuracy: 0.9814\n",
            "Epoch 37/50\n",
            "41/41 [==============================] - 7s 160ms/step - loss: 0.0354 - accuracy: 0.9878 - val_loss: 0.0625 - val_accuracy: 0.9767\n",
            "Epoch 38/50\n",
            "41/41 [==============================] - 6s 159ms/step - loss: 0.0401 - accuracy: 0.9870 - val_loss: 0.0514 - val_accuracy: 0.9767\n",
            "Epoch 39/50\n",
            "41/41 [==============================] - 7s 159ms/step - loss: 0.0321 - accuracy: 0.9885 - val_loss: 0.0793 - val_accuracy: 0.9721\n",
            "Epoch 40/50\n",
            "41/41 [==============================] - 7s 160ms/step - loss: 0.0387 - accuracy: 0.9840 - val_loss: 0.0275 - val_accuracy: 0.9860\n",
            "Epoch 41/50\n",
            "41/41 [==============================] - 7s 160ms/step - loss: 0.0295 - accuracy: 0.9878 - val_loss: 0.1180 - val_accuracy: 0.9814\n",
            "Epoch 42/50\n",
            "41/41 [==============================] - 7s 161ms/step - loss: 0.0236 - accuracy: 0.9916 - val_loss: 0.0745 - val_accuracy: 0.9767\n",
            "Epoch 43/50\n",
            "41/41 [==============================] - 7s 160ms/step - loss: 0.0425 - accuracy: 0.9855 - val_loss: 0.1006 - val_accuracy: 0.9767\n",
            "Epoch 44/50\n",
            "41/41 [==============================] - 7s 160ms/step - loss: 0.0456 - accuracy: 0.9863 - val_loss: 0.0772 - val_accuracy: 0.9767\n",
            "Epoch 45/50\n",
            "41/41 [==============================] - 7s 160ms/step - loss: 0.0230 - accuracy: 0.9901 - val_loss: 0.0669 - val_accuracy: 0.9860\n",
            "Epoch 46/50\n",
            "41/41 [==============================] - 7s 183ms/step - loss: 0.0274 - accuracy: 0.9885 - val_loss: 0.0796 - val_accuracy: 0.9814\n",
            "Epoch 47/50\n",
            "41/41 [==============================] - 6s 159ms/step - loss: 0.0300 - accuracy: 0.9893 - val_loss: 0.0586 - val_accuracy: 0.9721\n",
            "Epoch 48/50\n",
            "41/41 [==============================] - 7s 159ms/step - loss: 0.0197 - accuracy: 0.9931 - val_loss: 0.0577 - val_accuracy: 0.9814\n",
            "Epoch 49/50\n",
            "41/41 [==============================] - 7s 172ms/step - loss: 0.0293 - accuracy: 0.9885 - val_loss: 0.0772 - val_accuracy: 0.9767\n",
            "Epoch 50/50\n",
            "41/41 [==============================] - 6s 157ms/step - loss: 0.0403 - accuracy: 0.9847 - val_loss: 0.0609 - val_accuracy: 0.9860\n"
          ]
        }
      ],
      "source": [
        "history=cnn.fit(x=train_generator,validation_data=validation_generator,epochs=50)"
      ]
    },
    {
      "cell_type": "code",
      "source": [
        "from matplotlib import pyplot as plt\n",
        "\n",
        "plt.plot(history.history['accuracy'])\n",
        "plt.plot(history.history['val_accuracy'])\n",
        "plt.title('model accuracy')\n",
        "plt.ylabel('accuracy')\n",
        "plt.xlabel('epoch')\n",
        "plt.legend(['train', 'val'], loc='upper left')\n",
        "plt.show()"
      ],
      "metadata": {
        "colab": {
          "base_uri": "https://localhost:8080/",
          "height": 295
        },
        "id": "0Lj9PJ_h8R8g",
        "outputId": "e49e30a4-90c3-4c08-ad67-cfb69c35ba51"
      },
      "id": "0Lj9PJ_h8R8g",
      "execution_count": null,
      "outputs": [
        {
          "output_type": "display_data",
          "data": {
            "text/plain": [
              "<Figure size 432x288 with 1 Axes>"
            ],
            "image/png": "[encoded data removed]"
          },
          "metadata": {
            "needs_background": "light"
          }
        }
      ]
    },
    {
      "cell_type": "code",
      "source": [
        "from matplotlib import pyplot as plt\n",
        "\n",
        "plt.plot(history.history['loss'])\n",
        "plt.plot(history.history['val_loss'])\n",
        "plt.title('model loss')\n",
        "plt.ylabel('loss')\n",
        "plt.xlabel('epoch')\n",
        "plt.legend(['train', 'val'], loc='upper left')\n",
        "plt.show()"
      ],
      "metadata": {
        "colab": {
          "base_uri": "https://localhost:8080/",
          "height": 295
        },
        "id": "JnDXZnGY8gYC",
        "outputId": "97aad0a9-d68d-4851-ae42-758465c6e67f"
      },
      "id": "JnDXZnGY8gYC",
      "execution_count": null,
      "outputs": [
        {
          "output_type": "display_data",
          "data": {
            "text/plain": [
              "<Figure size 432x288 with 1 Axes>"
            ],
            "image/png": "[encoded data removed]"
          },
          "metadata": {
            "needs_background": "light"
          }
        }
      ]
    },
    {
      "cell_type": "code",
      "source": [
        "!pip install visualkeras"
      ],
      "metadata": {
        "id": "lTYuvbajO5Bm",
        "outputId": "5d53e0d6-68da-491f-919a-0371d25e551f",
        "colab": {
          "base_uri": "https://localhost:8080/"
        }
      },
      "id": "lTYuvbajO5Bm",
      "execution_count": null,
      "outputs": [
        {
          "output_type": "stream",
          "name": "stdout",
          "text": [
            "Looking in indexes: https://pypi.org/simple, https://us-python.pkg.dev/colab-wheels/public/simple/\n",
            "Requirement already satisfied: visualkeras in /usr/local/lib/python3.7/dist-packages (0.0.2)\n",
            "Requirement already satisfied: pillow>=6.2.0 in /usr/local/lib/python3.7/dist-packages (from visualkeras) (7.1.2)\n",
            "Requirement already satisfied: aggdraw>=1.3.11 in /usr/local/lib/python3.7/dist-packages (from visualkeras) (1.3.15)\n",
            "Requirement already satisfied: numpy>=1.18.1 in /usr/local/lib/python3.7/dist-packages (from visualkeras) (1.21.6)\n"
          ]
        }
      ]
    },
    {
      "cell_type": "code",
      "source": [
        "import visualkeras\n",
        "visualkeras.layered_view(cnn,legend=True)"
      ],
      "metadata": {
        "id": "e2AeIwzZc8PX",
        "outputId": "1edb81fe-3835-488b-939a-9cbb116b3dae",
        "colab": {
          "base_uri": "https://localhost:8080/",
          "height": 384
        }
      },
      "id": "e2AeIwzZc8PX",
      "execution_count": null,
      "outputs": [
        {
          "output_type": "execute_result",
          "data": {
            "text/plain": [
              "<PIL.Image.Image image mode=RGBA size=825x367 at 0x7FD24419DC50>"
            ],
            "image/png": "[encoded data removed]"
          },
          "metadata": {},
          "execution_count": 40
        }
      ]
    },
    {
      "cell_type": "code",
      "source": [
        "import tensorflow as tf\n",
        "from tensorflow import keras\n",
        "model=cnn\n",
        "model.save('/content/drive/MyDrive/camera/cnnmodel.h5')"
      ],
      "metadata": {
        "id": "GmUCUfVsLtqZ"
      },
      "id": "GmUCUfVsLtqZ",
      "execution_count": null,
      "outputs": []
    },
    {
      "cell_type": "code",
      "source": [
        "from tensorflow import keras\n",
        "model = keras.models.load_model('/content/drive/MyDrive/camera/cnnmodel.h5')\n",
        "history=model.summary()\n",
        "model.summary()"
      ],
      "metadata": {
        "id": "sDNN2be6Mm-F",
        "outputId": "be99793d-edf1-4ea0-bbee-904632433c4d",
        "colab": {
          "base_uri": "https://localhost:8080/"
        }
      },
      "id": "sDNN2be6Mm-F",
      "execution_count": null,
      "outputs": [
        {
          "output_type": "stream",
          "name": "stdout",
          "text": [
            "Model: \"sequential_8\"\n",
            "_________________________________________________________________\n",
            " Layer (type)                Output Shape              Param #   \n",
            "=================================================================\n",
            " conv2d_12 (Conv2D)          (None, 62, 62, 32)        896       \n",
            "                                                                 \n",
            " max_pooling2d_10 (MaxPoolin  (None, 31, 31, 32)       0         \n",
            " g2D)                                                            \n",
            "                                                                 \n",
            " dropout_20 (Dropout)        (None, 31, 31, 32)        0         \n",
            "                                                                 \n",
            " conv2d_13 (Conv2D)          (None, 29, 29, 64)        18496     \n",
            "                                                                 \n",
            " dropout_21 (Dropout)        (None, 29, 29, 64)        0         \n",
            "                                                                 \n",
            " max_pooling2d_11 (MaxPoolin  (None, 14, 14, 64)       0         \n",
            " g2D)                                                            \n",
            "                                                                 \n",
            " conv2d_14 (Conv2D)          (None, 12, 12, 128)       73856     \n",
            "                                                                 \n",
            " dropout_22 (Dropout)        (None, 12, 12, 128)       0         \n",
            "                                                                 \n",
            " flatten_4 (Flatten)         (None, 18432)             0         \n",
            "                                                                 \n",
            " dense_14 (Dense)            (None, 128)               2359424   \n",
            "                                                                 \n",
            " dropout_23 (Dropout)        (None, 128)               0         \n",
            "                                                                 \n",
            " dense_15 (Dense)            (None, 64)                8256      \n",
            "                                                                 \n",
            " dense_16 (Dense)            (None, 1)                 65        \n",
            "                                                                 \n",
            "=================================================================\n",
            "Total params: 2,460,993\n",
            "Trainable params: 2,460,993\n",
            "Non-trainable params: 0\n",
            "_________________________________________________________________\n",
            "Model: \"sequential_8\"\n",
            "_________________________________________________________________\n",
            " Layer (type)                Output Shape              Param #   \n",
            "=================================================================\n",
            " conv2d_12 (Conv2D)          (None, 62, 62, 32)        896       \n",
            "                                                                 \n",
            " max_pooling2d_10 (MaxPoolin  (None, 31, 31, 32)       0         \n",
            " g2D)                                                            \n",
            "                                                                 \n",
            " dropout_20 (Dropout)        (None, 31, 31, 32)        0         \n",
            "                                                                 \n",
            " conv2d_13 (Conv2D)          (None, 29, 29, 64)        18496     \n",
            "                                                                 \n",
            " dropout_21 (Dropout)        (None, 29, 29, 64)        0         \n",
            "                                                                 \n",
            " max_pooling2d_11 (MaxPoolin  (None, 14, 14, 64)       0         \n",
            " g2D)                                                            \n",
            "                                                                 \n",
            " conv2d_14 (Conv2D)          (None, 12, 12, 128)       73856     \n",
            "                                                                 \n",
            " dropout_22 (Dropout)        (None, 12, 12, 128)       0         \n",
            "                                                                 \n",
            " flatten_4 (Flatten)         (None, 18432)             0         \n",
            "                                                                 \n",
            " dense_14 (Dense)            (None, 128)               2359424   \n",
            "                                                                 \n",
            " dropout_23 (Dropout)        (None, 128)               0         \n",
            "                                                                 \n",
            " dense_15 (Dense)            (None, 64)                8256      \n",
            "                                                                 \n",
            " dense_16 (Dense)            (None, 1)                 65        \n",
            "                                                                 \n",
            "=================================================================\n",
            "Total params: 2,460,993\n",
            "Trainable params: 2,460,993\n",
            "Non-trainable params: 0\n",
            "_________________________________________________________________\n"
          ]
        }
      ]
    },
    {
      "cell_type": "code",
      "source": [],
      "metadata": {
        "id": "vYIEKpAE2om7"
      },
      "id": "vYIEKpAE2om7",
      "execution_count": null,
      "outputs": []
    },
    {
      "cell_type": "code",
      "source": [
        "Y_pred = cnn.predict_generator(validation_generator)"
      ],
      "metadata": {
        "id": "LygxjvTVPMK0",
        "outputId": "ad221bc3-0dc7-4620-d968-388e35a57b8f",
        "colab": {
          "base_uri": "https://localhost:8080/"
        }
      },
      "id": "LygxjvTVPMK0",
      "execution_count": null,
      "outputs": [
        {
          "output_type": "stream",
          "name": "stderr",
          "text": [
            "/usr/local/lib/python3.7/dist-packages/ipykernel_launcher.py:1: UserWarning: `Model.predict_generator` is deprecated and will be removed in a future version. Please use `Model.predict`, which supports generators.\n",
            "  \"\"\"Entry point for launching an IPython kernel.\n"
          ]
        }
      ]
    },
    {
      "cell_type": "code",
      "source": [
        "score = cnn.evaluate(validation_generator)\n",
        "print(score)"
      ],
      "metadata": {
        "colab": {
          "base_uri": "https://localhost:8080/"
        },
        "id": "Qqelq5pt-Lsv",
        "outputId": "c632c6e0-a582-4648-8e74-66980482f76a"
      },
      "id": "Qqelq5pt-Lsv",
      "execution_count": null,
      "outputs": [
        {
          "output_type": "stream",
          "name": "stdout",
          "text": [
            "7/7 [==============================] - 1s 95ms/step - loss: 0.0991 - accuracy: 0.9721\n",
            "[0.09913408011198044, 0.9720930457115173]\n"
          ]
        }
      ]
    },
    {
      "cell_type": "code",
      "source": [
        "score = cnn.evaluate_generator(validation_generator)"
      ],
      "metadata": {
        "colab": {
          "base_uri": "https://localhost:8080/"
        },
        "id": "0ryb3ISAJHWS",
        "outputId": "7ec236ec-b4f2-4f9a-df84-2778d17e82cb"
      },
      "id": "0ryb3ISAJHWS",
      "execution_count": null,
      "outputs": [
        {
          "output_type": "stream",
          "name": "stderr",
          "text": [
            "/usr/local/lib/python3.7/dist-packages/ipykernel_launcher.py:1: UserWarning: `Model.evaluate_generator` is deprecated and will be removed in a future version. Please use `Model.evaluate`, which supports generators.\n",
            "  \"\"\"Entry point for launching an IPython kernel.\n"
          ]
        }
      ]
    },
    {
      "cell_type": "code",
      "source": [
        "score"
      ],
      "metadata": {
        "colab": {
          "base_uri": "https://localhost:8080/"
        },
        "id": "7ye03fQFJNuL",
        "outputId": "a4a88567-7910-4f14-f219-b63d2f686ecf"
      },
      "id": "7ye03fQFJNuL",
      "execution_count": null,
      "outputs": [
        {
          "output_type": "execute_result",
          "data": {
            "text/plain": [
              "[0.09913408011198044, 0.9720930457115173]"
            ]
          },
          "metadata": {},
          "execution_count": 115
        }
      ]
    },
    {
      "cell_type": "code",
      "source": [
        "validation_generator.classes"
      ],
      "metadata": {
        "id": "EAxm_03QpyM8",
        "outputId": "6cb3b07e-82d6-4117-be0b-67bca469a70e",
        "colab": {
          "base_uri": "https://localhost:8080/"
        }
      },
      "id": "EAxm_03QpyM8",
      "execution_count": null,
      "outputs": [
        {
          "output_type": "execute_result",
          "data": {
            "text/plain": [
              "array([0, 0, 0, 0, 0, 0, 0, 0, 0, 0, 0, 0, 0, 0, 0, 0, 0, 0, 0, 0, 0, 0,\n",
              "       0, 0, 0, 0, 0, 0, 0, 0, 0, 0, 0, 0, 0, 0, 0, 0, 0, 0, 0, 0, 0, 0,\n",
              "       0, 0, 0, 0, 0, 0, 0, 0, 0, 0, 0, 0, 0, 0, 0, 0, 0, 0, 0, 0, 0, 0,\n",
              "       0, 0, 0, 0, 0, 0, 0, 0, 0, 0, 0, 0, 0, 0, 0, 0, 0, 0, 0, 0, 0, 0,\n",
              "       0, 0, 0, 0, 0, 0, 0, 0, 0, 0, 0, 0, 0, 0, 0, 0, 0, 0, 0, 0, 0, 1,\n",
              "       1, 1, 1, 1, 1, 1, 1, 1, 1, 1, 1, 1, 1, 1, 1, 1, 1, 1, 1, 1, 1, 1,\n",
              "       1, 1, 1, 1, 1, 1, 1, 1, 1, 1, 1, 1, 1, 1, 1, 1, 1, 1, 1, 1, 1, 1,\n",
              "       1, 1, 1, 1, 1, 1, 1, 1, 1, 1, 1, 1, 1, 1, 1, 1, 1, 1, 1, 1, 1, 1,\n",
              "       1, 1, 1, 1, 1, 1, 1, 1, 1, 1, 1, 1, 1, 1, 1, 1, 1, 1, 1, 1, 1, 1,\n",
              "       1, 1, 1, 1, 1, 1, 1, 1, 1, 1, 1, 1, 1, 1, 1, 1, 1], dtype=int32)"
            ]
          },
          "metadata": {},
          "execution_count": 116
        }
      ]
    },
    {
      "cell_type": "code",
      "source": [
        "Y_pred"
      ],
      "metadata": {
        "id": "47gbBr_cp1Wh",
        "outputId": "515fc184-c712-4a87-ec48-94f65096b314",
        "colab": {
          "base_uri": "https://localhost:8080/"
        }
      },
      "id": "47gbBr_cp1Wh",
      "execution_count": null,
      "outputs": [
        {
          "output_type": "execute_result",
          "data": {
            "text/plain": [
              "array([[2.9161962e-04],\n",
              "       [1.0908221e-04],\n",
              "       [2.1459507e-06],\n",
              "       [4.6752964e-04],\n",
              "       [9.6465768e-03],\n",
              "       [3.1534100e-09],\n",
              "       [5.5459436e-02],\n",
              "       [7.6366402e-02],\n",
              "       [1.4354962e-04],\n",
              "       [2.1683923e-03],\n",
              "       [1.7790349e-04],\n",
              "       [5.5309222e-04],\n",
              "       [9.7387666e-03],\n",
              "       [2.8982988e-01],\n",
              "       [3.8312585e-03],\n",
              "       [3.4391407e-02],\n",
              "       [1.8371435e-02],\n",
              "       [1.1447028e-03],\n",
              "       [1.5932595e-04],\n",
              "       [1.4151791e-03],\n",
              "       [1.3614725e-03],\n",
              "       [6.7564738e-03],\n",
              "       [6.7308205e-03],\n",
              "       [2.0468990e-04],\n",
              "       [1.2284523e-02],\n",
              "       [2.9625667e-03],\n",
              "       [1.4740875e-03],\n",
              "       [1.4021104e-03],\n",
              "       [7.9914375e-04],\n",
              "       [3.5373471e-04],\n",
              "       [1.0381978e-03],\n",
              "       [5.2981242e-04],\n",
              "       [2.7188212e-03],\n",
              "       [3.4767610e-04],\n",
              "       [1.1996420e-04],\n",
              "       [2.7056556e-02],\n",
              "       [9.3068513e-05],\n",
              "       [1.3750839e-05],\n",
              "       [5.9265457e-04],\n",
              "       [8.5056955e-03],\n",
              "       [2.5628094e-04],\n",
              "       [8.5773048e-05],\n",
              "       [2.6549544e-04],\n",
              "       [2.9267708e-03],\n",
              "       [5.7889760e-04],\n",
              "       [6.1022914e-03],\n",
              "       [3.3222164e-03],\n",
              "       [3.8336322e-04],\n",
              "       [4.4254838e-03],\n",
              "       [1.0852310e-04],\n",
              "       [2.9988727e-04],\n",
              "       [2.4411203e-02],\n",
              "       [2.6209562e-03],\n",
              "       [2.3055628e-03],\n",
              "       [1.0181057e-03],\n",
              "       [1.6024666e-03],\n",
              "       [5.6583602e-03],\n",
              "       [8.1449478e-05],\n",
              "       [1.4338931e-02],\n",
              "       [1.0851482e-04],\n",
              "       [1.5290047e-02],\n",
              "       [3.5125983e-03],\n",
              "       [8.0124559e-03],\n",
              "       [3.0213402e-04],\n",
              "       [1.7447479e-04],\n",
              "       [1.2507520e-03],\n",
              "       [1.5607688e-03],\n",
              "       [5.6588266e-04],\n",
              "       [2.7958895e-03],\n",
              "       [4.1859990e-04],\n",
              "       [1.4165849e-03],\n",
              "       [3.4024764e-04],\n",
              "       [7.9526834e-04],\n",
              "       [1.6389047e-04],\n",
              "       [1.1882298e-03],\n",
              "       [1.4059137e-03],\n",
              "       [1.0531900e-03],\n",
              "       [1.0450393e-03],\n",
              "       [2.3089189e-02],\n",
              "       [6.1099315e-03],\n",
              "       [1.8879978e-03],\n",
              "       [3.8156015e-01],\n",
              "       [1.3111189e-03],\n",
              "       [4.0694769e-04],\n",
              "       [6.1896807e-03],\n",
              "       [2.1582760e-05],\n",
              "       [2.6602982e-04],\n",
              "       [1.0676713e-03],\n",
              "       [2.3820241e-04],\n",
              "       [1.5739784e-04],\n",
              "       [2.3166707e-03],\n",
              "       [1.2676754e-03],\n",
              "       [1.8083757e-03],\n",
              "       [1.2584997e-03],\n",
              "       [3.8810000e-03],\n",
              "       [1.0582964e-04],\n",
              "       [1.6419924e-03],\n",
              "       [5.9164748e-05],\n",
              "       [1.9980773e-02],\n",
              "       [1.8671661e-05],\n",
              "       [1.4830679e-04],\n",
              "       [3.0687446e-02],\n",
              "       [2.1256518e-03],\n",
              "       [1.1658547e-03],\n",
              "       [2.0655844e-02],\n",
              "       [3.1314109e-04],\n",
              "       [4.3979282e-03],\n",
              "       [8.7379878e-03],\n",
              "       [1.0064827e-02],\n",
              "       [9.9998689e-01],\n",
              "       [9.9558347e-01],\n",
              "       [9.9999142e-01],\n",
              "       [9.9999893e-01],\n",
              "       [9.8365307e-01],\n",
              "       [9.9987352e-01],\n",
              "       [9.9983644e-01],\n",
              "       [9.7024590e-01],\n",
              "       [1.0000000e+00],\n",
              "       [9.9529934e-01],\n",
              "       [9.7334158e-01],\n",
              "       [9.9996078e-01],\n",
              "       [2.5890428e-01],\n",
              "       [1.2750439e-01],\n",
              "       [9.9990284e-01],\n",
              "       [1.0000000e+00],\n",
              "       [9.9231356e-01],\n",
              "       [1.0000000e+00],\n",
              "       [9.9785161e-01],\n",
              "       [1.0000000e+00],\n",
              "       [9.9763739e-01],\n",
              "       [9.9213225e-01],\n",
              "       [9.9984682e-01],\n",
              "       [9.9999571e-01],\n",
              "       [9.6905249e-01],\n",
              "       [9.9993300e-01],\n",
              "       [9.9969006e-01],\n",
              "       [9.9975473e-01],\n",
              "       [9.9970502e-01],\n",
              "       [9.9950647e-01],\n",
              "       [9.9998736e-01],\n",
              "       [9.9793303e-01],\n",
              "       [9.9790740e-01],\n",
              "       [9.9984813e-01],\n",
              "       [9.9994838e-01],\n",
              "       [9.9530715e-01],\n",
              "       [9.9750453e-01],\n",
              "       [9.9993551e-01],\n",
              "       [9.9946326e-01],\n",
              "       [9.9999893e-01],\n",
              "       [4.2976838e-01],\n",
              "       [9.9583024e-01],\n",
              "       [8.7336212e-01],\n",
              "       [9.9621946e-01],\n",
              "       [9.9687719e-01],\n",
              "       [9.9995661e-01],\n",
              "       [9.9999928e-01],\n",
              "       [9.7980005e-01],\n",
              "       [9.6563634e-04],\n",
              "       [9.6506906e-01],\n",
              "       [9.9343139e-01],\n",
              "       [1.0000000e+00],\n",
              "       [7.6499349e-01],\n",
              "       [9.9999392e-01],\n",
              "       [9.9956387e-01],\n",
              "       [9.9999380e-01],\n",
              "       [9.9633336e-01],\n",
              "       [9.4737804e-01],\n",
              "       [9.9712425e-01],\n",
              "       [9.5131528e-01],\n",
              "       [9.9994910e-01],\n",
              "       [9.9999964e-01],\n",
              "       [9.9977189e-01],\n",
              "       [9.9999475e-01],\n",
              "       [9.6978444e-01],\n",
              "       [9.9998832e-01],\n",
              "       [9.9987674e-01],\n",
              "       [9.9998784e-01],\n",
              "       [9.9974138e-01],\n",
              "       [9.9999976e-01],\n",
              "       [9.9995494e-01],\n",
              "       [9.9999988e-01],\n",
              "       [9.8943347e-01],\n",
              "       [9.9995303e-01],\n",
              "       [1.0000000e+00],\n",
              "       [9.9999988e-01],\n",
              "       [9.9973005e-01],\n",
              "       [9.9818617e-01],\n",
              "       [2.3715083e-02],\n",
              "       [9.9999881e-01],\n",
              "       [9.6837091e-01],\n",
              "       [9.9998152e-01],\n",
              "       [9.9987578e-01],\n",
              "       [9.9855322e-01],\n",
              "       [9.9999368e-01],\n",
              "       [9.1064900e-01],\n",
              "       [9.9962187e-01],\n",
              "       [9.9031526e-01],\n",
              "       [9.9965179e-01],\n",
              "       [1.0000000e+00],\n",
              "       [9.9999988e-01],\n",
              "       [9.9999070e-01],\n",
              "       [9.8689109e-01],\n",
              "       [9.9999964e-01],\n",
              "       [9.9999166e-01],\n",
              "       [9.9999869e-01],\n",
              "       [9.9999988e-01],\n",
              "       [9.9999666e-01],\n",
              "       [9.9999750e-01],\n",
              "       [1.8136436e-02],\n",
              "       [9.9999988e-01],\n",
              "       [9.9999988e-01],\n",
              "       [1.0000000e+00],\n",
              "       [9.9767512e-01],\n",
              "       [9.5512676e-01],\n",
              "       [9.9999964e-01]], dtype=float32)"
            ]
          },
          "metadata": {},
          "execution_count": 117
        }
      ]
    },
    {
      "cell_type": "code",
      "source": [],
      "metadata": {
        "id": "jLOm3jb-_I32"
      },
      "id": "jLOm3jb-_I32",
      "execution_count": null,
      "outputs": []
    },
    {
      "cell_type": "code",
      "source": [
        "from sklearn.metrics import confusion_matrix, ConfusionMatrixDisplay\n",
        "Y_pred = model.predict_generator(validation_generator)\n"
      ],
      "metadata": {
        "id": "8vwbUGKcQ7ki",
        "outputId": "e6637137-2803-4686-e139-ffb9d5c55755",
        "colab": {
          "base_uri": "https://localhost:8080/"
        }
      },
      "id": "8vwbUGKcQ7ki",
      "execution_count": null,
      "outputs": [
        {
          "output_type": "stream",
          "name": "stderr",
          "text": [
            "/usr/local/lib/python3.7/dist-packages/ipykernel_launcher.py:2: UserWarning: `Model.predict_generator` is deprecated and will be removed in a future version. Please use `Model.predict`, which supports generators.\n",
            "  \n"
          ]
        }
      ]
    },
    {
      "cell_type": "code",
      "source": [
        "Y_pred"
      ],
      "metadata": {
        "colab": {
          "base_uri": "https://localhost:8080/"
        },
        "id": "SZvOwnNvFOg8",
        "outputId": "4597865c-9d93-4efe-b11a-36d3a7b558ec"
      },
      "id": "SZvOwnNvFOg8",
      "execution_count": null,
      "outputs": [
        {
          "output_type": "execute_result",
          "data": {
            "text/plain": [
              "array([[2.9161962e-04],\n",
              "       [1.0908221e-04],\n",
              "       [2.1459507e-06],\n",
              "       [4.6752964e-04],\n",
              "       [9.6465768e-03],\n",
              "       [3.1534100e-09],\n",
              "       [5.5459436e-02],\n",
              "       [7.6366402e-02],\n",
              "       [1.4354962e-04],\n",
              "       [2.1683923e-03],\n",
              "       [1.7790349e-04],\n",
              "       [5.5309222e-04],\n",
              "       [9.7387666e-03],\n",
              "       [2.8982988e-01],\n",
              "       [3.8312585e-03],\n",
              "       [3.4391407e-02],\n",
              "       [1.8371435e-02],\n",
              "       [1.1447028e-03],\n",
              "       [1.5932595e-04],\n",
              "       [1.4151791e-03],\n",
              "       [1.3614725e-03],\n",
              "       [6.7564738e-03],\n",
              "       [6.7308205e-03],\n",
              "       [2.0468990e-04],\n",
              "       [1.2284523e-02],\n",
              "       [2.9625667e-03],\n",
              "       [1.4740875e-03],\n",
              "       [1.4021104e-03],\n",
              "       [7.9914375e-04],\n",
              "       [3.5373471e-04],\n",
              "       [1.0381978e-03],\n",
              "       [5.2981242e-04],\n",
              "       [2.7188212e-03],\n",
              "       [3.4767610e-04],\n",
              "       [1.1996420e-04],\n",
              "       [2.7056556e-02],\n",
              "       [9.3068513e-05],\n",
              "       [1.3750839e-05],\n",
              "       [5.9265457e-04],\n",
              "       [8.5056955e-03],\n",
              "       [2.5628094e-04],\n",
              "       [8.5773048e-05],\n",
              "       [2.6549544e-04],\n",
              "       [2.9267708e-03],\n",
              "       [5.7889760e-04],\n",
              "       [6.1022914e-03],\n",
              "       [3.3222164e-03],\n",
              "       [3.8336322e-04],\n",
              "       [4.4254838e-03],\n",
              "       [1.0852310e-04],\n",
              "       [2.9988727e-04],\n",
              "       [2.4411203e-02],\n",
              "       [2.6209562e-03],\n",
              "       [2.3055628e-03],\n",
              "       [1.0181057e-03],\n",
              "       [1.6024666e-03],\n",
              "       [5.6583602e-03],\n",
              "       [8.1449478e-05],\n",
              "       [1.4338931e-02],\n",
              "       [1.0851482e-04],\n",
              "       [1.5290047e-02],\n",
              "       [3.5125983e-03],\n",
              "       [8.0124559e-03],\n",
              "       [3.0213402e-04],\n",
              "       [1.7447479e-04],\n",
              "       [1.2507520e-03],\n",
              "       [1.5607688e-03],\n",
              "       [5.6588266e-04],\n",
              "       [2.7958895e-03],\n",
              "       [4.1859990e-04],\n",
              "       [1.4165849e-03],\n",
              "       [3.4024764e-04],\n",
              "       [7.9526834e-04],\n",
              "       [1.6389047e-04],\n",
              "       [1.1882298e-03],\n",
              "       [1.4059137e-03],\n",
              "       [1.0531900e-03],\n",
              "       [1.0450393e-03],\n",
              "       [2.3089189e-02],\n",
              "       [6.1099315e-03],\n",
              "       [1.8879978e-03],\n",
              "       [3.8156015e-01],\n",
              "       [1.3111189e-03],\n",
              "       [4.0694769e-04],\n",
              "       [6.1896807e-03],\n",
              "       [2.1582760e-05],\n",
              "       [2.6602982e-04],\n",
              "       [1.0676713e-03],\n",
              "       [2.3820241e-04],\n",
              "       [1.5739784e-04],\n",
              "       [2.3166707e-03],\n",
              "       [1.2676754e-03],\n",
              "       [1.8083757e-03],\n",
              "       [1.2584997e-03],\n",
              "       [3.8810000e-03],\n",
              "       [1.0582964e-04],\n",
              "       [1.6419924e-03],\n",
              "       [5.9164748e-05],\n",
              "       [1.9980773e-02],\n",
              "       [1.8671661e-05],\n",
              "       [1.4830679e-04],\n",
              "       [3.0687446e-02],\n",
              "       [2.1256518e-03],\n",
              "       [1.1658547e-03],\n",
              "       [2.0655844e-02],\n",
              "       [3.1314109e-04],\n",
              "       [4.3979282e-03],\n",
              "       [8.7379878e-03],\n",
              "       [1.0064827e-02],\n",
              "       [9.9998689e-01],\n",
              "       [9.9558347e-01],\n",
              "       [9.9999142e-01],\n",
              "       [9.9999893e-01],\n",
              "       [9.8365307e-01],\n",
              "       [9.9987352e-01],\n",
              "       [9.9983644e-01],\n",
              "       [9.7024590e-01],\n",
              "       [1.0000000e+00],\n",
              "       [9.9529934e-01],\n",
              "       [9.7334158e-01],\n",
              "       [9.9996078e-01],\n",
              "       [2.5890428e-01],\n",
              "       [1.2750439e-01],\n",
              "       [9.9990284e-01],\n",
              "       [1.0000000e+00],\n",
              "       [9.9231356e-01],\n",
              "       [1.0000000e+00],\n",
              "       [9.9785161e-01],\n",
              "       [1.0000000e+00],\n",
              "       [9.9763739e-01],\n",
              "       [9.9213225e-01],\n",
              "       [9.9984682e-01],\n",
              "       [9.9999571e-01],\n",
              "       [9.6905249e-01],\n",
              "       [9.9993300e-01],\n",
              "       [9.9969006e-01],\n",
              "       [9.9975473e-01],\n",
              "       [9.9970502e-01],\n",
              "       [9.9950647e-01],\n",
              "       [9.9998736e-01],\n",
              "       [9.9793303e-01],\n",
              "       [9.9790740e-01],\n",
              "       [9.9984813e-01],\n",
              "       [9.9994838e-01],\n",
              "       [9.9530715e-01],\n",
              "       [9.9750453e-01],\n",
              "       [9.9993551e-01],\n",
              "       [9.9946326e-01],\n",
              "       [9.9999893e-01],\n",
              "       [4.2976838e-01],\n",
              "       [9.9583024e-01],\n",
              "       [8.7336212e-01],\n",
              "       [9.9621946e-01],\n",
              "       [9.9687719e-01],\n",
              "       [9.9995661e-01],\n",
              "       [9.9999928e-01],\n",
              "       [9.7980005e-01],\n",
              "       [9.6563634e-04],\n",
              "       [9.6506906e-01],\n",
              "       [9.9343139e-01],\n",
              "       [1.0000000e+00],\n",
              "       [7.6499349e-01],\n",
              "       [9.9999392e-01],\n",
              "       [9.9956387e-01],\n",
              "       [9.9999380e-01],\n",
              "       [9.9633336e-01],\n",
              "       [9.4737804e-01],\n",
              "       [9.9712425e-01],\n",
              "       [9.5131528e-01],\n",
              "       [9.9994910e-01],\n",
              "       [9.9999964e-01],\n",
              "       [9.9977189e-01],\n",
              "       [9.9999475e-01],\n",
              "       [9.6978444e-01],\n",
              "       [9.9998832e-01],\n",
              "       [9.9987674e-01],\n",
              "       [9.9998784e-01],\n",
              "       [9.9974138e-01],\n",
              "       [9.9999976e-01],\n",
              "       [9.9995494e-01],\n",
              "       [9.9999988e-01],\n",
              "       [9.8943347e-01],\n",
              "       [9.9995303e-01],\n",
              "       [1.0000000e+00],\n",
              "       [9.9999988e-01],\n",
              "       [9.9973005e-01],\n",
              "       [9.9818617e-01],\n",
              "       [2.3715083e-02],\n",
              "       [9.9999881e-01],\n",
              "       [9.6837091e-01],\n",
              "       [9.9998152e-01],\n",
              "       [9.9987578e-01],\n",
              "       [9.9855322e-01],\n",
              "       [9.9999368e-01],\n",
              "       [9.1064900e-01],\n",
              "       [9.9962187e-01],\n",
              "       [9.9031526e-01],\n",
              "       [9.9965179e-01],\n",
              "       [1.0000000e+00],\n",
              "       [9.9999988e-01],\n",
              "       [9.9999070e-01],\n",
              "       [9.8689109e-01],\n",
              "       [9.9999964e-01],\n",
              "       [9.9999166e-01],\n",
              "       [9.9999869e-01],\n",
              "       [9.9999988e-01],\n",
              "       [9.9999666e-01],\n",
              "       [9.9999750e-01],\n",
              "       [1.8136436e-02],\n",
              "       [9.9999988e-01],\n",
              "       [9.9999988e-01],\n",
              "       [1.0000000e+00],\n",
              "       [9.9767512e-01],\n",
              "       [9.5512676e-01],\n",
              "       [9.9999964e-01]], dtype=float32)"
            ]
          },
          "metadata": {},
          "execution_count": 119
        }
      ]
    },
    {
      "cell_type": "code",
      "source": [
        "y_pred = Y_pred > 0.93\n",
        "cm= confusion_matrix(validation_generator.classes,y_pred)"
      ],
      "metadata": {
        "id": "lXWsHqMeFJO0"
      },
      "id": "lXWsHqMeFJO0",
      "execution_count": null,
      "outputs": []
    },
    {
      "cell_type": "code",
      "source": [
        "y_pred"
      ],
      "metadata": {
        "colab": {
          "base_uri": "https://localhost:8080/"
        },
        "id": "nvaHEScjLiqi",
        "outputId": "8d1b6a7e-ec8a-4213-844c-67937e7d05b8"
      },
      "id": "nvaHEScjLiqi",
      "execution_count": null,
      "outputs": [
        {
          "output_type": "execute_result",
          "data": {
            "text/plain": [
              "array([[False],\n",
              "       [False],\n",
              "       [False],\n",
              "       [False],\n",
              "       [False],\n",
              "       [False],\n",
              "       [False],\n",
              "       [False],\n",
              "       [False],\n",
              "       [False],\n",
              "       [False],\n",
              "       [False],\n",
              "       [False],\n",
              "       [False],\n",
              "       [False],\n",
              "       [False],\n",
              "       [False],\n",
              "       [False],\n",
              "       [False],\n",
              "       [False],\n",
              "       [False],\n",
              "       [False],\n",
              "       [False],\n",
              "       [False],\n",
              "       [False],\n",
              "       [False],\n",
              "       [False],\n",
              "       [False],\n",
              "       [False],\n",
              "       [False],\n",
              "       [False],\n",
              "       [False],\n",
              "       [False],\n",
              "       [False],\n",
              "       [False],\n",
              "       [False],\n",
              "       [False],\n",
              "       [False],\n",
              "       [False],\n",
              "       [False],\n",
              "       [False],\n",
              "       [False],\n",
              "       [False],\n",
              "       [False],\n",
              "       [False],\n",
              "       [False],\n",
              "       [False],\n",
              "       [False],\n",
              "       [False],\n",
              "       [False],\n",
              "       [False],\n",
              "       [False],\n",
              "       [False],\n",
              "       [False],\n",
              "       [False],\n",
              "       [False],\n",
              "       [False],\n",
              "       [False],\n",
              "       [False],\n",
              "       [False],\n",
              "       [False],\n",
              "       [False],\n",
              "       [False],\n",
              "       [False],\n",
              "       [False],\n",
              "       [False],\n",
              "       [False],\n",
              "       [False],\n",
              "       [False],\n",
              "       [False],\n",
              "       [False],\n",
              "       [False],\n",
              "       [False],\n",
              "       [False],\n",
              "       [False],\n",
              "       [False],\n",
              "       [False],\n",
              "       [False],\n",
              "       [False],\n",
              "       [False],\n",
              "       [False],\n",
              "       [False],\n",
              "       [False],\n",
              "       [False],\n",
              "       [False],\n",
              "       [False],\n",
              "       [False],\n",
              "       [False],\n",
              "       [False],\n",
              "       [False],\n",
              "       [False],\n",
              "       [False],\n",
              "       [False],\n",
              "       [False],\n",
              "       [False],\n",
              "       [False],\n",
              "       [False],\n",
              "       [False],\n",
              "       [False],\n",
              "       [False],\n",
              "       [False],\n",
              "       [False],\n",
              "       [False],\n",
              "       [False],\n",
              "       [False],\n",
              "       [False],\n",
              "       [False],\n",
              "       [False],\n",
              "       [False],\n",
              "       [ True],\n",
              "       [ True],\n",
              "       [ True],\n",
              "       [ True],\n",
              "       [ True],\n",
              "       [ True],\n",
              "       [ True],\n",
              "       [ True],\n",
              "       [ True],\n",
              "       [ True],\n",
              "       [ True],\n",
              "       [ True],\n",
              "       [False],\n",
              "       [False],\n",
              "       [ True],\n",
              "       [ True],\n",
              "       [ True],\n",
              "       [ True],\n",
              "       [ True],\n",
              "       [ True],\n",
              "       [ True],\n",
              "       [ True],\n",
              "       [ True],\n",
              "       [ True],\n",
              "       [ True],\n",
              "       [ True],\n",
              "       [ True],\n",
              "       [ True],\n",
              "       [ True],\n",
              "       [ True],\n",
              "       [ True],\n",
              "       [ True],\n",
              "       [ True],\n",
              "       [ True],\n",
              "       [ True],\n",
              "       [ True],\n",
              "       [ True],\n",
              "       [ True],\n",
              "       [ True],\n",
              "       [ True],\n",
              "       [False],\n",
              "       [ True],\n",
              "       [False],\n",
              "       [ True],\n",
              "       [ True],\n",
              "       [ True],\n",
              "       [ True],\n",
              "       [ True],\n",
              "       [False],\n",
              "       [ True],\n",
              "       [ True],\n",
              "       [ True],\n",
              "       [False],\n",
              "       [ True],\n",
              "       [ True],\n",
              "       [ True],\n",
              "       [ True],\n",
              "       [ True],\n",
              "       [ True],\n",
              "       [ True],\n",
              "       [ True],\n",
              "       [ True],\n",
              "       [ True],\n",
              "       [ True],\n",
              "       [ True],\n",
              "       [ True],\n",
              "       [ True],\n",
              "       [ True],\n",
              "       [ True],\n",
              "       [ True],\n",
              "       [ True],\n",
              "       [ True],\n",
              "       [ True],\n",
              "       [ True],\n",
              "       [ True],\n",
              "       [ True],\n",
              "       [ True],\n",
              "       [ True],\n",
              "       [False],\n",
              "       [ True],\n",
              "       [ True],\n",
              "       [ True],\n",
              "       [ True],\n",
              "       [ True],\n",
              "       [ True],\n",
              "       [False],\n",
              "       [ True],\n",
              "       [ True],\n",
              "       [ True],\n",
              "       [ True],\n",
              "       [ True],\n",
              "       [ True],\n",
              "       [ True],\n",
              "       [ True],\n",
              "       [ True],\n",
              "       [ True],\n",
              "       [ True],\n",
              "       [ True],\n",
              "       [ True],\n",
              "       [False],\n",
              "       [ True],\n",
              "       [ True],\n",
              "       [ True],\n",
              "       [ True],\n",
              "       [ True],\n",
              "       [ True]])"
            ]
          },
          "metadata": {},
          "execution_count": 133
        }
      ]
    },
    {
      "cell_type": "code",
      "source": [
        "validation_generator.classes"
      ],
      "metadata": {
        "colab": {
          "base_uri": "https://localhost:8080/"
        },
        "id": "Ee2JqbjiLQJv",
        "outputId": "fc0098a1-2ccb-4b01-b2ff-7201669d2683"
      },
      "id": "Ee2JqbjiLQJv",
      "execution_count": null,
      "outputs": [
        {
          "output_type": "execute_result",
          "data": {
            "text/plain": [
              "array([0, 0, 0, 0, 0, 0, 0, 0, 0, 0, 0, 0, 0, 0, 0, 0, 0, 0, 0, 0, 0, 0,\n",
              "       0, 0, 0, 0, 0, 0, 0, 0, 0, 0, 0, 0, 0, 0, 0, 0, 0, 0, 0, 0, 0, 0,\n",
              "       0, 0, 0, 0, 0, 0, 0, 0, 0, 0, 0, 0, 0, 0, 0, 0, 0, 0, 0, 0, 0, 0,\n",
              "       0, 0, 0, 0, 0, 0, 0, 0, 0, 0, 0, 0, 0, 0, 0, 0, 0, 0, 0, 0, 0, 0,\n",
              "       0, 0, 0, 0, 0, 0, 0, 0, 0, 0, 0, 0, 0, 0, 0, 0, 0, 0, 0, 0, 0, 1,\n",
              "       1, 1, 1, 1, 1, 1, 1, 1, 1, 1, 1, 1, 1, 1, 1, 1, 1, 1, 1, 1, 1, 1,\n",
              "       1, 1, 1, 1, 1, 1, 1, 1, 1, 1, 1, 1, 1, 1, 1, 1, 1, 1, 1, 1, 1, 1,\n",
              "       1, 1, 1, 1, 1, 1, 1, 1, 1, 1, 1, 1, 1, 1, 1, 1, 1, 1, 1, 1, 1, 1,\n",
              "       1, 1, 1, 1, 1, 1, 1, 1, 1, 1, 1, 1, 1, 1, 1, 1, 1, 1, 1, 1, 1, 1,\n",
              "       1, 1, 1, 1, 1, 1, 1, 1, 1, 1, 1, 1, 1, 1, 1, 1, 1], dtype=int32)"
            ]
          },
          "metadata": {},
          "execution_count": 134
        }
      ]
    },
    {
      "cell_type": "code",
      "source": [
        "target_names = ['no_yawn','yawn']\n",
        "print(classification_report(validation_generator.classes, y_pred, target_names=target_names))"
      ],
      "metadata": {
        "colab": {
          "base_uri": "https://localhost:8080/"
        },
        "id": "LyOXeJkPEs_n",
        "outputId": "5ef5c539-7810-48c0-ea29-7002625986d3"
      },
      "id": "LyOXeJkPEs_n",
      "execution_count": null,
      "outputs": [
        {
          "output_type": "stream",
          "name": "stdout",
          "text": [
            "              precision    recall  f1-score   support\n",
            "\n",
            "     no_yawn       0.92      1.00      0.96       109\n",
            "        yawn       1.00      0.92      0.96       106\n",
            "\n",
            "    accuracy                           0.96       215\n",
            "   macro avg       0.96      0.96      0.96       215\n",
            "weighted avg       0.96      0.96      0.96       215\n",
            "\n"
          ]
        }
      ]
    },
    {
      "cell_type": "code",
      "source": [
        "cm"
      ],
      "metadata": {
        "colab": {
          "base_uri": "https://localhost:8080/"
        },
        "id": "SommCOnnAjYF",
        "outputId": "9ef292fc-0731-4c19-c278-00d9c00dd16e"
      },
      "id": "SommCOnnAjYF",
      "execution_count": null,
      "outputs": [
        {
          "output_type": "execute_result",
          "data": {
            "text/plain": [
              "array([[109,   0],\n",
              "       [  9,  97]])"
            ]
          },
          "metadata": {},
          "execution_count": 136
        }
      ]
    },
    {
      "cell_type": "code",
      "source": [
        "print('Confusion Matrix')\n",
        "print(confusion_matrix(validation_generator.classes, y_pred))\n",
        "print('Classification Report')\n",
        "target_names = ['no_yawn','yawn']\n",
        "print(classification_report(validation_generator.classes, y_pred, target_names=target_names))"
      ],
      "metadata": {
        "colab": {
          "base_uri": "https://localhost:8080/"
        },
        "id": "yjRxdbp2Ml-u",
        "outputId": "22bf4732-f0ba-47dc-9f5c-99172bbbeec6"
      },
      "id": "yjRxdbp2Ml-u",
      "execution_count": null,
      "outputs": [
        {
          "output_type": "stream",
          "name": "stdout",
          "text": [
            "Confusion Matrix\n",
            "[[109   0]\n",
            " [  9  97]]\n",
            "Classification Report\n",
            "              precision    recall  f1-score   support\n",
            "\n",
            "     no_yawn       0.92      1.00      0.96       109\n",
            "        yawn       1.00      0.92      0.96       106\n",
            "\n",
            "    accuracy                           0.96       215\n",
            "   macro avg       0.96      0.96      0.96       215\n",
            "weighted avg       0.96      0.96      0.96       215\n",
            "\n"
          ]
        }
      ]
    },
    {
      "cell_type": "code",
      "source": [
        "disp = ConfusionMatrixDisplay(confusion_matrix=cm,display_labels=validation_generator.classes)\n",
        "disp.plot()\n",
        "plt.show()"
      ],
      "metadata": {
        "id": "TkEhJRT0REk5",
        "outputId": "c8befc32-38be-4f20-de7c-cb878c2c0ed2",
        "colab": {
          "base_uri": "https://localhost:8080/",
          "height": 279
        }
      },
      "id": "TkEhJRT0REk5",
      "execution_count": null,
      "outputs": [
        {
          "output_type": "display_data",
          "data": {
            "text/plain": [
              "<Figure size 432x288 with 2 Axes>"
            ],
            "image/png": "[encoded data removed]"
          },
          "metadata": {
            "needs_background": "light"
          }
        }
      ]
    },
    {
      "cell_type": "code",
      "execution_count": null,
      "id": "182f9698",
      "metadata": {
        "id": "182f9698"
      },
      "outputs": [],
      "source": [
        "import numpy as np\n",
        "from keras.preprocessing import image\n",
        "test_image=image.load_img('/content/drive/MyDrive/drowsiness_cropped (1)/drowsiness_cropped/test/no_yawn/test_images_noyawn1.jpg',target_size=(64,64))\n",
        "\n",
        "test_image=image.img_to_array(test_image)\n",
        "test_image=np.expand_dims(test_image,axis=0)\n",
        "result=cnn.predict(test_image)\n",
        "train_generator.class_indices\n",
        "if result[0][0]==1:\n",
        "    prediction='yawn'\n",
        "if result[0][1]==1:\n",
        "    prediction='no yawn'"
      ]
    },
    {
      "cell_type": "code",
      "execution_count": null,
      "id": "f84a3583",
      "metadata": {
        "id": "f84a3583",
        "outputId": "c14ba2a8-19dc-417f-8a10-0c53821b747b",
        "colab": {
          "base_uri": "https://localhost:8080/",
          "height": 35
        }
      },
      "outputs": [
        {
          "output_type": "execute_result",
          "data": {
            "text/plain": [
              "'yawn'"
            ],
            "application/vnd.google.colaboratory.intrinsic+json": {
              "type": "string"
            }
          },
          "metadata": {},
          "execution_count": 62
        }
      ],
      "source": [
        "prediction"
      ]
    },
    {
      "cell_type": "code",
      "execution_count": null,
      "id": "49fec89e",
      "metadata": {
        "id": "49fec89e",
        "outputId": "8e39f1fb-73a6-4d79-9b42-ccef0fb6f5fc",
        "colab": {
          "base_uri": "https://localhost:8080/"
        }
      },
      "outputs": [
        {
          "output_type": "execute_result",
          "data": {
            "text/plain": [
              "{'no_yawn': 0, 'yawn': 1}"
            ]
          },
          "metadata": {},
          "execution_count": 63
        }
      ],
      "source": [
        " train_generator.class_indices\n",
        "    "
      ]
    },
    {
      "cell_type": "code",
      "execution_count": null,
      "id": "6d75b755",
      "metadata": {
        "id": "6d75b755",
        "outputId": "1bd43628-4873-47e7-c4e8-e34edd4e69bd",
        "colab": {
          "base_uri": "https://localhost:8080/"
        }
      },
      "outputs": [
        {
          "output_type": "execute_result",
          "data": {
            "text/plain": [
              "array([[1.000000e+00, 5.396631e-24]], dtype=float32)"
            ]
          },
          "metadata": {},
          "execution_count": 64
        }
      ],
      "source": [
        "result\n"
      ]
    },
    {
      "cell_type": "code",
      "source": [
        "from keras.layers import Input, Lambda, Dense, Flatten\n",
        "from keras.models import Model\n",
        "from keras.applications.vgg16 import VGG16\n",
        "from keras.applications.vgg16 import preprocess_input\n",
        "from keras.preprocessing import image\n",
        "from keras.preprocessing.image import ImageDataGenerator\n",
        "from keras.models import Sequential\n",
        "import numpy as np\n",
        "from glob import glob\n",
        "import matplotlib.pyplot as pl"
      ],
      "metadata": {
        "id": "oX9zzUKH6Sfc"
      },
      "id": "oX9zzUKH6Sfc",
      "execution_count": 25,
      "outputs": []
    },
    {
      "cell_type": "code",
      "source": [
        "image_size = [224,224]"
      ],
      "metadata": {
        "id": "E5cIucIsxnyg"
      },
      "id": "E5cIucIsxnyg",
      "execution_count": 26,
      "outputs": []
    },
    {
      "cell_type": "code",
      "source": [
        "train_path = '/content/drive/MyDrive/drowsiness_cropped (1)/drowsiness_cropped/train'\n",
        "valid_path = '/content/drive/MyDrive/drowsiness_cropped (1)/drowsiness_cropped/test'"
      ],
      "metadata": {
        "id": "PYgl96tszdKD"
      },
      "id": "PYgl96tszdKD",
      "execution_count": 27,
      "outputs": []
    },
    {
      "cell_type": "code",
      "source": [
        "# Add the image to a batch\n",
        "from keras.preprocessing import image\n",
        "from tensorflow.keras import layers\n",
        "im=tf.keras.preprocessing.image_dataset_from_directory(\"/content/drive/MyDrive/drowsiness_cropped (1)/drowsiness_cropped/test\")"
      ],
      "metadata": {
        "id": "pUPCaU-q9ylg",
        "outputId": "29c037b0-ef3e-42b1-ba3f-634fb4970791",
        "colab": {
          "base_uri": "https://localhost:8080/"
        }
      },
      "id": "pUPCaU-q9ylg",
      "execution_count": 28,
      "outputs": [
        {
          "output_type": "stream",
          "name": "stdout",
          "text": [
            "Found 215 files belonging to 2 classes.\n"
          ]
        }
      ]
    },
    {
      "cell_type": "code",
      "source": [
        "from keras.preprocessing.image import ImageDataGenerator\n",
        "\n",
        "train_datagen = ImageDataGenerator(rescale = 1./255,\n",
        "                                   shear_range = 0.2,\n",
        "                                   zoom_range = 0.2,\n",
        "                                   horizontal_flip = True)"
      ],
      "metadata": {
        "id": "9OmNzVE9FT_j"
      },
      "id": "9OmNzVE9FT_j",
      "execution_count": 29,
      "outputs": []
    },
    {
      "cell_type": "code",
      "source": [
        "test_datagen = ImageDataGenerator(rescale = 1./255)\n",
        "\n",
        "training_set = train_datagen.flow_from_directory('/content/drive/MyDrive/drowsiness_cropped (1)/drowsiness_cropped/train',\n",
        "                                                 target_size = (224, 224),\n",
        "                                                 batch_size = 32,\n",
        "                                                 class_mode = 'binary')\n",
        "\n",
        "test_set = test_datagen.flow_from_directory('/content/drive/MyDrive/drowsiness_cropped (1)/drowsiness_cropped/test',\n",
        "                                            target_size = (224, 224),\n",
        "                                            batch_size = 32,\n",
        "                                            class_mode = 'binary')"
      ],
      "metadata": {
        "id": "DEhvUchaFdUe",
        "outputId": "baa7dc90-ff53-4f39-f0dc-b3038943914f",
        "colab": {
          "base_uri": "https://localhost:8080/"
        }
      },
      "id": "DEhvUchaFdUe",
      "execution_count": 30,
      "outputs": [
        {
          "output_type": "stream",
          "name": "stdout",
          "text": [
            "Found 1310 images belonging to 2 classes.\n",
            "Found 215 images belonging to 2 classes.\n"
          ]
        }
      ]
    },
    {
      "cell_type": "code",
      "source": [
        "data_augmentation = tf.keras.Sequential([\n",
        "  layers.RandomFlip(\"horizontal_and_vertical\"),\n",
        "  layers.RandomRotation(0.2),\n",
        "])\n",
        "\n",
        "# Add the image to a batch.\n",
        "image = tf.cast(tf.expand_dims(n, 0), tf.float32)\n",
        "\n",
        "plt.figure(figsize=(10, 10))\n",
        "for i in range(9):\n",
        "  augmented_image = data_augmentation(image)\n",
        "  ax = plt.subplot(3, 3, i + 1)\n",
        "  plt.imshow(augmented_image[0])\n",
        "  plt.axis(\"off\")"
      ],
      "metadata": {
        "id": "MBDmkSCb91ke",
        "outputId": "b92be85f-15b2-44b3-e12a-7ba766cd8a1f",
        "colab": {
          "base_uri": "https://localhost:8080/",
          "height": 694
        }
      },
      "id": "MBDmkSCb91ke",
      "execution_count": 31,
      "outputs": [
        {
          "output_type": "stream",
          "name": "stderr",
          "text": [
            "WARNING:matplotlib.image:Clipping input data to the valid range for imshow with RGB data ([0..1] for floats or [0..255] for integers).\n",
            "WARNING:matplotlib.image:Clipping input data to the valid range for imshow with RGB data ([0..1] for floats or [0..255] for integers).\n",
            "WARNING:matplotlib.image:Clipping input data to the valid range for imshow with RGB data ([0..1] for floats or [0..255] for integers).\n",
            "WARNING:matplotlib.image:Clipping input data to the valid range for imshow with RGB data ([0..1] for floats or [0..255] for integers).\n",
            "WARNING:matplotlib.image:Clipping input data to the valid range for imshow with RGB data ([0..1] for floats or [0..255] for integers).\n",
            "WARNING:matplotlib.image:Clipping input data to the valid range for imshow with RGB data ([0..1] for floats or [0..255] for integers).\n",
            "WARNING:matplotlib.image:Clipping input data to the valid range for imshow with RGB data ([0..1] for floats or [0..255] for integers).\n",
            "WARNING:matplotlib.image:Clipping input data to the valid range for imshow with RGB data ([0..1] for floats or [0..255] for integers).\n",
            "WARNING:matplotlib.image:Clipping input data to the valid range for imshow with RGB data ([0..1] for floats or [0..255] for integers).\n"
          ]
        },
        {
          "output_type": "display_data",
          "data": {
            "text/plain": [
              "<Figure size 720x720 with 9 Axes>"
            ],
            "image/png": "[encoded data removed]"
          },
          "metadata": {
            "needs_background": "light"
          }
        }
      ]
    },
    {
      "cell_type": "code",
      "source": [
        "im=tf.keras.preprocessing.image_dataset_from_directory(\"/content/drive/MyDrive/drowsiness_cropped (1)/drowsiness_cropped/train\")"
      ],
      "metadata": {
        "id": "mP40CpP77Iel",
        "outputId": "2ea36f31-30f0-4e36-8d26-4cd41da755bb",
        "colab": {
          "base_uri": "https://localhost:8080/"
        }
      },
      "execution_count": 32,
      "outputs": [
        {
          "output_type": "stream",
          "name": "stdout",
          "text": [
            "Found 1310 files belonging to 2 classes.\n"
          ]
        }
      ],
      "id": "mP40CpP77Iel"
    },
    {
      "cell_type": "code",
      "source": [
        "data_augmentation = tf.keras.Sequential([\n",
        "  layers.RandomFlip(\"horizontal_and_vertical\"),\n",
        "  layers.RandomRotation(0.2),\n",
        "])\n",
        "\n",
        "# Add the image to a batch.\n",
        "image = tf.cast(tf.expand_dims(n, 0), tf.float32)\n",
        "\n",
        "plt.figure(figsize=(10, 10))\n",
        "for i in range(9):\n",
        "  augmented_image = data_augmentation(image)\n",
        "  ax = plt.subplot(3, 3, i + 1)\n",
        "  plt.imshow(augmented_image[0])\n",
        "  plt.axis(\"off\")"
      ],
      "metadata": {
        "id": "bRpCPaiu-kwd",
        "outputId": "f70f9943-cf0f-46e6-a7d4-8801022eca5b",
        "colab": {
          "base_uri": "https://localhost:8080/",
          "height": 694
        }
      },
      "id": "bRpCPaiu-kwd",
      "execution_count": 33,
      "outputs": [
        {
          "output_type": "stream",
          "name": "stderr",
          "text": [
            "WARNING:matplotlib.image:Clipping input data to the valid range for imshow with RGB data ([0..1] for floats or [0..255] for integers).\n",
            "WARNING:matplotlib.image:Clipping input data to the valid range for imshow with RGB data ([0..1] for floats or [0..255] for integers).\n",
            "WARNING:matplotlib.image:Clipping input data to the valid range for imshow with RGB data ([0..1] for floats or [0..255] for integers).\n",
            "WARNING:matplotlib.image:Clipping input data to the valid range for imshow with RGB data ([0..1] for floats or [0..255] for integers).\n",
            "WARNING:matplotlib.image:Clipping input data to the valid range for imshow with RGB data ([0..1] for floats or [0..255] for integers).\n",
            "WARNING:matplotlib.image:Clipping input data to the valid range for imshow with RGB data ([0..1] for floats or [0..255] for integers).\n",
            "WARNING:matplotlib.image:Clipping input data to the valid range for imshow with RGB data ([0..1] for floats or [0..255] for integers).\n",
            "WARNING:matplotlib.image:Clipping input data to the valid range for imshow with RGB data ([0..1] for floats or [0..255] for integers).\n",
            "WARNING:matplotlib.image:Clipping input data to the valid range for imshow with RGB data ([0..1] for floats or [0..255] for integers).\n"
          ]
        },
        {
          "output_type": "display_data",
          "data": {
            "text/plain": [
              "<Figure size 720x720 with 9 Axes>"
            ],
            "image/png": "[encoded data removed]"
          },
          "metadata": {
            "needs_background": "light"
          }
        }
      ]
    },
    {
      "cell_type": "code",
      "source": [
        "vgg = VGG16(input_shape=image_size + [3], weights='imagenet', include_top=False)"
      ],
      "metadata": {
        "id": "PF2PK0Ya6exS",
        "outputId": "8cef052d-6c43-48fe-f3af-a19e147e3b77",
        "colab": {
          "base_uri": "https://localhost:8080/"
        }
      },
      "id": "PF2PK0Ya6exS",
      "execution_count": 34,
      "outputs": [
        {
          "output_type": "stream",
          "name": "stdout",
          "text": [
            "Downloading data from https://storage.googleapis.com/tensorflow/keras-applications/vgg16/vgg16_weights_tf_dim_ordering_tf_kernels_notop.h5\n",
            "58892288/58889256 [==============================] - 0s 0us/step\n",
            "58900480/58889256 [==============================] - 0s 0us/step\n"
          ]
        }
      ]
    },
    {
      "cell_type": "code",
      "source": [
        " # don't train existing weights\n",
        "for layer in vgg.layers:\n",
        "  layer.trainable = False"
      ],
      "metadata": {
        "id": "zHQezmpxz8PS"
      },
      "id": "zHQezmpxz8PS",
      "execution_count": 35,
      "outputs": []
    },
    {
      "cell_type": "code",
      "source": [
        "# useful for getting number of classes\n",
        "folders = glob(\"/content/drive/MyDrive/drowsiness_cropped (1)/drowsiness_cropped/train/*\")\n",
        "print(len(folders))"
      ],
      "metadata": {
        "id": "aQylmpIb0DEQ",
        "outputId": "90a12b98-5a8b-47fe-ef02-171641030792",
        "colab": {
          "base_uri": "https://localhost:8080/"
        }
      },
      "id": "aQylmpIb0DEQ",
      "execution_count": 36,
      "outputs": [
        {
          "output_type": "stream",
          "name": "stdout",
          "text": [
            "2\n"
          ]
        }
      ]
    },
    {
      "cell_type": "code",
      "source": [
        "folders"
      ],
      "metadata": {
        "id": "DdVjkK2pOHvG",
        "outputId": "d7c66407-bfca-4d66-889d-cb4307c8c600",
        "colab": {
          "base_uri": "https://localhost:8080/"
        }
      },
      "id": "DdVjkK2pOHvG",
      "execution_count": 37,
      "outputs": [
        {
          "output_type": "execute_result",
          "data": {
            "text/plain": [
              "['/content/drive/MyDrive/drowsiness_cropped (1)/drowsiness_cropped/train/no_yawn',\n",
              " '/content/drive/MyDrive/drowsiness_cropped (1)/drowsiness_cropped/train/yawn']"
            ]
          },
          "metadata": {},
          "execution_count": 37
        }
      ]
    },
    {
      "cell_type": "code",
      "source": [
        "vgg.input"
      ],
      "metadata": {
        "id": "jmglcD7Y6kyp",
        "outputId": "1ab11951-0f09-43d2-fdd4-a9aa4ee8ab46",
        "colab": {
          "base_uri": "https://localhost:8080/"
        }
      },
      "id": "jmglcD7Y6kyp",
      "execution_count": 38,
      "outputs": [
        {
          "output_type": "execute_result",
          "data": {
            "text/plain": [
              "<KerasTensor: shape=(None, 224, 224, 3) dtype=float32 (created by layer 'input_1')>"
            ]
          },
          "metadata": {},
          "execution_count": 38
        }
      ]
    },
    {
      "cell_type": "code",
      "source": [
        "for layer in vgg.layers:\n",
        "  layer.trainable = False"
      ],
      "metadata": {
        "id": "bUvK5W6o61ea"
      },
      "id": "bUvK5W6o61ea",
      "execution_count": 39,
      "outputs": []
    },
    {
      "cell_type": "code",
      "source": [
        "x = Flatten()(vgg.output)\n",
        "# x = Dense(1000, activation='relu')(x)\n",
        "prediction = Dense(1, activation='sigmoid')(x)"
      ],
      "metadata": {
        "id": "V6xB-qX44kWx"
      },
      "id": "V6xB-qX44kWx",
      "execution_count": 40,
      "outputs": []
    },
    {
      "cell_type": "code",
      "source": [
        "# create a model object\n",
        "model = Model(inputs=vgg.input, outputs=prediction)"
      ],
      "metadata": {
        "id": "qjR_VEaF0WP1"
      },
      "id": "qjR_VEaF0WP1",
      "execution_count": 41,
      "outputs": []
    },
    {
      "cell_type": "code",
      "source": [
        "# view the structure of the model\n",
        "model.summary()"
      ],
      "metadata": {
        "id": "hYertYv17M_i",
        "outputId": "c50fac17-d955-4cd4-cbc1-987fb6322d8e",
        "colab": {
          "base_uri": "https://localhost:8080/"
        }
      },
      "id": "hYertYv17M_i",
      "execution_count": 42,
      "outputs": [
        {
          "output_type": "stream",
          "name": "stdout",
          "text": [
            "Model: \"model\"\n",
            "_________________________________________________________________\n",
            " Layer (type)                Output Shape              Param #   \n",
            "=================================================================\n",
            " input_1 (InputLayer)        [(None, 224, 224, 3)]     0         \n",
            "                                                                 \n",
            " block1_conv1 (Conv2D)       (None, 224, 224, 64)      1792      \n",
            "                                                                 \n",
            " block1_conv2 (Conv2D)       (None, 224, 224, 64)      36928     \n",
            "                                                                 \n",
            " block1_pool (MaxPooling2D)  (None, 112, 112, 64)      0         \n",
            "                                                                 \n",
            " block2_conv1 (Conv2D)       (None, 112, 112, 128)     73856     \n",
            "                                                                 \n",
            " block2_conv2 (Conv2D)       (None, 112, 112, 128)     147584    \n",
            "                                                                 \n",
            " block2_pool (MaxPooling2D)  (None, 56, 56, 128)       0         \n",
            "                                                                 \n",
            " block3_conv1 (Conv2D)       (None, 56, 56, 256)       295168    \n",
            "                                                                 \n",
            " block3_conv2 (Conv2D)       (None, 56, 56, 256)       590080    \n",
            "                                                                 \n",
            " block3_conv3 (Conv2D)       (None, 56, 56, 256)       590080    \n",
            "                                                                 \n",
            " block3_pool (MaxPooling2D)  (None, 28, 28, 256)       0         \n",
            "                                                                 \n",
            " block4_conv1 (Conv2D)       (None, 28, 28, 512)       1180160   \n",
            "                                                                 \n",
            " block4_conv2 (Conv2D)       (None, 28, 28, 512)       2359808   \n",
            "                                                                 \n",
            " block4_conv3 (Conv2D)       (None, 28, 28, 512)       2359808   \n",
            "                                                                 \n",
            " block4_pool (MaxPooling2D)  (None, 14, 14, 512)       0         \n",
            "                                                                 \n",
            " block5_conv1 (Conv2D)       (None, 14, 14, 512)       2359808   \n",
            "                                                                 \n",
            " block5_conv2 (Conv2D)       (None, 14, 14, 512)       2359808   \n",
            "                                                                 \n",
            " block5_conv3 (Conv2D)       (None, 14, 14, 512)       2359808   \n",
            "                                                                 \n",
            " block5_pool (MaxPooling2D)  (None, 7, 7, 512)         0         \n",
            "                                                                 \n",
            " flatten_2 (Flatten)         (None, 25088)             0         \n",
            "                                                                 \n",
            " dense_6 (Dense)             (None, 1)                 25089     \n",
            "                                                                 \n",
            "=================================================================\n",
            "Total params: 14,739,777\n",
            "Trainable params: 25,089\n",
            "Non-trainable params: 14,714,688\n",
            "_________________________________________________________________\n"
          ]
        }
      ]
    },
    {
      "cell_type": "code",
      "source": [
        "# tell the model what cost and optimization method to use\n",
        "model.compile(\n",
        "  loss='binary_crossentropy',\n",
        "  optimizer='adam',\n",
        "  metrics=['accuracy'])"
      ],
      "metadata": {
        "id": "N_2yznjT7X4K"
      },
      "id": "N_2yznjT7X4K",
      "execution_count": 43,
      "outputs": []
    },
    {
      "cell_type": "code",
      "source": [
        "history=model.fit(x=training_set,validation_data=test_set,epochs=50)"
      ],
      "metadata": {
        "colab": {
          "base_uri": "https://localhost:8080/"
        },
        "id": "CzfLfSaqIQn6",
        "outputId": "baff14c8-de3a-479a-e40b-c7d93c050559"
      },
      "id": "CzfLfSaqIQn6",
      "execution_count": 44,
      "outputs": [
        {
          "output_type": "stream",
          "name": "stdout",
          "text": [
            "Epoch 1/50\n",
            "41/41 [==============================] - 304s 7s/step - loss: 0.5944 - accuracy: 0.6725 - val_loss: 0.4281 - val_accuracy: 0.8000\n",
            "Epoch 2/50\n",
            "41/41 [==============================] - 20s 479ms/step - loss: 0.3711 - accuracy: 0.8458 - val_loss: 0.3704 - val_accuracy: 0.8093\n",
            "Epoch 3/50\n",
            "41/41 [==============================] - 21s 511ms/step - loss: 0.3094 - accuracy: 0.8786 - val_loss: 0.2800 - val_accuracy: 0.9070\n",
            "Epoch 4/50\n",
            "41/41 [==============================] - 20s 484ms/step - loss: 0.2502 - accuracy: 0.9099 - val_loss: 0.2647 - val_accuracy: 0.8837\n",
            "Epoch 5/50\n",
            "41/41 [==============================] - 20s 487ms/step - loss: 0.2420 - accuracy: 0.9084 - val_loss: 0.2689 - val_accuracy: 0.8930\n",
            "Epoch 6/50\n",
            "41/41 [==============================] - 20s 490ms/step - loss: 0.1990 - accuracy: 0.9366 - val_loss: 0.2262 - val_accuracy: 0.9163\n",
            "Epoch 7/50\n",
            "41/41 [==============================] - 20s 491ms/step - loss: 0.1925 - accuracy: 0.9328 - val_loss: 0.2396 - val_accuracy: 0.9163\n",
            "Epoch 8/50\n",
            "41/41 [==============================] - 20s 487ms/step - loss: 0.1583 - accuracy: 0.9542 - val_loss: 0.1893 - val_accuracy: 0.9209\n",
            "Epoch 9/50\n",
            "41/41 [==============================] - 20s 496ms/step - loss: 0.1392 - accuracy: 0.9687 - val_loss: 0.1769 - val_accuracy: 0.9256\n",
            "Epoch 10/50\n",
            "41/41 [==============================] - 20s 484ms/step - loss: 0.1398 - accuracy: 0.9588 - val_loss: 0.1688 - val_accuracy: 0.9349\n",
            "Epoch 11/50\n",
            "41/41 [==============================] - 20s 485ms/step - loss: 0.1257 - accuracy: 0.9679 - val_loss: 0.1573 - val_accuracy: 0.9395\n",
            "Epoch 12/50\n",
            "41/41 [==============================] - 20s 484ms/step - loss: 0.1093 - accuracy: 0.9763 - val_loss: 0.1509 - val_accuracy: 0.9442\n",
            "Epoch 13/50\n",
            "41/41 [==============================] - 20s 489ms/step - loss: 0.1118 - accuracy: 0.9710 - val_loss: 0.1669 - val_accuracy: 0.9395\n",
            "Epoch 14/50\n",
            "41/41 [==============================] - 20s 488ms/step - loss: 0.1028 - accuracy: 0.9763 - val_loss: 0.1351 - val_accuracy: 0.9395\n",
            "Epoch 15/50\n",
            "41/41 [==============================] - 20s 486ms/step - loss: 0.0935 - accuracy: 0.9786 - val_loss: 0.1331 - val_accuracy: 0.9535\n",
            "Epoch 16/50\n",
            "41/41 [==============================] - 20s 487ms/step - loss: 0.0907 - accuracy: 0.9809 - val_loss: 0.1391 - val_accuracy: 0.9349\n",
            "Epoch 17/50\n",
            "41/41 [==============================] - 21s 496ms/step - loss: 0.0867 - accuracy: 0.9847 - val_loss: 0.1829 - val_accuracy: 0.9442\n",
            "Epoch 18/50\n",
            "41/41 [==============================] - 20s 482ms/step - loss: 0.0811 - accuracy: 0.9824 - val_loss: 0.1363 - val_accuracy: 0.9395\n",
            "Epoch 19/50\n",
            "41/41 [==============================] - 20s 483ms/step - loss: 0.0828 - accuracy: 0.9824 - val_loss: 0.1388 - val_accuracy: 0.9442\n",
            "Epoch 20/50\n",
            "41/41 [==============================] - 20s 488ms/step - loss: 0.0757 - accuracy: 0.9824 - val_loss: 0.1280 - val_accuracy: 0.9535\n",
            "Epoch 21/50\n",
            "41/41 [==============================] - 21s 503ms/step - loss: 0.0719 - accuracy: 0.9832 - val_loss: 0.1249 - val_accuracy: 0.9488\n",
            "Epoch 22/50\n",
            "41/41 [==============================] - 20s 483ms/step - loss: 0.0672 - accuracy: 0.9840 - val_loss: 0.1254 - val_accuracy: 0.9488\n",
            "Epoch 23/50\n",
            "41/41 [==============================] - 21s 515ms/step - loss: 0.0625 - accuracy: 0.9878 - val_loss: 0.1181 - val_accuracy: 0.9442\n",
            "Epoch 24/50\n",
            "41/41 [==============================] - 20s 484ms/step - loss: 0.0665 - accuracy: 0.9824 - val_loss: 0.1189 - val_accuracy: 0.9488\n",
            "Epoch 25/50\n",
            "41/41 [==============================] - 20s 481ms/step - loss: 0.0547 - accuracy: 0.9924 - val_loss: 0.1163 - val_accuracy: 0.9581\n",
            "Epoch 26/50\n",
            "41/41 [==============================] - 20s 484ms/step - loss: 0.0638 - accuracy: 0.9870 - val_loss: 0.1079 - val_accuracy: 0.9535\n",
            "Epoch 27/50\n",
            "41/41 [==============================] - 20s 485ms/step - loss: 0.0556 - accuracy: 0.9908 - val_loss: 0.1122 - val_accuracy: 0.9581\n",
            "Epoch 28/50\n",
            "41/41 [==============================] - 20s 481ms/step - loss: 0.0519 - accuracy: 0.9931 - val_loss: 0.1072 - val_accuracy: 0.9628\n",
            "Epoch 29/50\n",
            "41/41 [==============================] - 20s 482ms/step - loss: 0.0547 - accuracy: 0.9870 - val_loss: 0.0970 - val_accuracy: 0.9628\n",
            "Epoch 30/50\n",
            "41/41 [==============================] - 21s 512ms/step - loss: 0.0411 - accuracy: 0.9947 - val_loss: 0.0940 - val_accuracy: 0.9581\n",
            "Epoch 31/50\n",
            "41/41 [==============================] - 20s 484ms/step - loss: 0.0386 - accuracy: 0.9969 - val_loss: 0.0958 - val_accuracy: 0.9628\n",
            "Epoch 32/50\n",
            "41/41 [==============================] - 20s 484ms/step - loss: 0.0492 - accuracy: 0.9908 - val_loss: 0.1063 - val_accuracy: 0.9674\n",
            "Epoch 33/50\n",
            "41/41 [==============================] - 20s 483ms/step - loss: 0.0524 - accuracy: 0.9885 - val_loss: 0.1235 - val_accuracy: 0.9628\n",
            "Epoch 34/50\n",
            "41/41 [==============================] - 20s 480ms/step - loss: 0.0384 - accuracy: 0.9947 - val_loss: 0.1007 - val_accuracy: 0.9674\n",
            "Epoch 35/50\n",
            "41/41 [==============================] - 20s 484ms/step - loss: 0.0473 - accuracy: 0.9908 - val_loss: 0.0912 - val_accuracy: 0.9674\n",
            "Epoch 36/50\n",
            "41/41 [==============================] - 20s 488ms/step - loss: 0.0397 - accuracy: 0.9931 - val_loss: 0.0998 - val_accuracy: 0.9581\n",
            "Epoch 37/50\n",
            "41/41 [==============================] - 21s 512ms/step - loss: 0.0408 - accuracy: 0.9908 - val_loss: 0.0960 - val_accuracy: 0.9674\n",
            "Epoch 38/50\n",
            "41/41 [==============================] - 20s 484ms/step - loss: 0.0382 - accuracy: 0.9939 - val_loss: 0.0924 - val_accuracy: 0.9674\n",
            "Epoch 39/50\n",
            "41/41 [==============================] - 20s 483ms/step - loss: 0.0383 - accuracy: 0.9947 - val_loss: 0.0775 - val_accuracy: 0.9628\n",
            "Epoch 40/50\n",
            "41/41 [==============================] - 20s 479ms/step - loss: 0.0329 - accuracy: 0.9969 - val_loss: 0.0837 - val_accuracy: 0.9674\n",
            "Epoch 41/50\n",
            "41/41 [==============================] - 20s 480ms/step - loss: 0.0362 - accuracy: 0.9947 - val_loss: 0.0887 - val_accuracy: 0.9721\n",
            "Epoch 42/50\n",
            "41/41 [==============================] - 20s 479ms/step - loss: 0.0293 - accuracy: 0.9947 - val_loss: 0.0932 - val_accuracy: 0.9628\n",
            "Epoch 43/50\n",
            "41/41 [==============================] - 20s 482ms/step - loss: 0.0264 - accuracy: 0.9992 - val_loss: 0.0883 - val_accuracy: 0.9674\n",
            "Epoch 44/50\n",
            "41/41 [==============================] - 21s 512ms/step - loss: 0.0342 - accuracy: 0.9939 - val_loss: 0.0853 - val_accuracy: 0.9674\n",
            "Epoch 45/50\n",
            "41/41 [==============================] - 20s 481ms/step - loss: 0.0361 - accuracy: 0.9947 - val_loss: 0.0865 - val_accuracy: 0.9674\n",
            "Epoch 46/50\n",
            "41/41 [==============================] - 20s 481ms/step - loss: 0.0391 - accuracy: 0.9908 - val_loss: 0.0912 - val_accuracy: 0.9674\n",
            "Epoch 47/50\n",
            "41/41 [==============================] - 20s 483ms/step - loss: 0.0354 - accuracy: 0.9947 - val_loss: 0.0785 - val_accuracy: 0.9674\n",
            "Epoch 48/50\n",
            "41/41 [==============================] - 20s 481ms/step - loss: 0.0297 - accuracy: 0.9939 - val_loss: 0.0756 - val_accuracy: 0.9674\n",
            "Epoch 49/50\n",
            "41/41 [==============================] - 20s 481ms/step - loss: 0.0252 - accuracy: 0.9969 - val_loss: 0.0859 - val_accuracy: 0.9674\n",
            "Epoch 50/50\n",
            "41/41 [==============================] - 20s 493ms/step - loss: 0.0288 - accuracy: 0.9962 - val_loss: 0.0801 - val_accuracy: 0.9674\n"
          ]
        }
      ]
    },
    {
      "cell_type": "code",
      "source": [
        "import tensorflow as tf\n",
        "from tensorflow import keras\n",
        "model.save('/content/drive/MyDrive/camera/vgg16model.h5')"
      ],
      "metadata": {
        "id": "_RVp6sj8l3Mg"
      },
      "id": "_RVp6sj8l3Mg",
      "execution_count": 45,
      "outputs": []
    },
    {
      "cell_type": "code",
      "source": [
        "from tensorflow import keras\n",
        "model = keras.models.load_model(\"/content/drive/MyDrive/camera/vgg16model.h5\")\n",
        "model.summary()"
      ],
      "metadata": {
        "id": "Br-X_KR0mJrL",
        "outputId": "88c7c93d-bdab-4b31-b448-755786a1ded5",
        "colab": {
          "base_uri": "https://localhost:8080/"
        }
      },
      "id": "Br-X_KR0mJrL",
      "execution_count": 46,
      "outputs": [
        {
          "output_type": "stream",
          "name": "stdout",
          "text": [
            "Model: \"model\"\n",
            "_________________________________________________________________\n",
            " Layer (type)                Output Shape              Param #   \n",
            "=================================================================\n",
            " input_1 (InputLayer)        [(None, 224, 224, 3)]     0         \n",
            "                                                                 \n",
            " block1_conv1 (Conv2D)       (None, 224, 224, 64)      1792      \n",
            "                                                                 \n",
            " block1_conv2 (Conv2D)       (None, 224, 224, 64)      36928     \n",
            "                                                                 \n",
            " block1_pool (MaxPooling2D)  (None, 112, 112, 64)      0         \n",
            "                                                                 \n",
            " block2_conv1 (Conv2D)       (None, 112, 112, 128)     73856     \n",
            "                                                                 \n",
            " block2_conv2 (Conv2D)       (None, 112, 112, 128)     147584    \n",
            "                                                                 \n",
            " block2_pool (MaxPooling2D)  (None, 56, 56, 128)       0         \n",
            "                                                                 \n",
            " block3_conv1 (Conv2D)       (None, 56, 56, 256)       295168    \n",
            "                                                                 \n",
            " block3_conv2 (Conv2D)       (None, 56, 56, 256)       590080    \n",
            "                                                                 \n",
            " block3_conv3 (Conv2D)       (None, 56, 56, 256)       590080    \n",
            "                                                                 \n",
            " block3_pool (MaxPooling2D)  (None, 28, 28, 256)       0         \n",
            "                                                                 \n",
            " block4_conv1 (Conv2D)       (None, 28, 28, 512)       1180160   \n",
            "                                                                 \n",
            " block4_conv2 (Conv2D)       (None, 28, 28, 512)       2359808   \n",
            "                                                                 \n",
            " block4_conv3 (Conv2D)       (None, 28, 28, 512)       2359808   \n",
            "                                                                 \n",
            " block4_pool (MaxPooling2D)  (None, 14, 14, 512)       0         \n",
            "                                                                 \n",
            " block5_conv1 (Conv2D)       (None, 14, 14, 512)       2359808   \n",
            "                                                                 \n",
            " block5_conv2 (Conv2D)       (None, 14, 14, 512)       2359808   \n",
            "                                                                 \n",
            " block5_conv3 (Conv2D)       (None, 14, 14, 512)       2359808   \n",
            "                                                                 \n",
            " block5_pool (MaxPooling2D)  (None, 7, 7, 512)         0         \n",
            "                                                                 \n",
            " flatten_2 (Flatten)         (None, 25088)             0         \n",
            "                                                                 \n",
            " dense_6 (Dense)             (None, 1)                 25089     \n",
            "                                                                 \n",
            "=================================================================\n",
            "Total params: 14,739,777\n",
            "Trainable params: 25,089\n",
            "Non-trainable params: 14,714,688\n",
            "_________________________________________________________________\n"
          ]
        }
      ]
    },
    {
      "cell_type": "code",
      "source": [
        "# accuracy\n",
        "from matplotlib import pyplot as plt\n",
        "\n",
        "plt.plot(history.history['accuracy'])\n",
        "plt.plot(history.history['val_accuracy'])\n",
        "plt.title('model accuracy')\n",
        "plt.ylabel('accuracy')\n",
        "plt.xlabel('epoch')\n",
        "plt.legend(['train', 'val'], loc='upper left')\n",
        "plt.show()"
      ],
      "metadata": {
        "id": "pJ5QnnEZAewZ",
        "outputId": "8d4cdf34-9917-4814-f47b-50f3350f9174",
        "colab": {
          "base_uri": "https://localhost:8080/",
          "height": 295
        }
      },
      "id": "pJ5QnnEZAewZ",
      "execution_count": 47,
      "outputs": [
        {
          "output_type": "display_data",
          "data": {
            "text/plain": [
              "<Figure size 432x288 with 1 Axes>"
            ],
            "image/png": "[encoded data removed]"
          },
          "metadata": {
            "needs_background": "light"
          }
        }
      ]
    },
    {
      "cell_type": "code",
      "source": [
        "# loss\n",
        "from matplotlib import pyplot as plt\n",
        "\n",
        "plt.plot(history.history['loss'])\n",
        "plt.plot(history.history['val_loss'])\n",
        "plt.title('model loss')\n",
        "plt.ylabel('loss')\n",
        "plt.xlabel('epoch')\n",
        "plt.legend(['train', 'val'], loc='upper left')\n",
        "plt.show()"
      ],
      "metadata": {
        "id": "OP1J0zWYAUQq",
        "outputId": "f05fc8e4-d80a-4535-8949-c7459d0364b7",
        "colab": {
          "base_uri": "https://localhost:8080/",
          "height": 295
        }
      },
      "id": "OP1J0zWYAUQq",
      "execution_count": 48,
      "outputs": [
        {
          "output_type": "display_data",
          "data": {
            "text/plain": [
              "<Figure size 432x288 with 1 Axes>"
            ],
            "image/png": "[encoded data removed]"
          },
          "metadata": {
            "needs_background": "light"
          }
        }
      ]
    },
    {
      "cell_type": "code",
      "source": [
        "test_datagen = ImageDataGenerator(rescale=1./255)\n",
        "validation_generator = test_datagen.flow_from_directory(\n",
        "        '/content/drive/MyDrive/drowsiness_cropped (1)/drowsiness_cropped/test',\n",
        "        target_size=(224,224),\n",
        "        batch_size=32,\n",
        "        class_mode='binary',shuffle=False)"
      ],
      "metadata": {
        "id": "hYgD_vrITNFR",
        "outputId": "040a6699-6581-49e5-cfc5-5140307d87f7",
        "colab": {
          "base_uri": "https://localhost:8080/"
        }
      },
      "id": "hYgD_vrITNFR",
      "execution_count": 51,
      "outputs": [
        {
          "output_type": "stream",
          "name": "stdout",
          "text": [
            "Found 215 images belonging to 2 classes.\n"
          ]
        }
      ]
    },
    {
      "cell_type": "code",
      "source": [
        "Y_pred=model.predict_generator(validation_generator)"
      ],
      "metadata": {
        "id": "V1FpU1fPn69Z",
        "outputId": "41eb35af-1681-4f15-93f6-b61d769cc56c",
        "colab": {
          "base_uri": "https://localhost:8080/"
        }
      },
      "id": "V1FpU1fPn69Z",
      "execution_count": 52,
      "outputs": [
        {
          "output_type": "stream",
          "name": "stderr",
          "text": [
            "/usr/local/lib/python3.7/dist-packages/ipykernel_launcher.py:1: UserWarning: `Model.predict_generator` is deprecated and will be removed in a future version. Please use `Model.predict`, which supports generators.\n",
            "  \"\"\"Entry point for launching an IPython kernel.\n"
          ]
        }
      ]
    },
    {
      "cell_type": "code",
      "source": [
        "Y_pred"
      ],
      "metadata": {
        "colab": {
          "base_uri": "https://localhost:8080/"
        },
        "id": "LQ3uVwypRdXe",
        "outputId": "83c66077-3aa7-4da9-c087-1c2a3a1b8d48"
      },
      "id": "LQ3uVwypRdXe",
      "execution_count": 53,
      "outputs": [
        {
          "output_type": "execute_result",
          "data": {
            "text/plain": [
              "array([[1.86499953e-01],\n",
              "       [4.35899099e-04],\n",
              "       [5.79805856e-05],\n",
              "       [1.72364654e-03],\n",
              "       [4.02238034e-02],\n",
              "       [7.15387170e-04],\n",
              "       [8.31385314e-01],\n",
              "       [4.39998060e-02],\n",
              "       [5.38137916e-04],\n",
              "       [1.17957057e-03],\n",
              "       [2.36822218e-02],\n",
              "       [4.77041863e-03],\n",
              "       [1.90441106e-02],\n",
              "       [9.57527459e-01],\n",
              "       [1.58751232e-03],\n",
              "       [1.43967714e-04],\n",
              "       [8.39024491e-04],\n",
              "       [3.73381563e-02],\n",
              "       [1.67260252e-04],\n",
              "       [1.01790682e-03],\n",
              "       [1.29284516e-01],\n",
              "       [5.28717600e-03],\n",
              "       [3.71501185e-02],\n",
              "       [8.72654654e-03],\n",
              "       [1.00419566e-01],\n",
              "       [2.70756264e-03],\n",
              "       [1.66544260e-03],\n",
              "       [3.44199613e-02],\n",
              "       [3.77300307e-02],\n",
              "       [1.56172703e-03],\n",
              "       [2.50785183e-02],\n",
              "       [2.26525724e-01],\n",
              "       [7.50607476e-02],\n",
              "       [1.56472176e-02],\n",
              "       [4.58961149e-05],\n",
              "       [1.19937421e-03],\n",
              "       [9.37366804e-06],\n",
              "       [5.26409785e-05],\n",
              "       [4.43149684e-03],\n",
              "       [4.10067648e-01],\n",
              "       [3.38178274e-04],\n",
              "       [2.25803186e-03],\n",
              "       [1.03220751e-04],\n",
              "       [2.02506572e-01],\n",
              "       [9.26871412e-03],\n",
              "       [1.41350029e-03],\n",
              "       [1.89566636e-03],\n",
              "       [3.56489141e-03],\n",
              "       [1.39096985e-03],\n",
              "       [7.34017522e-05],\n",
              "       [5.49259305e-04],\n",
              "       [8.03330243e-01],\n",
              "       [4.77267265e-01],\n",
              "       [1.29024906e-03],\n",
              "       [1.61647529e-03],\n",
              "       [1.42239267e-04],\n",
              "       [4.39786352e-03],\n",
              "       [1.94336135e-05],\n",
              "       [1.44092715e-03],\n",
              "       [6.65321073e-04],\n",
              "       [3.78251867e-03],\n",
              "       [2.94018593e-02],\n",
              "       [5.75542590e-03],\n",
              "       [3.25242663e-03],\n",
              "       [3.47948372e-02],\n",
              "       [2.09489930e-02],\n",
              "       [9.21045803e-03],\n",
              "       [2.94316094e-04],\n",
              "       [1.61017408e-03],\n",
              "       [1.06871338e-03],\n",
              "       [2.54141603e-04],\n",
              "       [4.47949162e-03],\n",
              "       [1.73164140e-02],\n",
              "       [4.09293862e-04],\n",
              "       [3.48301069e-03],\n",
              "       [1.71227321e-01],\n",
              "       [1.02658654e-02],\n",
              "       [3.60317319e-03],\n",
              "       [1.16412132e-03],\n",
              "       [6.70245709e-03],\n",
              "       [5.85808884e-03],\n",
              "       [1.51399123e-02],\n",
              "       [1.36221375e-03],\n",
              "       [5.40387235e-04],\n",
              "       [8.48866180e-02],\n",
              "       [2.48117885e-03],\n",
              "       [1.26262326e-02],\n",
              "       [3.36810655e-04],\n",
              "       [2.45734700e-04],\n",
              "       [2.04468202e-02],\n",
              "       [1.10986261e-02],\n",
              "       [6.97094365e-04],\n",
              "       [1.05808559e-03],\n",
              "       [4.09334991e-03],\n",
              "       [3.71324364e-04],\n",
              "       [1.23700520e-04],\n",
              "       [3.67289525e-04],\n",
              "       [2.23561889e-04],\n",
              "       [1.72508229e-03],\n",
              "       [2.15037755e-04],\n",
              "       [3.13965837e-04],\n",
              "       [8.36094317e-04],\n",
              "       [1.26894256e-02],\n",
              "       [5.01418971e-02],\n",
              "       [3.48168681e-03],\n",
              "       [3.37338948e-04],\n",
              "       [3.44340783e-03],\n",
              "       [4.44323430e-03],\n",
              "       [6.35377644e-03],\n",
              "       [9.99957681e-01],\n",
              "       [9.99896049e-01],\n",
              "       [9.99955058e-01],\n",
              "       [9.99988079e-01],\n",
              "       [7.66838551e-01],\n",
              "       [9.95924354e-01],\n",
              "       [9.84403133e-01],\n",
              "       [7.58098602e-01],\n",
              "       [9.99505639e-01],\n",
              "       [9.73857284e-01],\n",
              "       [9.92000580e-01],\n",
              "       [9.42112148e-01],\n",
              "       [9.15160179e-01],\n",
              "       [9.69152749e-01],\n",
              "       [7.53983021e-01],\n",
              "       [9.99830365e-01],\n",
              "       [9.98344660e-01],\n",
              "       [9.99999166e-01],\n",
              "       [9.98534203e-01],\n",
              "       [9.99933481e-01],\n",
              "       [9.98983443e-01],\n",
              "       [9.98304486e-01],\n",
              "       [9.99404073e-01],\n",
              "       [9.99884725e-01],\n",
              "       [9.82064486e-01],\n",
              "       [9.99810755e-01],\n",
              "       [9.99636650e-01],\n",
              "       [9.95202303e-01],\n",
              "       [9.99154925e-01],\n",
              "       [9.99257147e-01],\n",
              "       [9.99998689e-01],\n",
              "       [9.06850934e-01],\n",
              "       [9.37355578e-01],\n",
              "       [9.99810994e-01],\n",
              "       [9.99965072e-01],\n",
              "       [9.89238381e-01],\n",
              "       [9.99720037e-01],\n",
              "       [9.93254840e-01],\n",
              "       [9.99287665e-01],\n",
              "       [9.99885082e-01],\n",
              "       [9.26162243e-01],\n",
              "       [9.97456968e-01],\n",
              "       [9.91475999e-01],\n",
              "       [9.88363564e-01],\n",
              "       [9.99800861e-01],\n",
              "       [9.84749019e-01],\n",
              "       [9.99988914e-01],\n",
              "       [9.50708210e-01],\n",
              "       [4.95316088e-01],\n",
              "       [9.98432696e-01],\n",
              "       [9.39132452e-01],\n",
              "       [9.99876738e-01],\n",
              "       [9.48576272e-01],\n",
              "       [9.99621391e-01],\n",
              "       [9.94520485e-01],\n",
              "       [9.99955893e-01],\n",
              "       [9.33705986e-01],\n",
              "       [9.99253094e-01],\n",
              "       [9.98586297e-01],\n",
              "       [7.51205325e-01],\n",
              "       [3.05242538e-01],\n",
              "       [9.99960661e-01],\n",
              "       [9.98415112e-01],\n",
              "       [9.99588072e-01],\n",
              "       [9.98245239e-01],\n",
              "       [9.61560428e-01],\n",
              "       [9.60906744e-01],\n",
              "       [9.99989867e-01],\n",
              "       [9.98258770e-01],\n",
              "       [9.99854445e-01],\n",
              "       [9.94897902e-01],\n",
              "       [9.99738395e-01],\n",
              "       [9.98061240e-01],\n",
              "       [9.99883652e-01],\n",
              "       [9.98201966e-01],\n",
              "       [9.99999881e-01],\n",
              "       [9.95647967e-01],\n",
              "       [7.61486888e-01],\n",
              "       [9.94596541e-01],\n",
              "       [9.99524236e-01],\n",
              "       [9.36384678e-01],\n",
              "       [9.99999523e-01],\n",
              "       [9.88554299e-01],\n",
              "       [9.99872446e-01],\n",
              "       [9.89035428e-01],\n",
              "       [9.50226068e-01],\n",
              "       [1.83256701e-01],\n",
              "       [9.27521467e-01],\n",
              "       [9.93722260e-01],\n",
              "       [9.99982715e-01],\n",
              "       [9.99999285e-01],\n",
              "       [9.99999762e-01],\n",
              "       [9.99863267e-01],\n",
              "       [9.99987841e-01],\n",
              "       [9.99937296e-01],\n",
              "       [9.99961019e-01],\n",
              "       [9.99960780e-01],\n",
              "       [9.96273518e-01],\n",
              "       [9.98799324e-01],\n",
              "       [3.22983176e-01],\n",
              "       [9.99933958e-01],\n",
              "       [9.99967456e-01],\n",
              "       [9.99997139e-01],\n",
              "       [9.91274416e-01],\n",
              "       [7.94071496e-01],\n",
              "       [9.98171449e-01]], dtype=float32)"
            ]
          },
          "metadata": {},
          "execution_count": 53
        }
      ]
    },
    {
      "cell_type": "code",
      "source": [
        "validation_generator.classes\n"
      ],
      "metadata": {
        "colab": {
          "base_uri": "https://localhost:8080/"
        },
        "id": "c0mOxpDvGIjh",
        "outputId": "c9c380b9-3374-43c9-b484-5df02c42f2bc"
      },
      "id": "c0mOxpDvGIjh",
      "execution_count": 54,
      "outputs": [
        {
          "output_type": "execute_result",
          "data": {
            "text/plain": [
              "array([0, 0, 0, 0, 0, 0, 0, 0, 0, 0, 0, 0, 0, 0, 0, 0, 0, 0, 0, 0, 0, 0,\n",
              "       0, 0, 0, 0, 0, 0, 0, 0, 0, 0, 0, 0, 0, 0, 0, 0, 0, 0, 0, 0, 0, 0,\n",
              "       0, 0, 0, 0, 0, 0, 0, 0, 0, 0, 0, 0, 0, 0, 0, 0, 0, 0, 0, 0, 0, 0,\n",
              "       0, 0, 0, 0, 0, 0, 0, 0, 0, 0, 0, 0, 0, 0, 0, 0, 0, 0, 0, 0, 0, 0,\n",
              "       0, 0, 0, 0, 0, 0, 0, 0, 0, 0, 0, 0, 0, 0, 0, 0, 0, 0, 0, 0, 0, 1,\n",
              "       1, 1, 1, 1, 1, 1, 1, 1, 1, 1, 1, 1, 1, 1, 1, 1, 1, 1, 1, 1, 1, 1,\n",
              "       1, 1, 1, 1, 1, 1, 1, 1, 1, 1, 1, 1, 1, 1, 1, 1, 1, 1, 1, 1, 1, 1,\n",
              "       1, 1, 1, 1, 1, 1, 1, 1, 1, 1, 1, 1, 1, 1, 1, 1, 1, 1, 1, 1, 1, 1,\n",
              "       1, 1, 1, 1, 1, 1, 1, 1, 1, 1, 1, 1, 1, 1, 1, 1, 1, 1, 1, 1, 1, 1,\n",
              "       1, 1, 1, 1, 1, 1, 1, 1, 1, 1, 1, 1, 1, 1, 1, 1, 1], dtype=int32)"
            ]
          },
          "metadata": {},
          "execution_count": 54
        }
      ]
    },
    {
      "cell_type": "code",
      "source": [
        "from sklearn.metrics import confusion_matrix, ConfusionMatrixDisplay\n",
        "y_pred = Y_pred >0.95\n",
        "y_pred\n"
      ],
      "metadata": {
        "colab": {
          "base_uri": "https://localhost:8080/"
        },
        "id": "1St-OOATTeBR",
        "outputId": "b1423c76-19ff-4123-fde5-e589ca7beb9b"
      },
      "id": "1St-OOATTeBR",
      "execution_count": 55,
      "outputs": [
        {
          "output_type": "execute_result",
          "data": {
            "text/plain": [
              "array([[False],\n",
              "       [False],\n",
              "       [False],\n",
              "       [False],\n",
              "       [False],\n",
              "       [False],\n",
              "       [False],\n",
              "       [False],\n",
              "       [False],\n",
              "       [False],\n",
              "       [False],\n",
              "       [False],\n",
              "       [False],\n",
              "       [ True],\n",
              "       [False],\n",
              "       [False],\n",
              "       [False],\n",
              "       [False],\n",
              "       [False],\n",
              "       [False],\n",
              "       [False],\n",
              "       [False],\n",
              "       [False],\n",
              "       [False],\n",
              "       [False],\n",
              "       [False],\n",
              "       [False],\n",
              "       [False],\n",
              "       [False],\n",
              "       [False],\n",
              "       [False],\n",
              "       [False],\n",
              "       [False],\n",
              "       [False],\n",
              "       [False],\n",
              "       [False],\n",
              "       [False],\n",
              "       [False],\n",
              "       [False],\n",
              "       [False],\n",
              "       [False],\n",
              "       [False],\n",
              "       [False],\n",
              "       [False],\n",
              "       [False],\n",
              "       [False],\n",
              "       [False],\n",
              "       [False],\n",
              "       [False],\n",
              "       [False],\n",
              "       [False],\n",
              "       [False],\n",
              "       [False],\n",
              "       [False],\n",
              "       [False],\n",
              "       [False],\n",
              "       [False],\n",
              "       [False],\n",
              "       [False],\n",
              "       [False],\n",
              "       [False],\n",
              "       [False],\n",
              "       [False],\n",
              "       [False],\n",
              "       [False],\n",
              "       [False],\n",
              "       [False],\n",
              "       [False],\n",
              "       [False],\n",
              "       [False],\n",
              "       [False],\n",
              "       [False],\n",
              "       [False],\n",
              "       [False],\n",
              "       [False],\n",
              "       [False],\n",
              "       [False],\n",
              "       [False],\n",
              "       [False],\n",
              "       [False],\n",
              "       [False],\n",
              "       [False],\n",
              "       [False],\n",
              "       [False],\n",
              "       [False],\n",
              "       [False],\n",
              "       [False],\n",
              "       [False],\n",
              "       [False],\n",
              "       [False],\n",
              "       [False],\n",
              "       [False],\n",
              "       [False],\n",
              "       [False],\n",
              "       [False],\n",
              "       [False],\n",
              "       [False],\n",
              "       [False],\n",
              "       [False],\n",
              "       [False],\n",
              "       [False],\n",
              "       [False],\n",
              "       [False],\n",
              "       [False],\n",
              "       [False],\n",
              "       [False],\n",
              "       [False],\n",
              "       [False],\n",
              "       [False],\n",
              "       [ True],\n",
              "       [ True],\n",
              "       [ True],\n",
              "       [ True],\n",
              "       [False],\n",
              "       [ True],\n",
              "       [ True],\n",
              "       [False],\n",
              "       [ True],\n",
              "       [ True],\n",
              "       [ True],\n",
              "       [False],\n",
              "       [False],\n",
              "       [ True],\n",
              "       [False],\n",
              "       [ True],\n",
              "       [ True],\n",
              "       [ True],\n",
              "       [ True],\n",
              "       [ True],\n",
              "       [ True],\n",
              "       [ True],\n",
              "       [ True],\n",
              "       [ True],\n",
              "       [ True],\n",
              "       [ True],\n",
              "       [ True],\n",
              "       [ True],\n",
              "       [ True],\n",
              "       [ True],\n",
              "       [ True],\n",
              "       [False],\n",
              "       [False],\n",
              "       [ True],\n",
              "       [ True],\n",
              "       [ True],\n",
              "       [ True],\n",
              "       [ True],\n",
              "       [ True],\n",
              "       [ True],\n",
              "       [False],\n",
              "       [ True],\n",
              "       [ True],\n",
              "       [ True],\n",
              "       [ True],\n",
              "       [ True],\n",
              "       [ True],\n",
              "       [ True],\n",
              "       [False],\n",
              "       [ True],\n",
              "       [False],\n",
              "       [ True],\n",
              "       [False],\n",
              "       [ True],\n",
              "       [ True],\n",
              "       [ True],\n",
              "       [False],\n",
              "       [ True],\n",
              "       [ True],\n",
              "       [False],\n",
              "       [False],\n",
              "       [ True],\n",
              "       [ True],\n",
              "       [ True],\n",
              "       [ True],\n",
              "       [ True],\n",
              "       [ True],\n",
              "       [ True],\n",
              "       [ True],\n",
              "       [ True],\n",
              "       [ True],\n",
              "       [ True],\n",
              "       [ True],\n",
              "       [ True],\n",
              "       [ True],\n",
              "       [ True],\n",
              "       [ True],\n",
              "       [False],\n",
              "       [ True],\n",
              "       [ True],\n",
              "       [False],\n",
              "       [ True],\n",
              "       [ True],\n",
              "       [ True],\n",
              "       [ True],\n",
              "       [ True],\n",
              "       [False],\n",
              "       [False],\n",
              "       [ True],\n",
              "       [ True],\n",
              "       [ True],\n",
              "       [ True],\n",
              "       [ True],\n",
              "       [ True],\n",
              "       [ True],\n",
              "       [ True],\n",
              "       [ True],\n",
              "       [ True],\n",
              "       [ True],\n",
              "       [False],\n",
              "       [ True],\n",
              "       [ True],\n",
              "       [ True],\n",
              "       [ True],\n",
              "       [False],\n",
              "       [ True]])"
            ]
          },
          "metadata": {},
          "execution_count": 55
        }
      ]
    },
    {
      "cell_type": "code",
      "source": [
        "from sklearn.metrics import confusion_matrix, ConfusionMatrixDisplay\n",
        "Y_pred = model.predict_generator(validation_generator)\n",
        "Y_pred\n"
      ],
      "metadata": {
        "colab": {
          "base_uri": "https://localhost:8080/"
        },
        "id": "a6uqe-dSQ0WL",
        "outputId": "5290197b-c026-4cbf-847b-87db2e408d46"
      },
      "id": "a6uqe-dSQ0WL",
      "execution_count": 56,
      "outputs": [
        {
          "output_type": "stream",
          "name": "stderr",
          "text": [
            "/usr/local/lib/python3.7/dist-packages/ipykernel_launcher.py:2: UserWarning: `Model.predict_generator` is deprecated and will be removed in a future version. Please use `Model.predict`, which supports generators.\n",
            "  \n"
          ]
        },
        {
          "output_type": "execute_result",
          "data": {
            "text/plain": [
              "array([[1.86499953e-01],\n",
              "       [4.35899099e-04],\n",
              "       [5.79805856e-05],\n",
              "       [1.72364654e-03],\n",
              "       [4.02238034e-02],\n",
              "       [7.15387170e-04],\n",
              "       [8.31385314e-01],\n",
              "       [4.39998060e-02],\n",
              "       [5.38137916e-04],\n",
              "       [1.17957057e-03],\n",
              "       [2.36822218e-02],\n",
              "       [4.77041863e-03],\n",
              "       [1.90441106e-02],\n",
              "       [9.57527459e-01],\n",
              "       [1.58751232e-03],\n",
              "       [1.43967714e-04],\n",
              "       [8.39024491e-04],\n",
              "       [3.73381563e-02],\n",
              "       [1.67260252e-04],\n",
              "       [1.01790682e-03],\n",
              "       [1.29284516e-01],\n",
              "       [5.28717600e-03],\n",
              "       [3.71501185e-02],\n",
              "       [8.72654654e-03],\n",
              "       [1.00419566e-01],\n",
              "       [2.70756264e-03],\n",
              "       [1.66544260e-03],\n",
              "       [3.44199613e-02],\n",
              "       [3.77300307e-02],\n",
              "       [1.56172703e-03],\n",
              "       [2.50785183e-02],\n",
              "       [2.26525724e-01],\n",
              "       [7.50607476e-02],\n",
              "       [1.56472176e-02],\n",
              "       [4.58961149e-05],\n",
              "       [1.19937421e-03],\n",
              "       [9.37366804e-06],\n",
              "       [5.26409785e-05],\n",
              "       [4.43149684e-03],\n",
              "       [4.10067648e-01],\n",
              "       [3.38178274e-04],\n",
              "       [2.25803186e-03],\n",
              "       [1.03220751e-04],\n",
              "       [2.02506572e-01],\n",
              "       [9.26871412e-03],\n",
              "       [1.41350029e-03],\n",
              "       [1.89566636e-03],\n",
              "       [3.56489141e-03],\n",
              "       [1.39096985e-03],\n",
              "       [7.34017522e-05],\n",
              "       [5.49259305e-04],\n",
              "       [8.03330243e-01],\n",
              "       [4.77267265e-01],\n",
              "       [1.29024906e-03],\n",
              "       [1.61647529e-03],\n",
              "       [1.42239267e-04],\n",
              "       [4.39786352e-03],\n",
              "       [1.94336135e-05],\n",
              "       [1.44092715e-03],\n",
              "       [6.65321073e-04],\n",
              "       [3.78251867e-03],\n",
              "       [2.94018593e-02],\n",
              "       [5.75542590e-03],\n",
              "       [3.25242663e-03],\n",
              "       [3.47948372e-02],\n",
              "       [2.09489930e-02],\n",
              "       [9.21045803e-03],\n",
              "       [2.94316094e-04],\n",
              "       [1.61017408e-03],\n",
              "       [1.06871338e-03],\n",
              "       [2.54141603e-04],\n",
              "       [4.47949162e-03],\n",
              "       [1.73164140e-02],\n",
              "       [4.09293862e-04],\n",
              "       [3.48301069e-03],\n",
              "       [1.71227321e-01],\n",
              "       [1.02658654e-02],\n",
              "       [3.60317319e-03],\n",
              "       [1.16412132e-03],\n",
              "       [6.70245709e-03],\n",
              "       [5.85808884e-03],\n",
              "       [1.51399123e-02],\n",
              "       [1.36221375e-03],\n",
              "       [5.40387235e-04],\n",
              "       [8.48866180e-02],\n",
              "       [2.48117885e-03],\n",
              "       [1.26262326e-02],\n",
              "       [3.36810655e-04],\n",
              "       [2.45734700e-04],\n",
              "       [2.04468202e-02],\n",
              "       [1.10986261e-02],\n",
              "       [6.97094365e-04],\n",
              "       [1.05808559e-03],\n",
              "       [4.09334991e-03],\n",
              "       [3.71324364e-04],\n",
              "       [1.23700520e-04],\n",
              "       [3.67289525e-04],\n",
              "       [2.23561889e-04],\n",
              "       [1.72508229e-03],\n",
              "       [2.15037755e-04],\n",
              "       [3.13965837e-04],\n",
              "       [8.36094317e-04],\n",
              "       [1.26894256e-02],\n",
              "       [5.01418971e-02],\n",
              "       [3.48168681e-03],\n",
              "       [3.37338948e-04],\n",
              "       [3.44340783e-03],\n",
              "       [4.44323430e-03],\n",
              "       [6.35377644e-03],\n",
              "       [9.99957681e-01],\n",
              "       [9.99896049e-01],\n",
              "       [9.99955058e-01],\n",
              "       [9.99988079e-01],\n",
              "       [7.66838551e-01],\n",
              "       [9.95924354e-01],\n",
              "       [9.84403133e-01],\n",
              "       [7.58098602e-01],\n",
              "       [9.99505639e-01],\n",
              "       [9.73857284e-01],\n",
              "       [9.92000580e-01],\n",
              "       [9.42112148e-01],\n",
              "       [9.15160179e-01],\n",
              "       [9.69152749e-01],\n",
              "       [7.53983021e-01],\n",
              "       [9.99830365e-01],\n",
              "       [9.98344660e-01],\n",
              "       [9.99999166e-01],\n",
              "       [9.98534203e-01],\n",
              "       [9.99933481e-01],\n",
              "       [9.98983443e-01],\n",
              "       [9.98304486e-01],\n",
              "       [9.99404073e-01],\n",
              "       [9.99884725e-01],\n",
              "       [9.82064486e-01],\n",
              "       [9.99810755e-01],\n",
              "       [9.99636650e-01],\n",
              "       [9.95202303e-01],\n",
              "       [9.99154925e-01],\n",
              "       [9.99257147e-01],\n",
              "       [9.99998689e-01],\n",
              "       [9.06850934e-01],\n",
              "       [9.37355578e-01],\n",
              "       [9.99810994e-01],\n",
              "       [9.99965072e-01],\n",
              "       [9.89238381e-01],\n",
              "       [9.99720037e-01],\n",
              "       [9.93254840e-01],\n",
              "       [9.99287665e-01],\n",
              "       [9.99885082e-01],\n",
              "       [9.26162243e-01],\n",
              "       [9.97456968e-01],\n",
              "       [9.91475999e-01],\n",
              "       [9.88363564e-01],\n",
              "       [9.99800861e-01],\n",
              "       [9.84749019e-01],\n",
              "       [9.99988914e-01],\n",
              "       [9.50708210e-01],\n",
              "       [4.95316088e-01],\n",
              "       [9.98432696e-01],\n",
              "       [9.39132452e-01],\n",
              "       [9.99876738e-01],\n",
              "       [9.48576272e-01],\n",
              "       [9.99621391e-01],\n",
              "       [9.94520485e-01],\n",
              "       [9.99955893e-01],\n",
              "       [9.33705986e-01],\n",
              "       [9.99253094e-01],\n",
              "       [9.98586297e-01],\n",
              "       [7.51205325e-01],\n",
              "       [3.05242538e-01],\n",
              "       [9.99960661e-01],\n",
              "       [9.98415112e-01],\n",
              "       [9.99588072e-01],\n",
              "       [9.98245239e-01],\n",
              "       [9.61560428e-01],\n",
              "       [9.60906744e-01],\n",
              "       [9.99989867e-01],\n",
              "       [9.98258770e-01],\n",
              "       [9.99854445e-01],\n",
              "       [9.94897902e-01],\n",
              "       [9.99738395e-01],\n",
              "       [9.98061240e-01],\n",
              "       [9.99883652e-01],\n",
              "       [9.98201966e-01],\n",
              "       [9.99999881e-01],\n",
              "       [9.95647967e-01],\n",
              "       [7.61486888e-01],\n",
              "       [9.94596541e-01],\n",
              "       [9.99524236e-01],\n",
              "       [9.36384678e-01],\n",
              "       [9.99999523e-01],\n",
              "       [9.88554299e-01],\n",
              "       [9.99872446e-01],\n",
              "       [9.89035428e-01],\n",
              "       [9.50226068e-01],\n",
              "       [1.83256701e-01],\n",
              "       [9.27521467e-01],\n",
              "       [9.93722260e-01],\n",
              "       [9.99982715e-01],\n",
              "       [9.99999285e-01],\n",
              "       [9.99999762e-01],\n",
              "       [9.99863267e-01],\n",
              "       [9.99987841e-01],\n",
              "       [9.99937296e-01],\n",
              "       [9.99961019e-01],\n",
              "       [9.99960780e-01],\n",
              "       [9.96273518e-01],\n",
              "       [9.98799324e-01],\n",
              "       [3.22983176e-01],\n",
              "       [9.99933958e-01],\n",
              "       [9.99967456e-01],\n",
              "       [9.99997139e-01],\n",
              "       [9.91274416e-01],\n",
              "       [7.94071496e-01],\n",
              "       [9.98171449e-01]], dtype=float32)"
            ]
          },
          "metadata": {},
          "execution_count": 56
        }
      ]
    },
    {
      "cell_type": "code",
      "source": [
        "y_pred = Y_pred > 0.93\n",
        "y_pred\n"
      ],
      "metadata": {
        "colab": {
          "base_uri": "https://localhost:8080/"
        },
        "id": "TcKTCU-8Rs6l",
        "outputId": "cfa250e5-66a5-42ca-a111-d246270c7cf6"
      },
      "id": "TcKTCU-8Rs6l",
      "execution_count": 57,
      "outputs": [
        {
          "output_type": "execute_result",
          "data": {
            "text/plain": [
              "array([[False],\n",
              "       [False],\n",
              "       [False],\n",
              "       [False],\n",
              "       [False],\n",
              "       [False],\n",
              "       [False],\n",
              "       [False],\n",
              "       [False],\n",
              "       [False],\n",
              "       [False],\n",
              "       [False],\n",
              "       [False],\n",
              "       [ True],\n",
              "       [False],\n",
              "       [False],\n",
              "       [False],\n",
              "       [False],\n",
              "       [False],\n",
              "       [False],\n",
              "       [False],\n",
              "       [False],\n",
              "       [False],\n",
              "       [False],\n",
              "       [False],\n",
              "       [False],\n",
              "       [False],\n",
              "       [False],\n",
              "       [False],\n",
              "       [False],\n",
              "       [False],\n",
              "       [False],\n",
              "       [False],\n",
              "       [False],\n",
              "       [False],\n",
              "       [False],\n",
              "       [False],\n",
              "       [False],\n",
              "       [False],\n",
              "       [False],\n",
              "       [False],\n",
              "       [False],\n",
              "       [False],\n",
              "       [False],\n",
              "       [False],\n",
              "       [False],\n",
              "       [False],\n",
              "       [False],\n",
              "       [False],\n",
              "       [False],\n",
              "       [False],\n",
              "       [False],\n",
              "       [False],\n",
              "       [False],\n",
              "       [False],\n",
              "       [False],\n",
              "       [False],\n",
              "       [False],\n",
              "       [False],\n",
              "       [False],\n",
              "       [False],\n",
              "       [False],\n",
              "       [False],\n",
              "       [False],\n",
              "       [False],\n",
              "       [False],\n",
              "       [False],\n",
              "       [False],\n",
              "       [False],\n",
              "       [False],\n",
              "       [False],\n",
              "       [False],\n",
              "       [False],\n",
              "       [False],\n",
              "       [False],\n",
              "       [False],\n",
              "       [False],\n",
              "       [False],\n",
              "       [False],\n",
              "       [False],\n",
              "       [False],\n",
              "       [False],\n",
              "       [False],\n",
              "       [False],\n",
              "       [False],\n",
              "       [False],\n",
              "       [False],\n",
              "       [False],\n",
              "       [False],\n",
              "       [False],\n",
              "       [False],\n",
              "       [False],\n",
              "       [False],\n",
              "       [False],\n",
              "       [False],\n",
              "       [False],\n",
              "       [False],\n",
              "       [False],\n",
              "       [False],\n",
              "       [False],\n",
              "       [False],\n",
              "       [False],\n",
              "       [False],\n",
              "       [False],\n",
              "       [False],\n",
              "       [False],\n",
              "       [False],\n",
              "       [False],\n",
              "       [False],\n",
              "       [ True],\n",
              "       [ True],\n",
              "       [ True],\n",
              "       [ True],\n",
              "       [False],\n",
              "       [ True],\n",
              "       [ True],\n",
              "       [False],\n",
              "       [ True],\n",
              "       [ True],\n",
              "       [ True],\n",
              "       [ True],\n",
              "       [False],\n",
              "       [ True],\n",
              "       [False],\n",
              "       [ True],\n",
              "       [ True],\n",
              "       [ True],\n",
              "       [ True],\n",
              "       [ True],\n",
              "       [ True],\n",
              "       [ True],\n",
              "       [ True],\n",
              "       [ True],\n",
              "       [ True],\n",
              "       [ True],\n",
              "       [ True],\n",
              "       [ True],\n",
              "       [ True],\n",
              "       [ True],\n",
              "       [ True],\n",
              "       [False],\n",
              "       [ True],\n",
              "       [ True],\n",
              "       [ True],\n",
              "       [ True],\n",
              "       [ True],\n",
              "       [ True],\n",
              "       [ True],\n",
              "       [ True],\n",
              "       [False],\n",
              "       [ True],\n",
              "       [ True],\n",
              "       [ True],\n",
              "       [ True],\n",
              "       [ True],\n",
              "       [ True],\n",
              "       [ True],\n",
              "       [False],\n",
              "       [ True],\n",
              "       [ True],\n",
              "       [ True],\n",
              "       [ True],\n",
              "       [ True],\n",
              "       [ True],\n",
              "       [ True],\n",
              "       [ True],\n",
              "       [ True],\n",
              "       [ True],\n",
              "       [False],\n",
              "       [False],\n",
              "       [ True],\n",
              "       [ True],\n",
              "       [ True],\n",
              "       [ True],\n",
              "       [ True],\n",
              "       [ True],\n",
              "       [ True],\n",
              "       [ True],\n",
              "       [ True],\n",
              "       [ True],\n",
              "       [ True],\n",
              "       [ True],\n",
              "       [ True],\n",
              "       [ True],\n",
              "       [ True],\n",
              "       [ True],\n",
              "       [False],\n",
              "       [ True],\n",
              "       [ True],\n",
              "       [ True],\n",
              "       [ True],\n",
              "       [ True],\n",
              "       [ True],\n",
              "       [ True],\n",
              "       [ True],\n",
              "       [False],\n",
              "       [False],\n",
              "       [ True],\n",
              "       [ True],\n",
              "       [ True],\n",
              "       [ True],\n",
              "       [ True],\n",
              "       [ True],\n",
              "       [ True],\n",
              "       [ True],\n",
              "       [ True],\n",
              "       [ True],\n",
              "       [ True],\n",
              "       [False],\n",
              "       [ True],\n",
              "       [ True],\n",
              "       [ True],\n",
              "       [ True],\n",
              "       [False],\n",
              "       [ True]])"
            ]
          },
          "metadata": {},
          "execution_count": 57
        }
      ]
    },
    {
      "cell_type": "code",
      "source": [
        "y_pred = Y_pred>0.95\n",
        "y_pred\n"
      ],
      "metadata": {
        "colab": {
          "base_uri": "https://localhost:8080/"
        },
        "id": "0uSafKgHS6ji",
        "outputId": "78b7e6f2-70fb-408d-8ce5-a6572bfe50d3"
      },
      "id": "0uSafKgHS6ji",
      "execution_count": null,
      "outputs": [
        {
          "output_type": "execute_result",
          "data": {
            "text/plain": [
              "array([[[[ True, False, False, ..., False, False, False],\n",
              "         [ True, False, False, ..., False, False, False]],\n",
              "\n",
              "        [[ True, False, False, ..., False, False, False],\n",
              "         [ True, False, False, ..., False, False, False]]],\n",
              "\n",
              "\n",
              "       [[[ True, False, False, ..., False, False, False],\n",
              "         [ True, False, False, ..., False, False, False]],\n",
              "\n",
              "        [[ True, False, False, ..., False,  True, False],\n",
              "         [ True, False, False, ..., False,  True, False]]],\n",
              "\n",
              "\n",
              "       [[[ True, False, False, ..., False, False, False],\n",
              "         [ True, False, False, ..., False, False, False]],\n",
              "\n",
              "        [[ True, False,  True, ..., False, False, False],\n",
              "         [ True, False, False, ..., False, False, False]]],\n",
              "\n",
              "\n",
              "       ...,\n",
              "\n",
              "\n",
              "       [[[False, False, False, ..., False, False, False],\n",
              "         [ True, False, False, ..., False, False, False]],\n",
              "\n",
              "        [[False, False, False, ..., False,  True, False],\n",
              "         [False, False, False, ..., False,  True, False]]],\n",
              "\n",
              "\n",
              "       [[[ True, False, False, ..., False, False, False],\n",
              "         [ True, False, False, ..., False, False, False]],\n",
              "\n",
              "        [[False, False, False, ..., False,  True, False],\n",
              "         [False, False, False, ..., False,  True, False]]],\n",
              "\n",
              "\n",
              "       [[[False, False, False, ..., False, False, False],\n",
              "         [False, False, False, ..., False, False, False]],\n",
              "\n",
              "        [[ True, False, False, ..., False, False, False],\n",
              "         [ True, False, False, ..., False, False, False]]]])"
            ]
          },
          "metadata": {},
          "execution_count": 142
        }
      ]
    },
    {
      "cell_type": "code",
      "source": [
        "validation_generator.classes"
      ],
      "metadata": {
        "colab": {
          "base_uri": "https://localhost:8080/"
        },
        "id": "h3D86QxdR7fM",
        "outputId": "4439258d-d29b-480d-8bde-3dd6f9dae444"
      },
      "id": "h3D86QxdR7fM",
      "execution_count": null,
      "outputs": [
        {
          "output_type": "execute_result",
          "data": {
            "text/plain": [
              "array([0, 0, 0, 0, 0, 0, 0, 0, 0, 0, 0, 0, 0, 0, 0, 0, 0, 0, 0, 0, 0, 0,\n",
              "       0, 0, 0, 0, 0, 0, 0, 0, 0, 0, 0, 0, 0, 0, 0, 0, 0, 0, 0, 0, 0, 0,\n",
              "       0, 0, 0, 0, 0, 0, 0, 0, 0, 0, 0, 0, 0, 0, 0, 0, 0, 0, 0, 0, 0, 0,\n",
              "       0, 0, 0, 0, 0, 0, 0, 0, 0, 0, 0, 0, 0, 0, 0, 0, 0, 0, 0, 0, 0, 0,\n",
              "       0, 0, 0, 0, 0, 0, 0, 0, 0, 0, 0, 0, 0, 0, 0, 0, 0, 0, 0, 0, 0, 1,\n",
              "       1, 1, 1, 1, 1, 1, 1, 1, 1, 1, 1, 1, 1, 1, 1, 1, 1, 1, 1, 1, 1, 1,\n",
              "       1, 1, 1, 1, 1, 1, 1, 1, 1, 1, 1, 1, 1, 1, 1, 1, 1, 1, 1, 1, 1, 1,\n",
              "       1, 1, 1, 1, 1, 1, 1, 1, 1, 1, 1, 1, 1, 1, 1, 1, 1, 1, 1, 1, 1, 1,\n",
              "       1, 1, 1, 1, 1, 1, 1, 1, 1, 1, 1, 1, 1, 1, 1, 1, 1, 1, 1, 1, 1, 1,\n",
              "       1, 1, 1, 1, 1, 1, 1, 1, 1, 1, 1, 1, 1, 1, 1, 1, 1], dtype=int32)"
            ]
          },
          "metadata": {},
          "execution_count": 113
        }
      ]
    },
    {
      "cell_type": "code",
      "source": [
        "target_names = ['no_yawn','yawn']"
      ],
      "metadata": {
        "id": "S4C2i-fXSBGD"
      },
      "id": "S4C2i-fXSBGD",
      "execution_count": 58,
      "outputs": []
    },
    {
      "cell_type": "code",
      "source": [
        "from sklearn.metrics import classification_report\n",
        "print(confusion_matrix(validation_generator.classes, y_pred))\n",
        "print('Confusion Matrix')\n"
      ],
      "metadata": {
        "colab": {
          "base_uri": "https://localhost:8080/"
        },
        "id": "S5sDL-6cSIcF",
        "outputId": "04ccd5a0-7662-4f95-cca8-4905304e4fbd"
      },
      "id": "S5sDL-6cSIcF",
      "execution_count": 59,
      "outputs": [
        {
          "output_type": "stream",
          "name": "stdout",
          "text": [
            "[[108   1]\n",
            " [ 14  92]]\n",
            "Confusion Matrix\n"
          ]
        }
      ]
    },
    {
      "cell_type": "code",
      "source": [
        "from sklearn.metrics import confusion_matrix, ConfusionMatrixDisplay\n",
        "cm= confusion_matrix(validation_generator.classes, y_pred)"
      ],
      "metadata": {
        "id": "BS4jaXSZn9Hv"
      },
      "id": "BS4jaXSZn9Hv",
      "execution_count": 62,
      "outputs": []
    },
    {
      "cell_type": "code",
      "source": [
        "disp = ConfusionMatrixDisplay(confusion_matrix=cm,display_labels=target_names)\n",
        "disp.plot()\n",
        "plt.show()\n"
      ],
      "metadata": {
        "id": "no40676dV3fQ",
        "outputId": "a09d04c9-c8b7-463b-90d6-beaa8aa28d5e",
        "colab": {
          "base_uri": "https://localhost:8080/",
          "height": 279
        }
      },
      "id": "no40676dV3fQ",
      "execution_count": 65,
      "outputs": [
        {
          "output_type": "display_data",
          "data": {
            "text/plain": [
              "<Figure size 432x288 with 2 Axes>"
            ],
            "image/png": "[encoded data removed]"
          },
          "metadata": {
            "needs_background": "light"
          }
        }
      ]
    },
    {
      "cell_type": "code",
      "source": [
        "print('Classification Report')\n",
        "target_names = ['no_yawn','yawn']\n",
        "print(classification_report(validation_generator.classes, y_pred, target_names=target_names))"
      ],
      "metadata": {
        "id": "a6_bZA3_Uo7x",
        "outputId": "905c1e86-e86a-4ff5-e0aa-e8f6aa79c848",
        "colab": {
          "base_uri": "https://localhost:8080/"
        }
      },
      "id": "a6_bZA3_Uo7x",
      "execution_count": 66,
      "outputs": [
        {
          "output_type": "stream",
          "name": "stdout",
          "text": [
            "Classification Report\n",
            "              precision    recall  f1-score   support\n",
            "\n",
            "     no_yawn       0.89      0.99      0.94       109\n",
            "        yawn       0.99      0.87      0.92       106\n",
            "\n",
            "    accuracy                           0.93       215\n",
            "   macro avg       0.94      0.93      0.93       215\n",
            "weighted avg       0.94      0.93      0.93       215\n",
            "\n"
          ]
        }
      ]
    },
    {
      "cell_type": "code",
      "source": [
        "import numpy as np\n",
        "from keras.preprocessing.image import image\n",
        "from keras.preprocessing.image import img_to_array\n",
        "from keras.models import Sequential\n",
        "from keras.layers import Dense, Activation, Flatten"
      ],
      "metadata": {
        "id": "G-4KH6FHVEi_"
      },
      "id": "G-4KH6FHVEi_",
      "execution_count": 67,
      "outputs": []
    },
    {
      "cell_type": "code",
      "source": [
        "training_set=(\"/content/drive/MyDrive/drowsiness_cropped (1)/drowsiness_cropped/train\")\n",
        "test_set=(\"/content/drive/MyDrive/drowsiness_cropped (1)/drowsiness_cropped/test\")"
      ],
      "metadata": {
        "id": "7MzZh0L2eJna"
      },
      "id": "7MzZh0L2eJna",
      "execution_count": 68,
      "outputs": []
    },
    {
      "cell_type": "code",
      "source": [
        "train_generator.class_indices\n",
        "train_datagen = ImageDataGenerator(\n",
        "        rescale=1./255,\n",
        "        shear_range=0.2,\n",
        "        zoom_range=0.2,\n",
        "        horizontal_flip=True)\n",
        "train_generator = train_datagen.flow_from_directory(\n",
        "        '/content/drive/MyDrive/drowsiness_cropped (1)/drowsiness_cropped/train',\n",
        "        target_size=(64, 64),\n",
        "        batch_size=32,\n",
        "        class_mode='binary')\n"
      ],
      "metadata": {
        "id": "LEtXedXudgbt",
        "outputId": "b3afaea9-f106-4e7a-c6e1-e2b5e567e3da",
        "colab": {
          "base_uri": "https://localhost:8080/"
        }
      },
      "id": "LEtXedXudgbt",
      "execution_count": 69,
      "outputs": [
        {
          "output_type": "stream",
          "name": "stdout",
          "text": [
            "Found 1310 images belonging to 2 classes.\n"
          ]
        }
      ]
    },
    {
      "cell_type": "code",
      "source": [
        "test_datagen = ImageDataGenerator(rescale=1./255)\n",
        "validation_generator = test_datagen.flow_from_directory(\n",
        "        '/content/drive/MyDrive/drowsiness_cropped (1)/drowsiness_cropped/test',\n",
        "        target_size=(64,64),\n",
        "        batch_size=32,\n",
        "        class_mode='binary')"
      ],
      "metadata": {
        "id": "AYWC-Fb3dfFy",
        "outputId": "b81c28d5-b20c-4ba1-c84b-31fbf16fe51f",
        "colab": {
          "base_uri": "https://localhost:8080/"
        }
      },
      "id": "AYWC-Fb3dfFy",
      "execution_count": 70,
      "outputs": [
        {
          "output_type": "stream",
          "name": "stdout",
          "text": [
            "Found 215 images belonging to 2 classes.\n"
          ]
        }
      ]
    },
    {
      "cell_type": "code",
      "source": [
        "resnet_model = Sequential()\n",
        "pretrained_model= tf.keras.applications.ResNet50(include_top=False,\n",
        "                   input_shape=(64,64,3),\n",
        "                   pooling='avg',classes=2,\n",
        "                   weights='imagenet')\n",
        "for layer in pretrained_model.layers:\n",
        "        layer.trainable=False\n",
        "resnet_model.add(pretrained_model)"
      ],
      "metadata": {
        "id": "tt8A_jPjkhUF",
        "colab": {
          "base_uri": "https://localhost:8080/"
        },
        "outputId": "e1fa268b-9f83-4005-8916-2e64db437381"
      },
      "id": "tt8A_jPjkhUF",
      "execution_count": 71,
      "outputs": [
        {
          "output_type": "stream",
          "name": "stdout",
          "text": [
            "Downloading data from https://storage.googleapis.com/tensorflow/keras-applications/resnet/resnet50_weights_tf_dim_ordering_tf_kernels_notop.h5\n",
            "94773248/94765736 [==============================] - 1s 0us/step\n",
            "94781440/94765736 [==============================] - 1s 0us/step\n"
          ]
        }
      ]
    },
    {
      "cell_type": "code",
      "source": [
        "resnet_model.add(Flatten())\n",
        "resnet_model.add(Dense(512, activation='relu'))\n",
        "resnet_model.add(tf.keras.layers.Dropout(0.3))\n",
        "resnet_model.add(Dense(512, activation='relu'))\n",
        "resnet_model.add(tf.keras.layers.Dropout(0.3))\n",
        "resnet_model.add(Dense(1, activation='sigmoid'))"
      ],
      "metadata": {
        "id": "_g9ac-t1k6A0"
      },
      "id": "_g9ac-t1k6A0",
      "execution_count": 72,
      "outputs": []
    },
    {
      "cell_type": "code",
      "source": [
        "resnet_model.summary()"
      ],
      "metadata": {
        "id": "u_ZUtncflC-r",
        "outputId": "382fb92a-90a7-4e83-e384-5b5777c3ca84",
        "colab": {
          "base_uri": "https://localhost:8080/"
        }
      },
      "id": "u_ZUtncflC-r",
      "execution_count": 73,
      "outputs": [
        {
          "output_type": "stream",
          "name": "stdout",
          "text": [
            "Model: \"sequential_7\"\n",
            "_________________________________________________________________\n",
            " Layer (type)                Output Shape              Param #   \n",
            "=================================================================\n",
            " resnet50 (Functional)       (None, 2048)              23587712  \n",
            "                                                                 \n",
            " flatten_3 (Flatten)         (None, 2048)              0         \n",
            "                                                                 \n",
            " dense_7 (Dense)             (None, 512)               1049088   \n",
            "                                                                 \n",
            " dropout_8 (Dropout)         (None, 512)               0         \n",
            "                                                                 \n",
            " dense_8 (Dense)             (None, 512)               262656    \n",
            "                                                                 \n",
            " dropout_9 (Dropout)         (None, 512)               0         \n",
            "                                                                 \n",
            " dense_9 (Dense)             (None, 1)                 513       \n",
            "                                                                 \n",
            "=================================================================\n",
            "Total params: 24,899,969\n",
            "Trainable params: 1,312,257\n",
            "Non-trainable params: 23,587,712\n",
            "_________________________________________________________________\n"
          ]
        }
      ]
    },
    {
      "cell_type": "code",
      "source": [
        "resnet_model.compile(\n",
        "  loss='binary_crossentropy',\n",
        "  optimizer='RMSprop',\n",
        "  metrics=['accuracy'])"
      ],
      "metadata": {
        "id": "RdxwBG8klS9Q"
      },
      "id": "RdxwBG8klS9Q",
      "execution_count": 74,
      "outputs": []
    },
    {
      "cell_type": "code",
      "source": [
        "history=resnet_model.fit(x=train_generator,validation_data=validation_generator,epochs=40)"
      ],
      "metadata": {
        "colab": {
          "base_uri": "https://localhost:8080/"
        },
        "id": "Z67FlJAsmxW5",
        "outputId": "5e055896-7ed0-4b3d-f39e-6ac988129cee"
      },
      "id": "Z67FlJAsmxW5",
      "execution_count": 76,
      "outputs": [
        {
          "output_type": "stream",
          "name": "stdout",
          "text": [
            "Epoch 1/40\n",
            "41/41 [==============================] - 8s 182ms/step - loss: 0.6147 - accuracy: 0.6504 - val_loss: 0.9242 - val_accuracy: 0.5023\n",
            "Epoch 2/40\n",
            "41/41 [==============================] - 7s 170ms/step - loss: 0.6130 - accuracy: 0.6435 - val_loss: 0.6132 - val_accuracy: 0.6419\n",
            "Epoch 3/40\n",
            "41/41 [==============================] - 8s 190ms/step - loss: 0.6158 - accuracy: 0.6351 - val_loss: 0.6109 - val_accuracy: 0.6326\n",
            "Epoch 4/40\n",
            "41/41 [==============================] - 7s 167ms/step - loss: 0.6126 - accuracy: 0.6504 - val_loss: 0.6199 - val_accuracy: 0.6326\n",
            "Epoch 5/40\n",
            "41/41 [==============================] - 7s 169ms/step - loss: 0.6146 - accuracy: 0.6382 - val_loss: 0.6043 - val_accuracy: 0.6512\n",
            "Epoch 6/40\n",
            "41/41 [==============================] - 7s 165ms/step - loss: 0.6214 - accuracy: 0.6305 - val_loss: 0.6048 - val_accuracy: 0.6558\n",
            "Epoch 7/40\n",
            "41/41 [==============================] - 7s 164ms/step - loss: 0.6179 - accuracy: 0.6389 - val_loss: 0.6095 - val_accuracy: 0.6186\n",
            "Epoch 8/40\n",
            "41/41 [==============================] - 7s 168ms/step - loss: 0.6006 - accuracy: 0.6550 - val_loss: 0.6009 - val_accuracy: 0.6651\n",
            "Epoch 9/40\n",
            "41/41 [==============================] - 7s 164ms/step - loss: 0.6016 - accuracy: 0.6496 - val_loss: 0.6353 - val_accuracy: 0.6093\n",
            "Epoch 10/40\n",
            "41/41 [==============================] - 7s 166ms/step - loss: 0.6181 - accuracy: 0.6328 - val_loss: 0.6367 - val_accuracy: 0.5953\n",
            "Epoch 11/40\n",
            "41/41 [==============================] - 7s 163ms/step - loss: 0.6065 - accuracy: 0.6351 - val_loss: 0.6011 - val_accuracy: 0.6233\n",
            "Epoch 12/40\n",
            "41/41 [==============================] - 7s 164ms/step - loss: 0.6118 - accuracy: 0.6489 - val_loss: 0.6187 - val_accuracy: 0.6093\n",
            "Epoch 13/40\n",
            "41/41 [==============================] - 7s 165ms/step - loss: 0.6004 - accuracy: 0.6473 - val_loss: 0.5981 - val_accuracy: 0.6465\n",
            "Epoch 14/40\n",
            "41/41 [==============================] - 7s 167ms/step - loss: 0.5911 - accuracy: 0.6519 - val_loss: 0.6064 - val_accuracy: 0.6465\n",
            "Epoch 15/40\n",
            "41/41 [==============================] - 7s 166ms/step - loss: 0.5993 - accuracy: 0.6649 - val_loss: 0.6313 - val_accuracy: 0.5953\n",
            "Epoch 16/40\n",
            "41/41 [==============================] - 7s 167ms/step - loss: 0.5973 - accuracy: 0.6458 - val_loss: 0.5940 - val_accuracy: 0.6698\n",
            "Epoch 17/40\n",
            "41/41 [==============================] - 7s 165ms/step - loss: 0.6043 - accuracy: 0.6565 - val_loss: 0.5950 - val_accuracy: 0.6419\n",
            "Epoch 18/40\n",
            "41/41 [==============================] - 7s 164ms/step - loss: 0.5945 - accuracy: 0.6664 - val_loss: 0.5921 - val_accuracy: 0.6512\n",
            "Epoch 19/40\n",
            "41/41 [==============================] - 7s 165ms/step - loss: 0.5977 - accuracy: 0.6542 - val_loss: 0.6147 - val_accuracy: 0.6326\n",
            "Epoch 20/40\n",
            "41/41 [==============================] - 7s 165ms/step - loss: 0.6008 - accuracy: 0.6656 - val_loss: 0.5925 - val_accuracy: 0.6512\n",
            "Epoch 21/40\n",
            "41/41 [==============================] - 8s 191ms/step - loss: 0.5997 - accuracy: 0.6649 - val_loss: 0.5991 - val_accuracy: 0.6465\n",
            "Epoch 22/40\n",
            "41/41 [==============================] - 7s 166ms/step - loss: 0.5878 - accuracy: 0.6580 - val_loss: 0.6400 - val_accuracy: 0.6047\n",
            "Epoch 23/40\n",
            "41/41 [==============================] - 7s 166ms/step - loss: 0.5960 - accuracy: 0.6473 - val_loss: 0.6073 - val_accuracy: 0.6326\n",
            "Epoch 24/40\n",
            "41/41 [==============================] - 7s 169ms/step - loss: 0.5862 - accuracy: 0.6557 - val_loss: 0.5950 - val_accuracy: 0.6558\n",
            "Epoch 25/40\n",
            "41/41 [==============================] - 7s 167ms/step - loss: 0.5996 - accuracy: 0.6466 - val_loss: 0.6012 - val_accuracy: 0.5953\n",
            "Epoch 26/40\n",
            "41/41 [==============================] - 7s 169ms/step - loss: 0.6008 - accuracy: 0.6481 - val_loss: 0.6196 - val_accuracy: 0.6279\n",
            "Epoch 27/40\n",
            "41/41 [==============================] - 7s 172ms/step - loss: 0.5950 - accuracy: 0.6489 - val_loss: 0.6012 - val_accuracy: 0.6279\n",
            "Epoch 28/40\n",
            "41/41 [==============================] - 7s 166ms/step - loss: 0.5898 - accuracy: 0.6603 - val_loss: 0.5853 - val_accuracy: 0.6651\n",
            "Epoch 29/40\n",
            "41/41 [==============================] - 7s 167ms/step - loss: 0.5920 - accuracy: 0.6580 - val_loss: 0.6229 - val_accuracy: 0.6093\n",
            "Epoch 30/40\n",
            "41/41 [==============================] - 7s 167ms/step - loss: 0.5811 - accuracy: 0.6672 - val_loss: 0.5853 - val_accuracy: 0.6419\n",
            "Epoch 31/40\n",
            "41/41 [==============================] - 7s 167ms/step - loss: 0.5871 - accuracy: 0.6672 - val_loss: 0.5885 - val_accuracy: 0.6651\n",
            "Epoch 32/40\n",
            "41/41 [==============================] - 7s 167ms/step - loss: 0.5901 - accuracy: 0.6618 - val_loss: 0.5945 - val_accuracy: 0.6140\n",
            "Epoch 33/40\n",
            "41/41 [==============================] - 7s 167ms/step - loss: 0.5890 - accuracy: 0.6656 - val_loss: 0.5824 - val_accuracy: 0.6233\n",
            "Epoch 34/40\n",
            "41/41 [==============================] - 7s 164ms/step - loss: 0.5818 - accuracy: 0.6748 - val_loss: 0.5951 - val_accuracy: 0.6419\n",
            "Epoch 35/40\n",
            "41/41 [==============================] - 7s 168ms/step - loss: 0.5948 - accuracy: 0.6672 - val_loss: 0.5841 - val_accuracy: 0.6186\n",
            "Epoch 36/40\n",
            "41/41 [==============================] - 7s 166ms/step - loss: 0.5765 - accuracy: 0.6748 - val_loss: 0.5797 - val_accuracy: 0.6605\n",
            "Epoch 37/40\n",
            "41/41 [==============================] - 7s 168ms/step - loss: 0.5853 - accuracy: 0.6504 - val_loss: 0.5847 - val_accuracy: 0.6372\n",
            "Epoch 38/40\n",
            "41/41 [==============================] - 7s 167ms/step - loss: 0.5967 - accuracy: 0.6473 - val_loss: 0.5905 - val_accuracy: 0.6093\n",
            "Epoch 39/40\n",
            "41/41 [==============================] - 8s 193ms/step - loss: 0.5747 - accuracy: 0.6626 - val_loss: 0.6160 - val_accuracy: 0.6233\n",
            "Epoch 40/40\n",
            "41/41 [==============================] - 7s 166ms/step - loss: 0.5845 - accuracy: 0.6756 - val_loss: 0.6479 - val_accuracy: 0.6047\n"
          ]
        }
      ]
    },
    {
      "cell_type": "code",
      "source": [
        "import tensorflow as tf\n",
        "from tensorflow import keras\n",
        "model=resnet_model\n",
        "model.save('/content/drive/MyDrive/camera/resnet50model.h5')\n"
      ],
      "metadata": {
        "id": "LQee-xwalQZ0"
      },
      "id": "LQee-xwalQZ0",
      "execution_count": 77,
      "outputs": []
    },
    {
      "cell_type": "code",
      "source": [
        "from tensorflow import keras\n",
        "model = keras.models.load_model(\"/content/drive/MyDrive/camera/resnet50model.h5\")\n",
        "model.summary()\n"
      ],
      "metadata": {
        "id": "RkaZA7G8lzcl",
        "colab": {
          "base_uri": "https://localhost:8080/"
        },
        "outputId": "f10c95ff-38c6-4b94-ee35-e51b35ad7d14"
      },
      "id": "RkaZA7G8lzcl",
      "execution_count": 78,
      "outputs": [
        {
          "output_type": "stream",
          "name": "stdout",
          "text": [
            "Model: \"sequential_7\"\n",
            "_________________________________________________________________\n",
            " Layer (type)                Output Shape              Param #   \n",
            "=================================================================\n",
            " resnet50 (Functional)       (None, 2048)              23587712  \n",
            "                                                                 \n",
            " flatten_3 (Flatten)         (None, 2048)              0         \n",
            "                                                                 \n",
            " dense_7 (Dense)             (None, 512)               1049088   \n",
            "                                                                 \n",
            " dropout_8 (Dropout)         (None, 512)               0         \n",
            "                                                                 \n",
            " dense_8 (Dense)             (None, 512)               262656    \n",
            "                                                                 \n",
            " dropout_9 (Dropout)         (None, 512)               0         \n",
            "                                                                 \n",
            " dense_9 (Dense)             (None, 1)                 513       \n",
            "                                                                 \n",
            "=================================================================\n",
            "Total params: 24,899,969\n",
            "Trainable params: 1,312,257\n",
            "Non-trainable params: 23,587,712\n",
            "_________________________________________________________________\n"
          ]
        }
      ]
    },
    {
      "cell_type": "code",
      "source": [
        "# accuracy\n",
        "from matplotlib import pyplot as plt\n",
        "\n",
        "plt.plot(history.history['accuracy'])\n",
        "plt.plot(history.history['val_accuracy'])\n",
        "plt.title('model accuracy')\n",
        "plt.ylabel('accuracy')\n",
        "plt.xlabel('epoch')\n",
        "plt.legend(['train', 'val'], loc='upper left')\n",
        "plt.show()"
      ],
      "metadata": {
        "colab": {
          "base_uri": "https://localhost:8080/",
          "height": 295
        },
        "id": "Y6azO-n3tEKU",
        "outputId": "d7f5e741-1403-4ae3-b66c-37c756fdafc4"
      },
      "id": "Y6azO-n3tEKU",
      "execution_count": 79,
      "outputs": [
        {
          "output_type": "display_data",
          "data": {
            "text/plain": [
              "<Figure size 432x288 with 1 Axes>"
            ],
            "image/png": "[encoded data removed]"
          },
          "metadata": {
            "needs_background": "light"
          }
        }
      ]
    },
    {
      "cell_type": "code",
      "source": [
        "from matplotlib import pyplot as plt\n",
        "\n",
        "plt.plot(history.history['loss'])\n",
        "plt.plot(history.history['val_loss'])\n",
        "plt.title('model loss')\n",
        "plt.ylabel('loss')\n",
        "plt.xlabel('epoch')\n",
        "plt.legend(['train', 'val'], loc='upper left')\n",
        "plt.show()"
      ],
      "metadata": {
        "colab": {
          "base_uri": "https://localhost:8080/",
          "height": 295
        },
        "id": "WVmioGattjyN",
        "outputId": "48d8841e-e1e2-43e7-a6ba-535214c72bae"
      },
      "id": "WVmioGattjyN",
      "execution_count": 80,
      "outputs": [
        {
          "output_type": "display_data",
          "data": {
            "text/plain": [
              "<Figure size 432x288 with 1 Axes>"
            ],
            "image/png": "[encoded data removed]"
          },
          "metadata": {
            "needs_background": "light"
          }
        }
      ]
    },
    {
      "cell_type": "code",
      "source": [
        "test_datagen = ImageDataGenerator(rescale=1./255)\n",
        "validation_generator = test_datagen.flow_from_directory(\n",
        "        '/content/drive/MyDrive/drowsiness_cropped (1)/drowsiness_cropped/test',\n",
        "        target_size=(64,64),\n",
        "        batch_size=32,\n",
        "        class_mode='binary',shuffle=False)"
      ],
      "metadata": {
        "id": "2uJUqY4eYXI4",
        "outputId": "70d2d0ce-653f-43ce-9587-ccf98d896ef9",
        "colab": {
          "base_uri": "https://localhost:8080/"
        }
      },
      "id": "2uJUqY4eYXI4",
      "execution_count": 89,
      "outputs": [
        {
          "output_type": "stream",
          "name": "stdout",
          "text": [
            "Found 215 images belonging to 2 classes.\n"
          ]
        }
      ]
    },
    {
      "cell_type": "code",
      "source": [
        "from sklearn.metrics import confusion_matrix, ConfusionMatrixDisplay\n",
        "Y_pred = resnet_model.predict_generator(validation_generator)\n",
        "Y_pred\n",
        "\n"
      ],
      "metadata": {
        "colab": {
          "base_uri": "https://localhost:8080/"
        },
        "id": "1SQzzGxp2tgH",
        "outputId": "7be9fcbf-b813-4433-ed5a-bf305daa4789"
      },
      "id": "1SQzzGxp2tgH",
      "execution_count": 90,
      "outputs": [
        {
          "output_type": "stream",
          "name": "stderr",
          "text": [
            "/usr/local/lib/python3.7/dist-packages/ipykernel_launcher.py:2: UserWarning: `Model.predict_generator` is deprecated and will be removed in a future version. Please use `Model.predict`, which supports generators.\n",
            "  \n"
          ]
        },
        {
          "output_type": "execute_result",
          "data": {
            "text/plain": [
              "array([[0.4002377 ],\n",
              "       [0.4713444 ],\n",
              "       [0.59117675],\n",
              "       [0.8818911 ],\n",
              "       [0.35798183],\n",
              "       [0.39300218],\n",
              "       [0.9585116 ],\n",
              "       [0.08125034],\n",
              "       [0.46873263],\n",
              "       [0.6638    ],\n",
              "       [0.47968844],\n",
              "       [0.440572  ],\n",
              "       [0.40206197],\n",
              "       [0.870149  ],\n",
              "       [0.74660397],\n",
              "       [0.49259874],\n",
              "       [0.7371485 ],\n",
              "       [0.49766397],\n",
              "       [0.51646554],\n",
              "       [0.70033306],\n",
              "       [0.4398219 ],\n",
              "       [0.3718642 ],\n",
              "       [0.53243345],\n",
              "       [0.71444416],\n",
              "       [0.47113967],\n",
              "       [0.5660808 ],\n",
              "       [0.6431272 ],\n",
              "       [0.7203982 ],\n",
              "       [0.45049462],\n",
              "       [0.51513034],\n",
              "       [0.42396942],\n",
              "       [0.5601394 ],\n",
              "       [0.51999146],\n",
              "       [0.35814038],\n",
              "       [0.52802247],\n",
              "       [0.46036127],\n",
              "       [0.45603684],\n",
              "       [0.4598398 ],\n",
              "       [0.44612452],\n",
              "       [0.42927647],\n",
              "       [0.49079177],\n",
              "       [0.6631527 ],\n",
              "       [0.5115911 ],\n",
              "       [0.39977652],\n",
              "       [0.47730508],\n",
              "       [0.55813324],\n",
              "       [0.6093156 ],\n",
              "       [0.7216176 ],\n",
              "       [0.6586998 ],\n",
              "       [0.51623344],\n",
              "       [0.44295368],\n",
              "       [0.7955978 ],\n",
              "       [0.47992   ],\n",
              "       [0.5783046 ],\n",
              "       [0.47873667],\n",
              "       [0.5925578 ],\n",
              "       [0.55039406],\n",
              "       [0.55277103],\n",
              "       [0.38446712],\n",
              "       [0.61576444],\n",
              "       [0.45930305],\n",
              "       [0.4681283 ],\n",
              "       [0.03254865],\n",
              "       [0.7434835 ],\n",
              "       [0.4685682 ],\n",
              "       [0.49078977],\n",
              "       [0.72554857],\n",
              "       [0.4582562 ],\n",
              "       [0.45292968],\n",
              "       [0.60325533],\n",
              "       [0.59317595],\n",
              "       [0.76389754],\n",
              "       [0.5140947 ],\n",
              "       [0.85605586],\n",
              "       [0.51217896],\n",
              "       [0.4942567 ],\n",
              "       [0.5486862 ],\n",
              "       [0.5512644 ],\n",
              "       [0.7661052 ],\n",
              "       [0.77478385],\n",
              "       [0.69852024],\n",
              "       [0.47504777],\n",
              "       [0.45243666],\n",
              "       [0.4907352 ],\n",
              "       [0.48435292],\n",
              "       [0.5110525 ],\n",
              "       [0.5133011 ],\n",
              "       [0.56516236],\n",
              "       [0.4636791 ],\n",
              "       [0.49855   ],\n",
              "       [0.41534466],\n",
              "       [0.72119766],\n",
              "       [0.01769689],\n",
              "       [0.7050619 ],\n",
              "       [0.9718555 ],\n",
              "       [0.42347485],\n",
              "       [0.5885495 ],\n",
              "       [0.84137803],\n",
              "       [0.4086051 ],\n",
              "       [0.41346204],\n",
              "       [0.8458704 ],\n",
              "       [0.75274533],\n",
              "       [0.5381511 ],\n",
              "       [0.62578666],\n",
              "       [0.10058305],\n",
              "       [0.68779814],\n",
              "       [0.3915552 ],\n",
              "       [0.75943476],\n",
              "       [0.55996585],\n",
              "       [0.9999989 ],\n",
              "       [0.4639384 ],\n",
              "       [0.88790137],\n",
              "       [0.56165785],\n",
              "       [0.40759236],\n",
              "       [0.53414625],\n",
              "       [0.9976615 ],\n",
              "       [0.91078365],\n",
              "       [0.999992  ],\n",
              "       [0.6773146 ],\n",
              "       [0.8282656 ],\n",
              "       [0.8814087 ],\n",
              "       [0.8505137 ],\n",
              "       [0.61655813],\n",
              "       [0.63879913],\n",
              "       [0.93150896],\n",
              "       [0.5928532 ],\n",
              "       [0.99964046],\n",
              "       [0.7974905 ],\n",
              "       [0.92494845],\n",
              "       [0.22648898],\n",
              "       [0.85944635],\n",
              "       [0.4385414 ],\n",
              "       [0.99990356],\n",
              "       [0.5896836 ],\n",
              "       [0.41284165],\n",
              "       [0.39673606],\n",
              "       [0.43007052],\n",
              "       [0.6047303 ],\n",
              "       [0.62838244],\n",
              "       [0.999992  ],\n",
              "       [0.40935102],\n",
              "       [0.46037504],\n",
              "       [0.41478187],\n",
              "       [0.9999896 ],\n",
              "       [0.48256952],\n",
              "       [0.9339503 ],\n",
              "       [0.9951892 ],\n",
              "       [0.60720164],\n",
              "       [0.98326206],\n",
              "       [0.5084066 ],\n",
              "       [0.48185933],\n",
              "       [0.7019338 ],\n",
              "       [0.6596885 ],\n",
              "       [0.5438389 ],\n",
              "       [0.51762575],\n",
              "       [0.9999802 ],\n",
              "       [0.66334164],\n",
              "       [0.7670397 ],\n",
              "       [0.84973544],\n",
              "       [0.5189498 ],\n",
              "       [1.        ],\n",
              "       [0.46211627],\n",
              "       [0.9998386 ],\n",
              "       [0.8910988 ],\n",
              "       [0.5322607 ],\n",
              "       [0.6131061 ],\n",
              "       [0.49319467],\n",
              "       [0.3890868 ],\n",
              "       [0.61206716],\n",
              "       [0.6423363 ],\n",
              "       [0.9999975 ],\n",
              "       [0.53172857],\n",
              "       [0.56123567],\n",
              "       [0.4017885 ],\n",
              "       [0.51993454],\n",
              "       [0.43289983],\n",
              "       [0.5867886 ],\n",
              "       [0.4198544 ],\n",
              "       [0.9999012 ],\n",
              "       [0.5617765 ],\n",
              "       [0.9999877 ],\n",
              "       [0.50581294],\n",
              "       [0.6308241 ],\n",
              "       [0.961626  ],\n",
              "       [0.9999149 ],\n",
              "       [0.4662863 ],\n",
              "       [0.56139034],\n",
              "       [0.42440724],\n",
              "       [0.9999887 ],\n",
              "       [0.47941515],\n",
              "       [0.8817373 ],\n",
              "       [0.7678967 ],\n",
              "       [0.99999475],\n",
              "       [0.5623506 ],\n",
              "       [0.68139225],\n",
              "       [0.52580297],\n",
              "       [0.49011096],\n",
              "       [0.91038114],\n",
              "       [0.9998778 ],\n",
              "       [0.99955314],\n",
              "       [0.89186364],\n",
              "       [0.44735864],\n",
              "       [0.9955309 ],\n",
              "       [0.9999975 ],\n",
              "       [0.9999975 ],\n",
              "       [0.99998605],\n",
              "       [0.99143666],\n",
              "       [0.5666404 ],\n",
              "       [0.38024577],\n",
              "       [0.9998884 ],\n",
              "       [0.9954195 ],\n",
              "       [0.9937052 ],\n",
              "       [0.41527328],\n",
              "       [0.43382457],\n",
              "       [0.9973936 ]], dtype=float32)"
            ]
          },
          "metadata": {},
          "execution_count": 90
        }
      ]
    },
    {
      "cell_type": "code",
      "source": [
        "validation_generator.classes\n",
        "Y_pred\n"
      ],
      "metadata": {
        "colab": {
          "base_uri": "https://localhost:8080/"
        },
        "id": "J-egMdgD4qst",
        "outputId": "f892b3a9-fa84-4a47-f885-50e2ecf6c375"
      },
      "id": "J-egMdgD4qst",
      "execution_count": 91,
      "outputs": [
        {
          "output_type": "execute_result",
          "data": {
            "text/plain": [
              "array([[0.4002377 ],\n",
              "       [0.4713444 ],\n",
              "       [0.59117675],\n",
              "       [0.8818911 ],\n",
              "       [0.35798183],\n",
              "       [0.39300218],\n",
              "       [0.9585116 ],\n",
              "       [0.08125034],\n",
              "       [0.46873263],\n",
              "       [0.6638    ],\n",
              "       [0.47968844],\n",
              "       [0.440572  ],\n",
              "       [0.40206197],\n",
              "       [0.870149  ],\n",
              "       [0.74660397],\n",
              "       [0.49259874],\n",
              "       [0.7371485 ],\n",
              "       [0.49766397],\n",
              "       [0.51646554],\n",
              "       [0.70033306],\n",
              "       [0.4398219 ],\n",
              "       [0.3718642 ],\n",
              "       [0.53243345],\n",
              "       [0.71444416],\n",
              "       [0.47113967],\n",
              "       [0.5660808 ],\n",
              "       [0.6431272 ],\n",
              "       [0.7203982 ],\n",
              "       [0.45049462],\n",
              "       [0.51513034],\n",
              "       [0.42396942],\n",
              "       [0.5601394 ],\n",
              "       [0.51999146],\n",
              "       [0.35814038],\n",
              "       [0.52802247],\n",
              "       [0.46036127],\n",
              "       [0.45603684],\n",
              "       [0.4598398 ],\n",
              "       [0.44612452],\n",
              "       [0.42927647],\n",
              "       [0.49079177],\n",
              "       [0.6631527 ],\n",
              "       [0.5115911 ],\n",
              "       [0.39977652],\n",
              "       [0.47730508],\n",
              "       [0.55813324],\n",
              "       [0.6093156 ],\n",
              "       [0.7216176 ],\n",
              "       [0.6586998 ],\n",
              "       [0.51623344],\n",
              "       [0.44295368],\n",
              "       [0.7955978 ],\n",
              "       [0.47992   ],\n",
              "       [0.5783046 ],\n",
              "       [0.47873667],\n",
              "       [0.5925578 ],\n",
              "       [0.55039406],\n",
              "       [0.55277103],\n",
              "       [0.38446712],\n",
              "       [0.61576444],\n",
              "       [0.45930305],\n",
              "       [0.4681283 ],\n",
              "       [0.03254865],\n",
              "       [0.7434835 ],\n",
              "       [0.4685682 ],\n",
              "       [0.49078977],\n",
              "       [0.72554857],\n",
              "       [0.4582562 ],\n",
              "       [0.45292968],\n",
              "       [0.60325533],\n",
              "       [0.59317595],\n",
              "       [0.76389754],\n",
              "       [0.5140947 ],\n",
              "       [0.85605586],\n",
              "       [0.51217896],\n",
              "       [0.4942567 ],\n",
              "       [0.5486862 ],\n",
              "       [0.5512644 ],\n",
              "       [0.7661052 ],\n",
              "       [0.77478385],\n",
              "       [0.69852024],\n",
              "       [0.47504777],\n",
              "       [0.45243666],\n",
              "       [0.4907352 ],\n",
              "       [0.48435292],\n",
              "       [0.5110525 ],\n",
              "       [0.5133011 ],\n",
              "       [0.56516236],\n",
              "       [0.4636791 ],\n",
              "       [0.49855   ],\n",
              "       [0.41534466],\n",
              "       [0.72119766],\n",
              "       [0.01769689],\n",
              "       [0.7050619 ],\n",
              "       [0.9718555 ],\n",
              "       [0.42347485],\n",
              "       [0.5885495 ],\n",
              "       [0.84137803],\n",
              "       [0.4086051 ],\n",
              "       [0.41346204],\n",
              "       [0.8458704 ],\n",
              "       [0.75274533],\n",
              "       [0.5381511 ],\n",
              "       [0.62578666],\n",
              "       [0.10058305],\n",
              "       [0.68779814],\n",
              "       [0.3915552 ],\n",
              "       [0.75943476],\n",
              "       [0.55996585],\n",
              "       [0.9999989 ],\n",
              "       [0.4639384 ],\n",
              "       [0.88790137],\n",
              "       [0.56165785],\n",
              "       [0.40759236],\n",
              "       [0.53414625],\n",
              "       [0.9976615 ],\n",
              "       [0.91078365],\n",
              "       [0.999992  ],\n",
              "       [0.6773146 ],\n",
              "       [0.8282656 ],\n",
              "       [0.8814087 ],\n",
              "       [0.8505137 ],\n",
              "       [0.61655813],\n",
              "       [0.63879913],\n",
              "       [0.93150896],\n",
              "       [0.5928532 ],\n",
              "       [0.99964046],\n",
              "       [0.7974905 ],\n",
              "       [0.92494845],\n",
              "       [0.22648898],\n",
              "       [0.85944635],\n",
              "       [0.4385414 ],\n",
              "       [0.99990356],\n",
              "       [0.5896836 ],\n",
              "       [0.41284165],\n",
              "       [0.39673606],\n",
              "       [0.43007052],\n",
              "       [0.6047303 ],\n",
              "       [0.62838244],\n",
              "       [0.999992  ],\n",
              "       [0.40935102],\n",
              "       [0.46037504],\n",
              "       [0.41478187],\n",
              "       [0.9999896 ],\n",
              "       [0.48256952],\n",
              "       [0.9339503 ],\n",
              "       [0.9951892 ],\n",
              "       [0.60720164],\n",
              "       [0.98326206],\n",
              "       [0.5084066 ],\n",
              "       [0.48185933],\n",
              "       [0.7019338 ],\n",
              "       [0.6596885 ],\n",
              "       [0.5438389 ],\n",
              "       [0.51762575],\n",
              "       [0.9999802 ],\n",
              "       [0.66334164],\n",
              "       [0.7670397 ],\n",
              "       [0.84973544],\n",
              "       [0.5189498 ],\n",
              "       [1.        ],\n",
              "       [0.46211627],\n",
              "       [0.9998386 ],\n",
              "       [0.8910988 ],\n",
              "       [0.5322607 ],\n",
              "       [0.6131061 ],\n",
              "       [0.49319467],\n",
              "       [0.3890868 ],\n",
              "       [0.61206716],\n",
              "       [0.6423363 ],\n",
              "       [0.9999975 ],\n",
              "       [0.53172857],\n",
              "       [0.56123567],\n",
              "       [0.4017885 ],\n",
              "       [0.51993454],\n",
              "       [0.43289983],\n",
              "       [0.5867886 ],\n",
              "       [0.4198544 ],\n",
              "       [0.9999012 ],\n",
              "       [0.5617765 ],\n",
              "       [0.9999877 ],\n",
              "       [0.50581294],\n",
              "       [0.6308241 ],\n",
              "       [0.961626  ],\n",
              "       [0.9999149 ],\n",
              "       [0.4662863 ],\n",
              "       [0.56139034],\n",
              "       [0.42440724],\n",
              "       [0.9999887 ],\n",
              "       [0.47941515],\n",
              "       [0.8817373 ],\n",
              "       [0.7678967 ],\n",
              "       [0.99999475],\n",
              "       [0.5623506 ],\n",
              "       [0.68139225],\n",
              "       [0.52580297],\n",
              "       [0.49011096],\n",
              "       [0.91038114],\n",
              "       [0.9998778 ],\n",
              "       [0.99955314],\n",
              "       [0.89186364],\n",
              "       [0.44735864],\n",
              "       [0.9955309 ],\n",
              "       [0.9999975 ],\n",
              "       [0.9999975 ],\n",
              "       [0.99998605],\n",
              "       [0.99143666],\n",
              "       [0.5666404 ],\n",
              "       [0.38024577],\n",
              "       [0.9998884 ],\n",
              "       [0.9954195 ],\n",
              "       [0.9937052 ],\n",
              "       [0.41527328],\n",
              "       [0.43382457],\n",
              "       [0.9973936 ]], dtype=float32)"
            ]
          },
          "metadata": {},
          "execution_count": 91
        }
      ]
    },
    {
      "cell_type": "code",
      "source": [
        "y_pred=Y_pred>0.93\n",
        "cm= confusion_matrix(validation_generator.classes,y_pred)\n",
        "y_pred\n",
        "\n"
      ],
      "metadata": {
        "colab": {
          "base_uri": "https://localhost:8080/"
        },
        "id": "_FNNICuc4490",
        "outputId": "6661d455-823a-43e2-eb7d-53eb752c7dd9"
      },
      "id": "_FNNICuc4490",
      "execution_count": 98,
      "outputs": [
        {
          "output_type": "execute_result",
          "data": {
            "text/plain": [
              "array([[False],\n",
              "       [False],\n",
              "       [False],\n",
              "       [False],\n",
              "       [False],\n",
              "       [False],\n",
              "       [ True],\n",
              "       [False],\n",
              "       [False],\n",
              "       [False],\n",
              "       [False],\n",
              "       [False],\n",
              "       [False],\n",
              "       [False],\n",
              "       [False],\n",
              "       [False],\n",
              "       [False],\n",
              "       [False],\n",
              "       [False],\n",
              "       [False],\n",
              "       [False],\n",
              "       [False],\n",
              "       [False],\n",
              "       [False],\n",
              "       [False],\n",
              "       [False],\n",
              "       [False],\n",
              "       [False],\n",
              "       [False],\n",
              "       [False],\n",
              "       [False],\n",
              "       [False],\n",
              "       [False],\n",
              "       [False],\n",
              "       [False],\n",
              "       [False],\n",
              "       [False],\n",
              "       [False],\n",
              "       [False],\n",
              "       [False],\n",
              "       [False],\n",
              "       [False],\n",
              "       [False],\n",
              "       [False],\n",
              "       [False],\n",
              "       [False],\n",
              "       [False],\n",
              "       [False],\n",
              "       [False],\n",
              "       [False],\n",
              "       [False],\n",
              "       [False],\n",
              "       [False],\n",
              "       [False],\n",
              "       [False],\n",
              "       [False],\n",
              "       [False],\n",
              "       [False],\n",
              "       [False],\n",
              "       [False],\n",
              "       [False],\n",
              "       [False],\n",
              "       [False],\n",
              "       [False],\n",
              "       [False],\n",
              "       [False],\n",
              "       [False],\n",
              "       [False],\n",
              "       [False],\n",
              "       [False],\n",
              "       [False],\n",
              "       [False],\n",
              "       [False],\n",
              "       [False],\n",
              "       [False],\n",
              "       [False],\n",
              "       [False],\n",
              "       [False],\n",
              "       [False],\n",
              "       [False],\n",
              "       [False],\n",
              "       [False],\n",
              "       [False],\n",
              "       [False],\n",
              "       [False],\n",
              "       [False],\n",
              "       [False],\n",
              "       [False],\n",
              "       [False],\n",
              "       [False],\n",
              "       [False],\n",
              "       [False],\n",
              "       [False],\n",
              "       [False],\n",
              "       [ True],\n",
              "       [False],\n",
              "       [False],\n",
              "       [False],\n",
              "       [False],\n",
              "       [False],\n",
              "       [False],\n",
              "       [False],\n",
              "       [False],\n",
              "       [False],\n",
              "       [False],\n",
              "       [False],\n",
              "       [False],\n",
              "       [False],\n",
              "       [False],\n",
              "       [ True],\n",
              "       [False],\n",
              "       [False],\n",
              "       [False],\n",
              "       [False],\n",
              "       [False],\n",
              "       [ True],\n",
              "       [False],\n",
              "       [ True],\n",
              "       [False],\n",
              "       [False],\n",
              "       [False],\n",
              "       [False],\n",
              "       [False],\n",
              "       [False],\n",
              "       [ True],\n",
              "       [False],\n",
              "       [ True],\n",
              "       [False],\n",
              "       [False],\n",
              "       [False],\n",
              "       [False],\n",
              "       [False],\n",
              "       [ True],\n",
              "       [False],\n",
              "       [False],\n",
              "       [False],\n",
              "       [False],\n",
              "       [False],\n",
              "       [False],\n",
              "       [ True],\n",
              "       [False],\n",
              "       [False],\n",
              "       [False],\n",
              "       [ True],\n",
              "       [False],\n",
              "       [ True],\n",
              "       [ True],\n",
              "       [False],\n",
              "       [ True],\n",
              "       [False],\n",
              "       [False],\n",
              "       [False],\n",
              "       [False],\n",
              "       [False],\n",
              "       [False],\n",
              "       [ True],\n",
              "       [False],\n",
              "       [False],\n",
              "       [False],\n",
              "       [False],\n",
              "       [ True],\n",
              "       [False],\n",
              "       [ True],\n",
              "       [False],\n",
              "       [False],\n",
              "       [False],\n",
              "       [False],\n",
              "       [False],\n",
              "       [False],\n",
              "       [False],\n",
              "       [ True],\n",
              "       [False],\n",
              "       [False],\n",
              "       [False],\n",
              "       [False],\n",
              "       [False],\n",
              "       [False],\n",
              "       [False],\n",
              "       [ True],\n",
              "       [False],\n",
              "       [ True],\n",
              "       [False],\n",
              "       [False],\n",
              "       [ True],\n",
              "       [ True],\n",
              "       [False],\n",
              "       [False],\n",
              "       [False],\n",
              "       [ True],\n",
              "       [False],\n",
              "       [False],\n",
              "       [False],\n",
              "       [ True],\n",
              "       [False],\n",
              "       [False],\n",
              "       [False],\n",
              "       [False],\n",
              "       [False],\n",
              "       [ True],\n",
              "       [ True],\n",
              "       [False],\n",
              "       [False],\n",
              "       [ True],\n",
              "       [ True],\n",
              "       [ True],\n",
              "       [ True],\n",
              "       [ True],\n",
              "       [False],\n",
              "       [False],\n",
              "       [ True],\n",
              "       [ True],\n",
              "       [ True],\n",
              "       [False],\n",
              "       [False],\n",
              "       [ True]])"
            ]
          },
          "metadata": {},
          "execution_count": 98
        }
      ]
    },
    {
      "cell_type": "code",
      "source": [
        "validation_generator.classes"
      ],
      "metadata": {
        "colab": {
          "base_uri": "https://localhost:8080/"
        },
        "id": "5MXNNe_-7OLX",
        "outputId": "d26d3c52-0358-451d-b050-ea7b580e01f3"
      },
      "id": "5MXNNe_-7OLX",
      "execution_count": 93,
      "outputs": [
        {
          "output_type": "execute_result",
          "data": {
            "text/plain": [
              "array([0, 0, 0, 0, 0, 0, 0, 0, 0, 0, 0, 0, 0, 0, 0, 0, 0, 0, 0, 0, 0, 0,\n",
              "       0, 0, 0, 0, 0, 0, 0, 0, 0, 0, 0, 0, 0, 0, 0, 0, 0, 0, 0, 0, 0, 0,\n",
              "       0, 0, 0, 0, 0, 0, 0, 0, 0, 0, 0, 0, 0, 0, 0, 0, 0, 0, 0, 0, 0, 0,\n",
              "       0, 0, 0, 0, 0, 0, 0, 0, 0, 0, 0, 0, 0, 0, 0, 0, 0, 0, 0, 0, 0, 0,\n",
              "       0, 0, 0, 0, 0, 0, 0, 0, 0, 0, 0, 0, 0, 0, 0, 0, 0, 0, 0, 0, 0, 1,\n",
              "       1, 1, 1, 1, 1, 1, 1, 1, 1, 1, 1, 1, 1, 1, 1, 1, 1, 1, 1, 1, 1, 1,\n",
              "       1, 1, 1, 1, 1, 1, 1, 1, 1, 1, 1, 1, 1, 1, 1, 1, 1, 1, 1, 1, 1, 1,\n",
              "       1, 1, 1, 1, 1, 1, 1, 1, 1, 1, 1, 1, 1, 1, 1, 1, 1, 1, 1, 1, 1, 1,\n",
              "       1, 1, 1, 1, 1, 1, 1, 1, 1, 1, 1, 1, 1, 1, 1, 1, 1, 1, 1, 1, 1, 1,\n",
              "       1, 1, 1, 1, 1, 1, 1, 1, 1, 1, 1, 1, 1, 1, 1, 1, 1], dtype=int32)"
            ]
          },
          "metadata": {},
          "execution_count": 93
        }
      ]
    },
    {
      "cell_type": "code",
      "source": [
        "target_names = ['no_yawn','yawn']\n",
        "print(classification_report(validation_generator.classes, y_pred,target_names=target_names))\n"
      ],
      "metadata": {
        "colab": {
          "base_uri": "https://localhost:8080/"
        },
        "id": "xUvaYZAV7QKF",
        "outputId": "080ae10f-f46f-4299-8d96-a532d506962d"
      },
      "id": "xUvaYZAV7QKF",
      "execution_count": 99,
      "outputs": [
        {
          "output_type": "stream",
          "name": "stdout",
          "text": [
            "              precision    recall  f1-score   support\n",
            "\n",
            "     no_yawn       0.59      0.98      0.74       109\n",
            "        yawn       0.94      0.30      0.46       106\n",
            "\n",
            "    accuracy                           0.65       215\n",
            "   macro avg       0.77      0.64      0.60       215\n",
            "weighted avg       0.76      0.65      0.60       215\n",
            "\n"
          ]
        }
      ]
    },
    {
      "cell_type": "code",
      "source": [
        "disp = ConfusionMatrixDisplay(confusion_matrix=cm,display_labels=validation_generator.classes)\n",
        "disp.plot()\n",
        "plt.show()\n"
      ],
      "metadata": {
        "colab": {
          "base_uri": "https://localhost:8080/",
          "height": 279
        },
        "id": "lWPX4kt98CVM",
        "outputId": "cc5bc48d-6561-4c18-8e70-d219f755e809"
      },
      "id": "lWPX4kt98CVM",
      "execution_count": 100,
      "outputs": [
        {
          "output_type": "display_data",
          "data": {
            "text/plain": [
              "<Figure size 432x288 with 2 Axes>"
            ],
            "image/png": "[encoded data removed]"
          },
          "metadata": {
            "needs_background": "light"
          }
        }
      ]
    },
    {
      "cell_type": "code",
      "source": [
        "Y_pred = model.predict_generator(validation_generator)"
      ],
      "metadata": {
        "id": "RSDITRywmTRU"
      },
      "id": "RSDITRywmTRU",
      "execution_count": null,
      "outputs": []
    },
    {
      "cell_type": "code",
      "source": [
        "from sklearn.metrics import confusion_matrix, ConfusionMatrixDisplay\n",
        "Y_pred = model.predict_generator(validation_generator)\n",
        "cm= confusion_matrix(validation_generator.classes, Y_pred)\n",
        "disp = ConfusionMatrixDisplay(confusion_matrix=cm,display_labels=targets.classes_)\n",
        "disp.plot()\n",
        "plt.show()\n"
      ],
      "metadata": {
        "id": "dHlDa0UMmUdr",
        "outputId": "bc8f12dd-777f-4218-c35c-9a874986a4f5",
        "colab": {
          "base_uri": "https://localhost:8080/",
          "height": 235
        }
      },
      "id": "dHlDa0UMmUdr",
      "execution_count": null,
      "outputs": [
        {
          "output_type": "error",
          "ename": "NameError",
          "evalue": "ignored",
          "traceback": [
            "\u001b[0;31m---------------------------------------------------------------------------\u001b[0m",
            "\u001b[0;31mNameError\u001b[0m                                 Traceback (most recent call last)",
            "\u001b[0;32m<ipython-input-2-ee241670bec4>\u001b[0m in \u001b[0;36m<module>\u001b[0;34m()\u001b[0m\n\u001b[1;32m      1\u001b[0m \u001b[0;32mfrom\u001b[0m \u001b[0msklearn\u001b[0m\u001b[0;34m.\u001b[0m\u001b[0mmetrics\u001b[0m \u001b[0;32mimport\u001b[0m \u001b[0mconfusion_matrix\u001b[0m\u001b[0;34m,\u001b[0m \u001b[0mConfusionMatrixDisplay\u001b[0m\u001b[0;34m\u001b[0m\u001b[0;34m\u001b[0m\u001b[0m\n\u001b[0;32m----> 2\u001b[0;31m \u001b[0mY_pred\u001b[0m \u001b[0;34m=\u001b[0m \u001b[0mmodel\u001b[0m\u001b[0;34m.\u001b[0m\u001b[0mpredict_generator\u001b[0m\u001b[0;34m(\u001b[0m\u001b[0mvalidation_generator\u001b[0m\u001b[0;34m)\u001b[0m\u001b[0;34m\u001b[0m\u001b[0;34m\u001b[0m\u001b[0m\n\u001b[0m\u001b[1;32m      3\u001b[0m \u001b[0mcm\u001b[0m\u001b[0;34m=\u001b[0m \u001b[0mconfusion_matrix\u001b[0m\u001b[0;34m(\u001b[0m\u001b[0mvalidation_generator\u001b[0m\u001b[0;34m.\u001b[0m\u001b[0mclasses\u001b[0m\u001b[0;34m,\u001b[0m \u001b[0mY_pred\u001b[0m\u001b[0;34m)\u001b[0m\u001b[0;34m\u001b[0m\u001b[0;34m\u001b[0m\u001b[0m\n\u001b[1;32m      4\u001b[0m \u001b[0mdisp\u001b[0m \u001b[0;34m=\u001b[0m \u001b[0mConfusionMatrixDisplay\u001b[0m\u001b[0;34m(\u001b[0m\u001b[0mconfusion_matrix\u001b[0m\u001b[0;34m=\u001b[0m\u001b[0mcm\u001b[0m\u001b[0;34m,\u001b[0m\u001b[0mdisplay_labels\u001b[0m\u001b[0;34m=\u001b[0m\u001b[0mtargets\u001b[0m\u001b[0;34m.\u001b[0m\u001b[0mclasses_\u001b[0m\u001b[0;34m)\u001b[0m\u001b[0;34m\u001b[0m\u001b[0;34m\u001b[0m\u001b[0m\n\u001b[1;32m      5\u001b[0m \u001b[0mdisp\u001b[0m\u001b[0;34m.\u001b[0m\u001b[0mplot\u001b[0m\u001b[0;34m(\u001b[0m\u001b[0;34m)\u001b[0m\u001b[0;34m\u001b[0m\u001b[0;34m\u001b[0m\u001b[0m\n",
            "\u001b[0;31mNameError\u001b[0m: name 'model' is not defined"
          ]
        }
      ]
    },
    {
      "cell_type": "code",
      "source": [
        "from tensorflow.keras.applications.inception_v3 import InceptionV3\n"
      ],
      "metadata": {
        "id": "TXQBoBd7k1LH"
      },
      "id": "TXQBoBd7k1LH",
      "execution_count": null,
      "outputs": []
    },
    {
      "cell_type": "code",
      "source": [
        "train_datagen = ImageDataGenerator(rescale = 1./255.,\n",
        "                                   rotation_range = 40,\n",
        "                                   width_shift_range = 0.2,\n",
        "                                   height_shift_range = 0.2,\n",
        "                                   shear_range = 0.2,\n",
        "                                   zoom_range = 0.2,\n",
        "                                   horizontal_flip = True)"
      ],
      "metadata": {
        "id": "-ixASWXC8Q-x"
      },
      "id": "-ixASWXC8Q-x",
      "execution_count": null,
      "outputs": []
    },
    {
      "cell_type": "code",
      "source": [
        "test_datagen = ImageDataGenerator( rescale = 1.0/255. )\n",
        "\n",
        "train_generator = train_datagen.flow_from_directory(\"/content/drive/MyDrive/drowsiness_cropped (1)/drowsiness_cropped/train\",\n",
        "                                                    batch_size = 32,\n",
        "                                                    class_mode = 'binary', \n",
        "                                                    target_size = (150,150))     \n",
        "\n",
        "\n",
        "validation_generator =  test_datagen.flow_from_directory( \"/content/drive/MyDrive/drowsiness_cropped (1)/drowsiness_cropped/test\",\n",
        "                                                          batch_size  = 32,\n",
        "                                                          class_mode  = 'binary', \n",
        "                                                          target_size = (150,150))"
      ],
      "metadata": {
        "id": "aOHfQwy_8auV",
        "outputId": "481f80ed-31c7-45c6-bc16-7f8511dd8431",
        "colab": {
          "base_uri": "https://localhost:8080/"
        }
      },
      "id": "aOHfQwy_8auV",
      "execution_count": null,
      "outputs": [
        {
          "output_type": "stream",
          "name": "stdout",
          "text": [
            "Found 1310 images belonging to 2 classes.\n",
            "Found 215 images belonging to 2 classes.\n"
          ]
        }
      ]
    },
    {
      "cell_type": "code",
      "source": [
        "tf.keras.applications.InceptionV3(\n",
        "    weights=None,\n",
        "    include_top= False,\n",
        "    input_tensor=None,\n",
        "    input_shape=None,\n",
        "    pooling=None,\n",
        "    classes=2,\n",
        "    classifier_activation=\"softmax\",\n",
        ")"
      ],
      "metadata": {
        "id": "7P7ADVjtk3c4",
        "outputId": "9662d0f9-65a2-4c78-a42c-4cf9a2d7b08c",
        "colab": {
          "base_uri": "https://localhost:8080/"
        }
      },
      "id": "7P7ADVjtk3c4",
      "execution_count": null,
      "outputs": [
        {
          "output_type": "execute_result",
          "data": {
            "text/plain": [
              "<keras.engine.functional.Functional at 0x7fb6502e5c10>"
            ]
          },
          "metadata": {},
          "execution_count": 16
        }
      ]
    },
    {
      "cell_type": "code",
      "source": [
        "model=InceptionV3()\n",
        "from keras.layers import Activation, Dense\n",
        "\n",
        "from keras.models import Sequential\n",
        "model = Sequential()\n",
        "model.add(InceptionV3())\n",
        "model.add(Dense(1,activation=\"softmax\"))\n",
        "model.compile(optimizer ='RMSprop', \n",
        "              loss = 'binary_crossentropy', \n",
        "              metrics = ['acc'])"
      ],
      "metadata": {
        "id": "IIYcHV9QmHZs"
      },
      "id": "IIYcHV9QmHZs",
      "execution_count": null,
      "outputs": []
    },
    {
      "cell_type": "code",
      "source": [
        "model.summary()"
      ],
      "metadata": {
        "id": "bPeI4-6d9JO0",
        "outputId": "295b80b5-830d-437c-bf17-2b2234a38a19",
        "colab": {
          "base_uri": "https://localhost:8080/"
        }
      },
      "id": "bPeI4-6d9JO0",
      "execution_count": null,
      "outputs": [
        {
          "output_type": "stream",
          "name": "stdout",
          "text": [
            "Model: \"sequential\"\n",
            "_________________________________________________________________\n",
            " Layer (type)                Output Shape              Param #   \n",
            "=================================================================\n",
            " inception_v3 (Functional)   (None, 1000)              23851784  \n",
            "                                                                 \n",
            " dense (Dense)               (None, 1)                 1001      \n",
            "                                                                 \n",
            "=================================================================\n",
            "Total params: 23,852,785\n",
            "Trainable params: 23,818,353\n",
            "Non-trainable params: 34,432\n",
            "_________________________________________________________________\n"
          ]
        }
      ]
    },
    {
      "cell_type": "code",
      "source": [
        "history = model.fit(train_generator,validation_data =validation_generator,epochs =10)"
      ],
      "metadata": {
        "id": "Dk2KvaLdm7ZU",
        "outputId": "7c9df7c0-7939-40f0-a721-abf546a2585f",
        "colab": {
          "base_uri": "https://localhost:8080/",
          "height": 346
        }
      },
      "id": "Dk2KvaLdm7ZU",
      "execution_count": null,
      "outputs": [
        {
          "output_type": "stream",
          "name": "stdout",
          "text": [
            "Epoch 1/10\n",
            "16/41 [==========>...................] - ETA: 7s - loss: 0.5688 - acc: 0.5137"
          ]
        },
        {
          "output_type": "error",
          "ename": "KeyboardInterrupt",
          "evalue": "ignored",
          "traceback": [
            "\u001b[0;31m---------------------------------------------------------------------------\u001b[0m",
            "\u001b[0;31mKeyboardInterrupt\u001b[0m                         Traceback (most recent call last)",
            "\u001b[0;32m<ipython-input-20-f00e635f6248>\u001b[0m in \u001b[0;36m<module>\u001b[0;34m()\u001b[0m\n\u001b[0;32m----> 1\u001b[0;31m \u001b[0mhistory\u001b[0m \u001b[0;34m=\u001b[0m \u001b[0mmodel\u001b[0m\u001b[0;34m.\u001b[0m\u001b[0mfit\u001b[0m\u001b[0;34m(\u001b[0m\u001b[0mtrain_generator\u001b[0m\u001b[0;34m,\u001b[0m\u001b[0mvalidation_data\u001b[0m \u001b[0;34m=\u001b[0m\u001b[0mvalidation_generator\u001b[0m\u001b[0;34m,\u001b[0m\u001b[0mepochs\u001b[0m \u001b[0;34m=\u001b[0m\u001b[0;36m10\u001b[0m\u001b[0;34m)\u001b[0m\u001b[0;34m\u001b[0m\u001b[0;34m\u001b[0m\u001b[0m\n\u001b[0m",
            "\u001b[0;32m/usr/local/lib/python3.7/dist-packages/keras/utils/traceback_utils.py\u001b[0m in \u001b[0;36merror_handler\u001b[0;34m(*args, **kwargs)\u001b[0m\n\u001b[1;32m     62\u001b[0m     \u001b[0mfiltered_tb\u001b[0m \u001b[0;34m=\u001b[0m \u001b[0;32mNone\u001b[0m\u001b[0;34m\u001b[0m\u001b[0;34m\u001b[0m\u001b[0m\n\u001b[1;32m     63\u001b[0m     \u001b[0;32mtry\u001b[0m\u001b[0;34m:\u001b[0m\u001b[0;34m\u001b[0m\u001b[0;34m\u001b[0m\u001b[0m\n\u001b[0;32m---> 64\u001b[0;31m       \u001b[0;32mreturn\u001b[0m \u001b[0mfn\u001b[0m\u001b[0;34m(\u001b[0m\u001b[0;34m*\u001b[0m\u001b[0margs\u001b[0m\u001b[0;34m,\u001b[0m \u001b[0;34m**\u001b[0m\u001b[0mkwargs\u001b[0m\u001b[0;34m)\u001b[0m\u001b[0;34m\u001b[0m\u001b[0;34m\u001b[0m\u001b[0m\n\u001b[0m\u001b[1;32m     65\u001b[0m     \u001b[0;32mexcept\u001b[0m \u001b[0mException\u001b[0m \u001b[0;32mas\u001b[0m \u001b[0me\u001b[0m\u001b[0;34m:\u001b[0m  \u001b[0;31m# pylint: disable=broad-except\u001b[0m\u001b[0;34m\u001b[0m\u001b[0;34m\u001b[0m\u001b[0m\n\u001b[1;32m     66\u001b[0m       \u001b[0mfiltered_tb\u001b[0m \u001b[0;34m=\u001b[0m \u001b[0m_process_traceback_frames\u001b[0m\u001b[0;34m(\u001b[0m\u001b[0me\u001b[0m\u001b[0;34m.\u001b[0m\u001b[0m__traceback__\u001b[0m\u001b[0;34m)\u001b[0m\u001b[0;34m\u001b[0m\u001b[0;34m\u001b[0m\u001b[0m\n",
            "\u001b[0;32m/usr/local/lib/python3.7/dist-packages/keras/engine/training.py\u001b[0m in \u001b[0;36mfit\u001b[0;34m(self, x, y, batch_size, epochs, verbose, callbacks, validation_split, validation_data, shuffle, class_weight, sample_weight, initial_epoch, steps_per_epoch, validation_steps, validation_batch_size, validation_freq, max_queue_size, workers, use_multiprocessing)\u001b[0m\n\u001b[1;32m   1382\u001b[0m                 _r=1):\n\u001b[1;32m   1383\u001b[0m               \u001b[0mcallbacks\u001b[0m\u001b[0;34m.\u001b[0m\u001b[0mon_train_batch_begin\u001b[0m\u001b[0;34m(\u001b[0m\u001b[0mstep\u001b[0m\u001b[0;34m)\u001b[0m\u001b[0;34m\u001b[0m\u001b[0;34m\u001b[0m\u001b[0m\n\u001b[0;32m-> 1384\u001b[0;31m               \u001b[0mtmp_logs\u001b[0m \u001b[0;34m=\u001b[0m \u001b[0mself\u001b[0m\u001b[0;34m.\u001b[0m\u001b[0mtrain_function\u001b[0m\u001b[0;34m(\u001b[0m\u001b[0miterator\u001b[0m\u001b[0;34m)\u001b[0m\u001b[0;34m\u001b[0m\u001b[0;34m\u001b[0m\u001b[0m\n\u001b[0m\u001b[1;32m   1385\u001b[0m               \u001b[0;32mif\u001b[0m \u001b[0mdata_handler\u001b[0m\u001b[0;34m.\u001b[0m\u001b[0mshould_sync\u001b[0m\u001b[0;34m:\u001b[0m\u001b[0;34m\u001b[0m\u001b[0;34m\u001b[0m\u001b[0m\n\u001b[1;32m   1386\u001b[0m                 \u001b[0mcontext\u001b[0m\u001b[0;34m.\u001b[0m\u001b[0masync_wait\u001b[0m\u001b[0;34m(\u001b[0m\u001b[0;34m)\u001b[0m\u001b[0;34m\u001b[0m\u001b[0;34m\u001b[0m\u001b[0m\n",
            "\u001b[0;32m/usr/local/lib/python3.7/dist-packages/tensorflow/python/util/traceback_utils.py\u001b[0m in \u001b[0;36merror_handler\u001b[0;34m(*args, **kwargs)\u001b[0m\n\u001b[1;32m    148\u001b[0m     \u001b[0mfiltered_tb\u001b[0m \u001b[0;34m=\u001b[0m \u001b[0;32mNone\u001b[0m\u001b[0;34m\u001b[0m\u001b[0;34m\u001b[0m\u001b[0m\n\u001b[1;32m    149\u001b[0m     \u001b[0;32mtry\u001b[0m\u001b[0;34m:\u001b[0m\u001b[0;34m\u001b[0m\u001b[0;34m\u001b[0m\u001b[0m\n\u001b[0;32m--> 150\u001b[0;31m       \u001b[0;32mreturn\u001b[0m \u001b[0mfn\u001b[0m\u001b[0;34m(\u001b[0m\u001b[0;34m*\u001b[0m\u001b[0margs\u001b[0m\u001b[0;34m,\u001b[0m \u001b[0;34m**\u001b[0m\u001b[0mkwargs\u001b[0m\u001b[0;34m)\u001b[0m\u001b[0;34m\u001b[0m\u001b[0;34m\u001b[0m\u001b[0m\n\u001b[0m\u001b[1;32m    151\u001b[0m     \u001b[0;32mexcept\u001b[0m \u001b[0mException\u001b[0m \u001b[0;32mas\u001b[0m \u001b[0me\u001b[0m\u001b[0;34m:\u001b[0m\u001b[0;34m\u001b[0m\u001b[0;34m\u001b[0m\u001b[0m\n\u001b[1;32m    152\u001b[0m       \u001b[0mfiltered_tb\u001b[0m \u001b[0;34m=\u001b[0m \u001b[0m_process_traceback_frames\u001b[0m\u001b[0;34m(\u001b[0m\u001b[0me\u001b[0m\u001b[0;34m.\u001b[0m\u001b[0m__traceback__\u001b[0m\u001b[0;34m)\u001b[0m\u001b[0;34m\u001b[0m\u001b[0;34m\u001b[0m\u001b[0m\n",
            "\u001b[0;32m/usr/local/lib/python3.7/dist-packages/tensorflow/python/eager/def_function.py\u001b[0m in \u001b[0;36m__call__\u001b[0;34m(self, *args, **kwds)\u001b[0m\n\u001b[1;32m    913\u001b[0m \u001b[0;34m\u001b[0m\u001b[0m\n\u001b[1;32m    914\u001b[0m       \u001b[0;32mwith\u001b[0m \u001b[0mOptionalXlaContext\u001b[0m\u001b[0;34m(\u001b[0m\u001b[0mself\u001b[0m\u001b[0;34m.\u001b[0m\u001b[0m_jit_compile\u001b[0m\u001b[0;34m)\u001b[0m\u001b[0;34m:\u001b[0m\u001b[0;34m\u001b[0m\u001b[0;34m\u001b[0m\u001b[0m\n\u001b[0;32m--> 915\u001b[0;31m         \u001b[0mresult\u001b[0m \u001b[0;34m=\u001b[0m \u001b[0mself\u001b[0m\u001b[0;34m.\u001b[0m\u001b[0m_call\u001b[0m\u001b[0;34m(\u001b[0m\u001b[0;34m*\u001b[0m\u001b[0margs\u001b[0m\u001b[0;34m,\u001b[0m \u001b[0;34m**\u001b[0m\u001b[0mkwds\u001b[0m\u001b[0;34m)\u001b[0m\u001b[0;34m\u001b[0m\u001b[0;34m\u001b[0m\u001b[0m\n\u001b[0m\u001b[1;32m    916\u001b[0m \u001b[0;34m\u001b[0m\u001b[0m\n\u001b[1;32m    917\u001b[0m       \u001b[0mnew_tracing_count\u001b[0m \u001b[0;34m=\u001b[0m \u001b[0mself\u001b[0m\u001b[0;34m.\u001b[0m\u001b[0mexperimental_get_tracing_count\u001b[0m\u001b[0;34m(\u001b[0m\u001b[0;34m)\u001b[0m\u001b[0;34m\u001b[0m\u001b[0;34m\u001b[0m\u001b[0m\n",
            "\u001b[0;32m/usr/local/lib/python3.7/dist-packages/tensorflow/python/eager/def_function.py\u001b[0m in \u001b[0;36m_call\u001b[0;34m(self, *args, **kwds)\u001b[0m\n\u001b[1;32m    945\u001b[0m       \u001b[0;31m# In this case we have created variables on the first call, so we run the\u001b[0m\u001b[0;34m\u001b[0m\u001b[0;34m\u001b[0m\u001b[0;34m\u001b[0m\u001b[0m\n\u001b[1;32m    946\u001b[0m       \u001b[0;31m# defunned version which is guaranteed to never create variables.\u001b[0m\u001b[0;34m\u001b[0m\u001b[0;34m\u001b[0m\u001b[0;34m\u001b[0m\u001b[0m\n\u001b[0;32m--> 947\u001b[0;31m       \u001b[0;32mreturn\u001b[0m \u001b[0mself\u001b[0m\u001b[0;34m.\u001b[0m\u001b[0m_stateless_fn\u001b[0m\u001b[0;34m(\u001b[0m\u001b[0;34m*\u001b[0m\u001b[0margs\u001b[0m\u001b[0;34m,\u001b[0m \u001b[0;34m**\u001b[0m\u001b[0mkwds\u001b[0m\u001b[0;34m)\u001b[0m  \u001b[0;31m# pylint: disable=not-callable\u001b[0m\u001b[0;34m\u001b[0m\u001b[0;34m\u001b[0m\u001b[0m\n\u001b[0m\u001b[1;32m    948\u001b[0m     \u001b[0;32melif\u001b[0m \u001b[0mself\u001b[0m\u001b[0;34m.\u001b[0m\u001b[0m_stateful_fn\u001b[0m \u001b[0;32mis\u001b[0m \u001b[0;32mnot\u001b[0m \u001b[0;32mNone\u001b[0m\u001b[0;34m:\u001b[0m\u001b[0;34m\u001b[0m\u001b[0;34m\u001b[0m\u001b[0m\n\u001b[1;32m    949\u001b[0m       \u001b[0;31m# Release the lock early so that multiple threads can perform the call\u001b[0m\u001b[0;34m\u001b[0m\u001b[0;34m\u001b[0m\u001b[0;34m\u001b[0m\u001b[0m\n",
            "\u001b[0;32m/usr/local/lib/python3.7/dist-packages/tensorflow/python/eager/function.py\u001b[0m in \u001b[0;36m__call__\u001b[0;34m(self, *args, **kwargs)\u001b[0m\n\u001b[1;32m   2955\u001b[0m        filtered_flat_args) = self._maybe_define_function(args, kwargs)\n\u001b[1;32m   2956\u001b[0m     return graph_function._call_flat(\n\u001b[0;32m-> 2957\u001b[0;31m         filtered_flat_args, captured_inputs=graph_function.captured_inputs)  # pylint: disable=protected-access\n\u001b[0m\u001b[1;32m   2958\u001b[0m \u001b[0;34m\u001b[0m\u001b[0m\n\u001b[1;32m   2959\u001b[0m   \u001b[0;34m@\u001b[0m\u001b[0mproperty\u001b[0m\u001b[0;34m\u001b[0m\u001b[0;34m\u001b[0m\u001b[0m\n",
            "\u001b[0;32m/usr/local/lib/python3.7/dist-packages/tensorflow/python/eager/function.py\u001b[0m in \u001b[0;36m_call_flat\u001b[0;34m(self, args, captured_inputs, cancellation_manager)\u001b[0m\n\u001b[1;32m   1852\u001b[0m       \u001b[0;31m# No tape is watching; skip to running the function.\u001b[0m\u001b[0;34m\u001b[0m\u001b[0;34m\u001b[0m\u001b[0;34m\u001b[0m\u001b[0m\n\u001b[1;32m   1853\u001b[0m       return self._build_call_outputs(self._inference_function.call(\n\u001b[0;32m-> 1854\u001b[0;31m           ctx, args, cancellation_manager=cancellation_manager))\n\u001b[0m\u001b[1;32m   1855\u001b[0m     forward_backward = self._select_forward_and_backward_functions(\n\u001b[1;32m   1856\u001b[0m         \u001b[0margs\u001b[0m\u001b[0;34m,\u001b[0m\u001b[0;34m\u001b[0m\u001b[0;34m\u001b[0m\u001b[0m\n",
            "\u001b[0;32m/usr/local/lib/python3.7/dist-packages/tensorflow/python/eager/function.py\u001b[0m in \u001b[0;36mcall\u001b[0;34m(self, ctx, args, cancellation_manager)\u001b[0m\n\u001b[1;32m    502\u001b[0m               \u001b[0minputs\u001b[0m\u001b[0;34m=\u001b[0m\u001b[0margs\u001b[0m\u001b[0;34m,\u001b[0m\u001b[0;34m\u001b[0m\u001b[0;34m\u001b[0m\u001b[0m\n\u001b[1;32m    503\u001b[0m               \u001b[0mattrs\u001b[0m\u001b[0;34m=\u001b[0m\u001b[0mattrs\u001b[0m\u001b[0;34m,\u001b[0m\u001b[0;34m\u001b[0m\u001b[0;34m\u001b[0m\u001b[0m\n\u001b[0;32m--> 504\u001b[0;31m               ctx=ctx)\n\u001b[0m\u001b[1;32m    505\u001b[0m         \u001b[0;32melse\u001b[0m\u001b[0;34m:\u001b[0m\u001b[0;34m\u001b[0m\u001b[0;34m\u001b[0m\u001b[0m\n\u001b[1;32m    506\u001b[0m           outputs = execute.execute_with_cancellation(\n",
            "\u001b[0;32m/usr/local/lib/python3.7/dist-packages/tensorflow/python/eager/execute.py\u001b[0m in \u001b[0;36mquick_execute\u001b[0;34m(op_name, num_outputs, inputs, attrs, ctx, name)\u001b[0m\n\u001b[1;32m     53\u001b[0m     \u001b[0mctx\u001b[0m\u001b[0;34m.\u001b[0m\u001b[0mensure_initialized\u001b[0m\u001b[0;34m(\u001b[0m\u001b[0;34m)\u001b[0m\u001b[0;34m\u001b[0m\u001b[0;34m\u001b[0m\u001b[0m\n\u001b[1;32m     54\u001b[0m     tensors = pywrap_tfe.TFE_Py_Execute(ctx._handle, device_name, op_name,\n\u001b[0;32m---> 55\u001b[0;31m                                         inputs, attrs, num_outputs)\n\u001b[0m\u001b[1;32m     56\u001b[0m   \u001b[0;32mexcept\u001b[0m \u001b[0mcore\u001b[0m\u001b[0;34m.\u001b[0m\u001b[0m_NotOkStatusException\u001b[0m \u001b[0;32mas\u001b[0m \u001b[0me\u001b[0m\u001b[0;34m:\u001b[0m\u001b[0;34m\u001b[0m\u001b[0;34m\u001b[0m\u001b[0m\n\u001b[1;32m     57\u001b[0m     \u001b[0;32mif\u001b[0m \u001b[0mname\u001b[0m \u001b[0;32mis\u001b[0m \u001b[0;32mnot\u001b[0m \u001b[0;32mNone\u001b[0m\u001b[0;34m:\u001b[0m\u001b[0;34m\u001b[0m\u001b[0;34m\u001b[0m\u001b[0m\n",
            "\u001b[0;31mKeyboardInterrupt\u001b[0m: "
          ]
        }
      ]
    },
    {
      "cell_type": "code",
      "source": [],
      "metadata": {
        "id": "f6dNCLPBtaHS"
      },
      "id": "f6dNCLPBtaHS",
      "execution_count": null,
      "outputs": []
    }
  ],
  "metadata": {
    "kernelspec": {
      "display_name": "Python 3 (ipykernel)",
      "language": "python",
      "name": "python3"
    },
    "language_info": {
      "codemirror_mode": {
        "name": "ipython",
        "version": 3
      },
      "file_extension": ".py",
      "mimetype": "text/x-python",
      "name": "python",
      "nbconvert_exporter": "python",
      "pygments_lexer": "ipython3",
      "version": "3.9.7"
    },
    "colab": {
      "name": "drowsiness.ipynb",
      "provenance": [],
      "collapsed_sections": [],
      "include_colab_link": true
    },
    "accelerator": "GPU"
  },
  "nbformat": 4,
  "nbformat_minor": 5
}