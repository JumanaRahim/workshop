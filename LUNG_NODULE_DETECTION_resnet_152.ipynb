{
  "metadata": {
    "colab": {
      "provenance": [],
      "include_colab_link": true
    },
    "kernelspec": {
      "name": "python3",
      "display_name": "Python 3",
      "language": "python"
    },
    "language_info": {
      "name": "python",
      "version": "3.7.12",
      "mimetype": "text/x-python",
      "codemirror_mode": {
        "name": "ipython",
        "version": 3
      },
      "pygments_lexer": "ipython3",
      "nbconvert_exporter": "python",
      "file_extension": ".py"
    },
    "accelerator": "GPU",
    "gpuClass": "standard"
  },
  "nbformat_minor": 0,
  "nbformat": 4,
  "cells": [
    {
      "cell_type": "markdown",
      "metadata": {
        "id": "view-in-github",
        "colab_type": "text"
      },
      "source": [
        "<a href=\"https://colab.research.google.com/github/JumanaRahim/workshop/blob/master/LUNG_NODULE_DETECTION_resnet_152.ipynb\" target=\"_parent\"><img src=\"https://colab.research.google.com/assets/colab-badge.svg\" alt=\"Open In Colab\"/></a>"
      ]
    },
    {
      "cell_type": "code",
      "source": [
        "#from google.colab import drive\n",
        "#drive.mount('/content/drive')"
      ],
      "metadata": {
        "id": "Cp49NJ7Sbpcv",
        "execution": {
          "iopub.status.busy": "2022-12-28T07:17:18.908527Z",
          "iopub.execute_input": "2022-12-28T07:17:18.909125Z",
          "iopub.status.idle": "2022-12-28T07:17:18.958069Z",
          "shell.execute_reply.started": "2022-12-28T07:17:18.909021Z",
          "shell.execute_reply": "2022-12-28T07:17:18.957252Z"
        },
        "trusted": true
      },
      "execution_count": null,
      "outputs": []
    },
    {
      "cell_type": "code",
      "source": [
        "!pip install pretrainedmodels\n",
        "!pip install torchsummary\n",
        "!pip install imutils\n",
        "!pip install tqdm"
      ],
      "metadata": {
        "colab": {
          "base_uri": "https://localhost:8080/"
        },
        "id": "5jNtZpgFN2p3",
        "outputId": "82b299e9-1949-4f8e-db1c-b4166fa57f40",
        "execution": {
          "iopub.status.busy": "2022-12-28T07:17:18.961104Z",
          "iopub.execute_input": "2022-12-28T07:17:18.961371Z",
          "iopub.status.idle": "2022-12-28T07:18:04.531719Z",
          "shell.execute_reply.started": "2022-12-28T07:17:18.961346Z",
          "shell.execute_reply": "2022-12-28T07:18:04.530561Z"
        },
        "trusted": true
      },
      "execution_count": null,
      "outputs": [
        {
          "name": "stdout",
          "text": "Collecting pretrainedmodels\n  Downloading pretrainedmodels-0.7.4.tar.gz (58 kB)\n\u001b[2K     \u001b[90m━━━━━━━━━━━━━━━━━━━━━━━━━━━━━━━━━━━━━━━━\u001b[0m \u001b[32m58.8/58.8 kB\u001b[0m \u001b[31m1.3 MB/s\u001b[0m eta \u001b[36m0:00:00\u001b[0ma \u001b[36m0:00:01\u001b[0m\n\u001b[?25h  Preparing metadata (setup.py) ... \u001b[?25ldone\n\u001b[?25hRequirement already satisfied: torch in /opt/conda/lib/python3.7/site-packages (from pretrainedmodels) (1.11.0)\nRequirement already satisfied: torchvision in /opt/conda/lib/python3.7/site-packages (from pretrainedmodels) (0.12.0)\nRequirement already satisfied: munch in /opt/conda/lib/python3.7/site-packages (from pretrainedmodels) (2.5.0)\nRequirement already satisfied: tqdm in /opt/conda/lib/python3.7/site-packages (from pretrainedmodels) (4.64.0)\nRequirement already satisfied: six in /opt/conda/lib/python3.7/site-packages (from munch->pretrainedmodels) (1.15.0)\nRequirement already satisfied: typing-extensions in /opt/conda/lib/python3.7/site-packages (from torch->pretrainedmodels) (4.1.1)\nRequirement already satisfied: requests in /opt/conda/lib/python3.7/site-packages (from torchvision->pretrainedmodels) (2.28.1)\nRequirement already satisfied: numpy in /opt/conda/lib/python3.7/site-packages (from torchvision->pretrainedmodels) (1.21.6)\nRequirement already satisfied: pillow!=8.3.*,>=5.3.0 in /opt/conda/lib/python3.7/site-packages (from torchvision->pretrainedmodels) (9.1.1)\nRequirement already satisfied: urllib3<1.27,>=1.21.1 in /opt/conda/lib/python3.7/site-packages (from requests->torchvision->pretrainedmodels) (1.26.12)\nRequirement already satisfied: charset-normalizer<3,>=2 in /opt/conda/lib/python3.7/site-packages (from requests->torchvision->pretrainedmodels) (2.1.0)\nRequirement already satisfied: certifi>=2017.4.17 in /opt/conda/lib/python3.7/site-packages (from requests->torchvision->pretrainedmodels) (2022.9.24)\nRequirement already satisfied: idna<4,>=2.5 in /opt/conda/lib/python3.7/site-packages (from requests->torchvision->pretrainedmodels) (3.3)\nBuilding wheels for collected packages: pretrainedmodels\n  Building wheel for pretrainedmodels (setup.py) ... \u001b[?25ldone\n\u001b[?25h  Created wheel for pretrainedmodels: filename=pretrainedmodels-0.7.4-py3-none-any.whl size=60965 sha256=ecdf8440c777bdca408e06ef5ea2d5ade7eb4130c09178403124823e54874100\n  Stored in directory: /root/.cache/pip/wheels/ed/27/e8/9543d42de2740d3544db96aefef63bda3f2c1761b3334f4873\nSuccessfully built pretrainedmodels\nInstalling collected packages: pretrainedmodels\nSuccessfully installed pretrainedmodels-0.7.4\n\u001b[33mWARNING: Running pip as the 'root' user can result in broken permissions and conflicting behaviour with the system package manager. It is recommended to use a virtual environment instead: https://pip.pypa.io/warnings/venv\u001b[0m\u001b[33m\n\u001b[0mCollecting torchsummary\n  Downloading torchsummary-1.5.1-py3-none-any.whl (2.8 kB)\nInstalling collected packages: torchsummary\nSuccessfully installed torchsummary-1.5.1\n\u001b[33mWARNING: Running pip as the 'root' user can result in broken permissions and conflicting behaviour with the system package manager. It is recommended to use a virtual environment instead: https://pip.pypa.io/warnings/venv\u001b[0m\u001b[33m\n\u001b[0mCollecting imutils\n  Downloading imutils-0.5.4.tar.gz (17 kB)\n  Preparing metadata (setup.py) ... \u001b[?25ldone\n\u001b[?25hBuilding wheels for collected packages: imutils\n  Building wheel for imutils (setup.py) ... \u001b[?25ldone\n\u001b[?25h  Created wheel for imutils: filename=imutils-0.5.4-py3-none-any.whl size=25858 sha256=787a46bf5d0059cee2333504e58fee871eadfee312861dbc6c5e329a69db9f97\n  Stored in directory: /root/.cache/pip/wheels/86/d7/0a/4923351ed1cec5d5e24c1eaf8905567b02a0343b24aa873df2\nSuccessfully built imutils\nInstalling collected packages: imutils\nSuccessfully installed imutils-0.5.4\n\u001b[33mWARNING: Running pip as the 'root' user can result in broken permissions and conflicting behaviour with the system package manager. It is recommended to use a virtual environment instead: https://pip.pypa.io/warnings/venv\u001b[0m\u001b[33m\n\u001b[0mRequirement already satisfied: tqdm in /opt/conda/lib/python3.7/site-packages (4.64.0)\n\u001b[33mWARNING: Running pip as the 'root' user can result in broken permissions and conflicting behaviour with the system package manager. It is recommended to use a virtual environment instead: https://pip.pypa.io/warnings/venv\u001b[0m\u001b[33m\n\u001b[0m",
          "output_type": "stream"
        }
      ]
    },
    {
      "cell_type": "code",
      "source": [
        "import os\n",
        "import torch\n",
        "from torch.utils.data import DataLoader,Dataset\n",
        "from torchvision import transforms\n",
        "from sklearn.preprocessing import LabelEncoder\n",
        "from torchsummary import summary\n",
        "from torch import nn\n",
        "import torch.nn.functional as F\n",
        "from imutils import paths\n",
        "import cv2\n",
        "import numpy as np\n",
        "from sklearn.model_selection import train_test_split\n",
        "import pretrainedmodels\n",
        "import torchvision\n",
        "from tqdm import tqdm\n",
        "import matplotlib.pyplot as plt"
      ],
      "metadata": {
        "id": "tvtdq_wwtt_x",
        "execution": {
          "iopub.status.busy": "2022-12-28T07:18:04.535346Z",
          "iopub.execute_input": "2022-12-28T07:18:04.535654Z",
          "iopub.status.idle": "2022-12-28T07:18:10.564737Z",
          "shell.execute_reply.started": "2022-12-28T07:18:04.535626Z",
          "shell.execute_reply": "2022-12-28T07:18:10.563598Z"
        },
        "trusted": true
      },
      "execution_count": null,
      "outputs": []
    },
    {
      "cell_type": "code",
      "source": [
        "root='/kaggle/input/lung-dataset'"
      ],
      "metadata": {
        "id": "mZSWxppaMYV-",
        "execution": {
          "iopub.status.busy": "2022-12-28T07:18:10.567215Z",
          "iopub.execute_input": "2022-12-28T07:18:10.567735Z",
          "iopub.status.idle": "2022-12-28T07:18:10.573582Z",
          "shell.execute_reply.started": "2022-12-28T07:18:10.567701Z",
          "shell.execute_reply": "2022-12-28T07:18:10.572404Z"
        },
        "trusted": true
      },
      "execution_count": null,
      "outputs": []
    },
    {
      "cell_type": "code",
      "source": [
        "classes=('benign', 'malignant', 'non-nodule')"
      ],
      "metadata": {
        "id": "shYAcU6IFJKu",
        "execution": {
          "iopub.status.busy": "2022-12-28T07:18:10.575463Z",
          "iopub.execute_input": "2022-12-28T07:18:10.576361Z",
          "iopub.status.idle": "2022-12-28T07:18:10.584589Z",
          "shell.execute_reply.started": "2022-12-28T07:18:10.576287Z",
          "shell.execute_reply": "2022-12-28T07:18:10.583426Z"
        },
        "trusted": true
      },
      "execution_count": null,
      "outputs": []
    },
    {
      "cell_type": "code",
      "source": [
        "image_paths = list(paths.list_images('/kaggle/input/lung-dataset'))\n",
        "\n",
        "data = []\n",
        "labels = []\n",
        "for img_path in image_paths:\n",
        "    label = img_path.split(os.path.sep)[-2]\n",
        "    img = cv2.imread(img_path)\n",
        "    img = cv2.cvtColor(img, cv2.COLOR_BGR2RGB)\n",
        "    \n",
        "    data.append(img)\n",
        "    labels.append(label)\n",
        "    \n",
        "data = np.array(data)\n",
        "labels = np.array(labels)"
      ],
      "metadata": {
        "id": "5WDI6i71ORyn",
        "execution": {
          "iopub.status.busy": "2022-12-28T07:18:10.586517Z",
          "iopub.execute_input": "2022-12-28T07:18:10.586907Z",
          "iopub.status.idle": "2022-12-28T07:18:27.606003Z",
          "shell.execute_reply.started": "2022-12-28T07:18:10.586869Z",
          "shell.execute_reply": "2022-12-28T07:18:27.604858Z"
        },
        "trusted": true
      },
      "execution_count": null,
      "outputs": []
    },
    {
      "cell_type": "code",
      "source": [
        "labels"
      ],
      "metadata": {
        "colab": {
          "base_uri": "https://localhost:8080/"
        },
        "id": "JRiiXyOerNpE",
        "outputId": "a76c27b9-77ee-470c-e449-c0ff7799d373",
        "execution": {
          "iopub.status.busy": "2022-12-28T07:18:27.607629Z",
          "iopub.execute_input": "2022-12-28T07:18:27.608077Z",
          "iopub.status.idle": "2022-12-28T07:18:27.624515Z",
          "shell.execute_reply.started": "2022-12-28T07:18:27.608032Z",
          "shell.execute_reply": "2022-12-28T07:18:27.623494Z"
        },
        "trusted": true
      },
      "execution_count": null,
      "outputs": [
        {
          "execution_count": 7,
          "output_type": "execute_result",
          "data": {
            "text/plain": "array(['non-nodule', 'non-nodule', 'non-nodule', 'non-nodule',\n       'non-nodule', 'non-nodule', 'non-nodule', 'non-nodule',\n       'non-nodule', 'non-nodule', 'non-nodule', 'non-nodule',\n       'non-nodule', 'non-nodule', 'non-nodule', 'non-nodule',\n       'non-nodule', 'non-nodule', 'non-nodule', 'non-nodule',\n       'non-nodule', 'non-nodule', 'non-nodule', 'non-nodule',\n       'non-nodule', 'non-nodule', 'non-nodule', 'non-nodule',\n       'non-nodule', 'non-nodule', 'non-nodule', 'non-nodule',\n       'non-nodule', 'non-nodule', 'non-nodule', 'non-nodule',\n       'non-nodule', 'non-nodule', 'non-nodule', 'non-nodule',\n       'non-nodule', 'non-nodule', 'non-nodule', 'non-nodule',\n       'non-nodule', 'non-nodule', 'non-nodule', 'non-nodule',\n       'non-nodule', 'non-nodule', 'non-nodule', 'non-nodule',\n       'non-nodule', 'non-nodule', 'non-nodule', 'non-nodule',\n       'non-nodule', 'non-nodule', 'non-nodule', 'non-nodule',\n       'non-nodule', 'non-nodule', 'non-nodule', 'non-nodule',\n       'non-nodule', 'non-nodule', 'non-nodule', 'non-nodule',\n       'non-nodule', 'non-nodule', 'non-nodule', 'non-nodule',\n       'non-nodule', 'non-nodule', 'non-nodule', 'non-nodule',\n       'non-nodule', 'non-nodule', 'non-nodule', 'non-nodule',\n       'non-nodule', 'non-nodule', 'non-nodule', 'non-nodule',\n       'non-nodule', 'non-nodule', 'non-nodule', 'non-nodule',\n       'non-nodule', 'non-nodule', 'non-nodule', 'non-nodule',\n       'non-nodule', 'benign', 'benign', 'benign', 'benign', 'benign',\n       'benign', 'benign', 'benign', 'benign', 'benign', 'benign',\n       'benign', 'benign', 'benign', 'benign', 'benign', 'benign',\n       'benign', 'benign', 'benign', 'benign', 'benign', 'benign',\n       'benign', 'benign', 'benign', 'benign', 'benign', 'benign',\n       'benign', 'benign', 'benign', 'benign', 'benign', 'benign',\n       'benign', 'benign', 'benign', 'benign', 'benign', 'benign',\n       'benign', 'benign', 'benign', 'benign', 'benign', 'benign',\n       'benign', 'benign', 'benign', 'benign', 'benign', 'benign',\n       'benign', 'malignant', 'malignant', 'malignant', 'malignant',\n       'malignant', 'malignant', 'malignant', 'malignant', 'malignant',\n       'malignant', 'malignant', 'malignant', 'malignant', 'malignant',\n       'malignant', 'malignant', 'malignant', 'malignant', 'malignant',\n       'malignant', 'malignant', 'malignant', 'malignant', 'malignant',\n       'malignant', 'malignant', 'malignant', 'malignant', 'malignant',\n       'malignant', 'malignant', 'malignant', 'malignant', 'malignant',\n       'malignant', 'malignant', 'malignant', 'malignant', 'malignant',\n       'malignant', 'malignant', 'malignant', 'malignant', 'malignant',\n       'malignant', 'malignant', 'malignant', 'malignant', 'malignant',\n       'malignant', 'malignant', 'malignant', 'malignant', 'malignant',\n       'malignant', 'malignant', 'malignant', 'malignant', 'malignant',\n       'malignant', 'malignant', 'malignant', 'malignant', 'malignant',\n       'malignant', 'malignant', 'malignant', 'malignant', 'malignant',\n       'malignant', 'malignant', 'malignant', 'malignant', 'malignant',\n       'malignant', 'malignant', 'malignant', 'malignant', 'malignant',\n       'malignant', 'malignant', 'malignant', 'malignant', 'malignant',\n       'malignant', 'malignant', 'malignant', 'malignant', 'malignant',\n       'malignant', 'malignant', 'malignant', 'malignant', 'malignant',\n       'malignant', 'malignant', 'malignant', 'malignant', 'malignant',\n       'malignant'], dtype='<U10')"
          },
          "metadata": {}
        }
      ]
    },
    {
      "cell_type": "code",
      "source": [
        "lb = LabelEncoder()\n",
        "labels = lb.fit_transform(labels)\n",
        "print(f\"Total Number of Classes: {len(lb.classes_)}\")"
      ],
      "metadata": {
        "colab": {
          "base_uri": "https://localhost:8080/"
        },
        "id": "2TEpv5btiBnH",
        "outputId": "734e536b-9b38-43d0-9062-0e262b18c19b",
        "execution": {
          "iopub.status.busy": "2022-12-28T07:18:27.626149Z",
          "iopub.execute_input": "2022-12-28T07:18:27.626812Z",
          "iopub.status.idle": "2022-12-28T07:18:27.640612Z",
          "shell.execute_reply.started": "2022-12-28T07:18:27.626776Z",
          "shell.execute_reply": "2022-12-28T07:18:27.639630Z"
        },
        "trusted": true
      },
      "execution_count": null,
      "outputs": [
        {
          "name": "stdout",
          "text": "Total Number of Classes: 3\n",
          "output_type": "stream"
        }
      ]
    },
    {
      "cell_type": "code",
      "source": [
        "#orginal dataset\n",
        "\n",
        "train_orginal_transforms = transforms.Compose([\n",
        "    transforms.ToPILImage(),\n",
        "    transforms.Resize((224, 224)),\n",
        "    transforms.ToTensor(),\n",
        "])\n",
        "\n",
        "test_orginal_transforms = transforms.Compose([\n",
        "    transforms.ToPILImage(),\n",
        "    transforms.Resize((224, 224)),\n",
        "    transforms.ToTensor(),\n",
        "])    \n",
        "\n",
        "\n",
        "#for data augmentation\n",
        "\n",
        "train_augmentation_transforms = transforms.Compose([\n",
        "    transforms.ToPILImage(),\n",
        "    transforms.Resize((224, 224)),\n",
        "    transforms.ToTensor(),\n",
        "    transforms.RandomHorizontalFlip(p=0.5),\n",
        "    transforms.RandomVerticalFlip(p=0.5),\n",
        "    transforms.Normalize(mean = [0.485,0.456,0.406], std=[0.229,0.224,0.225]),\n",
        "])\n",
        "\n",
        "test_augmentation_transforms = transforms.Compose([\n",
        "    transforms.ToPILImage(),\n",
        "    transforms.Resize((224, 224)),\n",
        "    transforms.ToTensor(),\n",
        "    transforms.RandomHorizontalFlip(p=0.5),\n",
        "    transforms.RandomVerticalFlip(p=0.5),\n",
        "    transforms.Normalize(mean = [0.485,0.456,0.406], std=[0.229,0.224,0.225]),\n",
        "])"
      ],
      "metadata": {
        "id": "W2IX6X3ZiwUp",
        "execution": {
          "iopub.status.busy": "2022-12-28T07:18:27.645823Z",
          "iopub.execute_input": "2022-12-28T07:18:27.646705Z",
          "iopub.status.idle": "2022-12-28T07:18:27.656096Z",
          "shell.execute_reply.started": "2022-12-28T07:18:27.646670Z",
          "shell.execute_reply": "2022-12-28T07:18:27.655258Z"
        },
        "trusted": true
      },
      "execution_count": null,
      "outputs": []
    },
    {
      "cell_type": "code",
      "source": [
        "# divide the data into train, validation, and test set\n",
        "#(X, x_val , Y, y_val) = train_test_split(data, labels, test_size=0.2,  stratify=labels,random_state=42)\n",
        "#(x_train, x_test, y_train, y_test) = train_test_split(X, Y, test_size=0.25, random_state=42)\n",
        "#print(f\"x_train examples: {x_train.shape}\\nx_test examples: {x_test.shape}\\nx_val examples: {x_val.shape}\")\n",
        "\n",
        "(x_train, x_test, y_train, y_test) = train_test_split(data, labels, test_size=0.3,random_state=42)\n",
        "print(f\"x_train examples: {x_train.shape}\\nx_test examples: {x_test.shape}\")"
      ],
      "metadata": {
        "colab": {
          "base_uri": "https://localhost:8080/"
        },
        "id": "Ws76CCyMi6uc",
        "outputId": "eb26c4e9-8d3a-4309-fd03-b92b04372bcf",
        "execution": {
          "iopub.status.busy": "2022-12-28T07:18:27.657110Z",
          "iopub.execute_input": "2022-12-28T07:18:27.657411Z",
          "iopub.status.idle": "2022-12-28T07:18:29.306706Z",
          "shell.execute_reply.started": "2022-12-28T07:18:27.657384Z",
          "shell.execute_reply": "2022-12-28T07:18:29.305319Z"
        },
        "trusted": true
      },
      "execution_count": null,
      "outputs": [
        {
          "name": "stdout",
          "text": "x_train examples: (172, 2048, 2048, 3)\nx_test examples: (75, 2048, 2048, 3)\n",
          "output_type": "stream"
        }
      ]
    },
    {
      "cell_type": "code",
      "source": [
        "batch_size=6"
      ],
      "metadata": {
        "id": "1aL4Sp3fFRqi",
        "execution": {
          "iopub.status.busy": "2022-12-28T07:18:29.311035Z",
          "iopub.execute_input": "2022-12-28T07:18:29.311501Z",
          "iopub.status.idle": "2022-12-28T07:18:29.320714Z",
          "shell.execute_reply.started": "2022-12-28T07:18:29.311463Z",
          "shell.execute_reply": "2022-12-28T07:18:29.319127Z"
        },
        "trusted": true
      },
      "execution_count": null,
      "outputs": []
    },
    {
      "cell_type": "code",
      "source": [
        "# custom dataset class\n",
        "class CustomDataset(Dataset):\n",
        "    def __init__(self, images, labels, transforms = None):\n",
        "        self.labels = labels\n",
        "        self.images = images\n",
        "        self.transforms = transforms\n",
        "        \n",
        "    def __len__(self):\n",
        "        return len(self.images)\n",
        "    \n",
        "    def __getitem__(self, index):\n",
        "        data = self.images[index][:]\n",
        "        labels = self.labels[index]\n",
        "        \n",
        "        if self.transforms:\n",
        "            data = self.transforms(data)\n",
        "            \n",
        "            return data,labels\n",
        "\n",
        "        \n",
        "        \n",
        "        \n",
        "        \n",
        "train_orginal_data = CustomDataset(x_train, y_train, train_orginal_transforms)\n",
        "test_orginal_data = CustomDataset(x_test, y_test, test_orginal_transforms)     \n",
        "\n",
        "\n",
        "train_augmentation_data = CustomDataset(x_train, y_train, train_augmentation_transforms )\n",
        "test_augmentation_data = CustomDataset(x_test, y_test, test_augmentation_transforms )  \n",
        "\n",
        "train_data = torch.utils.data.ConcatDataset([train_orginal_data,train_augmentation_data])\n",
        "print(len(train_data))\n",
        "test_data = torch.utils.data.ConcatDataset([test_orginal_data,test_augmentation_data])\n",
        "print(len(test_data))\n",
        "\n",
        "\n",
        "\n",
        "\n",
        "trainLoader = DataLoader(train_data, batch_size=batch_size, shuffle=True, num_workers=4)\n",
        "testLoader = DataLoader(test_data, batch_size=batch_size, shuffle=True, num_workers=4) "
      ],
      "metadata": {
        "colab": {
          "base_uri": "https://localhost:8080/"
        },
        "id": "1JI8d5JGjSRG",
        "outputId": "f098e731-65a9-436a-aa1f-353e9cc77d33",
        "execution": {
          "iopub.status.busy": "2022-12-28T07:18:29.326063Z",
          "iopub.execute_input": "2022-12-28T07:18:29.327704Z",
          "iopub.status.idle": "2022-12-28T07:18:29.355912Z",
          "shell.execute_reply.started": "2022-12-28T07:18:29.327667Z",
          "shell.execute_reply": "2022-12-28T07:18:29.355000Z"
        },
        "trusted": true
      },
      "execution_count": null,
      "outputs": [
        {
          "name": "stdout",
          "text": "344\n150\n",
          "output_type": "stream"
        },
        {
          "name": "stderr",
          "text": "/opt/conda/lib/python3.7/site-packages/torch/utils/data/dataloader.py:490: UserWarning: This DataLoader will create 4 worker processes in total. Our suggested max number of worker in current system is 2, which is smaller than what this DataLoader is going to create. Please be aware that excessive worker creation might get DataLoader running slow or even freeze, lower the worker number to avoid potential slowness/freeze if necessary.\n  cpuset_checked))\n",
          "output_type": "stream"
        }
      ]
    },
    {
      "cell_type": "code",
      "source": [
        "for X, y in trainLoader:\n",
        "    print(f\"Shape of X [N, C, H, W]: {X.shape}\")\n",
        "    print(f\"Shape of y: {y.shape} {y.dtype}\")\n",
        "    break"
      ],
      "metadata": {
        "colab": {
          "base_uri": "https://localhost:8080/"
        },
        "id": "z47BjF0k7kz7",
        "outputId": "8b959367-1a74-4f48-8b77-b8a1fa5cc141",
        "execution": {
          "iopub.status.busy": "2022-12-28T07:18:29.360383Z",
          "iopub.execute_input": "2022-12-28T07:18:29.362707Z",
          "iopub.status.idle": "2022-12-28T07:18:30.783527Z",
          "shell.execute_reply.started": "2022-12-28T07:18:29.362671Z",
          "shell.execute_reply": "2022-12-28T07:18:30.782347Z"
        },
        "trusted": true
      },
      "execution_count": null,
      "outputs": [
        {
          "name": "stdout",
          "text": "Shape of X [N, C, H, W]: torch.Size([6, 3, 224, 224])\nShape of y: torch.Size([6]) torch.int64\n",
          "output_type": "stream"
        }
      ]
    },
    {
      "cell_type": "code",
      "source": [
        "device = \"cuda\" if torch.cuda.is_available() else \"cpu\"\n",
        "print(f\"Using {device} device\")"
      ],
      "metadata": {
        "colab": {
          "base_uri": "https://localhost:8080/"
        },
        "id": "dPofmxO_jssC",
        "outputId": "efdc238e-9eb3-4946-ec93-f38ae53f984e",
        "execution": {
          "iopub.status.busy": "2022-12-28T07:18:30.785788Z",
          "iopub.execute_input": "2022-12-28T07:18:30.786200Z",
          "iopub.status.idle": "2022-12-28T07:18:30.913645Z",
          "shell.execute_reply.started": "2022-12-28T07:18:30.786161Z",
          "shell.execute_reply": "2022-12-28T07:18:30.912587Z"
        },
        "trusted": true
      },
      "execution_count": null,
      "outputs": [
        {
          "name": "stdout",
          "text": "Using cuda device\n",
          "output_type": "stream"
        }
      ]
    },
    {
      "cell_type": "markdown",
      "source": [
        "# **MODEL**"
      ],
      "metadata": {
        "id": "fiJfr5h0Tmyb"
      }
    },
    {
      "cell_type": "code",
      "source": [
        "class resnet152(nn.Module):\n",
        "    def __init__(self, pretrained):\n",
        "        super(resnet152, self).__init__()\n",
        "        if pretrained is True:\n",
        "            self.model = pretrainedmodels.__dict__['resnet152'](pretrained='imagenet')\n",
        "        else:\n",
        "            self.model = pretrainedmodels.__dict__['resnet152'](pretrained = None)\n",
        "        # change the classification layer\n",
        "        self.l0= nn.Linear(2048, len(lb.classes_))\n",
        "        self.dropout = nn.Dropout2d(0.4)\n",
        "        \n",
        "    def forward(self, x):\n",
        "        # get the batch size only, ignore(c, h, w)\n",
        "        batch, _, _, _ = x.shape\n",
        "        x = self.model.features(x)\n",
        "        x = F.adaptive_avg_pool2d(x, 1).reshape(batch, -1)\n",
        "        #x = self.dropout(x)\n",
        "        l0 = self.l0(x)\n",
        "        return l0\n",
        "\n",
        "model = resnet152(pretrained=True).to(device)\n",
        "print(model)"
      ],
      "metadata": {
        "colab": {
          "base_uri": "https://localhost:8080/",
          "referenced_widgets": [
            "91c95b1768484f08bc759e68897e77eb"
          ]
        },
        "id": "kOPgxghVja4L",
        "outputId": "36d8d9a8-0bf9-462d-96a2-468ee756bb06",
        "execution": {
          "iopub.status.busy": "2022-12-28T07:18:30.915705Z",
          "iopub.execute_input": "2022-12-28T07:18:30.916523Z",
          "iopub.status.idle": "2022-12-28T07:18:40.818320Z",
          "shell.execute_reply.started": "2022-12-28T07:18:30.916484Z",
          "shell.execute_reply": "2022-12-28T07:18:40.817299Z"
        },
        "trusted": true
      },
      "execution_count": null,
      "outputs": [
        {
          "name": "stderr",
          "text": "Downloading: \"https://download.pytorch.org/models/resnet152-b121ed2d.pth\" to /root/.cache/torch/hub/checkpoints/resnet152-b121ed2d.pth\n",
          "output_type": "stream"
        },
        {
          "output_type": "display_data",
          "data": {
            "text/plain": "  0%|          | 0.00/230M [00:00<?, ?B/s]",
            "application/vnd.jupyter.widget-view+json": {
              "version_major": 2,
              "version_minor": 0,
              "model_id": "91c95b1768484f08bc759e68897e77eb"
            }
          },
          "metadata": {}
        },
        {
          "name": "stdout",
          "text": "resnet152(\n  (model): ResNet(\n    (conv1): Conv2d(3, 64, kernel_size=(7, 7), stride=(2, 2), padding=(3, 3), bias=False)\n    (bn1): BatchNorm2d(64, eps=1e-05, momentum=0.1, affine=True, track_running_stats=True)\n    (relu): ReLU(inplace=True)\n    (maxpool): MaxPool2d(kernel_size=3, stride=2, padding=1, dilation=1, ceil_mode=False)\n    (layer1): Sequential(\n      (0): Bottleneck(\n        (conv1): Conv2d(64, 64, kernel_size=(1, 1), stride=(1, 1), bias=False)\n        (bn1): BatchNorm2d(64, eps=1e-05, momentum=0.1, affine=True, track_running_stats=True)\n        (conv2): Conv2d(64, 64, kernel_size=(3, 3), stride=(1, 1), padding=(1, 1), bias=False)\n        (bn2): BatchNorm2d(64, eps=1e-05, momentum=0.1, affine=True, track_running_stats=True)\n        (conv3): Conv2d(64, 256, kernel_size=(1, 1), stride=(1, 1), bias=False)\n        (bn3): BatchNorm2d(256, eps=1e-05, momentum=0.1, affine=True, track_running_stats=True)\n        (relu): ReLU(inplace=True)\n        (downsample): Sequential(\n          (0): Conv2d(64, 256, kernel_size=(1, 1), stride=(1, 1), bias=False)\n          (1): BatchNorm2d(256, eps=1e-05, momentum=0.1, affine=True, track_running_stats=True)\n        )\n      )\n      (1): Bottleneck(\n        (conv1): Conv2d(256, 64, kernel_size=(1, 1), stride=(1, 1), bias=False)\n        (bn1): BatchNorm2d(64, eps=1e-05, momentum=0.1, affine=True, track_running_stats=True)\n        (conv2): Conv2d(64, 64, kernel_size=(3, 3), stride=(1, 1), padding=(1, 1), bias=False)\n        (bn2): BatchNorm2d(64, eps=1e-05, momentum=0.1, affine=True, track_running_stats=True)\n        (conv3): Conv2d(64, 256, kernel_size=(1, 1), stride=(1, 1), bias=False)\n        (bn3): BatchNorm2d(256, eps=1e-05, momentum=0.1, affine=True, track_running_stats=True)\n        (relu): ReLU(inplace=True)\n      )\n      (2): Bottleneck(\n        (conv1): Conv2d(256, 64, kernel_size=(1, 1), stride=(1, 1), bias=False)\n        (bn1): BatchNorm2d(64, eps=1e-05, momentum=0.1, affine=True, track_running_stats=True)\n        (conv2): Conv2d(64, 64, kernel_size=(3, 3), stride=(1, 1), padding=(1, 1), bias=False)\n        (bn2): BatchNorm2d(64, eps=1e-05, momentum=0.1, affine=True, track_running_stats=True)\n        (conv3): Conv2d(64, 256, kernel_size=(1, 1), stride=(1, 1), bias=False)\n        (bn3): BatchNorm2d(256, eps=1e-05, momentum=0.1, affine=True, track_running_stats=True)\n        (relu): ReLU(inplace=True)\n      )\n    )\n    (layer2): Sequential(\n      (0): Bottleneck(\n        (conv1): Conv2d(256, 128, kernel_size=(1, 1), stride=(1, 1), bias=False)\n        (bn1): BatchNorm2d(128, eps=1e-05, momentum=0.1, affine=True, track_running_stats=True)\n        (conv2): Conv2d(128, 128, kernel_size=(3, 3), stride=(2, 2), padding=(1, 1), bias=False)\n        (bn2): BatchNorm2d(128, eps=1e-05, momentum=0.1, affine=True, track_running_stats=True)\n        (conv3): Conv2d(128, 512, kernel_size=(1, 1), stride=(1, 1), bias=False)\n        (bn3): BatchNorm2d(512, eps=1e-05, momentum=0.1, affine=True, track_running_stats=True)\n        (relu): ReLU(inplace=True)\n        (downsample): Sequential(\n          (0): Conv2d(256, 512, kernel_size=(1, 1), stride=(2, 2), bias=False)\n          (1): BatchNorm2d(512, eps=1e-05, momentum=0.1, affine=True, track_running_stats=True)\n        )\n      )\n      (1): Bottleneck(\n        (conv1): Conv2d(512, 128, kernel_size=(1, 1), stride=(1, 1), bias=False)\n        (bn1): BatchNorm2d(128, eps=1e-05, momentum=0.1, affine=True, track_running_stats=True)\n        (conv2): Conv2d(128, 128, kernel_size=(3, 3), stride=(1, 1), padding=(1, 1), bias=False)\n        (bn2): BatchNorm2d(128, eps=1e-05, momentum=0.1, affine=True, track_running_stats=True)\n        (conv3): Conv2d(128, 512, kernel_size=(1, 1), stride=(1, 1), bias=False)\n        (bn3): BatchNorm2d(512, eps=1e-05, momentum=0.1, affine=True, track_running_stats=True)\n        (relu): ReLU(inplace=True)\n      )\n      (2): Bottleneck(\n        (conv1): Conv2d(512, 128, kernel_size=(1, 1), stride=(1, 1), bias=False)\n        (bn1): BatchNorm2d(128, eps=1e-05, momentum=0.1, affine=True, track_running_stats=True)\n        (conv2): Conv2d(128, 128, kernel_size=(3, 3), stride=(1, 1), padding=(1, 1), bias=False)\n        (bn2): BatchNorm2d(128, eps=1e-05, momentum=0.1, affine=True, track_running_stats=True)\n        (conv3): Conv2d(128, 512, kernel_size=(1, 1), stride=(1, 1), bias=False)\n        (bn3): BatchNorm2d(512, eps=1e-05, momentum=0.1, affine=True, track_running_stats=True)\n        (relu): ReLU(inplace=True)\n      )\n      (3): Bottleneck(\n        (conv1): Conv2d(512, 128, kernel_size=(1, 1), stride=(1, 1), bias=False)\n        (bn1): BatchNorm2d(128, eps=1e-05, momentum=0.1, affine=True, track_running_stats=True)\n        (conv2): Conv2d(128, 128, kernel_size=(3, 3), stride=(1, 1), padding=(1, 1), bias=False)\n        (bn2): BatchNorm2d(128, eps=1e-05, momentum=0.1, affine=True, track_running_stats=True)\n        (conv3): Conv2d(128, 512, kernel_size=(1, 1), stride=(1, 1), bias=False)\n        (bn3): BatchNorm2d(512, eps=1e-05, momentum=0.1, affine=True, track_running_stats=True)\n        (relu): ReLU(inplace=True)\n      )\n      (4): Bottleneck(\n        (conv1): Conv2d(512, 128, kernel_size=(1, 1), stride=(1, 1), bias=False)\n        (bn1): BatchNorm2d(128, eps=1e-05, momentum=0.1, affine=True, track_running_stats=True)\n        (conv2): Conv2d(128, 128, kernel_size=(3, 3), stride=(1, 1), padding=(1, 1), bias=False)\n        (bn2): BatchNorm2d(128, eps=1e-05, momentum=0.1, affine=True, track_running_stats=True)\n        (conv3): Conv2d(128, 512, kernel_size=(1, 1), stride=(1, 1), bias=False)\n        (bn3): BatchNorm2d(512, eps=1e-05, momentum=0.1, affine=True, track_running_stats=True)\n        (relu): ReLU(inplace=True)\n      )\n      (5): Bottleneck(\n        (conv1): Conv2d(512, 128, kernel_size=(1, 1), stride=(1, 1), bias=False)\n        (bn1): BatchNorm2d(128, eps=1e-05, momentum=0.1, affine=True, track_running_stats=True)\n        (conv2): Conv2d(128, 128, kernel_size=(3, 3), stride=(1, 1), padding=(1, 1), bias=False)\n        (bn2): BatchNorm2d(128, eps=1e-05, momentum=0.1, affine=True, track_running_stats=True)\n        (conv3): Conv2d(128, 512, kernel_size=(1, 1), stride=(1, 1), bias=False)\n        (bn3): BatchNorm2d(512, eps=1e-05, momentum=0.1, affine=True, track_running_stats=True)\n        (relu): ReLU(inplace=True)\n      )\n      (6): Bottleneck(\n        (conv1): Conv2d(512, 128, kernel_size=(1, 1), stride=(1, 1), bias=False)\n        (bn1): BatchNorm2d(128, eps=1e-05, momentum=0.1, affine=True, track_running_stats=True)\n        (conv2): Conv2d(128, 128, kernel_size=(3, 3), stride=(1, 1), padding=(1, 1), bias=False)\n        (bn2): BatchNorm2d(128, eps=1e-05, momentum=0.1, affine=True, track_running_stats=True)\n        (conv3): Conv2d(128, 512, kernel_size=(1, 1), stride=(1, 1), bias=False)\n        (bn3): BatchNorm2d(512, eps=1e-05, momentum=0.1, affine=True, track_running_stats=True)\n        (relu): ReLU(inplace=True)\n      )\n      (7): Bottleneck(\n        (conv1): Conv2d(512, 128, kernel_size=(1, 1), stride=(1, 1), bias=False)\n        (bn1): BatchNorm2d(128, eps=1e-05, momentum=0.1, affine=True, track_running_stats=True)\n        (conv2): Conv2d(128, 128, kernel_size=(3, 3), stride=(1, 1), padding=(1, 1), bias=False)\n        (bn2): BatchNorm2d(128, eps=1e-05, momentum=0.1, affine=True, track_running_stats=True)\n        (conv3): Conv2d(128, 512, kernel_size=(1, 1), stride=(1, 1), bias=False)\n        (bn3): BatchNorm2d(512, eps=1e-05, momentum=0.1, affine=True, track_running_stats=True)\n        (relu): ReLU(inplace=True)\n      )\n    )\n    (layer3): Sequential(\n      (0): Bottleneck(\n        (conv1): Conv2d(512, 256, kernel_size=(1, 1), stride=(1, 1), bias=False)\n        (bn1): BatchNorm2d(256, eps=1e-05, momentum=0.1, affine=True, track_running_stats=True)\n        (conv2): Conv2d(256, 256, kernel_size=(3, 3), stride=(2, 2), padding=(1, 1), bias=False)\n        (bn2): BatchNorm2d(256, eps=1e-05, momentum=0.1, affine=True, track_running_stats=True)\n        (conv3): Conv2d(256, 1024, kernel_size=(1, 1), stride=(1, 1), bias=False)\n        (bn3): BatchNorm2d(1024, eps=1e-05, momentum=0.1, affine=True, track_running_stats=True)\n        (relu): ReLU(inplace=True)\n        (downsample): Sequential(\n          (0): Conv2d(512, 1024, kernel_size=(1, 1), stride=(2, 2), bias=False)\n          (1): BatchNorm2d(1024, eps=1e-05, momentum=0.1, affine=True, track_running_stats=True)\n        )\n      )\n      (1): Bottleneck(\n        (conv1): Conv2d(1024, 256, kernel_size=(1, 1), stride=(1, 1), bias=False)\n        (bn1): BatchNorm2d(256, eps=1e-05, momentum=0.1, affine=True, track_running_stats=True)\n        (conv2): Conv2d(256, 256, kernel_size=(3, 3), stride=(1, 1), padding=(1, 1), bias=False)\n        (bn2): BatchNorm2d(256, eps=1e-05, momentum=0.1, affine=True, track_running_stats=True)\n        (conv3): Conv2d(256, 1024, kernel_size=(1, 1), stride=(1, 1), bias=False)\n        (bn3): BatchNorm2d(1024, eps=1e-05, momentum=0.1, affine=True, track_running_stats=True)\n        (relu): ReLU(inplace=True)\n      )\n      (2): Bottleneck(\n        (conv1): Conv2d(1024, 256, kernel_size=(1, 1), stride=(1, 1), bias=False)\n        (bn1): BatchNorm2d(256, eps=1e-05, momentum=0.1, affine=True, track_running_stats=True)\n        (conv2): Conv2d(256, 256, kernel_size=(3, 3), stride=(1, 1), padding=(1, 1), bias=False)\n        (bn2): BatchNorm2d(256, eps=1e-05, momentum=0.1, affine=True, track_running_stats=True)\n        (conv3): Conv2d(256, 1024, kernel_size=(1, 1), stride=(1, 1), bias=False)\n        (bn3): BatchNorm2d(1024, eps=1e-05, momentum=0.1, affine=True, track_running_stats=True)\n        (relu): ReLU(inplace=True)\n      )\n      (3): Bottleneck(\n        (conv1): Conv2d(1024, 256, kernel_size=(1, 1), stride=(1, 1), bias=False)\n        (bn1): BatchNorm2d(256, eps=1e-05, momentum=0.1, affine=True, track_running_stats=True)\n        (conv2): Conv2d(256, 256, kernel_size=(3, 3), stride=(1, 1), padding=(1, 1), bias=False)\n        (bn2): BatchNorm2d(256, eps=1e-05, momentum=0.1, affine=True, track_running_stats=True)\n        (conv3): Conv2d(256, 1024, kernel_size=(1, 1), stride=(1, 1), bias=False)\n        (bn3): BatchNorm2d(1024, eps=1e-05, momentum=0.1, affine=True, track_running_stats=True)\n        (relu): ReLU(inplace=True)\n      )\n      (4): Bottleneck(\n        (conv1): Conv2d(1024, 256, kernel_size=(1, 1), stride=(1, 1), bias=False)\n        (bn1): BatchNorm2d(256, eps=1e-05, momentum=0.1, affine=True, track_running_stats=True)\n        (conv2): Conv2d(256, 256, kernel_size=(3, 3), stride=(1, 1), padding=(1, 1), bias=False)\n        (bn2): BatchNorm2d(256, eps=1e-05, momentum=0.1, affine=True, track_running_stats=True)\n        (conv3): Conv2d(256, 1024, kernel_size=(1, 1), stride=(1, 1), bias=False)\n        (bn3): BatchNorm2d(1024, eps=1e-05, momentum=0.1, affine=True, track_running_stats=True)\n        (relu): ReLU(inplace=True)\n      )\n      (5): Bottleneck(\n        (conv1): Conv2d(1024, 256, kernel_size=(1, 1), stride=(1, 1), bias=False)\n        (bn1): BatchNorm2d(256, eps=1e-05, momentum=0.1, affine=True, track_running_stats=True)\n        (conv2): Conv2d(256, 256, kernel_size=(3, 3), stride=(1, 1), padding=(1, 1), bias=False)\n        (bn2): BatchNorm2d(256, eps=1e-05, momentum=0.1, affine=True, track_running_stats=True)\n        (conv3): Conv2d(256, 1024, kernel_size=(1, 1), stride=(1, 1), bias=False)\n        (bn3): BatchNorm2d(1024, eps=1e-05, momentum=0.1, affine=True, track_running_stats=True)\n        (relu): ReLU(inplace=True)\n      )\n      (6): Bottleneck(\n        (conv1): Conv2d(1024, 256, kernel_size=(1, 1), stride=(1, 1), bias=False)\n        (bn1): BatchNorm2d(256, eps=1e-05, momentum=0.1, affine=True, track_running_stats=True)\n        (conv2): Conv2d(256, 256, kernel_size=(3, 3), stride=(1, 1), padding=(1, 1), bias=False)\n        (bn2): BatchNorm2d(256, eps=1e-05, momentum=0.1, affine=True, track_running_stats=True)\n        (conv3): Conv2d(256, 1024, kernel_size=(1, 1), stride=(1, 1), bias=False)\n        (bn3): BatchNorm2d(1024, eps=1e-05, momentum=0.1, affine=True, track_running_stats=True)\n        (relu): ReLU(inplace=True)\n      )\n      (7): Bottleneck(\n        (conv1): Conv2d(1024, 256, kernel_size=(1, 1), stride=(1, 1), bias=False)\n        (bn1): BatchNorm2d(256, eps=1e-05, momentum=0.1, affine=True, track_running_stats=True)\n        (conv2): Conv2d(256, 256, kernel_size=(3, 3), stride=(1, 1), padding=(1, 1), bias=False)\n        (bn2): BatchNorm2d(256, eps=1e-05, momentum=0.1, affine=True, track_running_stats=True)\n        (conv3): Conv2d(256, 1024, kernel_size=(1, 1), stride=(1, 1), bias=False)\n        (bn3): BatchNorm2d(1024, eps=1e-05, momentum=0.1, affine=True, track_running_stats=True)\n        (relu): ReLU(inplace=True)\n      )\n      (8): Bottleneck(\n        (conv1): Conv2d(1024, 256, kernel_size=(1, 1), stride=(1, 1), bias=False)\n        (bn1): BatchNorm2d(256, eps=1e-05, momentum=0.1, affine=True, track_running_stats=True)\n        (conv2): Conv2d(256, 256, kernel_size=(3, 3), stride=(1, 1), padding=(1, 1), bias=False)\n        (bn2): BatchNorm2d(256, eps=1e-05, momentum=0.1, affine=True, track_running_stats=True)\n        (conv3): Conv2d(256, 1024, kernel_size=(1, 1), stride=(1, 1), bias=False)\n        (bn3): BatchNorm2d(1024, eps=1e-05, momentum=0.1, affine=True, track_running_stats=True)\n        (relu): ReLU(inplace=True)\n      )\n      (9): Bottleneck(\n        (conv1): Conv2d(1024, 256, kernel_size=(1, 1), stride=(1, 1), bias=False)\n        (bn1): BatchNorm2d(256, eps=1e-05, momentum=0.1, affine=True, track_running_stats=True)\n        (conv2): Conv2d(256, 256, kernel_size=(3, 3), stride=(1, 1), padding=(1, 1), bias=False)\n        (bn2): BatchNorm2d(256, eps=1e-05, momentum=0.1, affine=True, track_running_stats=True)\n        (conv3): Conv2d(256, 1024, kernel_size=(1, 1), stride=(1, 1), bias=False)\n        (bn3): BatchNorm2d(1024, eps=1e-05, momentum=0.1, affine=True, track_running_stats=True)\n        (relu): ReLU(inplace=True)\n      )\n      (10): Bottleneck(\n        (conv1): Conv2d(1024, 256, kernel_size=(1, 1), stride=(1, 1), bias=False)\n        (bn1): BatchNorm2d(256, eps=1e-05, momentum=0.1, affine=True, track_running_stats=True)\n        (conv2): Conv2d(256, 256, kernel_size=(3, 3), stride=(1, 1), padding=(1, 1), bias=False)\n        (bn2): BatchNorm2d(256, eps=1e-05, momentum=0.1, affine=True, track_running_stats=True)\n        (conv3): Conv2d(256, 1024, kernel_size=(1, 1), stride=(1, 1), bias=False)\n        (bn3): BatchNorm2d(1024, eps=1e-05, momentum=0.1, affine=True, track_running_stats=True)\n        (relu): ReLU(inplace=True)\n      )\n      (11): Bottleneck(\n        (conv1): Conv2d(1024, 256, kernel_size=(1, 1), stride=(1, 1), bias=False)\n        (bn1): BatchNorm2d(256, eps=1e-05, momentum=0.1, affine=True, track_running_stats=True)\n        (conv2): Conv2d(256, 256, kernel_size=(3, 3), stride=(1, 1), padding=(1, 1), bias=False)\n        (bn2): BatchNorm2d(256, eps=1e-05, momentum=0.1, affine=True, track_running_stats=True)\n        (conv3): Conv2d(256, 1024, kernel_size=(1, 1), stride=(1, 1), bias=False)\n        (bn3): BatchNorm2d(1024, eps=1e-05, momentum=0.1, affine=True, track_running_stats=True)\n        (relu): ReLU(inplace=True)\n      )\n      (12): Bottleneck(\n        (conv1): Conv2d(1024, 256, kernel_size=(1, 1), stride=(1, 1), bias=False)\n        (bn1): BatchNorm2d(256, eps=1e-05, momentum=0.1, affine=True, track_running_stats=True)\n        (conv2): Conv2d(256, 256, kernel_size=(3, 3), stride=(1, 1), padding=(1, 1), bias=False)\n        (bn2): BatchNorm2d(256, eps=1e-05, momentum=0.1, affine=True, track_running_stats=True)\n        (conv3): Conv2d(256, 1024, kernel_size=(1, 1), stride=(1, 1), bias=False)\n        (bn3): BatchNorm2d(1024, eps=1e-05, momentum=0.1, affine=True, track_running_stats=True)\n        (relu): ReLU(inplace=True)\n      )\n      (13): Bottleneck(\n        (conv1): Conv2d(1024, 256, kernel_size=(1, 1), stride=(1, 1), bias=False)\n        (bn1): BatchNorm2d(256, eps=1e-05, momentum=0.1, affine=True, track_running_stats=True)\n        (conv2): Conv2d(256, 256, kernel_size=(3, 3), stride=(1, 1), padding=(1, 1), bias=False)\n        (bn2): BatchNorm2d(256, eps=1e-05, momentum=0.1, affine=True, track_running_stats=True)\n        (conv3): Conv2d(256, 1024, kernel_size=(1, 1), stride=(1, 1), bias=False)\n        (bn3): BatchNorm2d(1024, eps=1e-05, momentum=0.1, affine=True, track_running_stats=True)\n        (relu): ReLU(inplace=True)\n      )\n      (14): Bottleneck(\n        (conv1): Conv2d(1024, 256, kernel_size=(1, 1), stride=(1, 1), bias=False)\n        (bn1): BatchNorm2d(256, eps=1e-05, momentum=0.1, affine=True, track_running_stats=True)\n        (conv2): Conv2d(256, 256, kernel_size=(3, 3), stride=(1, 1), padding=(1, 1), bias=False)\n        (bn2): BatchNorm2d(256, eps=1e-05, momentum=0.1, affine=True, track_running_stats=True)\n        (conv3): Conv2d(256, 1024, kernel_size=(1, 1), stride=(1, 1), bias=False)\n        (bn3): BatchNorm2d(1024, eps=1e-05, momentum=0.1, affine=True, track_running_stats=True)\n        (relu): ReLU(inplace=True)\n      )\n      (15): Bottleneck(\n        (conv1): Conv2d(1024, 256, kernel_size=(1, 1), stride=(1, 1), bias=False)\n        (bn1): BatchNorm2d(256, eps=1e-05, momentum=0.1, affine=True, track_running_stats=True)\n        (conv2): Conv2d(256, 256, kernel_size=(3, 3), stride=(1, 1), padding=(1, 1), bias=False)\n        (bn2): BatchNorm2d(256, eps=1e-05, momentum=0.1, affine=True, track_running_stats=True)\n        (conv3): Conv2d(256, 1024, kernel_size=(1, 1), stride=(1, 1), bias=False)\n        (bn3): BatchNorm2d(1024, eps=1e-05, momentum=0.1, affine=True, track_running_stats=True)\n        (relu): ReLU(inplace=True)\n      )\n      (16): Bottleneck(\n        (conv1): Conv2d(1024, 256, kernel_size=(1, 1), stride=(1, 1), bias=False)\n        (bn1): BatchNorm2d(256, eps=1e-05, momentum=0.1, affine=True, track_running_stats=True)\n        (conv2): Conv2d(256, 256, kernel_size=(3, 3), stride=(1, 1), padding=(1, 1), bias=False)\n        (bn2): BatchNorm2d(256, eps=1e-05, momentum=0.1, affine=True, track_running_stats=True)\n        (conv3): Conv2d(256, 1024, kernel_size=(1, 1), stride=(1, 1), bias=False)\n        (bn3): BatchNorm2d(1024, eps=1e-05, momentum=0.1, affine=True, track_running_stats=True)\n        (relu): ReLU(inplace=True)\n      )\n      (17): Bottleneck(\n        (conv1): Conv2d(1024, 256, kernel_size=(1, 1), stride=(1, 1), bias=False)\n        (bn1): BatchNorm2d(256, eps=1e-05, momentum=0.1, affine=True, track_running_stats=True)\n        (conv2): Conv2d(256, 256, kernel_size=(3, 3), stride=(1, 1), padding=(1, 1), bias=False)\n        (bn2): BatchNorm2d(256, eps=1e-05, momentum=0.1, affine=True, track_running_stats=True)\n        (conv3): Conv2d(256, 1024, kernel_size=(1, 1), stride=(1, 1), bias=False)\n        (bn3): BatchNorm2d(1024, eps=1e-05, momentum=0.1, affine=True, track_running_stats=True)\n        (relu): ReLU(inplace=True)\n      )\n      (18): Bottleneck(\n        (conv1): Conv2d(1024, 256, kernel_size=(1, 1), stride=(1, 1), bias=False)\n        (bn1): BatchNorm2d(256, eps=1e-05, momentum=0.1, affine=True, track_running_stats=True)\n        (conv2): Conv2d(256, 256, kernel_size=(3, 3), stride=(1, 1), padding=(1, 1), bias=False)\n        (bn2): BatchNorm2d(256, eps=1e-05, momentum=0.1, affine=True, track_running_stats=True)\n        (conv3): Conv2d(256, 1024, kernel_size=(1, 1), stride=(1, 1), bias=False)\n        (bn3): BatchNorm2d(1024, eps=1e-05, momentum=0.1, affine=True, track_running_stats=True)\n        (relu): ReLU(inplace=True)\n      )\n      (19): Bottleneck(\n        (conv1): Conv2d(1024, 256, kernel_size=(1, 1), stride=(1, 1), bias=False)\n        (bn1): BatchNorm2d(256, eps=1e-05, momentum=0.1, affine=True, track_running_stats=True)\n        (conv2): Conv2d(256, 256, kernel_size=(3, 3), stride=(1, 1), padding=(1, 1), bias=False)\n        (bn2): BatchNorm2d(256, eps=1e-05, momentum=0.1, affine=True, track_running_stats=True)\n        (conv3): Conv2d(256, 1024, kernel_size=(1, 1), stride=(1, 1), bias=False)\n        (bn3): BatchNorm2d(1024, eps=1e-05, momentum=0.1, affine=True, track_running_stats=True)\n        (relu): ReLU(inplace=True)\n      )\n      (20): Bottleneck(\n        (conv1): Conv2d(1024, 256, kernel_size=(1, 1), stride=(1, 1), bias=False)\n        (bn1): BatchNorm2d(256, eps=1e-05, momentum=0.1, affine=True, track_running_stats=True)\n        (conv2): Conv2d(256, 256, kernel_size=(3, 3), stride=(1, 1), padding=(1, 1), bias=False)\n        (bn2): BatchNorm2d(256, eps=1e-05, momentum=0.1, affine=True, track_running_stats=True)\n        (conv3): Conv2d(256, 1024, kernel_size=(1, 1), stride=(1, 1), bias=False)\n        (bn3): BatchNorm2d(1024, eps=1e-05, momentum=0.1, affine=True, track_running_stats=True)\n        (relu): ReLU(inplace=True)\n      )\n      (21): Bottleneck(\n        (conv1): Conv2d(1024, 256, kernel_size=(1, 1), stride=(1, 1), bias=False)\n        (bn1): BatchNorm2d(256, eps=1e-05, momentum=0.1, affine=True, track_running_stats=True)\n        (conv2): Conv2d(256, 256, kernel_size=(3, 3), stride=(1, 1), padding=(1, 1), bias=False)\n        (bn2): BatchNorm2d(256, eps=1e-05, momentum=0.1, affine=True, track_running_stats=True)\n        (conv3): Conv2d(256, 1024, kernel_size=(1, 1), stride=(1, 1), bias=False)\n        (bn3): BatchNorm2d(1024, eps=1e-05, momentum=0.1, affine=True, track_running_stats=True)\n        (relu): ReLU(inplace=True)\n      )\n      (22): Bottleneck(\n        (conv1): Conv2d(1024, 256, kernel_size=(1, 1), stride=(1, 1), bias=False)\n        (bn1): BatchNorm2d(256, eps=1e-05, momentum=0.1, affine=True, track_running_stats=True)\n        (conv2): Conv2d(256, 256, kernel_size=(3, 3), stride=(1, 1), padding=(1, 1), bias=False)\n        (bn2): BatchNorm2d(256, eps=1e-05, momentum=0.1, affine=True, track_running_stats=True)\n        (conv3): Conv2d(256, 1024, kernel_size=(1, 1), stride=(1, 1), bias=False)\n        (bn3): BatchNorm2d(1024, eps=1e-05, momentum=0.1, affine=True, track_running_stats=True)\n        (relu): ReLU(inplace=True)\n      )\n      (23): Bottleneck(\n        (conv1): Conv2d(1024, 256, kernel_size=(1, 1), stride=(1, 1), bias=False)\n        (bn1): BatchNorm2d(256, eps=1e-05, momentum=0.1, affine=True, track_running_stats=True)\n        (conv2): Conv2d(256, 256, kernel_size=(3, 3), stride=(1, 1), padding=(1, 1), bias=False)\n        (bn2): BatchNorm2d(256, eps=1e-05, momentum=0.1, affine=True, track_running_stats=True)\n        (conv3): Conv2d(256, 1024, kernel_size=(1, 1), stride=(1, 1), bias=False)\n        (bn3): BatchNorm2d(1024, eps=1e-05, momentum=0.1, affine=True, track_running_stats=True)\n        (relu): ReLU(inplace=True)\n      )\n      (24): Bottleneck(\n        (conv1): Conv2d(1024, 256, kernel_size=(1, 1), stride=(1, 1), bias=False)\n        (bn1): BatchNorm2d(256, eps=1e-05, momentum=0.1, affine=True, track_running_stats=True)\n        (conv2): Conv2d(256, 256, kernel_size=(3, 3), stride=(1, 1), padding=(1, 1), bias=False)\n        (bn2): BatchNorm2d(256, eps=1e-05, momentum=0.1, affine=True, track_running_stats=True)\n        (conv3): Conv2d(256, 1024, kernel_size=(1, 1), stride=(1, 1), bias=False)\n        (bn3): BatchNorm2d(1024, eps=1e-05, momentum=0.1, affine=True, track_running_stats=True)\n        (relu): ReLU(inplace=True)\n      )\n      (25): Bottleneck(\n        (conv1): Conv2d(1024, 256, kernel_size=(1, 1), stride=(1, 1), bias=False)\n        (bn1): BatchNorm2d(256, eps=1e-05, momentum=0.1, affine=True, track_running_stats=True)\n        (conv2): Conv2d(256, 256, kernel_size=(3, 3), stride=(1, 1), padding=(1, 1), bias=False)\n        (bn2): BatchNorm2d(256, eps=1e-05, momentum=0.1, affine=True, track_running_stats=True)\n        (conv3): Conv2d(256, 1024, kernel_size=(1, 1), stride=(1, 1), bias=False)\n        (bn3): BatchNorm2d(1024, eps=1e-05, momentum=0.1, affine=True, track_running_stats=True)\n        (relu): ReLU(inplace=True)\n      )\n      (26): Bottleneck(\n        (conv1): Conv2d(1024, 256, kernel_size=(1, 1), stride=(1, 1), bias=False)\n        (bn1): BatchNorm2d(256, eps=1e-05, momentum=0.1, affine=True, track_running_stats=True)\n        (conv2): Conv2d(256, 256, kernel_size=(3, 3), stride=(1, 1), padding=(1, 1), bias=False)\n        (bn2): BatchNorm2d(256, eps=1e-05, momentum=0.1, affine=True, track_running_stats=True)\n        (conv3): Conv2d(256, 1024, kernel_size=(1, 1), stride=(1, 1), bias=False)\n        (bn3): BatchNorm2d(1024, eps=1e-05, momentum=0.1, affine=True, track_running_stats=True)\n        (relu): ReLU(inplace=True)\n      )\n      (27): Bottleneck(\n        (conv1): Conv2d(1024, 256, kernel_size=(1, 1), stride=(1, 1), bias=False)\n        (bn1): BatchNorm2d(256, eps=1e-05, momentum=0.1, affine=True, track_running_stats=True)\n        (conv2): Conv2d(256, 256, kernel_size=(3, 3), stride=(1, 1), padding=(1, 1), bias=False)\n        (bn2): BatchNorm2d(256, eps=1e-05, momentum=0.1, affine=True, track_running_stats=True)\n        (conv3): Conv2d(256, 1024, kernel_size=(1, 1), stride=(1, 1), bias=False)\n        (bn3): BatchNorm2d(1024, eps=1e-05, momentum=0.1, affine=True, track_running_stats=True)\n        (relu): ReLU(inplace=True)\n      )\n      (28): Bottleneck(\n        (conv1): Conv2d(1024, 256, kernel_size=(1, 1), stride=(1, 1), bias=False)\n        (bn1): BatchNorm2d(256, eps=1e-05, momentum=0.1, affine=True, track_running_stats=True)\n        (conv2): Conv2d(256, 256, kernel_size=(3, 3), stride=(1, 1), padding=(1, 1), bias=False)\n        (bn2): BatchNorm2d(256, eps=1e-05, momentum=0.1, affine=True, track_running_stats=True)\n        (conv3): Conv2d(256, 1024, kernel_size=(1, 1), stride=(1, 1), bias=False)\n        (bn3): BatchNorm2d(1024, eps=1e-05, momentum=0.1, affine=True, track_running_stats=True)\n        (relu): ReLU(inplace=True)\n      )\n      (29): Bottleneck(\n        (conv1): Conv2d(1024, 256, kernel_size=(1, 1), stride=(1, 1), bias=False)\n        (bn1): BatchNorm2d(256, eps=1e-05, momentum=0.1, affine=True, track_running_stats=True)\n        (conv2): Conv2d(256, 256, kernel_size=(3, 3), stride=(1, 1), padding=(1, 1), bias=False)\n        (bn2): BatchNorm2d(256, eps=1e-05, momentum=0.1, affine=True, track_running_stats=True)\n        (conv3): Conv2d(256, 1024, kernel_size=(1, 1), stride=(1, 1), bias=False)\n        (bn3): BatchNorm2d(1024, eps=1e-05, momentum=0.1, affine=True, track_running_stats=True)\n        (relu): ReLU(inplace=True)\n      )\n      (30): Bottleneck(\n        (conv1): Conv2d(1024, 256, kernel_size=(1, 1), stride=(1, 1), bias=False)\n        (bn1): BatchNorm2d(256, eps=1e-05, momentum=0.1, affine=True, track_running_stats=True)\n        (conv2): Conv2d(256, 256, kernel_size=(3, 3), stride=(1, 1), padding=(1, 1), bias=False)\n        (bn2): BatchNorm2d(256, eps=1e-05, momentum=0.1, affine=True, track_running_stats=True)\n        (conv3): Conv2d(256, 1024, kernel_size=(1, 1), stride=(1, 1), bias=False)\n        (bn3): BatchNorm2d(1024, eps=1e-05, momentum=0.1, affine=True, track_running_stats=True)\n        (relu): ReLU(inplace=True)\n      )\n      (31): Bottleneck(\n        (conv1): Conv2d(1024, 256, kernel_size=(1, 1), stride=(1, 1), bias=False)\n        (bn1): BatchNorm2d(256, eps=1e-05, momentum=0.1, affine=True, track_running_stats=True)\n        (conv2): Conv2d(256, 256, kernel_size=(3, 3), stride=(1, 1), padding=(1, 1), bias=False)\n        (bn2): BatchNorm2d(256, eps=1e-05, momentum=0.1, affine=True, track_running_stats=True)\n        (conv3): Conv2d(256, 1024, kernel_size=(1, 1), stride=(1, 1), bias=False)\n        (bn3): BatchNorm2d(1024, eps=1e-05, momentum=0.1, affine=True, track_running_stats=True)\n        (relu): ReLU(inplace=True)\n      )\n      (32): Bottleneck(\n        (conv1): Conv2d(1024, 256, kernel_size=(1, 1), stride=(1, 1), bias=False)\n        (bn1): BatchNorm2d(256, eps=1e-05, momentum=0.1, affine=True, track_running_stats=True)\n        (conv2): Conv2d(256, 256, kernel_size=(3, 3), stride=(1, 1), padding=(1, 1), bias=False)\n        (bn2): BatchNorm2d(256, eps=1e-05, momentum=0.1, affine=True, track_running_stats=True)\n        (conv3): Conv2d(256, 1024, kernel_size=(1, 1), stride=(1, 1), bias=False)\n        (bn3): BatchNorm2d(1024, eps=1e-05, momentum=0.1, affine=True, track_running_stats=True)\n        (relu): ReLU(inplace=True)\n      )\n      (33): Bottleneck(\n        (conv1): Conv2d(1024, 256, kernel_size=(1, 1), stride=(1, 1), bias=False)\n        (bn1): BatchNorm2d(256, eps=1e-05, momentum=0.1, affine=True, track_running_stats=True)\n        (conv2): Conv2d(256, 256, kernel_size=(3, 3), stride=(1, 1), padding=(1, 1), bias=False)\n        (bn2): BatchNorm2d(256, eps=1e-05, momentum=0.1, affine=True, track_running_stats=True)\n        (conv3): Conv2d(256, 1024, kernel_size=(1, 1), stride=(1, 1), bias=False)\n        (bn3): BatchNorm2d(1024, eps=1e-05, momentum=0.1, affine=True, track_running_stats=True)\n        (relu): ReLU(inplace=True)\n      )\n      (34): Bottleneck(\n        (conv1): Conv2d(1024, 256, kernel_size=(1, 1), stride=(1, 1), bias=False)\n        (bn1): BatchNorm2d(256, eps=1e-05, momentum=0.1, affine=True, track_running_stats=True)\n        (conv2): Conv2d(256, 256, kernel_size=(3, 3), stride=(1, 1), padding=(1, 1), bias=False)\n        (bn2): BatchNorm2d(256, eps=1e-05, momentum=0.1, affine=True, track_running_stats=True)\n        (conv3): Conv2d(256, 1024, kernel_size=(1, 1), stride=(1, 1), bias=False)\n        (bn3): BatchNorm2d(1024, eps=1e-05, momentum=0.1, affine=True, track_running_stats=True)\n        (relu): ReLU(inplace=True)\n      )\n      (35): Bottleneck(\n        (conv1): Conv2d(1024, 256, kernel_size=(1, 1), stride=(1, 1), bias=False)\n        (bn1): BatchNorm2d(256, eps=1e-05, momentum=0.1, affine=True, track_running_stats=True)\n        (conv2): Conv2d(256, 256, kernel_size=(3, 3), stride=(1, 1), padding=(1, 1), bias=False)\n        (bn2): BatchNorm2d(256, eps=1e-05, momentum=0.1, affine=True, track_running_stats=True)\n        (conv3): Conv2d(256, 1024, kernel_size=(1, 1), stride=(1, 1), bias=False)\n        (bn3): BatchNorm2d(1024, eps=1e-05, momentum=0.1, affine=True, track_running_stats=True)\n        (relu): ReLU(inplace=True)\n      )\n    )\n    (layer4): Sequential(\n      (0): Bottleneck(\n        (conv1): Conv2d(1024, 512, kernel_size=(1, 1), stride=(1, 1), bias=False)\n        (bn1): BatchNorm2d(512, eps=1e-05, momentum=0.1, affine=True, track_running_stats=True)\n        (conv2): Conv2d(512, 512, kernel_size=(3, 3), stride=(2, 2), padding=(1, 1), bias=False)\n        (bn2): BatchNorm2d(512, eps=1e-05, momentum=0.1, affine=True, track_running_stats=True)\n        (conv3): Conv2d(512, 2048, kernel_size=(1, 1), stride=(1, 1), bias=False)\n        (bn3): BatchNorm2d(2048, eps=1e-05, momentum=0.1, affine=True, track_running_stats=True)\n        (relu): ReLU(inplace=True)\n        (downsample): Sequential(\n          (0): Conv2d(1024, 2048, kernel_size=(1, 1), stride=(2, 2), bias=False)\n          (1): BatchNorm2d(2048, eps=1e-05, momentum=0.1, affine=True, track_running_stats=True)\n        )\n      )\n      (1): Bottleneck(\n        (conv1): Conv2d(2048, 512, kernel_size=(1, 1), stride=(1, 1), bias=False)\n        (bn1): BatchNorm2d(512, eps=1e-05, momentum=0.1, affine=True, track_running_stats=True)\n        (conv2): Conv2d(512, 512, kernel_size=(3, 3), stride=(1, 1), padding=(1, 1), bias=False)\n        (bn2): BatchNorm2d(512, eps=1e-05, momentum=0.1, affine=True, track_running_stats=True)\n        (conv3): Conv2d(512, 2048, kernel_size=(1, 1), stride=(1, 1), bias=False)\n        (bn3): BatchNorm2d(2048, eps=1e-05, momentum=0.1, affine=True, track_running_stats=True)\n        (relu): ReLU(inplace=True)\n      )\n      (2): Bottleneck(\n        (conv1): Conv2d(2048, 512, kernel_size=(1, 1), stride=(1, 1), bias=False)\n        (bn1): BatchNorm2d(512, eps=1e-05, momentum=0.1, affine=True, track_running_stats=True)\n        (conv2): Conv2d(512, 512, kernel_size=(3, 3), stride=(1, 1), padding=(1, 1), bias=False)\n        (bn2): BatchNorm2d(512, eps=1e-05, momentum=0.1, affine=True, track_running_stats=True)\n        (conv3): Conv2d(512, 2048, kernel_size=(1, 1), stride=(1, 1), bias=False)\n        (bn3): BatchNorm2d(2048, eps=1e-05, momentum=0.1, affine=True, track_running_stats=True)\n        (relu): ReLU(inplace=True)\n      )\n    )\n    (avgpool): AdaptiveAvgPool2d(output_size=(1, 1))\n    (fc): None\n    (last_linear): Linear(in_features=2048, out_features=1000, bias=True)\n  )\n  (l0): Linear(in_features=2048, out_features=3, bias=True)\n  (dropout): Dropout2d(p=0.4, inplace=False)\n)\n",
          "output_type": "stream"
        }
      ]
    },
    {
      "cell_type": "code",
      "source": [
        "device = \"cuda\" if torch.cuda.is_available() else \"cpu\"\n",
        "\n",
        "model = resnet152(pretrained=True).to(device)\n",
        "\n",
        "#model.load_state_dict(torch.load(\"/kaggle/working/model.pth\", map_location= device))\n",
        "\n",
        "model.to(device)\n",
        "summary(model, (3, 224, 224))"
      ],
      "metadata": {
        "colab": {
          "base_uri": "https://localhost:8080/"
        },
        "id": "iDc10jWaFt9G",
        "outputId": "15d6a762-2ae1-40d6-cc1c-ce78532bbbfb",
        "execution": {
          "iopub.status.busy": "2022-12-28T07:18:40.819880Z",
          "iopub.execute_input": "2022-12-28T07:18:40.820794Z",
          "iopub.status.idle": "2022-12-28T07:18:53.185450Z",
          "shell.execute_reply.started": "2022-12-28T07:18:40.820754Z",
          "shell.execute_reply": "2022-12-28T07:18:53.184134Z"
        },
        "trusted": true
      },
      "execution_count": null,
      "outputs": [
        {
          "name": "stdout",
          "text": "----------------------------------------------------------------\n        Layer (type)               Output Shape         Param #\n================================================================\n            Conv2d-1         [-1, 64, 112, 112]           9,408\n       BatchNorm2d-2         [-1, 64, 112, 112]             128\n              ReLU-3         [-1, 64, 112, 112]               0\n         MaxPool2d-4           [-1, 64, 56, 56]               0\n            Conv2d-5           [-1, 64, 56, 56]           4,096\n       BatchNorm2d-6           [-1, 64, 56, 56]             128\n              ReLU-7           [-1, 64, 56, 56]               0\n            Conv2d-8           [-1, 64, 56, 56]          36,864\n       BatchNorm2d-9           [-1, 64, 56, 56]             128\n             ReLU-10           [-1, 64, 56, 56]               0\n           Conv2d-11          [-1, 256, 56, 56]          16,384\n      BatchNorm2d-12          [-1, 256, 56, 56]             512\n           Conv2d-13          [-1, 256, 56, 56]          16,384\n      BatchNorm2d-14          [-1, 256, 56, 56]             512\n             ReLU-15          [-1, 256, 56, 56]               0\n       Bottleneck-16          [-1, 256, 56, 56]               0\n           Conv2d-17           [-1, 64, 56, 56]          16,384\n      BatchNorm2d-18           [-1, 64, 56, 56]             128\n             ReLU-19           [-1, 64, 56, 56]               0\n           Conv2d-20           [-1, 64, 56, 56]          36,864\n      BatchNorm2d-21           [-1, 64, 56, 56]             128\n             ReLU-22           [-1, 64, 56, 56]               0\n           Conv2d-23          [-1, 256, 56, 56]          16,384\n      BatchNorm2d-24          [-1, 256, 56, 56]             512\n             ReLU-25          [-1, 256, 56, 56]               0\n       Bottleneck-26          [-1, 256, 56, 56]               0\n           Conv2d-27           [-1, 64, 56, 56]          16,384\n      BatchNorm2d-28           [-1, 64, 56, 56]             128\n             ReLU-29           [-1, 64, 56, 56]               0\n           Conv2d-30           [-1, 64, 56, 56]          36,864\n      BatchNorm2d-31           [-1, 64, 56, 56]             128\n             ReLU-32           [-1, 64, 56, 56]               0\n           Conv2d-33          [-1, 256, 56, 56]          16,384\n      BatchNorm2d-34          [-1, 256, 56, 56]             512\n             ReLU-35          [-1, 256, 56, 56]               0\n       Bottleneck-36          [-1, 256, 56, 56]               0\n           Conv2d-37          [-1, 128, 56, 56]          32,768\n      BatchNorm2d-38          [-1, 128, 56, 56]             256\n             ReLU-39          [-1, 128, 56, 56]               0\n           Conv2d-40          [-1, 128, 28, 28]         147,456\n      BatchNorm2d-41          [-1, 128, 28, 28]             256\n             ReLU-42          [-1, 128, 28, 28]               0\n           Conv2d-43          [-1, 512, 28, 28]          65,536\n      BatchNorm2d-44          [-1, 512, 28, 28]           1,024\n           Conv2d-45          [-1, 512, 28, 28]         131,072\n      BatchNorm2d-46          [-1, 512, 28, 28]           1,024\n             ReLU-47          [-1, 512, 28, 28]               0\n       Bottleneck-48          [-1, 512, 28, 28]               0\n           Conv2d-49          [-1, 128, 28, 28]          65,536\n      BatchNorm2d-50          [-1, 128, 28, 28]             256\n             ReLU-51          [-1, 128, 28, 28]               0\n           Conv2d-52          [-1, 128, 28, 28]         147,456\n      BatchNorm2d-53          [-1, 128, 28, 28]             256\n             ReLU-54          [-1, 128, 28, 28]               0\n           Conv2d-55          [-1, 512, 28, 28]          65,536\n      BatchNorm2d-56          [-1, 512, 28, 28]           1,024\n             ReLU-57          [-1, 512, 28, 28]               0\n       Bottleneck-58          [-1, 512, 28, 28]               0\n           Conv2d-59          [-1, 128, 28, 28]          65,536\n      BatchNorm2d-60          [-1, 128, 28, 28]             256\n             ReLU-61          [-1, 128, 28, 28]               0\n           Conv2d-62          [-1, 128, 28, 28]         147,456\n      BatchNorm2d-63          [-1, 128, 28, 28]             256\n             ReLU-64          [-1, 128, 28, 28]               0\n           Conv2d-65          [-1, 512, 28, 28]          65,536\n      BatchNorm2d-66          [-1, 512, 28, 28]           1,024\n             ReLU-67          [-1, 512, 28, 28]               0\n       Bottleneck-68          [-1, 512, 28, 28]               0\n           Conv2d-69          [-1, 128, 28, 28]          65,536\n      BatchNorm2d-70          [-1, 128, 28, 28]             256\n             ReLU-71          [-1, 128, 28, 28]               0\n           Conv2d-72          [-1, 128, 28, 28]         147,456\n      BatchNorm2d-73          [-1, 128, 28, 28]             256\n             ReLU-74          [-1, 128, 28, 28]               0\n           Conv2d-75          [-1, 512, 28, 28]          65,536\n      BatchNorm2d-76          [-1, 512, 28, 28]           1,024\n             ReLU-77          [-1, 512, 28, 28]               0\n       Bottleneck-78          [-1, 512, 28, 28]               0\n           Conv2d-79          [-1, 128, 28, 28]          65,536\n      BatchNorm2d-80          [-1, 128, 28, 28]             256\n             ReLU-81          [-1, 128, 28, 28]               0\n           Conv2d-82          [-1, 128, 28, 28]         147,456\n      BatchNorm2d-83          [-1, 128, 28, 28]             256\n             ReLU-84          [-1, 128, 28, 28]               0\n           Conv2d-85          [-1, 512, 28, 28]          65,536\n      BatchNorm2d-86          [-1, 512, 28, 28]           1,024\n             ReLU-87          [-1, 512, 28, 28]               0\n       Bottleneck-88          [-1, 512, 28, 28]               0\n           Conv2d-89          [-1, 128, 28, 28]          65,536\n      BatchNorm2d-90          [-1, 128, 28, 28]             256\n             ReLU-91          [-1, 128, 28, 28]               0\n           Conv2d-92          [-1, 128, 28, 28]         147,456\n      BatchNorm2d-93          [-1, 128, 28, 28]             256\n             ReLU-94          [-1, 128, 28, 28]               0\n           Conv2d-95          [-1, 512, 28, 28]          65,536\n      BatchNorm2d-96          [-1, 512, 28, 28]           1,024\n             ReLU-97          [-1, 512, 28, 28]               0\n       Bottleneck-98          [-1, 512, 28, 28]               0\n           Conv2d-99          [-1, 128, 28, 28]          65,536\n     BatchNorm2d-100          [-1, 128, 28, 28]             256\n            ReLU-101          [-1, 128, 28, 28]               0\n          Conv2d-102          [-1, 128, 28, 28]         147,456\n     BatchNorm2d-103          [-1, 128, 28, 28]             256\n            ReLU-104          [-1, 128, 28, 28]               0\n          Conv2d-105          [-1, 512, 28, 28]          65,536\n     BatchNorm2d-106          [-1, 512, 28, 28]           1,024\n            ReLU-107          [-1, 512, 28, 28]               0\n      Bottleneck-108          [-1, 512, 28, 28]               0\n          Conv2d-109          [-1, 128, 28, 28]          65,536\n     BatchNorm2d-110          [-1, 128, 28, 28]             256\n            ReLU-111          [-1, 128, 28, 28]               0\n          Conv2d-112          [-1, 128, 28, 28]         147,456\n     BatchNorm2d-113          [-1, 128, 28, 28]             256\n            ReLU-114          [-1, 128, 28, 28]               0\n          Conv2d-115          [-1, 512, 28, 28]          65,536\n     BatchNorm2d-116          [-1, 512, 28, 28]           1,024\n            ReLU-117          [-1, 512, 28, 28]               0\n      Bottleneck-118          [-1, 512, 28, 28]               0\n          Conv2d-119          [-1, 256, 28, 28]         131,072\n     BatchNorm2d-120          [-1, 256, 28, 28]             512\n            ReLU-121          [-1, 256, 28, 28]               0\n          Conv2d-122          [-1, 256, 14, 14]         589,824\n     BatchNorm2d-123          [-1, 256, 14, 14]             512\n            ReLU-124          [-1, 256, 14, 14]               0\n          Conv2d-125         [-1, 1024, 14, 14]         262,144\n     BatchNorm2d-126         [-1, 1024, 14, 14]           2,048\n          Conv2d-127         [-1, 1024, 14, 14]         524,288\n     BatchNorm2d-128         [-1, 1024, 14, 14]           2,048\n            ReLU-129         [-1, 1024, 14, 14]               0\n      Bottleneck-130         [-1, 1024, 14, 14]               0\n          Conv2d-131          [-1, 256, 14, 14]         262,144\n     BatchNorm2d-132          [-1, 256, 14, 14]             512\n            ReLU-133          [-1, 256, 14, 14]               0\n          Conv2d-134          [-1, 256, 14, 14]         589,824\n     BatchNorm2d-135          [-1, 256, 14, 14]             512\n            ReLU-136          [-1, 256, 14, 14]               0\n          Conv2d-137         [-1, 1024, 14, 14]         262,144\n     BatchNorm2d-138         [-1, 1024, 14, 14]           2,048\n            ReLU-139         [-1, 1024, 14, 14]               0\n      Bottleneck-140         [-1, 1024, 14, 14]               0\n          Conv2d-141          [-1, 256, 14, 14]         262,144\n     BatchNorm2d-142          [-1, 256, 14, 14]             512\n            ReLU-143          [-1, 256, 14, 14]               0\n          Conv2d-144          [-1, 256, 14, 14]         589,824\n     BatchNorm2d-145          [-1, 256, 14, 14]             512\n            ReLU-146          [-1, 256, 14, 14]               0\n          Conv2d-147         [-1, 1024, 14, 14]         262,144\n     BatchNorm2d-148         [-1, 1024, 14, 14]           2,048\n            ReLU-149         [-1, 1024, 14, 14]               0\n      Bottleneck-150         [-1, 1024, 14, 14]               0\n          Conv2d-151          [-1, 256, 14, 14]         262,144\n     BatchNorm2d-152          [-1, 256, 14, 14]             512\n            ReLU-153          [-1, 256, 14, 14]               0\n          Conv2d-154          [-1, 256, 14, 14]         589,824\n     BatchNorm2d-155          [-1, 256, 14, 14]             512\n            ReLU-156          [-1, 256, 14, 14]               0\n          Conv2d-157         [-1, 1024, 14, 14]         262,144\n     BatchNorm2d-158         [-1, 1024, 14, 14]           2,048\n            ReLU-159         [-1, 1024, 14, 14]               0\n      Bottleneck-160         [-1, 1024, 14, 14]               0\n          Conv2d-161          [-1, 256, 14, 14]         262,144\n     BatchNorm2d-162          [-1, 256, 14, 14]             512\n            ReLU-163          [-1, 256, 14, 14]               0\n          Conv2d-164          [-1, 256, 14, 14]         589,824\n     BatchNorm2d-165          [-1, 256, 14, 14]             512\n            ReLU-166          [-1, 256, 14, 14]               0\n          Conv2d-167         [-1, 1024, 14, 14]         262,144\n     BatchNorm2d-168         [-1, 1024, 14, 14]           2,048\n            ReLU-169         [-1, 1024, 14, 14]               0\n      Bottleneck-170         [-1, 1024, 14, 14]               0\n          Conv2d-171          [-1, 256, 14, 14]         262,144\n     BatchNorm2d-172          [-1, 256, 14, 14]             512\n            ReLU-173          [-1, 256, 14, 14]               0\n          Conv2d-174          [-1, 256, 14, 14]         589,824\n     BatchNorm2d-175          [-1, 256, 14, 14]             512\n            ReLU-176          [-1, 256, 14, 14]               0\n          Conv2d-177         [-1, 1024, 14, 14]         262,144\n     BatchNorm2d-178         [-1, 1024, 14, 14]           2,048\n            ReLU-179         [-1, 1024, 14, 14]               0\n      Bottleneck-180         [-1, 1024, 14, 14]               0\n          Conv2d-181          [-1, 256, 14, 14]         262,144\n     BatchNorm2d-182          [-1, 256, 14, 14]             512\n            ReLU-183          [-1, 256, 14, 14]               0\n          Conv2d-184          [-1, 256, 14, 14]         589,824\n     BatchNorm2d-185          [-1, 256, 14, 14]             512\n            ReLU-186          [-1, 256, 14, 14]               0\n          Conv2d-187         [-1, 1024, 14, 14]         262,144\n     BatchNorm2d-188         [-1, 1024, 14, 14]           2,048\n            ReLU-189         [-1, 1024, 14, 14]               0\n      Bottleneck-190         [-1, 1024, 14, 14]               0\n          Conv2d-191          [-1, 256, 14, 14]         262,144\n     BatchNorm2d-192          [-1, 256, 14, 14]             512\n            ReLU-193          [-1, 256, 14, 14]               0\n          Conv2d-194          [-1, 256, 14, 14]         589,824\n     BatchNorm2d-195          [-1, 256, 14, 14]             512\n            ReLU-196          [-1, 256, 14, 14]               0\n          Conv2d-197         [-1, 1024, 14, 14]         262,144\n     BatchNorm2d-198         [-1, 1024, 14, 14]           2,048\n            ReLU-199         [-1, 1024, 14, 14]               0\n      Bottleneck-200         [-1, 1024, 14, 14]               0\n          Conv2d-201          [-1, 256, 14, 14]         262,144\n     BatchNorm2d-202          [-1, 256, 14, 14]             512\n            ReLU-203          [-1, 256, 14, 14]               0\n          Conv2d-204          [-1, 256, 14, 14]         589,824\n     BatchNorm2d-205          [-1, 256, 14, 14]             512\n            ReLU-206          [-1, 256, 14, 14]               0\n          Conv2d-207         [-1, 1024, 14, 14]         262,144\n     BatchNorm2d-208         [-1, 1024, 14, 14]           2,048\n            ReLU-209         [-1, 1024, 14, 14]               0\n      Bottleneck-210         [-1, 1024, 14, 14]               0\n          Conv2d-211          [-1, 256, 14, 14]         262,144\n     BatchNorm2d-212          [-1, 256, 14, 14]             512\n            ReLU-213          [-1, 256, 14, 14]               0\n          Conv2d-214          [-1, 256, 14, 14]         589,824\n     BatchNorm2d-215          [-1, 256, 14, 14]             512\n            ReLU-216          [-1, 256, 14, 14]               0\n          Conv2d-217         [-1, 1024, 14, 14]         262,144\n     BatchNorm2d-218         [-1, 1024, 14, 14]           2,048\n            ReLU-219         [-1, 1024, 14, 14]               0\n      Bottleneck-220         [-1, 1024, 14, 14]               0\n          Conv2d-221          [-1, 256, 14, 14]         262,144\n     BatchNorm2d-222          [-1, 256, 14, 14]             512\n            ReLU-223          [-1, 256, 14, 14]               0\n          Conv2d-224          [-1, 256, 14, 14]         589,824\n     BatchNorm2d-225          [-1, 256, 14, 14]             512\n            ReLU-226          [-1, 256, 14, 14]               0\n          Conv2d-227         [-1, 1024, 14, 14]         262,144\n     BatchNorm2d-228         [-1, 1024, 14, 14]           2,048\n            ReLU-229         [-1, 1024, 14, 14]               0\n      Bottleneck-230         [-1, 1024, 14, 14]               0\n          Conv2d-231          [-1, 256, 14, 14]         262,144\n     BatchNorm2d-232          [-1, 256, 14, 14]             512\n            ReLU-233          [-1, 256, 14, 14]               0\n          Conv2d-234          [-1, 256, 14, 14]         589,824\n     BatchNorm2d-235          [-1, 256, 14, 14]             512\n            ReLU-236          [-1, 256, 14, 14]               0\n          Conv2d-237         [-1, 1024, 14, 14]         262,144\n     BatchNorm2d-238         [-1, 1024, 14, 14]           2,048\n            ReLU-239         [-1, 1024, 14, 14]               0\n      Bottleneck-240         [-1, 1024, 14, 14]               0\n          Conv2d-241          [-1, 256, 14, 14]         262,144\n     BatchNorm2d-242          [-1, 256, 14, 14]             512\n            ReLU-243          [-1, 256, 14, 14]               0\n          Conv2d-244          [-1, 256, 14, 14]         589,824\n     BatchNorm2d-245          [-1, 256, 14, 14]             512\n            ReLU-246          [-1, 256, 14, 14]               0\n          Conv2d-247         [-1, 1024, 14, 14]         262,144\n     BatchNorm2d-248         [-1, 1024, 14, 14]           2,048\n            ReLU-249         [-1, 1024, 14, 14]               0\n      Bottleneck-250         [-1, 1024, 14, 14]               0\n          Conv2d-251          [-1, 256, 14, 14]         262,144\n     BatchNorm2d-252          [-1, 256, 14, 14]             512\n            ReLU-253          [-1, 256, 14, 14]               0\n          Conv2d-254          [-1, 256, 14, 14]         589,824\n     BatchNorm2d-255          [-1, 256, 14, 14]             512\n            ReLU-256          [-1, 256, 14, 14]               0\n          Conv2d-257         [-1, 1024, 14, 14]         262,144\n     BatchNorm2d-258         [-1, 1024, 14, 14]           2,048\n            ReLU-259         [-1, 1024, 14, 14]               0\n      Bottleneck-260         [-1, 1024, 14, 14]               0\n          Conv2d-261          [-1, 256, 14, 14]         262,144\n     BatchNorm2d-262          [-1, 256, 14, 14]             512\n            ReLU-263          [-1, 256, 14, 14]               0\n          Conv2d-264          [-1, 256, 14, 14]         589,824\n     BatchNorm2d-265          [-1, 256, 14, 14]             512\n            ReLU-266          [-1, 256, 14, 14]               0\n          Conv2d-267         [-1, 1024, 14, 14]         262,144\n     BatchNorm2d-268         [-1, 1024, 14, 14]           2,048\n            ReLU-269         [-1, 1024, 14, 14]               0\n      Bottleneck-270         [-1, 1024, 14, 14]               0\n          Conv2d-271          [-1, 256, 14, 14]         262,144\n     BatchNorm2d-272          [-1, 256, 14, 14]             512\n            ReLU-273          [-1, 256, 14, 14]               0\n          Conv2d-274          [-1, 256, 14, 14]         589,824\n     BatchNorm2d-275          [-1, 256, 14, 14]             512\n            ReLU-276          [-1, 256, 14, 14]               0\n          Conv2d-277         [-1, 1024, 14, 14]         262,144\n     BatchNorm2d-278         [-1, 1024, 14, 14]           2,048\n            ReLU-279         [-1, 1024, 14, 14]               0\n      Bottleneck-280         [-1, 1024, 14, 14]               0\n          Conv2d-281          [-1, 256, 14, 14]         262,144\n     BatchNorm2d-282          [-1, 256, 14, 14]             512\n            ReLU-283          [-1, 256, 14, 14]               0\n          Conv2d-284          [-1, 256, 14, 14]         589,824\n     BatchNorm2d-285          [-1, 256, 14, 14]             512\n            ReLU-286          [-1, 256, 14, 14]               0\n          Conv2d-287         [-1, 1024, 14, 14]         262,144\n     BatchNorm2d-288         [-1, 1024, 14, 14]           2,048\n            ReLU-289         [-1, 1024, 14, 14]               0\n      Bottleneck-290         [-1, 1024, 14, 14]               0\n          Conv2d-291          [-1, 256, 14, 14]         262,144\n     BatchNorm2d-292          [-1, 256, 14, 14]             512\n            ReLU-293          [-1, 256, 14, 14]               0\n          Conv2d-294          [-1, 256, 14, 14]         589,824\n     BatchNorm2d-295          [-1, 256, 14, 14]             512\n            ReLU-296          [-1, 256, 14, 14]               0\n          Conv2d-297         [-1, 1024, 14, 14]         262,144\n     BatchNorm2d-298         [-1, 1024, 14, 14]           2,048\n            ReLU-299         [-1, 1024, 14, 14]               0\n      Bottleneck-300         [-1, 1024, 14, 14]               0\n          Conv2d-301          [-1, 256, 14, 14]         262,144\n     BatchNorm2d-302          [-1, 256, 14, 14]             512\n            ReLU-303          [-1, 256, 14, 14]               0\n          Conv2d-304          [-1, 256, 14, 14]         589,824\n     BatchNorm2d-305          [-1, 256, 14, 14]             512\n            ReLU-306          [-1, 256, 14, 14]               0\n          Conv2d-307         [-1, 1024, 14, 14]         262,144\n     BatchNorm2d-308         [-1, 1024, 14, 14]           2,048\n            ReLU-309         [-1, 1024, 14, 14]               0\n      Bottleneck-310         [-1, 1024, 14, 14]               0\n          Conv2d-311          [-1, 256, 14, 14]         262,144\n     BatchNorm2d-312          [-1, 256, 14, 14]             512\n            ReLU-313          [-1, 256, 14, 14]               0\n          Conv2d-314          [-1, 256, 14, 14]         589,824\n     BatchNorm2d-315          [-1, 256, 14, 14]             512\n            ReLU-316          [-1, 256, 14, 14]               0\n          Conv2d-317         [-1, 1024, 14, 14]         262,144\n     BatchNorm2d-318         [-1, 1024, 14, 14]           2,048\n            ReLU-319         [-1, 1024, 14, 14]               0\n      Bottleneck-320         [-1, 1024, 14, 14]               0\n          Conv2d-321          [-1, 256, 14, 14]         262,144\n     BatchNorm2d-322          [-1, 256, 14, 14]             512\n            ReLU-323          [-1, 256, 14, 14]               0\n          Conv2d-324          [-1, 256, 14, 14]         589,824\n     BatchNorm2d-325          [-1, 256, 14, 14]             512\n            ReLU-326          [-1, 256, 14, 14]               0\n          Conv2d-327         [-1, 1024, 14, 14]         262,144\n     BatchNorm2d-328         [-1, 1024, 14, 14]           2,048\n            ReLU-329         [-1, 1024, 14, 14]               0\n      Bottleneck-330         [-1, 1024, 14, 14]               0\n          Conv2d-331          [-1, 256, 14, 14]         262,144\n     BatchNorm2d-332          [-1, 256, 14, 14]             512\n            ReLU-333          [-1, 256, 14, 14]               0\n          Conv2d-334          [-1, 256, 14, 14]         589,824\n     BatchNorm2d-335          [-1, 256, 14, 14]             512\n            ReLU-336          [-1, 256, 14, 14]               0\n          Conv2d-337         [-1, 1024, 14, 14]         262,144\n     BatchNorm2d-338         [-1, 1024, 14, 14]           2,048\n            ReLU-339         [-1, 1024, 14, 14]               0\n      Bottleneck-340         [-1, 1024, 14, 14]               0\n          Conv2d-341          [-1, 256, 14, 14]         262,144\n     BatchNorm2d-342          [-1, 256, 14, 14]             512\n            ReLU-343          [-1, 256, 14, 14]               0\n          Conv2d-344          [-1, 256, 14, 14]         589,824\n     BatchNorm2d-345          [-1, 256, 14, 14]             512\n            ReLU-346          [-1, 256, 14, 14]               0\n          Conv2d-347         [-1, 1024, 14, 14]         262,144\n     BatchNorm2d-348         [-1, 1024, 14, 14]           2,048\n            ReLU-349         [-1, 1024, 14, 14]               0\n      Bottleneck-350         [-1, 1024, 14, 14]               0\n          Conv2d-351          [-1, 256, 14, 14]         262,144\n     BatchNorm2d-352          [-1, 256, 14, 14]             512\n            ReLU-353          [-1, 256, 14, 14]               0\n          Conv2d-354          [-1, 256, 14, 14]         589,824\n     BatchNorm2d-355          [-1, 256, 14, 14]             512\n            ReLU-356          [-1, 256, 14, 14]               0\n          Conv2d-357         [-1, 1024, 14, 14]         262,144\n     BatchNorm2d-358         [-1, 1024, 14, 14]           2,048\n            ReLU-359         [-1, 1024, 14, 14]               0\n      Bottleneck-360         [-1, 1024, 14, 14]               0\n          Conv2d-361          [-1, 256, 14, 14]         262,144\n     BatchNorm2d-362          [-1, 256, 14, 14]             512\n            ReLU-363          [-1, 256, 14, 14]               0\n          Conv2d-364          [-1, 256, 14, 14]         589,824\n     BatchNorm2d-365          [-1, 256, 14, 14]             512\n            ReLU-366          [-1, 256, 14, 14]               0\n          Conv2d-367         [-1, 1024, 14, 14]         262,144\n     BatchNorm2d-368         [-1, 1024, 14, 14]           2,048\n            ReLU-369         [-1, 1024, 14, 14]               0\n      Bottleneck-370         [-1, 1024, 14, 14]               0\n          Conv2d-371          [-1, 256, 14, 14]         262,144\n     BatchNorm2d-372          [-1, 256, 14, 14]             512\n            ReLU-373          [-1, 256, 14, 14]               0\n          Conv2d-374          [-1, 256, 14, 14]         589,824\n     BatchNorm2d-375          [-1, 256, 14, 14]             512\n            ReLU-376          [-1, 256, 14, 14]               0\n          Conv2d-377         [-1, 1024, 14, 14]         262,144\n     BatchNorm2d-378         [-1, 1024, 14, 14]           2,048\n            ReLU-379         [-1, 1024, 14, 14]               0\n      Bottleneck-380         [-1, 1024, 14, 14]               0\n          Conv2d-381          [-1, 256, 14, 14]         262,144\n     BatchNorm2d-382          [-1, 256, 14, 14]             512\n            ReLU-383          [-1, 256, 14, 14]               0\n          Conv2d-384          [-1, 256, 14, 14]         589,824\n     BatchNorm2d-385          [-1, 256, 14, 14]             512\n            ReLU-386          [-1, 256, 14, 14]               0\n          Conv2d-387         [-1, 1024, 14, 14]         262,144\n     BatchNorm2d-388         [-1, 1024, 14, 14]           2,048\n            ReLU-389         [-1, 1024, 14, 14]               0\n      Bottleneck-390         [-1, 1024, 14, 14]               0\n          Conv2d-391          [-1, 256, 14, 14]         262,144\n     BatchNorm2d-392          [-1, 256, 14, 14]             512\n            ReLU-393          [-1, 256, 14, 14]               0\n          Conv2d-394          [-1, 256, 14, 14]         589,824\n     BatchNorm2d-395          [-1, 256, 14, 14]             512\n            ReLU-396          [-1, 256, 14, 14]               0\n          Conv2d-397         [-1, 1024, 14, 14]         262,144\n     BatchNorm2d-398         [-1, 1024, 14, 14]           2,048\n            ReLU-399         [-1, 1024, 14, 14]               0\n      Bottleneck-400         [-1, 1024, 14, 14]               0\n          Conv2d-401          [-1, 256, 14, 14]         262,144\n     BatchNorm2d-402          [-1, 256, 14, 14]             512\n            ReLU-403          [-1, 256, 14, 14]               0\n          Conv2d-404          [-1, 256, 14, 14]         589,824\n     BatchNorm2d-405          [-1, 256, 14, 14]             512\n            ReLU-406          [-1, 256, 14, 14]               0\n          Conv2d-407         [-1, 1024, 14, 14]         262,144\n     BatchNorm2d-408         [-1, 1024, 14, 14]           2,048\n            ReLU-409         [-1, 1024, 14, 14]               0\n      Bottleneck-410         [-1, 1024, 14, 14]               0\n          Conv2d-411          [-1, 256, 14, 14]         262,144\n     BatchNorm2d-412          [-1, 256, 14, 14]             512\n            ReLU-413          [-1, 256, 14, 14]               0\n          Conv2d-414          [-1, 256, 14, 14]         589,824\n     BatchNorm2d-415          [-1, 256, 14, 14]             512\n            ReLU-416          [-1, 256, 14, 14]               0\n          Conv2d-417         [-1, 1024, 14, 14]         262,144\n     BatchNorm2d-418         [-1, 1024, 14, 14]           2,048\n            ReLU-419         [-1, 1024, 14, 14]               0\n      Bottleneck-420         [-1, 1024, 14, 14]               0\n          Conv2d-421          [-1, 256, 14, 14]         262,144\n     BatchNorm2d-422          [-1, 256, 14, 14]             512\n            ReLU-423          [-1, 256, 14, 14]               0\n          Conv2d-424          [-1, 256, 14, 14]         589,824\n     BatchNorm2d-425          [-1, 256, 14, 14]             512\n            ReLU-426          [-1, 256, 14, 14]               0\n          Conv2d-427         [-1, 1024, 14, 14]         262,144\n     BatchNorm2d-428         [-1, 1024, 14, 14]           2,048\n            ReLU-429         [-1, 1024, 14, 14]               0\n      Bottleneck-430         [-1, 1024, 14, 14]               0\n          Conv2d-431          [-1, 256, 14, 14]         262,144\n     BatchNorm2d-432          [-1, 256, 14, 14]             512\n            ReLU-433          [-1, 256, 14, 14]               0\n          Conv2d-434          [-1, 256, 14, 14]         589,824\n     BatchNorm2d-435          [-1, 256, 14, 14]             512\n            ReLU-436          [-1, 256, 14, 14]               0\n          Conv2d-437         [-1, 1024, 14, 14]         262,144\n     BatchNorm2d-438         [-1, 1024, 14, 14]           2,048\n            ReLU-439         [-1, 1024, 14, 14]               0\n      Bottleneck-440         [-1, 1024, 14, 14]               0\n          Conv2d-441          [-1, 256, 14, 14]         262,144\n     BatchNorm2d-442          [-1, 256, 14, 14]             512\n            ReLU-443          [-1, 256, 14, 14]               0\n          Conv2d-444          [-1, 256, 14, 14]         589,824\n     BatchNorm2d-445          [-1, 256, 14, 14]             512\n            ReLU-446          [-1, 256, 14, 14]               0\n          Conv2d-447         [-1, 1024, 14, 14]         262,144\n     BatchNorm2d-448         [-1, 1024, 14, 14]           2,048\n            ReLU-449         [-1, 1024, 14, 14]               0\n      Bottleneck-450         [-1, 1024, 14, 14]               0\n          Conv2d-451          [-1, 256, 14, 14]         262,144\n     BatchNorm2d-452          [-1, 256, 14, 14]             512\n            ReLU-453          [-1, 256, 14, 14]               0\n          Conv2d-454          [-1, 256, 14, 14]         589,824\n     BatchNorm2d-455          [-1, 256, 14, 14]             512\n            ReLU-456          [-1, 256, 14, 14]               0\n          Conv2d-457         [-1, 1024, 14, 14]         262,144\n     BatchNorm2d-458         [-1, 1024, 14, 14]           2,048\n            ReLU-459         [-1, 1024, 14, 14]               0\n      Bottleneck-460         [-1, 1024, 14, 14]               0\n          Conv2d-461          [-1, 256, 14, 14]         262,144\n     BatchNorm2d-462          [-1, 256, 14, 14]             512\n            ReLU-463          [-1, 256, 14, 14]               0\n          Conv2d-464          [-1, 256, 14, 14]         589,824\n     BatchNorm2d-465          [-1, 256, 14, 14]             512\n            ReLU-466          [-1, 256, 14, 14]               0\n          Conv2d-467         [-1, 1024, 14, 14]         262,144\n     BatchNorm2d-468         [-1, 1024, 14, 14]           2,048\n            ReLU-469         [-1, 1024, 14, 14]               0\n      Bottleneck-470         [-1, 1024, 14, 14]               0\n          Conv2d-471          [-1, 256, 14, 14]         262,144\n     BatchNorm2d-472          [-1, 256, 14, 14]             512\n            ReLU-473          [-1, 256, 14, 14]               0\n          Conv2d-474          [-1, 256, 14, 14]         589,824\n     BatchNorm2d-475          [-1, 256, 14, 14]             512\n            ReLU-476          [-1, 256, 14, 14]               0\n          Conv2d-477         [-1, 1024, 14, 14]         262,144\n     BatchNorm2d-478         [-1, 1024, 14, 14]           2,048\n            ReLU-479         [-1, 1024, 14, 14]               0\n      Bottleneck-480         [-1, 1024, 14, 14]               0\n          Conv2d-481          [-1, 512, 14, 14]         524,288\n     BatchNorm2d-482          [-1, 512, 14, 14]           1,024\n            ReLU-483          [-1, 512, 14, 14]               0\n          Conv2d-484            [-1, 512, 7, 7]       2,359,296\n     BatchNorm2d-485            [-1, 512, 7, 7]           1,024\n            ReLU-486            [-1, 512, 7, 7]               0\n          Conv2d-487           [-1, 2048, 7, 7]       1,048,576\n     BatchNorm2d-488           [-1, 2048, 7, 7]           4,096\n          Conv2d-489           [-1, 2048, 7, 7]       2,097,152\n     BatchNorm2d-490           [-1, 2048, 7, 7]           4,096\n            ReLU-491           [-1, 2048, 7, 7]               0\n      Bottleneck-492           [-1, 2048, 7, 7]               0\n          Conv2d-493            [-1, 512, 7, 7]       1,048,576\n     BatchNorm2d-494            [-1, 512, 7, 7]           1,024\n            ReLU-495            [-1, 512, 7, 7]               0\n          Conv2d-496            [-1, 512, 7, 7]       2,359,296\n     BatchNorm2d-497            [-1, 512, 7, 7]           1,024\n            ReLU-498            [-1, 512, 7, 7]               0\n          Conv2d-499           [-1, 2048, 7, 7]       1,048,576\n     BatchNorm2d-500           [-1, 2048, 7, 7]           4,096\n            ReLU-501           [-1, 2048, 7, 7]               0\n      Bottleneck-502           [-1, 2048, 7, 7]               0\n          Conv2d-503            [-1, 512, 7, 7]       1,048,576\n     BatchNorm2d-504            [-1, 512, 7, 7]           1,024\n            ReLU-505            [-1, 512, 7, 7]               0\n          Conv2d-506            [-1, 512, 7, 7]       2,359,296\n     BatchNorm2d-507            [-1, 512, 7, 7]           1,024\n            ReLU-508            [-1, 512, 7, 7]               0\n          Conv2d-509           [-1, 2048, 7, 7]       1,048,576\n     BatchNorm2d-510           [-1, 2048, 7, 7]           4,096\n            ReLU-511           [-1, 2048, 7, 7]               0\n      Bottleneck-512           [-1, 2048, 7, 7]               0\n          Linear-513                    [-1, 3]           6,147\n================================================================\nTotal params: 58,149,955\nTrainable params: 58,149,955\nNon-trainable params: 0\n----------------------------------------------------------------\nInput size (MB): 0.57\nForward/backward pass size (MB): 606.57\nParams size (MB): 221.82\nEstimated Total Size (MB): 828.97\n----------------------------------------------------------------\n",
          "output_type": "stream"
        }
      ]
    },
    {
      "cell_type": "markdown",
      "source": [
        "# **OPTIMZER**"
      ],
      "metadata": {
        "id": "S27Zbl5UTmye"
      }
    },
    {
      "cell_type": "code",
      "source": [
        "lr = 0.001\n",
        "\n",
        "WEIGHT_DECAY = 0.0005\n",
        "save_path = \"model.pth\"\n",
        "fine_tune = True\n",
        "#load_path = \"/kaggle/working/model_1.pth\""
      ],
      "metadata": {
        "execution": {
          "iopub.status.busy": "2022-12-28T07:18:53.187165Z",
          "iopub.execute_input": "2022-12-28T07:18:53.188149Z",
          "iopub.status.idle": "2022-12-28T07:18:53.194108Z",
          "shell.execute_reply.started": "2022-12-28T07:18:53.188103Z",
          "shell.execute_reply": "2022-12-28T07:18:53.192830Z"
        },
        "trusted": true,
        "id": "M_f2KTDcTmye"
      },
      "execution_count": null,
      "outputs": []
    },
    {
      "cell_type": "code",
      "source": [
        "# loss function\n",
        "loss_fn = nn.CrossEntropyLoss()\n",
        "#optimizer = torch.optim.Adam(model.parameters(), lr = lr, weight_decay=WEIGHT_DECAY)\n",
        "optimizer= torch.optim.SGD(model.parameters(),lr= lr,momentum=0.9)"
      ],
      "metadata": {
        "id": "DSLEyL1ijuJS",
        "execution": {
          "iopub.status.busy": "2022-12-28T07:18:53.196205Z",
          "iopub.execute_input": "2022-12-28T07:18:53.196615Z",
          "iopub.status.idle": "2022-12-28T07:18:53.210038Z",
          "shell.execute_reply.started": "2022-12-28T07:18:53.196577Z",
          "shell.execute_reply": "2022-12-28T07:18:53.208954Z"
        },
        "trusted": true
      },
      "execution_count": null,
      "outputs": []
    },
    {
      "cell_type": "markdown",
      "source": [
        "# **LOAD MODEL**"
      ],
      "metadata": {
        "id": "CdP9jM8JTmyf"
      }
    },
    {
      "cell_type": "code",
      "source": [
        "#state_dict = torch.load(load_path, map_location=device)\n",
        "#model.load_state_dict(state_dict)"
      ],
      "metadata": {
        "execution": {
          "iopub.status.busy": "2022-12-28T07:18:53.211227Z",
          "iopub.execute_input": "2022-12-28T07:18:53.212248Z",
          "iopub.status.idle": "2022-12-28T07:18:53.222180Z",
          "shell.execute_reply.started": "2022-12-28T07:18:53.212195Z",
          "shell.execute_reply": "2022-12-28T07:18:53.221279Z"
        },
        "trusted": true,
        "id": "dnxgVL6wTmyf"
      },
      "execution_count": null,
      "outputs": []
    },
    {
      "cell_type": "markdown",
      "source": [
        "# **TRAINING**"
      ],
      "metadata": {
        "id": "eZLbT7xuTmyf"
      }
    },
    {
      "cell_type": "code",
      "source": [
        "def train(model,dataloader):    \n",
        "    # training function\n",
        "\n",
        "    print('Training')\n",
        "    model.train()\n",
        "    running_loss = 0.0\n",
        "    running_correct = 0\n",
        "    total=0\n",
        "    for batch, (X, y) in enumerate(tqdm(dataloader)):\n",
        "\n",
        "\n",
        "        X, y = X.to(device), y.to(device)\n",
        "\n",
        "        optimizer.zero_grad()\n",
        "        outputs = model(X)\n",
        "        loss = loss_fn(outputs, y)\n",
        "\n",
        "        loss.backward()\n",
        "        optimizer.step()\n",
        "\n",
        "        running_loss += loss.item()\n",
        "        running_correct += (outputs.argmax(1) == y).type(torch.float).sum().item()\n",
        "        total += y.size(0)\n",
        "\n",
        "    loss = running_loss/len(dataloader)\n",
        "    accuracy = 100.*running_correct/total\n",
        "    print('Train Loss: %.3f | Accuracy: %.3f'%(loss, accuracy))\n",
        "\n",
        "\n",
        "    #print(f\"Train Loss: {loss:.4f}, Train Acc: {accuracy:.2f}\")\n",
        "\n",
        "\n",
        "    return loss, accuracy"
      ],
      "metadata": {
        "id": "R0zaRyYBNwf5",
        "execution": {
          "iopub.status.busy": "2022-12-28T07:18:53.223622Z",
          "iopub.execute_input": "2022-12-28T07:18:53.224122Z",
          "iopub.status.idle": "2022-12-28T07:18:53.237135Z",
          "shell.execute_reply.started": "2022-12-28T07:18:53.224079Z",
          "shell.execute_reply": "2022-12-28T07:18:53.236220Z"
        },
        "trusted": true
      },
      "execution_count": null,
      "outputs": []
    },
    {
      "cell_type": "markdown",
      "source": [
        "# **VALIDATION**"
      ],
      "metadata": {
        "id": "sa4ytIQ2Tmyg"
      }
    },
    {
      "cell_type": "code",
      "source": [
        "#validation function\n",
        "def validate(model, dataloader):\n",
        "    print('Validating')\n",
        "    model.eval()\n",
        "    running_loss = 0.0\n",
        "    running_correct = 0\n",
        "    total=0\n",
        "    with torch.no_grad():\n",
        "        \n",
        "        for batch, (X, y) in enumerate(dataloader):\n",
        "            X, y = X.to(device), y.to(device)\n",
        "\n",
        "            # Compute prediction error\n",
        "            pred = model(X)\n",
        "            loss = loss_fn(pred, y)\n",
        "            running_loss += loss_fn(pred, y).item()        \n",
        "            running_correct += (pred.argmax(1) == y).type(torch.float).sum().item()\n",
        "            total += y.size(0)\n",
        "        \n",
        "    loss = running_loss/len(dataloader)\n",
        "    accuracy = 100.*running_correct/total\n",
        "    #print(f'Val Loss: {loss:.4f}, Val Acc: {accuracy:.2f}')\n",
        "    print('Test Loss: %.3f | Accuracy: %.3f'%(loss, accuracy))\n",
        "\n",
        "\n",
        "    return loss, accuracy"
      ],
      "metadata": {
        "id": "EsQy83QuSjVX",
        "execution": {
          "iopub.status.busy": "2022-12-28T07:18:53.238692Z",
          "iopub.execute_input": "2022-12-28T07:18:53.239110Z",
          "iopub.status.idle": "2022-12-28T07:18:53.254905Z",
          "shell.execute_reply.started": "2022-12-28T07:18:53.239074Z",
          "shell.execute_reply": "2022-12-28T07:18:53.254001Z"
        },
        "trusted": true
      },
      "execution_count": null,
      "outputs": []
    },
    {
      "cell_type": "markdown",
      "source": [
        "# **TRAINING AND VALIDATION IN SINGLE FUNCTION**"
      ],
      "metadata": {
        "id": "2I2BgTiFTmyg"
      }
    },
    {
      "cell_type": "code",
      "source": [
        "epochs=50\n",
        "\n",
        "\n",
        "train_loss , train_accuracy = [], []\n",
        "val_loss , val_accuracy = [], []\n",
        "print(f\"Training on {len(train_data)} examples, validating on {len(test_data)} examples...\")\n",
        "\n",
        "for epoch in range(epochs):\n",
        "    print(f\"Epoch {epoch+1} of {epochs}\")\n",
        "    train_epoch_loss, train_epoch_accuracy = train(model, trainLoader)\n",
        "    val_epoch_loss, val_epoch_accuracy = validate(model, testLoader)\n",
        "    train_loss.append(train_epoch_loss)\n",
        "    train_accuracy.append(train_epoch_accuracy)\n",
        "    val_loss.append(val_epoch_loss)\n",
        "    val_accuracy.append(val_epoch_accuracy)"
      ],
      "metadata": {
        "colab": {
          "base_uri": "https://localhost:8080/"
        },
        "id": "kxWa3M8tlCFP",
        "outputId": "254828b1-a091-4a60-f0f3-ebe5066e2016",
        "execution": {
          "iopub.status.busy": "2022-12-28T07:18:53.256469Z",
          "iopub.execute_input": "2022-12-28T07:18:53.256885Z",
          "iopub.status.idle": "2022-12-28T07:34:08.555569Z",
          "shell.execute_reply.started": "2022-12-28T07:18:53.256831Z",
          "shell.execute_reply": "2022-12-28T07:34:08.554473Z"
        },
        "trusted": true
      },
      "execution_count": null,
      "outputs": [
        {
          "name": "stdout",
          "text": "Training on 344 examples, validating on 150 examples...\nEpoch 1 of 50\nTraining\n",
          "output_type": "stream"
        },
        {
          "name": "stderr",
          "text": "100%|██████████| 58/58 [00:13<00:00,  4.29it/s]",
          "output_type": "stream"
        },
        {
          "name": "stdout",
          "text": "Train Loss: 1.162 | Accuracy: 38.663\nValidating\n",
          "output_type": "stream"
        },
        {
          "name": "stderr",
          "text": "\n",
          "output_type": "stream"
        },
        {
          "name": "stdout",
          "text": "Test Loss: 1.048 | Accuracy: 47.333\nEpoch 2 of 50\nTraining\n",
          "output_type": "stream"
        },
        {
          "name": "stderr",
          "text": "100%|██████████| 58/58 [00:14<00:00,  4.12it/s]",
          "output_type": "stream"
        },
        {
          "name": "stdout",
          "text": "Train Loss: 1.167 | Accuracy: 43.023\nValidating\n",
          "output_type": "stream"
        },
        {
          "name": "stderr",
          "text": "\n",
          "output_type": "stream"
        },
        {
          "name": "stdout",
          "text": "Test Loss: 1.071 | Accuracy: 42.000\nEpoch 3 of 50\nTraining\n",
          "output_type": "stream"
        },
        {
          "name": "stderr",
          "text": "100%|██████████| 58/58 [00:13<00:00,  4.34it/s]",
          "output_type": "stream"
        },
        {
          "name": "stdout",
          "text": "Train Loss: 1.112 | Accuracy: 50.000\nValidating\n",
          "output_type": "stream"
        },
        {
          "name": "stderr",
          "text": "\n",
          "output_type": "stream"
        },
        {
          "name": "stdout",
          "text": "Test Loss: 1.128 | Accuracy: 51.333\nEpoch 4 of 50\nTraining\n",
          "output_type": "stream"
        },
        {
          "name": "stderr",
          "text": "100%|██████████| 58/58 [00:13<00:00,  4.27it/s]",
          "output_type": "stream"
        },
        {
          "name": "stdout",
          "text": "Train Loss: 0.945 | Accuracy: 54.070\nValidating\n",
          "output_type": "stream"
        },
        {
          "name": "stderr",
          "text": "\n",
          "output_type": "stream"
        },
        {
          "name": "stdout",
          "text": "Test Loss: 1.435 | Accuracy: 42.000\nEpoch 5 of 50\nTraining\n",
          "output_type": "stream"
        },
        {
          "name": "stderr",
          "text": "100%|██████████| 58/58 [00:13<00:00,  4.36it/s]",
          "output_type": "stream"
        },
        {
          "name": "stdout",
          "text": "Train Loss: 0.749 | Accuracy: 65.698\nValidating\n",
          "output_type": "stream"
        },
        {
          "name": "stderr",
          "text": "\n",
          "output_type": "stream"
        },
        {
          "name": "stdout",
          "text": "Test Loss: 1.321 | Accuracy: 57.333\nEpoch 6 of 50\nTraining\n",
          "output_type": "stream"
        },
        {
          "name": "stderr",
          "text": "100%|██████████| 58/58 [00:13<00:00,  4.27it/s]",
          "output_type": "stream"
        },
        {
          "name": "stdout",
          "text": "Train Loss: 0.718 | Accuracy: 66.279\nValidating\n",
          "output_type": "stream"
        },
        {
          "name": "stderr",
          "text": "\n",
          "output_type": "stream"
        },
        {
          "name": "stdout",
          "text": "Test Loss: 1.286 | Accuracy: 48.667\nEpoch 7 of 50\nTraining\n",
          "output_type": "stream"
        },
        {
          "name": "stderr",
          "text": "100%|██████████| 58/58 [00:13<00:00,  4.16it/s]",
          "output_type": "stream"
        },
        {
          "name": "stdout",
          "text": "Train Loss: 0.664 | Accuracy: 73.547\nValidating\n",
          "output_type": "stream"
        },
        {
          "name": "stderr",
          "text": "\n",
          "output_type": "stream"
        },
        {
          "name": "stdout",
          "text": "Test Loss: 1.251 | Accuracy: 48.667\nEpoch 8 of 50\nTraining\n",
          "output_type": "stream"
        },
        {
          "name": "stderr",
          "text": "100%|██████████| 58/58 [00:13<00:00,  4.27it/s]",
          "output_type": "stream"
        },
        {
          "name": "stdout",
          "text": "Train Loss: 0.455 | Accuracy: 81.105\nValidating\n",
          "output_type": "stream"
        },
        {
          "name": "stderr",
          "text": "\n",
          "output_type": "stream"
        },
        {
          "name": "stdout",
          "text": "Test Loss: 1.270 | Accuracy: 54.000\nEpoch 9 of 50\nTraining\n",
          "output_type": "stream"
        },
        {
          "name": "stderr",
          "text": "100%|██████████| 58/58 [00:14<00:00,  4.06it/s]",
          "output_type": "stream"
        },
        {
          "name": "stdout",
          "text": "Train Loss: 0.516 | Accuracy: 79.360\nValidating\n",
          "output_type": "stream"
        },
        {
          "name": "stderr",
          "text": "\n",
          "output_type": "stream"
        },
        {
          "name": "stdout",
          "text": "Test Loss: 1.720 | Accuracy: 44.667\nEpoch 10 of 50\nTraining\n",
          "output_type": "stream"
        },
        {
          "name": "stderr",
          "text": "100%|██████████| 58/58 [00:13<00:00,  4.22it/s]",
          "output_type": "stream"
        },
        {
          "name": "stdout",
          "text": "Train Loss: 0.613 | Accuracy: 77.035\nValidating\n",
          "output_type": "stream"
        },
        {
          "name": "stderr",
          "text": "\n",
          "output_type": "stream"
        },
        {
          "name": "stdout",
          "text": "Test Loss: 1.683 | Accuracy: 50.667\nEpoch 11 of 50\nTraining\n",
          "output_type": "stream"
        },
        {
          "name": "stderr",
          "text": "100%|██████████| 58/58 [00:14<00:00,  4.10it/s]",
          "output_type": "stream"
        },
        {
          "name": "stdout",
          "text": "Train Loss: 0.564 | Accuracy: 79.070\nValidating\n",
          "output_type": "stream"
        },
        {
          "name": "stderr",
          "text": "\n",
          "output_type": "stream"
        },
        {
          "name": "stdout",
          "text": "Test Loss: 1.513 | Accuracy: 48.667\nEpoch 12 of 50\nTraining\n",
          "output_type": "stream"
        },
        {
          "name": "stderr",
          "text": "100%|██████████| 58/58 [00:13<00:00,  4.15it/s]",
          "output_type": "stream"
        },
        {
          "name": "stdout",
          "text": "Train Loss: 0.436 | Accuracy: 81.395\nValidating\n",
          "output_type": "stream"
        },
        {
          "name": "stderr",
          "text": "\n",
          "output_type": "stream"
        },
        {
          "name": "stdout",
          "text": "Test Loss: 1.485 | Accuracy: 52.667\nEpoch 13 of 50\nTraining\n",
          "output_type": "stream"
        },
        {
          "name": "stderr",
          "text": "100%|██████████| 58/58 [00:13<00:00,  4.23it/s]",
          "output_type": "stream"
        },
        {
          "name": "stdout",
          "text": "Train Loss: 0.439 | Accuracy: 81.395\nValidating\n",
          "output_type": "stream"
        },
        {
          "name": "stderr",
          "text": "\n",
          "output_type": "stream"
        },
        {
          "name": "stdout",
          "text": "Test Loss: 1.674 | Accuracy: 50.667\nEpoch 14 of 50\nTraining\n",
          "output_type": "stream"
        },
        {
          "name": "stderr",
          "text": "100%|██████████| 58/58 [00:14<00:00,  4.06it/s]",
          "output_type": "stream"
        },
        {
          "name": "stdout",
          "text": "Train Loss: 0.271 | Accuracy: 89.535\nValidating\n",
          "output_type": "stream"
        },
        {
          "name": "stderr",
          "text": "\n",
          "output_type": "stream"
        },
        {
          "name": "stdout",
          "text": "Test Loss: 1.563 | Accuracy: 48.000\nEpoch 15 of 50\nTraining\n",
          "output_type": "stream"
        },
        {
          "name": "stderr",
          "text": "100%|██████████| 58/58 [00:13<00:00,  4.26it/s]",
          "output_type": "stream"
        },
        {
          "name": "stdout",
          "text": "Train Loss: 0.294 | Accuracy: 87.209\nValidating\n",
          "output_type": "stream"
        },
        {
          "name": "stderr",
          "text": "\n",
          "output_type": "stream"
        },
        {
          "name": "stdout",
          "text": "Test Loss: 1.980 | Accuracy: 50.667\nEpoch 16 of 50\nTraining\n",
          "output_type": "stream"
        },
        {
          "name": "stderr",
          "text": "100%|██████████| 58/58 [00:14<00:00,  3.99it/s]",
          "output_type": "stream"
        },
        {
          "name": "stdout",
          "text": "Train Loss: 0.314 | Accuracy: 87.209\nValidating\n",
          "output_type": "stream"
        },
        {
          "name": "stderr",
          "text": "\n",
          "output_type": "stream"
        },
        {
          "name": "stdout",
          "text": "Test Loss: 2.030 | Accuracy: 45.333\nEpoch 17 of 50\nTraining\n",
          "output_type": "stream"
        },
        {
          "name": "stderr",
          "text": "100%|██████████| 58/58 [00:13<00:00,  4.22it/s]",
          "output_type": "stream"
        },
        {
          "name": "stdout",
          "text": "Train Loss: 0.309 | Accuracy: 86.919\nValidating\n",
          "output_type": "stream"
        },
        {
          "name": "stderr",
          "text": "\n",
          "output_type": "stream"
        },
        {
          "name": "stdout",
          "text": "Test Loss: 1.444 | Accuracy: 56.000\nEpoch 18 of 50\nTraining\n",
          "output_type": "stream"
        },
        {
          "name": "stderr",
          "text": "100%|██████████| 58/58 [00:13<00:00,  4.34it/s]",
          "output_type": "stream"
        },
        {
          "name": "stdout",
          "text": "Train Loss: 0.223 | Accuracy: 90.698\nValidating\n",
          "output_type": "stream"
        },
        {
          "name": "stderr",
          "text": "\n",
          "output_type": "stream"
        },
        {
          "name": "stdout",
          "text": "Test Loss: 1.631 | Accuracy: 56.667\nEpoch 19 of 50\nTraining\n",
          "output_type": "stream"
        },
        {
          "name": "stderr",
          "text": "100%|██████████| 58/58 [00:13<00:00,  4.30it/s]",
          "output_type": "stream"
        },
        {
          "name": "stdout",
          "text": "Train Loss: 0.223 | Accuracy: 91.860\nValidating\n",
          "output_type": "stream"
        },
        {
          "name": "stderr",
          "text": "\n",
          "output_type": "stream"
        },
        {
          "name": "stdout",
          "text": "Test Loss: 1.532 | Accuracy: 56.000\nEpoch 20 of 50\nTraining\n",
          "output_type": "stream"
        },
        {
          "name": "stderr",
          "text": "100%|██████████| 58/58 [00:13<00:00,  4.33it/s]",
          "output_type": "stream"
        },
        {
          "name": "stdout",
          "text": "Train Loss: 0.179 | Accuracy: 93.895\nValidating\n",
          "output_type": "stream"
        },
        {
          "name": "stderr",
          "text": "\n",
          "output_type": "stream"
        },
        {
          "name": "stdout",
          "text": "Test Loss: 1.657 | Accuracy: 54.000\nEpoch 21 of 50\nTraining\n",
          "output_type": "stream"
        },
        {
          "name": "stderr",
          "text": "100%|██████████| 58/58 [00:13<00:00,  4.17it/s]",
          "output_type": "stream"
        },
        {
          "name": "stdout",
          "text": "Train Loss: 0.221 | Accuracy: 93.314\nValidating\n",
          "output_type": "stream"
        },
        {
          "name": "stderr",
          "text": "\n",
          "output_type": "stream"
        },
        {
          "name": "stdout",
          "text": "Test Loss: 2.053 | Accuracy: 50.667\nEpoch 22 of 50\nTraining\n",
          "output_type": "stream"
        },
        {
          "name": "stderr",
          "text": "100%|██████████| 58/58 [00:13<00:00,  4.33it/s]",
          "output_type": "stream"
        },
        {
          "name": "stdout",
          "text": "Train Loss: 0.259 | Accuracy: 92.733\nValidating\n",
          "output_type": "stream"
        },
        {
          "name": "stderr",
          "text": "\n",
          "output_type": "stream"
        },
        {
          "name": "stdout",
          "text": "Test Loss: 1.861 | Accuracy: 52.667\nEpoch 23 of 50\nTraining\n",
          "output_type": "stream"
        },
        {
          "name": "stderr",
          "text": "100%|██████████| 58/58 [00:14<00:00,  4.10it/s]",
          "output_type": "stream"
        },
        {
          "name": "stdout",
          "text": "Train Loss: 0.383 | Accuracy: 88.663\nValidating\n",
          "output_type": "stream"
        },
        {
          "name": "stderr",
          "text": "\n",
          "output_type": "stream"
        },
        {
          "name": "stdout",
          "text": "Test Loss: 2.417 | Accuracy: 47.333\nEpoch 24 of 50\nTraining\n",
          "output_type": "stream"
        },
        {
          "name": "stderr",
          "text": "100%|██████████| 58/58 [00:13<00:00,  4.35it/s]",
          "output_type": "stream"
        },
        {
          "name": "stdout",
          "text": "Train Loss: 0.219 | Accuracy: 94.477\nValidating\n",
          "output_type": "stream"
        },
        {
          "name": "stderr",
          "text": "\n",
          "output_type": "stream"
        },
        {
          "name": "stdout",
          "text": "Test Loss: 1.723 | Accuracy: 52.000\nEpoch 25 of 50\nTraining\n",
          "output_type": "stream"
        },
        {
          "name": "stderr",
          "text": "100%|██████████| 58/58 [00:13<00:00,  4.21it/s]",
          "output_type": "stream"
        },
        {
          "name": "stdout",
          "text": "Train Loss: 0.188 | Accuracy: 93.314\nValidating\n",
          "output_type": "stream"
        },
        {
          "name": "stderr",
          "text": "\n",
          "output_type": "stream"
        },
        {
          "name": "stdout",
          "text": "Test Loss: 1.524 | Accuracy: 54.667\nEpoch 26 of 50\nTraining\n",
          "output_type": "stream"
        },
        {
          "name": "stderr",
          "text": "100%|██████████| 58/58 [00:13<00:00,  4.27it/s]",
          "output_type": "stream"
        },
        {
          "name": "stdout",
          "text": "Train Loss: 0.183 | Accuracy: 93.023\nValidating\n",
          "output_type": "stream"
        },
        {
          "name": "stderr",
          "text": "\n",
          "output_type": "stream"
        },
        {
          "name": "stdout",
          "text": "Test Loss: 1.682 | Accuracy: 57.333\nEpoch 27 of 50\nTraining\n",
          "output_type": "stream"
        },
        {
          "name": "stderr",
          "text": "100%|██████████| 58/58 [00:13<00:00,  4.31it/s]",
          "output_type": "stream"
        },
        {
          "name": "stdout",
          "text": "Train Loss: 0.108 | Accuracy: 96.221\nValidating\n",
          "output_type": "stream"
        },
        {
          "name": "stderr",
          "text": "\n",
          "output_type": "stream"
        },
        {
          "name": "stdout",
          "text": "Test Loss: 1.861 | Accuracy: 49.333\nEpoch 28 of 50\nTraining\n",
          "output_type": "stream"
        },
        {
          "name": "stderr",
          "text": "100%|██████████| 58/58 [00:14<00:00,  4.13it/s]",
          "output_type": "stream"
        },
        {
          "name": "stdout",
          "text": "Train Loss: 0.115 | Accuracy: 96.802\nValidating\n",
          "output_type": "stream"
        },
        {
          "name": "stderr",
          "text": "\n",
          "output_type": "stream"
        },
        {
          "name": "stdout",
          "text": "Test Loss: 2.067 | Accuracy: 51.333\nEpoch 29 of 50\nTraining\n",
          "output_type": "stream"
        },
        {
          "name": "stderr",
          "text": "100%|██████████| 58/58 [00:13<00:00,  4.39it/s]",
          "output_type": "stream"
        },
        {
          "name": "stdout",
          "text": "Train Loss: 0.217 | Accuracy: 95.058\nValidating\n",
          "output_type": "stream"
        },
        {
          "name": "stderr",
          "text": "\n",
          "output_type": "stream"
        },
        {
          "name": "stdout",
          "text": "Test Loss: 1.995 | Accuracy: 50.000\nEpoch 30 of 50\nTraining\n",
          "output_type": "stream"
        },
        {
          "name": "stderr",
          "text": "100%|██████████| 58/58 [00:14<00:00,  4.10it/s]",
          "output_type": "stream"
        },
        {
          "name": "stdout",
          "text": "Train Loss: 0.248 | Accuracy: 91.860\nValidating\n",
          "output_type": "stream"
        },
        {
          "name": "stderr",
          "text": "\n",
          "output_type": "stream"
        },
        {
          "name": "stdout",
          "text": "Test Loss: 1.569 | Accuracy: 50.667\nEpoch 31 of 50\nTraining\n",
          "output_type": "stream"
        },
        {
          "name": "stderr",
          "text": "100%|██████████| 58/58 [00:13<00:00,  4.25it/s]",
          "output_type": "stream"
        },
        {
          "name": "stdout",
          "text": "Train Loss: 0.124 | Accuracy: 95.640\nValidating\n",
          "output_type": "stream"
        },
        {
          "name": "stderr",
          "text": "\n",
          "output_type": "stream"
        },
        {
          "name": "stdout",
          "text": "Test Loss: 2.028 | Accuracy: 52.000\nEpoch 32 of 50\nTraining\n",
          "output_type": "stream"
        },
        {
          "name": "stderr",
          "text": "100%|██████████| 58/58 [00:14<00:00,  4.10it/s]",
          "output_type": "stream"
        },
        {
          "name": "stdout",
          "text": "Train Loss: 0.116 | Accuracy: 97.384\nValidating\n",
          "output_type": "stream"
        },
        {
          "name": "stderr",
          "text": "\n",
          "output_type": "stream"
        },
        {
          "name": "stdout",
          "text": "Test Loss: 1.841 | Accuracy: 50.000\nEpoch 33 of 50\nTraining\n",
          "output_type": "stream"
        },
        {
          "name": "stderr",
          "text": "100%|██████████| 58/58 [00:13<00:00,  4.27it/s]",
          "output_type": "stream"
        },
        {
          "name": "stdout",
          "text": "Train Loss: 0.157 | Accuracy: 95.349\nValidating\n",
          "output_type": "stream"
        },
        {
          "name": "stderr",
          "text": "\n",
          "output_type": "stream"
        },
        {
          "name": "stdout",
          "text": "Test Loss: 2.054 | Accuracy: 52.667\nEpoch 34 of 50\nTraining\n",
          "output_type": "stream"
        },
        {
          "name": "stderr",
          "text": "100%|██████████| 58/58 [00:13<00:00,  4.35it/s]",
          "output_type": "stream"
        },
        {
          "name": "stdout",
          "text": "Train Loss: 0.091 | Accuracy: 98.256\nValidating\n",
          "output_type": "stream"
        },
        {
          "name": "stderr",
          "text": "\n",
          "output_type": "stream"
        },
        {
          "name": "stdout",
          "text": "Test Loss: 2.082 | Accuracy: 50.000\nEpoch 35 of 50\nTraining\n",
          "output_type": "stream"
        },
        {
          "name": "stderr",
          "text": "100%|██████████| 58/58 [00:14<00:00,  4.11it/s]",
          "output_type": "stream"
        },
        {
          "name": "stdout",
          "text": "Train Loss: 0.127 | Accuracy: 95.640\nValidating\n",
          "output_type": "stream"
        },
        {
          "name": "stderr",
          "text": "\n",
          "output_type": "stream"
        },
        {
          "name": "stdout",
          "text": "Test Loss: 2.183 | Accuracy: 52.667\nEpoch 36 of 50\nTraining\n",
          "output_type": "stream"
        },
        {
          "name": "stderr",
          "text": "100%|██████████| 58/58 [00:13<00:00,  4.31it/s]",
          "output_type": "stream"
        },
        {
          "name": "stdout",
          "text": "Train Loss: 0.118 | Accuracy: 97.965\nValidating\n",
          "output_type": "stream"
        },
        {
          "name": "stderr",
          "text": "\n",
          "output_type": "stream"
        },
        {
          "name": "stdout",
          "text": "Test Loss: 2.058 | Accuracy: 53.333\nEpoch 37 of 50\nTraining\n",
          "output_type": "stream"
        },
        {
          "name": "stderr",
          "text": "100%|██████████| 58/58 [00:14<00:00,  4.13it/s]",
          "output_type": "stream"
        },
        {
          "name": "stdout",
          "text": "Train Loss: 0.154 | Accuracy: 96.221\nValidating\n",
          "output_type": "stream"
        },
        {
          "name": "stderr",
          "text": "\n",
          "output_type": "stream"
        },
        {
          "name": "stdout",
          "text": "Test Loss: 1.812 | Accuracy: 49.333\nEpoch 38 of 50\nTraining\n",
          "output_type": "stream"
        },
        {
          "name": "stderr",
          "text": "100%|██████████| 58/58 [00:13<00:00,  4.28it/s]",
          "output_type": "stream"
        },
        {
          "name": "stdout",
          "text": "Train Loss: 0.075 | Accuracy: 96.802\nValidating\n",
          "output_type": "stream"
        },
        {
          "name": "stderr",
          "text": "\n",
          "output_type": "stream"
        },
        {
          "name": "stdout",
          "text": "Test Loss: 1.691 | Accuracy: 55.333\nEpoch 39 of 50\nTraining\n",
          "output_type": "stream"
        },
        {
          "name": "stderr",
          "text": "100%|██████████| 58/58 [00:15<00:00,  3.76it/s]",
          "output_type": "stream"
        },
        {
          "name": "stdout",
          "text": "Train Loss: 0.137 | Accuracy: 96.802\nValidating\n",
          "output_type": "stream"
        },
        {
          "name": "stderr",
          "text": "\n",
          "output_type": "stream"
        },
        {
          "name": "stdout",
          "text": "Test Loss: 2.108 | Accuracy: 51.333\nEpoch 40 of 50\nTraining\n",
          "output_type": "stream"
        },
        {
          "name": "stderr",
          "text": "100%|██████████| 58/58 [00:14<00:00,  3.94it/s]",
          "output_type": "stream"
        },
        {
          "name": "stdout",
          "text": "Train Loss: 0.129 | Accuracy: 96.221\nValidating\n",
          "output_type": "stream"
        },
        {
          "name": "stderr",
          "text": "\n",
          "output_type": "stream"
        },
        {
          "name": "stdout",
          "text": "Test Loss: 2.026 | Accuracy: 54.000\nEpoch 41 of 50\nTraining\n",
          "output_type": "stream"
        },
        {
          "name": "stderr",
          "text": "100%|██████████| 58/58 [00:14<00:00,  4.09it/s]",
          "output_type": "stream"
        },
        {
          "name": "stdout",
          "text": "Train Loss: 0.042 | Accuracy: 99.419\nValidating\n",
          "output_type": "stream"
        },
        {
          "name": "stderr",
          "text": "\n",
          "output_type": "stream"
        },
        {
          "name": "stdout",
          "text": "Test Loss: 2.480 | Accuracy: 48.000\nEpoch 42 of 50\nTraining\n",
          "output_type": "stream"
        },
        {
          "name": "stderr",
          "text": "100%|██████████| 58/58 [00:14<00:00,  4.05it/s]",
          "output_type": "stream"
        },
        {
          "name": "stdout",
          "text": "Train Loss: 0.049 | Accuracy: 97.965\nValidating\n",
          "output_type": "stream"
        },
        {
          "name": "stderr",
          "text": "\n",
          "output_type": "stream"
        },
        {
          "name": "stdout",
          "text": "Test Loss: 2.080 | Accuracy: 54.000\nEpoch 43 of 50\nTraining\n",
          "output_type": "stream"
        },
        {
          "name": "stderr",
          "text": "100%|██████████| 58/58 [00:14<00:00,  4.05it/s]",
          "output_type": "stream"
        },
        {
          "name": "stdout",
          "text": "Train Loss: 0.054 | Accuracy: 99.128\nValidating\n",
          "output_type": "stream"
        },
        {
          "name": "stderr",
          "text": "\n",
          "output_type": "stream"
        },
        {
          "name": "stdout",
          "text": "Test Loss: 2.284 | Accuracy: 52.000\nEpoch 44 of 50\nTraining\n",
          "output_type": "stream"
        },
        {
          "name": "stderr",
          "text": "100%|██████████| 58/58 [00:14<00:00,  3.96it/s]",
          "output_type": "stream"
        },
        {
          "name": "stdout",
          "text": "Train Loss: 0.058 | Accuracy: 98.256\nValidating\n",
          "output_type": "stream"
        },
        {
          "name": "stderr",
          "text": "\n",
          "output_type": "stream"
        },
        {
          "name": "stdout",
          "text": "Test Loss: 2.464 | Accuracy: 48.667\nEpoch 45 of 50\nTraining\n",
          "output_type": "stream"
        },
        {
          "name": "stderr",
          "text": "100%|██████████| 58/58 [00:13<00:00,  4.23it/s]",
          "output_type": "stream"
        },
        {
          "name": "stdout",
          "text": "Train Loss: 0.098 | Accuracy: 97.674\nValidating\n",
          "output_type": "stream"
        },
        {
          "name": "stderr",
          "text": "\n",
          "output_type": "stream"
        },
        {
          "name": "stdout",
          "text": "Test Loss: 2.482 | Accuracy: 50.000\nEpoch 46 of 50\nTraining\n",
          "output_type": "stream"
        },
        {
          "name": "stderr",
          "text": "100%|██████████| 58/58 [00:13<00:00,  4.15it/s]",
          "output_type": "stream"
        },
        {
          "name": "stdout",
          "text": "Train Loss: 0.129 | Accuracy: 97.093\nValidating\n",
          "output_type": "stream"
        },
        {
          "name": "stderr",
          "text": "\n",
          "output_type": "stream"
        },
        {
          "name": "stdout",
          "text": "Test Loss: 3.104 | Accuracy: 43.333\nEpoch 47 of 50\nTraining\n",
          "output_type": "stream"
        },
        {
          "name": "stderr",
          "text": "100%|██████████| 58/58 [00:14<00:00,  4.02it/s]",
          "output_type": "stream"
        },
        {
          "name": "stdout",
          "text": "Train Loss: 0.102 | Accuracy: 97.093\nValidating\n",
          "output_type": "stream"
        },
        {
          "name": "stderr",
          "text": "\n",
          "output_type": "stream"
        },
        {
          "name": "stdout",
          "text": "Test Loss: 2.221 | Accuracy: 49.333\nEpoch 48 of 50\nTraining\n",
          "output_type": "stream"
        },
        {
          "name": "stderr",
          "text": "100%|██████████| 58/58 [00:13<00:00,  4.27it/s]",
          "output_type": "stream"
        },
        {
          "name": "stdout",
          "text": "Train Loss: 0.100 | Accuracy: 96.512\nValidating\n",
          "output_type": "stream"
        },
        {
          "name": "stderr",
          "text": "\n",
          "output_type": "stream"
        },
        {
          "name": "stdout",
          "text": "Test Loss: 2.376 | Accuracy: 52.667\nEpoch 49 of 50\nTraining\n",
          "output_type": "stream"
        },
        {
          "name": "stderr",
          "text": "100%|██████████| 58/58 [00:14<00:00,  4.10it/s]",
          "output_type": "stream"
        },
        {
          "name": "stdout",
          "text": "Train Loss: 0.144 | Accuracy: 95.058\nValidating\n",
          "output_type": "stream"
        },
        {
          "name": "stderr",
          "text": "\n",
          "output_type": "stream"
        },
        {
          "name": "stdout",
          "text": "Test Loss: 2.094 | Accuracy: 53.333\nEpoch 50 of 50\nTraining\n",
          "output_type": "stream"
        },
        {
          "name": "stderr",
          "text": "100%|██████████| 58/58 [00:13<00:00,  4.33it/s]",
          "output_type": "stream"
        },
        {
          "name": "stdout",
          "text": "Train Loss: 0.177 | Accuracy: 94.477\nValidating\n",
          "output_type": "stream"
        },
        {
          "name": "stderr",
          "text": "\n",
          "output_type": "stream"
        },
        {
          "name": "stdout",
          "text": "Test Loss: 2.076 | Accuracy: 54.000\n",
          "output_type": "stream"
        }
      ]
    },
    {
      "cell_type": "markdown",
      "source": [
        "# **MODEL SAVING**"
      ],
      "metadata": {
        "id": "dvW4WeMWTmyh"
      }
    },
    {
      "cell_type": "code",
      "source": [
        "torch.save(model.state_dict(), save_path)\n",
        "print(\"Saved PyTorch Model State to model.pth\")"
      ],
      "metadata": {
        "colab": {
          "base_uri": "https://localhost:8080/"
        },
        "id": "qHDbJaR_GKUF",
        "outputId": "7dd3185b-b4a4-4389-ca31-a24afc0fae04",
        "execution": {
          "iopub.status.busy": "2022-12-28T07:34:08.557783Z",
          "iopub.execute_input": "2022-12-28T07:34:08.558200Z",
          "iopub.status.idle": "2022-12-28T07:34:09.000883Z",
          "shell.execute_reply.started": "2022-12-28T07:34:08.558159Z",
          "shell.execute_reply": "2022-12-28T07:34:08.999654Z"
        },
        "trusted": true
      },
      "execution_count": null,
      "outputs": [
        {
          "name": "stdout",
          "text": "Saved PyTorch Model State to model.pth\n",
          "output_type": "stream"
        }
      ]
    },
    {
      "cell_type": "code",
      "source": [
        "model = resnet152(pretrained=True).to(device)\n",
        "#model.load_state_dict(torch.load(\"model.pth\"))\n",
        "\n",
        "state_dict = torch.load(f\"/kaggle/working/{save_path}\")\n",
        "model.load_state_dict(state_dict)"
      ],
      "metadata": {
        "colab": {
          "base_uri": "https://localhost:8080/"
        },
        "id": "192GmgndGOpP",
        "outputId": "9e973171-88bd-4503-867f-b1655626230d",
        "execution": {
          "iopub.status.busy": "2022-12-28T07:34:09.006673Z",
          "iopub.execute_input": "2022-12-28T07:34:09.006982Z",
          "iopub.status.idle": "2022-12-28T07:34:11.233478Z",
          "shell.execute_reply.started": "2022-12-28T07:34:09.006953Z",
          "shell.execute_reply": "2022-12-28T07:34:11.232296Z"
        },
        "trusted": true
      },
      "execution_count": null,
      "outputs": [
        {
          "execution_count": 24,
          "output_type": "execute_result",
          "data": {
            "text/plain": "<All keys matched successfully>"
          },
          "metadata": {}
        }
      ]
    },
    {
      "cell_type": "markdown",
      "source": [
        "# **VISUALIZE PREDICTING IMAGE**"
      ],
      "metadata": {
        "id": "dfUb4Q6ETmyi"
      }
    },
    {
      "cell_type": "code",
      "source": [
        "import matplotlib.pyplot as plt\n",
        "import numpy as np\n",
        "\n",
        "\n",
        "# Function to show the images\n",
        "def imageshow(img):\n",
        "    img = img / 2 + 0.5     # unnormalize\n",
        "    npimg = img.numpy()\n",
        "    plt.imshow(np.transpose(npimg, (1, 2, 0)))\n",
        "    plt.show()\n",
        "\n",
        "\n",
        "# Function to test the model with a batch of images and show the labels predictions\n",
        "def testBatch():\n",
        "    # get batch of images from the test DataLoader  \n",
        "    images, labels = next(iter(testLoader))\n",
        "\n",
        "    # show all images as one image grid\n",
        "    imageshow(torchvision.utils.make_grid(images))\n",
        "   \n",
        "    # Show the real labels on the screen \n",
        "    print('Real labels: ', ' '.join('%5s' % classes[labels[j]] \n",
        "                               for j in range(batch_size)))\n",
        "  \n",
        "    # Let's see what if the model identifiers the  labels of those example\n",
        "    images=images.to(device)\n",
        "    outputs = model(images)\n",
        "    \n",
        "    # We got the probability for every 10 labels. The highest (max) probability should be correct label\n",
        "    _, predicted = torch.max(outputs, 1)\n",
        "    \n",
        "    # Let's show the predicted labels on the screen to compare with the real ones\n",
        "    print('Predicted: ', ' '.join('%5s' % classes[predicted[j]] \n",
        "                              for j in range(batch_size)))"
      ],
      "metadata": {
        "id": "edCeruLWfJVh",
        "execution": {
          "iopub.status.busy": "2022-12-28T07:34:11.235109Z",
          "iopub.execute_input": "2022-12-28T07:34:11.235788Z",
          "iopub.status.idle": "2022-12-28T07:34:11.246610Z",
          "shell.execute_reply.started": "2022-12-28T07:34:11.235751Z",
          "shell.execute_reply": "2022-12-28T07:34:11.245721Z"
        },
        "trusted": true
      },
      "execution_count": null,
      "outputs": []
    },
    {
      "cell_type": "code",
      "source": [
        "testBatch()"
      ],
      "metadata": {
        "colab": {
          "base_uri": "https://localhost:8080/",
          "height": 304
        },
        "id": "NoBgCKGqGWei",
        "outputId": "4ca0d54d-d4d7-434b-bedb-8ebb7ec9c249",
        "execution": {
          "iopub.status.busy": "2022-12-28T07:34:11.249686Z",
          "iopub.execute_input": "2022-12-28T07:34:11.249973Z",
          "iopub.status.idle": "2022-12-28T07:34:13.529439Z",
          "shell.execute_reply.started": "2022-12-28T07:34:11.249946Z",
          "shell.execute_reply": "2022-12-28T07:34:13.528299Z"
        },
        "trusted": true
      },
      "execution_count": null,
      "outputs": [
        {
          "output_type": "display_data",
          "data": {
            "text/plain": "<Figure size 432x288 with 1 Axes>",
            "image/png": "[encoded data removed]"
          },
          "metadata": {
            "needs_background": "light"
          }
        },
        {
          "name": "stdout",
          "text": "Real labels:  benign malignant benign non-nodule malignant malignant\nPredicted:  malignant benign malignant non-nodule benign malignant\n",
          "output_type": "stream"
        }
      ]
    },
    {
      "cell_type": "markdown",
      "source": [
        "# **PLOT ACCURACY**"
      ],
      "metadata": {
        "id": "Jw4WJTciTmyi"
      }
    },
    {
      "cell_type": "code",
      "source": [
        "# accuracy plots\n",
        "plt.figure(figsize=(10, 7))\n",
        "plt.subplot(121)\n",
        "plt.plot(train_accuracy, color='green', label='train accuracy')\n",
        "plt.plot(val_accuracy, color='blue', label='validation accuracy')\n",
        "plt.xlabel('Epochs')\n",
        "plt.ylabel('Accuracy')\n",
        "plt.legend()\n",
        "# plt.savefig('../outputs/plots/accuracy.png')\n"
      ],
      "metadata": {
        "colab": {
          "base_uri": "https://localhost:8080/",
          "height": 459
        },
        "id": "8-R8FjQqlFBX",
        "outputId": "19a2fd50-c8ed-46bc-87e1-7d4ac0ce7af6",
        "execution": {
          "iopub.status.busy": "2022-12-28T07:34:13.531355Z",
          "iopub.execute_input": "2022-12-28T07:34:13.532070Z",
          "iopub.status.idle": "2022-12-28T07:34:13.775178Z",
          "shell.execute_reply.started": "2022-12-28T07:34:13.532030Z",
          "shell.execute_reply": "2022-12-28T07:34:13.774266Z"
        },
        "trusted": true
      },
      "execution_count": null,
      "outputs": [
        {
          "execution_count": 27,
          "output_type": "execute_result",
          "data": {
            "text/plain": "<matplotlib.legend.Legend at 0x7f181150edd0>"
          },
          "metadata": {}
        },
        {
          "output_type": "display_data",
          "data": {
            "text/plain": "<Figure size 720x504 with 1 Axes>",
            "image/png": "[encoded data removed]"
          },
          "metadata": {
            "needs_background": "light"
          }
        }
      ]
    },
    {
      "cell_type": "markdown",
      "source": [
        "# **PLOT LOSS**"
      ],
      "metadata": {
        "id": "vPpTW64hTmyj"
      }
    },
    {
      "cell_type": "code",
      "source": [
        "# loss plots\n",
        "plt.figure(figsize=(10, 7))\n",
        "plt.subplot(121)\n",
        "plt.plot(train_loss, color='orange', label='train loss')\n",
        "plt.plot(val_loss, color='red', label='validation loss')\n",
        "plt.xlabel('Epochs')\n",
        "plt.ylabel('Loss')\n",
        "plt.legend()\n",
        "# plt.savefig('../outputs/plots/loss.png')\n",
        "plt.show()"
      ],
      "metadata": {
        "id": "1aeZoTKBOX9C",
        "colab": {
          "base_uri": "https://localhost:8080/",
          "height": 443
        },
        "outputId": "4b19291f-76ff-497d-b317-f1fcbf4666e9",
        "execution": {
          "iopub.status.busy": "2022-12-28T07:34:13.776832Z",
          "iopub.execute_input": "2022-12-28T07:34:13.777500Z",
          "iopub.status.idle": "2022-12-28T07:34:14.007358Z",
          "shell.execute_reply.started": "2022-12-28T07:34:13.777458Z",
          "shell.execute_reply": "2022-12-28T07:34:14.005277Z"
        },
        "trusted": true
      },
      "execution_count": null,
      "outputs": [
        {
          "output_type": "display_data",
          "data": {
            "text/plain": "<Figure size 720x504 with 1 Axes>",
            "image/png": "[encoded data removed]"
          },
          "metadata": {
            "needs_background": "light"
          }
        }
      ]
    },
    {
      "cell_type": "code",
      "source": [],
      "metadata": {
        "id": "QJ4oeaj6Tmyj"
      },
      "execution_count": null,
      "outputs": []
    },
    {
      "cell_type": "code",
      "source": [
        "label2class ={ 1 :'benign', 2 :'malignant', 3:'non-nodule'}"
      ],
      "metadata": {
        "execution": {
          "iopub.status.busy": "2022-12-28T07:34:14.008660Z",
          "iopub.execute_input": "2022-12-28T07:34:14.009029Z",
          "iopub.status.idle": "2022-12-28T07:34:14.015408Z",
          "shell.execute_reply.started": "2022-12-28T07:34:14.008993Z",
          "shell.execute_reply": "2022-12-28T07:34:14.014488Z"
        },
        "trusted": true,
        "id": "2vRCCzg3Tmyj"
      },
      "execution_count": null,
      "outputs": []
    },
    {
      "cell_type": "code",
      "source": [
        "import seaborn as sns \n",
        "from sklearn.metrics import confusion_matrix, classification_report\n",
        "import pandas as pd\n",
        "\n",
        "y_pred = []\n",
        "y_true = []\n",
        "\n",
        "# iterate over test data\n",
        "for batch,(inputs, labels) in enumerate(testLoader):\n",
        "    \n",
        "    \n",
        "        inputs= inputs.to(device)\n",
        "        labels= labels.to(device)\n",
        "        output = model(inputs) # Feed Network\n",
        "\n",
        "        output = (torch.max(torch.exp(output), 1)[1]).data.cpu().numpy()\n",
        "        y_pred.extend(output) # Save Prediction\n",
        "        \n",
        "        labels = labels.data.cpu().numpy()\n",
        "        y_true.extend(labels) # Save Truth\n",
        "        \n",
        "        \n",
        "\n",
        "report = classification_report(y_true, y_pred)\n",
        "print(report)"
      ],
      "metadata": {
        "execution": {
          "iopub.status.busy": "2022-12-28T07:34:14.017073Z",
          "iopub.execute_input": "2022-12-28T07:34:14.017785Z",
          "iopub.status.idle": "2022-12-28T07:34:18.859857Z",
          "shell.execute_reply.started": "2022-12-28T07:34:14.017737Z",
          "shell.execute_reply": "2022-12-28T07:34:18.858540Z"
        },
        "trusted": true,
        "id": "JGS_5ynyTmyj",
        "outputId": "4f9a85a1-42c5-497c-8122-6296f93cda9e"
      },
      "execution_count": null,
      "outputs": [
        {
          "name": "stderr",
          "text": "/opt/conda/lib/python3.7/site-packages/torch/utils/data/dataloader.py:490: UserWarning: This DataLoader will create 4 worker processes in total. Our suggested max number of worker in current system is 2, which is smaller than what this DataLoader is going to create. Please be aware that excessive worker creation might get DataLoader running slow or even freeze, lower the worker number to avoid potential slowness/freeze if necessary.\n  cpuset_checked))\n",
          "output_type": "stream"
        },
        {
          "name": "stdout",
          "text": "              precision    recall  f1-score   support\n\n           0       0.28      0.24      0.25        34\n           1       0.56      0.50      0.53        66\n           2       0.60      0.74      0.66        50\n\n    accuracy                           0.52       150\n   macro avg       0.48      0.49      0.48       150\nweighted avg       0.51      0.52      0.51       150\n\n",
          "output_type": "stream"
        }
      ]
    },
    {
      "cell_type": "code",
      "source": [
        "nb_classes = 3\n",
        "confusion_matrix = np.zeros((nb_classes, nb_classes))\n",
        "with torch.no_grad():\n",
        "    for i, (inputs, classes) in enumerate(testLoader):\n",
        "        inputs = inputs.to(device)\n",
        "        classes = classes.to(device)\n",
        "        outputs = model(inputs)\n",
        "        _, preds = torch.max(outputs, 1)\n",
        "        for t, p in zip(classes.view(-1), preds.view(-1)):\n",
        "                confusion_matrix[t.long(), p.long()] += 1\n",
        "\n",
        "plt.figure(figsize=(12,7))\n",
        "\n",
        "class_names = list(label2class.values())\n",
        "df_cm = pd.DataFrame(confusion_matrix, index=class_names, columns=class_names).astype(int)\n",
        "heatmap = sns.heatmap(df_cm, annot=True, fmt=\"d\")\n",
        "\n",
        "heatmap.yaxis.set_ticklabels(heatmap.yaxis.get_ticklabels(), rotation=0, ha='right',fontsize=15)\n",
        "heatmap.xaxis.set_ticklabels(heatmap.xaxis.get_ticklabels(), rotation=45, ha='right',fontsize=15)\n",
        "plt.ylabel('True label')\n",
        "plt.xlabel('Predicted label')"
      ],
      "metadata": {
        "execution": {
          "iopub.status.busy": "2022-12-28T07:35:30.661455Z",
          "iopub.execute_input": "2022-12-28T07:35:30.661840Z",
          "iopub.status.idle": "2022-12-28T07:35:35.520179Z",
          "shell.execute_reply.started": "2022-12-28T07:35:30.661805Z",
          "shell.execute_reply": "2022-12-28T07:35:35.519139Z"
        },
        "trusted": true,
        "id": "76-OXkt_Tmyk",
        "outputId": "90cedde7-ff78-4302-f38a-ddf0d6038bca"
      },
      "execution_count": null,
      "outputs": [
        {
          "execution_count": 33,
          "output_type": "execute_result",
          "data": {
            "text/plain": "Text(0.5, 42.0, 'Predicted label')"
          },
          "metadata": {}
        },
        {
          "output_type": "display_data",
          "data": {
            "text/plain": "<Figure size 864x504 with 2 Axes>",
            "image/png": "[encoded data removed]"
          },
          "metadata": {
            "needs_background": "light"
          }
        }
      ]
    },
    {
      "cell_type": "code",
      "source": [],
      "metadata": {
        "id": "_v8cvpnfTmyk"
      },
      "execution_count": null,
      "outputs": []
    },
    {
      "cell_type": "code",
      "source": [],
      "metadata": {
        "id": "oAsBWNaJTmyk"
      },
      "execution_count": null,
      "outputs": []
    },
    {
      "cell_type": "code",
      "source": [],
      "metadata": {
        "id": "G_DXa3jWTmyk"
      },
      "execution_count": null,
      "outputs": []
    },
    {
      "cell_type": "code",
      "source": [],
      "metadata": {
        "id": "fQRw2wVDTmyk"
      },
      "execution_count": null,
      "outputs": []
    },
    {
      "cell_type": "code",
      "source": [],
      "metadata": {
        "id": "SuFNk6EATmyk"
      },
      "execution_count": null,
      "outputs": []
    },
    {
      "cell_type": "code",
      "source": [],
      "metadata": {
        "id": "qDvVRa04Tmyl"
      },
      "execution_count": null,
      "outputs": []
    }
  ]
}